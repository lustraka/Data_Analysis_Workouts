{
  "nbformat": 4,
  "nbformat_minor": 5,
  "metadata": {
    "kernelspec": {
      "display_name": "Python 3",
      "language": "python",
      "name": "python3"
    },
    "language_info": {
      "codemirror_mode": {
        "name": "ipython",
        "version": 3
      },
      "file_extension": ".py",
      "mimetype": "text/x-python",
      "name": "python",
      "nbconvert_exporter": "python",
      "pygments_lexer": "ipython3",
      "version": "3.7.11"
    },
    "colab": {
      "name": "Scrape_Google_Search.ipynb",
      "provenance": [],
      "include_colab_link": true
    }
  },
  "cells": [
    {
      "cell_type": "markdown",
      "metadata": {
        "id": "view-in-github",
        "colab_type": "text"
      },
      "source": [
        "<a href=\"https://colab.research.google.com/github/lustraka/Data_Analysis_Workouts/blob/main/Wrangle_Data/Scrape_Google_Search.ipynb\" target=\"_parent\"><img src=\"https://colab.research.google.com/assets/colab-badge.svg\" alt=\"Open In Colab\"/></a>"
      ]
    },
    {
      "cell_type": "code",
      "metadata": {
        "id": "87h-gyLDNR0C"
      },
      "source": [
        "# Import dependencies\n",
        "import requests\n",
        "from bs4 import BeautifulSoup\n",
        "import pandas as pd"
      ],
      "id": "87h-gyLDNR0C",
      "execution_count": 1,
      "outputs": []
    },
    {
      "cell_type": "code",
      "metadata": {
        "id": "_pFQ_dMJNUq6"
      },
      "source": [
        "url_list = [\n",
        "            'https://www.google.com/search?q=data+analytics+portfolio+projects&rlz=1C1GCEA_enCZ869CZ869&oq=data+analytics+portfolio+projects&aqs=chrome..69i57.8087j0j7&sourceid=chrome&ie=UTF-8',\n",
        "            'https://www.google.com/search?q=data+analytics+portfolio+projects&rlz=1C1GCEA_enCZ869CZ869&sxsrf=AOaemvJ_BxdAnyCZH4UPSo6LCNmgSxa3FA:1636464844916&ei=zHiKYaGXN7-H9u8Pv_uQsA4&start=10&sa=N&ved=2ahUKEwihrZLOsov0AhW_g_0HHb89BOYQ8tMDegQIARA5',\n",
        "]"
      ],
      "id": "_pFQ_dMJNUq6",
      "execution_count": 2,
      "outputs": []
    },
    {
      "cell_type": "code",
      "metadata": {
        "id": "HPlJzZySNnXx"
      },
      "source": [
        "page = requests.get(url_list[0])\n",
        "soup = BeautifulSoup(page.content, 'html.parser')"
      ],
      "id": "HPlJzZySNnXx",
      "execution_count": 3,
      "outputs": []
    },
    {
      "cell_type": "code",
      "metadata": {
        "id": "UtfR2dKpN_-Q",
        "outputId": "a509cbb4-fd51-4d02-988d-d4e4aad826dc",
        "colab": {
          "base_uri": "https://localhost:8080/"
        }
      },
      "source": [
        "soup.find_all('a')"
      ],
      "id": "UtfR2dKpN_-Q",
      "execution_count": 6,
      "outputs": [
        {
          "output_type": "execute_result",
          "data": {
            "text/plain": [
              "[<a href=\"/?sa=X&amp;ved=0ahUKEwjawpSWxov0AhXjK30KHYbBBdAQOwgC\"><span class=\"V6gwVd\">G</span><span class=\"iWkuvd\">o</span><span class=\"cDrQ7\">o</span><span class=\"V6gwVd\">g</span><span class=\"ntlR9\">l</span><span class=\"iWkuvd tJ3Myc\">e</span></a>,\n",
              " <a class=\"l\" href=\"/?rlz=1C1GCEA_enCZ869CZ869&amp;output=search&amp;ie=UTF-8&amp;sa=X&amp;ved=0ahUKEwjawpSWxov0AhXjK30KHYbBBdAQPAgE\"><span class=\"V6gwVd\">G</span><span class=\"iWkuvd\">o</span><span class=\"cDrQ7\">o</span><span class=\"V6gwVd\">g</span><span class=\"ntlR9\">l</span><span class=\"iWkuvd tJ3Myc\">e</span></a>,\n",
              " <a href=\"/search?q=data+analytics+portfolio+projects&amp;rlz=1C1GCEA_enCZ869CZ869&amp;ie=UTF-8&amp;gbv=1&amp;sei=UI2KYdraDOPX9AOGg5eADQ\">here</a>,\n",
              " <a class=\"eZt8xd\" href=\"/search?q=data+analytics+portfolio+projects&amp;rlz=1C1GCEA_enCZ869CZ869&amp;ie=UTF-8&amp;source=lnms&amp;tbm=isch&amp;sa=X&amp;ved=0ahUKEwjawpSWxov0AhXjK30KHYbBBdAQ_AUICCgB\">Images</a>,\n",
              " <a class=\"eZt8xd\" href=\"/search?q=data+analytics+portfolio+projects&amp;rlz=1C1GCEA_enCZ869CZ869&amp;ie=UTF-8&amp;source=lnms&amp;tbm=nws&amp;sa=X&amp;ved=0ahUKEwjawpSWxov0AhXjK30KHYbBBdAQ_AUICSgC\">News</a>,\n",
              " <a class=\"eZt8xd\" href=\"/search?q=data+analytics+portfolio+projects&amp;rlz=1C1GCEA_enCZ869CZ869&amp;ie=UTF-8&amp;source=lnms&amp;tbm=vid&amp;sa=X&amp;ved=0ahUKEwjawpSWxov0AhXjK30KHYbBBdAQ_AUICigD\">Videos</a>,\n",
              " <a href=\"https://maps.google.com/maps?q=data+analytics+portfolio+projects&amp;rlz=1C1GCEA_enCZ869CZ869&amp;um=1&amp;ie=UTF-8&amp;sa=X&amp;ved=0ahUKEwjawpSWxov0AhXjK30KHYbBBdAQ_AUICygE\">Maps</a>,\n",
              " <a href=\"/search?q=data+analytics+portfolio+projects&amp;rlz=1C1GCEA_enCZ869CZ869&amp;ie=UTF-8&amp;source=lnms&amp;tbm=shop&amp;sa=X&amp;ved=0ahUKEwjawpSWxov0AhXjK30KHYbBBdAQ_AUIDCgF\">Shopping</a>,\n",
              " <a href=\"/search?q=data+analytics+portfolio+projects&amp;rlz=1C1GCEA_enCZ869CZ869&amp;ie=UTF-8&amp;source=lnms&amp;tbm=bks&amp;sa=X&amp;ved=0ahUKEwjawpSWxov0AhXjK30KHYbBBdAQ_AUIDSgG\">Books</a>,\n",
              " <a href=\"/advanced_search\" id=\"st-toggle\" role=\"button\" style=\"white-space:nowrap\">Search tools</a>,\n",
              " <a href=\"/search?q=data+analytics+portfolio+projects&amp;rlz=1C1GCEA_enCZ869CZ869&amp;ie=UTF-8&amp;source=lnt&amp;tbs=qdr:h&amp;sa=X&amp;ved=0ahUKEwjawpSWxov0AhXjK30KHYbBBdAQpwUIDw\">Past hour</a>,\n",
              " <a href=\"/search?q=data+analytics+portfolio+projects&amp;rlz=1C1GCEA_enCZ869CZ869&amp;ie=UTF-8&amp;source=lnt&amp;tbs=qdr:d&amp;sa=X&amp;ved=0ahUKEwjawpSWxov0AhXjK30KHYbBBdAQpwUIEA\">Past 24 hours</a>,\n",
              " <a href=\"/search?q=data+analytics+portfolio+projects&amp;rlz=1C1GCEA_enCZ869CZ869&amp;ie=UTF-8&amp;source=lnt&amp;tbs=qdr:w&amp;sa=X&amp;ved=0ahUKEwjawpSWxov0AhXjK30KHYbBBdAQpwUIEQ\">Past week</a>,\n",
              " <a href=\"/search?q=data+analytics+portfolio+projects&amp;rlz=1C1GCEA_enCZ869CZ869&amp;ie=UTF-8&amp;source=lnt&amp;tbs=qdr:m&amp;sa=X&amp;ved=0ahUKEwjawpSWxov0AhXjK30KHYbBBdAQpwUIEg\">Past month</a>,\n",
              " <a href=\"/search?q=data+analytics+portfolio+projects&amp;rlz=1C1GCEA_enCZ869CZ869&amp;ie=UTF-8&amp;source=lnt&amp;tbs=qdr:y&amp;sa=X&amp;ved=0ahUKEwjawpSWxov0AhXjK30KHYbBBdAQpwUIEw\">Past year</a>,\n",
              " <a href=\"/search?q=data+analytics+portfolio+projects&amp;rlz=1C1GCEA_enCZ869CZ869&amp;ie=UTF-8&amp;source=lnt&amp;tbs=li:1&amp;sa=X&amp;ved=0ahUKEwjawpSWxov0AhXjK30KHYbBBdAQpwUIFQ\">Verbatim</a>,\n",
              " <a href=\"/url?q=https://careerfoundry.com/en/blog/data-analytics/data-analytics-portfolio-examples/&amp;sa=U&amp;ved=2ahUKEwjawpSWxov0AhXjK30KHYbBBdAQFnoECAkQAg&amp;usg=AOvVaw2R-Vca2awLQ1DFNAhEZCcl\"><h3 class=\"zBAuLc l97dzf\"><div class=\"BNeawe vvjwJb AP7Wnd\">9 Data Analytics Portfolio Examples [2021 Edition] - CareerFoundry</div></h3><div class=\"BNeawe UPmit AP7Wnd\">careerfoundry.com › blog › data-analytics-portfolio-examples</div></a>,\n",
              " <a href=\"/url?q=https://careerfoundry.com/en/blog/data-analytics/data-analytics-portfolio-examples/%23claudia-ten-hoope&amp;sa=U&amp;ved=2ahUKEwjawpSWxov0AhXjK30KHYbBBdAQ0gJ6BAgJEAU&amp;usg=AOvVaw3Vf37DgvznZ4uhOuSmv8ci\"><span class=\"XLloXe AP7Wnd\">Claudia ten Hoope</span></a>,\n",
              " <a href=\"/url?q=https://careerfoundry.com/en/blog/data-analytics/data-analytics-portfolio-examples/%23naledi-hollbruegge&amp;sa=U&amp;ved=2ahUKEwjawpSWxov0AhXjK30KHYbBBdAQ0gJ6BAgJEAY&amp;usg=AOvVaw21IeS93kTS0ImCYnWJ-c2V\"><span class=\"XLloXe AP7Wnd\">Naledi Hollbruegge</span></a>,\n",
              " <a href=\"/url?q=https://careerfoundry.com/en/blog/data-analytics/data-analytics-portfolio-examples/%23tim-hopper&amp;sa=U&amp;ved=2ahUKEwjawpSWxov0AhXjK30KHYbBBdAQ0gJ6BAgJEAc&amp;usg=AOvVaw0AlUzTRpdqnotIrC2alGyf\"><span class=\"XLloXe AP7Wnd\">Tim Hopper</span></a>,\n",
              " <a href=\"/url?q=https://careerfoundry.com/en/blog/data-analytics/data-analytics-portfolio-examples/%23james-le&amp;sa=U&amp;ved=2ahUKEwjawpSWxov0AhXjK30KHYbBBdAQ0gJ6BAgJEAg&amp;usg=AOvVaw11DaXUPDPXdJuQxLbmHgbE\"><span class=\"XLloXe AP7Wnd\">James Le</span></a>,\n",
              " <a href=\"/url?q=https://careerfoundry.com/en/blog/data-analytics/data-analyst-portfolio/&amp;sa=U&amp;ved=2ahUKEwjawpSWxov0AhXjK30KHYbBBdAQFnoECAcQAg&amp;usg=AOvVaw1anbKL5Ml5nWGcagu3b2Fh\"><h3 class=\"zBAuLc l97dzf\"><div class=\"BNeawe vvjwJb AP7Wnd\">How To Build A Data Analytics Portfolio [Complete Guide]</div></h3><div class=\"BNeawe UPmit AP7Wnd\">careerfoundry.com › blog › data-analytics › data-analyst-portfolio</div></a>,\n",
              " <a href=\"/url?q=https://careerfoundry.com/en/blog/data-analytics/data-analyst-portfolio/%23what-is-a-data-analytics-portfolio-and-why-is-it-important&amp;sa=U&amp;ved=2ahUKEwjawpSWxov0AhXjK30KHYbBBdAQ0gJ6BAgHEAQ&amp;usg=AOvVaw1H0VpCz9u0V46b87r0gp5X\"><span class=\"XLloXe AP7Wnd\">What is a data analytics ...</span></a>,\n",
              " <a href=\"/url?q=https://careerfoundry.com/en/blog/data-analytics/data-analyst-portfolio/%23what-should-you-include-in-your-data-analytics-portfolio&amp;sa=U&amp;ved=2ahUKEwjawpSWxov0AhXjK30KHYbBBdAQ0gJ6BAgHEAU&amp;usg=AOvVaw0RHMtgoGhFMKfeMi1Stf7y\"><span class=\"XLloXe AP7Wnd\">What should you include in ...</span></a>,\n",
              " <a href=\"/url?q=https://careerfoundry.com/en/blog/data-analytics/data-analyst-portfolio/%23what-should-your-data-analytics-portfolio-demonstrate&amp;sa=U&amp;ved=2ahUKEwjawpSWxov0AhXjK30KHYbBBdAQ0gJ6BAgHEAY&amp;usg=AOvVaw2R9sWEM6OmpAKwz-W-XUtF\"><span class=\"XLloXe AP7Wnd\">What should your data ...</span></a>,\n",
              " <a href=\"/url?q=https://www.coursera.org/articles/how-to-build-a-data-analyst-portfolio&amp;sa=U&amp;ved=2ahUKEwjawpSWxov0AhXjK30KHYbBBdAQFnoECAsQAg&amp;usg=AOvVaw3w_vC9vSccxfTmH4-whc3g\"><h3 class=\"zBAuLc l97dzf\"><div class=\"BNeawe vvjwJb AP7Wnd\">How to Build a Data Analyst Portfolio: Tips for Success | Coursera</div></h3><div class=\"BNeawe UPmit AP7Wnd\">www.coursera.org › articles › how-to-build-a-data-analyst-portfolio</div></a>,\n",
              " <a href=\"/url?q=https://www.springboard.com/blog/data-analytics/data-analyst-portfolio/&amp;sa=U&amp;ved=2ahUKEwjawpSWxov0AhXjK30KHYbBBdAQFnoECAoQAg&amp;usg=AOvVaw0VWTB9Em2tR2xvP0MhtYY8\"><h3 class=\"zBAuLc l97dzf\"><div class=\"BNeawe vvjwJb AP7Wnd\">How to Build an Impressive Data Analytics Portfolio | Springboard Blog</div></h3><div class=\"BNeawe UPmit AP7Wnd\">www.springboard.com › Home › Data Analytics</div></a>,\n",
              " <a href=\"/url?q=https://www.youtube.com/watch%3Fv%3DqfyynHBFOsM&amp;sa=U&amp;ved=2ahUKEwjawpSWxov0AhXjK30KHYbBBdAQtwJ6BAgAEAE&amp;usg=AOvVaw1vSPTUVuhdDR3Q4d3uSytp\"><h3 class=\"zBAuLc l97dzf\"><div class=\"BNeawe vvjwJb AP7Wnd\">Data Analyst Portfolio Project | SQL Data Exploration | Project 1/4</div></h3><div class=\"BNeawe UPmit AP7Wnd\">www.youtube.com › watch</div></a>,\n",
              " <a href=\"/url?q=https://www.youtube.com/watch%3Fv%3DqfyynHBFOsM&amp;sa=U&amp;ved=2ahUKEwjawpSWxov0AhXjK30KHYbBBdAQuAJ6BAgAEAI&amp;usg=AOvVaw3hHThNWnrddqyM0NdugwIF\"><div class=\"lcJF1d SXn0g GXKcHe p1CInd\"><div style=\"width:120px;height:67px;position:static\"><img alt=\"Video for data analytics portfolio projects\" class=\"EYOsld\" data-deferred=\"1\" id=\"dimg_2\" src=\"data:image/gif;base64,R0lGODlhAQABAIAAAP///////yH5BAEKAAEALAAAAAABAAEAAAICTAEAOw==\" style=\"width:120px;height:67px\"/></div><div class=\"qW7zYd HMoqlc\"></div><div class=\"qW7zYd X8r0X\" style=\"background-size:36px\"></div></div></a>,\n",
              " <a href=\"/url?q=https://www.youtube.com/watch%3Fv%3DtW89_4psTWg&amp;sa=U&amp;ved=2ahUKEwjawpSWxov0AhXjK30KHYbBBdAQtwJ6BAgBEAE&amp;usg=AOvVaw3ZXZ_nzFW3aQFdr8ALwqa5\"><h3 class=\"zBAuLc l97dzf\"><div class=\"BNeawe vvjwJb AP7Wnd\">Data Analyst Portfolio | Include THESE Projects! - YouTube</div></h3><div class=\"BNeawe UPmit AP7Wnd\">www.youtube.com › watch</div></a>,\n",
              " <a href=\"/url?q=https://www.youtube.com/watch%3Fv%3DtW89_4psTWg&amp;sa=U&amp;ved=2ahUKEwjawpSWxov0AhXjK30KHYbBBdAQuAJ6BAgBEAI&amp;usg=AOvVaw3vEBcQPBHCp2y_5p2NgtNY\"><div class=\"lcJF1d SXn0g GXKcHe p1CInd\"><div style=\"width:120px;height:67px;position:static\"><img alt=\"Video for data analytics portfolio projects\" class=\"EYOsld\" data-deferred=\"1\" id=\"dimg_1\" src=\"data:image/gif;base64,R0lGODlhAQABAIAAAP///////yH5BAEKAAEALAAAAAABAAEAAAICTAEAOw==\" style=\"width:120px;height:67px\"/></div><div class=\"qW7zYd HMoqlc\"></div><div class=\"qW7zYd X8r0X\" style=\"background-size:36px\"></div></div></a>,\n",
              " <a href=\"/url?q=https://www.codecademy.com/resources/blog/data-analyst-portfolio/&amp;sa=U&amp;ved=2ahUKEwjawpSWxov0AhXjK30KHYbBBdAQFnoECAMQAg&amp;usg=AOvVaw2iq-MyVRRBpVMoJ7t4o6Em\"><h3 class=\"zBAuLc l97dzf\"><div class=\"BNeawe vvjwJb AP7Wnd\">Guide to building a data analyst portfolio - Codecademy</div></h3><div class=\"BNeawe UPmit AP7Wnd\">www.codecademy.com › resources › blog › data-analyst-portfolio</div></a>,\n",
              " <a href=\"/url?q=https://www.stratascratch.com/blog/data-analytics-project-ideas-that-will-get-you-the-job/&amp;sa=U&amp;ved=2ahUKEwjawpSWxov0AhXjK30KHYbBBdAQFnoECAQQAg&amp;usg=AOvVaw3mu-Lx5vXIuBZOW0jBiHhz\"><h3 class=\"zBAuLc l97dzf\"><div class=\"BNeawe vvjwJb AP7Wnd\">Data Analytics Project Ideas That Will Get You The Job | StrataScratch</div></h3><div class=\"BNeawe UPmit AP7Wnd\">www.stratascratch.com › blog › data-analytics-project-ideas-that-will-get-y...</div></a>,\n",
              " <a href=\"/url?q=https://www.dataquest.io/blog/build-a-data-science-portfolio/&amp;sa=U&amp;ved=2ahUKEwjawpSWxov0AhXjK30KHYbBBdAQFnoECAgQAg&amp;usg=AOvVaw3ZNLirm9UJCwaFVysdtgkW\"><h3 class=\"zBAuLc l97dzf\"><div class=\"BNeawe vvjwJb AP7Wnd\">Data Science Portfolios That Will Get You the Job - Dataquest</div></h3><div class=\"BNeawe UPmit AP7Wnd\">www.dataquest.io › Blog</div></a>,\n",
              " <a href=\"/url?q=https://www.kdnuggets.com/2019/04/projects-include-data-science-portfolio.html&amp;sa=U&amp;ved=2ahUKEwjawpSWxov0AhXjK30KHYbBBdAQFnoECAIQAg&amp;usg=AOvVaw3Z_DkDQP0se3GRM0XUEldm\"><h3 class=\"zBAuLc l97dzf\"><div class=\"BNeawe vvjwJb AP7Wnd\">Projects to Include in a Data Science Portfolio - KDnuggets</div></h3><div class=\"BNeawe UPmit AP7Wnd\">www.kdnuggets.com › 2019/04 › projects-include-data-science-portfolio</div></a>,\n",
              " <a class=\"BVG0Nb\" href=\"/search?rlz=1C1GCEA_enCZ869CZ869&amp;ie=UTF-8&amp;q=Data+analysis&amp;stick=H4sIAAAAAAAAAOOQUeLUz9U3MK-qNKk04k_KTFdISSxJVCjOzszJKY5SBHMS8xJzKksyk4sVCvKLStLyczLzFQqK8rNSk0uKTzEi9J9i5AKxs0qM4wuNoRKGGZUZ8VAJk7SqItMUqISpcXl81SlGDhA7KacsHSpslJ6cZ_mLkd8J1SUNLIyLWHld4K4pziy-xSbJcGMml6n0GwMp807Pv2xf_i3w9QsUs0351g8A5OIJZtcAAAA&amp;sa=X&amp;ved=2ahUKEwjawpSWxov0AhXjK30KHYbBBdAQs9oBegQIBhAF\"><div><div style=\"width:112px\"><div class=\"S7Jdze\" style=\"width:112px;height:112px\"><img alt=\"\" class=\"EYOsld\" data-deferred=\"1\" id=\"dimg_14\" src=\"data:image/gif;base64,R0lGODlhAQABAIAAAP///////yH5BAEKAAEALAAAAAABAAEAAAICTAEAOw==\" style=\"max-width:112px;max-height:112px\"/></div><div class=\"RWuggc kCrYT\"><div><div class=\"BNeawe s3v9rd AP7Wnd\">Data analysis</div></div></div></div></div></a>,\n",
              " <a class=\"BVG0Nb\" href=\"/search?rlz=1C1GCEA_enCZ869CZ869&amp;ie=UTF-8&amp;q=Data+science&amp;stick=H4sIAAAAAAAAAOOQUeLSz9U3yCoxji80NuJPykxXSEksSVQozs7MySmOUgRzEvMScypLMpOLFQryi0rS8nMy8xUKivKzUpNLik8xcoIMMK-qNKk8xYhkGFTCMKMyIx4qYZJWVWSaApUwNS6PrzrFyAFiJ-WUpUOFjdKT8yx_MfI7obqkgYVxESuPC1ggOTM1Lzn1Fpskw42ZXKbSbwykzDs9_7J9-bfA1y9QzDblWz8AhVKYdtcAAAA&amp;sa=X&amp;ved=2ahUKEwjawpSWxov0AhXjK30KHYbBBdAQs9oBegQIBhAG\"><div><div style=\"width:112px\"><div class=\"S7Jdze\" style=\"width:112px;height:112px\"><img alt=\"\" class=\"EYOsld\" data-deferred=\"1\" id=\"dimg_16\" src=\"data:image/gif;base64,R0lGODlhAQABAIAAAP///////yH5BAEKAAEALAAAAAABAAEAAAICTAEAOw==\" style=\"max-width:112px;max-height:112px\"/></div><div class=\"RWuggc kCrYT\"><div><div class=\"BNeawe s3v9rd AP7Wnd\">Data science</div></div></div></div></div></a>,\n",
              " <a class=\"BVG0Nb\" href=\"/search?rlz=1C1GCEA_enCZ869CZ869&amp;ie=UTF-8&amp;q=Machine+learning&amp;stick=H4sIAAAAAAAAAOOQUeLUz9U3MMyozIg34k_KTFdISSxJVCjOzszJKY5SBHMS8xJzKksyk4sVCvKLStLyczLzFQqK8rNSk0uKTzGC9ZtXVZpUnmLkArGzSozjC42hEmCDoRImaVVFpilQCVPj8viqU4wcIHZSTlk6VNgoPTnP8hcjvxOqSxpYGBexCvgmJmdk5qUq5KQmFuVl5qXfYpNkuDGTy1T6jYGUeafnX7Yv_xb4-gWK2aZ86wcAdQSXUtoAAAA&amp;sa=X&amp;ved=2ahUKEwjawpSWxov0AhXjK30KHYbBBdAQs9oBegQIBhAH\"><div><div style=\"width:112px\"><div class=\"S7Jdze\" style=\"width:112px;height:112px\"><img alt=\"\" class=\"EYOsld\" data-deferred=\"1\" id=\"dimg_18\" src=\"data:image/gif;base64,R0lGODlhAQABAIAAAP///////yH5BAEKAAEALAAAAAABAAEAAAICTAEAOw==\" style=\"max-width:112px;max-height:112px\"/></div><div class=\"RWuggc kCrYT\"><div><div class=\"BNeawe s3v9rd AP7Wnd\">Machine learning</div></div></div></div></div></a>,\n",
              " <a class=\"BVG0Nb\" href=\"/search?rlz=1C1GCEA_enCZ869CZ869&amp;ie=UTF-8&amp;q=Data+visualization&amp;stick=H4sIAAAAAAAAAOOQUeLSz9U3MEmrKjJNMeJPykxXSEksSVQozs7MySmOUgRzEvMScypLMpOLFQryi0rS8nMy8xUKivKzUpNLik8xcoIMMK-qNKk8xQg2LKvEOL7QGCphmFGZEQ-VgNgClTA1Lo-vOsXIAWIn5ZSlQ4WN0pPzLH8x8juhuqSBhXERq5ALSKAss7g0MSezKrEkMz_vFpskw42ZXKbSbwykzDs9_7J9-bfA1y9QzDblWz8AMoZ5WN0AAAA&amp;sa=X&amp;ved=2ahUKEwjawpSWxov0AhXjK30KHYbBBdAQs9oBegQIBhAI\"><div><div style=\"width:112px\"><div class=\"S7Jdze\" style=\"width:112px;height:112px\"><img alt=\"\" class=\"EYOsld\" data-deferred=\"1\" id=\"dimg_21\" src=\"data:image/gif;base64,R0lGODlhAQABAIAAAP///////yH5BAEKAAEALAAAAAABAAEAAAICTAEAOw==\" style=\"max-width:112px;max-height:112px\"/></div><div class=\"RWuggc kCrYT\"><div><div class=\"BNeawe s3v9rd AP7Wnd\">Data visualizati...</div></div></div></div></div></a>,\n",
              " <a class=\"qN9Ked\" href=\"/search?rlz=1C1GCEA_enCZ869CZ869&amp;ie=UTF-8&amp;q=Big+data+skills&amp;stick=H4sIAAAAAAAAAOOQMeJPykxXSEksSVQozs7MySmOUgRzEvMScypLMpOLFQryi0rS8nMy8xUKivKzUpNLik8xcurn6huYV1WaVJ5i5AKxs0qM4wuNoRKGGZUZ8VAJk7SqItMUqISpcXl81SlGDhA7KacsHSpslJ6cZ_mLkd8J1SUNLIyLWNEFb7FJMtyYyWUq_cZAyrzT8y_bl38LfP0CxWxTvvUDAJ0hnqHOAAAA&amp;sa=X&amp;ved=2ahUKEwjawpSWxov0AhXjK30KHYbBBdAQzO0BegQIBhAJ\"><button class=\"DXk5Me Qi9Fd\" tabindex=\"-1\"><span class=\"hWHuJ\"><img alt=\"\" class=\"Dk7jOe\" data-deferred=\"1\" id=\"dimg_25\" src=\"data:image/gif;base64,R0lGODlhAQABAIAAAP///////yH5BAEKAAEALAAAAAABAAEAAAICTAEAOw==\" style=\"max-width:24px;max-height:24px\"/></span></button><div class=\"BNeawe ji5jpf tAd8D AP7Wnd\">More results</div></a>,\n",
              " <a class=\"f4J0H MHODM\" href=\"/search?rlz=1C1GCEA_enCZ869CZ869&amp;ie=UTF-8&amp;q=Big+data+skills&amp;sa=X&amp;ved=2ahUKEwjawpSWxov0AhXjK30KHYbBBdAQ4qYDegQIBhAK\">Big data skills</a>,\n",
              " <a class=\"Q71vJc\" href=\"/search?rlz=1C1GCEA_enCZ869CZ869&amp;ie=UTF-8&amp;q=Data+analyst+portfolio+PDF&amp;sa=X&amp;ved=2ahUKEwjawpSWxov0AhXjK30KHYbBBdAQ1QJ6BAgGEAw\"><accordion-entry-search-icon><span class=\"ieB2Dd WqQeqc LsF2v\"><span></span></span></accordion-entry-search-icon><div class=\"kjGX2\"><span><div class=\"BNeawe s3v9rd AP7Wnd lRVwie\">Data analyst portfolio PDF</div></span></div></a>,\n",
              " <a class=\"Q71vJc\" href=\"/search?rlz=1C1GCEA_enCZ869CZ869&amp;ie=UTF-8&amp;q=entry-level+data+analyst+portfolio&amp;sa=X&amp;ved=2ahUKEwjawpSWxov0AhXjK30KHYbBBdAQ1QJ6BAgGEA4\"><accordion-entry-search-icon><span class=\"ieB2Dd WqQeqc LsF2v\"><span></span></span></accordion-entry-search-icon><div class=\"kjGX2\"><span><div class=\"BNeawe s3v9rd AP7Wnd lRVwie\">entry-level data analyst portfolio</div></span></div></a>,\n",
              " <a class=\"Q71vJc\" href=\"/search?rlz=1C1GCEA_enCZ869CZ869&amp;ie=UTF-8&amp;q=Data+analyst+portfolio+reddit&amp;sa=X&amp;ved=2ahUKEwjawpSWxov0AhXjK30KHYbBBdAQ1QJ6BAgGEBA\"><accordion-entry-search-icon><span class=\"ieB2Dd WqQeqc LsF2v\"><span></span></span></accordion-entry-search-icon><div class=\"kjGX2\"><span><div class=\"BNeawe s3v9rd AP7Wnd lRVwie\">Data analyst portfolio reddit</div></span></div></a>,\n",
              " <a class=\"Q71vJc\" href=\"/search?rlz=1C1GCEA_enCZ869CZ869&amp;ie=UTF-8&amp;q=SQL+projects+for+portfolio&amp;sa=X&amp;ved=2ahUKEwjawpSWxov0AhXjK30KHYbBBdAQ1QJ6BAgGEBI\"><accordion-entry-search-icon><span class=\"ieB2Dd WqQeqc LsF2v\"><span></span></span></accordion-entry-search-icon><div class=\"kjGX2\"><span><div class=\"BNeawe s3v9rd AP7Wnd lRVwie\">SQL projects for portfolio</div></span></div></a>,\n",
              " <a class=\"Q71vJc\" href=\"/search?rlz=1C1GCEA_enCZ869CZ869&amp;ie=UTF-8&amp;q=Data+analytics+projects&amp;sa=X&amp;ved=2ahUKEwjawpSWxov0AhXjK30KHYbBBdAQ1QJ6BAgGEBQ\"><accordion-entry-search-icon><span class=\"ieB2Dd WqQeqc LsF2v\"><span></span></span></accordion-entry-search-icon><div class=\"kjGX2\"><span><div class=\"BNeawe s3v9rd AP7Wnd lRVwie\">Data analytics projects</div></span></div></a>,\n",
              " <a class=\"Q71vJc\" href=\"/search?rlz=1C1GCEA_enCZ869CZ869&amp;ie=UTF-8&amp;q=Data+analysis+projects+GitHub&amp;sa=X&amp;ved=2ahUKEwjawpSWxov0AhXjK30KHYbBBdAQ1QJ6BAgGEBY\"><accordion-entry-search-icon><span class=\"ieB2Dd WqQeqc LsF2v\"><span></span></span></accordion-entry-search-icon><div class=\"kjGX2\"><span><div class=\"BNeawe s3v9rd AP7Wnd lRVwie\">Data analysis projects GitHub</div></span></div></a>,\n",
              " <a class=\"Q71vJc\" href=\"/search?rlz=1C1GCEA_enCZ869CZ869&amp;ie=UTF-8&amp;q=Data+analyst+projects+for+resume+GitHub&amp;sa=X&amp;ved=2ahUKEwjawpSWxov0AhXjK30KHYbBBdAQ1QJ6BAgGEBg\"><accordion-entry-search-icon><span class=\"ieB2Dd WqQeqc LsF2v\"><span></span></span></accordion-entry-search-icon><div class=\"kjGX2\"><span><div class=\"BNeawe s3v9rd AP7Wnd lRVwie\">Data analyst projects for resume GitHub</div></span></div></a>,\n",
              " <a class=\"Q71vJc\" href=\"/search?rlz=1C1GCEA_enCZ869CZ869&amp;ie=UTF-8&amp;q=Data+science+portfolio+PDF&amp;sa=X&amp;ved=2ahUKEwjawpSWxov0AhXjK30KHYbBBdAQ1QJ6BAgGEBo\"><accordion-entry-search-icon><span class=\"ieB2Dd WqQeqc LsF2v\"><span></span></span></accordion-entry-search-icon><div class=\"kjGX2\"><span><div class=\"BNeawe s3v9rd AP7Wnd lRVwie\">Data science portfolio PDF</div></span></div></a>,\n",
              " <a aria-label=\"Next page\" class=\"nBDE1b G5eFlf\" href=\"/search?q=data+analytics+portfolio+projects&amp;rlz=1C1GCEA_enCZ869CZ869&amp;ie=UTF-8&amp;ei=UI2KYdraDOPX9AOGg5eADQ&amp;start=10&amp;sa=N\">Next &gt;</a>,\n",
              " <a href=\"/url?q=https://support.google.com/websearch%3Fp%3Dws_settings_location%26hl%3Den&amp;sa=U&amp;ved=0ahUKEwjawpSWxov0AhXjK30KHYbBBdAQty4IiQE&amp;usg=AOvVaw26lu_TqftLVIy5U_W3bDq2\">Learn more</a>,\n",
              " <a href=\"/url?q=https://accounts.google.com/ServiceLogin%3Fcontinue%3Dhttps://www.google.com/search%253Fq%253Ddata%252Banalytics%252Bportfolio%252Bprojects%2526rlz%253D1C1GCEA_enCZ869CZ869%2526oq%253Ddata%252Banalytics%252Bportfolio%252Bprojects%2526aqs%253Dchrome..69i57.8087j0j7%2526sourceid%253Dchrome%2526ie%253DUTF-8%26hl%3Den&amp;sa=U&amp;ved=0ahUKEwjawpSWxov0AhXjK30KHYbBBdAQxs8CCIoB&amp;usg=AOvVaw3eTNuMAawWH2-i7eD3D14P\">Sign in</a>,\n",
              " <a class=\"xeDNfc\" href=\"https://www.google.com/preferences?hl=en&amp;fg=1&amp;sa=X&amp;ved=0ahUKEwjawpSWxov0AhXjK30KHYbBBdAQ5fUCCIsB\">Settings</a>,\n",
              " <a class=\"xeDNfc\" href=\"https://policies.google.com/privacy?hl=en&amp;fg=1\">Privacy</a>,\n",
              " <a class=\"xeDNfc\" href=\"https://policies.google.com/terms?hl=en&amp;fg=1\">Terms</a>]"
            ]
          },
          "metadata": {},
          "execution_count": 6
        }
      ]
    },
    {
      "cell_type": "code",
      "metadata": {
        "id": "A-wGsDh3OCII",
        "outputId": "3338f629-368d-4c31-e2f2-c1b899c1f291",
        "colab": {
          "base_uri": "https://localhost:8080/"
        }
      },
      "source": [
        "soup.find_all('h3')"
      ],
      "id": "A-wGsDh3OCII",
      "execution_count": 8,
      "outputs": [
        {
          "output_type": "execute_result",
          "data": {
            "text/plain": [
              "[<h3 class=\"zBAuLc l97dzf\"><div class=\"BNeawe vvjwJb AP7Wnd\">9 Data Analytics Portfolio Examples [2021 Edition] - CareerFoundry</div></h3>,\n",
              " <h3 class=\"zBAuLc l97dzf\"><div class=\"BNeawe vvjwJb AP7Wnd\">How To Build A Data Analytics Portfolio [Complete Guide]</div></h3>,\n",
              " <h3 class=\"zBAuLc l97dzf\"><div class=\"BNeawe vvjwJb AP7Wnd\">How to Build a Data Analyst Portfolio: Tips for Success | Coursera</div></h3>,\n",
              " <h3 class=\"zBAuLc l97dzf\"><div class=\"BNeawe vvjwJb AP7Wnd\">How to Build an Impressive Data Analytics Portfolio | Springboard Blog</div></h3>,\n",
              " <h3 class=\"zBAuLc l97dzf\"><div class=\"BNeawe vvjwJb AP7Wnd\">Data Analyst Portfolio Project | SQL Data Exploration | Project 1/4</div></h3>,\n",
              " <h3 class=\"zBAuLc l97dzf\"><div class=\"BNeawe vvjwJb AP7Wnd\">Data Analyst Portfolio | Include THESE Projects! - YouTube</div></h3>,\n",
              " <h3 class=\"zBAuLc l97dzf\"><div class=\"BNeawe vvjwJb AP7Wnd\">Guide to building a data analyst portfolio - Codecademy</div></h3>,\n",
              " <h3 class=\"zBAuLc l97dzf\"><div class=\"BNeawe vvjwJb AP7Wnd\">Data Analytics Project Ideas That Will Get You The Job | StrataScratch</div></h3>,\n",
              " <h3 class=\"zBAuLc l97dzf\"><div class=\"BNeawe vvjwJb AP7Wnd\">Data Science Portfolios That Will Get You the Job - Dataquest</div></h3>,\n",
              " <h3 class=\"zBAuLc l97dzf\"><div class=\"BNeawe vvjwJb AP7Wnd\">Projects to Include in a Data Science Portfolio - KDnuggets</div></h3>]"
            ]
          },
          "metadata": {},
          "execution_count": 8
        }
      ]
    },
    {
      "cell_type": "code",
      "metadata": {
        "id": "VKHRILRQOpCI",
        "outputId": "7c7b268d-0144-4a99-e20d-6f662a5beeb4",
        "colab": {
          "base_uri": "https://localhost:8080/"
        }
      },
      "source": [
        "#[h.parent for h in soup.find_all('div', 'BNeawe vvjwJb AP7Wnd')]\n",
        "[h.parent for h in soup.find_all('h3')]"
      ],
      "id": "VKHRILRQOpCI",
      "execution_count": 13,
      "outputs": [
        {
          "output_type": "execute_result",
          "data": {
            "text/plain": [
              "[<a href=\"/url?q=https://careerfoundry.com/en/blog/data-analytics/data-analytics-portfolio-examples/&amp;sa=U&amp;ved=2ahUKEwjawpSWxov0AhXjK30KHYbBBdAQFnoECAkQAg&amp;usg=AOvVaw2R-Vca2awLQ1DFNAhEZCcl\"><h3 class=\"zBAuLc l97dzf\"><div class=\"BNeawe vvjwJb AP7Wnd\">9 Data Analytics Portfolio Examples [2021 Edition] - CareerFoundry</div></h3><div class=\"BNeawe UPmit AP7Wnd\">careerfoundry.com › blog › data-analytics-portfolio-examples</div></a>,\n",
              " <a href=\"/url?q=https://careerfoundry.com/en/blog/data-analytics/data-analyst-portfolio/&amp;sa=U&amp;ved=2ahUKEwjawpSWxov0AhXjK30KHYbBBdAQFnoECAcQAg&amp;usg=AOvVaw1anbKL5Ml5nWGcagu3b2Fh\"><h3 class=\"zBAuLc l97dzf\"><div class=\"BNeawe vvjwJb AP7Wnd\">How To Build A Data Analytics Portfolio [Complete Guide]</div></h3><div class=\"BNeawe UPmit AP7Wnd\">careerfoundry.com › blog › data-analytics › data-analyst-portfolio</div></a>,\n",
              " <a href=\"/url?q=https://www.coursera.org/articles/how-to-build-a-data-analyst-portfolio&amp;sa=U&amp;ved=2ahUKEwjawpSWxov0AhXjK30KHYbBBdAQFnoECAsQAg&amp;usg=AOvVaw3w_vC9vSccxfTmH4-whc3g\"><h3 class=\"zBAuLc l97dzf\"><div class=\"BNeawe vvjwJb AP7Wnd\">How to Build a Data Analyst Portfolio: Tips for Success | Coursera</div></h3><div class=\"BNeawe UPmit AP7Wnd\">www.coursera.org › articles › how-to-build-a-data-analyst-portfolio</div></a>,\n",
              " <a href=\"/url?q=https://www.springboard.com/blog/data-analytics/data-analyst-portfolio/&amp;sa=U&amp;ved=2ahUKEwjawpSWxov0AhXjK30KHYbBBdAQFnoECAoQAg&amp;usg=AOvVaw0VWTB9Em2tR2xvP0MhtYY8\"><h3 class=\"zBAuLc l97dzf\"><div class=\"BNeawe vvjwJb AP7Wnd\">How to Build an Impressive Data Analytics Portfolio | Springboard Blog</div></h3><div class=\"BNeawe UPmit AP7Wnd\">www.springboard.com › Home › Data Analytics</div></a>,\n",
              " <a href=\"/url?q=https://www.youtube.com/watch%3Fv%3DqfyynHBFOsM&amp;sa=U&amp;ved=2ahUKEwjawpSWxov0AhXjK30KHYbBBdAQtwJ6BAgAEAE&amp;usg=AOvVaw1vSPTUVuhdDR3Q4d3uSytp\"><h3 class=\"zBAuLc l97dzf\"><div class=\"BNeawe vvjwJb AP7Wnd\">Data Analyst Portfolio Project | SQL Data Exploration | Project 1/4</div></h3><div class=\"BNeawe UPmit AP7Wnd\">www.youtube.com › watch</div></a>,\n",
              " <a href=\"/url?q=https://www.youtube.com/watch%3Fv%3DtW89_4psTWg&amp;sa=U&amp;ved=2ahUKEwjawpSWxov0AhXjK30KHYbBBdAQtwJ6BAgBEAE&amp;usg=AOvVaw3ZXZ_nzFW3aQFdr8ALwqa5\"><h3 class=\"zBAuLc l97dzf\"><div class=\"BNeawe vvjwJb AP7Wnd\">Data Analyst Portfolio | Include THESE Projects! - YouTube</div></h3><div class=\"BNeawe UPmit AP7Wnd\">www.youtube.com › watch</div></a>,\n",
              " <a href=\"/url?q=https://www.codecademy.com/resources/blog/data-analyst-portfolio/&amp;sa=U&amp;ved=2ahUKEwjawpSWxov0AhXjK30KHYbBBdAQFnoECAMQAg&amp;usg=AOvVaw2iq-MyVRRBpVMoJ7t4o6Em\"><h3 class=\"zBAuLc l97dzf\"><div class=\"BNeawe vvjwJb AP7Wnd\">Guide to building a data analyst portfolio - Codecademy</div></h3><div class=\"BNeawe UPmit AP7Wnd\">www.codecademy.com › resources › blog › data-analyst-portfolio</div></a>,\n",
              " <a href=\"/url?q=https://www.stratascratch.com/blog/data-analytics-project-ideas-that-will-get-you-the-job/&amp;sa=U&amp;ved=2ahUKEwjawpSWxov0AhXjK30KHYbBBdAQFnoECAQQAg&amp;usg=AOvVaw3mu-Lx5vXIuBZOW0jBiHhz\"><h3 class=\"zBAuLc l97dzf\"><div class=\"BNeawe vvjwJb AP7Wnd\">Data Analytics Project Ideas That Will Get You The Job | StrataScratch</div></h3><div class=\"BNeawe UPmit AP7Wnd\">www.stratascratch.com › blog › data-analytics-project-ideas-that-will-get-y...</div></a>,\n",
              " <a href=\"/url?q=https://www.dataquest.io/blog/build-a-data-science-portfolio/&amp;sa=U&amp;ved=2ahUKEwjawpSWxov0AhXjK30KHYbBBdAQFnoECAgQAg&amp;usg=AOvVaw3ZNLirm9UJCwaFVysdtgkW\"><h3 class=\"zBAuLc l97dzf\"><div class=\"BNeawe vvjwJb AP7Wnd\">Data Science Portfolios That Will Get You the Job - Dataquest</div></h3><div class=\"BNeawe UPmit AP7Wnd\">www.dataquest.io › Blog</div></a>,\n",
              " <a href=\"/url?q=https://www.kdnuggets.com/2019/04/projects-include-data-science-portfolio.html&amp;sa=U&amp;ved=2ahUKEwjawpSWxov0AhXjK30KHYbBBdAQFnoECAIQAg&amp;usg=AOvVaw3Z_DkDQP0se3GRM0XUEldm\"><h3 class=\"zBAuLc l97dzf\"><div class=\"BNeawe vvjwJb AP7Wnd\">Projects to Include in a Data Science Portfolio - KDnuggets</div></h3><div class=\"BNeawe UPmit AP7Wnd\">www.kdnuggets.com › 2019/04 › projects-include-data-science-portfolio</div></a>]"
            ]
          },
          "metadata": {},
          "execution_count": 13
        }
      ]
    },
    {
      "cell_type": "code",
      "metadata": {
        "id": "R7FByYOoO5KB"
      },
      "source": [
        ""
      ],
      "id": "R7FByYOoO5KB",
      "execution_count": null,
      "outputs": []
    }
  ]
}