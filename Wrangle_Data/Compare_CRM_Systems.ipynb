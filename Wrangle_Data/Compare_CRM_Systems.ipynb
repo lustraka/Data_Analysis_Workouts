{
  "nbformat": 4,
  "nbformat_minor": 5,
  "metadata": {
    "kernelspec": {
      "display_name": "Python 3",
      "language": "python",
      "name": "python3"
    },
    "language_info": {
      "codemirror_mode": {
        "name": "ipython",
        "version": 3
      },
      "file_extension": ".py",
      "mimetype": "text/x-python",
      "name": "python",
      "nbconvert_exporter": "python",
      "pygments_lexer": "ipython3",
      "version": "3.7.11"
    },
    "colab": {
      "name": "Compare_CRM_Systems.ipynb",
      "provenance": [],
      "include_colab_link": true
    }
  },
  "cells": [
    {
      "cell_type": "markdown",
      "metadata": {
        "id": "view-in-github",
        "colab_type": "text"
      },
      "source": [
        "<a href=\"https://colab.research.google.com/github/lustraka/Data_Analysis_Workouts/blob/main/Wrangle_Data/Compare_CRM_Systems.ipynb\" target=\"_parent\"><img src=\"https://colab.research.google.com/assets/colab-badge.svg\" alt=\"Open In Colab\"/></a>"
      ]
    },
    {
      "cell_type": "code",
      "metadata": {
        "id": "ppyWLJ2fir0Q"
      },
      "source": [
        "# Import dependencies\n",
        "import requests\n",
        "from bs4 import BeautifulSoup\n",
        "import pandas as pd"
      ],
      "id": "ppyWLJ2fir0Q",
      "execution_count": 1,
      "outputs": []
    },
    {
      "cell_type": "code",
      "metadata": {
        "id": "FXSx3GvQjg73",
        "outputId": "4c521ee3-4a06-4e31-ba8c-17d88344d25d",
        "colab": {
          "base_uri": "https://localhost:8080/"
        }
      },
      "source": [
        "aws_crm_pth = 'https://aws.amazon.com/marketplace/b/98bce01b-8e07-4a83-8e4e-711ce14f2e88?ref_=mp_nav_category_98bce01b-8e07-4a83-8e4e-711ce14f2e88&pageSize=50&category=98bce01b-8e07-4a83-8e4e-711ce14f2e88&PRICING_MODEL=FREE&filters=PRICING_MODEL'\n",
        "aws_crm_page = requests.get(aws_crm_pth)\n",
        "aws_crm = BeautifulSoup(aws_crm_page.content, 'html.parser')\n",
        "# Unfortunately, this website is dynamic\n",
        "aws_crm.find_all('div', class_='awsui-table-container')"
      ],
      "id": "FXSx3GvQjg73",
      "execution_count": 8,
      "outputs": [
        {
          "output_type": "execute_result",
          "data": {
            "text/plain": [
              "[]"
            ]
          },
          "metadata": {},
          "execution_count": 8
        }
      ]
    },
    {
      "cell_type": "markdown",
      "metadata": {
        "id": "iezxtk7joYTC"
      },
      "source": [
        "Ref: [RealPython: Web Scraper Course](https://realpython.com/beautiful-soup-web-scraper-python/#dynamic-websites)"
      ],
      "id": "iezxtk7joYTC"
    },
    {
      "cell_type": "code",
      "metadata": {
        "id": "aCJcqUgWlfdZ"
      },
      "source": [
        "free_12_pth = 'https://crm.org/crmland/free-crm'\n",
        "free_12_page = requests.get(free_12_pth)\n",
        "free_12 = BeautifulSoup(free_12_page.content, 'html.parser')"
      ],
      "id": "aCJcqUgWlfdZ",
      "execution_count": 13,
      "outputs": []
    },
    {
      "cell_type": "code",
      "metadata": {
        "id": "ABEhFYv1lccq",
        "outputId": "d6f33688-7231-48cd-e4de-d59d728ac6f3",
        "colab": {
          "base_uri": "https://localhost:8080/"
        }
      },
      "source": [
        "free_12.find_all('h3')"
      ],
      "id": "ABEhFYv1lccq",
      "execution_count": 15,
      "outputs": [
        {
          "output_type": "execute_result",
          "data": {
            "text/plain": [
              "[<h3>Featured CRM sponsors for your Business</h3>,\n",
              " <h3>Freshsales</h3>,\n",
              " <h3>Less Annoying CRM</h3>,\n",
              " <h3>Zoho</h3>,\n",
              " <h3>Really Simple Systems</h3>,\n",
              " <h3><img alt=\"\" data-src=\"https://dq51jve9h21d4.cloudfront.net/sites/default/files/imce/crm_land_free_crm_real_simple_system-02.svg\"/></h3>,\n",
              " <h3>EngageBay</h3>,\n",
              " <h3><img alt=\"\" data-src=\"https://dq51jve9h21d4.cloudfront.net/sites/default/files/imce/crm_land_free_crm_engagebay-01.svg\"/></h3>,\n",
              " <h3>Capsule</h3>,\n",
              " <h3>BenchmarkONE <img alt=\"\" data-src=\"https://dq51jve9h21d4.cloudfront.net/sites/default/files/imce/crm_land_free_crm_benchmarkone-01.svg\"/></h3>,\n",
              " <h3>eWay-CRM</h3>,\n",
              " <h3>HubSpot</h3>,\n",
              " <h3>Bitrix24</h3>,\n",
              " <h3>Streak</h3>,\n",
              " <h3>Insightly</h3>,\n",
              " <h3>Apptivo<img alt=\"\" data-src=\"https://dq51jve9h21d4.cloudfront.net/sites/default/files/imce/crm_land_free_crm_apptivo-01.svg\" style=\"font-size:13px\"/></h3>,\n",
              " <h3><strong>Benefits:</strong></h3>,\n",
              " <h3>SuiteCRM</h3>,\n",
              " <h3>Agile CRM</h3>,\n",
              " <h3>Airtable</h3>,\n",
              " <h3>Flowlu</h3>,\n",
              " <h3>Advertising Disclosure</h3>]"
            ]
          },
          "metadata": {},
          "execution_count": 15
        }
      ]
    },
    {
      "cell_type": "code",
      "metadata": {
        "id": "tULBv-v9pM_i"
      },
      "source": [
        ""
      ],
      "id": "tULBv-v9pM_i",
      "execution_count": null,
      "outputs": []
    }
  ]
}