{
  "nbformat": 4,
  "nbformat_minor": 5,
  "metadata": {
    "environment": {
      "kernel": "python3",
      "name": "common-cpu.m82",
      "type": "gcloud",
      "uri": "gcr.io/deeplearning-platform-release/base-cpu:m82"
    },
    "kernelspec": {
      "display_name": "Python 3",
      "language": "python",
      "name": "python3"
    },
    "language_info": {
      "codemirror_mode": {
        "name": "ipython",
        "version": 3
      },
      "file_extension": ".py",
      "mimetype": "text/x-python",
      "name": "python",
      "nbconvert_exporter": "python",
      "pygments_lexer": "ipython3",
      "version": "3.7.10"
    },
    "colab": {
      "name": "Try_custom_search.ipynb",
      "provenance": [],
      "include_colab_link": true
    }
  },
  "cells": [
    {
      "cell_type": "markdown",
      "metadata": {
        "id": "view-in-github",
        "colab_type": "text"
      },
      "source": [
        "<a href=\"https://colab.research.google.com/github/lustraka/Data_Analysis_Workouts/blob/main/Wrangle_Data/Try_custom_search.ipynb\" target=\"_parent\"><img src=\"https://colab.research.google.com/assets/colab-badge.svg\" alt=\"Open In Colab\"/></a>"
      ]
    },
    {
      "cell_type": "markdown",
      "metadata": {
        "id": "6352eeb2-104a-41b6-bae5-80b36cbec408"
      },
      "source": [
        "- [Programmatically searching google in Python using custom search](https://stackoverflow.com/questions/37083058/programmatically-searching-google-in-python-using-custom-search)\n",
        "- [Creating a Programmable Search Engine](https://developers.google.com/custom-search/docs/tutorial/creatingcse)\n",
        "- [Programmable Search Engines](https://programmablesearchengine.google.com/controlpanel/all) + [Public Address](https://cse.google.com/cse?cx=bf1b8ef497991822f)"
      ],
      "id": "6352eeb2-104a-41b6-bae5-80b36cbec408"
    },
    {
      "cell_type": "code",
      "metadata": {
        "id": "96a91f5a-8074-4481-b7ab-8d41b1429ba1"
      },
      "source": [
        "from googleapiclient.discovery import build\n",
        "import pprint\n",
        "\n",
        "my_api_key = '' # creds.google_api_key\n",
        "my_cse_id = \"bf1b8ef497991822f\"\n",
        "\n",
        "def google_search(search_term, api_key, cse_id, **kwargs):\n",
        "    service = build(\"customsearch\", \"v1\", developerKey=api_key) # type: googleapiclient.discovery.Resource\n",
        "    res = service.cse().list(q=search_term, cx=cse_id, **kwargs).execute()\n",
        "    return res"
      ],
      "id": "96a91f5a-8074-4481-b7ab-8d41b1429ba1",
      "execution_count": 1,
      "outputs": []
    },
    {
      "cell_type": "code",
      "metadata": {
        "id": "MJ9c5s9_g6eZ"
      },
      "source": [
        "results = google_search('data analytics portfolio projects', my_api_key, my_cse_id, num=10) # num has to be in <1, 10>\n",
        "\n",
        "# for result in results:\n",
        "#     pprint.pprint(result)"
      ],
      "id": "MJ9c5s9_g6eZ",
      "execution_count": 2,
      "outputs": []
    },
    {
      "cell_type": "markdown",
      "metadata": {
        "id": "7UepivmQ8RSJ"
      },
      "source": [
        "```python\n",
        "[In] results.keys()\n",
        "[Out] dict_keys(['kind', 'url', 'queries', 'context', 'searchInformation', 'items'])\n",
        "```\n",
        "\n",
        "```python\n",
        "[In] results.items()\n",
        "[Out] dict_items([('kind', 'customsearch#search'), ('url', {'type': 'application/json', 'template': ...\n",
        "```\n",
        "\n",
        "```python\n",
        "[In] results.values()\n",
        "[Out] dict_values(['customsearch#search', {'type': 'application/json', 'template': \n",
        "```\n",
        "Key | Content\n",
        "-|-\n",
        "kind | customsearch#search\n",
        "url | dict {'template': 'https://www.googleapis.com/customsearch/v1?q={searchTerms}&num={count?}&'... , 'type': 'application/json'} for a search\n",
        "queries | dict \n",
        "searchInformation | dict\n",
        "items | list of dicts\n",
        "\n",
        "**Dict 'queries'**\n",
        "```python\n",
        "{'nextPage': [{ ### same as request except:\n",
        "   'startIndex': 11,\n",
        "   }],\n",
        " 'request': [{'count': 10,\n",
        "   'cx': 'bf1b8ef497991822f',\n",
        "   'inputEncoding': 'utf8',\n",
        "   'outputEncoding': 'utf8',\n",
        "   'safe': 'off',\n",
        "   'searchTerms': 'data analytics portfolio projects',\n",
        "   'startIndex': 1,\n",
        "   'title': 'Google Custom Search - data analytics portfolio projects',\n",
        "   'totalResults': '196000000'}]}\n",
        "```\n",
        "\n",
        "**Dict 'searchInformation'**\n",
        "```python\n",
        "{'formattedSearchTime': '0.46',\n",
        " 'formattedTotalResults': '196,000,000',\n",
        " 'searchTime': 0.464201,\n",
        " 'totalResults': '196000000'}\n",
        " ```\n",
        "\n",
        " **Keys of item dict**\n",
        " ```\n",
        " dict_keys(['kind', 'title', 'htmlTitle', 'link', 'displayLink', 'snippet', \n",
        " 'htmlSnippet', 'cacheId', 'formattedUrl', 'htmlFormattedUrl', 'pagemap'])\n",
        " ```"
      ],
      "id": "7UepivmQ8RSJ"
    },
    {
      "cell_type": "code",
      "metadata": {
        "colab": {
          "base_uri": "https://localhost:8080/"
        },
        "id": "FjAsoP1E753R",
        "outputId": "366a3ecb-d660-4769-9d3b-2c1acba27208"
      },
      "source": [
        "# Sample item\n",
        "results['items'][0]"
      ],
      "id": "FjAsoP1E753R",
      "execution_count": 3,
      "outputs": [
        {
          "output_type": "execute_result",
          "data": {
            "text/plain": [
              "{'cacheId': 'mWSIwrRr4d0J',\n",
              " 'displayLink': 'careerfoundry.com',\n",
              " 'formattedUrl': 'https://careerfoundry.com/.../data-analytics/data-analytics-portfolio-examples/',\n",
              " 'htmlFormattedUrl': 'https://careerfoundry.com/.../<b>data</b>-<b>analytics</b>/<b>data</b>-<b>analytics</b>-<b>portfolio</b>-examples/',\n",
              " 'htmlSnippet': 'Sep 27, 2021 <b>...</b> Online <b>portfolios</b> are often framed as a collection of pet <b>projects</b> or topics of interest. As a freelancer though, Claudia&#39;s aim is immediately&nbsp;...',\n",
              " 'htmlTitle': '9 <b>Data Analytics Portfolio</b> Examples [2021 Edition]',\n",
              " 'kind': 'customsearch#result',\n",
              " 'link': 'https://careerfoundry.com/en/blog/data-analytics/data-analytics-portfolio-examples/',\n",
              " 'pagemap': {'cse_image': [{'src': 'https://dpbnri2zg3lc2.cloudfront.net/en/wp-content/uploads/2021/01/data-portfolios.jpg'}],\n",
              "  'cse_thumbnail': [{'height': '168',\n",
              "    'src': 'https://encrypted-tbn2.gstatic.com/images?q=tbn:ANd9GcQBbVF-9zvGryePcgVaNgiLNki5-LHxGkeUzMwIN2v00K8man0G8cNnTF4e',\n",
              "    'width': '300'}],\n",
              "  'metatags': [{'article:section': 'Data Analytics',\n",
              "    'og:description': 'What should you include in your data analytics portfolio? Here are 9 awesome portfolio examples to inspire you.',\n",
              "    'og:image': 'https://dpbnri2zg3lc2.cloudfront.net/en/wp-content/uploads/2021/01/data-portfolios.jpg',\n",
              "    'og:image:alt': 'A data analyst sitting down, looking at a laptop screen',\n",
              "    'og:image:height': '675',\n",
              "    'og:image:secure_url': 'https://dpbnri2zg3lc2.cloudfront.net/en/wp-content/uploads/2021/01/data-portfolios.jpg',\n",
              "    'og:image:type': 'image/jpeg',\n",
              "    'og:image:width': '1200',\n",
              "    'og:locale': 'en_US',\n",
              "    'og:site_name': 'CareerFoundry',\n",
              "    'og:title': '9 Data Analytics Portfolio Examples [2021 Edition]',\n",
              "    'og:type': 'article',\n",
              "    'og:updated_time': '2021-09-27T09:49:40+02:00',\n",
              "    'og:url': 'https://careerfoundry.com/en/blog/data-analytics/data-analytics-portfolio-examples/',\n",
              "    'twitter:card': 'summary_large_image',\n",
              "    'twitter:description': 'What should you include in your data analytics portfolio? Here are 9 awesome portfolio examples to inspire you.',\n",
              "    'twitter:image': 'https://dpbnri2zg3lc2.cloudfront.net/en/wp-content/uploads/2021/01/data-portfolios.jpg',\n",
              "    'twitter:title': '9 Data Analytics Portfolio Examples [2021 Edition]',\n",
              "    'viewport': 'width=device-width, initial-scale=1'}]},\n",
              " 'snippet': \"Sep 27, 2021 ... Online portfolios are often framed as a collection of pet projects or topics of interest. As a freelancer though, Claudia's aim is immediately\\xa0...\",\n",
              " 'title': '9 Data Analytics Portfolio Examples [2021 Edition]'}"
            ]
          },
          "metadata": {},
          "execution_count": 3
        }
      ]
    },
    {
      "cell_type": "code",
      "metadata": {
        "colab": {
          "base_uri": "https://localhost:8080/"
        },
        "id": "JRAbFFl38Qug",
        "outputId": "ab5e9dd6-9753-4e43-85d6-556663820b2b"
      },
      "source": [
        "for item in results['items']:\n",
        "  print(item['title'])\n",
        "  print('\\t\\t', item['link'])"
      ],
      "id": "JRAbFFl38Qug",
      "execution_count": 4,
      "outputs": [
        {
          "output_type": "stream",
          "name": "stdout",
          "text": [
            "9 Data Analytics Portfolio Examples [2021 Edition]\n",
            "\t\t https://careerfoundry.com/en/blog/data-analytics/data-analytics-portfolio-examples/\n",
            "How to Build a Data Analyst Portfolio: Tips for Success | Coursera\n",
            "\t\t https://www.coursera.org/articles/how-to-build-a-data-analyst-portfolio\n",
            "How To Build A Data Analytics Portfolio [Complete Guide]\n",
            "\t\t https://careerfoundry.com/en/blog/data-analytics/data-analyst-portfolio/\n",
            "How to Build an Impressive Data Analytics Portfolio | Springboard Blog\n",
            "\t\t https://www.springboard.com/blog/data-analytics/data-analyst-portfolio/\n",
            "Data Analytics Project Ideas That Will Get You The Job | StrataScratch\n",
            "\t\t https://www.stratascratch.com/blog/data-analytics-project-ideas-that-will-get-you-the-job/\n",
            "Data Science Portfolios That Will Get You the Job – Dataquest\n",
            "\t\t https://www.dataquest.io/blog/build-a-data-science-portfolio/\n",
            "Guide to building a data analyst portfolio\n",
            "\t\t https://www.codecademy.com/resources/blog/data-analyst-portfolio/\n",
            "How To Build A Data Analyst Portfolio\n",
            "\t\t https://www.udacity.com/blog/2016/02/how-to-build-a-data-analysis-portfolio-that-will-get-you-hired.html\n",
            "Best way to create a data analytics portfolio?: datascience\n",
            "\t\t https://www.reddit.com/r/datascience/comments/7bmsu8/best_way_to_create_a_data_analytics_portfolio/\n",
            "4 R projects to form a core data analyst portfolio | R-bloggers\n",
            "\t\t https://www.r-bloggers.com/2020/11/4-r-projects-to-form-a-core-data-analyst-portfolio/\n"
          ]
        }
      ]
    },
    {
      "cell_type": "code",
      "metadata": {
        "id": "XhRnDAcJ75wp"
      },
      "source": [
        ""
      ],
      "id": "XhRnDAcJ75wp",
      "execution_count": 4,
      "outputs": []
    }
  ]
}