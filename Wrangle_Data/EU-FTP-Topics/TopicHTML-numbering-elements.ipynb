{
 "cells": [
  {
   "cell_type": "code",
   "execution_count": 1,
   "metadata": {},
   "outputs": [],
   "source": [
    "from bs4 import BeautifulSoup\n",
    "from pathlib import Path"
   ]
  },
  {
   "cell_type": "code",
   "execution_count": 8,
   "metadata": {},
   "outputs": [
    {
     "name": "stdout",
     "output_type": "stream",
     "text": [
      "html > head > meta > style > title > body > h1 > table > tr > td > td > a > tr > td > td > tr > td > td > b > tr > td > td > h2 > h3 > p > ul > li > sup > a > li > sup > a > sup > a > li > li > li > li > h3 > p > p > p > p > p > ul > li > li > li > li > li > li > li > sup > a > li > p > p > p > ul > li > li > li > li > p > ul > li > em > li > p > p > sup > a > p > p > ul > li > li > li > li > li > p > p > p > p > p > p > a > a > a > p > a > p > a > a > p > a > p > a > a > h2 > p > a > p > p > p > b > p > p > b > p > p > b > p > p > p > a > p > a > p > a > p > a > p > ul > li > li > li > li > li > ul > li > li > li > li > li > li > li > li > p > p > ul > li > a > a > li > li > p > h3 > p > ul > li > p > h2 > h3 > p > b > a > a > ul > li > b > p > b > a > ul > li > a > p > b > a > ul > li > li > p > b > a > p > b > ul > li > b > a > li > b > a > a > li > li > b > a > p > b > a > ul > li > a > u > a > u > li > a > a > li > li > h3 > p > b > table > tr > td > i > td > tr > td > i > td > tr > td > i > td > tr > td > i > td > ul > li > ul > li > tr > td > i > td > br > tr > td > i > td > ul > li > li > li > ul > li > h3 > h4 > p > i > o:p > p > a > p > a > p > i > p > a > p > p > a > h4 > p > a > p > a > p > a > p > a > p > a > p > a > p > a > p > a > p > a > p > a > p > a > p > a > p > a > p > a > p > a > p > span > b > "
     ]
    }
   ],
   "source": [
    "filename = './html-out/horizon-cl2-2023-heritage-eccch-01-01.html'\n",
    "html = Path(filename).read_text()\n",
    "soup = BeautifulSoup(html, 'html.parser')\n",
    "for tag in soup():\n",
    "    print(tag.name, end=' > ')"
   ]
  },
  {
   "cell_type": "code",
   "execution_count": 4,
   "metadata": {},
   "outputs": [
    {
     "data": {
      "text/plain": [
       "[<h2 id=\"description\">Topic Description</h2>,\n",
       " <h2 id=\"destination\">Destination: Innovative research on the European cultural heritage and the cultural and creative industries (2023/24)</h2>,\n",
       " <h2 id=\"conditions\">Topic Conditions and Documents</h2>]"
      ]
     },
     "execution_count": 4,
     "metadata": {},
     "output_type": "execute_result"
    }
   ],
   "source": [
    "soup.find_all('h2')"
   ]
  },
  {
   "cell_type": "code",
   "execution_count": 10,
   "metadata": {},
   "outputs": [],
   "source": [
    "l1, l2 = 0, 0\n",
    "for tag in soup():\n",
    "    if tag.name == 'h2':\n",
    "        l1 += 1\n",
    "        l2 = 1\n",
    "    elif tag.name in ['p', 'li']:\n",
    "        tag.insert(0, f'({l1}.{l2}) ')\n",
    "        l2 += 1"
   ]
  },
  {
   "cell_type": "code",
   "execution_count": 11,
   "metadata": {},
   "outputs": [],
   "source": [
    "# Save the output\n",
    "with open('./html-out/'+'test'+'_.html', 'wb') as file:\n",
    "    file.write(soup.encode())"
   ]
  },
  {
   "cell_type": "code",
   "execution_count": null,
   "metadata": {},
   "outputs": [],
   "source": []
  }
 ],
 "metadata": {
  "kernelspec": {
   "display_name": "base",
   "language": "python",
   "name": "python3"
  },
  "language_info": {
   "codemirror_mode": {
    "name": "ipython",
    "version": 3
   },
   "file_extension": ".py",
   "mimetype": "text/x-python",
   "name": "python",
   "nbconvert_exporter": "python",
   "pygments_lexer": "ipython3",
   "version": "3.9.7"
  },
  "orig_nbformat": 4
 },
 "nbformat": 4,
 "nbformat_minor": 2
}
