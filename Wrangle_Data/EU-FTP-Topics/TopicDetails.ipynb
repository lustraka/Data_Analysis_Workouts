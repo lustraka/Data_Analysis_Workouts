{
 "cells": [
  {
   "cell_type": "markdown",
   "metadata": {},
   "source": [
    "# Scrape Topic Details\n",
    "[Funding & Tenders Portal Application Programming Interfaces (APIs)](https://ec.europa.eu/info/funding-tenders/opportunities/portal/screen/support/apis)"
   ]
  },
  {
   "cell_type": "code",
   "execution_count": 1,
   "metadata": {},
   "outputs": [
    {
     "data": {
      "text/plain": [
       "dict_keys(['type', 'ccm2Id', 'cftId', 'identifier', 'title', 'publicationDateLong', 'callIdentifier', 'callTitle', 'callccm2Id', 'allowPartnerSearch', 'workProgrammepart', 'frameworkProgramme', 'programmeDivision', 'topicMGAs', 'keywords', 'sme', 'actions', 'latestInfos', 'budgetOverviewJSONItem', 'description', 'conditions', 'supportInfo', 'sepTemplate', 'links', 'additionalDossiers', 'infoPackDossiers', 'callDetailsJSONItem'])"
      ]
     },
     "execution_count": 1,
     "metadata": {},
     "output_type": "execute_result"
    }
   ],
   "source": [
    "import json\n",
    "import requests\n",
    "import pandas as pd\n",
    "\n",
    "# name = 'horizon-cl4-2022-data-01-04'\n",
    "# name = 'horizon-cl5-2022-d6-02-07'\n",
    "# name = 'horizon-jti-cleanh2-2022-01-03'\n",
    "# name = 'horizon-eie-2022-scaleup-02-01'\n",
    "name = 'erasmus-edu-2022-pi-all-inno-edu-enterp'\n",
    "\n",
    "topicDetailsURL = 'https://ec.europa.eu/info/funding-tenders/opportunities/data/topicDetails/'+name+'.json'\n",
    "topic = json.loads(requests.get(topicDetailsURL).text)['TopicDetails']\n",
    "topic.keys()"
   ]
  },
  {
   "cell_type": "code",
   "execution_count": 2,
   "metadata": {},
   "outputs": [
    {
     "name": "stdout",
     "output_type": "stream",
     "text": [
      "Submission deadline: 15 September 2022\n",
      "Topic name: Alliances for Education and Enterprises\n",
      "Topic ID: ERASMUS-EDU-2022-PI-ALL-INNO-EDU-ENTERP\n"
     ]
    }
   ],
   "source": [
    "basicInfoMapping = {\n",
    "    \"Submission deadline\": topic[\"actions\"][0]['deadlineDates'][0],\n",
    "    \"Topic name\" : topic[\"title\"],\n",
    "    \"Topic ID\" : topic[\"identifier\"]\n",
    "    }\n",
    "for k,v in basicInfoMapping.items():\n",
    "    print(k + ': ' + v)"
   ]
  },
  {
   "cell_type": "code",
   "execution_count": 3,
   "metadata": {},
   "outputs": [
    {
     "data": {
      "text/plain": [
       "'horizon-eie-2022-scaleup-02-01'"
      ]
     },
     "execution_count": 3,
     "metadata": {},
     "output_type": "execute_result"
    }
   ],
   "source": [
    "'HORIZON-EIE-2022-SCALEUP-02-01'.lower()"
   ]
  },
  {
   "cell_type": "code",
   "execution_count": 4,
   "metadata": {},
   "outputs": [],
   "source": [
    "from bs4 import BeautifulSoup\n",
    "template = \"\"\"<!DOCTYPE html><html><head>\n",
    "<meta content=\"text/html; charset=utf-8\" http-equiv=\"Content-Type\"/>\n",
    "<!-- <link href=\"styles.css\" rel=\"stylesheet\"/> -->\n",
    "<style>\n",
    "body { \n",
    "    background-color: #ffffff; \n",
    "    color: #000000; \n",
    "    margin:25px 25px 25px 25px; \n",
    "    font-family: Arial, Helvetica, sans-serif; \n",
    "}\n",
    ".frame {\n",
    "    background-color: #cceeff;\n",
    "    border-style: solid; \n",
    "    border-color: #003199; \n",
    "    padding: 10px\n",
    "}\n",
    ".red { background-color: #ffcccc;}\n",
    ".peach { background-color: #ffeecc;}\n",
    ".cream, .highlight { background-color: #ffffcc;}\n",
    ".green { background-color: #ccffcc;}\n",
    ".onahau { background-color: #ccffff;}\n",
    ".blue { background-color: #cceeff;}\n",
    ".periwinkle { background-color: #ccccff;}\n",
    "table, th, td {\n",
    "    background-color: #cceeff;\n",
    "    border: 1px solid #003199;\n",
    "    border-collapse: collapse;\n",
    "}\n",
    "th, td {\n",
    "    padding: 5px;\n",
    "}\n",
    "p.MsoNormal, li.MsoNormal, div.MsoNormal {\n",
    "    margin-top:0cm;\n",
    "    margin-right:0cm;\n",
    "    margin-bottom:8.0pt;\n",
    "    margin-left:0cm;\n",
    "    line-height:107%;\n",
    "    font-size:11.0pt;\n",
    "    font-family:\"Calibri\",sans-serif;\n",
    "}\n",
    "h1 {\n",
    "    mso-style-link:\"Nadpis 1 Char\";\n",
    "    color:#2E74B5;\n",
    "}\n",
    "h2 {\n",
    "    mso-style-link:\"Nadpis 2 Char\";\n",
    "    color:#2E74B5;\n",
    "}\n",
    "h3 {\n",
    "    mso-style-link:\"Nadpis 3 Char\";\n",
    "    color:#2E74B5;\n",
    "}\n",
    "p.MsoNoSpacing, li.MsoNoSpacing, div.MsoNoSpacing {\n",
    "    margin:0cm;\n",
    "    margin-bottom:.0001pt;\n",
    "    font-size:11.0pt;\n",
    "    font-family:\"Calibri\",sans-serif;\n",
    "}\n",
    "</style>\n",
    "<title></title></head>\n",
    "<body></body></html>\n",
    "\"\"\"\n",
    "\n",
    "# Initialize the template\n",
    "soup = BeautifulSoup(template, 'html.parser')\n",
    "# Add title and ID\n",
    "h = BeautifulSoup('<h1></h1>', 'html.parser').h1\n",
    "h.append(BeautifulSoup(topic[\"title\"], 'html.parser'))\n",
    "soup.body.append(h)\n",
    "\n",
    "# Add General information\n",
    "links = topic['links']\n",
    "if len(links) > 0:\n",
    "    links = topic['links'][0]\n",
    "    table = BeautifulSoup('<table></table>', 'html.parser').table\n",
    "\n",
    "    tr = BeautifulSoup('<tr></tr>', 'html.parser').tr\n",
    "    td = BeautifulSoup('<td style=\"width:10%\">Topic ID</td>', 'html.parser').td\n",
    "    tr.append(td)\n",
    "    td = BeautifulSoup('<td></td>', 'html.parser').td\n",
    "    a = BeautifulSoup('<a></a>', 'html.parser').a\n",
    "    a['href'] = links['url']\n",
    "    a.append(topic[\"identifier\"])\n",
    "    td.append(a)\n",
    "    tr.append(td)\n",
    "    table.append(tr)\n",
    "\n",
    "    tr = BeautifulSoup('<tr></tr>', 'html.parser').tr\n",
    "    td = BeautifulSoup('<td>Opening date</td>', 'html.parser').td\n",
    "    tr.append(td)\n",
    "    td = BeautifulSoup('<td></td>', 'html.parser').td\n",
    "    td.append(links['startDate'])\n",
    "    tr.append(td)\n",
    "    table.append(tr)\n",
    "\n",
    "    tr = BeautifulSoup('<tr></tr>', 'html.parser').tr\n",
    "    td = BeautifulSoup('<td>Deadline date</td>', 'html.parser').td\n",
    "    tr.append(td)\n",
    "    td = BeautifulSoup('<td></td>', 'html.parser').td\n",
    "    b = BeautifulSoup('<b></b>', 'html.parser').b\n",
    "    b.append(links['endDate'])\n",
    "    td.append(b)\n",
    "    tr.append(td)\n",
    "    table.append(tr)\n",
    "\n",
    "    note = '<p>Please submit your proposal at the latest <b>48 hours before the deadline</b> (to avoid system congestion or system incompatibility issues). Late proposals will not be accepted. Don’t wait until the end because you are worried about confidentiality – we will not open the proposals before the deadline. You can submit the proposal as many times as you wish up until the deadline. Each new submitted version will replace the previous one.</p>'\n",
    "    tr = BeautifulSoup('<tr></tr>', 'html.parser').tr\n",
    "    td = BeautifulSoup('<td>Note</td>', 'html.parser').td\n",
    "    tr.append(td)\n",
    "    td = BeautifulSoup('<td></td>', 'html.parser').td\n",
    "    td.append(BeautifulSoup(note, 'html.parser').p)\n",
    "    tr.append(td)\n",
    "    table.append(tr)\n",
    "\n",
    "    tr = BeautifulSoup('<tr></tr>', 'html.parser').tr\n",
    "    td = BeautifulSoup('<td>Type of MGA</td>', 'html.parser').td\n",
    "    tr.append(td)\n",
    "    td = BeautifulSoup('<td></td>', 'html.parser').td\n",
    "    td.append(links['mgaDescription']+' ['+links['mgaCode']+']')\n",
    "    tr.append(td)\n",
    "    table.append(tr)\n",
    "\n",
    "    soup.body.append(table)\n",
    "\n",
    "# Add table of contents\n",
    "p = BeautifulSoup('<p><b>Table of Contents: </b></p>', 'html.parser').p\n",
    "p.append('[')\n",
    "a = BeautifulSoup('<a>Topic Description</a>', 'html.parser').a\n",
    "a['href'] = '#description'\n",
    "p.append(a)\n",
    "p.append('] [')\n",
    "a = BeautifulSoup('<a>Destination</a>', 'html.parser').a\n",
    "a['href'] = '#destination'\n",
    "p.append(a)\n",
    "p.append('] [')\n",
    "a = BeautifulSoup('<a>Topic Conditions and Documents</a>', 'html.parser').a\n",
    "a['href'] = '#conditions'\n",
    "p.append(a)\n",
    "p.append(']')\n",
    "soup.body.append(p)\n",
    "# Add topic description\n",
    "h = BeautifulSoup('<h2>Topic Description</h2>', 'html.parser').h2\n",
    "h['id'] = 'description'\n",
    "soup.body.append(h)\n",
    "item = BeautifulSoup(topic['description'], 'html.parser')\n",
    "soup.body.append(item)\n",
    "\n",
    "# Add destination details\n",
    "try:\n",
    "    h = BeautifulSoup('<h2>Destination: </h2>', 'html.parser').h2\n",
    "    h['id'] = 'destination'\n",
    "    h.append(BeautifulSoup(topic[\"destinationDescription\"], 'html.parser'))\n",
    "    soup.body.append(h)\n",
    "\n",
    "    item = BeautifulSoup(topic['destinationDetails'], 'html.parser')\n",
    "    soup.body.append(item)\n",
    "except:\n",
    "    pass\n",
    "\n",
    "# Add Conditions\n",
    "h = BeautifulSoup('<h2>Topic Conditions and Documents</h2>', 'html.parser').h2\n",
    "h['id'] = 'conditions'\n",
    "soup.body.append(h)\n",
    "\n",
    "item = BeautifulSoup(topic['conditions'], 'html.parser')\n",
    "soup.body.append(item)\n",
    "\n",
    "# Add last change date\n",
    "latestInfos = topic['callDetailsJSONItem']['latestInfos']\n",
    "if len(latestInfos) > 0:\n",
    "    p = BeautifulSoup('<p></p>', 'html.parser').p\n",
    "    p['class'] = 'frame'\n",
    "    span = BeautifulSoup('<span>Last change date: <b></b></span>', 'html.parser').span\n",
    "    span.b.append(BeautifulSoup(topic['callDetailsJSONItem']['latestInfos'][0]['lastChangeDate'], 'html.parser'))\n",
    "    p.append(span)\n",
    "    soup.body.append(p)\n",
    "\n",
    "# Save the output\n",
    "with open('./html-out/'+name+'_.html', 'wb') as file:\n",
    "    file.write(soup.encode())"
   ]
  },
  {
   "cell_type": "code",
   "execution_count": 5,
   "metadata": {},
   "outputs": [
    {
     "ename": "KeyError",
     "evalue": "'destinationDescription'",
     "output_type": "error",
     "traceback": [
      "\u001b[1;31m---------------------------------------------------------------------------\u001b[0m",
      "\u001b[1;31mKeyError\u001b[0m                                  Traceback (most recent call last)",
      "\u001b[1;32m~\\AppData\\Local\\Temp/ipykernel_6424/3704616078.py\u001b[0m in \u001b[0;36m<module>\u001b[1;34m\u001b[0m\n\u001b[0;32m      2\u001b[0m \u001b[1;31m# topic[\"links\"]\u001b[0m\u001b[1;33m\u001b[0m\u001b[1;33m\u001b[0m\u001b[0m\n\u001b[0;32m      3\u001b[0m \u001b[1;31m# topic['callDetailsJSONItem'] #['latestInfos'] #[0]['lastChangeDate']\u001b[0m\u001b[1;33m\u001b[0m\u001b[1;33m\u001b[0m\u001b[0m\n\u001b[1;32m----> 4\u001b[1;33m \u001b[0mtopic\u001b[0m\u001b[1;33m[\u001b[0m\u001b[1;34m\"destinationDescription\"\u001b[0m\u001b[1;33m]\u001b[0m\u001b[1;33m\u001b[0m\u001b[1;33m\u001b[0m\u001b[0m\n\u001b[0m",
      "\u001b[1;31mKeyError\u001b[0m: 'destinationDescription'"
     ]
    }
   ],
   "source": [
    "# topic[\"callTitle\"]\n",
    "# topic[\"links\"]\n",
    "# topic['callDetailsJSONItem'] #['latestInfos'] #[0]['lastChangeDate']\n",
    "topic[\"destinationDescription\"]"
   ]
  },
  {
   "cell_type": "code",
   "execution_count": null,
   "metadata": {},
   "outputs": [],
   "source": []
  }
 ],
 "metadata": {
  "kernelspec": {
   "display_name": "Python 3.9.7 ('base')",
   "language": "python",
   "name": "python3"
  },
  "language_info": {
   "codemirror_mode": {
    "name": "ipython",
    "version": 3
   },
   "file_extension": ".py",
   "mimetype": "text/x-python",
   "name": "python",
   "nbconvert_exporter": "python",
   "pygments_lexer": "ipython3",
   "version": "3.9.7"
  },
  "orig_nbformat": 4,
  "vscode": {
   "interpreter": {
    "hash": "6bbdfe987c89318d21a8f3e326c3948afb67cac6467b680734e6b94581969df5"
   }
  }
 },
 "nbformat": 4,
 "nbformat_minor": 2
}
