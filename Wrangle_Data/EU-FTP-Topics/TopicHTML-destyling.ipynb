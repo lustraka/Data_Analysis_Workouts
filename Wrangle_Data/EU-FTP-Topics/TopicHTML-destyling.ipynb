{
 "cells": [
  {
   "cell_type": "code",
   "execution_count": 1,
   "metadata": {},
   "outputs": [],
   "source": [
    "from bs4 import BeautifulSoup"
   ]
  },
  {
   "cell_type": "code",
   "execution_count": 27,
   "metadata": {},
   "outputs": [],
   "source": [
    "html = '''<h3>General conditions</h3>\n",
    "<p class=\"MsoNormal\"><span style=\"font-size: small;\"><span style=\"font-family: Arial;\"><b><span lang=\"EN-US\">1. Admissibility conditions: </span></b><span lang=\"EN-US\">described in </span></span></span><span class=\"MsoHyperlink\"><span style=\"mso-bidi-font-family:Calibri;mso-bidi-theme-font:minor-latin\"><a href=\"https://ec.europa.eu/info/funding-tenders/opportunities/docs/2021-2027/horizon/wp-call/2023-2024/wp-13-general-annexes_horizon-2023-2024_en.pdf\" target=\"_blank\"><span style=\"font-size: small;\"><span style=\"font-family: Arial;\">Annex A</span></span></a></span></span><span style=\"font-size: small;\"><span style=\"font-family: Arial;\"><span lang=\"EN-US\"> </span><span style=\"color: rgb(0, 0, 0);\"><span lang=\"EN-US\">and </span></span></span></span><span class=\"MsoHyperlink\"><span style=\"mso-bidi-font-family:\n",
    "Calibri;mso-bidi-theme-font:minor-latin\"><a href=\"https://ec.europa.eu/info/funding-tenders/opportunities/docs/2021-2027/horizon/wp-call/2023-2024/wp-13-general-annexes_horizon-2023-2024_en.pdf\" target=\"_blank\"><span style=\"font-size: small;\"><span style=\"font-family: Arial;\">Annex E</span></span></a></span></span><span style=\"font-size: small;\"><span style=\"font-family: Arial;\"><span lang=\"EN-US\"> of the Horizon Europe Work Programme General Annexes</span></span></span></p>\n",
    "<p style=\"margin-left: 40px;\"><span style=\"color: rgb(0, 0, 0);\"><span style=\"font-size: small;\"><span style=\"font-family: Arial;\"><b><span lang=\"EN-US\">Proposal page limits and layout:</span></b><span lang=\"EN-US\"> described in Part B of the Application Form available in the Submission System</span></span></span></span></p>\n",
    "<p><span style=\"color: rgb(0, 0, 0);\"><span style=\"font-size: small;\"><span style=\"font-family: Arial;\"><b><span lang=\"EN-US\">2. Eligible countries: </span></b><span lang=\"EN-US\">described in </span></span></span></span><span class=\"MsoHyperlink\"><span style=\"mso-bidi-font-family:Calibri;\n",
    "mso-bidi-theme-font:minor-latin\"><a href=\"https://ec.europa.eu/info/funding-tenders/opportunities/docs/2021-2027/horizon/wp-call/2023-2024/wp-13-general-annexes_horizon-2023-2024_en.pdf\" target=\"_blank\"><span style=\"font-size: small;\"><span style=\"font-family: Arial;\">Annex B</span></span></a></span></span><span style=\"font-size: small;\"><span style=\"font-family: Arial;\"><span lang=\"EN-US\"> </span></span></span><span style=\"color: rgb(0, 0, 0);\"><span style=\"font-size: small;\"><span style=\"font-family: Arial;\"><span lang=\"EN-US\">of the Work Programme General Annexes</span></span></span></span><span lang=\"EN-US\" style=\"mso-ansi-language:EN-US\"><o:p></o:p></span></p>\n",
    "<p class=\"MsoNormal\" style=\"margin-left: 40px;\"><span style=\"color: rgb(0, 0, 0);\"><span style=\"font-size: small;\"><span style=\"font-family: Arial;\"><span lang=\"EN-US\">A number of non-EU/non-Associated Countries that are not automatically eligible for funding have made specific provisions for making funding available for their participants in Horizon Europe projects. See the information in the </span></span></span></span><span class=\"MsoHyperlink\"><span style=\"mso-bidi-font-family:Calibri;mso-bidi-theme-font:\n",
    "minor-latin\"><a href=\"https://ec.europa.eu/info/funding-tenders/opportunities/docs/2021-2027/horizon/guidance/programme-guide_horizon_en.pdf\"><span style=\"font-size: small;\"><span style=\"font-family: Arial;\">Horizon Europe Programme Guide</span></span></a></span></span><span style=\"font-size: small;\"><span style=\"font-family: Arial;\"><span lang=\"EN-US\">.</span></span></span></p>\n",
    "<p><span style=\"color: rgb(0, 0, 0);\"><span style=\"font-size: small;\"><span style=\"font-family: Arial;\"><b style=\"mso-bidi-font-weight:normal\"><span lang=\"EN-US\">3. Other eligibility conditions:</span></b><span lang=\"EN-US\"> described in </span></span></span></span><span class=\"MsoHyperlink\"><span style=\"mso-bidi-font-family:\n",
    "Calibri;mso-bidi-theme-font:minor-latin\"><a href=\"https://ec.europa.eu/info/funding-tenders/opportunities/docs/2021-2027/horizon/wp-call/2023-2024/wp-13-general-annexes_horizon-2023-2024_en.pdf\" target=\"_blank\"><span style=\"font-size: small;\"><span style=\"font-family: Arial;\">Annex B</span></span></a></span></span><span style=\"color: rgb(0, 0, 0);\"><span style=\"font-size: small;\"><span style=\"font-family: Arial;\"> <span lang=\"EN-US\">of the Work Programme General Annexes</span></span></span></span></p>\n",
    "<p>The following additional eligibility criteria apply: </p><p>Proposals must include an outline of previously funded projects in areas relevant to the European Collaborative Cloud for Cultural Heritage (ECCCH), at both European and national levels, as well as of other pertinent existing digital resources, and they must identify the outputs or resources that could be incorporated in, connected to, or facilitate interoperability with, the ECCCH. Proposals must outline a business plan for the sustainable operation of the structure and activities of the ECCCH after the end of the project.</p>\n",
    "<p>If projects use satellite-based earth observation, positioning, navigation and/or related timing data and services, beneficiaries must make use of Copernicus and/or Galileo/EGNOS (other data and services may additionally be used).</p>\n",
    "<p><span style=\"color: rgb(0, 0, 0);\"><span style=\"font-size: small;\"><span style=\"font-family: Arial;\"><b>4. Financial and operational capacity and exclusion: </b>described in </span></span></span><span style=\"mso-bidi-font-weight:bold\"><a href=\"https://ec.europa.eu/info/funding-tenders/opportunities/docs/2021-2027/horizon/wp-call/2023-2024/wp-13-general-annexes_horizon-2023-2024_en.pdf\" target=\"_blank\"><span style=\"font-size: small;\"><span style=\"font-family: Arial;\">Annex C</span></span></a></span><span style=\"color: rgb(0, 0, 0);\"><span style=\"font-size: small;\"><span style=\"font-family: Arial;\"> of the Work Programme General Annexes</span></span></span></p>\n",
    "<p><span style=\"color: rgb(0, 0, 0);\"><span style=\"font-size: small;\"><span style=\"font-family: Arial;\"><b><span lang=\"FR-BE\">5. Evaluation and award:</span></b></span></span></span></p>\n",
    "<ul style=\"margin-top:0cm\" type=\"square\">\n",
    "<li class=\"MsoNormal\">\n",
    "<p><span style=\"color: rgb(0, 0, 0);\"><span style=\"font-size: small;\"><span style=\"font-family: Arial;\"><b><span lang=\"EN-US\">Award criteria, scoring and      thresholds</span></b><span lang=\"EN-US\"> are      described in </span></span></span></span><span class=\"MsoHyperlink\"><a href=\"https://ec.europa.eu/info/funding-tenders/opportunities/docs/2021-2027/horizon/wp-call/2023-2024/wp-13-general-annexes_horizon-2023-2024_en.pdf\" target=\"_blank\"><span style=\"font-size: small;\"><span style=\"font-family: Arial;\">Annex      D</span></span></a></span><span style=\"font-size: small;\"><span style=\"font-family: Arial;\"><span lang=\"EN-US\"> </span><span style=\"color: rgb(0, 0, 0);\"><span lang=\"EN-US\">of      the Work Programme General Annexes</span></span></span></span><span lang=\"EN-US\"><o:p></o:p></span></p>\n",
    "</li>\n",
    "</ul>\n",
    "<ul style=\"margin-top:0cm\" type=\"square\">\n",
    "<li class=\"MsoNormal\">\n",
    "<p><span style=\"color: rgb(0, 0, 0);\"><span style=\"font-size: small;\"><span style=\"font-family: Arial;\"><b><span lang=\"EN-US\">Submission and evaluation      processes</span></b><span lang=\"EN-US\"> are      described in </span></span></span></span><span class=\"MsoHyperlink\"><a href=\"https://ec.europa.eu/info/funding-tenders/opportunities/docs/2021-2027/horizon/wp-call/2023-2024/wp-13-general-annexes_horizon-2023-2024_en.pdf\" target=\"_blank\"><span style=\"font-size: small;\"><span style=\"font-family: Arial;\">Annex      F</span></span></a></span><span style=\"color: rgb(0, 0, 0);\"><span style=\"font-size: small;\"><span style=\"font-family: Arial;\"><span lang=\"EN-US\"> of      the Work Programme General Annexes and the </span></span></span></span><a href=\"https://ec.europa.eu/info/funding-tenders/opportunities/docs/2021-2027/common/guidance/om_en.pdf\"><span style=\"font-size: small;\"><span style=\"font-family: Arial;\">Online      Manual</span></span></a><span lang=\"EN-US\"><o:p></o:p></span></p>\n",
    "</li>\n",
    "</ul>\n",
    "<p>The granting authority can fund a maximum of one project.</p>\n",
    "<ul style=\"margin-top:0cm\" type=\"square\">\n",
    "<li class=\"MsoNormal\">\n",
    "<p><span style=\"color: rgb(0, 0, 0);\"><span style=\"font-size: small;\"><span style=\"font-family: Arial;\"><b><span lang=\"EN-US\">Indicative timeline for      evaluation and grant agreement: </span></b><span lang=\"EN-US\">described in </span></span></span></span><span class=\"MsoHyperlink\"><a href=\"https://ec.europa.eu/info/funding-tenders/opportunities/docs/2021-2027/horizon/wp-call/2023-2024/wp-13-general-annexes_horizon-2023-2024_en.pdf\" target=\"_blank\"><span style=\"font-size: small;\"><span style=\"font-family: Arial;\">Annex      F</span></span></a></span><span style=\"color: rgb(0, 0, 0);\"><span style=\"font-size: small;\"><span style=\"font-family: Arial;\"><span lang=\"EN-US\"> of the Work Programme General Annexes</span></span></span></span><span lang=\"EN-US\"><o:p></o:p></span></p>\n",
    "</li>\n",
    "</ul>\n",
    "<p><span style=\"color: rgb(0, 0, 0);\"><span style=\"font-size: small;\"><span style=\"font-family: Arial;\"><b style=\"mso-bidi-font-weight:normal\"><span lang=\"EN-US\">6. Legal and financial set-up of the grants: </span></b><span lang=\"EN-US\">described in </span></span></span></span><span class=\"MsoHyperlink\"><span style=\"mso-bidi-font-family:Calibri;mso-bidi-theme-font:\n",
    "minor-latin\"><a href=\"https://ec.europa.eu/info/funding-tenders/opportunities/docs/2021-2027/horizon/wp-call/2023-2024/wp-13-general-annexes_horizon-2023-2024_en.pdf\" target=\"_blank\"><span style=\"font-size: small;\"><span style=\"font-family: Arial;\">Annex G</span></span></a></span></span><span style=\"color: rgb(0, 0, 0);\"><span style=\"font-size: small;\"><span style=\"font-family: Arial;\"><span lang=\"EN-US\"> of the Work Programme General Annexes</span></span></span></span></p>\n",
    "<p> </p>\n",
    "<p>Eligible costs will take the form of a lump sum as defined in the Decision of 7 July 2021 authorising the use of lump sum contributions under the Horizon Europe Programme – the Framework Programme for Research and Innovation (2021-2027) – and in actions under the Research and Training Programme of the European Atomic Energy Community (2021-2025). [[This <a href=\"https://ec.europa.eu/info/funding-tenders/opportunities/docs/2021-2027/horizon/guidance/ls-decision_he_en.pdf\"><u>decision</u></a> is available on the Funding and Tenders Portal, in the reference documents section for Horizon Europe, under ‘Simplified costs decisions’ or through this link: <a href=\"https://ec.europa.eu/info/funding-tenders/opportunities/docs/2021-2027/horizon/guidance/ls-decision_he_en.pdf\"><u>https://ec.europa.eu/info/funding-tenders/opportunities/docs/2021-2027/horizon/guidance/ls-decision_he_en.pdf</u></a>]].</p>\n",
    "<p>Beneficiaries will be subject to these additional requirements on outputs:</p><p>All software developed should be open source, licensed under a CC0 public domain dedication or under an open source licence as recommended by the Free Software Foundation [[https://www.gnu.org/licenses/license-list#SoftwareLicenses]] and the Open Source Initiative [[<a href=\"https://opensource.org/licenses\">https://opensource.org/licenses</a>]]. If the use of open source software components would require disproportional efforts or significantly diminish the quality or performance of the software, proprietary components may be used provided that: an open functional replacement is available; they do not introduce proprietary data formats or Application Programming Interfaces; a full user license free of charge for an unlimited period of time is granted to the consortium responsible for the ECCCH and all its users.</p>\n",
    "<p>Beneficiaries may provide financial support to third parties to cultural heritage institutions, in take-up of tools, technologies and for populating and validating the relevant use cases through experiments. A maximum of 10% of the budget should be dedicated to financial support to third parties. The maximum amount to be granted to each third party is EUR 60 000.</p>\n",
    "<p>The use of significant parts of the project budget to purchase or lease hardware equipment or commercial software is strongly discouraged.</p>\n",
    "\n",
    "<h3>Specific conditions</h3>\n",
    "<p class=\"MsoNormal\"><span style=\"color: rgb(0, 0, 0);\"><span style=\"font-size: small;\"><span style=\"font-family: Arial;\"><b><span lang=\"EN-US\">7. Specific conditions: </span></b><span lang=\"EN-US\">described in the [specific topic of the Work Programme]</span></span></span></span></p>\n",
    "\n",
    "<h3>Documents</h3>\n",
    "<p class=\"MsoNormal\" style=\"margin-bottom:0cm;margin-bottom:.0001pt\"><span style=\"font-size: small;\"><span style=\"font-family: Arial;\"><span style=\"color: rgb(0, 0, 0);\"><b><span lang=\"EN-US\">Call documents:</span></b></span></span></span><b><span lang=\"EN-US\"><o:p></o:p></span></b></p>\n",
    "<p class=\"MsoNormal\" style=\"margin-bottom:0cm;margin-bottom:.0001pt\"><span style=\"font-size: small;\"><span style=\"font-family: Arial;\"><span style=\"color: rgb(0, 0, 0);\"><span lang=\"EN-US\">Standard application form</span></span><span style=\"color: rgb(128, 128, 128);\"><span lang=\"EN-US\"> —<i style=\"mso-bidi-font-style:normal\"> call-specific application form is available in the Submission System</i></span></span></span></span><span lang=\"EN-US\"><o:p></o:p></span></p>\n",
    "<p class=\"MsoNormal\" style=\"margin-bottom:0cm;margin-bottom:.0001pt\"><a href=\"https://ec.europa.eu/info/funding-tenders/opportunities/docs/2021-2027/horizon/temp-form/af/af_he-ria-ia_en.pdf\"><span style=\"font-size: small;\"><span style=\"font-family: Arial;\">Standard application form (HE RIA, IA)</span></span></a></p>\n",
    "<p class=\"MsoNormal\" style=\"margin-bottom:0cm;margin-bottom:.0001pt\"><span class=\"MsoHyperlink\"><span style=\"font-size: 11pt; font-family: Arial, sans-serif; background-image: initial; background-position: initial; background-size: initial; background-repeat: initial; background-attachment: initial; background-origin: initial; background-clip: initial;\"><a href=\"https://ec.europa.eu/info/funding-tenders/opportunities/docs/2021-2027/common/temp-form/af/detailed-budget-table_he-ls-euratom_en.xlsm\">Excel detailed budget table</a></span></span></p>\n",
    "<p class=\"MsoNormal\" style=\"margin-bottom:0cm;margin-bottom:.0001pt\"><span style=\"font-size: small;\"><span lang=\"EN-US\">Standard evaluation form</span></span><span style=\"font-size: small; color: rgb(128, 128, 128);\"><span lang=\"EN-US\"> —<i> will be used with the necessary adaptations</i></span></span></p>\n",
    "<p class=\"MsoNormal\" style=\"margin-bottom:0cm;margin-bottom:.0001pt\"><a href=\"https://ec.europa.eu/info/funding-tenders/opportunities/docs/2021-2027/horizon/temp-form/ef/ef_he-ria-ia_en.pdf\" style=\"font-size: small;\"><span style=\"font-size: small;\"><span lang=\"EN-US\">Standard evaluation form (HE RIA, IA)</span></span></a></p>\n",
    "<p class=\"MsoNormal\" style=\"margin-bottom:0cm;margin-bottom:.0001pt\"><span style=\"font-size: small;\">MGA</span></p>\n",
    "<p class=\"MsoNormal\" style=\"margin-bottom:0cm;margin-bottom:.0001pt\"><a href=\"https://ec.europa.eu/info/funding-tenders/opportunities/docs/2021-2027/common/agr-contr/ls-mga_en.pdf\"><span style=\"font-size: small;\"><span style=\"font-family: Arial;\">Lump Sum MGA v1.0</span></span></a></p>\n",
    "<h2><span style=\"color: rgb(0, 0, 0);\"><span style=\"font-size: small;\"><span style=\"font-family: Arial;\"><b><span lang=\"EN-US\">Additional documents:</span></b></span></span></span><b><span lang=\"EN-US\"><o:p></o:p></span></b></h2>\n",
    "<p class=\"MsoNormal\" style=\"margin-bottom:0cm;margin-bottom:.0001pt\"><span class=\"MsoHyperlink\"><span style=\"font-size: 11pt; font-family: Arial, sans-serif; background-image: initial; background-position: initial; background-size: initial; background-repeat: initial; background-attachment: initial; background-origin: initial; background-clip: initial;\"><a href=\"https://ec.europa.eu/info/funding-tenders/opportunities/docs/2021-2027/horizon/guidance/ls-funding-what-do-i-need-to-know_he_en.pdf\">Set of slides on the specificities of lump sum funding</a></span></span></p>\n",
    "<p class=\"MsoNormal\" style=\"margin-bottom:0cm;margin-bottom:.0001pt\"><span class=\"MsoHyperlink\"><span style=\"font-size: 11pt; font-family: Arial, sans-serif; background-image: initial; background-position: initial; background-size: initial; background-repeat: initial; background-attachment: initial; background-origin: initial; background-clip: initial;\"><a href=\"https://ec.europa.eu/info/funding-tenders/opportunities/docs/2021-2027/horizon/guidance/ls-decision_he_en.pdf\">RAO decision authorising the use of lump sum funding</a></span></span></p>\n",
    "<p class=\"MsoNormal\" style=\"margin-bottom:0cm;margin-bottom:.0001pt\"><a href=\"https://ec.europa.eu/info/funding-tenders/opportunities/docs/2021-2027/horizon/wp-call/2023-2024/wp-1-general-introduction_horizon-2023-2024_en.pdf\" target=\"_blank\"><span style=\"font-size: small;\"><span style=\"font-family: Arial;\">HE Main Work Programme 2023–2024 – 1. General Introduction</span></span></a></p>\n",
    "<p class=\"MsoNormal\" style=\"margin-bottom:0cm;margin-bottom:.0001pt\"><a href=\"https://ec.europa.eu/info/funding-tenders/opportunities/docs/2021-2027/horizon/wp-call/2023-2024/wp-5-culture-creativity-and-inclusive-society_horizon-2023-2024_en.pdf\" target=\"_blank\"><span style=\"font-size: small;\"><span style=\"font-family: Arial;\">HE Main Work Programme 2023–2024 – 5. Culture, creativity and inclusive society</span></span></a></p>\n",
    "<p class=\"MsoNormal\" style=\"margin-bottom:0cm;margin-bottom:.0001pt\"><a href=\"https://ec.europa.eu/info/funding-tenders/opportunities/docs/2021-2027/horizon/wp-call/2023-2024/wp-12-missions_horizon-2023-2024_en.pdf\" target=\"_blank\"><span style=\"font-size: small;\"><span style=\"font-family: Arial;\">HE Main Work Programme 2023–2024 – 12. Missions</span></span></a></p>\n",
    "<p class=\"MsoNormal\" style=\"margin-bottom:0cm;margin-bottom:.0001pt\"><a href=\"https://ec.europa.eu/info/funding-tenders/opportunities/docs/2021-2027/horizon/wp-call/2023-2024/wp-13-general-annexes_horizon-2023-2024_en.pdf\" target=\"_blank\"><span style=\"font-size: small;\"><span style=\"font-family: Arial;\">HE Main Work Programme 2023–2024 – 13. General Annexes</span></span></a></p>\n",
    "<p class=\"MsoNormal\" style=\"margin-bottom:0cm;margin-bottom:.0001pt\"><a href=\"https://ec.europa.eu/info/funding-tenders/opportunities/docs/2021-2027/horizon/guidance/programme-guide_horizon_en.pdf\"><span style=\"font-size: small;\"><span style=\"font-family: Arial;\">HE Programme Guide</span></span></a></p>\n",
    "<p class=\"MsoNormal\" style=\"margin-bottom:0cm;margin-bottom:.0001pt\"><a href=\"https://eur-lex.europa.eu/legal-content/EN/ALL/?uri=CELEX:32021R0695\" style=\"font-family: Arial;\" target=\"_blank\"><span style=\"font-size: small;\">HE Framework Programme and Rules for Participation Regulation 2021/695</span></a></p>\n",
    "<p class=\"MsoNormal\" style=\"margin-bottom:0cm;margin-bottom:.0001pt\"><span style=\"font-family: Arial;\"><span lang=\"EN-US\" style=\"color: rgb(64, 64, 64);\"><a href=\"https://eur-lex.europa.eu/legal-content/EN/ALL/?uri=CELEX:32021D0764\" target=\"_blank\"><span style=\"font-size: small;\">HE Specific Programme Decision 2021/764</span></a></span></span></p>\n",
    "<p class=\"MsoNormal\" style=\"margin-bottom:0cm;margin-bottom:.0001pt\"><a href=\"https://eur-lex.europa.eu/legal-content/EN/ALL/?uri=CELEX:32018R1046&amp;qid=1535046024012\"><span style=\"font-size: small;\"><span style=\"font-family: Arial;\"><span lang=\"EN-US\">EU Financial Regulation</span></span></span></a></p>\n",
    "<p class=\"MsoNormal\" style=\"margin-bottom:0cm;margin-bottom:.0001pt\"><a href=\"https://ec.europa.eu/info/funding-tenders/opportunities/docs/2021-2027/common/guidance/rules-lev-lear-fca_en.pdf\"><span style=\"font-size: small;\"><span style=\"font-family: Arial;\">Rules for Legal Entity Validation, LEAR Appointment and Financial Capacity Assessment</span></span></a></p>\n",
    "<p class=\"MsoNormal\" style=\"margin-bottom:0cm;margin-bottom:.0001pt\"><a href=\"https://ec.europa.eu/info/funding-tenders/opportunities/docs/2021-2027/common/guidance/aga_en.pdf\"><span style=\"font-size: small;\"><span style=\"font-family: Arial;\"><span lang=\"EN-US\">EU Grants AGA </span>— Annotated Model Grant Agreement</span></span></a></p>\n",
    "<p class=\"MsoNormal\" style=\"margin-bottom:0cm;margin-bottom:.0001pt\"><a href=\"https://ec.europa.eu/info/funding-tenders/opportunities/docs/2021-2027/common/guidance/om_en.pdf\"><span style=\"font-size: small;\"><span style=\"font-family: Arial;\"><span lang=\"EN-US\">Funding &amp; Tenders Portal Online Manual</span></span></span></a></p>\n",
    "<p class=\"MsoNormal\" style=\"margin-bottom:0cm;margin-bottom:.0001pt\"><a href=\"https://ec.europa.eu/info/funding-tenders/opportunities/docs/2021-2027/common/ftp/tc_en.pdf\"><span style=\"font-size: small;\"><span style=\"font-family: Arial;\">Funding &amp; Tenders Portal Terms and Conditions</span></span></a></p>\n",
    "<p class=\"MsoNormal\" style=\"margin-bottom:0cm;margin-bottom:.0001pt\"><a href=\"https://ec.europa.eu/info/funding-tenders/opportunities/docs/2021-2027/common/ftp/privacy-statement_en.pdf\" style=\"font-size: 11pt; font-family: Arial;\"><span style=\"font-size: small;\">Funding &amp; Tenders Portal Privacy Statement</span></a></p>\n",
    "\n",
    "<p class=\"frame\"><span>Last change date: <b>Jan 10, 2023 12:00:00 AM</b></span></p>'''"
   ]
  },
  {
   "cell_type": "code",
   "execution_count": 28,
   "metadata": {},
   "outputs": [],
   "source": [
    "soup = BeautifulSoup(html, 'html.parser')\n",
    "#print(soup.prettify())"
   ]
  },
  {
   "cell_type": "code",
   "execution_count": 29,
   "metadata": {},
   "outputs": [],
   "source": [
    "for tag in soup():\n",
    "    \n",
    "    if tag.name in ['span', 'p', 'ul', 'li', 'a']:\n",
    "        del tag['style']\n",
    "        del tag['class']\n",
    "        del tag['lang']\n",
    "\n",
    "#print(soup.prettify())"
   ]
  },
  {
   "cell_type": "code",
   "execution_count": 30,
   "metadata": {},
   "outputs": [],
   "source": [
    "# Save the output\n",
    "with open('TopicSoup.txt', 'wb') as file:\n",
    "    file.write(soup.encode())"
   ]
  },
  {
   "cell_type": "code",
   "execution_count": null,
   "metadata": {},
   "outputs": [],
   "source": []
  }
 ],
 "metadata": {
  "kernelspec": {
   "display_name": "base",
   "language": "python",
   "name": "python3"
  },
  "language_info": {
   "codemirror_mode": {
    "name": "ipython",
    "version": 3
   },
   "file_extension": ".py",
   "mimetype": "text/x-python",
   "name": "python",
   "nbconvert_exporter": "python",
   "pygments_lexer": "ipython3",
   "version": "3.9.7"
  },
  "orig_nbformat": 4
 },
 "nbformat": 4,
 "nbformat_minor": 2
}
