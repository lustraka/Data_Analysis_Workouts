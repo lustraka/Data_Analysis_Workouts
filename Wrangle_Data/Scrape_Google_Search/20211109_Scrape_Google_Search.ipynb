{
  "nbformat": 4,
  "nbformat_minor": 5,
  "metadata": {
    "kernelspec": {
      "display_name": "Python 3",
      "language": "python",
      "name": "python3"
    },
    "language_info": {
      "codemirror_mode": {
        "name": "ipython",
        "version": 3
      },
      "file_extension": ".py",
      "mimetype": "text/x-python",
      "name": "python",
      "nbconvert_exporter": "python",
      "pygments_lexer": "ipython3",
      "version": "3.7.11"
    },
    "colab": {
      "name": "20211109_Scrape_Google_Search.ipynb",
      "provenance": [],
      "include_colab_link": true
    }
  },
  "cells": [
    {
      "cell_type": "markdown",
      "metadata": {
        "id": "view-in-github",
        "colab_type": "text"
      },
      "source": [
        "<a href=\"https://colab.research.google.com/github/lustraka/data-analyst-portfolio-project-2022/blob/main/code/20211109_Scrape_Google_Search.ipynb\" target=\"_parent\"><img src=\"https://colab.research.google.com/assets/colab-badge.svg\" alt=\"Open In Colab\"/></a>"
      ]
    },
    {
      "cell_type": "code",
      "metadata": {
        "id": "87h-gyLDNR0C"
      },
      "source": [
        "# Import dependencies\n",
        "import requests\n",
        "from bs4 import BeautifulSoup\n",
        "import pandas as pd\n",
        "import re"
      ],
      "id": "87h-gyLDNR0C",
      "execution_count": null,
      "outputs": []
    },
    {
      "cell_type": "code",
      "metadata": {
        "id": "_pFQ_dMJNUq6"
      },
      "source": [
        "url_list = [\n",
        "            'https://www.google.com/search?q=data+analytics+portfolio+projects&rlz=1C1GCEA_enCZ869CZ869&oq=data+analytics+portfolio+projects&aqs=chrome..69i57.8087j0j7&sourceid=chrome&ie=UTF-8',\n",
        "            'https://www.google.com/search?q=data+analytics+portfolio+projects&rlz=1C1GCEA_enCZ869CZ869&sxsrf=AOaemvJ_BxdAnyCZH4UPSo6LCNmgSxa3FA:1636464844916&ei=zHiKYaGXN7-H9u8Pv_uQsA4&start=10&sa=N&ved=2ahUKEwihrZLOsov0AhW_g_0HHb89BOYQ8tMDegQIARA5',\n",
        "            'https://www.google.com/search?q=data+analytics+portfolio+projects&rlz=1C1GCEA_enCZ869CZ869&sxsrf=AOaemvLACXzBMxl_pdHlb05mJ1OwzLSOBw:1636469599500&ei=X4uKYczWHceB9u8PpdGZkAc&start=20&sa=N&ved=2ahUKEwiMgqepxIv0AhXHgP0HHaVoBnI4ChDy0wN6BAgBEDs&biw=1278&bih=1287&dpr=1',\n",
        "            'https://www.google.com/search?q=data+analytics+portfolio+projects&rlz=1C1GCEA_enCZ869CZ869&sxsrf=AOaemvKIbja5P5qWWAz31CyNM9NBLkcLBw:1636472923048&ei=W5iKYbCRApPc7_UP0e86&start=30&sa=N&ved=2ahUKEwjwqoza0Iv0AhUT7rsIHdG3DgA4FBDy0wN6BAgBED0&biw=1278&bih=1287&dpr=1',\n",
        "            'https://www.google.com/search?q=data+analytics+portfolio+projects&rlz=1C1GCEA_enCZ869CZ869&sxsrf=AOaemvJkxfayYSikA_tGYuuUBeTKVPWlng:1636472955628&ei=e5iKYY7QJZWI9u8P7oC48AQ&start=40&sa=N&ved=2ahUKEwjO-dDp0Iv0AhUVhP0HHW4ADk44HhDy0wN6BAgBED8&biw=1278&bih=1287&dpr=1',\n",
        "            'https://www.google.com/search?q=data+analytics+portfolio+projects&rlz=1C1GCEA_enCZ869CZ869&sxsrf=AOaemvI1o9LPSAf_JAeCzaCkES8yH6FWPw:1636472976336&ei=kJiKYffuE4SI9u8P3PaxyA0&start=50&sa=N&ved=2ahUKEwj39sDz0Iv0AhUEhP0HHVx7DNk4KBDy0wN6BAgBEEA&biw=1278&bih=1287&dpr=1',\n",
        "            'https://www.google.com/search?q=data+analytics+portfolio+projects&rlz=1C1GCEA_enCZ869CZ869&sxsrf=AOaemvLdmHM_-UaPexWBFeHWIvGC-YluVw:1636472991690&ei=n5iKYa6zKciO9u8Pz5KaiA0&start=60&sa=N&ved=2ahUKEwju_un60Iv0AhVIh_0HHU-JBtE4MhDy0wN6BAgBEEI&biw=1278&bih=1287&dpr=1',\n",
        "            'https://www.google.com/search?q=data+analytics+portfolio+projects&rlz=1C1GCEA_enCZ869CZ869&sxsrf=AOaemvKRUHFNU2n9YGM7MpgRRtxolvQWcw:1636473009693&ei=sZiKYarbKeeF9u8PrPGWuAo&start=70&sa=N&ved=2ahUKEwjq97SD0Yv0AhXngv0HHay4Bac4PBDy0wN6BAgBEEE&biw=1278&bih=1287&dpr=1',\n",
        "            'https://www.google.com/search?q=data+analytics+portfolio+projects&rlz=1C1GCEA_enCZ869CZ869&sxsrf=AOaemvL0pRFQCcYFw9mkYh34bTbC9M-7sg:1636473031938&ei=x5iKYcPHOL2S9u8Pk6WlmAc&start=80&sa=N&ved=2ahUKEwiDx4KO0Yv0AhU9if0HHZNSCXM4RhDy0wN6BAgBEEE&biw=1278&bih=1287&dpr=1',\n",
        "            'https://www.google.com/search?q=data+analytics+portfolio+projects&rlz=1C1GCEA_enCZ869CZ869&sxsrf=AOaemvKKAXCIenr8Rw60Sl1FLyGUDfNUYQ:1636473057767&ei=4ZiKYav9LfHg7_UP6v2BuAI&start=90&sa=N&ved=2ahUKEwjr8aqa0Yv0AhVx8LsIHep-ACc4UBDy0wN6BAgBEEI&biw=1278&bih=1287&dpr=1',\n",
        "            'https://www.google.com/search?q=data+analytics+portfolio+projects&rlz=1C1GCEA_enCZ869CZ869&sxsrf=AOaemvIqIgE2rHPr5KI8le-RhL7NxUH9Iw:1636473095677&ei=B5mKYczaKNLh7_UP88OO4AE&start=100&sa=N&ved=2ahUKEwiM-rSs0Yv0AhXS8LsIHfOhAxw4WhDy0wN6BAgBEEE&biw=1278&bih=1287&dpr=1',\n",
        "]"
      ],
      "id": "_pFQ_dMJNUq6",
      "execution_count": null,
      "outputs": []
    },
    {
      "cell_type": "code",
      "metadata": {
        "id": "HPlJzZySNnXx"
      },
      "source": [
        "page = requests.get(url_list[0])\n",
        "soup = BeautifulSoup(page.content, 'html.parser')"
      ],
      "id": "HPlJzZySNnXx",
      "execution_count": null,
      "outputs": []
    },
    {
      "cell_type": "code",
      "metadata": {
        "colab": {
          "base_uri": "https://localhost:8080/"
        },
        "id": "A-wGsDh3OCII",
        "outputId": "3338f629-368d-4c31-e2f2-c1b899c1f291"
      },
      "source": [
        "soup.find_all('h3')"
      ],
      "id": "A-wGsDh3OCII",
      "execution_count": null,
      "outputs": [
        {
          "output_type": "execute_result",
          "data": {
            "text/plain": [
              "[<h3 class=\"zBAuLc l97dzf\"><div class=\"BNeawe vvjwJb AP7Wnd\">9 Data Analytics Portfolio Examples [2021 Edition] - CareerFoundry</div></h3>,\n",
              " <h3 class=\"zBAuLc l97dzf\"><div class=\"BNeawe vvjwJb AP7Wnd\">How To Build A Data Analytics Portfolio [Complete Guide]</div></h3>,\n",
              " <h3 class=\"zBAuLc l97dzf\"><div class=\"BNeawe vvjwJb AP7Wnd\">How to Build a Data Analyst Portfolio: Tips for Success | Coursera</div></h3>,\n",
              " <h3 class=\"zBAuLc l97dzf\"><div class=\"BNeawe vvjwJb AP7Wnd\">How to Build an Impressive Data Analytics Portfolio | Springboard Blog</div></h3>,\n",
              " <h3 class=\"zBAuLc l97dzf\"><div class=\"BNeawe vvjwJb AP7Wnd\">Data Analyst Portfolio Project | SQL Data Exploration | Project 1/4</div></h3>,\n",
              " <h3 class=\"zBAuLc l97dzf\"><div class=\"BNeawe vvjwJb AP7Wnd\">Data Analyst Portfolio | Include THESE Projects! - YouTube</div></h3>,\n",
              " <h3 class=\"zBAuLc l97dzf\"><div class=\"BNeawe vvjwJb AP7Wnd\">Guide to building a data analyst portfolio - Codecademy</div></h3>,\n",
              " <h3 class=\"zBAuLc l97dzf\"><div class=\"BNeawe vvjwJb AP7Wnd\">Data Analytics Project Ideas That Will Get You The Job | StrataScratch</div></h3>,\n",
              " <h3 class=\"zBAuLc l97dzf\"><div class=\"BNeawe vvjwJb AP7Wnd\">Data Science Portfolios That Will Get You the Job - Dataquest</div></h3>,\n",
              " <h3 class=\"zBAuLc l97dzf\"><div class=\"BNeawe vvjwJb AP7Wnd\">Projects to Include in a Data Science Portfolio - KDnuggets</div></h3>]"
            ]
          },
          "metadata": {},
          "execution_count": 8
        }
      ]
    },
    {
      "cell_type": "code",
      "metadata": {
        "colab": {
          "base_uri": "https://localhost:8080/"
        },
        "id": "VKHRILRQOpCI",
        "outputId": "86d4d005-7f4e-4ade-8b3c-3f23f93ca4b5"
      },
      "source": [
        "#[h.parent for h in soup.find_all('div', 'BNeawe vvjwJb AP7Wnd')]\n",
        "urls = [h.parent['href'] for h in soup.find_all('h3')]\n",
        "for url in urls:\n",
        "  #print(type(re.search(r'q=(.*?)&amp', url)))\n",
        "  print(re.search(r'q=(.*?)&', url).group(1))"
      ],
      "id": "VKHRILRQOpCI",
      "execution_count": null,
      "outputs": [
        {
          "output_type": "stream",
          "name": "stdout",
          "text": [
            "https://careerfoundry.com/en/blog/data-analytics/data-analytics-portfolio-examples/\n",
            "https://careerfoundry.com/en/blog/data-analytics/data-analyst-portfolio/\n",
            "https://www.coursera.org/articles/how-to-build-a-data-analyst-portfolio\n",
            "https://www.springboard.com/blog/data-analytics/data-analyst-portfolio/\n",
            "https://www.youtube.com/watch%3Fv%3DqfyynHBFOsM\n",
            "https://www.youtube.com/watch%3Fv%3DtW89_4psTWg\n",
            "https://www.codecademy.com/resources/blog/data-analyst-portfolio/\n",
            "https://www.stratascratch.com/blog/data-analytics-project-ideas-that-will-get-you-the-job/\n",
            "https://www.dataquest.io/blog/build-a-data-science-portfolio/\n",
            "https://www.kdnuggets.com/2019/04/projects-include-data-science-portfolio.html\n"
          ]
        }
      ]
    },
    {
      "cell_type": "code",
      "metadata": {
        "colab": {
          "base_uri": "https://localhost:8080/"
        },
        "id": "R7FByYOoO5KB",
        "outputId": "6a768dde-5082-46fe-9d1f-ed89aa3b6912"
      },
      "source": [
        "[re.search(r'q=(.*?)&', h.parent['href']).group(1) for h in soup.find_all('h3')]"
      ],
      "id": "R7FByYOoO5KB",
      "execution_count": null,
      "outputs": [
        {
          "output_type": "execute_result",
          "data": {
            "text/plain": [
              "['https://careerfoundry.com/en/blog/data-analytics/data-analytics-portfolio-examples/',\n",
              " 'https://careerfoundry.com/en/blog/data-analytics/data-analyst-portfolio/',\n",
              " 'https://www.coursera.org/articles/how-to-build-a-data-analyst-portfolio',\n",
              " 'https://www.springboard.com/blog/data-analytics/data-analyst-portfolio/',\n",
              " 'https://www.youtube.com/watch%3Fv%3DqfyynHBFOsM',\n",
              " 'https://www.youtube.com/watch%3Fv%3DtW89_4psTWg',\n",
              " 'https://www.codecademy.com/resources/blog/data-analyst-portfolio/',\n",
              " 'https://www.stratascratch.com/blog/data-analytics-project-ideas-that-will-get-you-the-job/',\n",
              " 'https://www.dataquest.io/blog/build-a-data-science-portfolio/',\n",
              " 'https://www.kdnuggets.com/2019/04/projects-include-data-science-portfolio.html']"
            ]
          },
          "metadata": {},
          "execution_count": 36
        }
      ]
    },
    {
      "cell_type": "code",
      "metadata": {
        "id": "X1ncdYikVPWe",
        "colab": {
          "base_uri": "https://localhost:8080/"
        },
        "outputId": "6db9b81f-c9dd-41ca-9bc2-5c818421661b"
      },
      "source": [
        "[t.text for t in soup.find_all('h3')]"
      ],
      "id": "X1ncdYikVPWe",
      "execution_count": null,
      "outputs": [
        {
          "output_type": "execute_result",
          "data": {
            "text/plain": [
              "['9 Data Analytics Portfolio Examples [2021 Edition] - CareerFoundry',\n",
              " 'How To Build A Data Analytics Portfolio [Complete Guide]',\n",
              " 'How to Build a Data Analyst Portfolio: Tips for Success | Coursera',\n",
              " 'How to Build an Impressive Data Analytics Portfolio | Springboard Blog',\n",
              " 'Data Analyst Portfolio Project | SQL Data Exploration | Project 1/4',\n",
              " 'Data Analyst Portfolio | Include THESE Projects! - YouTube',\n",
              " 'Guide to building a data analyst portfolio - Codecademy',\n",
              " 'Data Analytics Project Ideas That Will Get You The Job | StrataScratch',\n",
              " 'Data Science Portfolios That Will Get You the Job - Dataquest',\n",
              " 'Projects to Include in a Data Science Portfolio - KDnuggets']"
            ]
          },
          "metadata": {},
          "execution_count": 38
        }
      ]
    },
    {
      "cell_type": "code",
      "metadata": {
        "id": "IFI0VwZFVcjW",
        "colab": {
          "base_uri": "https://localhost:8080/",
          "height": 359
        },
        "outputId": "206cb62a-20d4-4e2f-ca29-f4f4dcfdac62"
      },
      "source": [
        "pd.set_option(\"display.max_colwidth\", None)\n",
        "pd.DataFrame.from_dict({'title': [t.text for t in soup.find_all('h3')], 'url':[re.search(r'q=(.*?)&', h.parent['href']).group(1) for h in soup.find_all('h3')]})"
      ],
      "id": "IFI0VwZFVcjW",
      "execution_count": null,
      "outputs": [
        {
          "output_type": "execute_result",
          "data": {
            "text/html": [
              "<div>\n",
              "<style scoped>\n",
              "    .dataframe tbody tr th:only-of-type {\n",
              "        vertical-align: middle;\n",
              "    }\n",
              "\n",
              "    .dataframe tbody tr th {\n",
              "        vertical-align: top;\n",
              "    }\n",
              "\n",
              "    .dataframe thead th {\n",
              "        text-align: right;\n",
              "    }\n",
              "</style>\n",
              "<table border=\"1\" class=\"dataframe\">\n",
              "  <thead>\n",
              "    <tr style=\"text-align: right;\">\n",
              "      <th></th>\n",
              "      <th>title</th>\n",
              "      <th>url</th>\n",
              "    </tr>\n",
              "  </thead>\n",
              "  <tbody>\n",
              "    <tr>\n",
              "      <th>0</th>\n",
              "      <td>9 Data Analytics Portfolio Examples [2021 Edition] - CareerFoundry</td>\n",
              "      <td>https://careerfoundry.com/en/blog/data-analytics/data-analytics-portfolio-examples/</td>\n",
              "    </tr>\n",
              "    <tr>\n",
              "      <th>1</th>\n",
              "      <td>How To Build A Data Analytics Portfolio [Complete Guide]</td>\n",
              "      <td>https://careerfoundry.com/en/blog/data-analytics/data-analyst-portfolio/</td>\n",
              "    </tr>\n",
              "    <tr>\n",
              "      <th>2</th>\n",
              "      <td>How to Build a Data Analyst Portfolio: Tips for Success | Coursera</td>\n",
              "      <td>https://www.coursera.org/articles/how-to-build-a-data-analyst-portfolio</td>\n",
              "    </tr>\n",
              "    <tr>\n",
              "      <th>3</th>\n",
              "      <td>How to Build an Impressive Data Analytics Portfolio | Springboard Blog</td>\n",
              "      <td>https://www.springboard.com/blog/data-analytics/data-analyst-portfolio/</td>\n",
              "    </tr>\n",
              "    <tr>\n",
              "      <th>4</th>\n",
              "      <td>Data Analyst Portfolio Project | SQL Data Exploration | Project 1/4</td>\n",
              "      <td>https://www.youtube.com/watch%3Fv%3DqfyynHBFOsM</td>\n",
              "    </tr>\n",
              "    <tr>\n",
              "      <th>5</th>\n",
              "      <td>Data Analyst Portfolio | Include THESE Projects! - YouTube</td>\n",
              "      <td>https://www.youtube.com/watch%3Fv%3DtW89_4psTWg</td>\n",
              "    </tr>\n",
              "    <tr>\n",
              "      <th>6</th>\n",
              "      <td>Guide to building a data analyst portfolio - Codecademy</td>\n",
              "      <td>https://www.codecademy.com/resources/blog/data-analyst-portfolio/</td>\n",
              "    </tr>\n",
              "    <tr>\n",
              "      <th>7</th>\n",
              "      <td>Data Analytics Project Ideas That Will Get You The Job | StrataScratch</td>\n",
              "      <td>https://www.stratascratch.com/blog/data-analytics-project-ideas-that-will-get-you-the-job/</td>\n",
              "    </tr>\n",
              "    <tr>\n",
              "      <th>8</th>\n",
              "      <td>Data Science Portfolios That Will Get You the Job - Dataquest</td>\n",
              "      <td>https://www.dataquest.io/blog/build-a-data-science-portfolio/</td>\n",
              "    </tr>\n",
              "    <tr>\n",
              "      <th>9</th>\n",
              "      <td>Projects to Include in a Data Science Portfolio - KDnuggets</td>\n",
              "      <td>https://www.kdnuggets.com/2019/04/projects-include-data-science-portfolio.html</td>\n",
              "    </tr>\n",
              "  </tbody>\n",
              "</table>\n",
              "</div>"
            ],
            "text/plain": [
              "                                                                    title                                                                                         url\n",
              "0      9 Data Analytics Portfolio Examples [2021 Edition] - CareerFoundry         https://careerfoundry.com/en/blog/data-analytics/data-analytics-portfolio-examples/\n",
              "1                How To Build A Data Analytics Portfolio [Complete Guide]                    https://careerfoundry.com/en/blog/data-analytics/data-analyst-portfolio/\n",
              "2      How to Build a Data Analyst Portfolio: Tips for Success | Coursera                     https://www.coursera.org/articles/how-to-build-a-data-analyst-portfolio\n",
              "3  How to Build an Impressive Data Analytics Portfolio | Springboard Blog                     https://www.springboard.com/blog/data-analytics/data-analyst-portfolio/\n",
              "4     Data Analyst Portfolio Project | SQL Data Exploration | Project 1/4                                             https://www.youtube.com/watch%3Fv%3DqfyynHBFOsM\n",
              "5              Data Analyst Portfolio | Include THESE Projects! - YouTube                                             https://www.youtube.com/watch%3Fv%3DtW89_4psTWg\n",
              "6                 Guide to building a data analyst portfolio - Codecademy                           https://www.codecademy.com/resources/blog/data-analyst-portfolio/\n",
              "7  Data Analytics Project Ideas That Will Get You The Job | StrataScratch  https://www.stratascratch.com/blog/data-analytics-project-ideas-that-will-get-you-the-job/\n",
              "8           Data Science Portfolios That Will Get You the Job - Dataquest                               https://www.dataquest.io/blog/build-a-data-science-portfolio/\n",
              "9             Projects to Include in a Data Science Portfolio - KDnuggets              https://www.kdnuggets.com/2019/04/projects-include-data-science-portfolio.html"
            ]
          },
          "metadata": {},
          "execution_count": 41
        }
      ]
    },
    {
      "cell_type": "code",
      "metadata": {
        "id": "TBe8LPf-V8te",
        "colab": {
          "base_uri": "https://localhost:8080/",
          "height": 419
        },
        "outputId": "8061242b-8816-4434-c677-b5d69ff5d4d1"
      },
      "source": [
        "df = pd.DataFrame(columns=['title', 'url'])\n",
        "for url in url_list:\n",
        "  page = requests.get(url)\n",
        "  soup = BeautifulSoup(page.content, 'html.parser')\n",
        "  df = df.append(\n",
        "      pd.DataFrame.from_dict({'title': [t.text for t in soup.find_all('h3')], 'url':[re.search(r'q=(.*?)&', h.parent['href']).group(1) for h in soup.find_all('h3')]}),\n",
        "      ignore_index=True\n",
        "  )\n",
        "df"
      ],
      "id": "TBe8LPf-V8te",
      "execution_count": null,
      "outputs": [
        {
          "output_type": "execute_result",
          "data": {
            "text/html": [
              "<div>\n",
              "<style scoped>\n",
              "    .dataframe tbody tr th:only-of-type {\n",
              "        vertical-align: middle;\n",
              "    }\n",
              "\n",
              "    .dataframe tbody tr th {\n",
              "        vertical-align: top;\n",
              "    }\n",
              "\n",
              "    .dataframe thead th {\n",
              "        text-align: right;\n",
              "    }\n",
              "</style>\n",
              "<table border=\"1\" class=\"dataframe\">\n",
              "  <thead>\n",
              "    <tr style=\"text-align: right;\">\n",
              "      <th></th>\n",
              "      <th>title</th>\n",
              "      <th>url</th>\n",
              "    </tr>\n",
              "  </thead>\n",
              "  <tbody>\n",
              "    <tr>\n",
              "      <th>0</th>\n",
              "      <td>9 Data Analytics Portfolio Examples [2021 Edition] - CareerFoundry</td>\n",
              "      <td>https://careerfoundry.com/en/blog/data-analytics/data-analytics-portfolio-examples/</td>\n",
              "    </tr>\n",
              "    <tr>\n",
              "      <th>1</th>\n",
              "      <td>How To Build A Data Analytics Portfolio [Complete Guide]</td>\n",
              "      <td>https://careerfoundry.com/en/blog/data-analytics/data-analyst-portfolio/</td>\n",
              "    </tr>\n",
              "    <tr>\n",
              "      <th>2</th>\n",
              "      <td>How to Build a Data Analyst Portfolio: Tips for Success | Coursera</td>\n",
              "      <td>https://www.coursera.org/articles/how-to-build-a-data-analyst-portfolio</td>\n",
              "    </tr>\n",
              "    <tr>\n",
              "      <th>3</th>\n",
              "      <td>How to Build an Impressive Data Analytics Portfolio | Springboard Blog</td>\n",
              "      <td>https://www.springboard.com/blog/data-analytics/data-analyst-portfolio/</td>\n",
              "    </tr>\n",
              "    <tr>\n",
              "      <th>4</th>\n",
              "      <td>Data Analyst Portfolio Project | SQL Data Exploration | Project 1/4</td>\n",
              "      <td>https://www.youtube.com/watch%3Fv%3DqfyynHBFOsM</td>\n",
              "    </tr>\n",
              "    <tr>\n",
              "      <th>...</th>\n",
              "      <td>...</td>\n",
              "      <td>...</td>\n",
              "    </tr>\n",
              "    <tr>\n",
              "      <th>105</th>\n",
              "      <td>Data Science Immersive: Dallas - General Assembly</td>\n",
              "      <td>https://generalassemb.ly/education/data-science-immersive/dallas</td>\n",
              "    </tr>\n",
              "    <tr>\n",
              "      <th>106</th>\n",
              "      <td>Verisk Business/Data Analyst, Portfolio Management | SmartRecruiters</td>\n",
              "      <td>https://jobs.smartrecruiters.com/Verisk/743999780300762-business-data-analyst-portfolio-management</td>\n",
              "    </tr>\n",
              "    <tr>\n",
              "      <th>107</th>\n",
              "      <td>4 Types of Data Analytics to Improve Decision-Making - ScienceSoft</td>\n",
              "      <td>https://www.scnsoft.com/blog/4-types-of-data-analytics</td>\n",
              "    </tr>\n",
              "    <tr>\n",
              "      <th>108</th>\n",
              "      <td>Business Intelligence - Project &amp; Portfolio Visualization and Data ...</td>\n",
              "      <td>https://fluentpro.com/business-intelligence</td>\n",
              "    </tr>\n",
              "    <tr>\n",
              "      <th>109</th>\n",
              "      <td>Data Analytics for Project and Portfolio Estimates - QSM</td>\n",
              "      <td>https://www.qsm.com/blog/2020/data-analytics-project-and-portfolio-estimates</td>\n",
              "    </tr>\n",
              "  </tbody>\n",
              "</table>\n",
              "<p>110 rows × 2 columns</p>\n",
              "</div>"
            ],
            "text/plain": [
              "                                                                      title                                                                                                 url\n",
              "0        9 Data Analytics Portfolio Examples [2021 Edition] - CareerFoundry                 https://careerfoundry.com/en/blog/data-analytics/data-analytics-portfolio-examples/\n",
              "1                  How To Build A Data Analytics Portfolio [Complete Guide]                            https://careerfoundry.com/en/blog/data-analytics/data-analyst-portfolio/\n",
              "2        How to Build a Data Analyst Portfolio: Tips for Success | Coursera                             https://www.coursera.org/articles/how-to-build-a-data-analyst-portfolio\n",
              "3    How to Build an Impressive Data Analytics Portfolio | Springboard Blog                             https://www.springboard.com/blog/data-analytics/data-analyst-portfolio/\n",
              "4       Data Analyst Portfolio Project | SQL Data Exploration | Project 1/4                                                     https://www.youtube.com/watch%3Fv%3DqfyynHBFOsM\n",
              "..                                                                      ...                                                                                                 ...\n",
              "105                       Data Science Immersive: Dallas - General Assembly                                    https://generalassemb.ly/education/data-science-immersive/dallas\n",
              "106    Verisk Business/Data Analyst, Portfolio Management | SmartRecruiters  https://jobs.smartrecruiters.com/Verisk/743999780300762-business-data-analyst-portfolio-management\n",
              "107      4 Types of Data Analytics to Improve Decision-Making - ScienceSoft                                              https://www.scnsoft.com/blog/4-types-of-data-analytics\n",
              "108  Business Intelligence - Project & Portfolio Visualization and Data ...                                                         https://fluentpro.com/business-intelligence\n",
              "109                Data Analytics for Project and Portfolio Estimates - QSM                        https://www.qsm.com/blog/2020/data-analytics-project-and-portfolio-estimates\n",
              "\n",
              "[110 rows x 2 columns]"
            ]
          },
          "metadata": {},
          "execution_count": 46
        }
      ]
    },
    {
      "cell_type": "code",
      "metadata": {
        "id": "dJr4onbDYJFu"
      },
      "source": [
        "df.to_csv('data_analytics_portfolio_projects.csv', encoding='utf-8')"
      ],
      "id": "dJr4onbDYJFu",
      "execution_count": null,
      "outputs": []
    },
    {
      "cell_type": "code",
      "metadata": {
        "id": "MH5k-bfpanx8"
      },
      "source": [
        ""
      ],
      "id": "MH5k-bfpanx8",
      "execution_count": null,
      "outputs": []
    }
  ]
}