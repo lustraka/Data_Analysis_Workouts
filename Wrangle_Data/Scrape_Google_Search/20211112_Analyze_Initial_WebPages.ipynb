{
  "nbformat": 4,
  "nbformat_minor": 5,
  "metadata": {
    "kernelspec": {
      "display_name": "Python 3",
      "language": "python",
      "name": "python3"
    },
    "language_info": {
      "codemirror_mode": {
        "name": "ipython",
        "version": 3
      },
      "file_extension": ".py",
      "mimetype": "text/x-python",
      "name": "python",
      "nbconvert_exporter": "python",
      "pygments_lexer": "ipython3",
      "version": "3.7.11"
    },
    "colab": {
      "name": "20211112_Analyze_Initial_WebPages.ipynb",
      "provenance": [],
      "include_colab_link": true
    }
  },
  "cells": [
    {
      "cell_type": "markdown",
      "metadata": {
        "id": "view-in-github",
        "colab_type": "text"
      },
      "source": [
        "<a href=\"https://colab.research.google.com/github/lustraka/data-analyst-portfolio-project-2022/blob/main/code/20211112_Analyze_Initial_WebPages.ipynb\" target=\"_parent\"><img src=\"https://colab.research.google.com/assets/colab-badge.svg\" alt=\"Open In Colab\"/></a>"
      ]
    },
    {
      "cell_type": "code",
      "metadata": {
        "id": "PaP8cd8rTz0i"
      },
      "source": [
        "# Import dependencies\n",
        "import requests\n",
        "from bs4 import BeautifulSoup\n",
        "import pandas as pd\n",
        "import numpy as np\n",
        "import matplotlib.pyplot as plt\n",
        "import seaborn as sns\n",
        "import re"
      ],
      "id": "PaP8cd8rTz0i",
      "execution_count": 38,
      "outputs": []
    },
    {
      "cell_type": "code",
      "metadata": {
        "id": "oS8jfXUvTe7U",
        "colab": {
          "base_uri": "https://localhost:8080/"
        },
        "outputId": "13f90c5b-6e56-4659-d266-8d627273930f"
      },
      "source": [
        "# Store dataframes for further processing\n",
        "from sqlalchemy import create_engine\n",
        "\n",
        "# Upload the database from GitHub\n",
        "url_db = 'https://github.com/lustraka/data-analyst-portfolio-project-2022/blob/main/data/dapp2022.db?raw=true'\n",
        "r = requests.get(url_db)\n",
        "with open('dapp2022.db', 'wb') as file:\n",
        "  file.write(r.content)\n",
        "\n",
        "# Create SQLAlchemy engine and connect to the database\n",
        "engine = create_engine('sqlite:///dapp2022.db')\n",
        "\n",
        "# Read dataframes from SQlite database\n",
        "wp_root = pd.read_sql('SELECT * FROM wp_root', engine)\n",
        "wp_root.info()"
      ],
      "id": "oS8jfXUvTe7U",
      "execution_count": 30,
      "outputs": [
        {
          "output_type": "stream",
          "name": "stdout",
          "text": [
            "<class 'pandas.core.frame.DataFrame'>\n",
            "RangeIndex: 120 entries, 0 to 119\n",
            "Data columns (total 8 columns):\n",
            " #   Column     Non-Null Count  Dtype \n",
            "---  ------     --------------  ----- \n",
            " 0   index      120 non-null    int64 \n",
            " 1   id         120 non-null    object\n",
            " 2   title      120 non-null    object\n",
            " 3   wp_url     120 non-null    object\n",
            " 4   status     120 non-null    int64 \n",
            " 5   status_ts  120 non-null    object\n",
            " 6   text       120 non-null    object\n",
            " 7   text_len   120 non-null    int64 \n",
            "dtypes: int64(3), object(5)\n",
            "memory usage: 7.6+ KB\n"
          ]
        }
      ]
    },
    {
      "cell_type": "code",
      "metadata": {
        "id": "io5uneQSdbba",
        "colab": {
          "base_uri": "https://localhost:8080/"
        },
        "outputId": "dacfb57f-8dca-412b-fc80-0dcbc46a242b"
      },
      "source": [
        "wp_root.status.value_counts()"
      ],
      "id": "io5uneQSdbba",
      "execution_count": 31,
      "outputs": [
        {
          "output_type": "execute_result",
          "data": {
            "text/plain": [
              "200    103\n",
              "403     10\n",
              "406      2\n",
              "503      1\n",
              "500      1\n",
              "429      1\n",
              "418      1\n",
              "404      1\n",
              "Name: status, dtype: int64"
            ]
          },
          "metadata": {},
          "execution_count": 31
        }
      ]
    },
    {
      "cell_type": "markdown",
      "metadata": {
        "id": "Q0nraEvPOeBb"
      },
      "source": [
        "**HTTP Status Codes**\n",
        "\n",
        "Number | Meaning\n",
        "-|-\n",
        "200 | OK\n",
        "403 | Forbidden\n",
        "404 | Not Found\n",
        "406 | Not Acceptable\n",
        "418 | I'm a teapot (RFC 2324, RFC 7168)\n",
        "429 | Too Many Requests (RFC 6585)\n",
        "500 | Internal Server Error\n",
        "503 | Service Unavailable"
      ],
      "id": "Q0nraEvPOeBb"
    },
    {
      "cell_type": "code",
      "metadata": {
        "colab": {
          "base_uri": "https://localhost:8080/"
        },
        "id": "pELswV2DO1h7",
        "outputId": "064cae94-165d-4830-e1b2-9f8c63af13ed"
      },
      "source": [
        "wp_root.query('status == 200 and text_len == 0')['wp_url'].to_numpy()"
      ],
      "id": "pELswV2DO1h7",
      "execution_count": 32,
      "outputs": [
        {
          "output_type": "execute_result",
          "data": {
            "text/plain": [
              "array(['https://www2.deloitte.com/content/dam/Deloitte/us/Documents/financial-services/us-enabling-project-success-through-analytics-placemat.pdf',\n",
              "       'https://www.oracle.com/a/ocom/docs/dc/ne/aconexplaybookapril2018finalweb.pdf'],\n",
              "      dtype=object)"
            ]
          },
          "metadata": {},
          "execution_count": 32
        }
      ]
    },
    {
      "cell_type": "code",
      "metadata": {
        "colab": {
          "base_uri": "https://localhost:8080/"
        },
        "id": "9k2rgdHwQAjb",
        "outputId": "e45a385f-722b-453c-b93a-282ba26be960"
      },
      "source": [
        "wp_root.query('text_len > 0').shape[0]"
      ],
      "id": "9k2rgdHwQAjb",
      "execution_count": 33,
      "outputs": [
        {
          "output_type": "execute_result",
          "data": {
            "text/plain": [
              "101"
            ]
          },
          "metadata": {},
          "execution_count": 33
        }
      ]
    },
    {
      "cell_type": "markdown",
      "metadata": {
        "id": "LldnFIbsQzh0"
      },
      "source": [
        "**Conclusion** (2021-11-12) : Out of 120 web pages, 103 could be successfully loaded by the `requests.get()` function. Two URLs pointed to PDF files and couldn't be parsed with a html parser. So we ended up with 101 web pages for automated text processing. All pages are accessible via a browser, though.\n",
        "\n",
        "**Caveat**: The results can differ when run again another time!"
      ],
      "id": "LldnFIbsQzh0"
    },
    {
      "cell_type": "code",
      "metadata": {
        "colab": {
          "base_uri": "https://localhost:8080/",
          "height": 80
        },
        "id": "58Gm1-VlQsZ7",
        "outputId": "d8a6314a-aaef-4e2a-d884-669e06c04c95"
      },
      "source": [
        "# Check selected records\n",
        "wp_root.query('status == 404')"
      ],
      "id": "58Gm1-VlQsZ7",
      "execution_count": 34,
      "outputs": [
        {
          "output_type": "execute_result",
          "data": {
            "text/html": [
              "<div>\n",
              "<style scoped>\n",
              "    .dataframe tbody tr th:only-of-type {\n",
              "        vertical-align: middle;\n",
              "    }\n",
              "\n",
              "    .dataframe tbody tr th {\n",
              "        vertical-align: top;\n",
              "    }\n",
              "\n",
              "    .dataframe thead th {\n",
              "        text-align: right;\n",
              "    }\n",
              "</style>\n",
              "<table border=\"1\" class=\"dataframe\">\n",
              "  <thead>\n",
              "    <tr style=\"text-align: right;\">\n",
              "      <th></th>\n",
              "      <th>index</th>\n",
              "      <th>id</th>\n",
              "      <th>title</th>\n",
              "      <th>wp_url</th>\n",
              "      <th>status</th>\n",
              "      <th>status_ts</th>\n",
              "      <th>text</th>\n",
              "      <th>text_len</th>\n",
              "    </tr>\n",
              "  </thead>\n",
              "  <tbody>\n",
              "    <tr>\n",
              "      <th>81</th>\n",
              "      <td>81</td>\n",
              "      <td>WP82</td>\n",
              "      <td>Data Analyst - Portfolio - OVO Group Careers</td>\n",
              "      <td>https://careers.ovo.com/data-analyst-portfolio...</td>\n",
              "      <td>404</td>\n",
              "      <td>2021-11-11 15:57:25.853109</td>\n",
              "      <td></td>\n",
              "      <td>0</td>\n",
              "    </tr>\n",
              "  </tbody>\n",
              "</table>\n",
              "</div>"
            ],
            "text/plain": [
              "    index    id  ... text text_len\n",
              "81     81  WP82  ...             0\n",
              "\n",
              "[1 rows x 8 columns]"
            ]
          },
          "metadata": {},
          "execution_count": 34
        }
      ]
    },
    {
      "cell_type": "code",
      "metadata": {
        "id": "jFZKgjU_dxbf"
      },
      "source": [
        "def get_site(url):\n",
        "  \"\"\"Return site from URL address.\"\"\"\n",
        "  return re.search('://(.*?)/', url).group(1)"
      ],
      "id": "jFZKgjU_dxbf",
      "execution_count": 44,
      "outputs": []
    },
    {
      "cell_type": "code",
      "metadata": {
        "id": "Qz3IWiFqSJwB"
      },
      "source": [
        "# Report results in markdown\n",
        "# for _, row in wp_root.iterrows():\n",
        "#   print(f'- [{row[1]}] [{row[2]}]({row[3]}) ({row[4]} | {row[7]})')"
      ],
      "id": "Qz3IWiFqSJwB",
      "execution_count": 45,
      "outputs": []
    },
    {
      "cell_type": "code",
      "metadata": {
        "id": "mdJ2S3YnTOe6"
      },
      "source": [
        "# Prepare a markdown table for manual data collection\n",
        "# print('| id | title | site | wp_cat | wp_published | wp_updated | authors | notes |')\n",
        "# print('| - | - | - | - | - | - | - | - |')\n",
        "# for _, row in wp_root.iterrows():\n",
        "#   print(f'| {row[1]} | {row[2][:20]}... | {get_site(row[3])} | - | - | - | - | - |')"
      ],
      "id": "mdJ2S3YnTOe6",
      "execution_count": 52,
      "outputs": []
    },
    {
      "cell_type": "code",
      "metadata": {
        "id": "EV2H9A3Xcx0_"
      },
      "source": [
        ""
      ],
      "id": "EV2H9A3Xcx0_",
      "execution_count": null,
      "outputs": []
    }
  ]
}
