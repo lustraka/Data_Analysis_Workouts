{
  "nbformat": 4,
  "nbformat_minor": 5,
  "metadata": {
    "kernelspec": {
      "display_name": "Python 3",
      "language": "python",
      "name": "python3"
    },
    "language_info": {
      "codemirror_mode": {
        "name": "ipython",
        "version": 3
      },
      "file_extension": ".py",
      "mimetype": "text/x-python",
      "name": "python",
      "nbconvert_exporter": "python",
      "pygments_lexer": "ipython3",
      "version": "3.7.11"
    },
    "colab": {
      "name": "20211111_Scrape_WebPages_Root.ipynb",
      "provenance": [],
      "include_colab_link": true
    }
  },
  "cells": [
    {
      "cell_type": "markdown",
      "metadata": {
        "id": "view-in-github",
        "colab_type": "text"
      },
      "source": [
        "<a href=\"https://colab.research.google.com/github/lustraka/data-analyst-portfolio-project-2022/blob/main/code/20211111_Scrape_WebPages_Root.ipynb\" target=\"_parent\"><img src=\"https://colab.research.google.com/assets/colab-badge.svg\" alt=\"Open In Colab\"/></a>"
      ]
    },
    {
      "cell_type": "markdown",
      "metadata": {
        "id": "oCZquV4HQ2R9"
      },
      "source": [
        "# Scrape Web Pages From a Google Search\n",
        "## Background\n",
        "### Purpose\n",
        "Purpose of this code is to scrape results of the google search and store it into an SQlite database.\n",
        "### Input\n",
        "Query: `data analytics portfolio projects`\n",
        "### Output\n",
        "\n",
        "A Data Set Stucture:\n",
        "\n",
        "Variable | Description\n",
        "-|-\n",
        "id | An unique idenitifier starting with `WP`.\n",
        "title | A title of the web page retrieved from the google search results.\n",
        "url | A URL of the web page retrieved from the google search.\n",
        "status | A statuts of the `requests`' response object.\n",
        "status_ts | A datetime of the web page scraping.\n",
        "text | A raw text of the response (body.text) if status == 200.\n",
        "text_len | The lenght of the text extracted from the page.\n",
        "\n",
        "The dataset is named 'wp_root' and stored in the SQLite database named `dapp2022.db`.\n"
      ],
      "id": "oCZquV4HQ2R9"
    },
    {
      "cell_type": "code",
      "metadata": {
        "id": "87h-gyLDNR0C"
      },
      "source": [
        "# Import dependencies\n",
        "import requests\n",
        "from bs4 import BeautifulSoup\n",
        "import pandas as pd\n",
        "import numpy as np\n",
        "import re"
      ],
      "id": "87h-gyLDNR0C",
      "execution_count": 1,
      "outputs": []
    },
    {
      "cell_type": "markdown",
      "metadata": {
        "id": "miI7qzz9Vmkb"
      },
      "source": [
        "## Gather URLs Returned by the Google Search"
      ],
      "id": "miI7qzz9Vmkb"
    },
    {
      "cell_type": "code",
      "metadata": {
        "id": "_pFQ_dMJNUq6",
        "colab": {
          "base_uri": "https://localhost:8080/"
        },
        "outputId": "4f4f8f22-1ced-492e-d9de-6090f0fd3506"
      },
      "source": [
        "# Gather results of the google search\n",
        "goo_urls = [\n",
        "            'https://www.google.com/search?q=data+analytics+portfolio+projects&rlz=1C1GCEA_enCZ869CZ869&oq=data&aqs=chrome.0.69i59j69i57j69i59l2j46i199i291i512j0i512j46i199i465i512l2j0i512j46i199i465i512.11687j0j15&sourceid=chrome&ie=UTF-8',\n",
        "            'https://www.google.com/search?q=data+analytics+portfolio+projects&rlz=1C1GCEA_enCZ869CZ869&sxsrf=AOaemvIv9xMqnEX0ovFt11T6fuyM3M4Mfg:1636633175528&ei=VwqNYfGxH_6Oxc8P0p2iMA&start=10&sa=N&ved=2ahUKEwixubfYpZD0AhV-R_EDHdKOCAYQ8tMDegQIARA4&biw=1265&bih=1287&dpr=1',\n",
        "            'https://www.google.com/search?q=data+analytics+portfolio+projects&rlz=1C1GCEA_enCZ869CZ869&sxsrf=AOaemvJxKspQaYOd2cHQYRiU1Sf8QhxyTg:1636633222254&ei=hgqNYczXDu2Fxc8P5q6tOA&start=20&sa=N&ved=2ahUKEwjMstvupZD0AhXtQvEDHWZXCwc4ChDy0wN6BAgBEDo&biw=1265&bih=1287&dpr=1',\n",
        "            'https://www.google.com/search?q=data+analytics+portfolio+projects&rlz=1C1GCEA_enCZ869CZ869&sxsrf=AOaemvKSYC5n5JEBpCy1JS03A8TfWmEpDA:1636633242644&ei=mgqNYcnVJv-Jxc8Ph-yROA&start=30&sa=N&ved=2ahUKEwjJirj4pZD0AhX_RPEDHQd2BAc4FBDy0wN6BAgBEDw&biw=1265&bih=1287&dpr=1',\n",
        "            'https://www.google.com/search?q=data+analytics+portfolio+projects&rlz=1C1GCEA_enCZ869CZ869&sxsrf=AOaemvJ3lAHBLk3KNhRouzNegD1l-pAc_A:1636633280596&ei=wAqNYf_fI9aGxc8P8cmyMA&start=40&sa=N&ved=2ahUKEwj_v8SKppD0AhVWQ_EDHfGkDAY4HhDy0wN6BAgBED0&biw=1265&bih=1287&dpr=1',\n",
        "            'https://www.google.com/search?q=data+analytics+portfolio+projects&rlz=1C1GCEA_enCZ869CZ869&sxsrf=AOaemvIkIcBAQyog6AgIXogehS8vXyzFbQ:1636633296603&ei=0AqNYcuWJIuHxc8Pn7ipOA&start=50&sa=N&ved=2ahUKEwjLvpWSppD0AhWLQ_EDHR9cCgc4KBDy0wN6BAgBED8&biw=1265&bih=1287&dpr=1',\n",
        "            'https://www.google.com/search?q=data+analytics+portfolio+projects&rlz=1C1GCEA_enCZ869CZ869&sxsrf=AOaemvIQJjKphf0kB1gq1GPaRGmIpt7pCQ:1636633311550&ei=3wqNYYGIIY6Sxc8P5IO0OA&start=60&sa=N&ved=2ahUKEwjB86WZppD0AhUOSfEDHeQBDQc4MhDy0wN6BAgBEEE&biw=1265&bih=1287&dpr=1',\n",
        "            'https://www.google.com/search?q=data+analytics+portfolio+projects&rlz=1C1GCEA_enCZ869CZ869&sxsrf=AOaemvLmYcP9Aba0cs-KxtNJLa4gWnW0hw:1636633329250&ei=8QqNYYa-DumSxc8PjJ2WGA&start=70&sa=N&ved=2ahUKEwjG-t2hppD0AhVpSfEDHYyOBQM4PBDy0wN6BAgBEEQ&biw=1265&bih=1287&dpr=1',\n",
        "            'https://www.google.com/search?q=data+analytics+portfolio+projects&rlz=1C1GCEA_enCZ869CZ869&sxsrf=AOaemvILi0x00qM4HGKBdbscmnlLzGWucw:1636633364526&ei=FAuNYffDH6aXxc8Pxv67OA&start=80&sa=N&ved=2ahUKEwj3nceyppD0AhWmS_EDHUb_Dgc4RhDy0wN6BAgBEEE&biw=1265&bih=1287&dpr=1',\n",
        "            'https://www.google.com/search?q=data+analytics+portfolio+projects&rlz=1C1GCEA_enCZ869CZ869&sxsrf=AOaemvKCuhyPCC8b-XqKIughGMfRyUokpQ:1636633394668&ei=MguNYe6OKICXxc8PtuO0OA&start=90&sa=N&ved=2ahUKEwju7_bAppD0AhWAS_EDHbYxDQc4UBDy0wN6BAgBEEE&biw=1265&bih=1287&dpr=1',\n",
        "            'https://www.google.com/search?q=data+analytics+portfolio+projects&rlz=1C1GCEA_enCZ869CZ869&sxsrf=AOaemvLmUEYA6FytS6bbDZuFqvnnm0eXKA:1636633424507&ei=UAuNYYqnHpOHxc8Pha26OA&start=100&sa=N&ved=2ahUKEwiKj5TPppD0AhWTQ_EDHYWWDgc4WhDy0wN6BAgBEEE&biw=1265&bih=1287&dpr=1',\n",
        "            'https://www.google.com/search?q=data+analytics+portfolio+projects&rlz=1C1GCEA_enCZ869CZ869&sxsrf=AOaemvLySR9z6lLw5QkWZKZYUihdQ9rnng:1636633438638&ei=XguNYdSWHsGQxc8P-Mij8As&start=110&sa=N&ved=2ahUKEwjUverVppD0AhVBSPEDHXjkCL44ZBDy0wN6BAgBEEI&biw=1265&bih=1287&dpr=1',\n",
        "            ]\n",
        "print(f'Here are {len(goo_urls)} URLs with results of a google search.')"
      ],
      "id": "_pFQ_dMJNUq6",
      "execution_count": 2,
      "outputs": [
        {
          "output_type": "stream",
          "name": "stdout",
          "text": [
            "Here are 12 URLs with results of a google search.\n"
          ]
        }
      ]
    },
    {
      "cell_type": "markdown",
      "metadata": {
        "id": "6etC_r2cVjqK"
      },
      "source": [
        "## Scrape URLs Returned by the Google Search\n",
        "**An algorithm in a pseudocode**:\n",
        "```\n",
        "for each goo_url in goo_urls:\n",
        "    extract title and wp_url of the search result\n",
        "    for each wp_url extracted:\n",
        "        get response and timestamp\n",
        "        if response.status == 200:\n",
        "            save body.text and its length\n",
        "        else:\n",
        "            save empty string and 0\n",
        "        save gathered observation\n",
        "identify observations and save the data set\n",
        "```\n",
        "**Algorithm's details**:\n",
        "\n",
        "To extract a title and a url of web pages found by the google search\n",
        "- get the response of the `goo_url` and create a soup object\n",
        "```python\n",
        "gpage = requests.get(goo_url)\n",
        "gsoup = BeautifulSoup(gpage.content, 'html.parser')\n",
        "```\n",
        "- find elements with search results within the `gsoup` (titles are in the **h3** tags)\n",
        "```python\n",
        "gsoup.find_all('h3')\n",
        "```\n",
        "- extract title and url related to this **h3** tag\n",
        "```python\n",
        "for h3 in gsoup.find_all('h3'):\n",
        "    title = h3.text\n",
        "    wp_url = re.search(r'q=(.*?)&', h3.parent['href']).group(1)\n",
        "```\n",
        "\n",
        "To scrape the text of the web page on `wp_url`:\n",
        "- get the response and its status code\n",
        "```python\n",
        "page = requests.get(wp_url)\n",
        "status = page.status_code\n",
        "status_ts = pd.Timestamp.today()\n",
        "```\n",
        "- extract text and its length if status code is 200 and the url is not of a pdf file otherwise impute empty values\n",
        "```python\n",
        "if status == 200 and wp_url[-3:] != \"pdf\":\n",
        "  soup = BeautifulSoup(page.content, 'html.parser')\n",
        "  if soup.body: # check that html.parser succeeded\n",
        "    text = soup.body.text\n",
        "    text_len = len(text)\n",
        "  else:\n",
        "    text, text_len = '', 0\n",
        "else:\n",
        "  text, text_len = '', 0\n",
        "```\n",
        "\n",
        "To store the results:\n",
        "- append objects to the list\n",
        "- create a dataframe from the list\n",
        "- initialize identifiers\n",
        "- create SQLAlchemy engine and empty database\n",
        "- store dataframe in the database"
      ],
      "id": "6etC_r2cVjqK"
    },
    {
      "cell_type": "code",
      "metadata": {
        "id": "MH5k-bfpanx8",
        "colab": {
          "base_uri": "https://localhost:8080/"
        },
        "outputId": "f633aaf3-7040-4203-d13c-97a457caf518"
      },
      "source": [
        "# Initialize the list for observations\n",
        "wp_root_list = []\n",
        "id_ofset = 1\n",
        "\n",
        "for goo_url in goo_urls:\n",
        "  # Get the response of the goo_url address\n",
        "  gpage = requests.get(goo_url)\n",
        "  gsoup = BeautifulSoup(gpage.content, 'html.parser')\n",
        "  # Process all results of the search found in <h3> elements\n",
        "  for h3 in gsoup.find_all('h3'):\n",
        "    # Assign title and wp_url\n",
        "    title = h3.text\n",
        "    wp_url = re.search(r'q=(.*?)&', h3.parent['href']).group(1)\n",
        "    # Get response, its status and actual time\n",
        "    page = requests.get(wp_url)\n",
        "    status = page.status_code\n",
        "    status_ts = pd.Timestamp.today()\n",
        "    # Process the response if it is a html page\n",
        "    if status == 200 and wp_url[-3:] != \"pdf\":\n",
        "      soup = BeautifulSoup(page.content, 'html.parser')\n",
        "      if soup.body: # check that html.parser succeeded\n",
        "        text = soup.body.text\n",
        "        text_len = len(text)\n",
        "      else:\n",
        "        text, text_len = '', 0\n",
        "    else:\n",
        "      text, text_len = '', 0\n",
        "    id = 'WP'+str(id_ofset)\n",
        "    id_ofset += 1\n",
        "    wp_root_list.append([id, title, wp_url, status, status_ts, text, text_len])\n",
        "    print(f'- [{id}] [{title}]({wp_url}) : (status: {status} | len : {text_len})')\n",
        "print(f'\\n\\nid_offset = {id_ofset}.')"
      ],
      "id": "MH5k-bfpanx8",
      "execution_count": 9,
      "outputs": [
        {
          "output_type": "stream",
          "name": "stdout",
          "text": [
            "- [WP1] [9 Data Analytics Portfolio Examples [2021 Edition] - CareerFoundry](https://careerfoundry.com/en/blog/data-analytics/data-analytics-portfolio-examples/) : (status: 200 | len : 25376)\n",
            "- [WP2] [How To Build A Data Analytics Portfolio [Complete Guide]](https://careerfoundry.com/en/blog/data-analytics/data-analyst-portfolio/) : (status: 200 | len : 17954)\n",
            "- [WP3] [How to Build a Data Analyst Portfolio: Tips for Success | Coursera](https://www.coursera.org/articles/how-to-build-a-data-analyst-portfolio) : (status: 200 | len : 269057)\n",
            "- [WP4] [How to Build an Impressive Data Analytics Portfolio | Springboard Blog](https://www.springboard.com/blog/data-analytics/data-analyst-portfolio/) : (status: 200 | len : 16842)\n",
            "- [WP5] [Data Analyst Portfolio Project | SQL Data Exploration | Project 1/4](https://www.youtube.com/watch%3Fv%3DqfyynHBFOsM) : (status: 429 | len : 0)\n",
            "- [WP6] [Guide to building a data analyst portfolio - Codecademy](https://www.codecademy.com/resources/blog/data-analyst-portfolio/) : (status: 200 | len : 12473)\n",
            "- [WP7] [Data Analytics Project Ideas That Will Get You The Job | StrataScratch](https://www.stratascratch.com/blog/data-analytics-project-ideas-that-will-get-you-the-job/) : (status: 200 | len : 14353)\n",
            "- [WP8] [Projects to Include in a Data Science Portfolio - KDnuggets](https://www.kdnuggets.com/2019/04/projects-include-data-science-portfolio.html) : (status: 200 | len : 10924)\n",
            "- [WP9] [Data Science Portfolios That Will Get You the Job - Dataquest](https://www.dataquest.io/blog/build-a-data-science-portfolio/) : (status: 200 | len : 166911)\n",
            "- [WP10] [How To Build A Data Analysis Portfolio That Will Get You Hired](https://www.udacity.com/blog/2016/02/how-to-build-a-data-analysis-portfolio-that-will-get-you-hired.html) : (status: 403 | len : 0)\n",
            "- [WP11] [4 R projects to form a core data analyst portfolio | R-bloggers](https://www.r-bloggers.com/2020/11/4-r-projects-to-form-a-core-data-analyst-portfolio/) : (status: 200 | len : 33546)\n",
            "- [WP12] [These data science portfolios will awe and inspire you (mid-2020 ...](https://towardsdatascience.com/these-data-science-portfolios-will-awe-and-inspire-you-mid-2020-edition-728e1021f60) : (status: 200 | len : 131329)\n",
            "- [WP13] [5 of my Best Data Science Portfolio Projects | by Natassha Selvaraj](https://towardsdatascience.com/5-of-my-best-data-science-portfolio-projects-8cd7f81f1b1) : (status: 200 | len : 115768)\n",
            "- [WP14] [4 Types of Projects You Need in Your Data Science Portfolio | Built In](https://builtin.com/data-science/data-science-portfolio-projects) : (status: 200 | len : 12816)\n",
            "- [WP15] [Portfolio - David Venturi](https://davidventuri.com/portfolio) : (status: 200 | len : 5987)\n",
            "- [WP16] [10 Data Analyst Portfolio ideas - Pinterest](https://www.pinterest.com/stephenwieschha/data-analyst-portfolio/) : (status: 200 | len : 286056)\n",
            "- [WP17] [Claudia ten Hoope - Freelance data analyst and data scientist](https://www.claudiatenhoope.com/) : (status: 200 | len : 3697)\n",
            "- [WP18] [Top 10 Data Analytics Projects - Jigsaw Academy](https://www.jigsawacademy.com/blogs/business-analytics/data-analytics-project/) : (status: 200 | len : 15349)\n",
            "- [WP19] [Best way to create a data analytics portfolio? : r/datascience - Reddit](https://www.reddit.com/r/datascience/comments/7bmsu8/best_way_to_create_a_data_analytics_portfolio/) : (status: 200 | len : 304517)\n",
            "- [WP20] [Aleksandr Nikitin - Data Analysis Portfolio - GitHub](https://github.com/nktnlx/data_analysis_portfolio) : (status: 200 | len : 733)\n",
            "- [WP21] [10 Data Analyst Portfolio ideas - Pinterest](https://www.pinterest.com/stephenwieschha/data-analyst-portfolio/) : (status: 200 | len : 286175)\n",
            "- [WP22] [How can I build a data science portfolio without job experience?](https://www.quora.com/How-can-I-build-a-data-science-portfolio-without-job-experience) : (status: 200 | len : 356853)\n",
            "- [WP23] [3 must-have projects for your data science portfolio | by Aakash NS](https://blog.jovian.ai/3-must-have-projects-for-your-data-science-portfolio-9cbd1264edb4) : (status: 200 | len : 108405)\n",
            "- [WP24] [Aleksandr Nikitin - Data Analysis Portfolio - GitHub](https://github.com/nktnlx/data_analysis_portfolio) : (status: 200 | len : 733)\n",
            "- [WP25] [How to Build a Data Science Portfolio (2021 Guide) | BrainStation®](https://brainstation.io/career-guides/how-to-build-a-data-science-portfolio) : (status: 200 | len : 17305)\n",
            "- [WP26] [Looking for Examples of Data Analytics Portfolio Websites - Reddit](https://www.reddit.com/r/BusinessIntelligence/comments/hvtuwz/looking_for_examples_of_data_analytics_portfolio/) : (status: 200 | len : 303929)\n",
            "- [WP27] [How to build a portfolio of data analysis projects | AnalyticalMarketer.io](https://analyticalmarketer.io/data-analysis-projects/) : (status: 200 | len : 9700)\n",
            "- [WP28] [Data Analytics | Drew University](https://drew.edu/caspersen/data-analytics/) : (status: 200 | len : 2727)\n",
            "- [WP29] [How to Build an Impressive Data Science Portfolio? - GeeksforGeeks](https://www.geeksforgeeks.org/how-to-build-an-impressive-data-science-portfolio/) : (status: 200 | len : 19182)\n",
            "- [WP30] [Academics | School of Information | Current Students | DAV Portfolio](https://www.pratt.edu/academics/information/current-students/dav-portfolio/) : (status: 200 | len : 17286)\n",
            "- [WP31] [Top 7 Data Analytics Project Ideas - Great Learning](https://www.mygreatlearning.com/blog/top-data-analytics-project-ideas/) : (status: 403 | len : 0)\n",
            "- [WP32] [Four Data Science Projects to Make a Strong Portfolio - Analytics ...](https://www.analyticsinsight.net/four-data-science-projects-to-make-a-strong-portfolio/) : (status: 200 | len : 16177)\n",
            "- [WP33] [David Langer on LinkedIn: Top 5 Tips For Data Analytics Portfolio ...](https://www.linkedin.com/posts/davelanger_top-5-tips-for-data-analytics-portfolio-projects-activity-6800773270514884608-ZDTs) : (status: 200 | len : 30660)\n",
            "- [WP34] [How To Choose A Data Science Project For Your Data Science ...](https://www.datascienceweekly.org/articles/how-to-choose-a-data-science-project-for-your-data-science-portfolio) : (status: 200 | len : 14626)\n",
            "- [WP35] [Business Analytics Portfolio & Project Management - element61](https://www.element61.be/en/competence/business-analytics-portfolio-management-project-management) : (status: 200 | len : 13003)\n",
            "- [WP36] [Creating a Data Analytics Portfolio | R for HR: An Introduction to ...](https://rforhr.com/create-portfolio.html) : (status: 200 | len : 17971)\n",
            "- [WP37] [Data Analytics Real-World Projects in Python | Udemy](https://www.udemy.com/course/data-analytics-projects-python/) : (status: 200 | len : 13484)\n",
            "- [WP38] [How to Build a Data Science Portfolio (2021 Guide) | BrainStation®](https://brainstation.io/career-guides/how-to-build-a-data-science-portfolio) : (status: 200 | len : 17305)\n",
            "- [WP39] [Data Analyst Portfolio Project - Bluehost News!](https://www.bluehostnews.com/data-analyst-portfolio-project/) : (status: 200 | len : 9516)\n",
            "- [WP40] [How to make an impressive Data Science Portfolio? - Analytics Vidhya](https://www.analyticsvidhya.com/blog/2021/04/how-to-make-an-impressive-data-science-portfolio/) : (status: 200 | len : 8416)\n",
            "- [WP41] [Data Analytics and Project Portfolio Management | Request PDF](https://www.researchgate.net/publication/347637028_Data_Analytics_and_Project_Portfolio_Management) : (status: 200 | len : 17187)\n",
            "- [WP42] [THE IMPORTANCE OF ANALYTICS IN MODERN PPM](https://ppm.express/blog/the-importance-of-analytics-in-modern-ppm/) : (status: 200 | len : 21166)\n",
            "- [WP43] [Data-Analytics-Portfolio | Thomas Cottrell Business Data Analyst](https://tcottrell321.github.io/Data-Analytics-Portfolio/) : (status: 200 | len : 12798)\n",
            "- [WP44] [Guide To Creating Kick-Ass Data Science & ML Portfolio Projects](https://www.nicksingh.com/posts/guide-to-creating-kick-ass-data-science-ml-portfolio-projects) : (status: 200 | len : 13092)\n",
            "- [WP45] [3 Steps To Build A Data Science Portfolio - AI Time Journal](https://www.aitimejournal.com/%40admond.lee/3-steps-to-build-a-data-science-portfolio) : (status: 200 | len : 18699)\n",
            "- [WP46] [Data analyst portfolio project ideas](http://abante.vankruijsdijk.org/0prze/xtjswki.php%3Feqllohfdydl%3Ddata-analyst-portfolio-project-ideas) : (status: 500 | len : 0)\n",
            "- [WP47] [Academics | School of Information | Current Students | DAV Portfolio](https://www.pratt.edu/academics/information/current-students/dav-portfolio/) : (status: 200 | len : 17286)\n",
            "- [WP48] [Data Science Projects | DataCamp](https://www.datacamp.com/projects) : (status: 503 | len : 0)\n",
            "- [WP49] [Data and Analytics - World Bank Group](https://www.worldbank.org/en/research/dime/data-and-analytics) : (status: 200 | len : 27796)\n",
            "- [WP50] [Data Portfolio - James Le](https://jameskle.com/data-portfolio) : (status: 200 | len : 4324)\n",
            "- [WP51] [Ger Inberg - Turning your data into insights](https://gerinberg.com/) : (status: 200 | len : 5779)\n",
            "- [WP52] [Data Science: Guide for Independent Projects - UCSD LibGuides](https://ucsd.libguides.com/data-science/projects) : (status: 200 | len : 8979)\n",
            "- [WP53] [University of Oregon Data Analytics Boot Camp | Portland](https://bootcamp.uoregon.edu/data/) : (status: 200 | len : 9449)\n",
            "- [WP54] [Carbon Portfolio Data Analyst - South Pole](https://careers.southpole.com/jobs/1266145-carbon-portfolio-data-analyst) : (status: 200 | len : 22368)\n",
            "- [WP55] [AppD Analyst, Data & Insights, Analytics Portfolio - Cisco Jobs](https://jobs.cisco.com/jobs/ProjectDetail/AppD-Analyst-Data-Insights-Analytics-Portfolio/1346760) : (status: 200 | len : 8133)\n",
            "- [WP56] [Guide to building a data analyst portfolio - eLearning News | Jinn.pro](https://jinn.pro/guide-to-building-a-data-analyst-portfolio/) : (status: 200 | len : 8763)\n",
            "- [WP57] [Best 6 Data Science Projects for Beginners to Get Hired in 2021](https://www.simplilearn.com/data-science-projects-article) : (status: 200 | len : 155422)\n",
            "- [WP58] [How to Become a Data Analyst in 2021 [With No Experience]](https://bootcamp.pe.gatech.edu/blog/how-to-become-a-data-analyst/) : (status: 200 | len : 34134)\n",
            "- [WP59] [Portfolio Data Analyst | Devex](https://www.devex.com/jobs/portfolio-data-analyst-498742) : (status: 403 | len : 0)\n",
            "- [WP60] [How To Build a Data Science Portfolio in 2022 - Prepare for Your ...](https://www.telegraphindia.com/india/how-to-build-a-data-science-portfolio-in-2022-prepare-for-your-dream-job/cid/1826142) : (status: 200 | len : 7385)\n",
            "- [WP61] [I've published my data analytics portfolio! - LinkedIn](https://www.linkedin.com/pulse/ive-published-my-data-analytics-portfolio-gauthier-le-meur) : (status: 200 | len : 6659)\n",
            "- [WP62] [5 Data Engineering Projects To Add To Your Resume](https://www.theseattledataguy.com/5-data-engineering-projects-to-add-to-your-resume/) : (status: 406 | len : 0)\n",
            "- [WP63] [Twenty Projects in Data Science Using Python (Part-I)](https://www.datasciencecentral.com/profiles/blogs/top-20-projects-in-data-science-and-machine-learning-using-python) : (status: 200 | len : 60172)\n",
            "- [WP64] [Analysis Portfolio - Institutional Data Analytics + Assessment](https://www.purdue.edu/idata/Services/Analysis/index.php) : (status: 200 | len : 4053)\n",
            "- [WP65] [How to Build an Impressive Data Science Portfolio? - GeeksforGeeks](https://www.geeksforgeeks.org/how-to-build-an-impressive-data-science-portfolio/) : (status: 200 | len : 19182)\n",
            "- [WP66] [Top 10 Data Science Project Ideas for Beginners in 2021 - Intellipaat](https://intellipaat.com/blog/data-science-project-ideas/) : (status: 200 | len : 213551)\n",
            "- [WP67] [Project Analytics: Benefits, Challenges and First Steps | EcoSys](https://www.ecosys.net/blog/project-analytics-benefits-challenges-and-first-steps/) : (status: 403 | len : 0)\n",
            "- [WP68] [3 steps to build your data science portfolio - Tech in Asia](https://www.techinasia.com/3-steps-build-data-science-portfolio) : (status: 418 | len : 0)\n",
            "- [WP69] [A Framework for the Design and Specification of Data Analytics ...](https://www.sciencedirect.com/science/article/pii/S2212827118301549) : (status: 403 | len : 0)\n",
            "- [WP70] [[PDF] Predictive Project Analytics (PPA) - Deloitte](https://www2.deloitte.com/content/dam/Deloitte/us/Documents/financial-services/us-enabling-project-success-through-analytics-placemat.pdf) : (status: 200 | len : 0)\n",
            "- [WP71] [[PDF] Predictive Project Analytics (PPA) - Deloitte](https://www2.deloitte.com/content/dam/Deloitte/us/Documents/financial-services/us-enabling-project-success-through-analytics-placemat.pdf) : (status: 200 | len : 0)\n",
            "- [WP72] [Portfolio Management : Comparative Qualitative Data Analysis - PMI](https://www.pmi.org/learning/library/portfolio-management-comparative-data-analysis-6463) : (status: 403 | len : 0)\n",
            "- [WP73] [Yan Holtz | Data - Science - Viz](https://www.yan-holtz.com/) : (status: 200 | len : 18995)\n",
            "- [WP74] [Data Analyst Portfolio - Webflow](https://webflow.com/website/Data-Analyst-Portfolio) : (status: 200 | len : 934179)\n",
            "- [WP75] [Data Analytics and Project Portfolio Management | Alfonso Bucero](https://www.taylorfrancis.com/chapters/edit/10.1201/9780429434891-5/data-analytics-project-portfolio-management-alfonso-bucero) : (status: 200 | len : 15801)\n",
            "- [WP76] [Portfolio Optimization—Data and Constraints | Cloudbyz](https://www.cloudbyz.com/blog/project-portfolio-management/portfolio-optimization-data-and-constraints/) : (status: 200 | len : 70292)\n",
            "- [WP77] [London Project Data Analytics Meetup (London, United Kingdom)](https://www.meetup.com/London-Project-Data-and-Analytics-meetup/) : (status: 200 | len : 307430)\n",
            "- [WP78] [Data Analytics | Drew University](https://drew.edu/caspersen/data-analytics/) : (status: 200 | len : 2727)\n",
            "- [WP79] [How to Get into Analytics: 5 Steps to Transition Careers](https://www.northeastern.edu/graduate/blog/analytics-career-transition/) : (status: 200 | len : 18625)\n",
            "- [WP80] [A Step by Step Guide for Building a Data Science Portfolio](https://hackmakers.com/a-step-by-step-guide-for-building-a-data-science-portfolio-2/) : (status: 200 | len : 4328)\n",
            "- [WP81] [Top 10 Data Science Projects on Github You Should Get Your ...](https://www.upgrad.com/blog/data-science-projects-on-github/) : (status: 200 | len : 126206)\n",
            "- [WP82] [Spring 2020 Discovery Projects - Computing, Data Science, and ...](https://data.berkeley.edu/discovery-project-list/spring-2020-discovery-projects) : (status: 200 | len : 14800)\n",
            "- [WP83] [8 Data Science Projects to Build your Portfolio - Dimensionless ...](https://dimensionless.in/8-data-science-projects-to-build-your-portfolio/) : (status: 406 | len : 0)\n",
            "- [WP84] [Portfolio Data Analyst | Devex](https://www.devex.com/jobs/portfolio-data-analyst-498742) : (status: 403 | len : 0)\n",
            "- [WP85] [How To Build a Data Science Portfolio in 2022 - Prepare for Your ...](https://www.telegraphindia.com/india/how-to-build-a-data-science-portfolio-in-2022-prepare-for-your-dream-job/cid/1826142) : (status: 200 | len : 7385)\n",
            "- [WP86] [Portfolio Optimization—Data and Constraints | Cloudbyz](https://www.cloudbyz.com/blog/project-portfolio-management/portfolio-optimization-data-and-constraints/) : (status: 200 | len : 70292)\n",
            "- [WP87] [How to Build an Impressive Data Science Portfolio? - GeeksforGeeks](https://www.geeksforgeeks.org/how-to-build-an-impressive-data-science-portfolio/) : (status: 200 | len : 19182)\n",
            "- [WP88] [Data Analytics and Project Portfolio Management | Alfonso Bucero](https://www.taylorfrancis.com/chapters/edit/10.1201/9780429434891-5/data-analytics-project-portfolio-management-alfonso-bucero) : (status: 200 | len : 15801)\n",
            "- [WP89] [H. Jansma](https://harrisonjansma.com/) : (status: 200 | len : 3880)\n",
            "- [WP90] [Practicum Projects | Analytics & Data Science - UNH Graduate School](https://gradschool.unh.edu/analytics/about-analytics-data-science/practicum-projects) : (status: 200 | len : 69925)\n",
            "- [WP91] [Spring 2020 Discovery Projects - Computing, Data Science, and ...](https://data.berkeley.edu/discovery-project-list/spring-2020-discovery-projects) : (status: 200 | len : 14800)\n",
            "- [WP92] [Developing Data Science Projects in Python: A Beginner's Guide](https://learnpython.com/blog/developing-python-projects-beginners-guide/) : (status: 200 | len : 18417)\n",
            "- [WP93] [Portfolio: Conduct cross-project analysis in Amplitude](https://help.amplitude.com/hc/en-us/articles/360002750712-Portfolio-Conduct-cross-project-analysis-in-Amplitude) : (status: 403 | len : 0)\n",
            "- [WP94] [8 Data Science Projects to Build your Portfolio - Dimensionless ...](https://dimensionless.in/8-data-science-projects-to-build-your-portfolio/) : (status: 406 | len : 0)\n",
            "- [WP95] [The 4 Types of Sports Analytics Projects - Playing Numbers](https://www.playingnumbers.com/2020/02/the-4-types-of-sports-analytics-projects/) : (status: 200 | len : 9228)\n",
            "- [WP96] [Data Analytics Boot Camp | Become a Data Engineer | Tucson](https://bootcamp.ce.arizona.edu/data/) : (status: 200 | len : 16038)\n",
            "- [WP97] [Practicum Projects | Analytics & Data Science - UNH Graduate School](https://gradschool.unh.edu/analytics/about-analytics-data-science/practicum-projects) : (status: 200 | len : 69925)\n",
            "- [WP98] [How to Create a Data Science Portfolio to get hired as Data Scientist](https://data-flair.training/blogs/data-science-portfolio/) : (status: 403 | len : 0)\n",
            "- [WP99] [Top 10 Data Science Projects on Github You Should Get Your ...](https://www.upgrad.com/blog/data-science-projects-on-github/) : (status: 200 | len : 126206)\n",
            "- [WP100] [H. Jansma](https://harrisonjansma.com/) : (status: 200 | len : 3880)\n",
            "- [WP101] [Project Portfolio - Tippie Analytics Cooperative](https://tippie.uiowa.edu/about-tippie/centers-institutes/tippie-analytics-cooperative/project-portfolio) : (status: 200 | len : 8968)\n",
            "- [WP102] [How to build your data visualisation portfolio](https://naledi.co.uk/blog/how-to-build-your-data-visualisation-portfolio/) : (status: 200 | len : 1491)\n",
            "- [WP103] [DataScience Portfolio Ideas for Students & Beginners - Journey of ...](https://blog.journeyofanalytics.com/datascience-project-ideas/) : (status: 200 | len : 14485)\n",
            "- [WP104] [How to Build a Data Science Portfolio That Will Get You Hired](https://www.switchup.org/blog/how-to-build-a-data-science-portfolio-that-will-get-you-hired) : (status: 200 | len : 11812)\n",
            "- [WP105] [Building a Data Analytics Portfolio - SlideShare](https://www.slideshare.net/JamieRenehan/building-a-data-analytics-portfolio-150255855) : (status: 200 | len : 56629)\n",
            "- [WP106] [Project Management for Data Analytics](https://www.datascience-pm.com/managing-data-analytics-projects/) : (status: 200 | len : 20166)\n",
            "- [WP107] [Building a Data Science Portfolio: A Newcomer's Guide](https://www.data-mania.com/blog/building-a-data-science-portfolio/) : (status: 200 | len : 27683)\n",
            "- [WP108] [Why Have a Data Science Portfolio and What It Shows - Eugene Yan](https://eugeneyan.com/writing/data-science-portfolio-how-why-what/) : (status: 200 | len : 61552)\n",
            "- [WP109] [Benefits of Big Data in Project Portfolio Management](https://thinkingportfolio.com/benefits-of-big-data-in-project-portfolio-management/) : (status: 200 | len : 10865)\n",
            "- [WP110] [11 Popular Data Science Projects For Aspiring Data Scientists](https://analyticsindiamag.com/popular-data-science-projects-for-aspiring-data-scientists/) : (status: 200 | len : 817)\n",
            "- [WP111] [Data Analytics for Project and Portfolio Estimates - QSM](https://www.qsm.com/blog/2020/data-analytics-project-and-portfolio-estimates) : (status: 403 | len : 0)\n",
            "- [WP112] [4 things you should know for a career in data analytics](https://www.stitchdata.com/blog/career-in-data-analytics/) : (status: 200 | len : 23533)\n",
            "- [WP113] [IBM SPSS software](https://www.ibm.com/analytics/spss-statistics-software) : (status: 200 | len : 4298)\n",
            "- [WP114] [[PDF] How to Harness Big Data to Drive Performance Across Your Project ...](https://www.oracle.com/a/ocom/docs/dc/ne/aconexplaybookapril2018finalweb.pdf) : (status: 200 | len : 0)\n",
            "- [WP115] [Business Intelligence and Analytics Software](https://www.tableau.com/) : (status: 200 | len : 28161)\n",
            "- [WP116] [15 Data Science Projects To Get You Started | General Assembly](https://generalassemb.ly/blog/15-data-science-projects-to-get-you-started/) : (status: 200 | len : 24125)\n",
            "- [WP117] [Job Application for Fraud Ops Project Specialist at DoorDash](https://boards.greenhouse.io/doordash/jobs/3648889%3Fgh_jid%3D3648889) : (status: 200 | len : 25485)\n",
            "- [WP118] [Data Engineering Senior Analyst at Dell Careers](https://jobs.dell.com/job/india/data-engineering-senior-analyst/375/17938710912) : (status: 200 | len : 19467)\n",
            "- [WP119] [IQVIA: Powering Healthcare with Connected Intelligence](https://www.iqvia.com/) : (status: 200 | len : 9736)\n",
            "- [WP120] [Data Engineer, Group Portfolio Analytics & Reporting (1 year contract)](https://www.efinancialcareers.fr/emploi-Singapour-Singapour-Data_Engineer_Group_Portfolio_Analytics__Reporting_1_year_contract.id12658463) : (status: 200 | len : 25091)\n",
            "\n",
            "\n",
            "id_offset = 121.\n"
          ]
        }
      ]
    },
    {
      "cell_type": "code",
      "metadata": {
        "colab": {
          "base_uri": "https://localhost:8080/"
        },
        "id": "VJWnYP0pnY_S",
        "outputId": "e8cc17d2-fd40-4470-c1d5-899dd39db326"
      },
      "source": [
        "# Check results\n",
        "wp_root_list[-1]"
      ],
      "id": "VJWnYP0pnY_S",
      "execution_count": 4,
      "outputs": [
        {
          "output_type": "execute_result",
          "data": {
            "text/plain": [
              "['WP120',\n",
              " 'Data Engineer, Group Portfolio Analytics & Reporting (1 year contract)',\n",
              " 'https://www.efinancialcareers.fr/emploi-Singapour-Singapour-Data_Engineer_Group_Portfolio_Analytics__Reporting_1_year_contract.id12658463',\n",
              " 200,\n",
              " Timestamp('2021-11-11 15:58:00.078262'),\n",
              " '\\n\\n\\n\\n            window.ssdl = window.ssdl || {};\\n            window.ssdl.trackEvent = window.ssdl.trackEvent || function() {};\\n        \\n\\n\\n\\n    .menu-item button.default {\\n        width: 100%;\\n        text-align: left;\\n    }\\n    .menu-item .js-msg-count:after { content: \\'(\\' attr(count) \\')\\'; }\\n    .menu-item .js-msg-count[count=\\'0\\']:after { content: none; }\\n\\n    .handle .js-msg-count:after {\\n        position: absolute;\\n        top: 1rem;\\n        left: 1.5rem;\\n        background-color: #c20a0a;\\n        background-color: var(--red);\\n        color: #fff;\\n        min-width: 1.1rem;\\n        line-height: 1.1rem; \\n        border-radius: 50%;\\n        font-size: .8rem;\\n        padding: 0.15rem;\\n        text-align: center;\\n        content: attr(count);\\n    }\\n    .handle .js-msg-count[count=\\'0\\']:after { content: none; }\\n\\n    .header-mobile > .logo > a > img.logo-small {\\n        width: 38px;\\n        height: 39px;\\n    }\\n\\n\\n\\n\\n\\n\\n\\n\\n\\n\\n\\n\\n\\n\\n\\n\\n\\n\\n\\n\\n\\n\\n\\n\\n\\n Pays\\n        \\n\\n\\n\\nEurope, Moyen-Orient, Afrique\\n\\nAfrique du Sud\\nAllemagne\\nBelgique\\nDanemark\\nFinlande\\nFrance\\nIrlande\\nItalie\\nLuxembourg\\nMoyen-Orient\\nNorvège\\nPays-Bas\\nRoyaume-Uni\\nRussie\\nSuisse\\nSuède\\n\\n\\n\\n\\nAmérique\\n\\nCanada\\nÉtats-Unis\\n\\n\\n\\nAsie-Pacifique\\n\\nAustralie\\nChine\\nHong Kong\\nJapon\\nMalaisie\\nSingapour\\n\\n\\n\\n\\n\\n\\n\\n\\nfr\\nen\\n\\n\\n\\n\\n\\n\\n\\n\\n\\n\\n\\n\\n\\n\\n\\n\\n\\n\\n\\n\\n\\nSe connecter                        \\n\\n\\n\\nSe connecter                \\n\\n\\n\\n\\n                    Don\\'t have an account?\\n                        \\nS\\'inscrire maintenant!                        \\n\\n\\n\\nS\\'inscrire maintenant                \\n\\n\\n\\n\\n\\nLes offres                        \\n\\n\\n\\nLes offres                \\n\\n\\n\\n\\n\\nActu                        \\n\\n\\n\\nActu                \\n\\n\\n\\n\\n\\n\\n                    Conseils \\n\\n\\n                    Conseils \\n\\n\\n\\n\\n\\n\\nProfessionnel                        \\n\\n\\n\\nProfessionnel                \\n\\n\\n\\n\\n\\nÉtudiants                        \\n\\n\\n\\nÉtudiants                \\n\\n\\n\\n \\n\\n\\n\\n\\nEntreprises                        \\n\\n\\n\\nEntreprises                \\n\\n\\n\\n\\n\\nRecruteurs                        \\n\\n\\n\\nRecruteurs                \\n\\n\\n\\n\\n\\n\\n\\n\\n\\n\\n\\n\\n\\nData Engineer, Group Portfolio Analytics & Reporting (1 year contract)\\n        Data Engineer, Group Portfolio Analytics &\\n\\xa0…\\n\\n\\n\\n\\n\\nPartager\\n\\n\\nSauvegarder\\nPostuler\\n\\n\\n\\n\\n\\n\\n\\n\\n\\nOCBC Bank\\n\\nà                    Singapour, Singapore, Singapour\\n            \\n\\n\\nCDI, Plein-temps\\n\\n\\n\\n\\nSoyez parmi les premiers à postuler            \\n\\n\\n\\n\\n                Competitive\\n            \\n\\n\\n\\n\\n\\n\\n\\n\\n\\n\\n\\n\\n\\n\\n\\n\\n\\n\\n\\n\\n\\n\\n\\nOCBC Bank\\n\\nà                    Singapour, Singapore, Singapour\\n            \\n\\n\\nCDI, Plein-temps\\n\\n\\n\\n\\nSoyez parmi les premiers à postuler            \\n\\n\\n\\n\\n                Competitive\\n            \\n\\n\\n\\n\\n\\n\\n\\n\\n\\n\\n\\n\\n\\n\\n\\n\\n\\n\\n\\n\\n\\n                            Data Engineer, Group Portfolio Analytics & Reporting (1 year contract)\\n                            \\n                            Job Description   Create and maintain optimal Datamart architecture, which may include:  Build the infrastructure required for optimal extraction, transformation, and loading of data from a wide variety of data sources using SQL and \"Big Data\" technologies Identify, design, and implement internal process improvements  Automating manual processes Optimizing data delivery Re-designing infrastructure for greater scalability   Work with stakeholders to identify business needs and build/ maintain Datamart   Participate in project and assist the user PM on the followings: - To coordinate with IT and stakeholders on the completion of the UAT - To create test cases/ test script - To conduct UAT testing and post-implementation phase  *LI-LW      Qualifications  Requirements:   Bachelor&aposs degree in Computer Science/Technology, Analytics, Statistics, Mathematics or equivalent with 1-3 years of relevant experience. Exposure to database data modelling will be a plus Preferably some prior exposure to:  Analytical software tools (such as Python and SAS) Database environments (such as SQL/ Teradata/ Hadoop/ Oracle) Reporting tools (such as Qlikview)   Candidate must posses  Good communication and interpersonal skills Willingness to take new challenges and work in a fast-paced environment Strong team player with the ability to multi-task, take ownership and deliver independently   \\n\\n\\n\\n\\n                            Réference: 210001ND\\n            Rn2yJhsVxgt7QLAd\\n\\n\\n                Mise en ligne:            11 nov. 21\\n\\n            \\n\\n\\n\\n\\n\\n\\n\\n\\n\\n\\n\\n\\n\\n\\n\\n\\n\\n\\n \\n                Voir les offres de OCBC Bank\\n        \\n\\n\\n\\nRisk System Analyst - Group Portfolio Analytics & Reporting - Wholesale Risk Systems\\n\\n\\n(AVP) Project System Analyst, Group Portfolio Analytics & Reporting/Systems and Projects\\n\\n\\nData Warehouse Test Analyst (AVP), Application & Infrastructure Services\\n\\n\\nWealth Management IT Business Analyst/Senior BA - Risk & Strategic Projects\\n\\n\\nDirector / Sr. Business Analyst, Data & Analytics\\n\\n\\nManager, Credit Risk Portfolio Analyst - Risk Portfolio Management\\n\\n\\nCross Functional TMO Lead, Digital Transformation\\n\\n\\nBig Data Engineer, Group Operations & Technology\\n\\n\\nBusiness IT and Solutions Delivery Manager\\n\\n\\nTech Lead - Operations & Settlements\\n\\n\\n\\nPlus d\\'offres            \\n\\n\\n\\n\\n\\n\\n\\n\\n                    googletag.cmd.push(function () {\\n                        googletag.display(\\'gpt-ad-49ae3545-fb5b-404c-941d-ffeec34d72b2\\');\\n                    });\\n                \\n\\n\\n\\n\\n\\n\\n\\nOffres similaires\\n\\n\\n        window.ssdl = window.ssdl || {};\\n        window.ssdl.relatedJob1 = window.ssdl.relatedJob1 || {};\\n        window.ssdl.relatedJob1.title = \"Global Data - Funds & Portfolio Project Representative - Singapore (1 Year Contract)\";\\n        window.ssdl.relatedJob1.company = \"Bloomberg\";\\n        window.ssdl.relatedJob1.location = \"Singapore\";\\n        window.ssdl.relatedJob1.url = \"/jobs-Singapore-Singapore-Global_Data_-_Funds__Portfolio_Project_Representative_-_Singapore_1_Year_Contract.id12341312\";\\n    \\n\\nGlobal Data - Funds & Portfolio Project Representative - Singapore (1 Year Contract)\\n\\n\\n        window.ssdl = window.ssdl || {};\\n        window.ssdl.relatedJob2 = window.ssdl.relatedJob2 || {};\\n        window.ssdl.relatedJob2.title = \"Operations Specialist, Equity Derivatives & Reporting Services (1 Year Contract)\";\\n        window.ssdl.relatedJob2.company = \"Bank of Singapore\";\\n        window.ssdl.relatedJob2.location = \"Singapore\";\\n        window.ssdl.relatedJob2.url = \"/jobs-Singapore-Singapore-Operations_Specialist_Equity_Derivatives__Reporting_Services_1_Year_Contract.id12546369\";\\n    \\n\\nOperations Specialist, Equity Derivatives & Reporting Services (1 Year Contract)\\n\\n\\n        window.ssdl = window.ssdl || {};\\n        window.ssdl.relatedJob3 = window.ssdl.relatedJob3 || {};\\n        window.ssdl.relatedJob3.title = \"Risk System Analyst - Group Portfolio Analytics & Reporting - Wholesale Risk Systems\";\\n        window.ssdl.relatedJob3.company = \"OCBC Bank\";\\n        window.ssdl.relatedJob3.location = \"Singapore\";\\n        window.ssdl.relatedJob3.url = \"/jobs-Singapore-Singapore-Risk_System_Analyst_-_Group_Portfolio_Analytics__Reporting_-_Wholesale_Risk_Systems.id12627909\";\\n    \\n\\nRisk System Analyst - Group Portfolio Analytics & Reporting - Wholesale Risk Systems\\n\\n\\n        window.ssdl = window.ssdl || {};\\n        window.ssdl.relatedJob4 = window.ssdl.relatedJob4 || {};\\n        window.ssdl.relatedJob4.title = \"(AVP) Project System Analyst, Group Portfolio Analytics & Reporting/Systems and Projects\";\\n        window.ssdl.relatedJob4.company = \"OCBC Bank\";\\n        window.ssdl.relatedJob4.location = \"Singapore\";\\n        window.ssdl.relatedJob4.url = \"/jobs-Singapore-Singapore-AVP_Project_System_Analyst_Group_Portfolio_Analytics__ReportingSystems_and_Projects.id12539848\";\\n    \\n\\n(AVP) Project System Analyst, Group Portfolio Analytics & Reporting/Systems and Projects\\n\\n\\n        window.ssdl = window.ssdl || {};\\n        window.ssdl.relatedJob5 = window.ssdl.relatedJob5 || {};\\n        window.ssdl.relatedJob5.title = \"Software Engineer in Test Lead, Group Consumer Banking and Big Data Analytics Technology, Technology & Operations\";\\n        window.ssdl.relatedJob5.company = \"DBS Bank Limited\";\\n        window.ssdl.relatedJob5.location = \"Singapore\";\\n        window.ssdl.relatedJob5.url = \"/jobs-Singapore-Singapore-Software_Engineer_in_Test_Lead_Group_Consumer_Banking_and_Big_Data_Analytics_Technology_Technology__Operations.id12551078\";\\n    \\n\\nSoftware Engineer in Test Lead, Group Consumer Banking and Big Data Analytics Technology, Technology & Operations\\n\\n\\n        window.ssdl = window.ssdl || {};\\n        window.ssdl.relatedJob6 = window.ssdl.relatedJob6 || {};\\n        window.ssdl.relatedJob6.title = \"VP, SDET Engineering Lead, Group Consumer Banking and Big Data Analytics Technology, Technology & Operations\";\\n        window.ssdl.relatedJob6.company = \"DBS Bank Limited\";\\n        window.ssdl.relatedJob6.location = \"Singapore\";\\n        window.ssdl.relatedJob6.url = \"/jobs-Singapore-Singapore-VP_SDET_Engineering_Lead_Group_Consumer_Banking_and_Big_Data_Analytics_Technology_Technology__Operations.id12551065\";\\n    \\n\\nVP, SDET Engineering Lead, Group Consumer Banking and Big Data Analytics Technology, Technology & Operations\\n\\n\\n        window.ssdl = window.ssdl || {};\\n        window.ssdl.relatedJob7 = window.ssdl.relatedJob7 || {};\\n        window.ssdl.relatedJob7.title = \"VP,Engineering Lead, Group Consumer Banking and Big Data Analytics Technology, Technology & Operations\";\\n        window.ssdl.relatedJob7.company = \"DBS Bank Limited\";\\n        window.ssdl.relatedJob7.location = \"Singapore\";\\n        window.ssdl.relatedJob7.url = \"/jobs-Singapore-Singapore-VPEngineering_Lead_Group_Consumer_Banking_and_Big_Data_Analytics_Technology_Technology__Operations.id12531284\";\\n    \\n\\nVP,Engineering Lead, Group Consumer Banking and Big Data Analytics Technology, Technology & Operations\\n\\n\\n        window.ssdl = window.ssdl || {};\\n        window.ssdl.relatedJob8 = window.ssdl.relatedJob8 || {};\\n        window.ssdl.relatedJob8.title = \"AVP / Senior Associate, SDET Engineer, Group Consumer Banking and Big Data Analytics Technology, Technology & Operations\";\\n        window.ssdl.relatedJob8.company = \"DBS Bank Limited\";\\n        window.ssdl.relatedJob8.location = \"Singapore\";\\n        window.ssdl.relatedJob8.url = \"/jobs-Singapore-Singapore-AVP__Senior_Associate_SDET_Engineer_Group_Consumer_Banking_and_Big_Data_Analytics_Technology_Technology__Operations.id12551050\";\\n    \\n\\nAVP / Senior Associate, SDET Engineer, Group Consumer Banking and Big Data Analytics Technology, Technology & Operations\\n\\n\\n        window.ssdl = window.ssdl || {};\\n        window.ssdl.relatedJob9 = window.ssdl.relatedJob9 || {};\\n        window.ssdl.relatedJob9.title = \"Vice President, Engineering Lead, Group Consumer Banking and Big Data Analytics Technology, Technology & Operations\";\\n        window.ssdl.relatedJob9.company = \"DBS Bank Limited\";\\n        window.ssdl.relatedJob9.location = \"Singapore\";\\n        window.ssdl.relatedJob9.url = \"/jobs-Singapore-Singapore-Vice_President_Engineering_Lead_Group_Consumer_Banking_and_Big_Data_Analytics_Technology_Technology__Operations.id12609908\";\\n    \\n\\nVice President, Engineering Lead, Group Consumer Banking and Big Data Analytics Technology, Technology & Operations\\n\\n\\n        window.ssdl = window.ssdl || {};\\n        window.ssdl.relatedJob10 = window.ssdl.relatedJob10 || {};\\n        window.ssdl.relatedJob10.title = \"Data Engineer, Group Consumer Banking and Big Data Analytics Technology, Technology & Operations\";\\n        window.ssdl.relatedJob10.company = \"DBS Bank Limited\";\\n        window.ssdl.relatedJob10.location = \"Singapore\";\\n        window.ssdl.relatedJob10.url = \"/jobs-Singapore-Singapore-Data_Engineer_Group_Consumer_Banking_and_Big_Data_Analytics_Technology_Technology__Operations.id12595709\";\\n    \\n\\nData Engineer, Group Consumer Banking and Big Data Analytics Technology, Technology & Operations\\n\\n\\n\\nPlus d\\'offres            \\n\\n\\n\\n\\n\\n\\n\\n\\n\\n\\n\\n\\n\\n\\n\\n                    googletag.cmd.push(function () {\\n                        googletag.display(\\'gpt-ad-4a9115c7-c5f1-45d0-979e-a31a011a500b\\');\\n                    });\\n                \\n\\n\\n\\n\\n\\n\\n\\n                    googletag.cmd.push(function () {\\n                        googletag.display(\\'gpt-ad-mobile-4a9115c7-c5f1-45d0-979e-a31a011a500b\\');\\n                    });\\n                \\n\\n\\n\\n\\n\\nClose\\n\\n\\n\\n\\n\\n        Ad\\n    \\n\\n\\n\\n\\n\\n\\n\\n    window.ssdl = window.ssdl || {};\\n\\n    // Fire Events to Stub if real one wasn\\'t set.\\n    window.ssdl.trackEvent = window.ssdl.trackEvent || function (a) {\\n        a = a || {};\\n        window.ssdl.event = a;\\n        console.log(JSON.stringify(a));\\n    };\\n\\n\\n\\n\\n        {\"title\":\"Data Engineer, Group Portfolio Analytics & Reporting (1 year contract)\",\"skills\":\"Science,Statistics,Database,Software,Python Programming Language,Structured Query Language,Teradata,Hadoop,Reporting Tools,Team Player\",\"validThrough\":\"Thu Mar 30 16:00:00 UTC 2023\",\"datePosted\":\"Wed Nov 10 11:14:02 UTC 2021\",\"jobLocation\":{\"address\":{\"streetAddress\":null,\"addressLocality\":\"Singapore\",\"postalCode\":null,\"addressRegion\":\"Singapore\",\"addressCountry\":\"SG\"}},\"baseSalary\":{\"value\":\"Competitive\",\"@type\":\"MonetaryAmount\"},\"hiringOrganization\":{\"name\":\"OCBC Bank\",\"logo\":\"https://www.efinancialcareers.com/logo/529c0237-c2db-4484-a9df-8e635c8d1f40.jpg\",\"@type\":\"Organization\"},\"educationRequirements\":\"Not specified\",\"experienceRequirements\":\"3 years\",\"occupationalCategory\":null,\"employmentType\":\"FULL_TIME\",\"description\":\"Data Engineer, Group Portfolio Analytics &amp; Reporting (1 year contract)\\\\r\\\\n\\\\r\\\\nJob Description \\\\r\\\\n  \\\\r\\\\n• Create and maintain optimal Datamart architecture, which may include:  \\\\r\\\\n• Build the infrastructure required for optimal extraction, transformation, and loading of data from a wide variety of data sources using SQL and \\\\\"Big Data\\\\\" technologies \\\\r\\\\n• Identify, design, and implement internal process improvements  \\\\r\\\\n• Automating manual processes \\\\r\\\\n• Optimizing data delivery \\\\r\\\\n• Re-designing infrastructure for greater scalability   \\\\r\\\\n• Work with stakeholders to identify business needs and build/ maintain Datamart   \\\\r\\\\n• Participate in project and assist the user PM on the followings:\\\\r\\\\n - To coordinate with IT and stakeholders on the completion of the UAT\\\\r\\\\n - To create test cases/ test script\\\\r\\\\n - To conduct UAT testing and post-implementation phase  *LI-LW \\\\r\\\\n   \\\\r\\\\n \\\\r\\\\n Qualifications \\\\r\\\\n Requirements: \\\\r\\\\n  \\\\r\\\\n• Bachelor\\'s degree in Computer Science/Technology, Analytics, Statistics, Mathematics or equivalent with 1-3 years of relevant experience. \\\\r\\\\n• Exposure to database data modelling will be a plus \\\\r\\\\n• Preferably some prior exposure to:  \\\\r\\\\n• Analytical software tools (such as Python and SAS) \\\\r\\\\n• Database environments (such as SQL/ Teradata/ Hadoop/ Oracle) \\\\r\\\\n• Reporting tools (such as Qlikview)   \\\\r\\\\n• Candidate must posses  \\\\r\\\\n• Good communication and interpersonal skills \\\\r\\\\n• Willingness to take new challenges and work in a fast-paced environment \\\\r\\\\n• Strong team player with the ability to multi-task, take ownership and deliver independently   \",\"industry\":\"information technology\",\"identifier\":\"Rn2yJhsVxgt7QLAd\",\"url\":\"https://www.efinancialcareers.co.uk/jobs-OCBC_Bank.br00002436\",\"image\":\"https://www.efinancialcareers.com/logo/529c0237-c2db-4484-a9df-8e635c8d1f40.jpg\",\"directApply\":false,\"@context\":\"http://schema.org\",\"@type\":\"JobPosting\"}\\n    \\n\\n\\n\\n\\n\\n\\n\\n\\neFinancialCareers\\n\\n\\n\\n\\n\\nQui sommes-nous ?\\nPlan du site\\nConditions d\\'utilisation\\nPolitique de confidentialité\\nPréparation d’eFinancialCareers au RGPD\\nRejoignez eFinancialCareers\\n\\n\\n\\n\\n\\nCandidats\\n\\n\\n\\n\\n\\nLes offres\\nIT Finance\\nAlertes e-mail\\nContactez-nous\\nParcourir les entreprises\\nConnexion candidats\\n\\n\\n\\n\\n\\nActu et Conseils\\n\\n\\n\\n\\n\\nActu\\nConseils\\nÉtudiants\\nNotre rédaction\\n\\n\\n\\n\\n\\nRecruteurs\\n\\n\\n\\n\\n\\nCentre de recrutement\\nInscription du recruteur\\nContactez-nous\\nDiffuser une annonce\\n\\n\\n\\n\\n\\n\\n\\n\\n\\neFinancialCareers\\n\\nQui sommes-nous ?\\nPlan du site\\nConditions d\\'utilisation\\nPolitique de confidentialité\\nPréparation d’eFinancialCareers au RGPD\\nRejoignez eFinancialCareers\\n\\n\\n\\nCandidats\\n\\nLes offres\\nIT Finance\\nAlertes e-mail\\nContactez-nous\\nParcourir les entreprises\\nConnexion candidats\\n\\n\\n\\nActu et Conseils\\n\\nActu\\nConseils\\nÉtudiants\\nNotre rédaction\\n\\n\\n\\nRecruteurs\\n\\nCentre de recrutement\\nInscription du recruteur\\nContactez-nous\\nDiffuser une annonce\\n\\n\\n\\n\\n\\n\\n\\n\\n\\n\\neFinancialCareers est une filiale du groupe DHI\\n© 2021. Tous droits réservés. \\n\\n\\n\\n\\n\\n\\n\\n\\n\\n\\n\\n\\n\\n\\n\\n\\n\\n\\n\\n\\n            jQuery.getCacheableScript = function( url, options ) {\\n                // Allow user to set any option except for dataType, cache, and url\\n                options = $.extend( options || {}, {\\n                    dataType: \"script\",\\n                    cache: true,\\n                    url: url\\n                });\\n                return jQuery.ajax( options );\\n            };\\n\\n            setTimeout( function(){\\n                $.getCacheableScript( \"//s7.addthis.com/js/300/addthis_widget.js#pubid=ra-5b0683288d6e938f\" )\\n                    .done(function( script, textStatus ) {\\n                        if( $(\"meta[property=\\'dhi:pageName\\']\") &&\\n                            $(\"meta[property=\\'dhi:pageName\\']\").attr(\\'content\\') == \"branded-job\" ) {\\n                            var addthis_config = {\\n                                \"data_track_addressbar\": false,\\n                                \"services_compact\": \\'email,print,linkedin,facebook,twitter,google,more\\',\\n                                \"ui_click\": true,\\n                                \"ui_email_from\": \\'\\' || \\'no-reply@efinancialcareers.com\\'\\n                            };\\n                            addthis.addEventListener(\\'addthis.menu.share\\', function (evt) {\\n                                dataLayer.push({\\n                                    \"hit.type\": \"event\",\\n                                    \"hit.category\": \"Jobs\",\\n                                    \"hit.action\": \"Job Shared\",\\n                                    \"hit.label\": \"AddThis service = \" + evt.data.service,\\n                                    \"event\": \"DataLayer-Push\"\\n                                });\\n                            });\\n                            console.log(\"AddThis Loaded\");\\n                        }\\n                    })\\n                    .fail(function( jqxhr, settings, exception ) {\\n                        console.log(\"ERROR loading AddThis\");\\n                    });\\n            }, 2500);\\n        \\n\\n                $(function () {\\n                    setTimeout(function () {\\n                        populateQTQ.loadQTQ();\\n                    }, 2000);\\n                });\\n            \\n\\n\\n//<![CDATA[\\n\\n        $(window).on(\"load\", function () {\\n            (function () {\\n                dhi.efc.headerMessages.init();\\n            }());\\n        });\\n    \\n//]]>\\n\\n\\n//<![CDATA[\\n\\n        $(function () {\\n            $(\\'#sticky-ad-wrapper\\').on(\\'hidden.bs.collapse\\', function () {\\n                $(\\'#sticky-ad-open\\').show();\\n            });\\n\\n            $(\\'#sticky-ad-open\\').click( function () {\\n                $(\\'#sticky-ad-open\\').hide();\\n                $(\\'#sticky-ad-wrapper\\').collapse(\\'show\\');\\n            });\\n\\n            setTimeout(function() {\\n                $(\\'#sticky-ad-wrapper\\').collapse();\\n            }, 30000);\\n        });\\n    \\n//]]>\\n\\n\\n//<![CDATA[\\n\\n        function showMoreJobsLikeThisCompany() {\\n            $(\\'.jlt-job-hide-company\\').removeClass(\\'jlt-job-hide-company\\');\\n            $(\\'.jlt-job-show-company\\').removeClass(\\'jlt-job-show-company\\').addClass(\\'jlt-job-hide-company\\');\\n        };\\n    \\n//]]>\\n\\n\\n//<![CDATA[\\n\\n        function showMoreJobsLikeThisPlain() {\\n            $(\\'.jlt-job-hide\\').removeClass(\\'jlt-job-hide\\');\\n            $(\\'.jlt-job-show\\').removeClass(\\'jlt-job-show\\').addClass(\\'jlt-job-hide\\');\\n        };\\n    \\n//]]>\\n\\n\\n//<![CDATA[\\n\\n      function MLTAnalytics(linkType) {\\n        var eventName = \"Related Company Jobs\";\\n        if(linkType != \"Company\") {\\n            eventName = \"Related Jobs\";\\n        }\\n        window.dataLayer.push({\\n            \"event\" : \"MLT Click\",\\n            \"MLT Widget Type\" : eventName,\\n            \"MLT Widget Location\" : \"efc Job Detail\",\\n            \"MLT Job ID\" : \\'12658463\\'\\n        });\\n    }\\n  \\n//]]>\\n\\n\\n//<![CDATA[\\n\\n    $(function () {\\n        $(\"#saveButton\").prop(\\'title\\', \\'<div id=\"myjobspromo\"class=\"container dismissable-Promos\"><a href=\"#\"data-dismiss=\"alert\"></a>Ajoutez les offres qui vous intéressent dans votre fichier Offres Sauvegardées sur <a href=\"https://www.efinancialcareers.fr/myefc/my-jobs\" style=\"color: #ffffff; text-decoration-line: underline;\">Mes offres</a></div>\\')\\n        if (\\'true\\' === \\'true\\') {\\n            $(\"#saveButton\").tooltip({\\n                html: true\\n            });\\n        }\\n    });\\n    \\n//]]>\\n\\n\\n//<![CDATA[\\n\\n        var jobHeaderDisplayOption = {\\n            showIt: function() {\\n                $(\\'#JobHeaderCollapseControl #JobHeaderOpen\\').addClass(\"d-none\");\\n                $(\\'#efcJobHeaderTitleFull\\').removeClass(\"d-none\");\\n                $(\\'#efcJobHeaderTitleShort\\').addClass(\"d-none\");\\n            },\\n            hideIt: function() {\\n                $(\\'#JobHeaderCollapseControl #JobHeaderClose\\').addClass(\"d-none\");\\n                $(\\'#JobHeaderCollapseControl #JobHeaderOpen\\').removeClass(\"d-none\");\\n                $(\\'#efcJobHeaderTitleFull\\').addClass(\"d-none\");\\n                $(\\'#efcJobHeaderTitleShort\\').removeClass(\"d-none\");\\n            }\\n        };\\n\\n        $(function () {\\n            $(\\'#JobHeaderCollapse\\').on(\\'hidden.bs.collapse\\', function (e) {\\n                jobHeaderDisplayOption.hideIt();\\n            });\\n            $(\\'#JobHeaderCollapse\\').on(\\'show.bs.collapse\\', function (e) {\\n                jobHeaderDisplayOption.showIt();\\n            });\\n            $(\\'#JobHeaderCollapse\\').on(\\'shown.bs.collapse\\', function (e) {\\n                //Stop the expand action from firing the handler for scroll.\\n                clearTimeout(window.efcJobTopScroll);\\n            });\\n            $( document ).ready(function() {\\n                jobHeaderDisplayOption.showIt();\\n            });\\n\\n            $(window).scroll(function() {\\n               clearTimeout(window.efcJobTopScroll);\\n               window.efcJobTopScroll = setTimeout(function () {\\n                   $(\\'#JobHeaderCollapse\\').collapse(\"hide\");\\n               }, 150);\\n\\n               try{\\n                   var jobDetailStrickyScrollUnderDivTop = $(\\'#jobDetailStrickyScrollUnderDiv\\').offset().top;\\n                   var jobTitleFullTop = $(\\'#efcJobHeaderTitleFull\\').offset().top;\\n                   var jobTitleFullBottom = jobTitleFullTop + $(\\'#efcJobHeaderTitleFull\\').height();\\n                   if (jobDetailStrickyScrollUnderDivTop < jobTitleFullBottom) {\\n                       $(\\'#jobTitleStickyTopDiv\\').addClass(\"border-bottom\");\\n                   } else {\\n                       $(\\'#jobTitleStickyTopDiv\\').removeClass(\"border-bottom\");\\n                   }\\n               }catch(err){\\n               }\\n            });\\n            $(\".companyProfileLink\").tooltip();\\n        });\\n    \\n//]]>\\n\\n\\n//<![CDATA[\\n\\n            var url = \\'https://www.efinancialcareers.fr/statistics/job/12658463/view/track\\';\\n            $.ajax({\\n                url: url,\\n                type: \\'GET\\',\\n                // headers: {\\'X-Requested-With\\': \\'abc\\'},  //needed for testing in localhost when CORS enabled\\n                success: function(res) {\\n                    //console.log(res);\\n                }\\n            });\\n        \\n//]]>\\n\\n\\n//<![CDATA[\\n\\n        const ACTION_KEY = \\'data-an-eventAction\\';\\n        function logRecruiterProfileLoad(event) {\\n            var link = jQuery(event.target);\\n            if (hasRecruiterProfile()) {\\n                var ssdlData = getRecruiterProfileAnalytics(link);\\n                dataLayer.push(ssdlData);\\n            }\\n        }\\n        function hasRecruiterProfile() {\\n            if (\\'\\' == \\'\\'){\\n                return false;\\n            }\\n            if (\\'true == true\\') {\\n                return true;\\n            }\\n            return false;\\n        }\\n        function logRecruiterProfileAccess(event) {\\n            var link = jQuery(event.target);\\n            var ssdlData = getRecruiterProfileAnalytics(link);\\n            dataLayer.push(ssdlData);\\n            return true;\\n        }\\n        function getRecruiterProfileAnalytics(link) {\\n            var action = findAction(link, \"View\");\\n            return JSON.parse(\\'{ \"event\": \"\\' + \"recruiter_profile\"\\n                    + \\'\" ,\"eventCategory\": \"\\' + \"Job Description Page\"\\n                    + \\'\" ,\"eventAction\":\"\\' + \"Recruiter Profile\" + \" - \" + action\\n                    + \\'\" ,\"eventLabel\":\"\\' + \\'\\'\\n                    + \\'\" ,\"nonInteractive\": \"\\' + \"true\"\\n                    + \\'\" ,\"eventValue\": \"\\' + \"undefined\" + \\'\"}\\');\\n        }\\n        function findAction(el, defaultValue) {\\n            const closest = el.closest(\\'[\\' + ACTION_KEY +\\']\\');\\n            let eventType;\\n            if (closest) {\\n                eventType = closest.attr ? closest.attr(ACTION_KEY) : closest.getAttribute(ACTION_KEY);\\n            }\\n            return eventType || defaultValue;\\n        }\\n        $(document).ready(function () {\\n            logRecruiterProfileLoad(Event);\\n            jQuery(\\'.recruiterProfileClickTrack\\').on(\\'click\\', logRecruiterProfileAccess);\\n        });\\n    \\n//]]>\\n\\n',\n",
              " 25091]"
            ]
          },
          "metadata": {},
          "execution_count": 4
        }
      ]
    },
    {
      "cell_type": "code",
      "metadata": {
        "colab": {
          "base_uri": "https://localhost:8080/"
        },
        "id": "65zGRGDVpMH4",
        "outputId": "c1cc520c-1676-4281-a467-74686d90a840"
      },
      "source": [
        "# Create a dataframe\n",
        "wp_root_df = pd.DataFrame(wp_root_list, columns=['id' ,'title', 'wp_url', 'status', 'status_ts', 'text', 'text_len'])\n",
        "wp_root_df.info()"
      ],
      "id": "65zGRGDVpMH4",
      "execution_count": 5,
      "outputs": [
        {
          "output_type": "stream",
          "name": "stdout",
          "text": [
            "<class 'pandas.core.frame.DataFrame'>\n",
            "RangeIndex: 120 entries, 0 to 119\n",
            "Data columns (total 7 columns):\n",
            " #   Column     Non-Null Count  Dtype         \n",
            "---  ------     --------------  -----         \n",
            " 0   id         120 non-null    object        \n",
            " 1   title      120 non-null    object        \n",
            " 2   wp_url     120 non-null    object        \n",
            " 3   status     120 non-null    int64         \n",
            " 4   status_ts  120 non-null    datetime64[ns]\n",
            " 5   text       120 non-null    object        \n",
            " 6   text_len   120 non-null    int64         \n",
            "dtypes: datetime64[ns](1), int64(2), object(4)\n",
            "memory usage: 6.7+ KB\n"
          ]
        }
      ]
    },
    {
      "cell_type": "code",
      "metadata": {
        "id": "YRibQ5yLqdh6"
      },
      "source": [
        "# Store dataframe for further processing\n",
        "from sqlalchemy import create_engine\n",
        "\n",
        "# Create SQLAlchemy engine and empty database\n",
        "engine = create_engine('sqlite:///dapp2022.db')\n",
        "\n",
        "# Store dataframe in the database\n",
        "wp_root_df.to_sql('wp_root', engine, index=True)\n",
        "\n",
        "# Upload the file to GitHub !\n",
        "# 2021-11-10 : DB has 14 MB\n",
        "# 2021-11-11 : DB has  6 MB"
      ],
      "id": "YRibQ5yLqdh6",
      "execution_count": 8,
      "outputs": []
    },
    {
      "cell_type": "code",
      "metadata": {
        "id": "TkioNspkuM-e"
      },
      "source": [
        ""
      ],
      "id": "TkioNspkuM-e",
      "execution_count": null,
      "outputs": []
    }
  ]
}