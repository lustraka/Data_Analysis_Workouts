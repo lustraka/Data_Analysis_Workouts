{
  "nbformat": 4,
  "nbformat_minor": 5,
  "metadata": {
    "kernelspec": {
      "display_name": "Python 3",
      "language": "python",
      "name": "python3"
    },
    "language_info": {
      "codemirror_mode": {
        "name": "ipython",
        "version": 3
      },
      "file_extension": ".py",
      "mimetype": "text/x-python",
      "name": "python",
      "nbconvert_exporter": "python",
      "pygments_lexer": "ipython3",
      "version": "3.7.11"
    },
    "colab": {
      "name": "DA_Apprenticeship_Standard.ipynb",
      "provenance": [],
      "include_colab_link": true
    }
  },
  "cells": [
    {
      "cell_type": "markdown",
      "metadata": {
        "id": "view-in-github",
        "colab_type": "text"
      },
      "source": [
        "<a href=\"https://colab.research.google.com/github/lustraka/data-analyst-portfolio-project-2022/blob/main/data/DA_Apprenticeship_Standard.ipynb\" target=\"_parent\"><img src=\"https://colab.research.google.com/assets/colab-badge.svg\" alt=\"Open In Colab\"/></a>"
      ]
    },
    {
      "cell_type": "markdown",
      "metadata": {
        "id": "b5QtjTKuPG1H"
      },
      "source": [
        "# Data Analyst\n",
        "Institute for Apprenticeships & Technical Education [ST0118](https://www.instituteforapprenticeships.org/apprenticeship-standards/data-analyst-v1-1)\n",
        "\n",
        "## Overview of the role\n",
        "\n",
        "> Collect, organise and study data to provide business insight.\n",
        "\n",
        "## Details of standard\n",
        "### Occupation summary\n",
        "This occupation is found in any employer in any sector that uses data to make business decisions. Data analysts may work in various departments within a single employer, (for example finance, sales, HR, manufacturing, or marketing), and in any employment sector, public or private, including retail, distribution, defence, banking, logistics, media, local government etc.\n",
        "\n",
        "The broad purpose of the occupation is to ascertain how data can be used in order to answer questions and solve problems. Data analysis is a process of requirement-gathering, inspecting, cleansing, transforming and modelling data with the goal of discovering useful information, informing conclusions and supporting decision-making. Data analysis has multiple facets and approaches, encompassing diverse techniques under a variety of names. In today's world, data analysis plays a crucial role in making decisions more evidence-based and helping organisations operate more effectively.\n",
        "\n",
        "For example: a data analyst may investigate social media trends and their impact on the organisation. In retail, a data analyst may break down sales figures to make recommendations on product placement and development. In HR a data analyst may investigate staff retention rates, in order to decide on recruitment strategy. In a hospital, a data analyst may investigate wait times for different departments, in order to provide a better service to its patients. \n",
        "\n",
        "In their daily work, an employee in this occupation interacts with internal or external clients. Internally, the data analyst may work with many people within their organisation, at different levels. Externally a data analyst may provide data analysis services to other organisations on behalf of their employer. Data analysts would normally be office based and work normal business hours.\n",
        "\n",
        "An employee in this occupation will be responsible for the creation and delivery of their own work, to meet business objectives. The data analyst will be responsible for working within the data architecture of the company and ensuring that the data is handled in a compliant, safe and appropriately secure manner, understanding and adhering to company data policy and legislation. Data analysis is a fast-moving and changing environment, and data analysts need to continue to stay abreast of, and engaged with, changes and trends in the wider industry; including data languages, tools and software, and lessons learnt elsewhere.\n"
      ],
      "id": "b5QtjTKuPG1H"
    },
    {
      "cell_type": "code",
      "metadata": {
        "id": "uVoWmwmYPzHN"
      },
      "source": [
        "# Import dependencies\n",
        "import requests\n",
        "from bs4 import BeautifulSoup\n",
        "import pandas as pd\n",
        "import numpy as np\n",
        "import re"
      ],
      "id": "uVoWmwmYPzHN",
      "execution_count": 1,
      "outputs": []
    },
    {
      "cell_type": "code",
      "metadata": {
        "id": "Bm0DxCO6QWQ9"
      },
      "source": [
        "path = 'https://www.instituteforapprenticeships.org/apprenticeship-standards/data-analyst-v1-1'\n",
        "page = requests.get(path)\n",
        "soup = BeautifulSoup(page.content, 'html.parser')"
      ],
      "id": "Bm0DxCO6QWQ9",
      "execution_count": 10,
      "outputs": []
    },
    {
      "cell_type": "code",
      "metadata": {
        "id": "BCflGisWQsnm"
      },
      "source": [
        "import copy\n",
        "# Identify element with duties\n",
        "duties = soup.find('div', class_='template-separator')"
      ],
      "id": "BCflGisWQsnm",
      "execution_count": 16,
      "outputs": []
    },
    {
      "cell_type": "code",
      "metadata": {
        "id": "cajx35FmSN63"
      },
      "source": [
        "d_cols = ['duty_id', 'duty_txt', 'duty_k', 'duty_s', 'duty_b']\n",
        "d_list = []\n",
        "for p1 in duties.find_all('p', id=re.compile(\"^Occupationduties\")):\n",
        "  p1c = copy.copy(p1)\n",
        "  duty_id = 'D' + re.search(' (\\d*)', p1c.strong.extract().text).group(1)\n",
        "  duty_txt = p1c.text.strip()\n",
        "  p2 = p1.parent.find_next_sibling().find_all('p')\n",
        "  duty_k = p2[0].text.strip().replace('\\n',' ')\n",
        "  duty_s = p2[1].text.strip().replace('\\n',' ')\n",
        "  duty_b = p2[2].text.strip().replace('\\n',' ')\n",
        "  d_list.append([duty_id, duty_txt, duty_k, duty_s, duty_b])\n",
        "d_list[-2:]"
      ],
      "id": "cajx35FmSN63",
      "execution_count": null,
      "outputs": []
    },
    {
      "cell_type": "code",
      "metadata": {
        "id": "asRZZZVTUPuq"
      },
      "source": [
        "duties_df = pd.DataFrame(d_list, columns=d_cols)\n",
        "for _, rec in duties_df.iterrows():\n",
        "  print('- ', rec[0], ':', rec[1])\n",
        "  print('\\t-', rec[2])\n",
        "  print('\\t-', rec[3])\n",
        "  print('\\t-', rec[4])"
      ],
      "id": "asRZZZVTUPuq",
      "execution_count": null,
      "outputs": []
    },
    {
      "cell_type": "markdown",
      "metadata": {
        "id": "Jl6hhnqFhbHG"
      },
      "source": [
        "## Occupation duties\n",
        "-  D1 : Identify data sources to meet the organisation's requirement, using evidence-based decision making to establish a rationale for inclusion and exclusion of various data sets and models\n",
        "\t- K1  K2  K3  K4  K5  K6  K8  K9  K10  K12  K15\n",
        "\t- S1  S2  S7  S8  S9  S15\n",
        "\t- B2  B3  B4  B5  B7\n",
        "-  D2 : Liaise with the client and colleagues from other areas of the organisation to establish reporting needs and deliver insightful and accurate information\n",
        "\t- K1  K2  K3  K4  K5  K6  K9  K10  K11  K12  K15\n",
        "\t- S1  S2  S4  S5  S7  S12\n",
        "\t- B1  B3  B4  B5  B6  B7\n",
        "-  D3 : Collect, compile and, if needed, cleanse data, such as sales figures, Digital Twins etc. solving any problems that arise, to or from a range of internal and external systems\n",
        "\t- K1  K2  K3  K4  K5  K6  K8  K10  K11  K12  K13  K15\n",
        "\t- S1  S2  S3  S4  S6  S7  S8  S9  S10  S13\n",
        "\t- B1  B2  B3  B4  B5  B6  B7\n",
        "-  D4 : Produce performance dashboards and reports in the Visualisation and Model Building Phase\n",
        "\t- K1  K2  K3  K4  K5  K6  K7  K8  K9  K10  K11  K12  K13  K15\n",
        "\t- S1  S2  S3  S4  S5  S7  S8  S9  S10  S11  S12  S13  S14  S15\n",
        "\t- B2  B3  B4\n",
        "-  D5 : Support the organisation by maintaining and developing reports for analysis to aid with decisions, and adhering to organisational policy/legislation\n",
        "\t- K1  K2  K3  K7  K8  K10  K11  K12\n",
        "\t- S1  S2  S3  S5  S8  S9  S14\n",
        "\t- B1  B2  B3\n",
        "-  D6 : Produce a range of standard and non standard statistical and data analysis reports in the Model Building phase\n",
        "\t- K2  K3  K4  K5  K6  K7  K8  K9  K10  K11  K12  K13  K14\n",
        "\t- S1  S2  S3  S4  S5  S8  S9  S10  S11  S13  S14\n",
        "\t- B2  B3  B6  B7\n",
        "-  D7 : Identify, analyse, and interpret trends or patterns in data sets\n",
        "\t- K1  K2  K3  K4  K5  K8  K10  K11  K12  K13  K14  K15\n",
        "\t- S1  S2  S3  S4  S5  S6  S10  S11  S13  S14\n",
        "\t- B2  B3  B4  B5  B7\n",
        "-  D8 : Draw conclusions and recommend an appropriate response, offer guidance or interpretation to aid understanding of the data\n",
        "\t- K1  K2  K7  K8  K11  K14\n",
        "\t- S1  S2  S3  S4  S5  S7  S10  S11  S12  S13  S14\n",
        "\t- B2  B3  B4  B5  B7\n",
        "-  D9 : Summarise and present the results of data analysis to a range of stakeholders, making recommendations\n",
        "\t- K2  K3  K4  K5  K7  K9  K10  K12  K13  K15\n",
        "\t- S1  S2  S4  S5  S7  S9  S12  S14  S15\n",
        "\t- B1  B3  B4  B7\n",
        "-  D10 : Provide regular reports and analysis to different management or leadership teams, ensuring data is used and represented ethically in line with relevant legislation (e.g. GDPR which incorporates Privacy by Design).\n",
        "\t- K1  K2  K3  K4  K5  K6  K7  K9  K10  K11  K12  K15\n",
        "\t- S1  S2  S4  S5  S7  S10  S12  S14  S15\n",
        "\t- B3  B4  B5\n",
        "-  D11 : Ensure data is appropriately stored and archived, in line with relevant legislation e.g. GDPR\n",
        "\t- K1  K2  K3  K6  K8  K11  K12\n",
        "\t- S1  S2  S3  S9\n",
        "\t- B1  B3  B4\n",
        "-  D12 : Practice continuous self learning to keep up to date with technological developments to enhance relevant skills and take responsibility for own professional development\n",
        "\t- K7  K8  K10  K11  K13  K14  K15\n",
        "\t- S1  S3  S4  S6  S7  S12\n",
        "\t- B1  B2  B3  B4  B5  B6  B7"
      ],
      "id": "Jl6hhnqFhbHG"
    },
    {
      "cell_type": "code",
      "metadata": {
        "id": "nsJohv4DbRa6",
        "outputId": "e2f6f7f3-53c9-4a1f-af18-8c51d9717d2c",
        "colab": {
          "base_uri": "https://localhost:8080/"
        }
      },
      "source": [
        "ksb = duties.next_sibling.next_sibling.find_all('p')\n",
        "len(ksb)"
      ],
      "id": "nsJohv4DbRa6",
      "execution_count": 53,
      "outputs": [
        {
          "output_type": "execute_result",
          "data": {
            "text/plain": [
              "37"
            ]
          },
          "metadata": {},
          "execution_count": 53
        }
      ]
    },
    {
      "cell_type": "code",
      "metadata": {
        "id": "S6JaMhYDdFc4"
      },
      "source": [
        "ksb_list = []\n",
        "for ksb_line in ksb:\n",
        "  p1c = copy.copy(ksb_line)\n",
        "  ksb_id = p1c.strong.extract().text\n",
        "  ksb_txt = p1c.text.replace(':','').replace('Back to Duty','').strip().capitalize()\n",
        "  print('- ', ksb_id, ':', ksb_txt)"
      ],
      "id": "S6JaMhYDdFc4",
      "execution_count": null,
      "outputs": []
    },
    {
      "cell_type": "markdown",
      "metadata": {
        "id": "2AoGd2x9hw0t"
      },
      "source": [
        "## KSBs\n",
        "### Knowledge\n",
        "-  K1 : Current relevant legislation and its application to the safe use of data\n",
        "-  K2 : Organisational data and information security standards, policies and procedures relevant to data management activities\n",
        "-  K3 : Principles of the data life cycle and the steps involved in carrying out routine data analysis tasks\n",
        "-  K4 : Principles of data, including open and public data, administrative data, and research data\n",
        "-  K5 : The differences between structured and unstructured data\n",
        "-  K6 : The fundamentals of data structures, database system design, implementation and maintenance\n",
        "-  K7 : Principles of user experience and domain context for data analytics\n",
        "-  K8 : Quality risks inherent in data and how to mitigate or resolve these\n",
        "-  K9 : Principal approaches to defining customer requirements for data analysis\n",
        "-  K10 : Approaches to combining data from different sources\n",
        "-  K11 : Approaches to organisational tools and methods for data analysis\n",
        "-  K12 : Organisational data architecture\n",
        "-  K13 : Principles of statistics for analysing datasets\n",
        "-  K14 : The principles of descriptive, predictive and prescriptive analytics\n",
        "-  K15 : The ethical aspects associated with the use and collation of data\n",
        "\n",
        "### Skills\n",
        "-  S1 : Use data systems securely to meet requirements and in line with organisational procedures and legislation including principles of privacy by design\n",
        "-  S2 : Implement the stages of the data analysis lifecycle\n",
        "-  S3 : Apply principles of data classification within data analysis activity\n",
        "-  S4 : Analyse data sets taking account of different data structures and database designs\n",
        "-  S5 : Assess the impact on user experience and domain context on data analysis activity\n",
        "-  S6 : Identify and escalate quality risks in data analysis with suggested mitigation or resolutions as appropriate\n",
        "-  S7 : Undertake customer requirements analysis and implement findings in data analytics planning and outputs\n",
        "-  S8 : Identify data sources and the risks and challenges to combination within data analysis activity\n",
        "-  S9 : Apply organizational architecture requirements to data analysis activities\n",
        "-  S10 : Apply statistical methodologies to data analysis tasks\n",
        "-  S11 : Apply predictive analytics in the collation and use of data\n",
        "-  S12 : Collaborate and communicate with a range of internal and external stakeholders using appropriate styles and behaviours to suit the audience\n",
        "-  S13 : Use a range of analytical techniques such as data mining, time series forecasting and modelling techniques to identify and predict trends and patterns in data\n",
        "-  S14 : Collate and interpret qualitative and quantitative data and convert into infographics, reports, tables, dashboards and graphs\n",
        "-  S15 : Select and apply the most appropriate data tools to achieve the optimum outcome\n",
        "\n",
        "### Behaviors\n",
        "-  B1 : Maintain a productive, professional and secure working environment\n",
        "-  B2 : Show initiative, being resourceful when faced with a problem and taking responsibility for solving problems within their own remit\n",
        "-  B3 : Work independently and collaboratively\n",
        "-  B4 : Logical and analytical\n",
        "-  B5 : Identify issues quickly,  investigating and solving complex problems and applying appropriate solutions. ensures the true root cause of any problem is found and a solution is identified which prevents recurrence.\n",
        "-  B6 : Resilient - viewing obstacles as challenges and learning from failure.\n",
        "-  B7 : Adaptable to changing contexts within the scope of a project, direction of the organisation or data analyst role."
      ],
      "id": "2AoGd2x9hw0t"
    },
    {
      "cell_type": "code",
      "metadata": {
        "id": "JQf2SBv0d0kI"
      },
      "source": [
        ""
      ],
      "id": "JQf2SBv0d0kI",
      "execution_count": null,
      "outputs": []
    }
  ]
}