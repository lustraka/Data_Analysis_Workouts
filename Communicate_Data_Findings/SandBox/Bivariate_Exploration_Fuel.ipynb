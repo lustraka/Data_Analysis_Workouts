{
  "nbformat": 4,
  "nbformat_minor": 5,
  "metadata": {
    "kernelspec": {
      "display_name": "Python 3",
      "language": "python",
      "name": "python3"
    },
    "language_info": {
      "codemirror_mode": {
        "name": "ipython",
        "version": 3
      },
      "file_extension": ".py",
      "mimetype": "text/x-python",
      "name": "python",
      "nbconvert_exporter": "python",
      "pygments_lexer": "ipython3",
      "version": "3.7.11"
    },
    "colab": {
      "name": "Bivariate_Exploration_Fuel.ipynb",
      "provenance": [],
      "include_colab_link": true
    }
  },
  "cells": [
    {
      "cell_type": "markdown",
      "metadata": {
        "id": "view-in-github",
        "colab_type": "text"
      },
      "source": [
        "<a href=\"https://colab.research.google.com/github/lustraka/Data_Analysis_Workouts/blob/main/Communicate_Data_Findings/SandBox/Bivariate_Exploration_Fuel.ipynb\" target=\"_parent\"><img src=\"https://colab.research.google.com/assets/colab-badge.svg\" alt=\"Open In Colab\"/></a>"
      ]
    },
    {
      "cell_type": "markdown",
      "metadata": {
        "id": "54S_38fXGK9x"
      },
      "source": [
        "# Bivariate Exploration Pattern Language\n",
        "## Dataset: Fuel_Econ"
      ],
      "id": "54S_38fXGK9x"
    },
    {
      "cell_type": "code",
      "metadata": {
        "id": "BnOX4t5bGTs2",
        "outputId": "2eff5264-df41-4a0d-84f0-e8aa48dd92b0",
        "colab": {
          "base_uri": "https://localhost:8080/",
          "height": 411
        }
      },
      "source": [
        "# Import dependencies\n",
        "import numpy as np\n",
        "import pandas as pd\n",
        "import matplotlib.pyplot as plt\n",
        "import seaborn as sns\n",
        "%matplotlib inline\n",
        "\n",
        "# Read the csv file, and check its shape and head\n",
        "path = 'https://github.com/lustraka/Data_Analysis_Workouts/raw/main/Communicate_Data_Findings/SandBox/'\n",
        "fuel_econ = pd.read_csv(path + 'fuel-econ.csv')\n",
        "print(fuel_econ.shape)\n",
        "fuel_econ.head()"
      ],
      "id": "BnOX4t5bGTs2",
      "execution_count": 2,
      "outputs": [
        {
          "output_type": "stream",
          "name": "stdout",
          "text": [
            "(3929, 20)\n"
          ]
        },
        {
          "output_type": "execute_result",
          "data": {
            "text/html": [
              "<div>\n",
              "<style scoped>\n",
              "    .dataframe tbody tr th:only-of-type {\n",
              "        vertical-align: middle;\n",
              "    }\n",
              "\n",
              "    .dataframe tbody tr th {\n",
              "        vertical-align: top;\n",
              "    }\n",
              "\n",
              "    .dataframe thead th {\n",
              "        text-align: right;\n",
              "    }\n",
              "</style>\n",
              "<table border=\"1\" class=\"dataframe\">\n",
              "  <thead>\n",
              "    <tr style=\"text-align: right;\">\n",
              "      <th></th>\n",
              "      <th>id</th>\n",
              "      <th>make</th>\n",
              "      <th>model</th>\n",
              "      <th>year</th>\n",
              "      <th>VClass</th>\n",
              "      <th>drive</th>\n",
              "      <th>trans</th>\n",
              "      <th>fuelType</th>\n",
              "      <th>cylinders</th>\n",
              "      <th>displ</th>\n",
              "      <th>pv2</th>\n",
              "      <th>pv4</th>\n",
              "      <th>city</th>\n",
              "      <th>UCity</th>\n",
              "      <th>highway</th>\n",
              "      <th>UHighway</th>\n",
              "      <th>comb</th>\n",
              "      <th>co2</th>\n",
              "      <th>feScore</th>\n",
              "      <th>ghgScore</th>\n",
              "    </tr>\n",
              "  </thead>\n",
              "  <tbody>\n",
              "    <tr>\n",
              "      <th>0</th>\n",
              "      <td>32204</td>\n",
              "      <td>Nissan</td>\n",
              "      <td>GT-R</td>\n",
              "      <td>2013</td>\n",
              "      <td>Subcompact Cars</td>\n",
              "      <td>All-Wheel Drive</td>\n",
              "      <td>Automatic (AM6)</td>\n",
              "      <td>Premium Gasoline</td>\n",
              "      <td>6</td>\n",
              "      <td>3.8</td>\n",
              "      <td>79</td>\n",
              "      <td>0</td>\n",
              "      <td>16.4596</td>\n",
              "      <td>20.2988</td>\n",
              "      <td>22.5568</td>\n",
              "      <td>30.1798</td>\n",
              "      <td>18.7389</td>\n",
              "      <td>471</td>\n",
              "      <td>4</td>\n",
              "      <td>4</td>\n",
              "    </tr>\n",
              "    <tr>\n",
              "      <th>1</th>\n",
              "      <td>32205</td>\n",
              "      <td>Volkswagen</td>\n",
              "      <td>CC</td>\n",
              "      <td>2013</td>\n",
              "      <td>Compact Cars</td>\n",
              "      <td>Front-Wheel Drive</td>\n",
              "      <td>Automatic (AM-S6)</td>\n",
              "      <td>Premium Gasoline</td>\n",
              "      <td>4</td>\n",
              "      <td>2.0</td>\n",
              "      <td>94</td>\n",
              "      <td>0</td>\n",
              "      <td>21.8706</td>\n",
              "      <td>26.9770</td>\n",
              "      <td>31.0367</td>\n",
              "      <td>42.4936</td>\n",
              "      <td>25.2227</td>\n",
              "      <td>349</td>\n",
              "      <td>6</td>\n",
              "      <td>6</td>\n",
              "    </tr>\n",
              "    <tr>\n",
              "      <th>2</th>\n",
              "      <td>32206</td>\n",
              "      <td>Volkswagen</td>\n",
              "      <td>CC</td>\n",
              "      <td>2013</td>\n",
              "      <td>Compact Cars</td>\n",
              "      <td>Front-Wheel Drive</td>\n",
              "      <td>Automatic (S6)</td>\n",
              "      <td>Premium Gasoline</td>\n",
              "      <td>6</td>\n",
              "      <td>3.6</td>\n",
              "      <td>94</td>\n",
              "      <td>0</td>\n",
              "      <td>17.4935</td>\n",
              "      <td>21.2000</td>\n",
              "      <td>26.5716</td>\n",
              "      <td>35.1000</td>\n",
              "      <td>20.6716</td>\n",
              "      <td>429</td>\n",
              "      <td>5</td>\n",
              "      <td>5</td>\n",
              "    </tr>\n",
              "    <tr>\n",
              "      <th>3</th>\n",
              "      <td>32207</td>\n",
              "      <td>Volkswagen</td>\n",
              "      <td>CC 4motion</td>\n",
              "      <td>2013</td>\n",
              "      <td>Compact Cars</td>\n",
              "      <td>All-Wheel Drive</td>\n",
              "      <td>Automatic (S6)</td>\n",
              "      <td>Premium Gasoline</td>\n",
              "      <td>6</td>\n",
              "      <td>3.6</td>\n",
              "      <td>94</td>\n",
              "      <td>0</td>\n",
              "      <td>16.9415</td>\n",
              "      <td>20.5000</td>\n",
              "      <td>25.2190</td>\n",
              "      <td>33.5000</td>\n",
              "      <td>19.8774</td>\n",
              "      <td>446</td>\n",
              "      <td>5</td>\n",
              "      <td>5</td>\n",
              "    </tr>\n",
              "    <tr>\n",
              "      <th>4</th>\n",
              "      <td>32208</td>\n",
              "      <td>Chevrolet</td>\n",
              "      <td>Malibu eAssist</td>\n",
              "      <td>2013</td>\n",
              "      <td>Midsize Cars</td>\n",
              "      <td>Front-Wheel Drive</td>\n",
              "      <td>Automatic (S6)</td>\n",
              "      <td>Regular Gasoline</td>\n",
              "      <td>4</td>\n",
              "      <td>2.4</td>\n",
              "      <td>0</td>\n",
              "      <td>95</td>\n",
              "      <td>24.7726</td>\n",
              "      <td>31.9796</td>\n",
              "      <td>35.5340</td>\n",
              "      <td>51.8816</td>\n",
              "      <td>28.6813</td>\n",
              "      <td>310</td>\n",
              "      <td>8</td>\n",
              "      <td>8</td>\n",
              "    </tr>\n",
              "  </tbody>\n",
              "</table>\n",
              "</div>"
            ],
            "text/plain": [
              "      id        make           model  year  ...     comb  co2 feScore ghgScore\n",
              "0  32204      Nissan            GT-R  2013  ...  18.7389  471       4        4\n",
              "1  32205  Volkswagen              CC  2013  ...  25.2227  349       6        6\n",
              "2  32206  Volkswagen              CC  2013  ...  20.6716  429       5        5\n",
              "3  32207  Volkswagen      CC 4motion  2013  ...  19.8774  446       5        5\n",
              "4  32208   Chevrolet  Malibu eAssist  2013  ...  28.6813  310       8        8\n",
              "\n",
              "[5 rows x 20 columns]"
            ]
          },
          "metadata": {},
          "execution_count": 2
        }
      ]
    },
    {
      "cell_type": "code",
      "metadata": {
        "id": "G2sCmBJCGfgX"
      },
      "source": [
        ""
      ],
      "id": "G2sCmBJCGfgX",
      "execution_count": null,
      "outputs": []
    }
  ]
}