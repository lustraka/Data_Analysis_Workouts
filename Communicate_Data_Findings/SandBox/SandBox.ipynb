{
  "nbformat": 4,
  "nbformat_minor": 0,
  "metadata": {
    "kernelspec": {
      "display_name": "Python 3",
      "language": "python",
      "name": "python3"
    },
    "language_info": {
      "codemirror_mode": {
        "name": "ipython",
        "version": 3
      },
      "file_extension": ".py",
      "mimetype": "text/x-python",
      "name": "python",
      "nbconvert_exporter": "python",
      "pygments_lexer": "ipython3",
      "version": "3.8.8"
    },
    "colab": {
      "name": "SandBox.ipynb",
      "provenance": [],
      "include_colab_link": true
    }
  },
  "cells": [
    {
      "cell_type": "markdown",
      "metadata": {
        "id": "view-in-github",
        "colab_type": "text"
      },
      "source": [
        "<a href=\"https://colab.research.google.com/github/lustraka/Data_Analysis_Workouts/blob/main/Communicate_Data_Findings/SandBox/SandBox.ipynb\" target=\"_parent\"><img src=\"https://colab.research.google.com/assets/colab-badge.svg\" alt=\"Open In Colab\"/></a>"
      ]
    },
    {
      "cell_type": "code",
      "metadata": {
        "id": "96N5OtQRsaDD"
      },
      "source": [
        "# This will cause the need of restart\n",
        "! pip install -U matplotlib"
      ],
      "execution_count": null,
      "outputs": []
    },
    {
      "cell_type": "code",
      "metadata": {
        "id": "ggwA46lXn_gF",
        "outputId": "3822ca79-d00e-45a5-e2c9-b66a4b5f6797",
        "colab": {
          "base_uri": "https://localhost:8080/",
          "height": 35
        }
      },
      "source": [
        "import pandas as pd\n",
        "import numpy as np\n",
        "import matplotlib.pyplot as plt\n",
        "\n",
        "import matplotlib\n",
        "matplotlib.__version__"
      ],
      "execution_count": 2,
      "outputs": [
        {
          "output_type": "execute_result",
          "data": {
            "application/vnd.google.colaboratory.intrinsic+json": {
              "type": "string"
            },
            "text/plain": [
              "'3.4.3'"
            ]
          },
          "metadata": {},
          "execution_count": 2
        }
      ]
    },
    {
      "cell_type": "markdown",
      "metadata": {
        "id": "frbztaCWevAX"
      },
      "source": [
        "# Anscombe's quartet\n",
        "[wiki](https://en.wikipedia.org/wiki/Anscombe%27s_quartet)"
      ]
    },
    {
      "cell_type": "code",
      "metadata": {
        "id": "6EEdVgxIoIi_",
        "colab": {
          "base_uri": "https://localhost:8080/",
          "height": 390
        },
        "outputId": "f105b271-5703-4d89-9bc4-7a6f53d7b63e"
      },
      "source": [
        "path = 'https://github.com/lustraka/Data_Analysis_Workouts/blob/main/Communicate_Data_Findings/SandBox/anscombes-quartet.xlsx?raw=true'\n",
        "df = pd.read_excel(path, engine='openpyxl').dropna()\n",
        "df"
      ],
      "execution_count": 3,
      "outputs": [
        {
          "output_type": "execute_result",
          "data": {
            "text/html": [
              "<div>\n",
              "<style scoped>\n",
              "    .dataframe tbody tr th:only-of-type {\n",
              "        vertical-align: middle;\n",
              "    }\n",
              "\n",
              "    .dataframe tbody tr th {\n",
              "        vertical-align: top;\n",
              "    }\n",
              "\n",
              "    .dataframe thead th {\n",
              "        text-align: right;\n",
              "    }\n",
              "</style>\n",
              "<table border=\"1\" class=\"dataframe\">\n",
              "  <thead>\n",
              "    <tr style=\"text-align: right;\">\n",
              "      <th></th>\n",
              "      <th>X</th>\n",
              "      <th>Y</th>\n",
              "      <th>X.1</th>\n",
              "      <th>Y.1</th>\n",
              "      <th>X.2</th>\n",
              "      <th>Y.2</th>\n",
              "      <th>X.3</th>\n",
              "      <th>Y.3</th>\n",
              "    </tr>\n",
              "  </thead>\n",
              "  <tbody>\n",
              "    <tr>\n",
              "      <th>0</th>\n",
              "      <td>10.0</td>\n",
              "      <td>8.04</td>\n",
              "      <td>10.0</td>\n",
              "      <td>9.14</td>\n",
              "      <td>10.0</td>\n",
              "      <td>7.46</td>\n",
              "      <td>8.0</td>\n",
              "      <td>6.58</td>\n",
              "    </tr>\n",
              "    <tr>\n",
              "      <th>1</th>\n",
              "      <td>8.0</td>\n",
              "      <td>6.95</td>\n",
              "      <td>8.0</td>\n",
              "      <td>8.14</td>\n",
              "      <td>8.0</td>\n",
              "      <td>6.77</td>\n",
              "      <td>8.0</td>\n",
              "      <td>5.76</td>\n",
              "    </tr>\n",
              "    <tr>\n",
              "      <th>2</th>\n",
              "      <td>13.0</td>\n",
              "      <td>7.58</td>\n",
              "      <td>13.0</td>\n",
              "      <td>8.74</td>\n",
              "      <td>13.0</td>\n",
              "      <td>12.74</td>\n",
              "      <td>8.0</td>\n",
              "      <td>7.71</td>\n",
              "    </tr>\n",
              "    <tr>\n",
              "      <th>3</th>\n",
              "      <td>9.0</td>\n",
              "      <td>8.81</td>\n",
              "      <td>9.0</td>\n",
              "      <td>8.77</td>\n",
              "      <td>9.0</td>\n",
              "      <td>7.11</td>\n",
              "      <td>8.0</td>\n",
              "      <td>8.84</td>\n",
              "    </tr>\n",
              "    <tr>\n",
              "      <th>4</th>\n",
              "      <td>11.0</td>\n",
              "      <td>8.33</td>\n",
              "      <td>11.0</td>\n",
              "      <td>9.26</td>\n",
              "      <td>11.0</td>\n",
              "      <td>7.81</td>\n",
              "      <td>8.0</td>\n",
              "      <td>8.47</td>\n",
              "    </tr>\n",
              "    <tr>\n",
              "      <th>5</th>\n",
              "      <td>14.0</td>\n",
              "      <td>9.96</td>\n",
              "      <td>14.0</td>\n",
              "      <td>8.1</td>\n",
              "      <td>14.0</td>\n",
              "      <td>8.84</td>\n",
              "      <td>8.0</td>\n",
              "      <td>7.04</td>\n",
              "    </tr>\n",
              "    <tr>\n",
              "      <th>6</th>\n",
              "      <td>6.0</td>\n",
              "      <td>7.24</td>\n",
              "      <td>6.0</td>\n",
              "      <td>6.13</td>\n",
              "      <td>6.0</td>\n",
              "      <td>6.08</td>\n",
              "      <td>8.0</td>\n",
              "      <td>5.25</td>\n",
              "    </tr>\n",
              "    <tr>\n",
              "      <th>7</th>\n",
              "      <td>4.0</td>\n",
              "      <td>4.26</td>\n",
              "      <td>4.0</td>\n",
              "      <td>3.1</td>\n",
              "      <td>4.0</td>\n",
              "      <td>5.39</td>\n",
              "      <td>19.0</td>\n",
              "      <td>12.50</td>\n",
              "    </tr>\n",
              "    <tr>\n",
              "      <th>8</th>\n",
              "      <td>12.0</td>\n",
              "      <td>10.84</td>\n",
              "      <td>12.0</td>\n",
              "      <td>9.13</td>\n",
              "      <td>12.0</td>\n",
              "      <td>8.15</td>\n",
              "      <td>8.0</td>\n",
              "      <td>5.56</td>\n",
              "    </tr>\n",
              "    <tr>\n",
              "      <th>9</th>\n",
              "      <td>7.0</td>\n",
              "      <td>4.82</td>\n",
              "      <td>7.0</td>\n",
              "      <td>7.26</td>\n",
              "      <td>7.0</td>\n",
              "      <td>6.42</td>\n",
              "      <td>8.0</td>\n",
              "      <td>7.91</td>\n",
              "    </tr>\n",
              "    <tr>\n",
              "      <th>10</th>\n",
              "      <td>5.0</td>\n",
              "      <td>5.68</td>\n",
              "      <td>5.0</td>\n",
              "      <td>4.74</td>\n",
              "      <td>5.0</td>\n",
              "      <td>5.73</td>\n",
              "      <td>8.0</td>\n",
              "      <td>6.89</td>\n",
              "    </tr>\n",
              "  </tbody>\n",
              "</table>\n",
              "</div>"
            ],
            "text/plain": [
              "       X      Y   X.1   Y.1   X.2    Y.2   X.3    Y.3\n",
              "0   10.0   8.04  10.0  9.14  10.0   7.46   8.0   6.58\n",
              "1    8.0   6.95   8.0  8.14   8.0   6.77   8.0   5.76\n",
              "2   13.0   7.58  13.0  8.74  13.0  12.74   8.0   7.71\n",
              "3    9.0   8.81   9.0  8.77   9.0   7.11   8.0   8.84\n",
              "4   11.0   8.33  11.0  9.26  11.0   7.81   8.0   8.47\n",
              "5   14.0   9.96  14.0   8.1  14.0   8.84   8.0   7.04\n",
              "6    6.0   7.24   6.0  6.13   6.0   6.08   8.0   5.25\n",
              "7    4.0   4.26   4.0   3.1   4.0   5.39  19.0  12.50\n",
              "8   12.0  10.84  12.0  9.13  12.0   8.15   8.0   5.56\n",
              "9    7.0   4.82   7.0  7.26   7.0   6.42   8.0   7.91\n",
              "10   5.0   5.68   5.0  4.74   5.0   5.73   8.0   6.89"
            ]
          },
          "metadata": {},
          "execution_count": 3
        }
      ]
    },
    {
      "cell_type": "code",
      "metadata": {
        "id": "Kr24z5jiocoY",
        "colab": {
          "base_uri": "https://localhost:8080/",
          "height": 297
        },
        "outputId": "e8a1620c-8ab7-44ee-ebde-2b148586ad07"
      },
      "source": [
        "df.describe().round(2)"
      ],
      "execution_count": 4,
      "outputs": [
        {
          "output_type": "execute_result",
          "data": {
            "text/html": [
              "<div>\n",
              "<style scoped>\n",
              "    .dataframe tbody tr th:only-of-type {\n",
              "        vertical-align: middle;\n",
              "    }\n",
              "\n",
              "    .dataframe tbody tr th {\n",
              "        vertical-align: top;\n",
              "    }\n",
              "\n",
              "    .dataframe thead th {\n",
              "        text-align: right;\n",
              "    }\n",
              "</style>\n",
              "<table border=\"1\" class=\"dataframe\">\n",
              "  <thead>\n",
              "    <tr style=\"text-align: right;\">\n",
              "      <th></th>\n",
              "      <th>X</th>\n",
              "      <th>Y</th>\n",
              "      <th>X.1</th>\n",
              "      <th>X.2</th>\n",
              "      <th>Y.2</th>\n",
              "      <th>X.3</th>\n",
              "      <th>Y.3</th>\n",
              "    </tr>\n",
              "  </thead>\n",
              "  <tbody>\n",
              "    <tr>\n",
              "      <th>count</th>\n",
              "      <td>11.00</td>\n",
              "      <td>11.00</td>\n",
              "      <td>11.00</td>\n",
              "      <td>11.00</td>\n",
              "      <td>11.00</td>\n",
              "      <td>11.00</td>\n",
              "      <td>11.00</td>\n",
              "    </tr>\n",
              "    <tr>\n",
              "      <th>mean</th>\n",
              "      <td>9.00</td>\n",
              "      <td>7.50</td>\n",
              "      <td>9.00</td>\n",
              "      <td>9.00</td>\n",
              "      <td>7.50</td>\n",
              "      <td>9.00</td>\n",
              "      <td>7.50</td>\n",
              "    </tr>\n",
              "    <tr>\n",
              "      <th>std</th>\n",
              "      <td>3.32</td>\n",
              "      <td>2.03</td>\n",
              "      <td>3.32</td>\n",
              "      <td>3.32</td>\n",
              "      <td>2.03</td>\n",
              "      <td>3.32</td>\n",
              "      <td>2.03</td>\n",
              "    </tr>\n",
              "    <tr>\n",
              "      <th>min</th>\n",
              "      <td>4.00</td>\n",
              "      <td>4.26</td>\n",
              "      <td>4.00</td>\n",
              "      <td>4.00</td>\n",
              "      <td>5.39</td>\n",
              "      <td>8.00</td>\n",
              "      <td>5.25</td>\n",
              "    </tr>\n",
              "    <tr>\n",
              "      <th>25%</th>\n",
              "      <td>6.50</td>\n",
              "      <td>6.32</td>\n",
              "      <td>6.50</td>\n",
              "      <td>6.50</td>\n",
              "      <td>6.25</td>\n",
              "      <td>8.00</td>\n",
              "      <td>6.17</td>\n",
              "    </tr>\n",
              "    <tr>\n",
              "      <th>50%</th>\n",
              "      <td>9.00</td>\n",
              "      <td>7.58</td>\n",
              "      <td>9.00</td>\n",
              "      <td>9.00</td>\n",
              "      <td>7.11</td>\n",
              "      <td>8.00</td>\n",
              "      <td>7.04</td>\n",
              "    </tr>\n",
              "    <tr>\n",
              "      <th>75%</th>\n",
              "      <td>11.50</td>\n",
              "      <td>8.57</td>\n",
              "      <td>11.50</td>\n",
              "      <td>11.50</td>\n",
              "      <td>7.98</td>\n",
              "      <td>8.00</td>\n",
              "      <td>8.19</td>\n",
              "    </tr>\n",
              "    <tr>\n",
              "      <th>max</th>\n",
              "      <td>14.00</td>\n",
              "      <td>10.84</td>\n",
              "      <td>14.00</td>\n",
              "      <td>14.00</td>\n",
              "      <td>12.74</td>\n",
              "      <td>19.00</td>\n",
              "      <td>12.50</td>\n",
              "    </tr>\n",
              "  </tbody>\n",
              "</table>\n",
              "</div>"
            ],
            "text/plain": [
              "           X      Y    X.1    X.2    Y.2    X.3    Y.3\n",
              "count  11.00  11.00  11.00  11.00  11.00  11.00  11.00\n",
              "mean    9.00   7.50   9.00   9.00   7.50   9.00   7.50\n",
              "std     3.32   2.03   3.32   3.32   2.03   3.32   2.03\n",
              "min     4.00   4.26   4.00   4.00   5.39   8.00   5.25\n",
              "25%     6.50   6.32   6.50   6.50   6.25   8.00   6.17\n",
              "50%     9.00   7.58   9.00   9.00   7.11   8.00   7.04\n",
              "75%    11.50   8.57  11.50  11.50   7.98   8.00   8.19\n",
              "max    14.00  10.84  14.00  14.00  12.74  19.00  12.50"
            ]
          },
          "metadata": {},
          "execution_count": 4
        }
      ]
    },
    {
      "cell_type": "code",
      "metadata": {
        "id": "n-0j5PjBouev",
        "colab": {
          "base_uri": "https://localhost:8080/",
          "height": 279
        },
        "outputId": "5f7c803c-1503-4ef3-a08d-ce326ebbb420"
      },
      "source": [
        "df.plot(kind='scatter', x='X', y='Y');"
      ],
      "execution_count": 5,
      "outputs": [
        {
          "output_type": "display_data",
          "data": {
            "image/png": "[encoded data removed]",
            "text/plain": [
              "<Figure size 432x288 with 1 Axes>"
            ]
          },
          "metadata": {
            "needs_background": "light"
          }
        }
      ]
    },
    {
      "cell_type": "code",
      "metadata": {
        "id": "sxJk6xT5rIND",
        "colab": {
          "base_uri": "https://localhost:8080/",
          "height": 279
        },
        "outputId": "727475c7-1e6d-470b-db44-a9dd71134b8f"
      },
      "source": [
        "df.plot(kind='scatter', x='X.1', y='Y.1');"
      ],
      "execution_count": 6,
      "outputs": [
        {
          "output_type": "display_data",
          "data": {
            "image/png": "[encoded data removed]",
            "text/plain": [
              "<Figure size 432x288 with 1 Axes>"
            ]
          },
          "metadata": {
            "needs_background": "light"
          }
        }
      ]
    },
    {
      "cell_type": "code",
      "metadata": {
        "id": "yr7ENM27rk7O",
        "colab": {
          "base_uri": "https://localhost:8080/",
          "height": 280
        },
        "outputId": "5ce1f83c-d9bd-4429-8f29-f118c0b85781"
      },
      "source": [
        "df.plot(kind='scatter', x='X.2', y='Y.2');"
      ],
      "execution_count": 7,
      "outputs": [
        {
          "output_type": "display_data",
          "data": {
            "image/png": "[encoded data removed]",
            "text/plain": [
              "<Figure size 432x288 with 1 Axes>"
            ]
          },
          "metadata": {
            "needs_background": "light"
          }
        }
      ]
    },
    {
      "cell_type": "code",
      "metadata": {
        "id": "UAM0zXj2rpQd",
        "colab": {
          "base_uri": "https://localhost:8080/",
          "height": 279
        },
        "outputId": "8f1139ef-5f6f-427b-f4a9-24a2c2963cb4"
      },
      "source": [
        "df.plot(kind='scatter', x='X.3', y='Y.3');"
      ],
      "execution_count": 8,
      "outputs": [
        {
          "output_type": "display_data",
          "data": {
            "image/png": "[encoded data removed]",
            "text/plain": [
              "<Figure size 432x288 with 1 Axes>"
            ]
          },
          "metadata": {
            "needs_background": "light"
          }
        }
      ]
    },
    {
      "cell_type": "markdown",
      "metadata": {
        "id": "oWeC8v_VEkQM"
      },
      "source": [
        "# Standard Deviation ([wiki](https://en.wikipedia.org/wiki/Standard_deviation))\n",
        "\n",
        "Let $\\mu$ be the expected value (the average) of random variable $X$ : \n",
        "$$\\mu \\equiv \\text{E}[X].$$\n",
        "The calculation of the sum of squared deviations can be related to moments calculated directly from the data.\n",
        "$$\\sigma(X) = \\sqrt{\\text{E}[(X - \\text{E}[X])^2]} = \\sqrt{\\text{E}[X^2]-(\\text{E}[X])^2}$$\n",
        "The standard deviation is equal to the square root of the difference between the average of the squares of the values and the square of the avergage value.\n",
        "\n",
        "Example:\n"
      ]
    },
    {
      "cell_type": "code",
      "metadata": {
        "id": "LRHTnpW7rsjF",
        "colab": {
          "base_uri": "https://localhost:8080/"
        },
        "outputId": "b7a02044-2526-4fe1-bfd4-7f7de16bacf0"
      },
      "source": [
        "X = np.array([2,4,4,4,5,5,7,9])\n",
        "X.mean(), X.var(), X.std()"
      ],
      "execution_count": 9,
      "outputs": [
        {
          "output_type": "execute_result",
          "data": {
            "text/plain": [
              "(5.0, 4.0, 2.0)"
            ]
          },
          "metadata": {},
          "execution_count": 9
        }
      ]
    },
    {
      "cell_type": "code",
      "metadata": {
        "id": "mQBVRE_IF3bw",
        "colab": {
          "base_uri": "https://localhost:8080/"
        },
        "outputId": "6dfefe33-cb93-4aa3-aa1b-dadaada22e04"
      },
      "source": [
        "(X**2).sum()/len(X) - X.mean()**2"
      ],
      "execution_count": 10,
      "outputs": [
        {
          "output_type": "execute_result",
          "data": {
            "text/plain": [
              "4.0"
            ]
          },
          "metadata": {},
          "execution_count": 10
        }
      ]
    },
    {
      "cell_type": "markdown",
      "metadata": {
        "id": "mXIet2jdRpRv"
      },
      "source": [
        "### Standard Devation of the Mean\n",
        "$$\\sigma_{mean} = \\frac{\\sigma}{\\sqrt{N}}$$\n",
        "Proof (assuming statistical independence of observations):\n",
        "$$\\text{Var(mean)} = \\text{Var}(\\frac{1}{N}\\sum_{i=1}^NX_i) =\\frac{1}{N^2}\\text{Var}(\\sum_{i=1}^NX_i) =\\frac{1}{N^2}\\sum_{i=1}^N\\text{Var}(X_i) =\\frac{N}{N^2}\\text{Var}(X) =\\frac{\\text{Var}(X)}{N}$$\n",
        "\n",
        "Correspondence of numpy and math:\n",
        "\n",
        "| Python / Math |\n",
        "|--- | \n",
        "|X - X.mean()|\n",
        "|$\\{(x_i-\\bar{x})\\}_{i=1}^N $|\n",
        "|np.power(X - X.mean(), 2)|\n",
        "|$\\{(x_i-\\bar{x})^2\\}_{i=1}^N = \\{\\text{Var}(x_i)\\}_{i=1}^N$|\n",
        "|np.power(X - X.mean(), 2).sum() == len(X) * X.var()|\n",
        "|$\\sum_{i=1}^N\\text{Var}(x_i) = N*\\text{var}(X)$|"
      ]
    },
    {
      "cell_type": "code",
      "metadata": {
        "id": "c5noaZjMGAJ_",
        "colab": {
          "base_uri": "https://localhost:8080/"
        },
        "outputId": "521a5ce5-60f6-4e37-fb91-ac7d747d5966"
      },
      "source": [
        "print(X - X.mean())\n",
        "print(np.power(X - X.mean(),2))"
      ],
      "execution_count": 11,
      "outputs": [
        {
          "output_type": "stream",
          "name": "stdout",
          "text": [
            "[-3. -1. -1. -1.  0.  0.  2.  4.]\n",
            "[ 9.  1.  1.  1.  0.  0.  4. 16.]\n"
          ]
        }
      ]
    },
    {
      "cell_type": "code",
      "metadata": {
        "id": "xCWfIIVQNq9k",
        "colab": {
          "base_uri": "https://localhost:8080/"
        },
        "outputId": "22aab204-28b5-46fc-b977-236c66135c7a"
      },
      "source": [
        "np.power(X - X.mean(),2).sum() == len(X) * X.var()"
      ],
      "execution_count": 12,
      "outputs": [
        {
          "output_type": "execute_result",
          "data": {
            "text/plain": [
              "True"
            ]
          },
          "metadata": {},
          "execution_count": 12
        }
      ]
    },
    {
      "cell_type": "code",
      "metadata": {
        "id": "WVY2o8r4P7zF",
        "colab": {
          "base_uri": "https://localhost:8080/"
        },
        "outputId": "109aac2e-715c-48a2-be82-a7200200c32b"
      },
      "source": [
        "# Standard deviation (error) of the mean\n",
        "X.std() / np.sqrt(len(X))"
      ],
      "execution_count": 13,
      "outputs": [
        {
          "output_type": "execute_result",
          "data": {
            "text/plain": [
              "0.7071067811865475"
            ]
          },
          "metadata": {},
          "execution_count": 13
        }
      ]
    },
    {
      "cell_type": "markdown",
      "metadata": {
        "id": "HqkFqClLfAF2"
      },
      "source": [
        "# A Science Camp Success\n",
        "\n",
        "Data Story Telling Practice:\n",
        "- Load dataset.\n",
        "- Determine the question you would ask of this dataset.\n",
        "- Create a visual to anwer the question.\n",
        "- Determine the conclusion you would provide to your audience.\n",
        "- Determine the action you would have for the audience.\n",
        "- Share your story.\n",
        "\n",
        "\n",
        "**Dataset**\n",
        "\n",
        "Feeling Before | Percent| Feeling After |  Percent\n",
        "-|:-:|-|:-:\n",
        "Bored |11 |Bored |12\n",
        "Not Great |5 |Not Great |6\n",
        "OK |40 |OK |14\n",
        "Kind of Interested |25 |Kind of Interested |30\n",
        "Excited |19 |Excited |38\n"
      ]
    },
    {
      "cell_type": "code",
      "metadata": {
        "id": "nXi9VBIhe_g2"
      },
      "source": [
        "txt =  \"\"\"Bored 11 Bored 12\n",
        "Not Great 5 Not Great 6\n",
        "OK 40 OK 14\n",
        "Kind of Interested 25 Kind of Interested 30\n",
        "Excited 19 Excited 38\"\"\"\n",
        "draw = [l.split() for l in txt.replace('Not Great', 'Not_Great').replace('Kind of Interested', 'Kind_of_Interested').split('\\n')]"
      ],
      "execution_count": 3,
      "outputs": []
    },
    {
      "cell_type": "code",
      "metadata": {
        "id": "Lrbve8ZyQOly",
        "outputId": "5567889d-6271-48e6-ec05-e53b4d915431",
        "colab": {
          "base_uri": "https://localhost:8080/"
        }
      },
      "source": [
        "feelings = [l[0].replace('_', ' ') for l in draw]\n",
        "feelings"
      ],
      "execution_count": 4,
      "outputs": [
        {
          "output_type": "execute_result",
          "data": {
            "text/plain": [
              "['Bored', 'Not Great', 'OK', 'Kind of Interested', 'Excited']"
            ]
          },
          "metadata": {},
          "execution_count": 4
        }
      ]
    },
    {
      "cell_type": "code",
      "metadata": {
        "id": "OMcun25rgwuN",
        "outputId": "09781e5c-14da-456a-8431-30b19c4ec1e6",
        "colab": {
          "base_uri": "https://localhost:8080/",
          "height": 111
        }
      },
      "source": [
        "df = pd.DataFrame.from_dict({'Before':[l[1] for l in draw], 'After': [l[3] for l in draw]}, orient='index', columns=feelings).astype(int)\n",
        "df"
      ],
      "execution_count": 5,
      "outputs": [
        {
          "output_type": "execute_result",
          "data": {
            "text/html": [
              "<div>\n",
              "<style scoped>\n",
              "    .dataframe tbody tr th:only-of-type {\n",
              "        vertical-align: middle;\n",
              "    }\n",
              "\n",
              "    .dataframe tbody tr th {\n",
              "        vertical-align: top;\n",
              "    }\n",
              "\n",
              "    .dataframe thead th {\n",
              "        text-align: right;\n",
              "    }\n",
              "</style>\n",
              "<table border=\"1\" class=\"dataframe\">\n",
              "  <thead>\n",
              "    <tr style=\"text-align: right;\">\n",
              "      <th></th>\n",
              "      <th>Bored</th>\n",
              "      <th>Not Great</th>\n",
              "      <th>OK</th>\n",
              "      <th>Kind of Interested</th>\n",
              "      <th>Excited</th>\n",
              "    </tr>\n",
              "  </thead>\n",
              "  <tbody>\n",
              "    <tr>\n",
              "      <th>Before</th>\n",
              "      <td>11</td>\n",
              "      <td>5</td>\n",
              "      <td>40</td>\n",
              "      <td>25</td>\n",
              "      <td>19</td>\n",
              "    </tr>\n",
              "    <tr>\n",
              "      <th>After</th>\n",
              "      <td>12</td>\n",
              "      <td>6</td>\n",
              "      <td>14</td>\n",
              "      <td>30</td>\n",
              "      <td>38</td>\n",
              "    </tr>\n",
              "  </tbody>\n",
              "</table>\n",
              "</div>"
            ],
            "text/plain": [
              "        Bored  Not Great  OK  Kind of Interested  Excited\n",
              "Before     11          5  40                  25       19\n",
              "After      12          6  14                  30       38"
            ]
          },
          "metadata": {},
          "execution_count": 5
        }
      ]
    },
    {
      "cell_type": "code",
      "metadata": {
        "id": "Q9GPsVTQhYlc",
        "outputId": "a949a5bc-f2c3-48b6-ff76-1f23fafbe891",
        "colab": {
          "base_uri": "https://localhost:8080/",
          "height": 295
        }
      },
      "source": [
        "ax = df.plot(kind='bar', stacked=True, rot=0, xlabel='Feeling', ylabel='Percentage', title='Student Interest in Science')\n",
        "plt.legend(bbox_to_anchor=(1, 0.5), loc=6)\n",
        "\n",
        "# reverse the legend's order\n",
        "handles, labels = ax.get_legend_handles_labels()\n",
        "ax.legend(handles[::-1], labels[::-1], bbox_to_anchor=(1, 0.5), loc=6)\n",
        "\n",
        "# Print bar labels (matplotlib v3.4.2 needed!)\n",
        "for c in ax.containers:\n",
        "  labels = [int(v.get_height()) for v in c]\n",
        "  ax.bar_label(c, labels=labels, label_type='center')\n",
        "\n",
        "plt.show()"
      ],
      "execution_count": 7,
      "outputs": [
        {
          "output_type": "display_data",
          "data": {
            "image/png": "[encoded data removed]",
            "text/plain": [
              "<Figure size 432x288 with 1 Axes>"
            ]
          },
          "metadata": {
            "needs_background": "light"
          }
        }
      ]
    },
    {
      "cell_type": "code",
      "metadata": {
        "id": "eH_yZAcTqCly"
      },
      "source": [
        ""
      ],
      "execution_count": null,
      "outputs": []
    }
  ]
}