{
  "nbformat": 4,
  "nbformat_minor": 0,
  "metadata": {
    "kernelspec": {
      "display_name": "Python 3",
      "language": "python",
      "name": "python3"
    },
    "language_info": {
      "codemirror_mode": {
        "name": "ipython",
        "version": 3
      },
      "file_extension": ".py",
      "mimetype": "text/x-python",
      "name": "python",
      "nbconvert_exporter": "python",
      "pygments_lexer": "ipython3",
      "version": "3.8.8"
    },
    "colab": {
      "name": "SandBox.ipynb",
      "provenance": [],
      "include_colab_link": true
    }
  },
  "cells": [
    {
      "cell_type": "markdown",
      "metadata": {
        "id": "view-in-github",
        "colab_type": "text"
      },
      "source": [
        "<a href=\"https://colab.research.google.com/github/lustraka/Data_Analysis_Workouts/blob/main/Communicate_Data_Findings/SandBox/SandBox.ipynb\" target=\"_parent\"><img src=\"https://colab.research.google.com/assets/colab-badge.svg\" alt=\"Open In Colab\"/></a>"
      ]
    },
    {
      "cell_type": "code",
      "metadata": {
        "id": "ggwA46lXn_gF"
      },
      "source": [
        "import pandas as pd\n",
        "import numpy as np\n",
        "import matplotlib.pyplot as plt"
      ],
      "execution_count": 1,
      "outputs": []
    },
    {
      "cell_type": "code",
      "metadata": {
        "id": "6EEdVgxIoIi_",
        "outputId": "7056af5a-1acd-441c-8faa-30cc66bc6db7",
        "colab": {
          "base_uri": "https://localhost:8080/",
          "height": 390
        }
      },
      "source": [
        "path = 'https://github.com/lustraka/Data_Analysis_Workouts/blob/main/Communicate_Data_Findings/SandBox/anscombes-quartet.xlsx?raw=true'\n",
        "df = pd.read_excel(path, engine='openpyxl').dropna()\n",
        "df"
      ],
      "execution_count": 9,
      "outputs": [
        {
          "output_type": "execute_result",
          "data": {
            "text/html": [
              "<div>\n",
              "<style scoped>\n",
              "    .dataframe tbody tr th:only-of-type {\n",
              "        vertical-align: middle;\n",
              "    }\n",
              "\n",
              "    .dataframe tbody tr th {\n",
              "        vertical-align: top;\n",
              "    }\n",
              "\n",
              "    .dataframe thead th {\n",
              "        text-align: right;\n",
              "    }\n",
              "</style>\n",
              "<table border=\"1\" class=\"dataframe\">\n",
              "  <thead>\n",
              "    <tr style=\"text-align: right;\">\n",
              "      <th></th>\n",
              "      <th>X</th>\n",
              "      <th>Y</th>\n",
              "      <th>X.1</th>\n",
              "      <th>Y.1</th>\n",
              "      <th>X.2</th>\n",
              "      <th>Y.2</th>\n",
              "      <th>X.3</th>\n",
              "      <th>Y.3</th>\n",
              "    </tr>\n",
              "  </thead>\n",
              "  <tbody>\n",
              "    <tr>\n",
              "      <th>0</th>\n",
              "      <td>10.0</td>\n",
              "      <td>8.04</td>\n",
              "      <td>10.0</td>\n",
              "      <td>9.14</td>\n",
              "      <td>10.0</td>\n",
              "      <td>7.46</td>\n",
              "      <td>8.0</td>\n",
              "      <td>6.58</td>\n",
              "    </tr>\n",
              "    <tr>\n",
              "      <th>1</th>\n",
              "      <td>8.0</td>\n",
              "      <td>6.95</td>\n",
              "      <td>8.0</td>\n",
              "      <td>8.14</td>\n",
              "      <td>8.0</td>\n",
              "      <td>6.77</td>\n",
              "      <td>8.0</td>\n",
              "      <td>5.76</td>\n",
              "    </tr>\n",
              "    <tr>\n",
              "      <th>2</th>\n",
              "      <td>13.0</td>\n",
              "      <td>7.58</td>\n",
              "      <td>13.0</td>\n",
              "      <td>8.74</td>\n",
              "      <td>13.0</td>\n",
              "      <td>12.74</td>\n",
              "      <td>8.0</td>\n",
              "      <td>7.71</td>\n",
              "    </tr>\n",
              "    <tr>\n",
              "      <th>3</th>\n",
              "      <td>9.0</td>\n",
              "      <td>8.81</td>\n",
              "      <td>9.0</td>\n",
              "      <td>8.77</td>\n",
              "      <td>9.0</td>\n",
              "      <td>7.11</td>\n",
              "      <td>8.0</td>\n",
              "      <td>8.84</td>\n",
              "    </tr>\n",
              "    <tr>\n",
              "      <th>4</th>\n",
              "      <td>11.0</td>\n",
              "      <td>8.33</td>\n",
              "      <td>11.0</td>\n",
              "      <td>9.26</td>\n",
              "      <td>11.0</td>\n",
              "      <td>7.81</td>\n",
              "      <td>8.0</td>\n",
              "      <td>8.47</td>\n",
              "    </tr>\n",
              "    <tr>\n",
              "      <th>5</th>\n",
              "      <td>14.0</td>\n",
              "      <td>9.96</td>\n",
              "      <td>14.0</td>\n",
              "      <td>8.1</td>\n",
              "      <td>14.0</td>\n",
              "      <td>8.84</td>\n",
              "      <td>8.0</td>\n",
              "      <td>7.04</td>\n",
              "    </tr>\n",
              "    <tr>\n",
              "      <th>6</th>\n",
              "      <td>6.0</td>\n",
              "      <td>7.24</td>\n",
              "      <td>6.0</td>\n",
              "      <td>6.13</td>\n",
              "      <td>6.0</td>\n",
              "      <td>6.08</td>\n",
              "      <td>8.0</td>\n",
              "      <td>5.25</td>\n",
              "    </tr>\n",
              "    <tr>\n",
              "      <th>7</th>\n",
              "      <td>4.0</td>\n",
              "      <td>4.26</td>\n",
              "      <td>4.0</td>\n",
              "      <td>3.1</td>\n",
              "      <td>4.0</td>\n",
              "      <td>5.39</td>\n",
              "      <td>19.0</td>\n",
              "      <td>12.50</td>\n",
              "    </tr>\n",
              "    <tr>\n",
              "      <th>8</th>\n",
              "      <td>12.0</td>\n",
              "      <td>10.84</td>\n",
              "      <td>12.0</td>\n",
              "      <td>9.13</td>\n",
              "      <td>12.0</td>\n",
              "      <td>8.15</td>\n",
              "      <td>8.0</td>\n",
              "      <td>5.56</td>\n",
              "    </tr>\n",
              "    <tr>\n",
              "      <th>9</th>\n",
              "      <td>7.0</td>\n",
              "      <td>4.82</td>\n",
              "      <td>7.0</td>\n",
              "      <td>7.26</td>\n",
              "      <td>7.0</td>\n",
              "      <td>6.42</td>\n",
              "      <td>8.0</td>\n",
              "      <td>7.91</td>\n",
              "    </tr>\n",
              "    <tr>\n",
              "      <th>10</th>\n",
              "      <td>5.0</td>\n",
              "      <td>5.68</td>\n",
              "      <td>5.0</td>\n",
              "      <td>4.74</td>\n",
              "      <td>5.0</td>\n",
              "      <td>5.73</td>\n",
              "      <td>8.0</td>\n",
              "      <td>6.89</td>\n",
              "    </tr>\n",
              "  </tbody>\n",
              "</table>\n",
              "</div>"
            ],
            "text/plain": [
              "       X      Y   X.1   Y.1   X.2    Y.2   X.3    Y.3\n",
              "0   10.0   8.04  10.0  9.14  10.0   7.46   8.0   6.58\n",
              "1    8.0   6.95   8.0  8.14   8.0   6.77   8.0   5.76\n",
              "2   13.0   7.58  13.0  8.74  13.0  12.74   8.0   7.71\n",
              "3    9.0   8.81   9.0  8.77   9.0   7.11   8.0   8.84\n",
              "4   11.0   8.33  11.0  9.26  11.0   7.81   8.0   8.47\n",
              "5   14.0   9.96  14.0   8.1  14.0   8.84   8.0   7.04\n",
              "6    6.0   7.24   6.0  6.13   6.0   6.08   8.0   5.25\n",
              "7    4.0   4.26   4.0   3.1   4.0   5.39  19.0  12.50\n",
              "8   12.0  10.84  12.0  9.13  12.0   8.15   8.0   5.56\n",
              "9    7.0   4.82   7.0  7.26   7.0   6.42   8.0   7.91\n",
              "10   5.0   5.68   5.0  4.74   5.0   5.73   8.0   6.89"
            ]
          },
          "metadata": {},
          "execution_count": 9
        }
      ]
    },
    {
      "cell_type": "code",
      "metadata": {
        "id": "Kr24z5jiocoY",
        "outputId": "bbc70bce-0ced-4ae0-b78c-833c5d141e68",
        "colab": {
          "base_uri": "https://localhost:8080/",
          "height": 297
        }
      },
      "source": [
        "df.describe().round(2)"
      ],
      "execution_count": 10,
      "outputs": [
        {
          "output_type": "execute_result",
          "data": {
            "text/html": [
              "<div>\n",
              "<style scoped>\n",
              "    .dataframe tbody tr th:only-of-type {\n",
              "        vertical-align: middle;\n",
              "    }\n",
              "\n",
              "    .dataframe tbody tr th {\n",
              "        vertical-align: top;\n",
              "    }\n",
              "\n",
              "    .dataframe thead th {\n",
              "        text-align: right;\n",
              "    }\n",
              "</style>\n",
              "<table border=\"1\" class=\"dataframe\">\n",
              "  <thead>\n",
              "    <tr style=\"text-align: right;\">\n",
              "      <th></th>\n",
              "      <th>X</th>\n",
              "      <th>Y</th>\n",
              "      <th>X.1</th>\n",
              "      <th>X.2</th>\n",
              "      <th>Y.2</th>\n",
              "      <th>X.3</th>\n",
              "      <th>Y.3</th>\n",
              "    </tr>\n",
              "  </thead>\n",
              "  <tbody>\n",
              "    <tr>\n",
              "      <th>count</th>\n",
              "      <td>11.00</td>\n",
              "      <td>11.00</td>\n",
              "      <td>11.00</td>\n",
              "      <td>11.00</td>\n",
              "      <td>11.00</td>\n",
              "      <td>11.00</td>\n",
              "      <td>11.00</td>\n",
              "    </tr>\n",
              "    <tr>\n",
              "      <th>mean</th>\n",
              "      <td>9.00</td>\n",
              "      <td>7.50</td>\n",
              "      <td>9.00</td>\n",
              "      <td>9.00</td>\n",
              "      <td>7.50</td>\n",
              "      <td>9.00</td>\n",
              "      <td>7.50</td>\n",
              "    </tr>\n",
              "    <tr>\n",
              "      <th>std</th>\n",
              "      <td>3.32</td>\n",
              "      <td>2.03</td>\n",
              "      <td>3.32</td>\n",
              "      <td>3.32</td>\n",
              "      <td>2.03</td>\n",
              "      <td>3.32</td>\n",
              "      <td>2.03</td>\n",
              "    </tr>\n",
              "    <tr>\n",
              "      <th>min</th>\n",
              "      <td>4.00</td>\n",
              "      <td>4.26</td>\n",
              "      <td>4.00</td>\n",
              "      <td>4.00</td>\n",
              "      <td>5.39</td>\n",
              "      <td>8.00</td>\n",
              "      <td>5.25</td>\n",
              "    </tr>\n",
              "    <tr>\n",
              "      <th>25%</th>\n",
              "      <td>6.50</td>\n",
              "      <td>6.32</td>\n",
              "      <td>6.50</td>\n",
              "      <td>6.50</td>\n",
              "      <td>6.25</td>\n",
              "      <td>8.00</td>\n",
              "      <td>6.17</td>\n",
              "    </tr>\n",
              "    <tr>\n",
              "      <th>50%</th>\n",
              "      <td>9.00</td>\n",
              "      <td>7.58</td>\n",
              "      <td>9.00</td>\n",
              "      <td>9.00</td>\n",
              "      <td>7.11</td>\n",
              "      <td>8.00</td>\n",
              "      <td>7.04</td>\n",
              "    </tr>\n",
              "    <tr>\n",
              "      <th>75%</th>\n",
              "      <td>11.50</td>\n",
              "      <td>8.57</td>\n",
              "      <td>11.50</td>\n",
              "      <td>11.50</td>\n",
              "      <td>7.98</td>\n",
              "      <td>8.00</td>\n",
              "      <td>8.19</td>\n",
              "    </tr>\n",
              "    <tr>\n",
              "      <th>max</th>\n",
              "      <td>14.00</td>\n",
              "      <td>10.84</td>\n",
              "      <td>14.00</td>\n",
              "      <td>14.00</td>\n",
              "      <td>12.74</td>\n",
              "      <td>19.00</td>\n",
              "      <td>12.50</td>\n",
              "    </tr>\n",
              "  </tbody>\n",
              "</table>\n",
              "</div>"
            ],
            "text/plain": [
              "           X      Y    X.1    X.2    Y.2    X.3    Y.3\n",
              "count  11.00  11.00  11.00  11.00  11.00  11.00  11.00\n",
              "mean    9.00   7.50   9.00   9.00   7.50   9.00   7.50\n",
              "std     3.32   2.03   3.32   3.32   2.03   3.32   2.03\n",
              "min     4.00   4.26   4.00   4.00   5.39   8.00   5.25\n",
              "25%     6.50   6.32   6.50   6.50   6.25   8.00   6.17\n",
              "50%     9.00   7.58   9.00   9.00   7.11   8.00   7.04\n",
              "75%    11.50   8.57  11.50  11.50   7.98   8.00   8.19\n",
              "max    14.00  10.84  14.00  14.00  12.74  19.00  12.50"
            ]
          },
          "metadata": {},
          "execution_count": 10
        }
      ]
    },
    {
      "cell_type": "code",
      "metadata": {
        "id": "n-0j5PjBouev",
        "outputId": "6b2bbb52-44cd-45ad-c6cb-c48cb473bd3e",
        "colab": {
          "base_uri": "https://localhost:8080/",
          "height": 279
        }
      },
      "source": [
        "df.plot(kind='scatter', x='X', y='Y');"
      ],
      "execution_count": 17,
      "outputs": [
        {
          "output_type": "display_data",
          "data": {
            "image/png": "[encoded data removed]",
            "text/plain": [
              "<Figure size 432x288 with 1 Axes>"
            ]
          },
          "metadata": {
            "needs_background": "light"
          }
        }
      ]
    },
    {
      "cell_type": "code",
      "metadata": {
        "id": "sxJk6xT5rIND",
        "outputId": "de3c81d6-4ac2-499d-880e-5fd5f8087690",
        "colab": {
          "base_uri": "https://localhost:8080/",
          "height": 279
        }
      },
      "source": [
        "df.plot(kind='scatter', x='X.1', y='Y.1');"
      ],
      "execution_count": 18,
      "outputs": [
        {
          "output_type": "display_data",
          "data": {
            "image/png": "[encoded data removed]",
            "text/plain": [
              "<Figure size 432x288 with 1 Axes>"
            ]
          },
          "metadata": {
            "needs_background": "light"
          }
        }
      ]
    },
    {
      "cell_type": "code",
      "metadata": {
        "id": "yr7ENM27rk7O",
        "outputId": "ee259dc9-e414-499e-e5d5-7f2efab63e94",
        "colab": {
          "base_uri": "https://localhost:8080/",
          "height": 280
        }
      },
      "source": [
        "df.plot(kind='scatter', x='X.2', y='Y.2');"
      ],
      "execution_count": 19,
      "outputs": [
        {
          "output_type": "display_data",
          "data": {
            "image/png": "[encoded data removed]",
            "text/plain": [
              "<Figure size 432x288 with 1 Axes>"
            ]
          },
          "metadata": {
            "needs_background": "light"
          }
        }
      ]
    },
    {
      "cell_type": "code",
      "metadata": {
        "id": "UAM0zXj2rpQd",
        "outputId": "ace399db-2f33-49e5-bf4d-468aca636cc4",
        "colab": {
          "base_uri": "https://localhost:8080/",
          "height": 279
        }
      },
      "source": [
        "df.plot(kind='scatter', x='X.3', y='Y.3');"
      ],
      "execution_count": 20,
      "outputs": [
        {
          "output_type": "display_data",
          "data": {
            "image/png": "[encoded data removed]",
            "text/plain": [
              "<Figure size 432x288 with 1 Axes>"
            ]
          },
          "metadata": {
            "needs_background": "light"
          }
        }
      ]
    },
    {
      "cell_type": "code",
      "metadata": {
        "id": "LRHTnpW7rsjF"
      },
      "source": [
        ""
      ],
      "execution_count": null,
      "outputs": []
    }
  ]
}