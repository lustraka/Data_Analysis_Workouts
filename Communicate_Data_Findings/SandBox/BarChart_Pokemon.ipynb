{
  "nbformat": 4,
  "nbformat_minor": 0,
  "metadata": {
    "kernelspec": {
      "name": "python3",
      "display_name": "Python 3"
    },
    "language_info": {
      "name": "python"
    },
    "colab": {
      "name": "BarChart_Pokemon.ipynb",
      "provenance": [],
      "include_colab_link": true
    }
  },
  "cells": [
    {
      "cell_type": "markdown",
      "metadata": {
        "id": "view-in-github",
        "colab_type": "text"
      },
      "source": [
        "<a href=\"https://colab.research.google.com/github/lustraka/Data_Analysis_Workouts/blob/main/Communicate_Data_Findings/SandBox/BarChart_Pokemon.ipynb\" target=\"_parent\"><img src=\"https://colab.research.google.com/assets/colab-badge.svg\" alt=\"Open In Colab\"/></a>"
      ]
    },
    {
      "cell_type": "markdown",
      "metadata": {
        "id": "uxUyKrJhVmIu"
      },
      "source": [
        "# Bar Charts Pattern Language\n",
        "## Data Set: Pokemon"
      ]
    },
    {
      "cell_type": "code",
      "metadata": {
        "id": "gNhVcEhCU879",
        "outputId": "0079f809-544e-4788-f815-0ebf29007200",
        "colab": {
          "base_uri": "https://localhost:8080/",
          "height": 221
        }
      },
      "source": [
        "# Import dependencies\n",
        "import numpy as np\n",
        "import pandas as pd\n",
        "import matplotlib.pyplot as plt\n",
        "import seaborn as sb\n",
        "%matplotlib inline\n",
        "\n",
        "# Read the csv file, and check its shape and head\n",
        "path = 'https://github.com/lustraka/Data_Analysis_Workouts/raw/main/Communicate_Data_Findings/SandBox/'\n",
        "pokemon = pd.read_csv(path + 'pokemon.csv')\n",
        "print(pokemon.shape)\n",
        "pokemon.head()"
      ],
      "execution_count": 2,
      "outputs": [
        {
          "output_type": "stream",
          "name": "stdout",
          "text": [
            "(807, 14)\n"
          ]
        },
        {
          "output_type": "execute_result",
          "data": {
            "text/html": [
              "<div>\n",
              "<style scoped>\n",
              "    .dataframe tbody tr th:only-of-type {\n",
              "        vertical-align: middle;\n",
              "    }\n",
              "\n",
              "    .dataframe tbody tr th {\n",
              "        vertical-align: top;\n",
              "    }\n",
              "\n",
              "    .dataframe thead th {\n",
              "        text-align: right;\n",
              "    }\n",
              "</style>\n",
              "<table border=\"1\" class=\"dataframe\">\n",
              "  <thead>\n",
              "    <tr style=\"text-align: right;\">\n",
              "      <th></th>\n",
              "      <th>id</th>\n",
              "      <th>species</th>\n",
              "      <th>generation_id</th>\n",
              "      <th>height</th>\n",
              "      <th>weight</th>\n",
              "      <th>base_experience</th>\n",
              "      <th>type_1</th>\n",
              "      <th>type_2</th>\n",
              "      <th>hp</th>\n",
              "      <th>attack</th>\n",
              "      <th>defense</th>\n",
              "      <th>speed</th>\n",
              "      <th>special-attack</th>\n",
              "      <th>special-defense</th>\n",
              "    </tr>\n",
              "  </thead>\n",
              "  <tbody>\n",
              "    <tr>\n",
              "      <th>0</th>\n",
              "      <td>1</td>\n",
              "      <td>bulbasaur</td>\n",
              "      <td>1</td>\n",
              "      <td>0.7</td>\n",
              "      <td>6.9</td>\n",
              "      <td>64</td>\n",
              "      <td>grass</td>\n",
              "      <td>poison</td>\n",
              "      <td>45</td>\n",
              "      <td>49</td>\n",
              "      <td>49</td>\n",
              "      <td>45</td>\n",
              "      <td>65</td>\n",
              "      <td>65</td>\n",
              "    </tr>\n",
              "    <tr>\n",
              "      <th>1</th>\n",
              "      <td>2</td>\n",
              "      <td>ivysaur</td>\n",
              "      <td>1</td>\n",
              "      <td>1.0</td>\n",
              "      <td>13.0</td>\n",
              "      <td>142</td>\n",
              "      <td>grass</td>\n",
              "      <td>poison</td>\n",
              "      <td>60</td>\n",
              "      <td>62</td>\n",
              "      <td>63</td>\n",
              "      <td>60</td>\n",
              "      <td>80</td>\n",
              "      <td>80</td>\n",
              "    </tr>\n",
              "    <tr>\n",
              "      <th>2</th>\n",
              "      <td>3</td>\n",
              "      <td>venusaur</td>\n",
              "      <td>1</td>\n",
              "      <td>2.0</td>\n",
              "      <td>100.0</td>\n",
              "      <td>236</td>\n",
              "      <td>grass</td>\n",
              "      <td>poison</td>\n",
              "      <td>80</td>\n",
              "      <td>82</td>\n",
              "      <td>83</td>\n",
              "      <td>80</td>\n",
              "      <td>100</td>\n",
              "      <td>100</td>\n",
              "    </tr>\n",
              "    <tr>\n",
              "      <th>3</th>\n",
              "      <td>4</td>\n",
              "      <td>charmander</td>\n",
              "      <td>1</td>\n",
              "      <td>0.6</td>\n",
              "      <td>8.5</td>\n",
              "      <td>62</td>\n",
              "      <td>fire</td>\n",
              "      <td>NaN</td>\n",
              "      <td>39</td>\n",
              "      <td>52</td>\n",
              "      <td>43</td>\n",
              "      <td>65</td>\n",
              "      <td>60</td>\n",
              "      <td>50</td>\n",
              "    </tr>\n",
              "    <tr>\n",
              "      <th>4</th>\n",
              "      <td>5</td>\n",
              "      <td>charmeleon</td>\n",
              "      <td>1</td>\n",
              "      <td>1.1</td>\n",
              "      <td>19.0</td>\n",
              "      <td>142</td>\n",
              "      <td>fire</td>\n",
              "      <td>NaN</td>\n",
              "      <td>58</td>\n",
              "      <td>64</td>\n",
              "      <td>58</td>\n",
              "      <td>80</td>\n",
              "      <td>80</td>\n",
              "      <td>65</td>\n",
              "    </tr>\n",
              "  </tbody>\n",
              "</table>\n",
              "</div>"
            ],
            "text/plain": [
              "   id     species  generation_id  ...  speed  special-attack  special-defense\n",
              "0   1   bulbasaur              1  ...     45              65               65\n",
              "1   2     ivysaur              1  ...     60              80               80\n",
              "2   3    venusaur              1  ...     80             100              100\n",
              "3   4  charmander              1  ...     65              60               50\n",
              "4   5  charmeleon              1  ...     80              80               65\n",
              "\n",
              "[5 rows x 14 columns]"
            ]
          },
          "metadata": {},
          "execution_count": 2
        }
      ]
    },
    {
      "cell_type": "markdown",
      "metadata": {
        "id": "fSKiXB6tViru"
      },
      "source": [
        "## Bar Chart using Seaborn\n",
        "A basic bar chart of frequencies can be created through the use of seaborn's `countplot` function.\n",
        "\n",
        "```\n",
        "seaborn.countplot(*, x=None, y=None, data=None, order=None, orient=None, color=None)\n",
        "```\n",
        "\n",
        "### Create a vertical bar chart with default colors\n"
      ]
    },
    {
      "cell_type": "code",
      "metadata": {
        "id": "4ca9uJ2oVOFv",
        "outputId": "9798bd78-dd91-44d4-d87d-72282d7057e1",
        "colab": {
          "base_uri": "https://localhost:8080/",
          "height": 280
        }
      },
      "source": [
        "sb.countplot(data=pokemon, x='generation_id');"
      ],
      "execution_count": 3,
      "outputs": [
        {
          "output_type": "display_data",
          "data": {
            "image/png": "[encoded data removed]",
            "text/plain": [
              "<Figure size 432x288 with 1 Axes>"
            ]
          },
          "metadata": {
            "needs_background": "light"
          }
        }
      ]
    },
    {
      "cell_type": "markdown",
      "metadata": {
        "id": "7Vy61lcUWWZf"
      },
      "source": [
        "### Create a vertical bar chart with a uniform single color\n",
        "\n",
        "The `color_palette()` returns the the current / default palette as a list of RGB tuples. Each tuple consists of three digits specifying the red, green, and blue channel values to specify a color. "
      ]
    },
    {
      "cell_type": "code",
      "metadata": {
        "id": "eFB1DU9LWT0v",
        "outputId": "0407f3a1-0b99-4685-eb80-2e91c27b6562",
        "colab": {
          "base_uri": "https://localhost:8080/",
          "height": 280
        }
      },
      "source": [
        "# Choose the first tuple of RGB colors\n",
        "base_color = sb.color_palette()[0]\n",
        "\n",
        "# Use the `color` argument\n",
        "sb.countplot(data=pokemon, x='generation_id', color=base_color);"
      ],
      "execution_count": 4,
      "outputs": [
        {
          "output_type": "display_data",
          "data": {
            "image/png": "[encoded data removed]",
            "text/plain": [
              "<Figure size 432x288 with 1 Axes>"
            ]
          },
          "metadata": {
            "needs_background": "light"
          }
        }
      ]
    },
    {
      "cell_type": "markdown",
      "metadata": {
        "id": "P_ZK_D9MXDQl"
      },
      "source": [
        "### Create a vertical bar chart with ordered bars"
      ]
    },
    {
      "cell_type": "code",
      "metadata": {
        "id": "oQA6Gz36WsH9",
        "outputId": "09623bc4-aa2d-4f72-dd3c-c2a05144ff6e",
        "colab": {
          "base_uri": "https://localhost:8080/",
          "height": 280
        }
      },
      "source": [
        "# Static-ordering the bars\n",
        "sb.countplot(data=pokemon, x='generation_id', color=base_color, order=[5,1,3,4,2,7,6]);"
      ],
      "execution_count": 5,
      "outputs": [
        {
          "output_type": "display_data",
          "data": {
            "image/png": "[encoded data removed]",
            "text/plain": [
              "<Figure size 432x288 with 1 Axes>"
            ]
          },
          "metadata": {
            "needs_background": "light"
          }
        }
      ]
    },
    {
      "cell_type": "code",
      "metadata": {
        "id": "HxO21xrfXXQ-",
        "outputId": "c89beafa-6f7a-4246-890c-76ffb28da92c",
        "colab": {
          "base_uri": "https://localhost:8080/",
          "height": 280
        }
      },
      "source": [
        "# Dynamic-ordering the bars\n",
        "# The order of the display of the bars can be computed with the following logic.\n",
        "# Count the frequency of each unique value in the 'generation_id' column, and sort it in descending order\n",
        "# Returns a Series\n",
        "freq = pokemon['generation_id'].value_counts()\n",
        "\n",
        "# Get the indexes of the Series\n",
        "gen_order = freq.index\n",
        "\n",
        "# Plot the bar chart in the decreasing order of the frequency of the `generation_id`\n",
        "sb.countplot(data=pokemon, x='generation_id', color=base_color, order=gen_order);"
      ],
      "execution_count": 6,
      "outputs": [
        {
          "output_type": "display_data",
          "data": {
            "image/png": "[encoded data removed]",
            "text/plain": [
              "<Figure size 432x288 with 1 Axes>"
            ]
          },
          "metadata": {
            "needs_background": "light"
          }
        }
      ]
    },
    {
      "cell_type": "markdown",
      "metadata": {
        "id": "ntdy2wzdXmRP"
      },
      "source": [
        "### Rotate the category labels (not axes)"
      ]
    },
    {
      "cell_type": "code",
      "metadata": {
        "id": "wB5gTC6LXl3u",
        "outputId": "9b364dd5-3baa-4fee-fcc0-1a9d37760727",
        "colab": {
          "base_uri": "https://localhost:8080/",
          "height": 309
        }
      },
      "source": [
        "# Plot the Pokemon type on a Vertical bar chart\n",
        "sb.countplot(data=pokemon, x='type_1', color=base_color);\n",
        "\n",
        "# Use xticks to rotate the category labels (not axes) counter-clockwise\n",
        "plt.xticks(rotation=90);"
      ],
      "execution_count": 8,
      "outputs": [
        {
          "output_type": "display_data",
          "data": {
            "image/png": "[encoded data removed]",
            "text/plain": [
              "<Figure size 432x288 with 1 Axes>"
            ]
          },
          "metadata": {
            "needs_background": "light"
          }
        }
      ]
    },
    {
      "cell_type": "markdown",
      "metadata": {
        "id": "tc7z6c7nX1lh"
      },
      "source": [
        "### Rotate the axes clocwise = Create a horizontal bar chart"
      ]
    },
    {
      "cell_type": "code",
      "metadata": {
        "id": "-Zemq95jX1B_",
        "outputId": "b0f375e4-13a7-400f-9192-59581edaf45b",
        "colab": {
          "base_uri": "https://localhost:8080/",
          "height": 279
        }
      },
      "source": [
        "# Plot the Pokemon type on a horizontal bar chart\n",
        "type_order = pokemon['type_1'].value_counts().index\n",
        "sb.countplot(data=pokemon, y='type_1', color=base_color, order=type_order);"
      ],
      "execution_count": 9,
      "outputs": [
        {
          "output_type": "display_data",
          "data": {
            "image/png": "[encoded data removed]",
            "text/plain": [
              "<Figure size 432x288 with 1 Axes>"
            ]
          },
          "metadata": {
            "needs_background": "light"
          }
        }
      ]
    },
    {
      "cell_type": "markdown",
      "metadata": {
        "id": "222EPYzuYo75"
      },
      "source": [
        "### Unpivot *type* variable = Reshape the pokemon dataframe\n",
        "We will use the `pandas.DataFrame.melt()` method to unpivot a DataFrame from wide to long format, optionally leaving identifiers set. The syntax is:\n",
        "```\n",
        "DataFrame.melt(id_vars, value_vars, var_name, value_name, col_level, ignore_index)\n",
        "```"
      ]
    },
    {
      "cell_type": "code",
      "metadata": {
        "id": "A2OxDq55Xfq2",
        "outputId": "cdcbcdbb-6a3f-4ae1-fef5-eb07a53738af",
        "colab": {
          "base_uri": "https://localhost:8080/",
          "height": 221
        }
      },
      "source": [
        "pkmn_types = pokemon.melt(id_vars=['id', 'species'], \n",
        "                          value_vars=['type_1', 'type_2'], \n",
        "                          var_name='type_level', \n",
        "                          value_name='type')\n",
        "print(pkmn_types.shape)\n",
        "pkmn_types.head()"
      ],
      "execution_count": 10,
      "outputs": [
        {
          "output_type": "stream",
          "name": "stdout",
          "text": [
            "(1614, 4)\n"
          ]
        },
        {
          "output_type": "execute_result",
          "data": {
            "text/html": [
              "<div>\n",
              "<style scoped>\n",
              "    .dataframe tbody tr th:only-of-type {\n",
              "        vertical-align: middle;\n",
              "    }\n",
              "\n",
              "    .dataframe tbody tr th {\n",
              "        vertical-align: top;\n",
              "    }\n",
              "\n",
              "    .dataframe thead th {\n",
              "        text-align: right;\n",
              "    }\n",
              "</style>\n",
              "<table border=\"1\" class=\"dataframe\">\n",
              "  <thead>\n",
              "    <tr style=\"text-align: right;\">\n",
              "      <th></th>\n",
              "      <th>id</th>\n",
              "      <th>species</th>\n",
              "      <th>type_level</th>\n",
              "      <th>type</th>\n",
              "    </tr>\n",
              "  </thead>\n",
              "  <tbody>\n",
              "    <tr>\n",
              "      <th>0</th>\n",
              "      <td>1</td>\n",
              "      <td>bulbasaur</td>\n",
              "      <td>type_1</td>\n",
              "      <td>grass</td>\n",
              "    </tr>\n",
              "    <tr>\n",
              "      <th>1</th>\n",
              "      <td>2</td>\n",
              "      <td>ivysaur</td>\n",
              "      <td>type_1</td>\n",
              "      <td>grass</td>\n",
              "    </tr>\n",
              "    <tr>\n",
              "      <th>2</th>\n",
              "      <td>3</td>\n",
              "      <td>venusaur</td>\n",
              "      <td>type_1</td>\n",
              "      <td>grass</td>\n",
              "    </tr>\n",
              "    <tr>\n",
              "      <th>3</th>\n",
              "      <td>4</td>\n",
              "      <td>charmander</td>\n",
              "      <td>type_1</td>\n",
              "      <td>fire</td>\n",
              "    </tr>\n",
              "    <tr>\n",
              "      <th>4</th>\n",
              "      <td>5</td>\n",
              "      <td>charmeleon</td>\n",
              "      <td>type_1</td>\n",
              "      <td>fire</td>\n",
              "    </tr>\n",
              "  </tbody>\n",
              "</table>\n",
              "</div>"
            ],
            "text/plain": [
              "   id     species type_level   type\n",
              "0   1   bulbasaur     type_1  grass\n",
              "1   2     ivysaur     type_1  grass\n",
              "2   3    venusaur     type_1  grass\n",
              "3   4  charmander     type_1   fire\n",
              "4   5  charmeleon     type_1   fire"
            ]
          },
          "metadata": {},
          "execution_count": 10
        }
      ]
    },
    {
      "cell_type": "markdown",
      "metadata": {
        "id": "58A65srwZs3D"
      },
      "source": [
        "### Plot the horizontal bar chart"
      ]
    },
    {
      "cell_type": "code",
      "metadata": {
        "id": "FZW8gJz9Zay5",
        "outputId": "34174f68-b97f-477d-ba3d-1e498d8f5c7c",
        "colab": {
          "base_uri": "https://localhost:8080/",
          "height": 279
        }
      },
      "source": [
        "# Count the frequency of unique values in the `type` column of pkmn_types dataframe. \n",
        "# By default, returns the decreasing order of the frequency.\n",
        "type_counts = pkmn_types['type'].value_counts()\n",
        "\n",
        "# Get the unique values of the `type` column, in the decreasing order of the frequency.\n",
        "type_order = type_counts.index\n",
        "\n",
        "# Plot the horizontal bar chart\n",
        "base_color = sb.color_palette()[0]\n",
        "sb.countplot(data=pkmn_types, y='type', color=base_color, order=type_order);"
      ],
      "execution_count": 11,
      "outputs": [
        {
          "output_type": "display_data",
          "data": {
            "image/png": "[encoded data removed]",
            "text/plain": [
              "<Figure size 432x288 with 1 Axes>"
            ]
          },
          "metadata": {
            "needs_background": "light"
          }
        }
      ]
    },
    {
      "cell_type": "markdown",
      "metadata": {
        "id": "PfXpzadeaVbE"
      },
      "source": [
        "### Plot a bar chart with relative frequency (the proportions)"
      ]
    },
    {
      "cell_type": "code",
      "metadata": {
        "id": "nHSldKMvZG85",
        "outputId": "06b30807-5d8a-4388-b10a-406cbca83c96",
        "colab": {
          "base_uri": "https://localhost:8080/"
        }
      },
      "source": [
        "# Return the sum of all not-null values in `type` column\n",
        "n_pokemon = pkmn_types['type'].value_counts().sum()\n",
        "\n",
        "# Return the highest frequency in the `type` column\n",
        "max_type_count = type_counts[0]\n",
        "\n",
        "# Return the maximum proportion, or in other words, \n",
        "# compute the length of the longest bar in terms of the proportion\n",
        "max_prop = max_type_count / n_pokemon\n",
        "\n",
        "# Use numpy.arange() function to produce a set of evenly spaced proportioned  \n",
        "# values between 0 and max_prop, with a step size 2\\%\n",
        "tick_props = np.arange(0, max_prop, 0.02)\n",
        "\n",
        "# Use a list comprehension to create tick_names that we will apply to the tick labels. \n",
        "# Pick each element `v` from the `tick_props`, and convert it into a formatted string.\n",
        "# `{:0.2f}` denotes that before formatting, we 2 digits of precision and `f` is used to represent floating point number.\n",
        "# Refer [here](https://docs.python.org/2/library/string.html#format-string-syntax) for more details\n",
        "tick_names = ['{:0.2f}'.format(v) for v in tick_props]\n",
        "\n",
        "# Print parameters\n",
        "print('max_prop = ', max_prop)\n",
        "print('tick_props = ', tick_props)\n",
        "print('tick_names = ', tick_names)"
      ],
      "execution_count": 15,
      "outputs": [
        {
          "output_type": "stream",
          "name": "stdout",
          "text": [
            "max_prop =  0.10808580858085809\n",
            "tick_props =  [0.   0.02 0.04 0.06 0.08 0.1 ]\n",
            "tick_names =  ['0.00', '0.02', '0.04', '0.06', '0.08', '0.10']\n"
          ]
        }
      ]
    },
    {
      "cell_type": "markdown",
      "metadata": {
        "id": "ABz0LqFIb6zM"
      },
      "source": [
        "The `xticks` and `yticks` functions aren't only about rotating the tick labels. You can also get and set their locations and labels as well. The first argument takes the tick locations: in this case, the tick proportions multiplied back to be on the scale of counts. The second argument takes the tick names: in this case, the tick proportions formatted as strings to two decimal places."
      ]
    },
    {
      "cell_type": "code",
      "metadata": {
        "id": "WVDjzFp5a_OE",
        "outputId": "eb693032-b76f-412d-d6cd-575e2528d675",
        "colab": {
          "base_uri": "https://localhost:8080/",
          "height": 279
        }
      },
      "source": [
        "sb.countplot(data=pkmn_types, y='type', color=base_color, order=type_order);\n",
        "# Change the tick locations and labels\n",
        "plt.xticks(tick_props * n_pokemon, tick_names)\n",
        "plt.xlabel('proportion');"
      ],
      "execution_count": 16,
      "outputs": [
        {
          "output_type": "display_data",
          "data": {
            "image/png": "[encoded data removed]",
            "text/plain": [
              "<Figure size 432x288 with 1 Axes>"
            ]
          },
          "metadata": {
            "needs_background": "light"
          }
        }
      ]
    },
    {
      "cell_type": "code",
      "metadata": {
        "id": "avY6VzYsbHgT"
      },
      "source": [
        ""
      ],
      "execution_count": null,
      "outputs": []
    }
  ]
}