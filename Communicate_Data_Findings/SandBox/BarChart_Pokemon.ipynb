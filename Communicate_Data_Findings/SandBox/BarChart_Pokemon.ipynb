{
  "nbformat": 4,
  "nbformat_minor": 0,
  "metadata": {
    "kernelspec": {
      "name": "python3",
      "display_name": "Python 3"
    },
    "language_info": {
      "name": "python"
    },
    "colab": {
      "name": "BarChart_Pokemon.ipynb",
      "provenance": [],
      "include_colab_link": true
    }
  },
  "cells": [
    {
      "cell_type": "markdown",
      "metadata": {
        "id": "view-in-github",
        "colab_type": "text"
      },
      "source": [
        "<a href=\"https://colab.research.google.com/github/lustraka/Data_Analysis_Workouts/blob/main/Communicate_Data_Findings/SandBox/BarChart_Pokemon.ipynb\" target=\"_parent\"><img src=\"https://colab.research.google.com/assets/colab-badge.svg\" alt=\"Open In Colab\"/></a>"
      ]
    },
    {
      "cell_type": "markdown",
      "metadata": {
        "id": "uxUyKrJhVmIu"
      },
      "source": [
        "# Bar Charts Pattern Language\n",
        "## Data Set: Pokemon"
      ]
    },
    {
      "cell_type": "code",
      "metadata": {
        "id": "gNhVcEhCU879",
        "colab": {
          "base_uri": "https://localhost:8080/",
          "height": 221
        },
        "outputId": "04c61b5d-9954-46f1-d301-2971fedbe668"
      },
      "source": [
        "# Import dependencies\n",
        "import numpy as np\n",
        "import pandas as pd\n",
        "import matplotlib.pyplot as plt\n",
        "import seaborn as sns\n",
        "%matplotlib inline\n",
        "\n",
        "# Read the csv file, and check its shape and head\n",
        "path = 'https://github.com/lustraka/Data_Analysis_Workouts/raw/main/Communicate_Data_Findings/SandBox/'\n",
        "pokemon = pd.read_csv(path + 'pokemon.csv')\n",
        "print(pokemon.shape)\n",
        "pokemon.head()"
      ],
      "execution_count": 1,
      "outputs": [
        {
          "output_type": "stream",
          "name": "stdout",
          "text": [
            "(807, 14)\n"
          ]
        },
        {
          "output_type": "execute_result",
          "data": {
            "text/html": [
              "<div>\n",
              "<style scoped>\n",
              "    .dataframe tbody tr th:only-of-type {\n",
              "        vertical-align: middle;\n",
              "    }\n",
              "\n",
              "    .dataframe tbody tr th {\n",
              "        vertical-align: top;\n",
              "    }\n",
              "\n",
              "    .dataframe thead th {\n",
              "        text-align: right;\n",
              "    }\n",
              "</style>\n",
              "<table border=\"1\" class=\"dataframe\">\n",
              "  <thead>\n",
              "    <tr style=\"text-align: right;\">\n",
              "      <th></th>\n",
              "      <th>id</th>\n",
              "      <th>species</th>\n",
              "      <th>generation_id</th>\n",
              "      <th>height</th>\n",
              "      <th>weight</th>\n",
              "      <th>base_experience</th>\n",
              "      <th>type_1</th>\n",
              "      <th>type_2</th>\n",
              "      <th>hp</th>\n",
              "      <th>attack</th>\n",
              "      <th>defense</th>\n",
              "      <th>speed</th>\n",
              "      <th>special-attack</th>\n",
              "      <th>special-defense</th>\n",
              "    </tr>\n",
              "  </thead>\n",
              "  <tbody>\n",
              "    <tr>\n",
              "      <th>0</th>\n",
              "      <td>1</td>\n",
              "      <td>bulbasaur</td>\n",
              "      <td>1</td>\n",
              "      <td>0.7</td>\n",
              "      <td>6.9</td>\n",
              "      <td>64</td>\n",
              "      <td>grass</td>\n",
              "      <td>poison</td>\n",
              "      <td>45</td>\n",
              "      <td>49</td>\n",
              "      <td>49</td>\n",
              "      <td>45</td>\n",
              "      <td>65</td>\n",
              "      <td>65</td>\n",
              "    </tr>\n",
              "    <tr>\n",
              "      <th>1</th>\n",
              "      <td>2</td>\n",
              "      <td>ivysaur</td>\n",
              "      <td>1</td>\n",
              "      <td>1.0</td>\n",
              "      <td>13.0</td>\n",
              "      <td>142</td>\n",
              "      <td>grass</td>\n",
              "      <td>poison</td>\n",
              "      <td>60</td>\n",
              "      <td>62</td>\n",
              "      <td>63</td>\n",
              "      <td>60</td>\n",
              "      <td>80</td>\n",
              "      <td>80</td>\n",
              "    </tr>\n",
              "    <tr>\n",
              "      <th>2</th>\n",
              "      <td>3</td>\n",
              "      <td>venusaur</td>\n",
              "      <td>1</td>\n",
              "      <td>2.0</td>\n",
              "      <td>100.0</td>\n",
              "      <td>236</td>\n",
              "      <td>grass</td>\n",
              "      <td>poison</td>\n",
              "      <td>80</td>\n",
              "      <td>82</td>\n",
              "      <td>83</td>\n",
              "      <td>80</td>\n",
              "      <td>100</td>\n",
              "      <td>100</td>\n",
              "    </tr>\n",
              "    <tr>\n",
              "      <th>3</th>\n",
              "      <td>4</td>\n",
              "      <td>charmander</td>\n",
              "      <td>1</td>\n",
              "      <td>0.6</td>\n",
              "      <td>8.5</td>\n",
              "      <td>62</td>\n",
              "      <td>fire</td>\n",
              "      <td>NaN</td>\n",
              "      <td>39</td>\n",
              "      <td>52</td>\n",
              "      <td>43</td>\n",
              "      <td>65</td>\n",
              "      <td>60</td>\n",
              "      <td>50</td>\n",
              "    </tr>\n",
              "    <tr>\n",
              "      <th>4</th>\n",
              "      <td>5</td>\n",
              "      <td>charmeleon</td>\n",
              "      <td>1</td>\n",
              "      <td>1.1</td>\n",
              "      <td>19.0</td>\n",
              "      <td>142</td>\n",
              "      <td>fire</td>\n",
              "      <td>NaN</td>\n",
              "      <td>58</td>\n",
              "      <td>64</td>\n",
              "      <td>58</td>\n",
              "      <td>80</td>\n",
              "      <td>80</td>\n",
              "      <td>65</td>\n",
              "    </tr>\n",
              "  </tbody>\n",
              "</table>\n",
              "</div>"
            ],
            "text/plain": [
              "   id     species  generation_id  ...  speed  special-attack  special-defense\n",
              "0   1   bulbasaur              1  ...     45              65               65\n",
              "1   2     ivysaur              1  ...     60              80               80\n",
              "2   3    venusaur              1  ...     80             100              100\n",
              "3   4  charmander              1  ...     65              60               50\n",
              "4   5  charmeleon              1  ...     80              80               65\n",
              "\n",
              "[5 rows x 14 columns]"
            ]
          },
          "metadata": {},
          "execution_count": 1
        }
      ]
    },
    {
      "cell_type": "markdown",
      "metadata": {
        "id": "fSKiXB6tViru"
      },
      "source": [
        "## Bar Chart using Seaborn\n",
        "A basic bar chart of frequencies can be created through the use of seaborn's `countplot` function.\n",
        "\n",
        "```\n",
        "seaborn.countplot(*, x=None, y=None, data=None, order=None, orient=None, color=None)\n",
        "```\n",
        "\n",
        "### Create a vertical bar chart with default colors\n"
      ]
    },
    {
      "cell_type": "code",
      "metadata": {
        "id": "4ca9uJ2oVOFv",
        "colab": {
          "base_uri": "https://localhost:8080/",
          "height": 280
        },
        "outputId": "58b73578-1321-4382-99f5-d546e91df6e2"
      },
      "source": [
        "sns.countplot(data=pokemon, x='generation_id');"
      ],
      "execution_count": 2,
      "outputs": [
        {
          "output_type": "display_data",
          "data": {
            "image/png": "[encoded data removed]",
            "text/plain": [
              "<Figure size 432x288 with 1 Axes>"
            ]
          },
          "metadata": {
            "needs_background": "light"
          }
        }
      ]
    },
    {
      "cell_type": "markdown",
      "metadata": {
        "id": "7Vy61lcUWWZf"
      },
      "source": [
        "### Create a vertical bar chart with a uniform single color\n",
        "\n",
        "The `color_palette()` returns the the current / default palette as a list of RGB tuples. Each tuple consists of three digits specifying the red, green, and blue channel values to specify a color. "
      ]
    },
    {
      "cell_type": "code",
      "metadata": {
        "id": "eFB1DU9LWT0v",
        "colab": {
          "base_uri": "https://localhost:8080/",
          "height": 280
        },
        "outputId": "7d4e3cde-00e4-4bc4-9557-57ec6f6cfc47"
      },
      "source": [
        "# Choose the first tuple of RGB colors\n",
        "base_color = sns.color_palette()[0]\n",
        "\n",
        "# Use the `color` argument\n",
        "sns.countplot(data=pokemon, x='generation_id', color=base_color);"
      ],
      "execution_count": 3,
      "outputs": [
        {
          "output_type": "display_data",
          "data": {
            "image/png": "[encoded data removed]",
            "text/plain": [
              "<Figure size 432x288 with 1 Axes>"
            ]
          },
          "metadata": {
            "needs_background": "light"
          }
        }
      ]
    },
    {
      "cell_type": "markdown",
      "metadata": {
        "id": "P_ZK_D9MXDQl"
      },
      "source": [
        "### Create a vertical bar chart with ordered bars"
      ]
    },
    {
      "cell_type": "code",
      "metadata": {
        "id": "oQA6Gz36WsH9",
        "colab": {
          "base_uri": "https://localhost:8080/",
          "height": 280
        },
        "outputId": "d76d4241-57f1-4f54-c50b-afaa274f6bb7"
      },
      "source": [
        "# Static-ordering the bars\n",
        "sns.countplot(data=pokemon, x='generation_id', color=base_color, order=[5,1,3,4,2,7,6]);"
      ],
      "execution_count": 4,
      "outputs": [
        {
          "output_type": "display_data",
          "data": {
            "image/png": "[encoded data removed]",
            "text/plain": [
              "<Figure size 432x288 with 1 Axes>"
            ]
          },
          "metadata": {
            "needs_background": "light"
          }
        }
      ]
    },
    {
      "cell_type": "code",
      "metadata": {
        "id": "HxO21xrfXXQ-",
        "colab": {
          "base_uri": "https://localhost:8080/",
          "height": 280
        },
        "outputId": "ac33f04d-ee2f-4de5-80bf-17dc5630954b"
      },
      "source": [
        "# Dynamic-ordering the bars\n",
        "# The order of the display of the bars can be computed with the following logic.\n",
        "# Count the frequency of each unique value in the 'generation_id' column, and sort it in descending order\n",
        "# Returns a Series\n",
        "freq = pokemon['generation_id'].value_counts()\n",
        "\n",
        "# Get the indexes of the Series\n",
        "gen_order = freq.index\n",
        "\n",
        "# Plot the bar chart in the decreasing order of the frequency of the `generation_id`\n",
        "sns.countplot(data=pokemon, x='generation_id', color=base_color, order=gen_order);"
      ],
      "execution_count": 5,
      "outputs": [
        {
          "output_type": "display_data",
          "data": {
            "image/png": "[encoded data removed]",
            "text/plain": [
              "<Figure size 432x288 with 1 Axes>"
            ]
          },
          "metadata": {
            "needs_background": "light"
          }
        }
      ]
    },
    {
      "cell_type": "markdown",
      "metadata": {
        "id": "ntdy2wzdXmRP"
      },
      "source": [
        "### Rotate the category labels (not axes)"
      ]
    },
    {
      "cell_type": "code",
      "metadata": {
        "id": "wB5gTC6LXl3u",
        "colab": {
          "base_uri": "https://localhost:8080/",
          "height": 309
        },
        "outputId": "1abb1b17-b8ca-4fec-c459-5cd6b079f0bc"
      },
      "source": [
        "# Plot the Pokemon type on a Vertical bar chart\n",
        "sns.countplot(data=pokemon, x='type_1', color=base_color);\n",
        "\n",
        "# Use xticks to rotate the category labels (not axes) counter-clockwise\n",
        "plt.xticks(rotation=90);"
      ],
      "execution_count": 6,
      "outputs": [
        {
          "output_type": "display_data",
          "data": {
            "image/png": "[encoded data removed]",
            "text/plain": [
              "<Figure size 432x288 with 1 Axes>"
            ]
          },
          "metadata": {
            "needs_background": "light"
          }
        }
      ]
    },
    {
      "cell_type": "markdown",
      "metadata": {
        "id": "tc7z6c7nX1lh"
      },
      "source": [
        "### Rotate the axes clocwise = Create a horizontal bar chart"
      ]
    },
    {
      "cell_type": "code",
      "metadata": {
        "id": "-Zemq95jX1B_",
        "colab": {
          "base_uri": "https://localhost:8080/",
          "height": 279
        },
        "outputId": "9a6d6fb0-e4e3-425c-800b-4c7d26fc6e37"
      },
      "source": [
        "# Plot the Pokemon type on a horizontal bar chart\n",
        "type_order = pokemon['type_1'].value_counts().index\n",
        "sns.countplot(data=pokemon, y='type_1', color=base_color, order=type_order);"
      ],
      "execution_count": 7,
      "outputs": [
        {
          "output_type": "display_data",
          "data": {
            "image/png": "[encoded data removed]",
            "text/plain": [
              "<Figure size 432x288 with 1 Axes>"
            ]
          },
          "metadata": {
            "needs_background": "light"
          }
        }
      ]
    },
    {
      "cell_type": "markdown",
      "metadata": {
        "id": "222EPYzuYo75"
      },
      "source": [
        "### Unpivot *type* variable = Reshape the pokemon dataframe\n",
        "We will use the `pandas.DataFrame.melt()` method to unpivot a DataFrame from wide to long format, optionally leaving identifiers set. The syntax is:\n",
        "```\n",
        "DataFrame.melt(id_vars, value_vars, var_name, value_name, col_level, ignore_index)\n",
        "```"
      ]
    },
    {
      "cell_type": "code",
      "metadata": {
        "id": "A2OxDq55Xfq2",
        "colab": {
          "base_uri": "https://localhost:8080/",
          "height": 221
        },
        "outputId": "a27e617b-1f4d-471a-f4e0-ef4b5a8c4fac"
      },
      "source": [
        "pkmn_types = pokemon.melt(id_vars=['id', 'species'], \n",
        "                          value_vars=['type_1', 'type_2'], \n",
        "                          var_name='type_level', \n",
        "                          value_name='type')\n",
        "print(pkmn_types.shape)\n",
        "pkmn_types.head()"
      ],
      "execution_count": 8,
      "outputs": [
        {
          "output_type": "stream",
          "name": "stdout",
          "text": [
            "(1614, 4)\n"
          ]
        },
        {
          "output_type": "execute_result",
          "data": {
            "text/html": [
              "<div>\n",
              "<style scoped>\n",
              "    .dataframe tbody tr th:only-of-type {\n",
              "        vertical-align: middle;\n",
              "    }\n",
              "\n",
              "    .dataframe tbody tr th {\n",
              "        vertical-align: top;\n",
              "    }\n",
              "\n",
              "    .dataframe thead th {\n",
              "        text-align: right;\n",
              "    }\n",
              "</style>\n",
              "<table border=\"1\" class=\"dataframe\">\n",
              "  <thead>\n",
              "    <tr style=\"text-align: right;\">\n",
              "      <th></th>\n",
              "      <th>id</th>\n",
              "      <th>species</th>\n",
              "      <th>type_level</th>\n",
              "      <th>type</th>\n",
              "    </tr>\n",
              "  </thead>\n",
              "  <tbody>\n",
              "    <tr>\n",
              "      <th>0</th>\n",
              "      <td>1</td>\n",
              "      <td>bulbasaur</td>\n",
              "      <td>type_1</td>\n",
              "      <td>grass</td>\n",
              "    </tr>\n",
              "    <tr>\n",
              "      <th>1</th>\n",
              "      <td>2</td>\n",
              "      <td>ivysaur</td>\n",
              "      <td>type_1</td>\n",
              "      <td>grass</td>\n",
              "    </tr>\n",
              "    <tr>\n",
              "      <th>2</th>\n",
              "      <td>3</td>\n",
              "      <td>venusaur</td>\n",
              "      <td>type_1</td>\n",
              "      <td>grass</td>\n",
              "    </tr>\n",
              "    <tr>\n",
              "      <th>3</th>\n",
              "      <td>4</td>\n",
              "      <td>charmander</td>\n",
              "      <td>type_1</td>\n",
              "      <td>fire</td>\n",
              "    </tr>\n",
              "    <tr>\n",
              "      <th>4</th>\n",
              "      <td>5</td>\n",
              "      <td>charmeleon</td>\n",
              "      <td>type_1</td>\n",
              "      <td>fire</td>\n",
              "    </tr>\n",
              "  </tbody>\n",
              "</table>\n",
              "</div>"
            ],
            "text/plain": [
              "   id     species type_level   type\n",
              "0   1   bulbasaur     type_1  grass\n",
              "1   2     ivysaur     type_1  grass\n",
              "2   3    venusaur     type_1  grass\n",
              "3   4  charmander     type_1   fire\n",
              "4   5  charmeleon     type_1   fire"
            ]
          },
          "metadata": {},
          "execution_count": 8
        }
      ]
    },
    {
      "cell_type": "markdown",
      "metadata": {
        "id": "58A65srwZs3D"
      },
      "source": [
        "### Plot the horizontal bar chart"
      ]
    },
    {
      "cell_type": "code",
      "metadata": {
        "id": "FZW8gJz9Zay5",
        "colab": {
          "base_uri": "https://localhost:8080/",
          "height": 279
        },
        "outputId": "8a048a15-ff48-458d-d6e9-302f068d51a0"
      },
      "source": [
        "# Count the frequency of unique values in the `type` column of pkmn_types dataframe. \n",
        "# By default, returns the decreasing order of the frequency.\n",
        "type_counts = pkmn_types['type'].value_counts()\n",
        "\n",
        "# Get the unique values of the `type` column, in the decreasing order of the frequency.\n",
        "type_order = type_counts.index\n",
        "\n",
        "# Plot the horizontal bar chart\n",
        "base_color = sns.color_palette()[0]\n",
        "sns.countplot(data=pkmn_types, y='type', color=base_color, order=type_order);"
      ],
      "execution_count": 9,
      "outputs": [
        {
          "output_type": "display_data",
          "data": {
            "image/png": "[encoded data removed]",
            "text/plain": [
              "<Figure size 432x288 with 1 Axes>"
            ]
          },
          "metadata": {
            "needs_background": "light"
          }
        }
      ]
    },
    {
      "cell_type": "markdown",
      "metadata": {
        "id": "PfXpzadeaVbE"
      },
      "source": [
        "### Plot a bar chart with relative frequency (the proportions)\n",
        "[Udacity Concept: Absolute vs. Relative Frequency](https://classroom.udacity.com/nanodegrees/nd002/parts/cd0016/modules/52d11870-710a-49bc-bfdb-0844ebaa50d7/lessons/52112010-aca5-4910-88a6-103757d30904/concepts/e6f3d137-5f7f-4bf2-88cb-f6644fffed10)"
      ]
    },
    {
      "cell_type": "code",
      "metadata": {
        "id": "nHSldKMvZG85",
        "colab": {
          "base_uri": "https://localhost:8080/"
        },
        "outputId": "7675d7d8-649c-4685-b78d-646703e697f5"
      },
      "source": [
        "# Return the sum of all not-null values in `type` column\n",
        "n_pokemon = pkmn_types['type'].value_counts().sum()\n",
        "\n",
        "# Return the highest frequency in the `type` column\n",
        "max_type_count = type_counts[0]\n",
        "\n",
        "# Return the maximum proportion, or in other words, \n",
        "# compute the length of the longest bar in terms of the proportion\n",
        "max_prop = max_type_count / n_pokemon\n",
        "\n",
        "# Use numpy.arange() function to produce a set of evenly spaced proportioned  \n",
        "# values between 0 and max_prop, with a step size 2\\%\n",
        "tick_props = np.arange(0, max_prop, 0.02)\n",
        "\n",
        "# Use a list comprehension to create tick_names that we will apply to the tick labels. \n",
        "# Pick each element `v` from the `tick_props`, and convert it into a formatted string.\n",
        "# `{:0.2f}` denotes that before formatting, we 2 digits of precision and `f` is used to represent floating point number.\n",
        "# Refer [here](https://docs.python.org/2/library/string.html#format-string-syntax) for more details\n",
        "tick_names = ['{:0.2f}'.format(v) for v in tick_props]\n",
        "\n",
        "# Print parameters\n",
        "print('max_prop = ', max_prop)\n",
        "print('tick_props = ', tick_props)\n",
        "print('tick_names = ', tick_names)"
      ],
      "execution_count": 10,
      "outputs": [
        {
          "output_type": "stream",
          "name": "stdout",
          "text": [
            "max_prop =  0.10808580858085809\n",
            "tick_props =  [0.   0.02 0.04 0.06 0.08 0.1 ]\n",
            "tick_names =  ['0.00', '0.02', '0.04', '0.06', '0.08', '0.10']\n"
          ]
        }
      ]
    },
    {
      "cell_type": "markdown",
      "metadata": {
        "id": "ABz0LqFIb6zM"
      },
      "source": [
        "The `xticks` and `yticks` functions aren't only about rotating the tick labels. You can also get and set their locations and labels as well. The first argument takes the tick locations: in this case, the tick proportions multiplied back to be on the scale of counts. The second argument takes the tick names: in this case, the tick proportions formatted as strings to two decimal places."
      ]
    },
    {
      "cell_type": "code",
      "metadata": {
        "id": "WVDjzFp5a_OE",
        "colab": {
          "base_uri": "https://localhost:8080/",
          "height": 279
        },
        "outputId": "a3889f9d-3972-4d6e-d85b-53c8a741bcb7"
      },
      "source": [
        "sns.countplot(data=pkmn_types, y='type', color=base_color, order=type_order);\n",
        "# Change the tick locations and labels\n",
        "plt.xticks(tick_props * n_pokemon, tick_names)\n",
        "plt.xlabel('proportion');"
      ],
      "execution_count": 11,
      "outputs": [
        {
          "output_type": "display_data",
          "data": {
            "image/png": "[encoded data removed]",
            "text/plain": [
              "<Figure size 432x288 with 1 Axes>"
            ]
          },
          "metadata": {
            "needs_background": "light"
          }
        }
      ]
    },
    {
      "cell_type": "markdown",
      "metadata": {
        "id": "lpLWVL93j5Xx"
      },
      "source": [
        "### Print the text (proportion) on the bars of a horizontal plot\n",
        "\n",
        "Read more about the arguments of text() function [here](https://matplotlib.org/3.1.1/api/_as_gen/matplotlib.pyplot.text.html)\n",
        "\n",
        "```\n",
        "matplotlib.pyplot.text(x, y, s, fontdict=None, withdash=<deprecated parameter>, **kwargs)\n",
        "```\n"
      ]
    },
    {
      "cell_type": "code",
      "metadata": {
        "id": "N-416GGUjn2L",
        "colab": {
          "base_uri": "https://localhost:8080/"
        },
        "outputId": "6eb02b4b-7e3f-4510-bbbe-1c8fbaf427c2"
      },
      "source": [
        "print(type_counts.head())"
      ],
      "execution_count": 12,
      "outputs": [
        {
          "output_type": "stream",
          "name": "stdout",
          "text": [
            "water      131\n",
            "normal     109\n",
            "flying      98\n",
            "grass       97\n",
            "psychic     82\n",
            "Name: type, dtype: int64\n"
          ]
        }
      ]
    },
    {
      "cell_type": "code",
      "metadata": {
        "id": "avY6VzYsbHgT",
        "colab": {
          "base_uri": "https://localhost:8080/",
          "height": 279
        },
        "outputId": "81d47beb-40b2-49d8-f79a-3ed4a492826a"
      },
      "source": [
        "# Plot the baseline bar chart\n",
        "base_color = sns.color_palette()[0]\n",
        "sns.countplot(data=pkmn_types, y='type', color=base_color, order=type_order);\n",
        "\n",
        "# Logic to print the proportion text on the bars\n",
        "for i in range (type_counts.shape[0]):\n",
        "    # Read 'count' form a .value_counts() Series.\n",
        "    count = type_counts[i]\n",
        "    # Convert count into a percentage, and then into string\n",
        "    pct_string = '{:0.1f}%'.format(100*count/n_pokemon)\n",
        "    # Print the string value on the bar. \n",
        "    plt.text(count+1, i, pct_string, va='center')"
      ],
      "execution_count": 13,
      "outputs": [
        {
          "output_type": "display_data",
          "data": {
            "image/png": "[encoded data removed]",
            "text/plain": [
              "<Figure size 432x288 with 1 Axes>"
            ]
          },
          "metadata": {
            "needs_background": "light"
          }
        }
      ]
    },
    {
      "cell_type": "markdown",
      "metadata": {
        "id": "9Q1FFaaEmqaB"
      },
      "source": [
        "### Print the text (proportion) above the bars of a vertical bar chart\n",
        "\n",
        "We use the `.get_text()` method to obtain the category name, so we can get the count of each category level. At the end, we use the text function to print each percentage, with the x-position, y-position, and string as the three main parameters to the function."
      ]
    },
    {
      "cell_type": "code",
      "metadata": {
        "id": "rXivDkJQkcUh",
        "colab": {
          "base_uri": "https://localhost:8080/",
          "height": 309
        },
        "outputId": "c21032d0-5c38-44d7-abc3-9e6744c45613"
      },
      "source": [
        "# Plot the baseline bar chart\n",
        "base_color = sns.color_palette()[0]\n",
        "sns.countplot(data=pkmn_types, x='type', color=base_color, order=type_order);\n",
        "\n",
        "# Recalculating the type_counts just to have clarity.\n",
        "type_counts = pkmn_types['type'].value_counts()\n",
        "\n",
        "# Get the current tick locations and labels\n",
        "locs, labels = plt.xticks(rotation=90) \n",
        "\n",
        "# Loop through each pair of locations and labels\n",
        "for loc, label in zip(locs, labels):\n",
        "\n",
        "    # Get the text property for the label to get the correct count\n",
        "    count = type_counts[label.get_text()]\n",
        "    pct_string = '{:0.1f}%'.format(100*count/n_pokemon)\n",
        "\n",
        "    # Print the annotation just below the top of the bar\n",
        "    plt.text(loc, count+2, pct_string, ha = 'center', color = 'black')"
      ],
      "execution_count": 14,
      "outputs": [
        {
          "output_type": "display_data",
          "data": {
            "image/png": "[encoded data removed]",
            "text/plain": [
              "<Figure size 432x288 with 1 Axes>"
            ]
          },
          "metadata": {
            "needs_background": "light"
          }
        }
      ]
    },
    {
      "cell_type": "code",
      "metadata": {
        "id": "6gYPSRuxnoNf"
      },
      "source": [
        "from matplotlib import rcParams\n",
        "# Specify the figure size in inches, for both X, and Y axes\n",
        "rcParams['figure.figsize'] = 12,4"
      ],
      "execution_count": 15,
      "outputs": []
    },
    {
      "cell_type": "code",
      "metadata": {
        "id": "8oar6dOLntbO",
        "colab": {
          "base_uri": "https://localhost:8080/",
          "height": 309
        },
        "outputId": "4051b92a-7c09-4dcb-a9bb-2c693e5af90c"
      },
      "source": [
        "# Plot the baseline bar chart\n",
        "base_color = sns.color_palette()[0]\n",
        "sns.countplot(data=pkmn_types, x='type', color=base_color, order=type_order);\n",
        "\n",
        "\n",
        "# Recalculating the type_counts just to have clarity.\n",
        "type_counts = pkmn_types['type'].value_counts()\n",
        "\n",
        "# Get the current tick locations and labels\n",
        "locs, labels = plt.xticks(rotation=90) \n",
        "\n",
        "# Loop through each pair of locations and labels\n",
        "for loc, label in zip(locs, labels):\n",
        "\n",
        "    # Get the text property for the label to get the correct count\n",
        "    count = type_counts[label.get_text()]\n",
        "    pct_string = '{:0.1f}%'.format(100*count/n_pokemon)\n",
        "\n",
        "    # Print the annotation just below the top of the bar\n",
        "    plt.text(loc, count+2, pct_string, ha = 'center', color = 'black')"
      ],
      "execution_count": 16,
      "outputs": [
        {
          "output_type": "display_data",
          "data": {
            "image/png": "[encoded data removed]",
            "text/plain": [
              "<Figure size 864x288 with 1 Axes>"
            ]
          },
          "metadata": {
            "needs_background": "light"
          }
        }
      ]
    },
    {
      "cell_type": "code",
      "metadata": {
        "id": "O2ZCuULBnyX2",
        "colab": {
          "base_uri": "https://localhost:8080/",
          "height": 362
        },
        "outputId": "24ddfe3c-ebdc-4dfd-aa9c-1c3d4110dacd"
      },
      "source": [
        "# Plot the baseline bar chart\n",
        "base_color = sns.color_palette()[0]\n",
        "sns.countplot(data=pkmn_types, x='type', color=base_color, order=type_order);\n",
        "locs, labels = plt.xticks(rotation=90)\n",
        "print(locs)\n",
        "print(list(labels))"
      ],
      "execution_count": 17,
      "outputs": [
        {
          "output_type": "stream",
          "name": "stdout",
          "text": [
            "[ 0  1  2  3  4  5  6  7  8  9 10 11 12 13 14 15 16 17]\n",
            "[Text(0, 0, 'water'), Text(0, 0, 'normal'), Text(0, 0, 'flying'), Text(0, 0, 'grass'), Text(0, 0, 'psychic'), Text(0, 0, 'bug'), Text(0, 0, 'poison'), Text(0, 0, 'ground'), Text(0, 0, 'fire'), Text(0, 0, 'rock'), Text(0, 0, 'fighting'), Text(0, 0, 'electric'), Text(0, 0, 'fairy'), Text(0, 0, 'steel'), Text(0, 0, 'dark'), Text(0, 0, 'dragon'), Text(0, 0, 'ghost'), Text(0, 0, 'ice')]\n"
          ]
        },
        {
          "output_type": "display_data",
          "data": {
            "image/png": "[encoded data removed]",
            "text/plain": [
              "<Figure size 864x288 with 1 Axes>"
            ]
          },
          "metadata": {
            "needs_background": "light"
          }
        }
      ]
    },
    {
      "cell_type": "markdown",
      "metadata": {
        "id": "AE7h4Ntp3MT0"
      },
      "source": [
        "### Visualize Missing Values"
      ]
    },
    {
      "cell_type": "code",
      "metadata": {
        "id": "EQAMCScyorp9",
        "colab": {
          "base_uri": "https://localhost:8080/",
          "height": 221
        },
        "outputId": "594e6f22-4d7c-445c-ffb2-5bbb6b2eb59a"
      },
      "source": [
        "# Read the data from a CSV file\n",
        "# Original source of data: https://www.kaggle.com/manjeetsingh/retaildataset available under C0 1.0 Universal (CC0 1.0) Public Domain Dedication License\n",
        "sales_data = pd.read_csv(path+'sales-data.csv')\n",
        "print(sales_data.shape)\n",
        "sales_data.head()"
      ],
      "execution_count": 18,
      "outputs": [
        {
          "output_type": "stream",
          "name": "stdout",
          "text": [
            "(8190, 12)\n"
          ]
        },
        {
          "output_type": "execute_result",
          "data": {
            "text/html": [
              "<div>\n",
              "<style scoped>\n",
              "    .dataframe tbody tr th:only-of-type {\n",
              "        vertical-align: middle;\n",
              "    }\n",
              "\n",
              "    .dataframe tbody tr th {\n",
              "        vertical-align: top;\n",
              "    }\n",
              "\n",
              "    .dataframe thead th {\n",
              "        text-align: right;\n",
              "    }\n",
              "</style>\n",
              "<table border=\"1\" class=\"dataframe\">\n",
              "  <thead>\n",
              "    <tr style=\"text-align: right;\">\n",
              "      <th></th>\n",
              "      <th>Store</th>\n",
              "      <th>Date</th>\n",
              "      <th>Temperature</th>\n",
              "      <th>Fuel_Price</th>\n",
              "      <th>MarkDown1</th>\n",
              "      <th>MarkDown2</th>\n",
              "      <th>MarkDown3</th>\n",
              "      <th>MarkDown4</th>\n",
              "      <th>MarkDown5</th>\n",
              "      <th>CPI</th>\n",
              "      <th>Unemployment</th>\n",
              "      <th>IsHoliday</th>\n",
              "    </tr>\n",
              "  </thead>\n",
              "  <tbody>\n",
              "    <tr>\n",
              "      <th>0</th>\n",
              "      <td>1</td>\n",
              "      <td>05/02/2010</td>\n",
              "      <td>42.31</td>\n",
              "      <td>2.572</td>\n",
              "      <td>NaN</td>\n",
              "      <td>NaN</td>\n",
              "      <td>NaN</td>\n",
              "      <td>NaN</td>\n",
              "      <td>NaN</td>\n",
              "      <td>211.096358</td>\n",
              "      <td>8.106</td>\n",
              "      <td>False</td>\n",
              "    </tr>\n",
              "    <tr>\n",
              "      <th>1</th>\n",
              "      <td>1</td>\n",
              "      <td>12/02/2010</td>\n",
              "      <td>38.51</td>\n",
              "      <td>2.548</td>\n",
              "      <td>NaN</td>\n",
              "      <td>NaN</td>\n",
              "      <td>NaN</td>\n",
              "      <td>NaN</td>\n",
              "      <td>NaN</td>\n",
              "      <td>211.242170</td>\n",
              "      <td>8.106</td>\n",
              "      <td>True</td>\n",
              "    </tr>\n",
              "    <tr>\n",
              "      <th>2</th>\n",
              "      <td>1</td>\n",
              "      <td>19/02/2010</td>\n",
              "      <td>39.93</td>\n",
              "      <td>2.514</td>\n",
              "      <td>NaN</td>\n",
              "      <td>NaN</td>\n",
              "      <td>NaN</td>\n",
              "      <td>NaN</td>\n",
              "      <td>NaN</td>\n",
              "      <td>211.289143</td>\n",
              "      <td>8.106</td>\n",
              "      <td>False</td>\n",
              "    </tr>\n",
              "    <tr>\n",
              "      <th>3</th>\n",
              "      <td>1</td>\n",
              "      <td>26/02/2010</td>\n",
              "      <td>46.63</td>\n",
              "      <td>2.561</td>\n",
              "      <td>NaN</td>\n",
              "      <td>NaN</td>\n",
              "      <td>NaN</td>\n",
              "      <td>NaN</td>\n",
              "      <td>NaN</td>\n",
              "      <td>211.319643</td>\n",
              "      <td>8.106</td>\n",
              "      <td>False</td>\n",
              "    </tr>\n",
              "    <tr>\n",
              "      <th>4</th>\n",
              "      <td>1</td>\n",
              "      <td>05/03/2010</td>\n",
              "      <td>46.50</td>\n",
              "      <td>2.625</td>\n",
              "      <td>NaN</td>\n",
              "      <td>NaN</td>\n",
              "      <td>NaN</td>\n",
              "      <td>NaN</td>\n",
              "      <td>NaN</td>\n",
              "      <td>211.350143</td>\n",
              "      <td>8.106</td>\n",
              "      <td>False</td>\n",
              "    </tr>\n",
              "  </tbody>\n",
              "</table>\n",
              "</div>"
            ],
            "text/plain": [
              "   Store        Date  Temperature  ...         CPI  Unemployment  IsHoliday\n",
              "0      1  05/02/2010        42.31  ...  211.096358         8.106      False\n",
              "1      1  12/02/2010        38.51  ...  211.242170         8.106       True\n",
              "2      1  19/02/2010        39.93  ...  211.289143         8.106      False\n",
              "3      1  26/02/2010        46.63  ...  211.319643         8.106      False\n",
              "4      1  05/03/2010        46.50  ...  211.350143         8.106      False\n",
              "\n",
              "[5 rows x 12 columns]"
            ]
          },
          "metadata": {},
          "execution_count": 18
        }
      ]
    },
    {
      "cell_type": "code",
      "metadata": {
        "id": "HJYWG27V3iGr",
        "colab": {
          "base_uri": "https://localhost:8080/"
        },
        "outputId": "19dbf8b4-cc34-4591-bb0a-5383a2228411"
      },
      "source": [
        "# Initalize `sdm` aka sales data missing Series\n",
        "sdm = sales_data.isna().sum()\n",
        "sdm[sdm>0]"
      ],
      "execution_count": 19,
      "outputs": [
        {
          "output_type": "execute_result",
          "data": {
            "text/plain": [
              "MarkDown1       4158\n",
              "MarkDown2       5269\n",
              "MarkDown3       4577\n",
              "MarkDown4       4726\n",
              "MarkDown5       4140\n",
              "CPI              585\n",
              "Unemployment     585\n",
              "dtype: int64"
            ]
          },
          "metadata": {},
          "execution_count": 19
        }
      ]
    },
    {
      "cell_type": "code",
      "metadata": {
        "id": "HmyqlSLj3lZV",
        "colab": {
          "base_uri": "https://localhost:8080/",
          "height": 390
        },
        "outputId": "e9a95cd5-b9d0-40fc-8b8c-33c99a64c815"
      },
      "source": [
        "# Specify the default figure size in inches, for both X, and Y axes\n",
        "rcParams['figure.figsize'] = 6.4, 4.8\n",
        "\n",
        "# The first argument to the function below contains the x-values (column names), the second argument the y-values (our counts).\n",
        "# Refer to the syntax and more example here - https://seaborn.pydata.org/generated/seaborn.barplot.html\n",
        "na_counts = sdm[sdm>0].reset_index(name='missing_values_count')\n",
        "\n",
        "# sns.barplot(na_counts.index.values, na_counts)\n",
        "# FutureWarning: Pass the following variables as keyword args: x, y. From version 0.12, the only valid positional argument will be `data`,...\n",
        "sns.barplot(x='index', y='missing_values_count', data=na_counts)\n",
        "\n",
        "# get the current tick locations and labels\n",
        "plt.xticks(rotation=45) \n",
        "\n",
        "# Logic to print value on each bar\n",
        "for i in na_counts.index:\n",
        "    count = na_counts.at[i,'missing_values_count']\n",
        "\n",
        "    # Refer here for details of the text() - https://matplotlib.org/3.1.1/api/_as_gen/matplotlib.pyplot.text.html\n",
        "    plt.text(i, count+300, count, ha = 'center', va='top')\n",
        "\n",
        "bottom, top = plt.ylim()\n",
        "plt.ylim(bottom, top+300)\n",
        "plt.xlabel('Variables')\n",
        "plt.ylabel('Count of Missing Values')\n",
        "plt.title(f'Variables with Missing Values (Out of {sales_data.shape[0]})')\n",
        "plt.show()"
      ],
      "execution_count": 20,
      "outputs": [
        {
          "output_type": "display_data",
          "data": {
            "image/png": "[encoded data removed]",
            "text/plain": [
              "<Figure size 460.8x345.6 with 1 Axes>"
            ]
          },
          "metadata": {
            "needs_background": "light"
          }
        }
      ]
    },
    {
      "cell_type": "markdown",
      "metadata": {
        "id": "0vqleWw7A_u9"
      },
      "source": [
        "**Note** - The `seaborn.barplot()` is a useful function to keep in mind if your data is summarized and you still want to build a bar chart. If your data is not yet summarized, however, just use the `countplot` function so that you don't need to do extra summarization work. In addition, you'll see what `barplot`'s main purpose is in the adaptations of univariate plots for plotting bivariate data."
      ]
    },
    {
      "cell_type": "markdown",
      "metadata": {
        "id": "LLDmFns2VAEi"
      },
      "source": [
        "## Plot (Top) Relative Frequencies Pattern"
      ]
    },
    {
      "cell_type": "code",
      "metadata": {
        "id": "zbZujwco42Qf",
        "outputId": "34f0811a-c16c-47d1-a377-f411ac0f4bc6",
        "colab": {
          "base_uri": "https://localhost:8080/",
          "height": 325
        }
      },
      "source": [
        "# Initialize parameters\n",
        "data = pkmn_types['type'].value_counts()\n",
        "top = 10\n",
        "title = 'Top {} Pokemon\\'s Types'\n",
        "\n",
        "# Define a function\n",
        "def plot_top_rel_freq(data, title, top=None, nobs=None):\n",
        "  \"\"\"Plot `top` values the `data` series.\n",
        "  \n",
        "  Args:\n",
        "     data - a pd.Series with counts to plot\n",
        "     title - a chart's title ({} displays a number of categories)\n",
        "     top - if None, plot all categories\n",
        "     nobs - if None, use `data.sum()`\"\"\"\n",
        "  \n",
        "  def set_step(step):\n",
        "    \"\"\"Set nicely rounded step size.\"\"\"\n",
        "    lg = -1*np.log10(step)\n",
        "    if lg > 0.1:\n",
        "      return round(step, round(lg))\n",
        "    else:\n",
        "      return round(step, -1)\n",
        "  \n",
        "  # Choose the first tuple of RGB colors to reduce distraction\n",
        "  base_color = sns.color_palette()[0]\n",
        "\n",
        "  # Check the order of values\n",
        "  data = data.sort_values(ascending=False)\n",
        "\n",
        "  # If top == None, plot all observations.\n",
        "  if top == None or top > data.shape[0]:\n",
        "    top = data.shape[0]\n",
        "  \n",
        "  # If nobs == None, use data.sum()\n",
        "  if nobs == None:\n",
        "    nobs = data.sum()\n",
        "  \n",
        "  # Compute the lenght of the longest bar in terms of proportion\n",
        "  max_prop = data[0] / nobs\n",
        "  # Produce a set of evenly spaced proportioned values\n",
        "  tick_props = np.arange(0, max_prop, set_step(max_prop/5))\n",
        "  # Create tick labels\n",
        "  tick_names = [f'{v:.1%}' for v in tick_props]\n",
        "\n",
        "  fig, ax = plt.subplots(figsize=(6.4, 4.8))\n",
        "  ax = sns.barplot(x=data[:top].values, y=data[:top].index, color=base_color)\n",
        "  # Change tick locations and labels\n",
        "  plt.xticks(tick_props * nobs, tick_names)\n",
        "\n",
        "  # Print the proportion text on the bars\n",
        "  for i in range(top):\n",
        "      # Read count\n",
        "      count = data[i]\n",
        "      # Convert count into a percentage, and then into string\n",
        "      pct_count = f'{count/nobs:.1%}'\n",
        "      # Print the string value on the bar\n",
        "      plt.text(count+round(data[0]/100), i, pct_count, va='center')\n",
        "\n",
        "  # Render the chart\n",
        "  left, right = plt.xlim()\n",
        "  plt.xlim(left, right+round(data[0]/15))\n",
        "  ax.set_title(title.format(top))\n",
        "\n",
        "  return None\n",
        "\n",
        "plot_top_rel_freq(data, title, 10)"
      ],
      "execution_count": 141,
      "outputs": [
        {
          "output_type": "display_data",
          "data": {
            "image/png": "[encoded data removed]",
            "text/plain": [
              "<Figure size 460.8x345.6 with 1 Axes>"
            ]
          },
          "metadata": {
            "needs_background": "light"
          }
        }
      ]
    },
    {
      "cell_type": "code",
      "metadata": {
        "id": "AViSGUaTvPuM",
        "outputId": "761985ed-e558-4852-8bf1-1484eb9b9ef1",
        "colab": {
          "base_uri": "https://localhost:8080/",
          "height": 325
        }
      },
      "source": [
        "data = sdm[sdm>0]\n",
        "plot_top_rel_freq(data, 'Variables with Missing Values', None, sales_data.shape[0])"
      ],
      "execution_count": 142,
      "outputs": [
        {
          "output_type": "display_data",
          "data": {
            "image/png": "[encoded data removed]",
            "text/plain": [
              "<Figure size 460.8x345.6 with 1 Axes>"
            ]
          },
          "metadata": {
            "needs_background": "light"
          }
        }
      ]
    }
  ]
}