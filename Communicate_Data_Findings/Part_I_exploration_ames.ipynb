{
  "nbformat": 4,
  "nbformat_minor": 0,
  "metadata": {
    "kernelspec": {
      "display_name": "Python 3",
      "language": "python",
      "name": "python3"
    },
    "language_info": {
      "codemirror_mode": {
        "name": "ipython",
        "version": 3
      },
      "file_extension": ".py",
      "mimetype": "text/x-python",
      "name": "python",
      "nbconvert_exporter": "python",
      "pygments_lexer": "ipython3",
      "version": "3.8.8"
    },
    "colab": {
      "name": "Part_I_exploration_ames.ipynb",
      "provenance": [],
      "include_colab_link": true
    }
  },
  "cells": [
    {
      "cell_type": "markdown",
      "metadata": {
        "id": "view-in-github",
        "colab_type": "text"
      },
      "source": [
        "<a href=\"https://colab.research.google.com/github/lustraka/Data_Analysis_Workouts/blob/main/Communicate_Data_Findings/Part_I_exploration_ames.ipynb\" target=\"_parent\"><img src=\"https://colab.research.google.com/assets/colab-badge.svg\" alt=\"Open In Colab\"/></a>"
      ]
    },
    {
      "cell_type": "markdown",
      "metadata": {
        "id": "VlJzRUBVT0HA"
      },
      "source": [
        "# Data Analysis of House Prices in Ames, Iowa - Part I\n",
        "## by Lubomir Straka\n",
        "\n",
        "## Introduction\n",
        "> Introduce the dataset\n",
        "\n",
        ">**Rubric Tip**: Your code should not generate any errors, and should use functions, loops where possible to reduce repetitive code. Prefer to use functions to reuse code statements.\n",
        "\n",
        "> **Rubric Tip**: Document your approach and findings in markdown cells. Use comments and docstrings in code cells to document the code functionality.\n",
        "\n",
        ">**Rubric Tip**: Markup cells should have headers and text that organize your thoughts, findings, and what you plan on investigating next.  \n",
        "\n",
        "\n",
        "\n",
        "## Preliminary Wrangling\n"
      ]
    },
    {
      "cell_type": "code",
      "metadata": {
        "id": "qVeIQOfTT0HD"
      },
      "source": [
        "# Import all packages and set plots to be embedded inline\n",
        "import os\n",
        "import numpy as np\n",
        "import pandas as pd\n",
        "import matplotlib.pyplot as plt\n",
        "import seaborn as sns\n",
        "\n",
        "%matplotlib inline"
      ],
      "execution_count": 9,
      "outputs": []
    },
    {
      "cell_type": "markdown",
      "metadata": {
        "id": "ib7fTu0mT0HE"
      },
      "source": [
        "> Load in your dataset and describe its properties through the questions below. Try and motivate your exploration goals through this section.\n",
        "\n",
        "This project processes a data set describing the sale of individual residential property in Ames, Iowa from 2006 to 2010. The [Ames Housing dataset](https://www.kaggle.com/c/house-prices-advanced-regression-techniques/data) was downloaded from Kaggle.com and is hosted on this project's GitHub repository to avoid the need of working with the Kaggle's API."
      ]
    },
    {
      "cell_type": "code",
      "metadata": {
        "colab": {
          "base_uri": "https://localhost:8080/"
        },
        "id": "sJFU5ArcT0HF",
        "outputId": "e70c5539-dc80-4bae-d069-99b3b2985eb9"
      },
      "source": [
        "# Load the Ames Housing dataset\n",
        "path = 'https://raw.githubusercontent.com/lustraka/Data_Analysis_Workouts/main/Communicate_Data_Findings/ames_train_data.csv'\n",
        "ames = pd.read_csv(path, index_col='Id')\n",
        "print(ames.shape)"
      ],
      "execution_count": 4,
      "outputs": [
        {
          "output_type": "stream",
          "name": "stdout",
          "text": [
            "(1460, 80)\n"
          ]
        }
      ]
    },
    {
      "cell_type": "code",
      "metadata": {
        "colab": {
          "base_uri": "https://localhost:8080/"
        },
        "id": "H6xXEBMcXBya",
        "outputId": "de94cee5-f242-4243-f9c9-f1d2ac769814"
      },
      "source": [
        "################\n",
        "# Wrangle data #\n",
        "################\n",
        "# The numeric features are already encoded correctly (`float` for\n",
        "# continuous, `int` for discrete), but the categoricals we'll need to\n",
        "# do ourselves. Note in particular, that the `MSSubClass` feature is\n",
        "# read as an `int` type, but is actually a (nominative) categorical.\n",
        "\n",
        "# The categorical features nominative (unordered)\n",
        "catn = [\"MSSubClass\", \"MSZoning\", \"Street\", \"Alley\", \"LandContour\", \"LotConfig\",\n",
        "        \"Neighborhood\", \"Condition1\", \"Condition2\", \"BldgType\", \"HouseStyle\", \n",
        "        \"RoofStyle\", \"RoofMatl\", \"Exterior1st\", \"Exterior2nd\", \"MasVnrType\", \n",
        "        \"Foundation\", \"Heating\", \"CentralAir\", \"GarageType\", \"MiscFeature\", \n",
        "        \"SaleType\", \"SaleCondition\"]\n",
        "\n",
        "\n",
        "# The categorical features ordinal (ordered) \n",
        "\n",
        "# Pandas calls the categories \"levels\"\n",
        "five_levels = [\"Po\", \"Fa\", \"TA\", \"Gd\", \"Ex\"]\n",
        "ten_levels = list(range(10))\n",
        "\n",
        "cato = {\n",
        "    \"OverallQual\": ten_levels,\n",
        "    \"OverallCond\": ten_levels,\n",
        "    \"ExterQual\": five_levels,\n",
        "    \"ExterCond\": five_levels,\n",
        "    \"BsmtQual\": five_levels,\n",
        "    \"BsmtCond\": five_levels,\n",
        "    \"HeatingQC\": five_levels,\n",
        "    \"KitchenQual\": five_levels,\n",
        "    \"FireplaceQu\": five_levels,\n",
        "    \"GarageQual\": five_levels,\n",
        "    \"GarageCond\": five_levels,\n",
        "    \"PoolQC\": five_levels,\n",
        "    \"LotShape\": [\"Reg\", \"IR1\", \"IR2\", \"IR3\"],\n",
        "    \"LandSlope\": [\"Sev\", \"Mod\", \"Gtl\"],\n",
        "    \"BsmtExposure\": [\"No\", \"Mn\", \"Av\", \"Gd\"],\n",
        "    \"BsmtFinType1\": [\"Unf\", \"LwQ\", \"Rec\", \"BLQ\", \"ALQ\", \"GLQ\"],\n",
        "    \"BsmtFinType2\": [\"Unf\", \"LwQ\", \"Rec\", \"BLQ\", \"ALQ\", \"GLQ\"],\n",
        "    \"Functional\": [\"Sal\", \"Sev\", \"Maj1\", \"Maj2\", \"Mod\", \"Min2\", \"Min1\", \"Typ\"],\n",
        "    \"GarageFinish\": [\"Unf\", \"RFn\", \"Fin\"],\n",
        "    \"PavedDrive\": [\"N\", \"P\", \"Y\"],\n",
        "    \"Utilities\": [\"NoSeWa\", \"NoSewr\", \"AllPub\"],\n",
        "    \"CentralAir\": [\"N\", \"Y\"],\n",
        "    \"Electrical\": [\"Mix\", \"FuseP\", \"FuseF\", \"FuseA\", \"SBrkr\"],\n",
        "    \"Fence\": [\"MnWw\", \"GdWo\", \"MnPrv\", \"GdPrv\"],\n",
        "}\n",
        "\n",
        "# Add a None level for missing values\n",
        "cato = {key: [\"None\"] + value for key, value in\n",
        "                  cato.items()}\n",
        "\n",
        "\n",
        "def encode_dtypes(df):\n",
        "    \"\"\"Encode nominal and ordinal categorical variables.\"\"\"\n",
        "\n",
        "    global catn, cato\n",
        "\n",
        "    # Nominal categories\n",
        "    for name in catn:\n",
        "        df[name] = df[name].astype(\"category\")\n",
        "        # Add a None category for missing values\n",
        "        if \"None\" not in df[name].cat.categories:\n",
        "            df[name].cat.add_categories(\"None\", inplace=True)\n",
        "    # Ordinal categories\n",
        "    for name, levels in cato.items():\n",
        "        df[name] = df[name].astype(pd.CategoricalDtype(levels,\n",
        "                                                    ordered=True))\n",
        "    return df\n",
        "\n",
        "def impute_missing(df):\n",
        "    \"\"\"Impute zeros to numerical and None to categorical variables.\"\"\"\n",
        "\n",
        "    for name in df.select_dtypes(\"number\"):\n",
        "        df[name] = df[name].fillna(0)\n",
        "    for name in df.select_dtypes(\"category\"):\n",
        "        df[name] = df[name].fillna(\"None\")\n",
        "    return df\n",
        "\n",
        "def clean_data(df):\n",
        "    \"\"\"Remedy typos and mistakes based on EDA.\"\"\"\n",
        "\n",
        "    global cato\n",
        "    # YearRemodAdd: Remodel date (same as construction date if no remodeling or additions)\n",
        "    df.YearRemodAdd = np.where(df.YearRemodAdd < df.YearBuilt, df.YearBuilt, df.YearRemodAdd)\n",
        "    assert len(df.loc[df.YearRemodAdd < df.YearBuilt]) == 0, 'Check YearRemodAdd - should be greater or equal then YearBuilt'\n",
        "    \n",
        "    # Check range of years\n",
        "    yr_max = 2022\n",
        "    # Some values of GarageYrBlt are corrupt. Fix them by replacing them with the YearBuilt\n",
        "    df.GarageYrBlt = np.where(df.GarageYrBlt > yr_max, df.YearBuilt, df.GarageYrBlt)\n",
        "    assert df.YearBuilt.max() < yr_max and df.YearBuilt.min() > 1800, 'Check YearBuilt min() and max()'\n",
        "    assert df.YearRemodAdd.max() < yr_max and df.YearRemodAdd.min() > 1900, 'Check YearRemodAdd min() and max()'\n",
        "    assert df.YrSold.max() < yr_max and df.YrSold.min() > 2000, 'Check YrSold min() and max()'\n",
        "    assert df.GarageYrBlt.max() < yr_max and df.GarageYrBlt.min() >= 0, 'Check GarageYrBlt min() and max()'\n",
        "    \n",
        "    # Check values of ordinal catagorical variables\n",
        "    for k in cato.keys():\n",
        "      assert set(df[k].unique()).difference(df[k].cat.categories) == set(), f'Check values of {k}'\n",
        "    \n",
        "    # Check typos in nominal categorical variables\n",
        "    df['Exterior2nd'] = df['Exterior2nd'].replace({'Brk Cmn':'BrkComm', 'CmentBd':'CemntBd', 'Wd Shng':'WdShing'})\n",
        "    # Renew a data type after replacement\n",
        "    df['Exterior2nd'] = df['Exterior2nd'].astype(\"category\")\n",
        "    if \"None\" not in df['Exterior2nd'].cat.categories:\n",
        "        df['Exterior2nd'].cat.add_categories(\"None\", inplace=True)\n",
        "\n",
        "    return df\n",
        "\n",
        "def label_encode(df):\n",
        "    \"\"\"Encode categorical variables using their dtype setting.\"\"\"\n",
        "\n",
        "    X = df.copy()\n",
        "    for colname in X.select_dtypes([\"category\"]):\n",
        "        X[colname] = X[colname].cat.codes\n",
        "    return X\n",
        "\n",
        "# Pre-process data\n",
        "ames = encode_dtypes(ames)\n",
        "ames = impute_missing(ames)\n",
        "ames = clean_data(ames)\n",
        "\n",
        "ames.info()"
      ],
      "execution_count": 7,
      "outputs": [
        {
          "output_type": "stream",
          "name": "stdout",
          "text": [
            "<class 'pandas.core.frame.DataFrame'>\n",
            "Int64Index: 1460 entries, 1 to 1460\n",
            "Data columns (total 80 columns):\n",
            " #   Column         Non-Null Count  Dtype   \n",
            "---  ------         --------------  -----   \n",
            " 0   MSSubClass     1460 non-null   category\n",
            " 1   MSZoning       1460 non-null   category\n",
            " 2   LotFrontage    1460 non-null   float64 \n",
            " 3   LotArea        1460 non-null   int64   \n",
            " 4   Street         1460 non-null   category\n",
            " 5   Alley          1460 non-null   category\n",
            " 6   LotShape       1460 non-null   category\n",
            " 7   LandContour    1460 non-null   category\n",
            " 8   Utilities      1460 non-null   category\n",
            " 9   LotConfig      1460 non-null   category\n",
            " 10  LandSlope      1460 non-null   category\n",
            " 11  Neighborhood   1460 non-null   category\n",
            " 12  Condition1     1460 non-null   category\n",
            " 13  Condition2     1460 non-null   category\n",
            " 14  BldgType       1460 non-null   category\n",
            " 15  HouseStyle     1460 non-null   category\n",
            " 16  OverallQual    1460 non-null   category\n",
            " 17  OverallCond    1460 non-null   category\n",
            " 18  YearBuilt      1460 non-null   int64   \n",
            " 19  YearRemodAdd   1460 non-null   int64   \n",
            " 20  RoofStyle      1460 non-null   category\n",
            " 21  RoofMatl       1460 non-null   category\n",
            " 22  Exterior1st    1460 non-null   category\n",
            " 23  Exterior2nd    1460 non-null   category\n",
            " 24  MasVnrType     1460 non-null   category\n",
            " 25  MasVnrArea     1460 non-null   float64 \n",
            " 26  ExterQual      1460 non-null   category\n",
            " 27  ExterCond      1460 non-null   category\n",
            " 28  Foundation     1460 non-null   category\n",
            " 29  BsmtQual       1460 non-null   category\n",
            " 30  BsmtCond       1460 non-null   category\n",
            " 31  BsmtExposure   1460 non-null   category\n",
            " 32  BsmtFinType1   1460 non-null   category\n",
            " 33  BsmtFinSF1     1460 non-null   int64   \n",
            " 34  BsmtFinType2   1460 non-null   category\n",
            " 35  BsmtFinSF2     1460 non-null   int64   \n",
            " 36  BsmtUnfSF      1460 non-null   int64   \n",
            " 37  TotalBsmtSF    1460 non-null   int64   \n",
            " 38  Heating        1460 non-null   category\n",
            " 39  HeatingQC      1460 non-null   category\n",
            " 40  CentralAir     1460 non-null   category\n",
            " 41  Electrical     1460 non-null   category\n",
            " 42  1stFlrSF       1460 non-null   int64   \n",
            " 43  2ndFlrSF       1460 non-null   int64   \n",
            " 44  LowQualFinSF   1460 non-null   int64   \n",
            " 45  GrLivArea      1460 non-null   int64   \n",
            " 46  BsmtFullBath   1460 non-null   int64   \n",
            " 47  BsmtHalfBath   1460 non-null   int64   \n",
            " 48  FullBath       1460 non-null   int64   \n",
            " 49  HalfBath       1460 non-null   int64   \n",
            " 50  BedroomAbvGr   1460 non-null   int64   \n",
            " 51  KitchenAbvGr   1460 non-null   int64   \n",
            " 52  KitchenQual    1460 non-null   category\n",
            " 53  TotRmsAbvGrd   1460 non-null   int64   \n",
            " 54  Functional     1460 non-null   category\n",
            " 55  Fireplaces     1460 non-null   int64   \n",
            " 56  FireplaceQu    1460 non-null   category\n",
            " 57  GarageType     1460 non-null   category\n",
            " 58  GarageYrBlt    1460 non-null   float64 \n",
            " 59  GarageFinish   1460 non-null   category\n",
            " 60  GarageCars     1460 non-null   int64   \n",
            " 61  GarageArea     1460 non-null   int64   \n",
            " 62  GarageQual     1460 non-null   category\n",
            " 63  GarageCond     1460 non-null   category\n",
            " 64  PavedDrive     1460 non-null   category\n",
            " 65  WoodDeckSF     1460 non-null   int64   \n",
            " 66  OpenPorchSF    1460 non-null   int64   \n",
            " 67  EnclosedPorch  1460 non-null   int64   \n",
            " 68  3SsnPorch      1460 non-null   int64   \n",
            " 69  ScreenPorch    1460 non-null   int64   \n",
            " 70  PoolArea       1460 non-null   int64   \n",
            " 71  PoolQC         1460 non-null   category\n",
            " 72  Fence          1460 non-null   category\n",
            " 73  MiscFeature    1460 non-null   category\n",
            " 74  MiscVal        1460 non-null   int64   \n",
            " 75  MoSold         1460 non-null   int64   \n",
            " 76  YrSold         1460 non-null   int64   \n",
            " 77  SaleType       1460 non-null   category\n",
            " 78  SaleCondition  1460 non-null   category\n",
            " 79  SalePrice      1460 non-null   int64   \n",
            "dtypes: category(46), float64(3), int64(31)\n",
            "memory usage: 479.3 KB\n"
          ]
        }
      ]
    },
    {
      "cell_type": "markdown",
      "metadata": {
        "id": "Mp7YadaNT0HF"
      },
      "source": [
        "### What is the structure of the Ames Housing dataset?\n",
        "\n",
        "The data set contains 1460 observations and a large number of explanatory variables (23 nominal, 23 ordinal, 14 discrete, and 20 continuous) involved in assessing home values. These 79 explanatory variables plus one response variable (SalePrice) describe almost every aspect of residential homes in Ames, Iowa. The Ames Housing dataset was originally compiled by Dean De Cock for use in data science education. \n",
        "\n",
        "### What is the main feature of interest in the Ames Housing dataset?\n",
        "\n",
        "The response variable of our interest is *SalePrice*.\n",
        "\n",
        "### What features in the dataset do we think will help support our investigation into the price of houses?\n",
        "\n",
        "We can define three possible sub-sets of our explanatory variables: building, space, and location. By 'building' we mean a variable that relates to the physical characterization of the building (e.g. *OverallQual*). By 'space' we mean a variable that reports space properties of the house (e.g. *TotalBsmtSF*). Finally, by 'location', we mean a variable that gives information about the place where the house is located (e.g. *Neighbourhood*). We expect that the key drivers of *SalePrice* are:\n",
        "\n",
        "Variable | Sub-Set | Description\n",
        "-|-|-\n",
        "GrLivArea | space | Above grade (ground) living area square feet\n",
        "GarageArea | space | Size of garage in square feet\n",
        "TotalBsmtSF | space | Total square feet of basement area\n",
        "YearRemodAdd | building | Remodel date (same as construction date if no remodeling or additions\n",
        "OverallQual | building | Rates the overall material and finish of the house\n"
      ]
    },
    {
      "cell_type": "markdown",
      "metadata": {
        "id": "LOnqKzkoT0HF"
      },
      "source": [
        "## Univariate Exploration\n",
        "\n",
        "> In this section, investigate distributions of individual variables. If\n",
        "you see unusual points or outliers, take a deeper look to clean things up\n",
        "and prepare yourself to look at relationships between variables.\n",
        "\n",
        "\n",
        "> **Rubric Tip**: The project (Parts I alone) should have at least 15 visualizations distributed over univariate, bivariate, and multivariate plots to explore many relationships in the data set.  Use reasoning to justify the flow of the exploration.\n",
        "\n",
        "\n",
        "\n",
        ">**Rubric Tip**: Use the \"Question-Visualization-Observations\" framework  throughout the exploration. This framework involves **asking a question from the data, creating a visualization to find answers, and then recording observations after each visualisation.** \n"
      ]
    },
    {
      "cell_type": "markdown",
      "metadata": {
        "id": "5h5HIsOlT0HG"
      },
      "source": [
        "\n",
        "\n",
        ">**Rubric Tip**: Visualizations should depict the data appropriately so that the plots are easily interpretable. You should choose an appropriate plot type, data encodings, and formatting as needed. The formatting may include setting/adding the title, labels, legend, and comments. Also, do not overplot or incorrectly plot ordinal data."
      ]
    },
    {
      "cell_type": "markdown",
      "metadata": {
        "id": "9UXyFs4pT0HH"
      },
      "source": [
        "### Discuss the distribution(s) of your variable(s) of interest. Were there any unusual points? Did you need to perform any transformations?\n",
        "\n",
        "> Your answer here!\n",
        "\n"
      ]
    },
    {
      "cell_type": "code",
      "metadata": {
        "colab": {
          "base_uri": "https://localhost:8080/",
          "height": 404
        },
        "id": "rbCJjGFIXBr6",
        "outputId": "ef7c92f8-b0ba-4a4c-d238-2240eb18c8a5"
      },
      "source": [
        "fig, axs = plt.subplots(1, 2, figsize=[16,5])\n",
        "sns.histplot(data=ames, x='SalePrice', ax=axs[0])\n",
        "axs[0].set_title('Histogram of SalePrice')\n",
        "sns.distplot(ames['SalePrice'], ax=axs[1])\n",
        "axs[1].set_title('Density Function of SalePrice');"
      ],
      "execution_count": 15,
      "outputs": [
        {
          "output_type": "stream",
          "name": "stderr",
          "text": [
            "/usr/local/lib/python3.7/dist-packages/seaborn/distributions.py:2619: FutureWarning: `distplot` is a deprecated function and will be removed in a future version. Please adapt your code to use either `displot` (a figure-level function with similar flexibility) or `histplot` (an axes-level function for histograms).\n",
            "  warnings.warn(msg, FutureWarning)\n"
          ]
        },
        {
          "output_type": "display_data",
          "data": {
            "image/png": "[encoded data removed]",
            "text/plain": [
              "<Figure size 1152x360 with 2 Axes>"
            ]
          },
          "metadata": {
            "needs_background": "light"
          }
        }
      ]
    },
    {
      "cell_type": "code",
      "metadata": {
        "id": "6rxxFjnGT0HG"
      },
      "source": [
        "ames['logSalePrice'] = ames.SalePrice.apply(np.log10)"
      ],
      "execution_count": 16,
      "outputs": []
    },
    {
      "cell_type": "code",
      "metadata": {
        "colab": {
          "base_uri": "https://localhost:8080/",
          "height": 404
        },
        "id": "f2b9kD4um15W",
        "outputId": "943d4f81-bcb7-45ab-b4c6-4b273dde8b54"
      },
      "source": [
        "fig, axs = plt.subplots(1, 2, figsize=[16,5])\n",
        "sns.histplot(data=ames, x='logSalePrice', ax=axs[0])\n",
        "axs[0].set_title('Histogram of SalePrice After Log Transformation')\n",
        "sns.distplot(ames['logSalePrice'], ax=axs[1])\n",
        "axs[1].set_title('Density Function of SalePrice After Log Transformation');"
      ],
      "execution_count": 17,
      "outputs": [
        {
          "output_type": "stream",
          "name": "stderr",
          "text": [
            "/usr/local/lib/python3.7/dist-packages/seaborn/distributions.py:2619: FutureWarning: `distplot` is a deprecated function and will be removed in a future version. Please adapt your code to use either `displot` (a figure-level function with similar flexibility) or `histplot` (an axes-level function for histograms).\n",
            "  warnings.warn(msg, FutureWarning)\n"
          ]
        },
        {
          "output_type": "display_data",
          "data": {
            "image/png": "[encoded data removed]",
            "text/plain": [
              "<Figure size 1152x360 with 2 Axes>"
            ]
          },
          "metadata": {
            "needs_background": "light"
          }
        }
      ]
    },
    {
      "cell_type": "markdown",
      "metadata": {
        "id": "MomHtACOnftm"
      },
      "source": [
        "### Of the features you investigated, were there any unusual distributions? Did you perform any operations on the data to tidy, adjust, or change the form of the data? If so, why did you do this?\n",
        "\n",
        "> Your answer here!"
      ]
    },
    {
      "cell_type": "code",
      "metadata": {
        "id": "6y5Cm4Z1m12e"
      },
      "source": [
        ""
      ],
      "execution_count": null,
      "outputs": []
    },
    {
      "cell_type": "markdown",
      "metadata": {
        "id": "qIL0wqp_T0HI"
      },
      "source": [
        "## Bivariate Exploration\n",
        "\n",
        "> In this section, investigate relationships between pairs of variables in your\n",
        "data. Make sure the variables that you cover here have been introduced in some\n",
        "fashion in the previous section (univariate exploration)."
      ]
    },
    {
      "cell_type": "code",
      "metadata": {
        "id": "DsGdKfSXT0HI"
      },
      "source": [
        ""
      ],
      "execution_count": null,
      "outputs": []
    },
    {
      "cell_type": "markdown",
      "metadata": {
        "id": "SNG2ekvhT0HI"
      },
      "source": [
        "### Talk about some of the relationships you observed in this part of the investigation. How did the feature(s) of interest vary with other features in the dataset?\n",
        "\n",
        "> Your answer here!\n",
        "\n",
        "### Did you observe any interesting relationships between the other features (not the main feature(s) of interest)?\n",
        "\n",
        "> Your answer here!"
      ]
    },
    {
      "cell_type": "markdown",
      "metadata": {
        "id": "NvnnO9avT0HJ"
      },
      "source": [
        "## Multivariate Exploration\n",
        "\n",
        "> Create plots of three or more variables to investigate your data even\n",
        "further. Make sure that your investigations are justified, and follow from\n",
        "your work in the previous sections."
      ]
    },
    {
      "cell_type": "code",
      "metadata": {
        "id": "qAtHMA4JT0HJ"
      },
      "source": [
        ""
      ],
      "execution_count": null,
      "outputs": []
    },
    {
      "cell_type": "markdown",
      "metadata": {
        "id": "Fb8EuKbHT0HJ"
      },
      "source": [
        "### Talk about some of the relationships you observed in this part of the investigation. Were there features that strengthened each other in terms of looking at your feature(s) of interest?\n",
        "\n",
        "> Your answer here!\n",
        "\n",
        "### Were there any interesting or surprising interactions between features?\n",
        "\n",
        "> Your answer here!"
      ]
    },
    {
      "cell_type": "markdown",
      "metadata": {
        "id": "2fEARmLPT0HJ"
      },
      "source": [
        "## Conclusions\n",
        ">You can write a summary of the main findings and reflect on the steps taken during the data exploration.\n"
      ]
    },
    {
      "cell_type": "markdown",
      "metadata": {
        "id": "vmmGepsvT0HJ"
      },
      "source": [
        "\n",
        "> Remove all Tips mentioned above, before you convert this notebook to PDF/HTML\n",
        "\n",
        "\n",
        "> At the end of your report, make sure that you export the notebook as an\n",
        "html file from the `File > Download as... > HTML or PDF` menu. Make sure you keep\n",
        "track of where the exported file goes, so you can put it in the same folder\n",
        "as this notebook for project submission. Also, make sure you remove all of\n",
        "the quote-formatted guide notes like this one before you finish your report!\n",
        "\n"
      ]
    },
    {
      "cell_type": "code",
      "metadata": {
        "id": "ISVkjT4xT0HK"
      },
      "source": [
        ""
      ],
      "execution_count": null,
      "outputs": []
    }
  ]
}