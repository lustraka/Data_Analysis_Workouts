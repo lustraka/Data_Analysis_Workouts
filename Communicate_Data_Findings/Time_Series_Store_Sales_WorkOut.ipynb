{
  "nbformat": 4,
  "nbformat_minor": 0,
  "metadata": {
    "colab": {
      "name": "ISL01_Statistical_Learning.ipynb",
      "provenance": [],
      "authorship_tag": "ABX9TyNeu11cP9Z6frFs6QLxbOhZ",
      "include_colab_link": true
    },
    "kernelspec": {
      "name": "python3",
      "display_name": "Python 3"
    },
    "language_info": {
      "name": "python"
    }
  },
  "cells": [
    {
      "cell_type": "markdown",
      "metadata": {
        "id": "view-in-github",
        "colab_type": "text"
      },
      "source": [
        "<a href=\"https://colab.research.google.com/github/lustraka/Data_Analysis_Workouts/blob/main/Communicate_Data_Findings/Time_Series_Store_Sales_WorkOut.ipynb\" target=\"_parent\"><img src=\"https://colab.research.google.com/assets/colab-badge.svg\" alt=\"Open In Colab\"/></a>"
      ]
    },
    {
      "cell_type": "markdown",
      "metadata": {
        "id": "GiJGevROUcNR"
      },
      "source": [
        "# Store Sales - Time Series Forecasting\n",
        "**Use machine learning to predict grocery sales**\n",
        "\n",
        "[Kaggle Competition](https://www.kaggle.com/c/store-sales-time-series-forecasting/overview)"
      ]
    },
    {
      "cell_type": "code",
      "metadata": {
        "id": "IPQQgUtrivAY",
        "outputId": "1ae39c5d-147d-461f-fd17-73d395d08b5f",
        "colab": {
          "base_uri": "https://localhost:8080/"
        }
      },
      "source": [
        "import os\n",
        "# Set the environment variables\n",
        "os.environ['KAGGLE_USERNAME'] = \"lubomrstraka\"\n",
        "os.environ['KAGGLE_KEY'] = \"c7347462ef834e6645ce238c2f2fa561\"\n",
        "\n",
        "# Upgrade kaggle library\n",
        "os.system(\"pip install kaggle --upgrade --quiet\")\n",
        "\n",
        "# Download datasets\n",
        "os.system(\"kaggle competitions download -c store-sales-time-series-forecasting --quiet\")"
      ],
      "execution_count": 2,
      "outputs": [
        {
          "output_type": "stream",
          "name": "stdout",
          "text": [
            "Warning: Looks like you're using an outdated API Version, please consider updating (server 1.5.12 / client 1.5.4)\n",
            "Downloading test.csv.zip to /content\n",
            "  0% 0.00/135k [00:00<?, ?B/s]\n",
            "100% 135k/135k [00:00<00:00, 44.1MB/s]\n",
            "Downloading holidays_events.csv to /content\n",
            "  0% 0.00/21.8k [00:00<?, ?B/s]\n",
            "100% 21.8k/21.8k [00:00<00:00, 21.7MB/s]\n",
            "Downloading sample_submission.csv to /content\n",
            "  0% 0.00/334k [00:00<?, ?B/s]\n",
            "100% 334k/334k [00:00<00:00, 46.0MB/s]\n",
            "Downloading transactions.csv.zip to /content\n",
            "  0% 0.00/360k [00:00<?, ?B/s]\n",
            "100% 360k/360k [00:00<00:00, 50.8MB/s]\n",
            "Downloading oil.csv to /content\n",
            "  0% 0.00/20.1k [00:00<?, ?B/s]\n",
            "100% 20.1k/20.1k [00:00<00:00, 22.6MB/s]\n",
            "Downloading stores.csv to /content\n",
            "  0% 0.00/1.35k [00:00<?, ?B/s]\n",
            "100% 1.35k/1.35k [00:00<00:00, 1.37MB/s]\n",
            "Downloading train.csv.zip to /content\n",
            " 58% 13.0M/22.5M [00:00<00:00, 132MB/s]\n",
            "100% 22.5M/22.5M [00:00<00:00, 143MB/s]\n"
          ]
        }
      ]
    },
    {
      "cell_type": "code",
      "metadata": {
        "id": "4mrjqs3YU1L7"
      },
      "source": [
        "import zipfile\n",
        "# Extract train.csv\n",
        "with zipfile.ZipFile('train.csv.zip') as archive:\n",
        "  archive.extractall()"
      ],
      "execution_count": 3,
      "outputs": []
    },
    {
      "cell_type": "code",
      "metadata": {
        "id": "j68XS7QwWz1b"
      },
      "source": [
        "# Import dependencies\n",
        "import pandas as pd\n",
        "import numpy as np\n",
        "import matplotlib.pyplot as plt\n",
        "import seaborn as sns"
      ],
      "execution_count": 5,
      "outputs": []
    },
    {
      "cell_type": "code",
      "metadata": {
        "id": "kSpQtoPoWWqm",
        "outputId": "9238d771-3969-4058-e919-27c8c26c6da6",
        "colab": {
          "base_uri": "https://localhost:8080/"
        }
      },
      "source": [
        "dtype = {'store_nbr': 'category', 'family': 'category', 'sales': 'float32', 'onpromotion': 'uint64'}\n",
        "store_sales = pd.read_csv('train.csv', dtype=dtype, parse_dates=['date'], infer_datetime_format=True)\n",
        "store_sales.head()"
      ],
      "execution_count": 10,
      "outputs": [
        {
          "output_type": "stream",
          "name": "stdout",
          "text": [
            "<class 'pandas.core.frame.DataFrame'>\n",
            "RangeIndex: 3000888 entries, 0 to 3000887\n",
            "Data columns (total 6 columns):\n",
            " #   Column       Dtype         \n",
            "---  ------       -----         \n",
            " 0   id           int64         \n",
            " 1   date         datetime64[ns]\n",
            " 2   store_nbr    category      \n",
            " 3   family       category      \n",
            " 4   sales        float32       \n",
            " 5   onpromotion  uint64        \n",
            "dtypes: category(2), datetime64[ns](1), float32(1), int64(1), uint64(1)\n",
            "memory usage: 85.9 MB\n"
          ]
        }
      ]
    },
    {
      "cell_type": "markdown",
      "metadata": {
        "id": "xVzssLghXxCB"
      },
      "source": [
        "**A Data Set Description**\n",
        "\n",
        "| # | Variable | Non-Null | Nunique | Dtype | Notes |\n",
        "|---|----------|----------|---------|-------|-------|\n",
        "| 0 | id | 3000888 | 3000888 | int64 | |\n",
        "| 1 | date | 3000888 | 1684 | datetime64[ns] | |\n",
        "| 2 | store_nbr | 3000888 | 54 | category | Identifies the store at which the products are sold. |\n",
        "| 3 | family | 3000888 | 33 | category | Identifies the type of product sold. |\n",
        "| 4 | sales | 3000888 | 379610 | float32 | Gives the total sales for a product family at a particular store at a given date. <br/>Fractional values are possible since products can be sold in fractional units <br/>(1.5 kg of cheese, for instance, as opposed to 1 bag of chips). |\n",
        "| 5 | onpromotion | 3000888 | 991 | uint64 | Gives the total number of items in a product family that were being promoted at a store at a given date.|\n",
        "\n",
        "Memory usage of `store_sales`:\n",
        "- 137.4+ MB before applying the dict *dtype*\n",
        "- 85.9+ MB after applying the dict *dtype*"
      ]
    },
    {
      "cell_type": "code",
      "metadata": {
        "id": "4lyQJ5bEWw-9",
        "outputId": "b1dded4b-4d69-463d-b34e-f4fcc922aace",
        "colab": {
          "base_uri": "https://localhost:8080/",
          "height": 204
        }
      },
      "source": [
        ""
      ],
      "execution_count": 11,
      "outputs": [
        {
          "output_type": "execute_result",
          "data": {
            "text/html": [
              "<div>\n",
              "<style scoped>\n",
              "    .dataframe tbody tr th:only-of-type {\n",
              "        vertical-align: middle;\n",
              "    }\n",
              "\n",
              "    .dataframe tbody tr th {\n",
              "        vertical-align: top;\n",
              "    }\n",
              "\n",
              "    .dataframe thead th {\n",
              "        text-align: right;\n",
              "    }\n",
              "</style>\n",
              "<table border=\"1\" class=\"dataframe\">\n",
              "  <thead>\n",
              "    <tr style=\"text-align: right;\">\n",
              "      <th></th>\n",
              "      <th>id</th>\n",
              "      <th>date</th>\n",
              "      <th>store_nbr</th>\n",
              "      <th>family</th>\n",
              "      <th>sales</th>\n",
              "      <th>onpromotion</th>\n",
              "    </tr>\n",
              "  </thead>\n",
              "  <tbody>\n",
              "    <tr>\n",
              "      <th>0</th>\n",
              "      <td>0</td>\n",
              "      <td>2013-01-01</td>\n",
              "      <td>1</td>\n",
              "      <td>AUTOMOTIVE</td>\n",
              "      <td>0.0</td>\n",
              "      <td>0</td>\n",
              "    </tr>\n",
              "    <tr>\n",
              "      <th>1</th>\n",
              "      <td>1</td>\n",
              "      <td>2013-01-01</td>\n",
              "      <td>1</td>\n",
              "      <td>BABY CARE</td>\n",
              "      <td>0.0</td>\n",
              "      <td>0</td>\n",
              "    </tr>\n",
              "    <tr>\n",
              "      <th>2</th>\n",
              "      <td>2</td>\n",
              "      <td>2013-01-01</td>\n",
              "      <td>1</td>\n",
              "      <td>BEAUTY</td>\n",
              "      <td>0.0</td>\n",
              "      <td>0</td>\n",
              "    </tr>\n",
              "    <tr>\n",
              "      <th>3</th>\n",
              "      <td>3</td>\n",
              "      <td>2013-01-01</td>\n",
              "      <td>1</td>\n",
              "      <td>BEVERAGES</td>\n",
              "      <td>0.0</td>\n",
              "      <td>0</td>\n",
              "    </tr>\n",
              "    <tr>\n",
              "      <th>4</th>\n",
              "      <td>4</td>\n",
              "      <td>2013-01-01</td>\n",
              "      <td>1</td>\n",
              "      <td>BOOKS</td>\n",
              "      <td>0.0</td>\n",
              "      <td>0</td>\n",
              "    </tr>\n",
              "  </tbody>\n",
              "</table>\n",
              "</div>"
            ],
            "text/plain": [
              "   id       date store_nbr      family  sales  onpromotion\n",
              "0   0 2013-01-01         1  AUTOMOTIVE    0.0            0\n",
              "1   1 2013-01-01         1   BABY CARE    0.0            0\n",
              "2   2 2013-01-01         1      BEAUTY    0.0            0\n",
              "3   3 2013-01-01         1   BEVERAGES    0.0            0\n",
              "4   4 2013-01-01         1       BOOKS    0.0            0"
            ]
          },
          "metadata": {},
          "execution_count": 11
        }
      ]
    },
    {
      "cell_type": "code",
      "metadata": {
        "id": "hmr3tMbkXKQD"
      },
      "source": [
        ""
      ],
      "execution_count": null,
      "outputs": []
    }
  ]
}