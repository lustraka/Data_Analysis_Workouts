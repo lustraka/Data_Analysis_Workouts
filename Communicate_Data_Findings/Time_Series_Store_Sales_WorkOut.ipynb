{
  "nbformat": 4,
  "nbformat_minor": 0,
  "metadata": {
    "colab": {
      "name": "Time_Series_Store_Sales_WorkOut.ipynb",
      "provenance": [],
      "authorship_tag": "ABX9TyNx/eZdrPwxpKoX1a8LKlZL",
      "include_colab_link": true
    },
    "kernelspec": {
      "name": "python3",
      "display_name": "Python 3"
    },
    "language_info": {
      "name": "python"
    }
  },
  "cells": [
    {
      "cell_type": "markdown",
      "metadata": {
        "id": "view-in-github",
        "colab_type": "text"
      },
      "source": [
        "<a href=\"https://colab.research.google.com/github/lustraka/Data_Analysis_Workouts/blob/main/Communicate_Data_Findings/Time_Series_Store_Sales_WorkOut.ipynb\" target=\"_parent\"><img src=\"https://colab.research.google.com/assets/colab-badge.svg\" alt=\"Open In Colab\"/></a>"
      ]
    },
    {
      "cell_type": "markdown",
      "metadata": {
        "id": "GiJGevROUcNR"
      },
      "source": [
        "# Store Sales - Time Series Forecasting\n",
        "**Use machine learning to predict grocery sales**\n",
        "\n",
        "[Kaggle Competition](https://www.kaggle.com/c/store-sales-time-series-forecasting/overview)\n",
        "\n",
        "The basic object of forecasting is the **time series**, which is a set of observations recorded over time. In forecasting applications, the observations are typically recorded with a regular frequency, like daily or monthly."
      ]
    },
    {
      "cell_type": "code",
      "metadata": {
        "id": "IPQQgUtrivAY",
        "colab": {
          "base_uri": "https://localhost:8080/"
        },
        "outputId": "8c2d653f-44a1-49e3-b7d0-49556c8e7de0"
      },
      "source": [
        "import os\n",
        "# Set the environment variables\n",
        "os.environ['KAGGLE_USERNAME'] = \"lubomrstraka\"\n",
        "os.environ['KAGGLE_KEY'] = \"c7347462ef834e6645ce238c2f2fa561\"\n",
        "\n",
        "# Upgrade kaggle library\n",
        "os.system(\"pip install kaggle --upgrade --quiet\")\n",
        "\n",
        "# Download datasets\n",
        "os.system(\"kaggle competitions download -c store-sales-time-series-forecasting --quiet\")"
      ],
      "execution_count": 1,
      "outputs": [
        {
          "output_type": "execute_result",
          "data": {
            "text/plain": [
              "0"
            ]
          },
          "metadata": {},
          "execution_count": 1
        }
      ]
    },
    {
      "cell_type": "code",
      "metadata": {
        "id": "4mrjqs3YU1L7"
      },
      "source": [
        "import zipfile\n",
        "# Extract train.csv\n",
        "with zipfile.ZipFile('train.csv.zip') as archive:\n",
        "  archive.extractall()"
      ],
      "execution_count": 2,
      "outputs": []
    },
    {
      "cell_type": "code",
      "metadata": {
        "id": "j68XS7QwWz1b",
        "colab": {
          "base_uri": "https://localhost:8080/"
        },
        "outputId": "dd9a1eb2-b17a-46a6-87f2-d2a5f16c1e62"
      },
      "source": [
        "# Import dependencies\n",
        "import pandas as pd\n",
        "import numpy as np\n",
        "import matplotlib.pyplot as plt\n",
        "import seaborn as sns\n",
        "\n",
        "import statsmodels.formula.api as smf\n",
        "from sklearn.linear_model import LinearRegression"
      ],
      "execution_count": 3,
      "outputs": [
        {
          "output_type": "stream",
          "name": "stderr",
          "text": [
            "/usr/local/lib/python3.7/dist-packages/statsmodels/tools/_testing.py:19: FutureWarning: pandas.util.testing is deprecated. Use the functions in the public API at pandas.testing instead.\n",
            "  import pandas.util.testing as tm\n"
          ]
        }
      ]
    },
    {
      "cell_type": "code",
      "metadata": {
        "id": "kSpQtoPoWWqm",
        "colab": {
          "base_uri": "https://localhost:8080/",
          "height": 289
        },
        "outputId": "3a7e2dda-c9d0-4baa-b08a-73fa4684afa2"
      },
      "source": [
        "dtype = {'store_nbr': 'category', 'family': 'category', 'sales': 'float32', 'onpromotion': 'uint64'}\n",
        "store_sales = pd.read_csv('train.csv', index_col=0, dtype=dtype, parse_dates=['date'], infer_datetime_format=True)\n",
        "store_sales.sample(5)"
      ],
      "execution_count": 4,
      "outputs": [
        {
          "output_type": "stream",
          "name": "stderr",
          "text": [
            "/usr/local/lib/python3.7/dist-packages/numpy/lib/arraysetops.py:580: FutureWarning: elementwise comparison failed; returning scalar instead, but in the future will perform elementwise comparison\n",
            "  mask |= (ar1 == a)\n"
          ]
        },
        {
          "output_type": "execute_result",
          "data": {
            "text/html": [
              "<div>\n",
              "<style scoped>\n",
              "    .dataframe tbody tr th:only-of-type {\n",
              "        vertical-align: middle;\n",
              "    }\n",
              "\n",
              "    .dataframe tbody tr th {\n",
              "        vertical-align: top;\n",
              "    }\n",
              "\n",
              "    .dataframe thead th {\n",
              "        text-align: right;\n",
              "    }\n",
              "</style>\n",
              "<table border=\"1\" class=\"dataframe\">\n",
              "  <thead>\n",
              "    <tr style=\"text-align: right;\">\n",
              "      <th></th>\n",
              "      <th>date</th>\n",
              "      <th>store_nbr</th>\n",
              "      <th>family</th>\n",
              "      <th>sales</th>\n",
              "      <th>onpromotion</th>\n",
              "    </tr>\n",
              "    <tr>\n",
              "      <th>id</th>\n",
              "      <th></th>\n",
              "      <th></th>\n",
              "      <th></th>\n",
              "      <th></th>\n",
              "      <th></th>\n",
              "    </tr>\n",
              "  </thead>\n",
              "  <tbody>\n",
              "    <tr>\n",
              "      <th>1966085</th>\n",
              "      <td>2016-01-12</td>\n",
              "      <td>24</td>\n",
              "      <td>FROZEN FOODS</td>\n",
              "      <td>146.367996</td>\n",
              "      <td>27</td>\n",
              "    </tr>\n",
              "    <tr>\n",
              "      <th>709248</th>\n",
              "      <td>2014-02-04</td>\n",
              "      <td>1</td>\n",
              "      <td>GROCERY I</td>\n",
              "      <td>1917.000000</td>\n",
              "      <td>0</td>\n",
              "    </tr>\n",
              "    <tr>\n",
              "      <th>2804102</th>\n",
              "      <td>2017-04-27</td>\n",
              "      <td>37</td>\n",
              "      <td>PET SUPPLIES</td>\n",
              "      <td>8.000000</td>\n",
              "      <td>7</td>\n",
              "    </tr>\n",
              "    <tr>\n",
              "      <th>1082708</th>\n",
              "      <td>2014-09-01</td>\n",
              "      <td>38</td>\n",
              "      <td>FROZEN FOODS</td>\n",
              "      <td>188.949005</td>\n",
              "      <td>27</td>\n",
              "    </tr>\n",
              "    <tr>\n",
              "      <th>1814735</th>\n",
              "      <td>2015-10-18</td>\n",
              "      <td>27</td>\n",
              "      <td>SEAFOOD</td>\n",
              "      <td>38.182999</td>\n",
              "      <td>5</td>\n",
              "    </tr>\n",
              "  </tbody>\n",
              "</table>\n",
              "</div>"
            ],
            "text/plain": [
              "              date store_nbr        family        sales  onpromotion\n",
              "id                                                                  \n",
              "1966085 2016-01-12        24  FROZEN FOODS   146.367996           27\n",
              "709248  2014-02-04         1     GROCERY I  1917.000000            0\n",
              "2804102 2017-04-27        37  PET SUPPLIES     8.000000            7\n",
              "1082708 2014-09-01        38  FROZEN FOODS   188.949005           27\n",
              "1814735 2015-10-18        27       SEAFOOD    38.182999            5"
            ]
          },
          "metadata": {},
          "execution_count": 4
        }
      ]
    },
    {
      "cell_type": "markdown",
      "metadata": {
        "id": "xVzssLghXxCB"
      },
      "source": [
        "**A Data Set Description**\n",
        "\n",
        "A `store_sales` data set contains data for thousands of product families sold at Corporación Favorita, a large Ecuadorian-based grocery retailer. The data set includes dates, store and product information, whether that item was being promoted, as well as the sales numbers. Additional files include supplementary information that may be useful in extracting knowledge and building forecasting models.\n",
        "\n",
        "| # | Variable | Non-Null | Nunique | Dtype | Notes |\n",
        "|---|----------|----------|---------|-------|-------|\n",
        "| 0 | id | 3000888 | 3000888 | int64 | Converted to an index. | \n",
        "| 1 | date | 3000888 | 1684 | datetime64[ns] | Observations from 2013-01-01 to 2017-08-15. |\n",
        "| 2 | store_nbr | 3000888 | 54 | category | Identifies the store at which the products are sold. |\n",
        "| 3 | family | 3000888 | 33 | category | Identifies the type of product sold. |\n",
        "| 4 | sales | 3000888 | 379610 | float32 | Gives the total sales for a product family at a particular store at a given date. <br/>Fractional values are possible since products can be sold in fractional units <br/>(1.5 kg of cheese, for instance, as opposed to 1 bag of chips). |\n",
        "| 5 | onpromotion | 3000888 | 991 | uint64 | Gives the total number of items in a product family that were being promoted at a store at a given date.|\n",
        "\n",
        "Memory usage of `store_sales`:\n",
        "- 137.4+ MB before applying the dict *dtype*\n",
        "- 85.9+ MB after applying the dict *dtype*"
      ]
    },
    {
      "cell_type": "code",
      "metadata": {
        "id": "z6GFqMRTk10b",
        "colab": {
          "base_uri": "https://localhost:8080/"
        },
        "outputId": "88a41cbb-8cda-4514-9c27-b726a2f615e2"
      },
      "source": [
        "store_sales.date.min(), store_sales.date.max()"
      ],
      "execution_count": 5,
      "outputs": [
        {
          "output_type": "execute_result",
          "data": {
            "text/plain": [
              "(Timestamp('2013-01-01 00:00:00'), Timestamp('2017-08-15 00:00:00'))"
            ]
          },
          "metadata": {},
          "execution_count": 5
        }
      ]
    },
    {
      "cell_type": "markdown",
      "metadata": {
        "id": "YHfCzC1nkcls"
      },
      "source": [
        "## Analyze Average Sales\n",
        "The *average_sales* variable is derived from the `store_sales` dataframe and identifies the average sales each day."
      ]
    },
    {
      "cell_type": "code",
      "metadata": {
        "id": "4lyQJ5bEWw-9",
        "colab": {
          "base_uri": "https://localhost:8080/",
          "height": 235
        },
        "outputId": "9476e62f-5642-4dfa-b76e-624e0be71014"
      },
      "source": [
        "average_sales = store_sales.groupby('date').mean()['sales'].to_frame()\n",
        "average_sales.head()"
      ],
      "execution_count": 6,
      "outputs": [
        {
          "output_type": "execute_result",
          "data": {
            "text/html": [
              "<div>\n",
              "<style scoped>\n",
              "    .dataframe tbody tr th:only-of-type {\n",
              "        vertical-align: middle;\n",
              "    }\n",
              "\n",
              "    .dataframe tbody tr th {\n",
              "        vertical-align: top;\n",
              "    }\n",
              "\n",
              "    .dataframe thead th {\n",
              "        text-align: right;\n",
              "    }\n",
              "</style>\n",
              "<table border=\"1\" class=\"dataframe\">\n",
              "  <thead>\n",
              "    <tr style=\"text-align: right;\">\n",
              "      <th></th>\n",
              "      <th>sales</th>\n",
              "    </tr>\n",
              "    <tr>\n",
              "      <th>date</th>\n",
              "      <th></th>\n",
              "    </tr>\n",
              "  </thead>\n",
              "  <tbody>\n",
              "    <tr>\n",
              "      <th>2013-01-01</th>\n",
              "      <td>1.409438</td>\n",
              "    </tr>\n",
              "    <tr>\n",
              "      <th>2013-01-02</th>\n",
              "      <td>278.390808</td>\n",
              "    </tr>\n",
              "    <tr>\n",
              "      <th>2013-01-03</th>\n",
              "      <td>202.840195</td>\n",
              "    </tr>\n",
              "    <tr>\n",
              "      <th>2013-01-04</th>\n",
              "      <td>198.911148</td>\n",
              "    </tr>\n",
              "    <tr>\n",
              "      <th>2013-01-05</th>\n",
              "      <td>267.873230</td>\n",
              "    </tr>\n",
              "  </tbody>\n",
              "</table>\n",
              "</div>"
            ],
            "text/plain": [
              "                 sales\n",
              "date                  \n",
              "2013-01-01    1.409438\n",
              "2013-01-02  278.390808\n",
              "2013-01-03  202.840195\n",
              "2013-01-04  198.911148\n",
              "2013-01-05  267.873230"
            ]
          },
          "metadata": {},
          "execution_count": 6
        }
      ]
    },
    {
      "cell_type": "markdown",
      "metadata": {
        "id": "nWFaRH43mQqi"
      },
      "source": [
        "### Fit a Time-Step Feature\n",
        "Time-step features are features we can derive directly from the time index. The most basic time-step feature is the **time dummy**, which counts off time steps in the series from beginning to end."
      ]
    },
    {
      "cell_type": "code",
      "metadata": {
        "id": "M243cnW2mPnD"
      },
      "source": [
        "# Create a time dummy\n",
        "df = average_sales.copy()\n",
        "df['time'] = np.arange(len(df.index))"
      ],
      "execution_count": 7,
      "outputs": []
    },
    {
      "cell_type": "markdown",
      "metadata": {
        "id": "s7n8oQsXo4xz"
      },
      "source": [
        "A **simple linear regression** model estimates coefficients of a least squares line:\n",
        "$$\\hat{y} = \\hat{\\beta}_0 + \\hat{\\beta}_1 x,$$\n",
        "in our case\n",
        "$$\\hat{\\text{sales}} = \\hat{\\text{coef}}_{Intercept} + \\hat{\\text{coef}}_{time} \\times \\text{time}:$$"
      ]
    },
    {
      "cell_type": "code",
      "metadata": {
        "id": "hmr3tMbkXKQD",
        "colab": {
          "base_uri": "https://localhost:8080/"
        },
        "outputId": "443d3284-e3a1-448e-888e-d8ecc4225c9c"
      },
      "source": [
        "lm = smf.ols('sales ~ time', data=df).fit()\n",
        "print(lm.summary())"
      ],
      "execution_count": 8,
      "outputs": [
        {
          "output_type": "stream",
          "name": "stdout",
          "text": [
            "                            OLS Regression Results                            \n",
            "==============================================================================\n",
            "Dep. Variable:                  sales   R-squared:                       0.516\n",
            "Model:                            OLS   Adj. R-squared:                  0.516\n",
            "Method:                 Least Squares   F-statistic:                     1794.\n",
            "Date:                Thu, 21 Oct 2021   Prob (F-statistic):          1.87e-267\n",
            "Time:                        10:09:55   Log-Likelihood:                -9994.5\n",
            "No. Observations:                1684   AIC:                         1.999e+04\n",
            "Df Residuals:                    1682   BIC:                         2.000e+04\n",
            "Df Model:                           1                                         \n",
            "Covariance Type:            nonrobust                                         \n",
            "==============================================================================\n",
            "                 coef    std err          t      P>|t|      [0.025      0.975]\n",
            "------------------------------------------------------------------------------\n",
            "Intercept    194.2328      4.459     43.562      0.000     185.487     202.978\n",
            "time           0.1943      0.005     42.359      0.000       0.185       0.203\n",
            "==============================================================================\n",
            "Omnibus:                      133.081   Durbin-Watson:                   0.961\n",
            "Prob(Omnibus):                  0.000   Jarque-Bera (JB):              181.187\n",
            "Skew:                           0.656   Prob(JB):                     4.53e-40\n",
            "Kurtosis:                       3.929   Cond. No.                     1.94e+03\n",
            "==============================================================================\n",
            "\n",
            "Warnings:\n",
            "[1] Standard Errors assume that the covariance matrix of the errors is correctly specified.\n",
            "[2] The condition number is large, 1.94e+03. This might indicate that there are\n",
            "strong multicollinearity or other numerical problems.\n"
          ]
        }
      ]
    },
    {
      "cell_type": "markdown",
      "metadata": {
        "id": "2HSHwAbnvNWY"
      },
      "source": [
        "Time-step features let us model **time dependence**. A series is time dependent if its values can be predicted from the time they occured. The linear regression of *sales* on *time* shows a relationship with estimation of $\\hat{\\text{coef}}_{time} = 0.1943$ and true value of the slope $\\text{coef}_{time}$ being with $95\\%$ confidence in the interval $[0.185, 0.203]$, so we can expect the sales being in average $0.1943$ unit higher every next day."
      ]
    },
    {
      "cell_type": "code",
      "metadata": {
        "id": "3u2u_9rlq4Wy",
        "colab": {
          "base_uri": "https://localhost:8080/",
          "height": 376
        },
        "outputId": "fcffdf7d-5501-46af-ebaa-408a800fa165"
      },
      "source": [
        "# Prepare training data\n",
        "X = df.loc[:,['time']]\n",
        "y = df['sales']\n",
        "\n",
        "# Train the model\n",
        "model = LinearRegression()\n",
        "model.fit(X, y)\n",
        "\n",
        "# Estimate target\n",
        "y_hat = pd.Series(model.predict(X), X.index)\n",
        "\n",
        "# Plot actual and estimated response\n",
        "fig, ax = plt.subplots(figsize=(11, 5.5))\n",
        "y.plot(style='.', alpha=0.5)\n",
        "y_hat.plot(lw=3)\n",
        "ax.set_title(f'Time Plot of Total Store Sales');\n",
        "\n",
        "print(f'The linear regression model has an intercept {model.intercept_:.4f} and coefficients {model.coef_.round(4)}.\\n')"
      ],
      "execution_count": 9,
      "outputs": [
        {
          "output_type": "stream",
          "name": "stdout",
          "text": [
            "The linear regression model has an intercept 194.2328 and coefficients [0.1943]\n"
          ]
        },
        {
          "output_type": "display_data",
          "data": {
            "image/png": "[encoded data removed]",
            "text/plain": [
              "<Figure size 792x396 with 1 Axes>"
            ]
          },
          "metadata": {
            "needs_background": "light"
          }
        }
      ]
    },
    {
      "cell_type": "markdown",
      "metadata": {
        "id": "zuEkIxxCzeyW"
      },
      "source": [
        "### Lag Features\n",
        "To make a **lag feature** we shift the observations of the target series so that they appear to have occured later in time. Here we've created a 1-step lag feature, though shifting by multiple steps is possible too."
      ]
    },
    {
      "cell_type": "code",
      "metadata": {
        "id": "Xd3AJuQyrDlR",
        "colab": {
          "base_uri": "https://localhost:8080/",
          "height": 235
        },
        "outputId": "d27f4720-0965-4e53-ee89-c4cbc91ced1a"
      },
      "source": [
        "# Create a lag feature from the response variable 'sales'\n",
        "df = average_sales.copy()\n",
        "df['lag_1'] = df.sales.shift(1)\n",
        "df.dropna(inplace=True)\n",
        "df.head()"
      ],
      "execution_count": 10,
      "outputs": [
        {
          "output_type": "execute_result",
          "data": {
            "text/html": [
              "<div>\n",
              "<style scoped>\n",
              "    .dataframe tbody tr th:only-of-type {\n",
              "        vertical-align: middle;\n",
              "    }\n",
              "\n",
              "    .dataframe tbody tr th {\n",
              "        vertical-align: top;\n",
              "    }\n",
              "\n",
              "    .dataframe thead th {\n",
              "        text-align: right;\n",
              "    }\n",
              "</style>\n",
              "<table border=\"1\" class=\"dataframe\">\n",
              "  <thead>\n",
              "    <tr style=\"text-align: right;\">\n",
              "      <th></th>\n",
              "      <th>sales</th>\n",
              "      <th>lag_1</th>\n",
              "    </tr>\n",
              "    <tr>\n",
              "      <th>date</th>\n",
              "      <th></th>\n",
              "      <th></th>\n",
              "    </tr>\n",
              "  </thead>\n",
              "  <tbody>\n",
              "    <tr>\n",
              "      <th>2013-01-02</th>\n",
              "      <td>278.390808</td>\n",
              "      <td>1.409438</td>\n",
              "    </tr>\n",
              "    <tr>\n",
              "      <th>2013-01-03</th>\n",
              "      <td>202.840195</td>\n",
              "      <td>278.390808</td>\n",
              "    </tr>\n",
              "    <tr>\n",
              "      <th>2013-01-04</th>\n",
              "      <td>198.911148</td>\n",
              "      <td>202.840195</td>\n",
              "    </tr>\n",
              "    <tr>\n",
              "      <th>2013-01-05</th>\n",
              "      <td>267.873230</td>\n",
              "      <td>198.911148</td>\n",
              "    </tr>\n",
              "    <tr>\n",
              "      <th>2013-01-06</th>\n",
              "      <td>291.636017</td>\n",
              "      <td>267.873230</td>\n",
              "    </tr>\n",
              "  </tbody>\n",
              "</table>\n",
              "</div>"
            ],
            "text/plain": [
              "                 sales       lag_1\n",
              "date                              \n",
              "2013-01-02  278.390808    1.409438\n",
              "2013-01-03  202.840195  278.390808\n",
              "2013-01-04  198.911148  202.840195\n",
              "2013-01-05  267.873230  198.911148\n",
              "2013-01-06  291.636017  267.873230"
            ]
          },
          "metadata": {},
          "execution_count": 10
        }
      ]
    },
    {
      "cell_type": "markdown",
      "metadata": {
        "id": "BMKSxOak0c3m"
      },
      "source": [
        "Simple linear regression with a lag feature produces the model:\n",
        "$$\\text{sales} = \\hat{\\text{coef}}_{\\text{Intercept}} + \\hat{\\text{coef}}_{\\text{lag_1}} \\times \\text{lag_1}:$$"
      ]
    },
    {
      "cell_type": "code",
      "metadata": {
        "id": "WckZaP0S0S_X",
        "colab": {
          "base_uri": "https://localhost:8080/"
        },
        "outputId": "f8279d36-706e-44be-c4c2-669b77eec7f4"
      },
      "source": [
        "lm = smf.ols('sales ~ lag_1', data=df).fit()\n",
        "print(lm.summary())"
      ],
      "execution_count": 11,
      "outputs": [
        {
          "output_type": "stream",
          "name": "stdout",
          "text": [
            "                            OLS Regression Results                            \n",
            "==============================================================================\n",
            "Dep. Variable:                  sales   R-squared:                       0.588\n",
            "Model:                            OLS   Adj. R-squared:                  0.588\n",
            "Method:                 Least Squares   F-statistic:                     2400.\n",
            "Date:                Thu, 21 Oct 2021   Prob (F-statistic):               0.00\n",
            "Time:                        10:09:55   Log-Likelihood:                -9849.9\n",
            "No. Observations:                1683   AIC:                         1.970e+04\n",
            "Df Residuals:                    1681   BIC:                         1.971e+04\n",
            "Df Model:                           1                                         \n",
            "Covariance Type:            nonrobust                                         \n",
            "==============================================================================\n",
            "                 coef    std err          t      P>|t|      [0.025      0.975]\n",
            "------------------------------------------------------------------------------\n",
            "Intercept     84.2231      5.954     14.146      0.000      72.546      95.901\n",
            "lag_1          0.7653      0.016     48.992      0.000       0.735       0.796\n",
            "==============================================================================\n",
            "Omnibus:                      262.708   Durbin-Watson:                   1.901\n",
            "Prob(Omnibus):                  0.000   Jarque-Bera (JB):             2066.766\n",
            "Skew:                           0.488   Prob(JB):                         0.00\n",
            "Kurtosis:                       8.341   Cond. No.                     1.10e+03\n",
            "==============================================================================\n",
            "\n",
            "Warnings:\n",
            "[1] Standard Errors assume that the covariance matrix of the errors is correctly specified.\n",
            "[2] The condition number is large, 1.1e+03. This might indicate that there are\n",
            "strong multicollinearity or other numerical problems.\n"
          ]
        }
      ]
    },
    {
      "cell_type": "markdown",
      "metadata": {
        "id": "UYxclN6m26bu"
      },
      "source": [
        "We can expect from the lag plot that a unit sale increase one day will be followed with $\\hat{\\text{coef}}_{\\text{lag_1}} = 0.7653$ unit higher increase the next day in average. The true value of the linear regression line's slope is with $95\\%$ confidence in the interval $[0.735, 0.796]$"
      ]
    },
    {
      "cell_type": "markdown",
      "metadata": {
        "id": "jVhDOsSz2b22"
      },
      "source": [
        "Lag features let us fit curves to *lag plots* where each observation in a series is plotted against the previous observation:"
      ]
    },
    {
      "cell_type": "code",
      "metadata": {
        "id": "zOXuICyV9rdj",
        "colab": {
          "base_uri": "https://localhost:8080/",
          "height": 313
        },
        "outputId": "eb194ca4-bf79-4839-acc5-d060653e9411"
      },
      "source": [
        "# Prepare training data\n",
        "X = df.loc[:,['lag_1']]\n",
        "y = df['sales']\n",
        "\n",
        "# Train the model\n",
        "model = LinearRegression()\n",
        "model.fit(X, y)\n",
        "\n",
        "# Estimate target\n",
        "y_hat = pd.Series(model.predict(X), X.index)\n",
        "\n",
        "# Plot actual and predicted variables\n",
        "fig, ax = plt.subplots()\n",
        "ax.plot(X['lag_1'], y, '.', alpha=0.5)\n",
        "ax.plot(X['lag_1'], y_hat)\n",
        "ax.set(aspect='equal', ylabel='sales', xlabel='lag_1', title='Lag Plot of Average Sales');\n",
        "\n",
        "print(f'The linear regression model has an intercept {model.intercept_:.4f} and coefficients {model.coef_.round(4)}.\\n')"
      ],
      "execution_count": 12,
      "outputs": [
        {
          "output_type": "stream",
          "name": "stdout",
          "text": [
            "The linear regression model has an intercept 84.2231 and coefficients [0.7653]\n"
          ]
        },
        {
          "output_type": "display_data",
          "data": {
            "image/png": "[encoded data removed]",
            "text/plain": [
              "<Figure size 432x288 with 1 Axes>"
            ]
          },
          "metadata": {
            "needs_background": "light"
          }
        }
      ]
    },
    {
      "cell_type": "code",
      "metadata": {
        "id": "pqnUwOg22OKm"
      },
      "source": [
        ""
      ],
      "execution_count": 12,
      "outputs": []
    }
  ]
}