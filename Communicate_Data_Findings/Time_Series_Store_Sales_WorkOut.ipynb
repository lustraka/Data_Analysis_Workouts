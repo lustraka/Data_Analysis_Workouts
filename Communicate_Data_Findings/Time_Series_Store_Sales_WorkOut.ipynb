{
  "nbformat": 4,
  "nbformat_minor": 0,
  "metadata": {
    "colab": {
      "name": "Time_Series_Store_Sales_WorkOut.ipynb",
      "provenance": [],
      "authorship_tag": "ABX9TyNW5OOU1vFq6emotEOX/XdE",
      "include_colab_link": true
    },
    "kernelspec": {
      "name": "python3",
      "display_name": "Python 3"
    },
    "language_info": {
      "name": "python"
    }
  },
  "cells": [
    {
      "cell_type": "markdown",
      "metadata": {
        "id": "view-in-github",
        "colab_type": "text"
      },
      "source": [
        "<a href=\"https://colab.research.google.com/github/lustraka/Data_Analysis_Workouts/blob/main/Communicate_Data_Findings/Time_Series_Store_Sales_WorkOut.ipynb\" target=\"_parent\"><img src=\"https://colab.research.google.com/assets/colab-badge.svg\" alt=\"Open In Colab\"/></a>"
      ]
    },
    {
      "cell_type": "markdown",
      "metadata": {
        "id": "GiJGevROUcNR"
      },
      "source": [
        "# Store Sales - Time Series Forecasting\n",
        "**Use machine learning to predict grocery sales**\n",
        "\n",
        "[Kaggle Competition](https://www.kaggle.com/c/store-sales-time-series-forecasting/overview)\n",
        "\n",
        "The basic object of forecasting is the **time series**, which is a set of observations recorded over time. In forecasting applications, the observations are typically recorded with a regular frequency, like daily or monthly."
      ]
    },
    {
      "cell_type": "code",
      "metadata": {
        "id": "IPQQgUtrivAY",
        "colab": {
          "base_uri": "https://localhost:8080/"
        },
        "outputId": "7326da01-f649-4be2-ef31-48db79319c41"
      },
      "source": [
        "import os\n",
        "# Set the environment variables\n",
        "os.environ['KAGGLE_USERNAME'] = \"lubomrstraka\"\n",
        "os.environ['KAGGLE_KEY'] = \"c7347462ef834e6645ce238c2f2fa561\"\n",
        "\n",
        "# Upgrade kaggle library\n",
        "os.system(\"pip install kaggle --upgrade --quiet\")\n",
        "\n",
        "# Download datasets\n",
        "os.system(\"kaggle competitions download -c store-sales-time-series-forecasting --quiet\")"
      ],
      "execution_count": 1,
      "outputs": [
        {
          "output_type": "execute_result",
          "data": {
            "text/plain": [
              "0"
            ]
          },
          "metadata": {},
          "execution_count": 1
        }
      ]
    },
    {
      "cell_type": "code",
      "metadata": {
        "id": "4mrjqs3YU1L7"
      },
      "source": [
        "import zipfile\n",
        "# Extract train.csv\n",
        "with zipfile.ZipFile('train.csv.zip') as archive:\n",
        "  archive.extractall()"
      ],
      "execution_count": 2,
      "outputs": []
    },
    {
      "cell_type": "code",
      "metadata": {
        "id": "j68XS7QwWz1b",
        "outputId": "6d535530-de12-48b3-bd24-1e18f6c1af1e",
        "colab": {
          "base_uri": "https://localhost:8080/"
        }
      },
      "source": [
        "# Import dependencies\n",
        "import pandas as pd\n",
        "import numpy as np\n",
        "import matplotlib.pyplot as plt\n",
        "import seaborn as sns\n",
        "\n",
        "import statsmodels.formula.api as smf"
      ],
      "execution_count": 3,
      "outputs": [
        {
          "output_type": "stream",
          "name": "stderr",
          "text": [
            "/usr/local/lib/python3.7/dist-packages/statsmodels/tools/_testing.py:19: FutureWarning: pandas.util.testing is deprecated. Use the functions in the public API at pandas.testing instead.\n",
            "  import pandas.util.testing as tm\n"
          ]
        }
      ]
    },
    {
      "cell_type": "code",
      "metadata": {
        "id": "kSpQtoPoWWqm",
        "colab": {
          "base_uri": "https://localhost:8080/",
          "height": 289
        },
        "outputId": "c504b380-d8b6-4f80-bb08-491de0c7992f"
      },
      "source": [
        "dtype = {'store_nbr': 'category', 'family': 'category', 'sales': 'float32', 'onpromotion': 'uint64'}\n",
        "store_sales = pd.read_csv('train.csv', index_col=0, dtype=dtype, parse_dates=['date'], infer_datetime_format=True)\n",
        "store_sales.sample(5)"
      ],
      "execution_count": 4,
      "outputs": [
        {
          "output_type": "stream",
          "name": "stderr",
          "text": [
            "/usr/local/lib/python3.7/dist-packages/numpy/lib/arraysetops.py:580: FutureWarning: elementwise comparison failed; returning scalar instead, but in the future will perform elementwise comparison\n",
            "  mask |= (ar1 == a)\n"
          ]
        },
        {
          "output_type": "execute_result",
          "data": {
            "text/html": [
              "<div>\n",
              "<style scoped>\n",
              "    .dataframe tbody tr th:only-of-type {\n",
              "        vertical-align: middle;\n",
              "    }\n",
              "\n",
              "    .dataframe tbody tr th {\n",
              "        vertical-align: top;\n",
              "    }\n",
              "\n",
              "    .dataframe thead th {\n",
              "        text-align: right;\n",
              "    }\n",
              "</style>\n",
              "<table border=\"1\" class=\"dataframe\">\n",
              "  <thead>\n",
              "    <tr style=\"text-align: right;\">\n",
              "      <th></th>\n",
              "      <th>date</th>\n",
              "      <th>store_nbr</th>\n",
              "      <th>family</th>\n",
              "      <th>sales</th>\n",
              "      <th>onpromotion</th>\n",
              "    </tr>\n",
              "    <tr>\n",
              "      <th>id</th>\n",
              "      <th></th>\n",
              "      <th></th>\n",
              "      <th></th>\n",
              "      <th></th>\n",
              "      <th></th>\n",
              "    </tr>\n",
              "  </thead>\n",
              "  <tbody>\n",
              "    <tr>\n",
              "      <th>2284868</th>\n",
              "      <td>2016-07-09</td>\n",
              "      <td>19</td>\n",
              "      <td>HARDWARE</td>\n",
              "      <td>3.000000</td>\n",
              "      <td>2</td>\n",
              "    </tr>\n",
              "    <tr>\n",
              "      <th>793976</th>\n",
              "      <td>2014-03-23</td>\n",
              "      <td>36</td>\n",
              "      <td>PREPARED FOODS</td>\n",
              "      <td>57.814999</td>\n",
              "      <td>0</td>\n",
              "    </tr>\n",
              "    <tr>\n",
              "      <th>1460375</th>\n",
              "      <td>2015-04-02</td>\n",
              "      <td>34</td>\n",
              "      <td>PET SUPPLIES</td>\n",
              "      <td>0.000000</td>\n",
              "      <td>0</td>\n",
              "    </tr>\n",
              "    <tr>\n",
              "      <th>1980373</th>\n",
              "      <td>2016-01-20</td>\n",
              "      <td>25</td>\n",
              "      <td>EGGS</td>\n",
              "      <td>85.000000</td>\n",
              "      <td>19</td>\n",
              "    </tr>\n",
              "    <tr>\n",
              "      <th>1046504</th>\n",
              "      <td>2014-08-12</td>\n",
              "      <td>22</td>\n",
              "      <td>DAIRY</td>\n",
              "      <td>0.000000</td>\n",
              "      <td>0</td>\n",
              "    </tr>\n",
              "  </tbody>\n",
              "</table>\n",
              "</div>"
            ],
            "text/plain": [
              "              date store_nbr          family      sales  onpromotion\n",
              "id                                                                  \n",
              "2284868 2016-07-09        19        HARDWARE   3.000000            2\n",
              "793976  2014-03-23        36  PREPARED FOODS  57.814999            0\n",
              "1460375 2015-04-02        34    PET SUPPLIES   0.000000            0\n",
              "1980373 2016-01-20        25            EGGS  85.000000           19\n",
              "1046504 2014-08-12        22           DAIRY   0.000000            0"
            ]
          },
          "metadata": {},
          "execution_count": 4
        }
      ]
    },
    {
      "cell_type": "markdown",
      "metadata": {
        "id": "xVzssLghXxCB"
      },
      "source": [
        "**A Data Set Description**\n",
        "\n",
        "A `store_sales` data set contains data for thousands of product families sold at Corporación Favorita, a large Ecuadorian-based grocery retailer. The data set includes dates, store and product information, whether that item was being promoted, as well as the sales numbers. Additional files include supplementary information that may be useful in extracting knowledge and building forecasting models.\n",
        "\n",
        "| # | Variable | Non-Null | Nunique | Dtype | Notes |\n",
        "|---|----------|----------|---------|-------|-------|\n",
        "| 0 | id | 3000888 | 3000888 | int64 | Converted to an index. | \n",
        "| 1 | date | 3000888 | 1684 | datetime64[ns] | Observations from 2013-01-01 to 2017-08-15. |\n",
        "| 2 | store_nbr | 3000888 | 54 | category | Identifies the store at which the products are sold. |\n",
        "| 3 | family | 3000888 | 33 | category | Identifies the type of product sold. |\n",
        "| 4 | sales | 3000888 | 379610 | float32 | Gives the total sales for a product family at a particular store at a given date. <br/>Fractional values are possible since products can be sold in fractional units <br/>(1.5 kg of cheese, for instance, as opposed to 1 bag of chips). |\n",
        "| 5 | onpromotion | 3000888 | 991 | uint64 | Gives the total number of items in a product family that were being promoted at a store at a given date.|\n",
        "\n",
        "Memory usage of `store_sales`:\n",
        "- 137.4+ MB before applying the dict *dtype*\n",
        "- 85.9+ MB after applying the dict *dtype*"
      ]
    },
    {
      "cell_type": "code",
      "metadata": {
        "id": "z6GFqMRTk10b",
        "outputId": "e2871e97-703b-4aec-b6dc-07f901992ceb",
        "colab": {
          "base_uri": "https://localhost:8080/"
        }
      },
      "source": [
        "store_sales.date.min(), store_sales.date.max()"
      ],
      "execution_count": 5,
      "outputs": [
        {
          "output_type": "execute_result",
          "data": {
            "text/plain": [
              "(Timestamp('2013-01-01 00:00:00'), Timestamp('2017-08-15 00:00:00'))"
            ]
          },
          "metadata": {},
          "execution_count": 5
        }
      ]
    },
    {
      "cell_type": "markdown",
      "metadata": {
        "id": "YHfCzC1nkcls"
      },
      "source": [
        "## Average Sales\n",
        "The *average_sales* variable is derived from the `store_sales` dataframe and identifies the average sales each day."
      ]
    },
    {
      "cell_type": "code",
      "metadata": {
        "id": "4lyQJ5bEWw-9",
        "colab": {
          "base_uri": "https://localhost:8080/",
          "height": 235
        },
        "outputId": "5e63be59-6b20-4cf0-e3ef-1fc0e561cc1f"
      },
      "source": [
        "average_sales = store_sales.groupby('date').mean()['sales'].to_frame()\n",
        "average_sales.head()"
      ],
      "execution_count": 6,
      "outputs": [
        {
          "output_type": "execute_result",
          "data": {
            "text/html": [
              "<div>\n",
              "<style scoped>\n",
              "    .dataframe tbody tr th:only-of-type {\n",
              "        vertical-align: middle;\n",
              "    }\n",
              "\n",
              "    .dataframe tbody tr th {\n",
              "        vertical-align: top;\n",
              "    }\n",
              "\n",
              "    .dataframe thead th {\n",
              "        text-align: right;\n",
              "    }\n",
              "</style>\n",
              "<table border=\"1\" class=\"dataframe\">\n",
              "  <thead>\n",
              "    <tr style=\"text-align: right;\">\n",
              "      <th></th>\n",
              "      <th>sales</th>\n",
              "    </tr>\n",
              "    <tr>\n",
              "      <th>date</th>\n",
              "      <th></th>\n",
              "    </tr>\n",
              "  </thead>\n",
              "  <tbody>\n",
              "    <tr>\n",
              "      <th>2013-01-01</th>\n",
              "      <td>1.409438</td>\n",
              "    </tr>\n",
              "    <tr>\n",
              "      <th>2013-01-02</th>\n",
              "      <td>278.390808</td>\n",
              "    </tr>\n",
              "    <tr>\n",
              "      <th>2013-01-03</th>\n",
              "      <td>202.840195</td>\n",
              "    </tr>\n",
              "    <tr>\n",
              "      <th>2013-01-04</th>\n",
              "      <td>198.911148</td>\n",
              "    </tr>\n",
              "    <tr>\n",
              "      <th>2013-01-05</th>\n",
              "      <td>267.873230</td>\n",
              "    </tr>\n",
              "  </tbody>\n",
              "</table>\n",
              "</div>"
            ],
            "text/plain": [
              "                 sales\n",
              "date                  \n",
              "2013-01-01    1.409438\n",
              "2013-01-02  278.390808\n",
              "2013-01-03  202.840195\n",
              "2013-01-04  198.911148\n",
              "2013-01-05  267.873230"
            ]
          },
          "metadata": {},
          "execution_count": 6
        }
      ]
    },
    {
      "cell_type": "markdown",
      "metadata": {
        "id": "nWFaRH43mQqi"
      },
      "source": [
        "### Time-Step Features\n",
        "Time-step features are features we can derive directly from the time index. The most basic time-step feature is the **time dummy**, which counts off time steps in the series from beginning to end."
      ]
    },
    {
      "cell_type": "code",
      "metadata": {
        "id": "M243cnW2mPnD"
      },
      "source": [
        "# Create a time dummy\n",
        "df = average_sales.copy()\n",
        "df['time'] = np.arange(len(df.index))"
      ],
      "execution_count": 7,
      "outputs": []
    },
    {
      "cell_type": "markdown",
      "metadata": {
        "id": "s7n8oQsXo4xz"
      },
      "source": [
        "A **simple linear regression** model estimates coefficients of a least squares line:\n",
        "$$\\hat{y} = \\hat{\\beta}_0 + \\hat{\\beta}_1 x,$$\n",
        "in our case\n",
        "$$\\hat{\\text{sales}} = \\hat{\\text{coef}}_{Intercept} + \\hat{\\text{coef}}_{time} \\times \\text{time}:$$"
      ]
    },
    {
      "cell_type": "code",
      "metadata": {
        "id": "hmr3tMbkXKQD",
        "outputId": "9ffce243-b262-4d94-8e93-10c7ab284731",
        "colab": {
          "base_uri": "https://localhost:8080/"
        }
      },
      "source": [
        "lm = smf.ols('sales ~ time', data=df).fit()\n",
        "print(lm.summary())"
      ],
      "execution_count": 8,
      "outputs": [
        {
          "output_type": "stream",
          "name": "stdout",
          "text": [
            "                            OLS Regression Results                            \n",
            "==============================================================================\n",
            "Dep. Variable:                  sales   R-squared:                       0.516\n",
            "Model:                            OLS   Adj. R-squared:                  0.516\n",
            "Method:                 Least Squares   F-statistic:                     1794.\n",
            "Date:                Wed, 20 Oct 2021   Prob (F-statistic):          1.87e-267\n",
            "Time:                        09:10:44   Log-Likelihood:                -9994.5\n",
            "No. Observations:                1684   AIC:                         1.999e+04\n",
            "Df Residuals:                    1682   BIC:                         2.000e+04\n",
            "Df Model:                           1                                         \n",
            "Covariance Type:            nonrobust                                         \n",
            "==============================================================================\n",
            "                 coef    std err          t      P>|t|      [0.025      0.975]\n",
            "------------------------------------------------------------------------------\n",
            "Intercept    194.2328      4.459     43.562      0.000     185.487     202.978\n",
            "time           0.1943      0.005     42.359      0.000       0.185       0.203\n",
            "==============================================================================\n",
            "Omnibus:                      133.081   Durbin-Watson:                   0.961\n",
            "Prob(Omnibus):                  0.000   Jarque-Bera (JB):              181.187\n",
            "Skew:                           0.656   Prob(JB):                     4.53e-40\n",
            "Kurtosis:                       3.929   Cond. No.                     1.94e+03\n",
            "==============================================================================\n",
            "\n",
            "Warnings:\n",
            "[1] Standard Errors assume that the covariance matrix of the errors is correctly specified.\n",
            "[2] The condition number is large, 1.94e+03. This might indicate that there are\n",
            "strong multicollinearity or other numerical problems.\n"
          ]
        }
      ]
    },
    {
      "cell_type": "code",
      "metadata": {
        "id": "3u2u_9rlq4Wy",
        "outputId": "7e17ea45-aacc-45df-842b-8e69aa4d361c",
        "colab": {
          "base_uri": "https://localhost:8080/",
          "height": 295
        }
      },
      "source": [
        "def feature_sales_plot(df, lm, feature):\n",
        "  \"\"\"Plots a scatter plot of `feature` versus `sales` with a regression line from `lm`.\"\"\"\n",
        "  df.plot(kind='scatter', x=feature, y='sales')\n",
        "  feat_min_max = [df[feature].min(), df[feature].max()]\n",
        "  plt.plot(feat_min_max, \n",
        "          [lm.params['Intercept'] + lm.params[feature] * x for x in feat_min_max],\n",
        "          color='tab:orange', lw=4)\n",
        "  plt.title(f'{feature.capitalize()} Plot of Total Store Sales')\n",
        "  plt.show\n",
        "\n",
        "feature_sales_plot(df, lm, 'time')"
      ],
      "execution_count": 9,
      "outputs": [
        {
          "output_type": "display_data",
          "data": {
            "image/png": "[encoded data removed]",
            "text/plain": [
              "<Figure size 432x288 with 1 Axes>"
            ]
          },
          "metadata": {
            "needs_background": "light"
          }
        }
      ]
    },
    {
      "cell_type": "markdown",
      "metadata": {
        "id": "2HSHwAbnvNWY"
      },
      "source": [
        "Time-step features let us model **time dependence**. A series is time dependent if its values can be predicted from the time they occured. The linear regression of *sales* on *time* shows a relationship with estimation of $\\hat{\\text{coef}}_{time} = 0.1943$ and true value of the slope $\\text{coef}_{time}$ being with $95\\%$ confidence in the interval $[0.185, 0.203]$, so we can expect the sales being in average $0.1943$ unit higher every next day."
      ]
    },
    {
      "cell_type": "markdown",
      "metadata": {
        "id": "zuEkIxxCzeyW"
      },
      "source": [
        "### Lag Features\n",
        "To make a **lag feature** we shift the observations of the target series so that they appear to have occured later in time. Here we've created a 1-step lag feature, though shifting by multiple steps is possible too."
      ]
    },
    {
      "cell_type": "code",
      "metadata": {
        "id": "Xd3AJuQyrDlR",
        "outputId": "ce456b3e-00ae-4e06-f5d6-d2c57f35f955",
        "colab": {
          "base_uri": "https://localhost:8080/",
          "height": 235
        }
      },
      "source": [
        "# Create a lag feature from the response variable 'sales'\n",
        "df = average_sales.copy()\n",
        "df['lag_1'] = df.sales.shift(1)\n",
        "df.dropna(inplace=True)\n",
        "df.head()"
      ],
      "execution_count": 10,
      "outputs": [
        {
          "output_type": "execute_result",
          "data": {
            "text/html": [
              "<div>\n",
              "<style scoped>\n",
              "    .dataframe tbody tr th:only-of-type {\n",
              "        vertical-align: middle;\n",
              "    }\n",
              "\n",
              "    .dataframe tbody tr th {\n",
              "        vertical-align: top;\n",
              "    }\n",
              "\n",
              "    .dataframe thead th {\n",
              "        text-align: right;\n",
              "    }\n",
              "</style>\n",
              "<table border=\"1\" class=\"dataframe\">\n",
              "  <thead>\n",
              "    <tr style=\"text-align: right;\">\n",
              "      <th></th>\n",
              "      <th>sales</th>\n",
              "      <th>lag_1</th>\n",
              "    </tr>\n",
              "    <tr>\n",
              "      <th>date</th>\n",
              "      <th></th>\n",
              "      <th></th>\n",
              "    </tr>\n",
              "  </thead>\n",
              "  <tbody>\n",
              "    <tr>\n",
              "      <th>2013-01-02</th>\n",
              "      <td>278.390808</td>\n",
              "      <td>1.409438</td>\n",
              "    </tr>\n",
              "    <tr>\n",
              "      <th>2013-01-03</th>\n",
              "      <td>202.840195</td>\n",
              "      <td>278.390808</td>\n",
              "    </tr>\n",
              "    <tr>\n",
              "      <th>2013-01-04</th>\n",
              "      <td>198.911148</td>\n",
              "      <td>202.840195</td>\n",
              "    </tr>\n",
              "    <tr>\n",
              "      <th>2013-01-05</th>\n",
              "      <td>267.873230</td>\n",
              "      <td>198.911148</td>\n",
              "    </tr>\n",
              "    <tr>\n",
              "      <th>2013-01-06</th>\n",
              "      <td>291.636017</td>\n",
              "      <td>267.873230</td>\n",
              "    </tr>\n",
              "  </tbody>\n",
              "</table>\n",
              "</div>"
            ],
            "text/plain": [
              "                 sales       lag_1\n",
              "date                              \n",
              "2013-01-02  278.390808    1.409438\n",
              "2013-01-03  202.840195  278.390808\n",
              "2013-01-04  198.911148  202.840195\n",
              "2013-01-05  267.873230  198.911148\n",
              "2013-01-06  291.636017  267.873230"
            ]
          },
          "metadata": {},
          "execution_count": 10
        }
      ]
    },
    {
      "cell_type": "markdown",
      "metadata": {
        "id": "BMKSxOak0c3m"
      },
      "source": [
        "Simple linear regression with a lag feature produces the model:\n",
        "$$\\text{sales} = \\hat{\\text{coef}}_{\\text{Intercept}} + \\hat{\\text{coef}}_{\\text{lag_1}} \\times \\text{lag_1}:$$"
      ]
    },
    {
      "cell_type": "code",
      "metadata": {
        "id": "WckZaP0S0S_X",
        "outputId": "1ca04eaf-9c13-4065-90a6-4c8463573ff0",
        "colab": {
          "base_uri": "https://localhost:8080/"
        }
      },
      "source": [
        "lm = smf.ols('sales ~ lag_1', data=df).fit()\n",
        "print(lm.summary())"
      ],
      "execution_count": 11,
      "outputs": [
        {
          "output_type": "stream",
          "name": "stdout",
          "text": [
            "                            OLS Regression Results                            \n",
            "==============================================================================\n",
            "Dep. Variable:                  sales   R-squared:                       0.588\n",
            "Model:                            OLS   Adj. R-squared:                  0.588\n",
            "Method:                 Least Squares   F-statistic:                     2400.\n",
            "Date:                Wed, 20 Oct 2021   Prob (F-statistic):               0.00\n",
            "Time:                        09:10:45   Log-Likelihood:                -9849.9\n",
            "No. Observations:                1683   AIC:                         1.970e+04\n",
            "Df Residuals:                    1681   BIC:                         1.971e+04\n",
            "Df Model:                           1                                         \n",
            "Covariance Type:            nonrobust                                         \n",
            "==============================================================================\n",
            "                 coef    std err          t      P>|t|      [0.025      0.975]\n",
            "------------------------------------------------------------------------------\n",
            "Intercept     84.2231      5.954     14.146      0.000      72.546      95.901\n",
            "lag_1          0.7653      0.016     48.992      0.000       0.735       0.796\n",
            "==============================================================================\n",
            "Omnibus:                      262.708   Durbin-Watson:                   1.901\n",
            "Prob(Omnibus):                  0.000   Jarque-Bera (JB):             2066.766\n",
            "Skew:                           0.488   Prob(JB):                         0.00\n",
            "Kurtosis:                       8.341   Cond. No.                     1.10e+03\n",
            "==============================================================================\n",
            "\n",
            "Warnings:\n",
            "[1] Standard Errors assume that the covariance matrix of the errors is correctly specified.\n",
            "[2] The condition number is large, 1.1e+03. This might indicate that there are\n",
            "strong multicollinearity or other numerical problems.\n"
          ]
        }
      ]
    },
    {
      "cell_type": "markdown",
      "metadata": {
        "id": "jVhDOsSz2b22"
      },
      "source": [
        "Lag features let us fit curves to *lag plots* where each observation in a series is plotted against the previous observation:"
      ]
    },
    {
      "cell_type": "code",
      "metadata": {
        "id": "zOXuICyV9rdj",
        "outputId": "80b2abe8-c974-49ad-bfa4-844f98e44555",
        "colab": {
          "base_uri": "https://localhost:8080/",
          "height": 296
        }
      },
      "source": [
        "feature_sales_plot(df, lm, 'lag_1')"
      ],
      "execution_count": 12,
      "outputs": [
        {
          "output_type": "display_data",
          "data": {
            "image/png": "[encoded data removed]",
            "text/plain": [
              "<Figure size 432x288 with 1 Axes>"
            ]
          },
          "metadata": {
            "needs_background": "light"
          }
        }
      ]
    },
    {
      "cell_type": "markdown",
      "metadata": {
        "id": "UYxclN6m26bu"
      },
      "source": [
        "We can expect from the lag plot that a unit sale increase one day will be followed with $\\hat{\\text{coef}}_{\\text{lag_1}} = 0.7653$ unit higher increase the next day in average. The true value of the linear regression line's slope is with $95\\%$ confidence in the interval $[0.735, 0.796]$"
      ]
    },
    {
      "cell_type": "code",
      "metadata": {
        "id": "pqnUwOg22OKm"
      },
      "source": [
        ""
      ],
      "execution_count": 12,
      "outputs": []
    }
  ]
}