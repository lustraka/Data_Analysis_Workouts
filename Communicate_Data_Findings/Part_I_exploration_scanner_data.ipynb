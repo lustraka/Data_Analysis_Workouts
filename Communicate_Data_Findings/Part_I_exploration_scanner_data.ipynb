{
  "nbformat": 4,
  "nbformat_minor": 0,
  "metadata": {
    "kernelspec": {
      "display_name": "Python 3",
      "language": "python",
      "name": "python3"
    },
    "language_info": {
      "codemirror_mode": {
        "name": "ipython",
        "version": 3
      },
      "file_extension": ".py",
      "mimetype": "text/x-python",
      "name": "python",
      "nbconvert_exporter": "python",
      "pygments_lexer": "ipython3",
      "version": "3.8.8"
    },
    "colab": {
      "name": "Part_I_exploration_scanner_data.ipynb",
      "provenance": [],
      "include_colab_link": true
    }
  },
  "cells": [
    {
      "cell_type": "markdown",
      "metadata": {
        "id": "view-in-github",
        "colab_type": "text"
      },
      "source": [
        "<a href=\"https://colab.research.google.com/github/lustraka/Data_Analysis_Workouts/blob/main/Communicate_Data_Findings/Part_I_exploration_scanner_data.ipynb\" target=\"_parent\"><img src=\"https://colab.research.google.com/assets/colab-badge.svg\" alt=\"Open In Colab\"/></a>"
      ]
    },
    {
      "cell_type": "markdown",
      "metadata": {
        "id": "48VFi3efXy7V"
      },
      "source": [
        "# Part I - Retail Store Sales Transactions\n",
        "## by Lubomir STraka\n",
        "\n",
        "## Introduction\n",
        "> Introduce the dataset\n",
        "\n",
        "The Kaggle's anonymized dataset [Retail Store Sales Transactions (Scanner Data)](https://www.kaggle.com/marian447/retail-store-sales-transactions) includes 64.682 transactions of 5.242 SKU's sold to 22.625 customers during one year. Marian Svatko, a Kaggle expert, uploaded detailed data on sales of consumer goods obtained by 'scanning' the bar codes for individual products at electronic points of sale in a retail store. The data provide detailed information about quantities, characteristics and values of goods sold as well as prices.\n",
        "\n",
        ">**Rubric Tip**: Your code should not generate any errors, and should use functions, loops where possible to reduce repetitive code. Prefer to use functions to reuse code statements.\n",
        "\n",
        "> **Rubric Tip**: Document your approach and findings in markdown cells. Use comments and docstrings in code cells to document the code functionality.\n",
        "\n",
        ">**Rubric Tip**: Markup cells should have headers and text that organize your thoughts, findings, and what you plan on investigating next.  \n",
        "\n",
        "\n",
        "\n",
        "## Preliminary Wrangling\n"
      ]
    },
    {
      "cell_type": "code",
      "metadata": {
        "id": "MJJQrgaVXy7Y"
      },
      "source": [
        "# import all packages and set plots to be embedded inline\n",
        "import numpy as np\n",
        "import pandas as pd\n",
        "import matplotlib.pyplot as plt\n",
        "import seaborn as sb\n",
        "\n",
        "import warnings\n",
        "warnings.filterwarnings('ignore')\n",
        "\n",
        "import statsmodels.formula.api as smf\n",
        "from sklearn.linear_model import LinearRegression"
      ],
      "execution_count": 1,
      "outputs": []
    },
    {
      "cell_type": "markdown",
      "metadata": {
        "id": "aQL5vSz0Xy7Z"
      },
      "source": [
        "> Load in your dataset and describe its properties through the questions below. Try and motivate your exploration goals through this section.\n"
      ]
    },
    {
      "cell_type": "code",
      "metadata": {
        "id": "5zZwN3SRXy7Z"
      },
      "source": [
        "path = 'https://github.com/lustraka/Data_Analysis_Workouts/blob/main/Communicate_Data_Findings/scanner_data.csv?raw=true'\n",
        "retail = pd.read_csv(path, index_col=0, parse_dates=['Date'])\n",
        "retail['Unit_Price'] = retail.Sales_Amount / retail.Quantity\n",
        "# Check missing values\n",
        "assert retail.isna().any().any() == False"
      ],
      "execution_count": 3,
      "outputs": []
    },
    {
      "cell_type": "code",
      "metadata": {
        "id": "Hcx4XhYcwiXc"
      },
      "source": [
        ""
      ],
      "execution_count": null,
      "outputs": []
    },
    {
      "cell_type": "markdown",
      "metadata": {
        "id": "60Bcxuh3Xy7Z"
      },
      "source": [
        "### What is the structure of your dataset?\n",
        "\n",
        "Dataset description:\n",
        "- Int64Index: 131706 entries, 1 to 131706\n",
        "- Data columns (total 7+1 columns):\n",
        "\n",
        "| # | Variable | Non-Null | Nunique | Dtype | Notes |\n",
        "|---|----------|---------:|--------:|:-----|-------|\n",
        "| 0 | Date | 131706 | 363 | datetime64[ns] | From 2016-01-02 to 2016-12-31 |\n",
        "| 1 | Customer_ID | 131706 | 22625 | int64 | |\n",
        "| 2 | Transaction_ID | 131706 | 64682 | int64 | |\n",
        "| 3 | SKU_Category | 131706 | 187 | object | |\n",
        "| 4 | SKU | 131706 | 5242 | object | |\n",
        "| 5 | Quantity | 131706 | 83 | float64 | |\n",
        "| 6 | Sales_Amount | 131706 | 3233 | float64 | Unit price times quantity. |\n",
        "| 7 | Unit_Price | 131706 | 4316 | float64 | Unit_price = Sales_Amount / Quantity |\n",
        "\n",
        "- dtypes: datetime64(1), float64(3), int64(2), object(2)\n",
        "- memory usage: 9.0+ MB\n",
        "\n",
        "Source:\n",
        "```python\n",
        "# #, Variable, Non-Null (Count), Dtype:\n",
        "retail.info()\n",
        "# Nunique:\n",
        "retail.nunique()\n",
        "# Check date\n",
        "retail.Date.min(), retail.Date.max()\n",
        "```\n",
        "\n",
        "### What is/are the main feature(s) of interest in your dataset?\n",
        "\n",
        "- Sales over time\n",
        "- Product categories\n",
        "- Customers and their purchasing patterns\n",
        "\n",
        "### What features in the dataset do you think will help support your investigation into your feature(s) of interest?\n",
        "\n",
        "- Date\n",
        "- Customer_ID\n",
        "- SKU_Category\n",
        "- Sales_Amount\n",
        "- Unit_Price\n",
        "\n",
        "The dataset contains individual transactions, therefore we will need also some aggregations."
      ]
    },
    {
      "cell_type": "markdown",
      "metadata": {
        "id": "8UnH6wGKXy7a"
      },
      "source": [
        "## Univariate Exploration\n",
        "\n",
        "> In this section, investigate distributions of individual variables. If\n",
        "you see unusual points or outliers, take a deeper look to clean things up\n",
        "and prepare yourself to look at relationships between variables.\n",
        "\n",
        "\n",
        "> **Rubric Tip**: The project (Parts I alone) should have at least 15 visualizations distributed over univariate, bivariate, and multivariate plots to explore many relationships in the data set.  Use reasoning to justify the flow of the exploration.\n",
        "\n",
        "\n",
        "\n",
        ">**Rubric Tip**: Use the \"Question-Visualization-Observations\" framework  throughout the exploration. This framework involves **asking a question from the data, creating a visualization to find answers, and then recording observations after each visualisation.** \n"
      ]
    },
    {
      "cell_type": "code",
      "metadata": {
        "id": "RbqaEj4uXy7a",
        "outputId": "5f42c784-4ac1-49c2-f1cc-f200c5a77107",
        "colab": {
          "base_uri": "https://localhost:8080/",
          "height": 297
        }
      },
      "source": [
        "# Show statistics of numerical variables\n",
        "retail.describe()"
      ],
      "execution_count": 4,
      "outputs": [
        {
          "output_type": "execute_result",
          "data": {
            "text/html": [
              "<div>\n",
              "<style scoped>\n",
              "    .dataframe tbody tr th:only-of-type {\n",
              "        vertical-align: middle;\n",
              "    }\n",
              "\n",
              "    .dataframe tbody tr th {\n",
              "        vertical-align: top;\n",
              "    }\n",
              "\n",
              "    .dataframe thead th {\n",
              "        text-align: right;\n",
              "    }\n",
              "</style>\n",
              "<table border=\"1\" class=\"dataframe\">\n",
              "  <thead>\n",
              "    <tr style=\"text-align: right;\">\n",
              "      <th></th>\n",
              "      <th>Customer_ID</th>\n",
              "      <th>Transaction_ID</th>\n",
              "      <th>Quantity</th>\n",
              "      <th>Sales_Amount</th>\n",
              "      <th>Unit_Price</th>\n",
              "    </tr>\n",
              "  </thead>\n",
              "  <tbody>\n",
              "    <tr>\n",
              "      <th>count</th>\n",
              "      <td>131706.000000</td>\n",
              "      <td>131706.000000</td>\n",
              "      <td>131706.000000</td>\n",
              "      <td>131706.000000</td>\n",
              "      <td>131706.000000</td>\n",
              "    </tr>\n",
              "    <tr>\n",
              "      <th>mean</th>\n",
              "      <td>12386.450367</td>\n",
              "      <td>32389.604187</td>\n",
              "      <td>1.485311</td>\n",
              "      <td>11.981524</td>\n",
              "      <td>9.692429</td>\n",
              "    </tr>\n",
              "    <tr>\n",
              "      <th>std</th>\n",
              "      <td>6086.447552</td>\n",
              "      <td>18709.901238</td>\n",
              "      <td>3.872667</td>\n",
              "      <td>19.359699</td>\n",
              "      <td>14.944890</td>\n",
              "    </tr>\n",
              "    <tr>\n",
              "      <th>min</th>\n",
              "      <td>1.000000</td>\n",
              "      <td>1.000000</td>\n",
              "      <td>0.010000</td>\n",
              "      <td>0.020000</td>\n",
              "      <td>0.015000</td>\n",
              "    </tr>\n",
              "    <tr>\n",
              "      <th>25%</th>\n",
              "      <td>7349.000000</td>\n",
              "      <td>16134.000000</td>\n",
              "      <td>1.000000</td>\n",
              "      <td>4.230000</td>\n",
              "      <td>3.680000</td>\n",
              "    </tr>\n",
              "    <tr>\n",
              "      <th>50%</th>\n",
              "      <td>13496.000000</td>\n",
              "      <td>32620.000000</td>\n",
              "      <td>1.000000</td>\n",
              "      <td>6.920000</td>\n",
              "      <td>6.070000</td>\n",
              "    </tr>\n",
              "    <tr>\n",
              "      <th>75%</th>\n",
              "      <td>17306.000000</td>\n",
              "      <td>48548.000000</td>\n",
              "      <td>1.000000</td>\n",
              "      <td>12.330000</td>\n",
              "      <td>10.100000</td>\n",
              "    </tr>\n",
              "    <tr>\n",
              "      <th>max</th>\n",
              "      <td>22625.000000</td>\n",
              "      <td>64682.000000</td>\n",
              "      <td>400.000000</td>\n",
              "      <td>707.730000</td>\n",
              "      <td>693.800000</td>\n",
              "    </tr>\n",
              "  </tbody>\n",
              "</table>\n",
              "</div>"
            ],
            "text/plain": [
              "         Customer_ID  Transaction_ID  ...   Sales_Amount     Unit_Price\n",
              "count  131706.000000   131706.000000  ...  131706.000000  131706.000000\n",
              "mean    12386.450367    32389.604187  ...      11.981524       9.692429\n",
              "std      6086.447552    18709.901238  ...      19.359699      14.944890\n",
              "min         1.000000        1.000000  ...       0.020000       0.015000\n",
              "25%      7349.000000    16134.000000  ...       4.230000       3.680000\n",
              "50%     13496.000000    32620.000000  ...       6.920000       6.070000\n",
              "75%     17306.000000    48548.000000  ...      12.330000      10.100000\n",
              "max     22625.000000    64682.000000  ...     707.730000     693.800000\n",
              "\n",
              "[8 rows x 5 columns]"
            ]
          },
          "metadata": {},
          "execution_count": 4
        }
      ]
    },
    {
      "cell_type": "markdown",
      "metadata": {
        "id": "fSn7dTkaXy7b"
      },
      "source": [
        "\n",
        "\n",
        ">**Rubric Tip**: Visualizations should depict the data appropriately so that the plots are easily interpretable. You should choose an appropriate plot type, data encodings, and formatting as needed. The formatting may include setting/adding the title, labels, legend, and comments. Also, do not overplot or incorrectly plot ordinal data."
      ]
    },
    {
      "cell_type": "code",
      "metadata": {
        "id": "HVU_ULNTXy7b",
        "outputId": "d28ebe5a-7bbb-4b2e-fafb-a946c2280eb7",
        "colab": {
          "base_uri": "https://localhost:8080/",
          "height": 235
        }
      },
      "source": [
        "# Analyze Average Sales\n",
        "average_sales = retail.groupby('Date')['Sales_Amount'].mean().to_frame()\n",
        "average_sales.head()"
      ],
      "execution_count": 5,
      "outputs": [
        {
          "output_type": "execute_result",
          "data": {
            "text/html": [
              "<div>\n",
              "<style scoped>\n",
              "    .dataframe tbody tr th:only-of-type {\n",
              "        vertical-align: middle;\n",
              "    }\n",
              "\n",
              "    .dataframe tbody tr th {\n",
              "        vertical-align: top;\n",
              "    }\n",
              "\n",
              "    .dataframe thead th {\n",
              "        text-align: right;\n",
              "    }\n",
              "</style>\n",
              "<table border=\"1\" class=\"dataframe\">\n",
              "  <thead>\n",
              "    <tr style=\"text-align: right;\">\n",
              "      <th></th>\n",
              "      <th>Sales_Amount</th>\n",
              "    </tr>\n",
              "    <tr>\n",
              "      <th>Date</th>\n",
              "      <th></th>\n",
              "    </tr>\n",
              "  </thead>\n",
              "  <tbody>\n",
              "    <tr>\n",
              "      <th>2016-01-02</th>\n",
              "      <td>11.276519</td>\n",
              "    </tr>\n",
              "    <tr>\n",
              "      <th>2016-01-03</th>\n",
              "      <td>12.289252</td>\n",
              "    </tr>\n",
              "    <tr>\n",
              "      <th>2016-01-04</th>\n",
              "      <td>10.420989</td>\n",
              "    </tr>\n",
              "    <tr>\n",
              "      <th>2016-01-05</th>\n",
              "      <td>8.459050</td>\n",
              "    </tr>\n",
              "    <tr>\n",
              "      <th>2016-01-06</th>\n",
              "      <td>13.231226</td>\n",
              "    </tr>\n",
              "  </tbody>\n",
              "</table>\n",
              "</div>"
            ],
            "text/plain": [
              "            Sales_Amount\n",
              "Date                    \n",
              "2016-01-02     11.276519\n",
              "2016-01-03     12.289252\n",
              "2016-01-04     10.420989\n",
              "2016-01-05      8.459050\n",
              "2016-01-06     13.231226"
            ]
          },
          "metadata": {},
          "execution_count": 5
        }
      ]
    },
    {
      "cell_type": "code",
      "metadata": {
        "id": "MnWbSgWxzVY8",
        "outputId": "b8488967-9702-4e0a-ea8d-f58fe563455e",
        "colab": {
          "base_uri": "https://localhost:8080/"
        }
      },
      "source": [
        "average_sales['Time'] = np.arange(average_sales.shape[0])\n",
        "lm = smf.ols('Sales_Amount ~ Time', data=average_sales).fit()\n",
        "print(lm.summary())"
      ],
      "execution_count": 6,
      "outputs": [
        {
          "output_type": "stream",
          "name": "stdout",
          "text": [
            "                            OLS Regression Results                            \n",
            "==============================================================================\n",
            "Dep. Variable:           Sales_Amount   R-squared:                       0.006\n",
            "Model:                            OLS   Adj. R-squared:                  0.003\n",
            "Method:                 Least Squares   F-statistic:                     2.035\n",
            "Date:                Thu, 21 Oct 2021   Prob (F-statistic):              0.155\n",
            "Time:                        12:24:20   Log-Likelihood:                -718.30\n",
            "No. Observations:                 363   AIC:                             1441.\n",
            "Df Residuals:                     361   BIC:                             1448.\n",
            "Df Model:                           1                                         \n",
            "Covariance Type:            nonrobust                                         \n",
            "==============================================================================\n",
            "                 coef    std err          t      P>|t|      [0.025      0.975]\n",
            "------------------------------------------------------------------------------\n",
            "Intercept     11.3983      0.184     61.989      0.000      11.037      11.760\n",
            "Time           0.0013      0.001      1.427      0.155      -0.000       0.003\n",
            "==============================================================================\n",
            "Omnibus:                        6.992   Durbin-Watson:                   1.893\n",
            "Prob(Omnibus):                  0.030   Jarque-Bera (JB):                6.453\n",
            "Skew:                          -0.270   Prob(JB):                       0.0397\n",
            "Kurtosis:                       2.633   Cond. No.                         417.\n",
            "==============================================================================\n",
            "\n",
            "Warnings:\n",
            "[1] Standard Errors assume that the covariance matrix of the errors is correctly specified.\n"
          ]
        }
      ]
    },
    {
      "cell_type": "code",
      "metadata": {
        "id": "qBcmKchAzVO9",
        "outputId": "f150ed27-b6b7-4f67-f43d-e8c396c969e6",
        "colab": {
          "base_uri": "https://localhost:8080/",
          "height": 401
        }
      },
      "source": [
        "# Visualize regression of average sales onto time\n",
        "X = average_sales.loc[:,['Time']]\n",
        "y = average_sales['Sales_Amount']\n",
        "# Train the model\n",
        "model = LinearRegression()\n",
        "model.fit(X, y)\n",
        "# Estimate target\n",
        "y_hat = pd.Series(model.predict(X), X.index)\n",
        "\n",
        "# Plot actual and estimated response\n",
        "fig, ax = plt.subplots(figsize=(11, 5.5))\n",
        "y.plot(style='.', alpha=0.5)\n",
        "y_hat.plot(lw=3)\n",
        "ax.set_title(f'Time Plot of Total Store Sales');\n",
        "\n",
        "print(f'The linear regression model has an intercept {model.intercept_:.4f} and coefficients {model.coef_.round(4)}.\\n')"
      ],
      "execution_count": 7,
      "outputs": [
        {
          "output_type": "stream",
          "name": "stdout",
          "text": [
            "The linear regression model has an intercept 11.3983 and coefficients [0.0013].\n",
            "\n"
          ]
        },
        {
          "output_type": "display_data",
          "data": {
            "image/png": "[encoded data removed]",
            "text/plain": [
              "<Figure size 792x396 with 1 Axes>"
            ]
          },
          "metadata": {
            "needs_background": "light"
          }
        }
      ]
    },
    {
      "cell_type": "code",
      "metadata": {
        "id": "zBhNDVjTzVL8",
        "outputId": "e149aa36-e97e-4605-e82d-8c414338e7ec",
        "colab": {
          "base_uri": "https://localhost:8080/"
        }
      },
      "source": [
        "# Visualize regression of average sales onto sales in the previous day\n",
        "# Create a lag feature\n",
        "average_sales['Lag_1'] = average_sales.Sales_Amount.shift(1)\n",
        "# Regress average sales on the lag feature\n",
        "\n",
        "lm = smf.ols('Sales_Amount ~ Lag_1', data=average_sales.dropna()).fit()\n",
        "print(lm.summary())"
      ],
      "execution_count": 9,
      "outputs": [
        {
          "output_type": "stream",
          "name": "stdout",
          "text": [
            "                            OLS Regression Results                            \n",
            "==============================================================================\n",
            "Dep. Variable:           Sales_Amount   R-squared:                       0.003\n",
            "Model:                            OLS   Adj. R-squared:                  0.000\n",
            "Method:                 Least Squares   F-statistic:                     1.138\n",
            "Date:                Thu, 21 Oct 2021   Prob (F-statistic):              0.287\n",
            "Time:                        12:33:41   Log-Likelihood:                -717.25\n",
            "No. Observations:                 362   AIC:                             1439.\n",
            "Df Residuals:                     360   BIC:                             1446.\n",
            "Df Model:                           1                                         \n",
            "Covariance Type:            nonrobust                                         \n",
            "==============================================================================\n",
            "                 coef    std err          t      P>|t|      [0.025      0.975]\n",
            "------------------------------------------------------------------------------\n",
            "Intercept     10.9713      0.621     17.672      0.000       9.750      12.192\n",
            "Lag_1          0.0563      0.053      1.067      0.287      -0.047       0.160\n",
            "==============================================================================\n",
            "Omnibus:                        7.125   Durbin-Watson:                   1.985\n",
            "Prob(Omnibus):                  0.028   Jarque-Bera (JB):                6.703\n",
            "Skew:                          -0.283   Prob(JB):                       0.0350\n",
            "Kurtosis:                       2.647   Cond. No.                         79.5\n",
            "==============================================================================\n",
            "\n",
            "Warnings:\n",
            "[1] Standard Errors assume that the covariance matrix of the errors is correctly specified.\n"
          ]
        }
      ]
    },
    {
      "cell_type": "code",
      "metadata": {
        "id": "mTrlljOYzVJE",
        "outputId": "1b046b06-1aa3-4146-8207-4b864eafe112",
        "colab": {
          "base_uri": "https://localhost:8080/",
          "height": 330
        }
      },
      "source": [
        "# Prepare training data\n",
        "X = average_sales.loc[:,['Lag_1']].dropna()\n",
        "y = average_sales['Sales_Amount']\n",
        "y, X = y.align(X, join='inner') # Drop corresponding values in target\n",
        "\n",
        "# Train the model\n",
        "model = LinearRegression()\n",
        "model.fit(X, y)\n",
        "\n",
        "# Estimate target\n",
        "y_hat = pd.Series(model.predict(X), X.index)\n",
        "\n",
        "# Plot actual and predicted variables\n",
        "fig, ax = plt.subplots()\n",
        "ax.plot(X['Lag_1'], y, '.', alpha=0.5)\n",
        "ax.plot(X['Lag_1'], y_hat)\n",
        "ax.set(aspect='equal', ylabel='Sales_Amount', xlabel='Lag_1', title='Lag Plot of Average Sales');\n",
        "\n",
        "print(f'The linear regression model has an intercept {model.intercept_:.4f} and coefficients {model.coef_.round(4)}.\\n')"
      ],
      "execution_count": 11,
      "outputs": [
        {
          "output_type": "stream",
          "name": "stdout",
          "text": [
            "The linear regression model has an intercept 10.9713 and coefficients [0.0563].\n",
            "\n"
          ]
        },
        {
          "output_type": "display_data",
          "data": {
            "image/png": "[encoded data removed]",
            "text/plain": [
              "<Figure size 432x288 with 1 Axes>"
            ]
          },
          "metadata": {
            "needs_background": "light"
          }
        }
      ]
    },
    {
      "cell_type": "markdown",
      "metadata": {
        "id": "6-7QFsXtXy7c"
      },
      "source": [
        "### Discuss the distribution(s) of your variable(s) of interest. Were there any unusual points? Did you need to perform any transformations?\n",
        "\n",
        "> Your answer here!\n",
        "\n",
        "### Of the features you investigated, were there any unusual distributions? Did you perform any operations on the data to tidy, adjust, or change the form of the data? If so, why did you do this?\n",
        "\n",
        "> Your answer here!"
      ]
    },
    {
      "cell_type": "markdown",
      "metadata": {
        "id": "mV0tvs_VXy7c"
      },
      "source": [
        "## Bivariate Exploration\n",
        "\n",
        "> In this section, investigate relationships between pairs of variables in your\n",
        "data. Make sure the variables that you cover here have been introduced in some\n",
        "fashion in the previous section (univariate exploration)."
      ]
    },
    {
      "cell_type": "code",
      "metadata": {
        "id": "b-24Q2AHXy7d"
      },
      "source": [
        ""
      ],
      "execution_count": null,
      "outputs": []
    },
    {
      "cell_type": "markdown",
      "metadata": {
        "id": "OKZyPqrvXy7d"
      },
      "source": [
        "### Talk about some of the relationships you observed in this part of the investigation. How did the feature(s) of interest vary with other features in the dataset?\n",
        "\n",
        "> Your answer here!\n",
        "\n",
        "### Did you observe any interesting relationships between the other features (not the main feature(s) of interest)?\n",
        "\n",
        "> Your answer here!"
      ]
    },
    {
      "cell_type": "markdown",
      "metadata": {
        "id": "krUrDtucXy7d"
      },
      "source": [
        "## Multivariate Exploration\n",
        "\n",
        "> Create plots of three or more variables to investigate your data even\n",
        "further. Make sure that your investigations are justified, and follow from\n",
        "your work in the previous sections."
      ]
    },
    {
      "cell_type": "code",
      "metadata": {
        "id": "0Z-5a5iuXy7d"
      },
      "source": [
        ""
      ],
      "execution_count": null,
      "outputs": []
    },
    {
      "cell_type": "markdown",
      "metadata": {
        "id": "dNWCPhIJXy7e"
      },
      "source": [
        "### Talk about some of the relationships you observed in this part of the investigation. Were there features that strengthened each other in terms of looking at your feature(s) of interest?\n",
        "\n",
        "> Your answer here!\n",
        "\n",
        "### Were there any interesting or surprising interactions between features?\n",
        "\n",
        "> Your answer here!"
      ]
    },
    {
      "cell_type": "markdown",
      "metadata": {
        "id": "plkUByREXy7e"
      },
      "source": [
        "## Conclusions\n",
        ">You can write a summary of the main findings and reflect on the steps taken during the data exploration.\n"
      ]
    },
    {
      "cell_type": "markdown",
      "metadata": {
        "id": "WRq-wJsxXy7e"
      },
      "source": [
        "\n",
        "> Remove all Tips mentioned above, before you convert this notebook to PDF/HTML\n",
        "\n",
        "\n",
        "> At the end of your report, make sure that you export the notebook as an\n",
        "html file from the `File > Download as... > HTML or PDF` menu. Make sure you keep\n",
        "track of where the exported file goes, so you can put it in the same folder\n",
        "as this notebook for project submission. Also, make sure you remove all of\n",
        "the quote-formatted guide notes like this one before you finish your report!\n",
        "\n"
      ]
    },
    {
      "cell_type": "code",
      "metadata": {
        "id": "K6-2yK5pXy7e"
      },
      "source": [
        ""
      ],
      "execution_count": null,
      "outputs": []
    }
  ]
}