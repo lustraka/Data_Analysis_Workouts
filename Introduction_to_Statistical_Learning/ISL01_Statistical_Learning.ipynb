{
  "nbformat": 4,
  "nbformat_minor": 0,
  "metadata": {
    "colab": {
      "name": "ISL01_Statistical_Learning.ipynb",
      "provenance": [],
      "authorship_tag": "ABX9TyOmcMxGeunlgMUT1ZgWQpXB",
      "include_colab_link": true
    },
    "kernelspec": {
      "name": "python3",
      "display_name": "Python 3"
    },
    "language_info": {
      "name": "python"
    }
  },
  "cells": [
    {
      "cell_type": "markdown",
      "metadata": {
        "id": "view-in-github",
        "colab_type": "text"
      },
      "source": [
        "<a href=\"https://colab.research.google.com/github/lustraka/Data_Analysis_Workouts/blob/main/Introduction_to_Statistical_Learning/ISL01_Statistical_Learning.ipynb\" target=\"_parent\"><img src=\"https://colab.research.google.com/assets/colab-badge.svg\" alt=\"Open In Colab\"/></a>"
      ]
    },
    {
      "cell_type": "markdown",
      "metadata": {
        "id": "EifKdVrSjN-k"
      },
      "source": [
        "# What is Statistical Learning?"
      ]
    },
    {
      "cell_type": "markdown",
      "metadata": {
        "id": "UaSei3W-jV97"
      },
      "source": [
        "# Assessing Model Accuracy"
      ]
    },
    {
      "cell_type": "code",
      "metadata": {
        "id": "IPQQgUtrivAY"
      },
      "source": [
        ""
      ],
      "execution_count": null,
      "outputs": []
    },
    {
      "cell_type": "markdown",
      "metadata": {
        "id": "lETx8_wljbfL"
      },
      "source": [
        "---\n",
        "# Notation\n",
        "We will use $n$ to represent the number of distinct data points, or observations, in our sample. We will let $p$ denote the number of variables that are available for use in making predictions. In general, we will let $x_{i,j}$ represent the value of the $jth$ variable for the $ith$ observation, where $i = 1, 2, ..., n$ and $j = 1, 2, ..., p$. Throughout this repository, $i$ is used to index the samples or observations (from $1$ to $n$) and $j$ is used to index the variables (from $1$ to $p$). We let $X$ denote an $n \\times p$ matrix whose $(i,j)th$ element is $x_{i,j}$. That is,\n",
        "\n",
        "$$X =\n",
        " \\begin{pmatrix}\n",
        "  x_{11} & x_{12} & \\cdots & x_{1p} \\\\\n",
        "  x_{21} & x_{22} & \\cdots & x_{2p} \\\\\n",
        "  \\vdots  & \\vdots  & \\ddots & \\vdots  \\\\\n",
        "  x_{n1} & x_{n2} & \\cdots & x_{np}\n",
        " \\end{pmatrix}.$$\n",
        "\n",
        "At times we are interested in the rows of $X$, which we write as $x_1, x_2,...,x_n$. Here $x_i$ is a vector of lenght $p$, containing the $p$ variable measurement for the $ith$ observation. That is, \n",
        "\n",
        "$$x_i =\n",
        " \\begin{pmatrix}\n",
        " x_{i1} \\\\\n",
        " x_{i2} \\\\\n",
        " \\vdots \\\\\n",
        " x_{ip}\n",
        " \\end{pmatrix}. \n",
        "  \\qquad\\text{(1)}$$\n",
        "\n",
        "At other times we are instead interested in the columns of $X$, which we write as $\\mathbf{x}_1, \\mathbf{x}_2, ... \\mathbf{x}_p$. Each is a vector of length $n$. That is,\n",
        "\n",
        "$$\\mathbf{x}_j =\n",
        " \\begin{pmatrix}\n",
        " x_{1j} \\\\\n",
        " x_{2j} \\\\\n",
        " \\vdots \\\\\n",
        " x_{nj}\n",
        " \\end{pmatrix}.$$\n",
        "\n",
        "Using this notation, the matrix $X$ can be written as\n",
        "\n",
        "$$X = (\\mathbf{x}_1 \\quad\\mathbf{x}_2 \\quad\\cdots\\quad\\mathbf{x}_p),$$\n",
        "or\n",
        "$$X =\n",
        " \\begin{pmatrix}\n",
        " x_1^T \\\\\n",
        " x_2^T \\\\\n",
        " \\vdots \\\\\n",
        " x_n^T\n",
        " \\end{pmatrix}.$$\n",
        "\n",
        "The $^T$ notation denotes the *transpose* of a matrix or vector. So, for example,\n",
        "\n",
        "$$X^T =\n",
        " \\begin{pmatrix}\n",
        "  x_{11} & x_{21} & \\cdots & x_{n1} \\\\\n",
        "  x_{12} & x_{22} & \\cdots & x_{n2} \\\\\n",
        "  \\vdots  & \\vdots  & \\ddots & \\vdots  \\\\\n",
        "  x_{1p} & x_{2p} & \\cdots & x_{np}\n",
        " \\end{pmatrix},$$\n",
        "\n",
        "while\n",
        "\n",
        "$$x_1^T = (x_{i1}\\quad x_{i2}\\quad\\cdots \\quad x_{ip}).$$\n",
        "\n",
        "We use $y_i$ to denote the $ith$ observation of the variable on which we wish to make predictions. Hence, we write the set of all $n$ observation in vector form as\n",
        "\n",
        "$$\\mathbf{y} =\n",
        " \\begin{pmatrix}\n",
        " y_{1} \\\\\n",
        " y_{2} \\\\\n",
        " \\vdots \\\\\n",
        " y_{n}\n",
        " \\end{pmatrix}.$$\n",
        "\n",
        "Then our observed data consists of $\\{(x_1,y_1), (x_2,y_2), ... , (x_n,y_n) \\}$, where each $x_i$ is a vector of length $p$.\n",
        "\n"
      ]
    },
    {
      "cell_type": "code",
      "metadata": {
        "id": "a2p7uzzUvfx9"
      },
      "source": [
        ""
      ],
      "execution_count": null,
      "outputs": []
    }
  ]
}