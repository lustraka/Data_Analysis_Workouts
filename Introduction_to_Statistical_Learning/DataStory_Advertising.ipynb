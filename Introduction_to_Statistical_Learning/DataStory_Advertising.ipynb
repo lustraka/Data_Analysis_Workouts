{
  "nbformat": 4,
  "nbformat_minor": 0,
  "metadata": {
    "colab": {
      "name": "ISL01_Statistical_Learning.ipynb",
      "provenance": [],
      "authorship_tag": "ABX9TyM+6EeIC6/OLiL/d6w+VTzR",
      "include_colab_link": true
    },
    "kernelspec": {
      "name": "python3",
      "display_name": "Python 3"
    },
    "language_info": {
      "name": "python"
    }
  },
  "cells": [
    {
      "cell_type": "markdown",
      "metadata": {
        "id": "view-in-github",
        "colab_type": "text"
      },
      "source": [
        "<a href=\"https://colab.research.google.com/github/lustraka/Data_Analysis_Workouts/blob/main/Introduction_to_Statistical_Learning/DataStory_Advertising.ipynb\" target=\"_parent\"><img src=\"https://colab.research.google.com/assets/colab-badge.svg\" alt=\"Open In Colab\"/></a>"
      ]
    },
    {
      "cell_type": "markdown",
      "metadata": {
        "id": "epkf7YMwmEQe"
      },
      "source": [
        "# Analyse Advertising Data\n",
        "## Ask Questions\n",
        "General | Specific\n",
        "--- | ---\n",
        "Can we determine if a relationship exists between predictors and response? | (1) Is there a relationship between advertising budget and sales?\n",
        "How strong is this relationship? | (2) How strong is the relationship between advertising budget and sales?\n",
        "Which predictors are related to response? | (3) Which media are associated with sales?\n",
        "How large is the association between each predictor and response? | (4) How large is the association between each medium and sales?\n",
        "How accurate are predictions once model is fit? | (5) How accurately can we predict future sales?\n",
        "Is a linear model appropriate? | (6) Is the relationship linear?\n",
        "Are there interaction effects? | (7) Is there synergy among the advertising media?\n",
        "\n",
        "## Wrangle Data"
      ]
    },
    {
      "cell_type": "code",
      "metadata": {
        "id": "IPQQgUtrivAY",
        "colab": {
          "base_uri": "https://localhost:8080/"
        },
        "outputId": "c8d0208a-78d4-4611-f7da-58109e0241eb"
      },
      "source": [
        "import pandas as pd\n",
        "import numpy as np\n",
        "import matplotlib.pyplot as plt\n",
        "import seaborn as sns\n",
        "\n",
        "from numpy.polynomial import Polynomial\n",
        "import statsmodels.formula.api as smf\n",
        "\n",
        "import warnings\n",
        "warnings.filterwarnings('ignore')"
      ],
      "execution_count": 1,
      "outputs": [
        {
          "output_type": "stream",
          "name": "stderr",
          "text": [
            "/usr/local/lib/python3.7/dist-packages/statsmodels/tools/_testing.py:19: FutureWarning: pandas.util.testing is deprecated. Use the functions in the public API at pandas.testing instead.\n",
            "  import pandas.util.testing as tm\n"
          ]
        }
      ]
    },
    {
      "cell_type": "code",
      "metadata": {
        "colab": {
          "base_uri": "https://localhost:8080/"
        },
        "id": "lfKd2E2ocBNC",
        "outputId": "ad4ed4d1-fb66-4986-c7c0-5834fa838ccb"
      },
      "source": [
        "path = 'https://raw.githubusercontent.com/tdpetrou/Machine-Learning-Books-With-Python/master/Introduction%20to%20Statistical%20Learning/data/'\n",
        "adv = pd.read_csv(path+'Advertising.csv')\n",
        "adv.info()"
      ],
      "execution_count": 2,
      "outputs": [
        {
          "output_type": "stream",
          "name": "stdout",
          "text": [
            "<class 'pandas.core.frame.DataFrame'>\n",
            "RangeIndex: 200 entries, 0 to 199\n",
            "Data columns (total 4 columns):\n",
            " #   Column     Non-Null Count  Dtype  \n",
            "---  ------     --------------  -----  \n",
            " 0   TV         200 non-null    float64\n",
            " 1   Radio      200 non-null    float64\n",
            " 2   Newspaper  200 non-null    float64\n",
            " 3   Sales      200 non-null    float64\n",
            "dtypes: float64(4)\n",
            "memory usage: 6.4 KB\n"
          ]
        }
      ]
    },
    {
      "cell_type": "markdown",
      "metadata": {
        "id": "tR-LBloanxTN"
      },
      "source": [
        "## Explore Data\n",
        "### Simple Regression\n",
        "\n",
        "**Regress $\\text{Sales}$ onto $\\text{TV}$** by fitting the model\n",
        "$\\text{Sales} \\approx \\beta_0 + \\beta_1 \\times \\text{TV}$."
      ]
    },
    {
      "cell_type": "code",
      "metadata": {
        "colab": {
          "base_uri": "https://localhost:8080/"
        },
        "id": "PHL7UqvNgIiQ",
        "outputId": "ca2928e5-67fb-4977-feac-a905ad2af8be"
      },
      "source": [
        "# Use R-style formulas with formula.api\n",
        "print(smf.ols('Sales ~ TV', data=adv).fit().summary())"
      ],
      "execution_count": 3,
      "outputs": [
        {
          "output_type": "stream",
          "name": "stdout",
          "text": [
            "                            OLS Regression Results                            \n",
            "==============================================================================\n",
            "Dep. Variable:                  Sales   R-squared:                       0.612\n",
            "Model:                            OLS   Adj. R-squared:                  0.610\n",
            "Method:                 Least Squares   F-statistic:                     312.1\n",
            "Date:                Mon, 18 Oct 2021   Prob (F-statistic):           1.47e-42\n",
            "Time:                        08:26:28   Log-Likelihood:                -519.05\n",
            "No. Observations:                 200   AIC:                             1042.\n",
            "Df Residuals:                     198   BIC:                             1049.\n",
            "Df Model:                           1                                         \n",
            "Covariance Type:            nonrobust                                         \n",
            "==============================================================================\n",
            "                 coef    std err          t      P>|t|      [0.025      0.975]\n",
            "------------------------------------------------------------------------------\n",
            "Intercept      7.0326      0.458     15.360      0.000       6.130       7.935\n",
            "TV             0.0475      0.003     17.668      0.000       0.042       0.053\n",
            "==============================================================================\n",
            "Omnibus:                        0.531   Durbin-Watson:                   1.935\n",
            "Prob(Omnibus):                  0.767   Jarque-Bera (JB):                0.669\n",
            "Skew:                          -0.089   Prob(JB):                        0.716\n",
            "Kurtosis:                       2.779   Cond. No.                         338.\n",
            "==============================================================================\n",
            "\n",
            "Warnings:\n",
            "[1] Standard Errors assume that the covariance matrix of the errors is correctly specified.\n"
          ]
        }
      ]
    },
    {
      "cell_type": "markdown",
      "metadata": {
        "id": "E98Op4NXBAtu"
      },
      "source": [
        "(Ref ISL Table 3.1) Coefficients of the least squares model for the regression of number of units sold on TV advertising budget. An increase of $1,000 in the TV advertising budget is associated with an increase in sales by around 50 units.\n",
        "\n",
        "**Regress $\\text{Sales}$ onto $\\text{Radio}$** by fitting the model\n",
        "$\\text{Sales} \\approx \\beta_0 + \\beta_1 \\times \\text{Radio}$."
      ]
    },
    {
      "cell_type": "code",
      "metadata": {
        "id": "9D7DleMiCNOE",
        "colab": {
          "base_uri": "https://localhost:8080/"
        },
        "outputId": "bfc8e6b1-185c-45e8-9cba-5b124442af79"
      },
      "source": [
        "# Regress Sales onto Radio\n",
        "print(smf.ols('Sales ~ Radio', data=adv).fit().summary())"
      ],
      "execution_count": 4,
      "outputs": [
        {
          "output_type": "stream",
          "name": "stdout",
          "text": [
            "                            OLS Regression Results                            \n",
            "==============================================================================\n",
            "Dep. Variable:                  Sales   R-squared:                       0.332\n",
            "Model:                            OLS   Adj. R-squared:                  0.329\n",
            "Method:                 Least Squares   F-statistic:                     98.42\n",
            "Date:                Mon, 18 Oct 2021   Prob (F-statistic):           4.35e-19\n",
            "Time:                        08:26:28   Log-Likelihood:                -573.34\n",
            "No. Observations:                 200   AIC:                             1151.\n",
            "Df Residuals:                     198   BIC:                             1157.\n",
            "Df Model:                           1                                         \n",
            "Covariance Type:            nonrobust                                         \n",
            "==============================================================================\n",
            "                 coef    std err          t      P>|t|      [0.025      0.975]\n",
            "------------------------------------------------------------------------------\n",
            "Intercept      9.3116      0.563     16.542      0.000       8.202      10.422\n",
            "Radio          0.2025      0.020      9.921      0.000       0.162       0.243\n",
            "==============================================================================\n",
            "Omnibus:                       19.358   Durbin-Watson:                   1.946\n",
            "Prob(Omnibus):                  0.000   Jarque-Bera (JB):               21.910\n",
            "Skew:                          -0.764   Prob(JB):                     1.75e-05\n",
            "Kurtosis:                       3.544   Cond. No.                         51.4\n",
            "==============================================================================\n",
            "\n",
            "Warnings:\n",
            "[1] Standard Errors assume that the covariance matrix of the errors is correctly specified.\n"
          ]
        }
      ]
    },
    {
      "cell_type": "markdown",
      "metadata": {
        "id": "gbtGObW6CjnM"
      },
      "source": [
        "(Ref ISL Table 3.3) More simple linear regression models for the `Advertising` data. A $1,000 increase in spending on radio advertising is associated with an average increase in sales by around 203 units, while the same increase in spending on newspaper advertising is associated with an average increse in sales by around 55 units."
      ]
    },
    {
      "cell_type": "code",
      "metadata": {
        "id": "G_7gng-6e-TV",
        "outputId": "f445597b-393b-4119-8445-5640c875f296",
        "colab": {
          "base_uri": "https://localhost:8080/"
        }
      },
      "source": [
        "# Regress Sales onto Newspaper\n",
        "print(smf.ols('Sales ~ Newspaper', data=adv).fit().summary())"
      ],
      "execution_count": 5,
      "outputs": [
        {
          "output_type": "stream",
          "name": "stdout",
          "text": [
            "                            OLS Regression Results                            \n",
            "==============================================================================\n",
            "Dep. Variable:                  Sales   R-squared:                       0.052\n",
            "Model:                            OLS   Adj. R-squared:                  0.047\n",
            "Method:                 Least Squares   F-statistic:                     10.89\n",
            "Date:                Mon, 18 Oct 2021   Prob (F-statistic):            0.00115\n",
            "Time:                        08:26:28   Log-Likelihood:                -608.34\n",
            "No. Observations:                 200   AIC:                             1221.\n",
            "Df Residuals:                     198   BIC:                             1227.\n",
            "Df Model:                           1                                         \n",
            "Covariance Type:            nonrobust                                         \n",
            "==============================================================================\n",
            "                 coef    std err          t      P>|t|      [0.025      0.975]\n",
            "------------------------------------------------------------------------------\n",
            "Intercept     12.3514      0.621     19.876      0.000      11.126      13.577\n",
            "Newspaper      0.0547      0.017      3.300      0.001       0.022       0.087\n",
            "==============================================================================\n",
            "Omnibus:                        6.231   Durbin-Watson:                   1.983\n",
            "Prob(Omnibus):                  0.044   Jarque-Bera (JB):                5.483\n",
            "Skew:                           0.330   Prob(JB):                       0.0645\n",
            "Kurtosis:                       2.527   Cond. No.                         64.7\n",
            "==============================================================================\n",
            "\n",
            "Warnings:\n",
            "[1] Standard Errors assume that the covariance matrix of the errors is correctly specified.\n"
          ]
        }
      ]
    },
    {
      "cell_type": "markdown",
      "metadata": {
        "id": "b_2RaPuvffiT"
      },
      "source": [
        "### Multiple Regression\n",
        "We can run three separate simple linear regressions, each of which uses a different advertising medium as a predictor. See the sub-chapter above. However, the approach of fitting a separate simple linear regression model for each predictor is not entirely satisfactory:\n",
        "- It is unclear how to make a single prediction of sales given the three advertising media budgets, since each of the budgets is associated with a separate regression equation.\n",
        "- Each of the three regression equations ignores the other two media in forming estimates for the regression coefficients. If the media budgets are correlated with each other in the 200 markets in our data set, then this can lead to very misleading estimates of the association between each media budget and sales.\n",
        "\n",
        "Instead of fitting a separate simple linear regression model for each predictor, a better approach is to extend the simple linear regression model $(3.5)$ so that it can directly accomodate multiple predictors. We can do this by giving each predictor a separate slope coefficient in a single model:\n",
        "$$\\text{Sales} = \\beta_0 + \\beta_{TV}\\times\\text{TV} + \\beta_{Radio}\\times\\text{Radio} + \\beta_{Newpaper}\\times\\text{Newspaper} + \\epsilon,\\qquad(20)$$ "
      ]
    },
    {
      "cell_type": "code",
      "metadata": {
        "id": "M_hZhzjR8b00",
        "colab": {
          "base_uri": "https://localhost:8080/"
        },
        "outputId": "7fbeaf11-99de-4201-b84c-3a10a6a3bb13"
      },
      "source": [
        "res = smf.ols('Sales ~ TV + Radio + Newspaper', data=adv).fit()\n",
        "print(res.summary())"
      ],
      "execution_count": 6,
      "outputs": [
        {
          "output_type": "stream",
          "name": "stdout",
          "text": [
            "                            OLS Regression Results                            \n",
            "==============================================================================\n",
            "Dep. Variable:                  Sales   R-squared:                       0.897\n",
            "Model:                            OLS   Adj. R-squared:                  0.896\n",
            "Method:                 Least Squares   F-statistic:                     570.3\n",
            "Date:                Mon, 18 Oct 2021   Prob (F-statistic):           1.58e-96\n",
            "Time:                        08:26:28   Log-Likelihood:                -386.18\n",
            "No. Observations:                 200   AIC:                             780.4\n",
            "Df Residuals:                     196   BIC:                             793.6\n",
            "Df Model:                           3                                         \n",
            "Covariance Type:            nonrobust                                         \n",
            "==============================================================================\n",
            "                 coef    std err          t      P>|t|      [0.025      0.975]\n",
            "------------------------------------------------------------------------------\n",
            "Intercept      2.9389      0.312      9.422      0.000       2.324       3.554\n",
            "TV             0.0458      0.001     32.809      0.000       0.043       0.049\n",
            "Radio          0.1885      0.009     21.893      0.000       0.172       0.206\n",
            "Newspaper     -0.0010      0.006     -0.177      0.860      -0.013       0.011\n",
            "==============================================================================\n",
            "Omnibus:                       60.414   Durbin-Watson:                   2.084\n",
            "Prob(Omnibus):                  0.000   Jarque-Bera (JB):              151.241\n",
            "Skew:                          -1.327   Prob(JB):                     1.44e-33\n",
            "Kurtosis:                       6.332   Cond. No.                         454.\n",
            "==============================================================================\n",
            "\n",
            "Warnings:\n",
            "[1] Standard Errors assume that the covariance matrix of the errors is correctly specified.\n"
          ]
        }
      ]
    },
    {
      "cell_type": "markdown",
      "metadata": {
        "id": "Hkc3Fq25Efft"
      },
      "source": [
        "For a given amount of TV and newspaper advertising, spending additional \\$1,000 on radio advertising is associated with approximately 189 units of additional sales. Comparing these coefficient estimates to those computed individually, we notice that the multiple regression coefficient estimates for *TV* and *Radio* are pretty similar to the simple linear regression coefficient estimates. However, while *Newspaper* regression coefficient estimate in simple linear model was significantly non-zero, the coefficient estimate for *Newspaper* in multiple regression model is close to zero, and the corresponding $p$-value is no longer significant, with a value around $0.86$. This illustrates that the simple and multiple regression coefficients can be quite different. This difference stems from the fact that in the simple regression case, the slope term represents the average increase in product sales associated with a unit increase in newspaper advertising, ignoring other predictors such as *TV* and *Radio*. By contrast, in the multiple regression setting, the coefficent for *Newspaper* represents the average increase in product sales associated with increasing newspaper spending by one unit while holding *TV* and *Radio* fixed.\n",
        "\n",
        "Consider the correlation matrix for the three predictor variables and response variable:"
      ]
    },
    {
      "cell_type": "code",
      "metadata": {
        "id": "7-u9k6yCzFGk",
        "colab": {
          "base_uri": "https://localhost:8080/",
          "height": 173
        },
        "outputId": "72c62db9-381a-4b64-ecfa-a3ab33e12f76"
      },
      "source": [
        "adv.corr().round(3)"
      ],
      "execution_count": 7,
      "outputs": [
        {
          "output_type": "execute_result",
          "data": {
            "text/html": [
              "<div>\n",
              "<style scoped>\n",
              "    .dataframe tbody tr th:only-of-type {\n",
              "        vertical-align: middle;\n",
              "    }\n",
              "\n",
              "    .dataframe tbody tr th {\n",
              "        vertical-align: top;\n",
              "    }\n",
              "\n",
              "    .dataframe thead th {\n",
              "        text-align: right;\n",
              "    }\n",
              "</style>\n",
              "<table border=\"1\" class=\"dataframe\">\n",
              "  <thead>\n",
              "    <tr style=\"text-align: right;\">\n",
              "      <th></th>\n",
              "      <th>TV</th>\n",
              "      <th>Radio</th>\n",
              "      <th>Newspaper</th>\n",
              "      <th>Sales</th>\n",
              "    </tr>\n",
              "  </thead>\n",
              "  <tbody>\n",
              "    <tr>\n",
              "      <th>TV</th>\n",
              "      <td>1.000</td>\n",
              "      <td>0.055</td>\n",
              "      <td>0.057</td>\n",
              "      <td>0.782</td>\n",
              "    </tr>\n",
              "    <tr>\n",
              "      <th>Radio</th>\n",
              "      <td>0.055</td>\n",
              "      <td>1.000</td>\n",
              "      <td>0.354</td>\n",
              "      <td>0.576</td>\n",
              "    </tr>\n",
              "    <tr>\n",
              "      <th>Newspaper</th>\n",
              "      <td>0.057</td>\n",
              "      <td>0.354</td>\n",
              "      <td>1.000</td>\n",
              "      <td>0.228</td>\n",
              "    </tr>\n",
              "    <tr>\n",
              "      <th>Sales</th>\n",
              "      <td>0.782</td>\n",
              "      <td>0.576</td>\n",
              "      <td>0.228</td>\n",
              "      <td>1.000</td>\n",
              "    </tr>\n",
              "  </tbody>\n",
              "</table>\n",
              "</div>"
            ],
            "text/plain": [
              "              TV  Radio  Newspaper  Sales\n",
              "TV         1.000  0.055      0.057  0.782\n",
              "Radio      0.055  1.000      0.354  0.576\n",
              "Newspaper  0.057  0.354      1.000  0.228\n",
              "Sales      0.782  0.576      0.228  1.000"
            ]
          },
          "metadata": {},
          "execution_count": 7
        }
      ]
    },
    {
      "cell_type": "markdown",
      "metadata": {
        "id": "TEEphODy0uZL"
      },
      "source": [
        "Notice that the correlation between *Radio* and *Newspaper* is $0.35$. This indicates that markets with high newspaper advertising tend also have high radio advertising. Thus, *Newspaper* gets \"credit\" for the association between *Radio* and *Sales*.\n",
        "\n",
        "To determine whether there is a relationship between the response and the predictors we test the null hypothesis, \n",
        "$$H_0:\\beta_{TV}=\\beta_{Radio}=\\beta_{Newspaper}=0$$\n",
        "versus the alternative\n",
        "$$H_a:\\text{at least one }\\beta_{j\\in\\{TV, Radio, Newspaper\\}} \\text{ is non-zero}.$$\n",
        "This hypothesis test is performed by computing $F$-statistic and $p$-value of the $F$-statistic:"
      ]
    },
    {
      "cell_type": "code",
      "metadata": {
        "id": "NbNLatui_tb1",
        "colab": {
          "base_uri": "https://localhost:8080/"
        },
        "outputId": "e40603d9-f2b4-434e-d196-c5573e7a67c6"
      },
      "source": [
        "print(f'The F-statistic of the model is {res.fvalue:.1f}. The p-value of this F-statistic is {res.f_pvalue:.2e}.')"
      ],
      "execution_count": 8,
      "outputs": [
        {
          "output_type": "stream",
          "name": "stdout",
          "text": [
            "The F-statistic of the model is 570.3. The p-value of this F-statistic is 1.58e-96.\n"
          ]
        }
      ]
    },
    {
      "cell_type": "markdown",
      "metadata": {
        "id": "UqYaaQbRDKVq"
      },
      "source": [
        "For the advertising data, $p$-value associated with the $F$-statistic is essentially zero, so we have extremely strong evidence that at least one of the media is associated with increased *Sales*.\n",
        "\n",
        "Now we can look at $t$-statistic and corresponding $p$-values of individual predictors. These provide information about whether each individual predictor is related to the response, after adjusting for the other predictors. Each $t$-statistic is the square root of the corresponding $F$-statistic of $F$-test that omits that single variable from the model, leaving all the others in. So it reports the *partial effect* of adding that variable to the model."
      ]
    },
    {
      "cell_type": "markdown",
      "metadata": {
        "id": "JmCGKghh4zn_"
      },
      "source": [
        "## Draw Conclusions\n",
        "###  (1) Is there a relationship between advertising budget and sales?\n",
        "\n",
        "> This question can be answered by fitting a multiple regression model of *Sales* onto *TV*, *Radio*, and *Newspaper*, as in $(20)$ and testing the  hypothesis $H_0: \\beta_{TV} = \\beta_{Radio} = \\beta_{Newspaper} = 0$. In Section 3.2.2,  we showed that the $F$-statistic can be used to determine whether or not we should reject this null hypothesis. In this case the $p$-value corresponding to the $F$-statistic in Table 3.6 is very low, indicating  clear evidence of a relationship between advertising and sales.\n"
      ]
    },
    {
      "cell_type": "markdown",
      "metadata": {
        "id": "BMu2a3cP4zXG"
      },
      "source": [
        "###  (2) How strong is the relationship between advertising budget and sales?"
      ]
    },
    {
      "cell_type": "markdown",
      "metadata": {
        "id": "8YBR-0YE4zDO"
      },
      "source": [
        "###  (3) Which media are associated with sales?"
      ]
    },
    {
      "cell_type": "markdown",
      "metadata": {
        "id": "R_7dHqHS4y2Y"
      },
      "source": [
        "###  (4) How large is the association between each medium and sales?"
      ]
    },
    {
      "cell_type": "markdown",
      "metadata": {
        "id": "HqwdJdOu4ynW"
      },
      "source": [
        "###  (5) How accurately can we predict future sales?"
      ]
    },
    {
      "cell_type": "markdown",
      "metadata": {
        "id": "svBGA_HE4yF-"
      },
      "source": [
        "###  (6) Is the relationship linear?"
      ]
    },
    {
      "cell_type": "markdown",
      "metadata": {
        "id": "1mGm-eON4xw9"
      },
      "source": [
        "###  (7) Is there synergy among the advertising media?"
      ]
    },
    {
      "cell_type": "markdown",
      "metadata": {
        "id": "0rRwX261jlF5"
      },
      "source": [
        "## References\n",
        "- [np.polyfit: transition guide](https://numpy.org/doc/stable/reference/routines.polynomials.html)\n",
        "- [np.Polynomial](https://numpy.org/doc/stable/reference/generated/numpy.polynomial.polynomial.Polynomial.html#numpy.polynomial.polynomial.Polynomial)"
      ]
    }
  ]
}