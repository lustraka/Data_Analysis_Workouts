{
  "nbformat": 4,
  "nbformat_minor": 0,
  "metadata": {
    "kernelspec": {
      "display_name": "Python 3",
      "language": "python",
      "name": "python3"
    },
    "language_info": {
      "codemirror_mode": {
        "name": "ipython",
        "version": 3
      },
      "file_extension": ".py",
      "mimetype": "text/x-python",
      "name": "python",
      "nbconvert_exporter": "python",
      "pygments_lexer": "ipython3",
      "version": "3.6.3"
    },
    "colab": {
      "name": "Analyze_ab_test_results_notebook.ipynb",
      "provenance": []
    }
  },
  "cells": [
    {
      "cell_type": "markdown",
      "metadata": {
        "id": "Hubw6Sf-U6wR"
      },
      "source": [
        "# Analyze A/B Test Results \n",
        "\n",
        "This project will assure you have mastered the subjects covered in the statistics lessons. We have organized the current notebook into the following sections: \n",
        "\n",
        "- [Introduction](#intro)\n",
        "- [Part I - Probability](#probability)\n",
        "- [Part II - A/B Test](#ab_test)\n",
        "- [Part III - Regression](#regression)\n",
        "- [Final Check](#finalcheck)\n",
        "- [Conclusion](#conclusion)\n",
        "\n",
        "Specific programming tasks are marked with a **ToDo** tag. \n",
        "\n",
        "<a id='intro'></a>\n",
        "## Introduction\n",
        "\n",
        "A/B tests are very commonly performed by data analysts and data scientists. For this project, you will be working to understand the results of an A/B test run by an e-commerce website.  Your goal is to work through this notebook to help the company understand if they should:\n",
        "- Implement the new webpage, \n",
        "- Keep the old webpage, or \n",
        "- Perhaps run the experiment longer to make their decision.\n",
        "\n",
        "Each **ToDo** task below has an associated quiz present in the classroom.  Though the classroom quizzes are **not necessary** to complete the project, they help ensure you are on the right track as you work through the project, and you can feel more confident in your final submission meeting the [rubric](https://review.udacity.com/#!/rubrics/1214/view) specification. \n",
        "\n",
        ">**Tip**: Though it's not a mandate, students can attempt the classroom quizzes to ensure statistical numeric values are calculated correctly in many cases.\n",
        "\n",
        "<a id='probability'></a>\n",
        "## Part I - Probability\n",
        "\n",
        "To get started, let's import our libraries."
      ]
    },
    {
      "cell_type": "code",
      "metadata": {
        "collapsed": true,
        "id": "WUjPlbYIU6wX"
      },
      "source": [
        "import pandas as pd\n",
        "import numpy as np\n",
        "import random\n",
        "import matplotlib.pyplot as plt\n",
        "%matplotlib inline\n",
        "# We are setting the seed to assure you get the same answers on quizzes as we set up\n",
        "random.seed(42)"
      ],
      "execution_count": 1,
      "outputs": []
    },
    {
      "cell_type": "markdown",
      "metadata": {
        "id": "NWU_VBibU6wZ"
      },
      "source": [
        "### ToDo 1.1\n",
        "Now, read in the `ab_data.csv` data. Store it in `df`. Below is the description of the data, there are a total of 5 columns:\n",
        "\n",
        "<center>\n",
        "\n",
        "|Data columns|Purpose|Valid values|\n",
        "| ------------- |:-------------| -----:|\n",
        "|user_id|Unique ID|Int64 values|\n",
        "|timestamp|Time stamp when the user visited the webpage|-|\n",
        "|group|In the current A/B experiment, the users are categorized into two broad groups. <br>The `control` group users are expected to be served with `old_page`; and `treatment` group users are matched with the `new_page`. <br>However, **some inaccurate rows** are present in the initial data, such as a `control` group user is matched with a `new_page`. |`['control', 'treatment']`|\n",
        "|landing_page|It denotes whether the user visited the old or new webpage.|`['old_page', 'new_page']`|\n",
        "|converted|It denotes whether the user decided to pay for the company's product. Here, `1` means yes, the user bought the product.|`[0, 1]`|\n",
        "</center>\n",
        "Use your dataframe to answer the questions in Quiz 1 of the classroom.\n",
        "\n",
        "\n",
        ">**Tip**: Please save your work regularly.\n",
        "\n",
        "**a.** Read in the dataset from the `ab_data.csv` file and take a look at the top few rows here:"
      ]
    },
    {
      "cell_type": "code",
      "metadata": {
        "collapsed": true,
        "colab": {
          "base_uri": "https://localhost:8080/",
          "height": 202
        },
        "id": "xaNHHc2wU6wa",
        "outputId": "37533ef6-83f5-4593-f731-d34f78d15634"
      },
      "source": [
        "path = 'https://raw.githubusercontent.com/lustraka/Data_Analysis_Workouts/main/Analyse_AB_Test_Results/'\n",
        "df = pd.read_csv(path+'ab_data.csv', parse_dates=['timestamp'])\n",
        "df.head()"
      ],
      "execution_count": 2,
      "outputs": [
        {
          "output_type": "execute_result",
          "data": {
            "text/html": [
              "<div>\n",
              "<style scoped>\n",
              "    .dataframe tbody tr th:only-of-type {\n",
              "        vertical-align: middle;\n",
              "    }\n",
              "\n",
              "    .dataframe tbody tr th {\n",
              "        vertical-align: top;\n",
              "    }\n",
              "\n",
              "    .dataframe thead th {\n",
              "        text-align: right;\n",
              "    }\n",
              "</style>\n",
              "<table border=\"1\" class=\"dataframe\">\n",
              "  <thead>\n",
              "    <tr style=\"text-align: right;\">\n",
              "      <th></th>\n",
              "      <th>user_id</th>\n",
              "      <th>timestamp</th>\n",
              "      <th>group</th>\n",
              "      <th>landing_page</th>\n",
              "      <th>converted</th>\n",
              "    </tr>\n",
              "  </thead>\n",
              "  <tbody>\n",
              "    <tr>\n",
              "      <th>0</th>\n",
              "      <td>851104</td>\n",
              "      <td>2017-01-21 22:11:48.556739</td>\n",
              "      <td>control</td>\n",
              "      <td>old_page</td>\n",
              "      <td>0</td>\n",
              "    </tr>\n",
              "    <tr>\n",
              "      <th>1</th>\n",
              "      <td>804228</td>\n",
              "      <td>2017-01-12 08:01:45.159739</td>\n",
              "      <td>control</td>\n",
              "      <td>old_page</td>\n",
              "      <td>0</td>\n",
              "    </tr>\n",
              "    <tr>\n",
              "      <th>2</th>\n",
              "      <td>661590</td>\n",
              "      <td>2017-01-11 16:55:06.154213</td>\n",
              "      <td>treatment</td>\n",
              "      <td>new_page</td>\n",
              "      <td>0</td>\n",
              "    </tr>\n",
              "    <tr>\n",
              "      <th>3</th>\n",
              "      <td>853541</td>\n",
              "      <td>2017-01-08 18:28:03.143765</td>\n",
              "      <td>treatment</td>\n",
              "      <td>new_page</td>\n",
              "      <td>0</td>\n",
              "    </tr>\n",
              "    <tr>\n",
              "      <th>4</th>\n",
              "      <td>864975</td>\n",
              "      <td>2017-01-21 01:52:26.210827</td>\n",
              "      <td>control</td>\n",
              "      <td>old_page</td>\n",
              "      <td>1</td>\n",
              "    </tr>\n",
              "  </tbody>\n",
              "</table>\n",
              "</div>"
            ],
            "text/plain": [
              "   user_id                  timestamp      group landing_page  converted\n",
              "0   851104 2017-01-21 22:11:48.556739    control     old_page          0\n",
              "1   804228 2017-01-12 08:01:45.159739    control     old_page          0\n",
              "2   661590 2017-01-11 16:55:06.154213  treatment     new_page          0\n",
              "3   853541 2017-01-08 18:28:03.143765  treatment     new_page          0\n",
              "4   864975 2017-01-21 01:52:26.210827    control     old_page          1"
            ]
          },
          "metadata": {},
          "execution_count": 2
        }
      ]
    },
    {
      "cell_type": "markdown",
      "metadata": {
        "id": "Jd_xAX_nU6wa"
      },
      "source": [
        "**b.** Use the cell below to find the number of rows in the dataset."
      ]
    },
    {
      "cell_type": "code",
      "metadata": {
        "collapsed": true,
        "colab": {
          "base_uri": "https://localhost:8080/"
        },
        "id": "m1QEfoMoU6wb",
        "outputId": "ce42980f-bb5d-473b-e8e3-ff5b23179829"
      },
      "source": [
        "print(f'The dataset has {df.shape[0]:,d} observations.')"
      ],
      "execution_count": 3,
      "outputs": [
        {
          "output_type": "stream",
          "name": "stdout",
          "text": [
            "The dataset has 294,478 observations.\n"
          ]
        }
      ]
    },
    {
      "cell_type": "markdown",
      "metadata": {
        "id": "kGkkMc3qU6wb"
      },
      "source": [
        "**c.** The number of unique users in the dataset."
      ]
    },
    {
      "cell_type": "code",
      "metadata": {
        "collapsed": true,
        "colab": {
          "base_uri": "https://localhost:8080/"
        },
        "id": "4GeYp-pIU6wc",
        "outputId": "e47c2259-11da-4d49-8383-2d62fa8a2848"
      },
      "source": [
        "n_users = df.user_id.nunique()\n",
        "print(f'The dataset contains observations for {n_users:,d} unique users.')"
      ],
      "execution_count": 4,
      "outputs": [
        {
          "output_type": "stream",
          "name": "stdout",
          "text": [
            "The dataset contains observations for 290,584 unique users.\n"
          ]
        }
      ]
    },
    {
      "cell_type": "markdown",
      "metadata": {
        "collapsed": true,
        "id": "eXy8bJOAU6wc"
      },
      "source": [
        "**d.** The proportion of users converted."
      ]
    },
    {
      "cell_type": "code",
      "metadata": {
        "collapsed": true,
        "colab": {
          "base_uri": "https://localhost:8080/"
        },
        "id": "Ktib73_jU6wd",
        "outputId": "4a55a196-2f95-47f1-cbbf-09468fb30bd0"
      },
      "source": [
        "converted = df.drop_duplicates('user_id').converted.sum()\n",
        "print(f'{converted:,d} unique users were converted, so the proportion is {converted/n_users:.2%}.')"
      ],
      "execution_count": 5,
      "outputs": [
        {
          "output_type": "stream",
          "name": "stdout",
          "text": [
            "34,745 unique users were converted, so the proportion is 11.96%.\n"
          ]
        }
      ]
    },
    {
      "cell_type": "markdown",
      "metadata": {
        "collapsed": true,
        "id": "JqdnxxI7U6we"
      },
      "source": [
        "**e.** The number of times when the \"group\" is `treatment` but \"landing_page\" is not a `new_page`."
      ]
    },
    {
      "cell_type": "code",
      "metadata": {
        "collapsed": true,
        "colab": {
          "base_uri": "https://localhost:8080/"
        },
        "id": "OuiICv3OU6we",
        "outputId": "14a186b0-8135-4753-a687-2538fe8eba7e"
      },
      "source": [
        "df.query('group == \"treatment\" and landing_page != \"new_page\"').shape[0]"
      ],
      "execution_count": 6,
      "outputs": [
        {
          "output_type": "execute_result",
          "data": {
            "text/plain": [
              "1965"
            ]
          },
          "metadata": {},
          "execution_count": 6
        }
      ]
    },
    {
      "cell_type": "markdown",
      "metadata": {
        "id": "yJzNoVnZU6we"
      },
      "source": [
        "**f.** Do any of the rows have missing values?"
      ]
    },
    {
      "cell_type": "code",
      "metadata": {
        "collapsed": true,
        "colab": {
          "base_uri": "https://localhost:8080/"
        },
        "id": "gj6CYwRxU6wf",
        "outputId": "18dcacec-a3da-4a4b-a6fa-ad8d8224e72c"
      },
      "source": [
        "df.isna().any().any()"
      ],
      "execution_count": 7,
      "outputs": [
        {
          "output_type": "execute_result",
          "data": {
            "text/plain": [
              "False"
            ]
          },
          "metadata": {},
          "execution_count": 7
        }
      ]
    },
    {
      "cell_type": "markdown",
      "metadata": {
        "id": "JxkHuoYIU6wf"
      },
      "source": [
        "### ToDo 1.2  \n",
        "In a particular row, the **group** and **landing_page** columns should have either of the following acceptable values:\n",
        "\n",
        "|user_id| timestamp|group|landing_page|converted|\n",
        "|---|---|---|---|---|\n",
        "|XXXX|XXXX|`control`| `old_page`|X |\n",
        "|XXXX|XXXX|`treatment`|`new_page`|X |\n",
        "\n",
        "\n",
        "It means, the `control` group users should match with `old_page`; and `treatment` group users should matched with the `new_page`. \n",
        "\n",
        "However, for the rows where `treatment` does not match with `new_page` or `control` does not match with `old_page`, we cannot be sure if such rows truly received the new or old wepage.  \n",
        "\n",
        "\n",
        "Use **Quiz 2** in the classroom to figure out how should we handle the rows where the group and landing_page columns don't match?\n",
        "\n",
        "**a.** Now use the answer to the quiz to create a new dataset that meets the specifications from the quiz.  Store your new dataframe in **df2**."
      ]
    },
    {
      "cell_type": "code",
      "metadata": {
        "collapsed": true,
        "id": "lcHczJRqU6wg"
      },
      "source": [
        "# Remove the inaccurate rows, and store the result in a new dataframe df2\n",
        "df2 = df.query('(group == \"treatment\" and landing_page == \"new_page\") or (group == \"control\" and landing_page == \"old_page\")').copy()"
      ],
      "execution_count": 8,
      "outputs": []
    },
    {
      "cell_type": "code",
      "metadata": {
        "collapsed": true,
        "colab": {
          "base_uri": "https://localhost:8080/"
        },
        "id": "eULeT3FpU6wg",
        "outputId": "023249ae-70a3-4b6a-a28b-2c584c78bca2"
      },
      "source": [
        "# Double Check all of the incorrect rows were removed from df2 - \n",
        "# Output of the statement below should be 0\n",
        "df2[((df2['group'] == 'treatment') == (df2['landing_page'] == 'new_page')) == False].shape[0]"
      ],
      "execution_count": 9,
      "outputs": [
        {
          "output_type": "execute_result",
          "data": {
            "text/plain": [
              "0"
            ]
          },
          "metadata": {},
          "execution_count": 9
        }
      ]
    },
    {
      "cell_type": "markdown",
      "metadata": {
        "id": "SZN2KY-CU6wg"
      },
      "source": [
        "### ToDo 1.3  \n",
        "Use **df2** and the cells below to answer questions for **Quiz 3** in the classroom."
      ]
    },
    {
      "cell_type": "markdown",
      "metadata": {
        "id": "9-GP6pe7U6wh"
      },
      "source": [
        "**a.** How many unique **user_id**s are in **df2**?"
      ]
    },
    {
      "cell_type": "code",
      "metadata": {
        "collapsed": true,
        "colab": {
          "base_uri": "https://localhost:8080/"
        },
        "id": "vjpWPEwsU6wh",
        "outputId": "6a83a99c-0719-4141-df50-50c69dc0e879"
      },
      "source": [
        "print(f'In df2, there are {df2.user_id.nunique():,d} unique users.')"
      ],
      "execution_count": 10,
      "outputs": [
        {
          "output_type": "stream",
          "name": "stdout",
          "text": [
            "In df2, there are 290,584 unique users.\n"
          ]
        }
      ]
    },
    {
      "cell_type": "markdown",
      "metadata": {
        "collapsed": true,
        "id": "4sczip1SU6wh"
      },
      "source": [
        "**b.** There is one **user_id** repeated in **df2**.  What is it?"
      ]
    },
    {
      "cell_type": "code",
      "metadata": {
        "collapsed": true,
        "colab": {
          "base_uri": "https://localhost:8080/",
          "height": 0
        },
        "id": "Laxju-lHU6wh",
        "outputId": "726b1522-b1e3-42a4-a793-d0d5161b1951"
      },
      "source": [
        "df2.loc[df2.user_id.duplicated()]"
      ],
      "execution_count": 11,
      "outputs": [
        {
          "output_type": "execute_result",
          "data": {
            "text/html": [
              "<div>\n",
              "<style scoped>\n",
              "    .dataframe tbody tr th:only-of-type {\n",
              "        vertical-align: middle;\n",
              "    }\n",
              "\n",
              "    .dataframe tbody tr th {\n",
              "        vertical-align: top;\n",
              "    }\n",
              "\n",
              "    .dataframe thead th {\n",
              "        text-align: right;\n",
              "    }\n",
              "</style>\n",
              "<table border=\"1\" class=\"dataframe\">\n",
              "  <thead>\n",
              "    <tr style=\"text-align: right;\">\n",
              "      <th></th>\n",
              "      <th>user_id</th>\n",
              "      <th>timestamp</th>\n",
              "      <th>group</th>\n",
              "      <th>landing_page</th>\n",
              "      <th>converted</th>\n",
              "    </tr>\n",
              "  </thead>\n",
              "  <tbody>\n",
              "    <tr>\n",
              "      <th>2893</th>\n",
              "      <td>773192</td>\n",
              "      <td>2017-01-14 02:55:59.590927</td>\n",
              "      <td>treatment</td>\n",
              "      <td>new_page</td>\n",
              "      <td>0</td>\n",
              "    </tr>\n",
              "  </tbody>\n",
              "</table>\n",
              "</div>"
            ],
            "text/plain": [
              "      user_id                  timestamp      group landing_page  converted\n",
              "2893   773192 2017-01-14 02:55:59.590927  treatment     new_page          0"
            ]
          },
          "metadata": {},
          "execution_count": 11
        }
      ]
    },
    {
      "cell_type": "markdown",
      "metadata": {
        "id": "En1kA8dWU6wh"
      },
      "source": [
        "**c.** Display the rows for the duplicate **user_id**? "
      ]
    },
    {
      "cell_type": "code",
      "metadata": {
        "collapsed": true,
        "colab": {
          "base_uri": "https://localhost:8080/",
          "height": 0
        },
        "id": "ux-MgnaQU6wi",
        "outputId": "89362d10-01d4-49e5-8b6e-84a87291ec04"
      },
      "source": [
        "repeat_user_id = df2.loc[df2.user_id.duplicated()]['user_id'].values[0]\n",
        "df.query('user_id == @repeat_user_id')"
      ],
      "execution_count": 12,
      "outputs": [
        {
          "output_type": "execute_result",
          "data": {
            "text/html": [
              "<div>\n",
              "<style scoped>\n",
              "    .dataframe tbody tr th:only-of-type {\n",
              "        vertical-align: middle;\n",
              "    }\n",
              "\n",
              "    .dataframe tbody tr th {\n",
              "        vertical-align: top;\n",
              "    }\n",
              "\n",
              "    .dataframe thead th {\n",
              "        text-align: right;\n",
              "    }\n",
              "</style>\n",
              "<table border=\"1\" class=\"dataframe\">\n",
              "  <thead>\n",
              "    <tr style=\"text-align: right;\">\n",
              "      <th></th>\n",
              "      <th>user_id</th>\n",
              "      <th>timestamp</th>\n",
              "      <th>group</th>\n",
              "      <th>landing_page</th>\n",
              "      <th>converted</th>\n",
              "    </tr>\n",
              "  </thead>\n",
              "  <tbody>\n",
              "    <tr>\n",
              "      <th>1899</th>\n",
              "      <td>773192</td>\n",
              "      <td>2017-01-09 05:37:58.781806</td>\n",
              "      <td>treatment</td>\n",
              "      <td>new_page</td>\n",
              "      <td>0</td>\n",
              "    </tr>\n",
              "    <tr>\n",
              "      <th>2893</th>\n",
              "      <td>773192</td>\n",
              "      <td>2017-01-14 02:55:59.590927</td>\n",
              "      <td>treatment</td>\n",
              "      <td>new_page</td>\n",
              "      <td>0</td>\n",
              "    </tr>\n",
              "  </tbody>\n",
              "</table>\n",
              "</div>"
            ],
            "text/plain": [
              "      user_id                  timestamp      group landing_page  converted\n",
              "1899   773192 2017-01-09 05:37:58.781806  treatment     new_page          0\n",
              "2893   773192 2017-01-14 02:55:59.590927  treatment     new_page          0"
            ]
          },
          "metadata": {},
          "execution_count": 12
        }
      ]
    },
    {
      "cell_type": "markdown",
      "metadata": {
        "id": "ka6J1Ne_U6wi"
      },
      "source": [
        "**d.** Remove **one** of the rows with a duplicate **user_id**, from the **df2** dataframe."
      ]
    },
    {
      "cell_type": "code",
      "metadata": {
        "collapsed": true,
        "colab": {
          "base_uri": "https://localhost:8080/"
        },
        "id": "zqx87ZkYU6wi",
        "outputId": "8b1a6e91-a915-4edb-deba-ee0a04903394"
      },
      "source": [
        "# Remove one of the rows with a duplicate user_id..\n",
        "# Hint: The dataframe.drop_duplicates() may not work in this case because the rows with duplicate user_id are not entirely identical. \n",
        "df2.drop_duplicates('user_id', inplace=True)\n",
        "# Check again if the row with a duplicate user_id is deleted or not\n",
        "df2.duplicated('user_id').sum()"
      ],
      "execution_count": 13,
      "outputs": [
        {
          "output_type": "execute_result",
          "data": {
            "text/plain": [
              "0"
            ]
          },
          "metadata": {},
          "execution_count": 13
        }
      ]
    },
    {
      "cell_type": "markdown",
      "metadata": {
        "id": "45KBMD6yU6wi"
      },
      "source": [
        "### ToDo 1.4  \n",
        "Use **df2** in the cells below to answer the quiz questions related to **Quiz 4** in the classroom.\n",
        "\n",
        "**a.** What is the probability of an individual converting regardless of the page they receive?<br><br>\n",
        "\n",
        ">**Tip**: The probability  you'll compute represents the overall \"converted\" success rate in the population and you may call it $p_{population}$.\n",
        "\n"
      ]
    },
    {
      "cell_type": "code",
      "metadata": {
        "collapsed": true,
        "colab": {
          "base_uri": "https://localhost:8080/"
        },
        "id": "JwJ64q6UU6wi",
        "outputId": "28602f2d-679b-468c-c7b5-8f79743ffdaa"
      },
      "source": [
        "p_population = df2.converted.sum()/df2.shape[0]\n",
        "print(f\"The probability of converting regardless of page is {p_population:.4f}.\")"
      ],
      "execution_count": 14,
      "outputs": [
        {
          "output_type": "stream",
          "name": "stdout",
          "text": [
            "The probability of converting regardless of page is 0.1196.\n"
          ]
        }
      ]
    },
    {
      "cell_type": "markdown",
      "metadata": {
        "id": "mDcd5OnkU6wi"
      },
      "source": [
        "**b.** Given that an individual was in the `control` group, what is the probability they converted?"
      ]
    },
    {
      "cell_type": "code",
      "metadata": {
        "collapsed": true,
        "colab": {
          "base_uri": "https://localhost:8080/"
        },
        "id": "CQQpvNT0U6wj",
        "outputId": "00489b2c-46de-4416-d87d-dc34f0e1d4b6"
      },
      "source": [
        "df2_control = df2.query('group == \"control\"')\n",
        "p_control = df2_control.converted.sum()/df2_control.shape[0]\n",
        "print(f'The probability of converting in the control group is {p_control:.4f}.')"
      ],
      "execution_count": 15,
      "outputs": [
        {
          "output_type": "stream",
          "name": "stdout",
          "text": [
            "The probability of converting in the control group is 0.1204.\n"
          ]
        }
      ]
    },
    {
      "cell_type": "markdown",
      "metadata": {
        "id": "JowgeRPWU6wj"
      },
      "source": [
        "**c.** Given that an individual was in the `treatment` group, what is the probability they converted?"
      ]
    },
    {
      "cell_type": "code",
      "metadata": {
        "collapsed": true,
        "colab": {
          "base_uri": "https://localhost:8080/"
        },
        "id": "gt-zXLRgU6wj",
        "outputId": "3ed830b6-68ca-4400-d0f7-71c6dccb1a9b"
      },
      "source": [
        "df2_treatment = df2.query('group == \"treatment\"')\n",
        "p_treatment = df2_treatment.converted.sum()/df2_treatment.shape[0]\n",
        "print(f'The probability of converting in the treatment group is {p_treatment:.4f}.')"
      ],
      "execution_count": 16,
      "outputs": [
        {
          "output_type": "stream",
          "name": "stdout",
          "text": [
            "The probability of converting in the treatment group is 0.1188.\n"
          ]
        }
      ]
    },
    {
      "cell_type": "markdown",
      "metadata": {
        "id": "xCORIyL2U6wj"
      },
      "source": [
        ">**Tip**: The probabilities you've computed in the points (b). and (c). above can also be treated as conversion rate. \n",
        "Calculate the actual difference  (`obs_diff`) between the conversion rates for the two groups. You will need that later.  "
      ]
    },
    {
      "cell_type": "code",
      "metadata": {
        "colab": {
          "base_uri": "https://localhost:8080/"
        },
        "id": "0LRym116U6wj",
        "outputId": "9dca5864-2082-4d2a-a6f9-7aac259ea204"
      },
      "source": [
        "# Calculate the actual difference (obs_diff) between the conversion rates for the two groups.\n",
        "obs_diff = p_treatment - p_control\n",
        "print(f'Difference between the conversion rates is {obs_diff:.4f}')"
      ],
      "execution_count": 17,
      "outputs": [
        {
          "output_type": "stream",
          "name": "stdout",
          "text": [
            "Difference between the conversion rates is -0.0016\n"
          ]
        }
      ]
    },
    {
      "cell_type": "markdown",
      "metadata": {
        "id": "1or0uFWVU6wj"
      },
      "source": [
        "**d.** What is the probability that an individual received the new page?"
      ]
    },
    {
      "cell_type": "code",
      "metadata": {
        "collapsed": true,
        "colab": {
          "base_uri": "https://localhost:8080/"
        },
        "id": "ancGNN3MU6wk",
        "outputId": "5af064fa-6760-4cd0-ad40-c7d447ff47c4"
      },
      "source": [
        "p_new_page = df2.query('landing_page == \"new_page\"').shape[0]/df2.shape[0]\n",
        "print(f\"The probability of receiving a new page is {p_new_page:.4f}\")"
      ],
      "execution_count": 18,
      "outputs": [
        {
          "output_type": "stream",
          "name": "stdout",
          "text": [
            "The probability of receiving a new page is 0.5001\n"
          ]
        }
      ]
    },
    {
      "cell_type": "markdown",
      "metadata": {
        "id": "5EJnY4jBU6wk"
      },
      "source": [
        "**e.** Consider your results from parts (a) through (d) above, and explain below whether the new `treatment` group users lead to more conversions."
      ]
    },
    {
      "cell_type": "markdown",
      "metadata": {
        "id": "KhkJfxoAU6wk"
      },
      "source": [
        ">**The probability of converting in the treatment group $p_{treatment} = 11.88\\% $ and the probability of converting in the control group $p_{control} = 12.04\\%$. As $p_{treatment} < p_{control}$, in other words as $p_{treatment} - p_{control} = -0.0016 \\leq 0$, we can conclude, that the new `treatment` group users don't lead to more coversions.**"
      ]
    },
    {
      "cell_type": "markdown",
      "metadata": {
        "id": "Ni475BLQU6wk"
      },
      "source": [
        "<a id='ab_test'></a>\n",
        "## Part II - A/B Test\n",
        "\n",
        "Since a timestamp is associated with each event, you could run a hypothesis test continuously as long as you observe the events. \n",
        "\n",
        "However, then the hard questions would be: \n",
        "- Do you stop as soon as one page is considered significantly better than another or does it need to happen consistently for a certain amount of time?  \n",
        "- How long do you run to render a decision that neither page is better than another?  \n",
        "\n",
        "These questions are the difficult parts associated with A/B tests in general.  \n",
        "\n",
        "\n",
        "### ToDo 2.1\n",
        "For now, consider you need to make the decision just based on all the data provided.  \n",
        "\n",
        "> Recall that you just calculated that the \"converted\" probability (or rate) for the old page is *slightly* higher than that of the new page (ToDo 1.4.c). \n",
        "\n",
        "If you want to assume that the old page is better unless the new page proves to be definitely better at a Type I error rate of 5%, what should be your null and alternative hypotheses (**$H_0$** and **$H_1$**)?  \n",
        "\n",
        "You can state your hypothesis in terms of words or in terms of **$p_{old}$** and **$p_{new}$**, which are the \"converted\" probability (or rate) for the old and new pages respectively."
      ]
    },
    {
      "cell_type": "markdown",
      "metadata": {
        "id": "fitrgQDkU6wk"
      },
      "source": [
        ">**We set the null and alternative hypothesis in the following way:**\n",
        ">\n",
        ">**Null: The difference between the conversion rate in the treatment group and the conversion rate in the control group is lower or equal to zero, i.e.**\n",
        "> $$H_0: p_{new} - p_{old} \\leq 0$$\n",
        ">\n",
        ">**and**\n",
        ">\n",
        ">**Alternative: The difference between the conversion rate in the treatment group and the conversion rate in the control group is greater than zero, i.e.**\n",
        ">$$H_1: p_{new} - p_{old} > 0$$\n",
        ">\n",
        ">**where $p_{old}$ is the conversion rate in the control group and $p_{new}$ is the conversion rate in the treatment group. Furthermore, we set our threshold for Type I errors $\\alpha = 0.05$.**"
      ]
    },
    {
      "cell_type": "markdown",
      "metadata": {
        "id": "oIzqKkFIU6wk"
      },
      "source": [
        "### ToDo 2.2 - Null Hypothesis $H_0$ Testing\n",
        "Under the null hypothesis $H_0$, assume that $p_{new}$ and $p_{old}$ are equal. Furthermore, assume that $p_{new}$ and $p_{old}$ both are equal to the **converted** success rate in the `df2` data regardless of the page. So, our assumption is: <br><br>\n",
        "<center>\n",
        "$p_{new}$ = $p_{old}$ = $p_{population}$\n",
        "</center>\n",
        "\n",
        "In this section, you will: \n",
        "\n",
        "- Simulate (bootstrap) sample data set for both groups, and compute the  \"converted\" probability $p$ for those samples. \n",
        "\n",
        "\n",
        "- Use a sample size for each group equal to the ones in the `df2` data.\n",
        "\n",
        "\n",
        "- Compute the difference in the \"converted\" probability for the two samples above. \n",
        "\n",
        "\n",
        "- Perform the sampling distribution for the \"difference in the converted probability\" between the two simulated-samples over 10,000 iterations; and calculate an estimate. \n",
        "\n",
        "\n",
        "\n",
        "Use the cells below to provide the necessary parts of this simulation.  You can use **Quiz 5** in the classroom to make sure you are on the right track."
      ]
    },
    {
      "cell_type": "markdown",
      "metadata": {
        "id": "eW8HWTsmU6wl"
      },
      "source": [
        "**a.** What is the **conversion rate** for $p_{new}$ under the null hypothesis? "
      ]
    },
    {
      "cell_type": "code",
      "metadata": {
        "collapsed": true,
        "colab": {
          "base_uri": "https://localhost:8080/"
        },
        "id": "11KYNGE8U6wl",
        "outputId": "b26d8d8d-6bc0-4b00-816a-a02501fda2a7"
      },
      "source": [
        "print(f'{p_population:.4f}')"
      ],
      "execution_count": 19,
      "outputs": [
        {
          "output_type": "stream",
          "name": "stdout",
          "text": [
            "0.1196\n"
          ]
        }
      ]
    },
    {
      "cell_type": "markdown",
      "metadata": {
        "id": "PfDvuWbaU6wl"
      },
      "source": [
        "**b.** What is the **conversion rate** for $p_{old}$ under the null hypothesis? "
      ]
    },
    {
      "cell_type": "code",
      "metadata": {
        "collapsed": true,
        "colab": {
          "base_uri": "https://localhost:8080/"
        },
        "id": "gM7hq3fHU6wl",
        "outputId": "de2b557c-5ab3-4c41-c144-dfd6fc64005d"
      },
      "source": [
        "print(f'{p_population:.4f}')"
      ],
      "execution_count": 20,
      "outputs": [
        {
          "output_type": "stream",
          "name": "stdout",
          "text": [
            "0.1196\n"
          ]
        }
      ]
    },
    {
      "cell_type": "markdown",
      "metadata": {
        "id": "5zW7DphHU6wl"
      },
      "source": [
        "**c.** What is $n_{new}$, the number of individuals in the treatment group? <br><br>\n",
        "*Hint*: The treatment group users are shown the new page."
      ]
    },
    {
      "cell_type": "code",
      "metadata": {
        "collapsed": true,
        "colab": {
          "base_uri": "https://localhost:8080/"
        },
        "id": "yBM5rRfKU6wl",
        "outputId": "861c0dc6-7b8a-4158-ddc5-bde3b5fbb3ea"
      },
      "source": [
        "n_new = df2_treatment.shape[0]\n",
        "print(f'{n_new:,d}')"
      ],
      "execution_count": 21,
      "outputs": [
        {
          "output_type": "stream",
          "name": "stdout",
          "text": [
            "145,310\n"
          ]
        }
      ]
    },
    {
      "cell_type": "markdown",
      "metadata": {
        "id": "6yPO_rtjU6wl"
      },
      "source": [
        "**d.** What is $n_{old}$, the number of individuals in the control group?"
      ]
    },
    {
      "cell_type": "code",
      "metadata": {
        "collapsed": true,
        "colab": {
          "base_uri": "https://localhost:8080/"
        },
        "id": "VhRIIR-SU6wl",
        "outputId": "9cb632a6-ac7d-46de-acb1-59550177a39b"
      },
      "source": [
        "n_old = df2_control.shape[0]\n",
        "print(f'{n_old:,d}')"
      ],
      "execution_count": 22,
      "outputs": [
        {
          "output_type": "stream",
          "name": "stdout",
          "text": [
            "145,274\n"
          ]
        }
      ]
    },
    {
      "cell_type": "markdown",
      "metadata": {
        "id": "6QDvLbfpU6wl"
      },
      "source": [
        "**e. Simulate Sample for the `treatment` Group**<br> \n",
        "Simulate $n_{new}$ transactions with a conversion rate of $p_{new}$ under the null hypothesis.  <br><br>\n",
        "*Hint*: Use `numpy.random.choice()` method to randomly generate $n_{new}$ number of values. <br>\n",
        "Store these $n_{new}$ 1's and 0's in the `new_page_converted` numpy array.\n"
      ]
    },
    {
      "cell_type": "code",
      "metadata": {
        "collapsed": true,
        "colab": {
          "base_uri": "https://localhost:8080/"
        },
        "id": "7VWxr2VBU6wl",
        "outputId": "a2b69d1e-88b3-49de-c845-f200fc70c4a2"
      },
      "source": [
        "# Simulate a Sample for the treatment Group\n",
        "new_page_converted = np.random.choice([1,0], size=n_new, replace=True, p=[p_population, 1.0-p_population])\n",
        "new_page_converted.shape"
      ],
      "execution_count": 23,
      "outputs": [
        {
          "output_type": "execute_result",
          "data": {
            "text/plain": [
              "(145310,)"
            ]
          },
          "metadata": {},
          "execution_count": 23
        }
      ]
    },
    {
      "cell_type": "markdown",
      "metadata": {
        "id": "W5YLKxfpU6wm"
      },
      "source": [
        "**f. Simulate Sample for the `control` Group** <br>\n",
        "Simulate $n_{old}$ transactions with a conversion rate of $p_{old}$ under the null hypothesis. <br> Store these $n_{old}$ 1's and 0's in the `old_page_converted` numpy array."
      ]
    },
    {
      "cell_type": "code",
      "metadata": {
        "collapsed": true,
        "colab": {
          "base_uri": "https://localhost:8080/"
        },
        "id": "CKOcJzIiU6wm",
        "outputId": "1897c129-f672-47fc-9175-2cc002fb19af"
      },
      "source": [
        "# Simulate a Sample for the control Group\n",
        "old_page_converted = np.random.choice([1,0], size=n_old, replace=True, p=[p_population, 1.0-p_population])\n",
        "old_page_converted.shape"
      ],
      "execution_count": 24,
      "outputs": [
        {
          "output_type": "execute_result",
          "data": {
            "text/plain": [
              "(145274,)"
            ]
          },
          "metadata": {},
          "execution_count": 24
        }
      ]
    },
    {
      "cell_type": "markdown",
      "metadata": {
        "id": "cX5SHF5NU6wm"
      },
      "source": [
        "**g.** Find the difference in the \"converted\" probability $(p{'}_{new}$ - $p{'}_{old})$ for your simulated samples from the parts (e) and (f) above. "
      ]
    },
    {
      "cell_type": "code",
      "metadata": {
        "collapsed": true,
        "colab": {
          "base_uri": "https://localhost:8080/"
        },
        "id": "LcbcjT1jU6wm",
        "outputId": "d9fa8f11-540c-4e4d-89ae-1afcfa35ab91"
      },
      "source": [
        "new_page_converted.mean() - old_page_converted.mean()"
      ],
      "execution_count": 25,
      "outputs": [
        {
          "output_type": "execute_result",
          "data": {
            "text/plain": [
              "-0.00043583157018327323"
            ]
          },
          "metadata": {},
          "execution_count": 25
        }
      ]
    },
    {
      "cell_type": "markdown",
      "metadata": {
        "id": "gQZqNnnwU6wm"
      },
      "source": [
        "\n",
        "**h. Sampling distribution** <br>\n",
        "Re-create `new_page_converted` and `old_page_converted` and find the $(p{'}_{new}$ - $p{'}_{old})$ value 10,000 times using the same simulation process you used in parts (a) through (g) above. \n",
        "\n",
        "<br>\n",
        "Store all  $(p{'}_{new}$ - $p{'}_{old})$  values in a NumPy array called `p_diffs`."
      ]
    },
    {
      "cell_type": "code",
      "metadata": {
        "collapsed": true,
        "id": "w6yyRTndU6wm"
      },
      "source": [
        "# Sampling distribution \n",
        "p_diffs = []\n",
        "for _ in range(10000):\n",
        "  new_page_converted = np.random.choice([1,0], size=n_new, replace=True, p=[p_population, 1.0-p_population])\n",
        "  old_page_converted = np.random.choice([1,0], size=n_old, replace=True, p=[p_population, 1.0-p_population])\n",
        "  p_diffs.append(new_page_converted.mean() - old_page_converted.mean())"
      ],
      "execution_count": 26,
      "outputs": []
    },
    {
      "cell_type": "markdown",
      "metadata": {
        "id": "FrqiKaXLU6wm"
      },
      "source": [
        "**i. Histogram**<br> \n",
        "Plot a histogram of the **p_diffs**.  Does this plot look like what you expected?  Use the matching problem in the classroom to assure you fully understand what was computed here.<br><br>\n",
        "\n",
        "Also, use `plt.axvline()` method to mark the actual difference observed  in the `df2` data (recall `obs_diff`), in the chart.  \n",
        "\n",
        ">**Tip**: Display title, x-label, and y-label in the chart."
      ]
    },
    {
      "cell_type": "code",
      "metadata": {
        "collapsed": true,
        "colab": {
          "base_uri": "https://localhost:8080/",
          "height": 0
        },
        "id": "OunvPCW6U6wm",
        "outputId": "a3dc3029-3554-4910-fdba-5b87f746b64a"
      },
      "source": [
        "plt.hist(p_diffs)\n",
        "plt.title('Histogram of differences in conversion rates')\n",
        "plt.xlabel('Difference of means')\n",
        "plt.ylabel('Frequency')\n",
        "plt.axvline(x=obs_diff, c='r')\n",
        "plt.show()"
      ],
      "execution_count": 27,
      "outputs": [
        {
          "output_type": "display_data",
          "data": {
            "image/png": "[encoded data removed]",
            "text/plain": [
              "<Figure size 432x288 with 1 Axes>"
            ]
          },
          "metadata": {
            "needs_background": "light"
          }
        }
      ]
    },
    {
      "cell_type": "markdown",
      "metadata": {
        "id": "fRIZlqruU6wm"
      },
      "source": [
        "**j.** What proportion of the **p_diffs** are greater than the actual difference observed in the `df2` data?"
      ]
    },
    {
      "cell_type": "code",
      "metadata": {
        "collapsed": true,
        "colab": {
          "base_uri": "https://localhost:8080/"
        },
        "id": "xfrxtzxOU6wn",
        "outputId": "86a9016c-9528-4aa2-a7a8-a3a20816101b"
      },
      "source": [
        "(p_diffs > obs_diff).mean()"
      ],
      "execution_count": 28,
      "outputs": [
        {
          "output_type": "execute_result",
          "data": {
            "text/plain": [
              "0.9068"
            ]
          },
          "metadata": {},
          "execution_count": 28
        }
      ]
    },
    {
      "cell_type": "markdown",
      "metadata": {
        "id": "ZfDZ5E0sU6wn"
      },
      "source": [
        "**k.** Please explain in words what you have just computed in part **j** above.  \n",
        " - What is this value called in scientific studies?  \n",
        " - What does this value signify in terms of whether or not there is a difference between the new and old pages? *Hint*: Compare the value above with the \"Type I error rate (0.05)\". "
      ]
    },
    {
      "cell_type": "markdown",
      "metadata": {
        "id": "9AdZwtlRU6wn"
      },
      "source": [
        ">**The p-value 0.9037 is significantly higher than our threshold for the Type I error rate ($\\alpha = 0.05$). It means that we failed to reject the null hypothesis. In other words, there is no difference between the new and the old pages.**"
      ]
    },
    {
      "cell_type": "markdown",
      "metadata": {
        "id": "XIM9zH6hU6wn"
      },
      "source": [
        "\n",
        "\n",
        "**l. Using Built-in Methods for Hypothesis Testing**<br>\n",
        "We could also use a built-in to achieve similar results.  Though using the built-in might be easier to code, the above portions are a walkthrough of the ideas that are critical to correctly thinking about statistical significance. \n",
        "\n",
        "Fill in the statements below to calculate the:\n",
        "- `convert_old`: number of conversions with the old_page\n",
        "- `convert_new`: number of conversions with the new_page\n",
        "- `n_old`: number of individuals who were shown the old_page\n",
        "- `n_new`: number of individuals who were shown the new_page\n"
      ]
    },
    {
      "cell_type": "code",
      "metadata": {
        "collapsed": true,
        "colab": {
          "base_uri": "https://localhost:8080/"
        },
        "id": "dxoWBIZaU6wn",
        "outputId": "c2aadfec-c641-4327-c418-d70b3b684cbb"
      },
      "source": [
        "import statsmodels.api as sm\n",
        "\n",
        "# number of conversions with the old_page\n",
        "convert_old = df2_control.converted.sum()\n",
        "\n",
        "# number of conversions with the new_page\n",
        "convert_new = df2_treatment.converted.sum()\n",
        "\n",
        "# number of individuals who were shown the old_page\n",
        "n_old = df2_control.shape[0]\n",
        "\n",
        "# number of individuals who received new_page\n",
        "n_new = df2_treatment.shape[0]"
      ],
      "execution_count": 29,
      "outputs": [
        {
          "output_type": "stream",
          "name": "stderr",
          "text": [
            "/usr/local/lib/python3.7/dist-packages/statsmodels/tools/_testing.py:19: FutureWarning: pandas.util.testing is deprecated. Use the functions in the public API at pandas.testing instead.\n",
            "  import pandas.util.testing as tm\n"
          ]
        }
      ]
    },
    {
      "cell_type": "markdown",
      "metadata": {
        "id": "uAtV23dVU6wn"
      },
      "source": [
        "**m.** Now use `sm.stats.proportions_ztest()` to compute your test statistic and p-value.  [Here](https://www.statsmodels.org/stable/generated/statsmodels.stats.proportion.proportions_ztest.html) is a helpful link on using the built in.\n",
        "\n",
        "The syntax is: \n",
        "```bash\n",
        "proportions_ztest(count_array, nobs_array, alternative='larger')\n",
        "```\n",
        "where, \n",
        "- `count_array` = represents the number of \"converted\" for each group\n",
        "- `nobs_array` = represents the total number of observations (rows) in each group\n",
        "- `alternative` = choose one of the values from `[‘two-sided’, ‘smaller’, ‘larger’]` depending upon two-tailed, left-tailed, or right-tailed respectively. \n",
        ">**Hint**: <br>\n",
        "It's a two-tailed if you defined $H_1$ as $(p_{new} = p_{old})$. <br>\n",
        "It's a left-tailed if you defined $H_1$ as $(p_{new} < p_{old})$. <br>\n",
        "It's a right-tailed if you defined $H_1$ as $(p_{new} > p_{old})$. \n",
        "\n",
        "The built-in function above will return the z_score, p_value. \n",
        "\n",
        "---\n",
        "### About the two-sample z-test\n",
        "Recall that you have plotted a distribution `p_diffs` representing the\n",
        "difference in the \"converted\" probability  $(p{'}_{new}-p{'}_{old})$  for your two simulated samples 10,000 times. \n",
        "\n",
        "Another way for comparing the mean of two independent and normal distribution is a **two-sample z-test**. You can perform the Z-test to calculate the Z_score, as shown in the equation below:\n",
        "\n",
        "$$\n",
        "Z_{score} = \\frac{ (p{'}_{new}-p{'}_{old}) - (p_{new}  -  p_{old})}{ \\sqrt{ \\frac{\\sigma^{2}_{new} }{n_{new}} + \\frac{\\sigma^{2}_{old} }{n_{old}}  } }\n",
        "$$\n",
        "\n",
        "where,\n",
        "- $p{'}$ is the \"converted\" success rate in the sample\n",
        "- $p_{new}$ and $p_{old}$ are the \"converted\" success rate for the two groups in the population. \n",
        "- $\\sigma_{new}$ and $\\sigma_{new}$ are the standard deviation for the two groups in the population. \n",
        "- $n_{new}$ and $n_{old}$ represent the size of the two groups or samples (it's same in our case)\n",
        "\n",
        "\n",
        ">Z-test is performed when the sample size is large, and the population variance is known. The z-score represents the distance between the two \"converted\" success rates in terms of the standard error. \n",
        "\n",
        "Next step is to make a decision to reject or fail to reject the null hypothesis based on comparing these two values: \n",
        "- $Z_{score}$\n",
        "- $Z_{\\alpha}$ or $Z_{0.05}$, also known as critical value at 95% confidence interval.  $Z_{0.05}$ is 1.645 for one-tailed tests,  and 1.960 for two-tailed test. You can determine the $Z_{\\alpha}$ from the z-table manually. \n",
        "\n",
        "Decide if your hypothesis is either a two-tailed, left-tailed, or right-tailed test. Accordingly, reject OR fail to reject the  null based on the comparison between $Z_{score}$ and $Z_{\\alpha}$. \n",
        ">Hint:<br>\n",
        "For a right-tailed test, reject null if $Z_{score}$ > $Z_{\\alpha}$. <br>\n",
        "For a left-tailed test, reject null if $Z_{score}$ < $Z_{\\alpha}$. \n",
        "\n",
        "\n",
        "In other words, we determine whether or not the $Z_{score}$ lies in the \"rejection region\" in the distribution. A \"rejection region\" is an interval where the null hypothesis is rejected iff the $Z_{score}$ lies in that region.\n",
        "\n",
        "\n",
        "\n",
        "Reference: \n",
        "- Example 9.1.2 on this [page](https://stats.libretexts.org/Bookshelves/Introductory_Statistics/Book%3A_Introductory_Statistics_(Shafer_and_Zhang)/09%3A_Two-Sample_Problems/9.01%3A_Comparison_of_Two_Population_Means-_Large_Independent_Samples), courtesy www.stats.libretexts.org\n",
        "\n",
        "---\n",
        "\n",
        ">**Tip**: You don't have to dive deeper into z-test for this exercise. **Try having an overview of what does z-score signify in general.** "
      ]
    },
    {
      "cell_type": "code",
      "metadata": {
        "collapsed": true,
        "colab": {
          "base_uri": "https://localhost:8080/"
        },
        "id": "k2JsNcMpU6wo",
        "outputId": "3ad3941a-fdd8-4855-8132-6636afeb1613"
      },
      "source": [
        "import statsmodels.api as sm\n",
        "# ToDo: Complete the sm.stats.proportions_ztest() method arguments\n",
        "z_score, p_value = sm.stats.proportions_ztest([convert_new, convert_old], [n_new, n_old], alternative='larger')\n",
        "print(z_score, p_value)"
      ],
      "execution_count": 30,
      "outputs": [
        {
          "output_type": "stream",
          "name": "stdout",
          "text": [
            "-1.3109241984234394 0.9050583127590245\n"
          ]
        }
      ]
    },
    {
      "cell_type": "markdown",
      "metadata": {
        "id": "0s8_1ZRYU6wo"
      },
      "source": [
        "**n.** What do the z-score and p-value you computed in the previous question mean for the conversion rates of the old and new pages?  Do they agree with the findings in parts **j.** and **k.**?<br><br>\n",
        "\n",
        ">**Tip**: Notice whether the p-value is similar to the one computed earlier. Accordingly, can you reject/fail to reject the null hypothesis? It is important to correctly interpret the test statistic and p-value."
      ]
    },
    {
      "cell_type": "markdown",
      "metadata": {
        "id": "QBqI6EekU6wo"
      },
      "source": [
        "> **The $Z_{score}$ of the test for proportions based on normal (z) test is -1.31, which is lower than 1.645, which is $Z_{\\alpha}$ or $Z_{0.05}$ in our case. $Z_{score} < Z_{\\alpha}$ means that we failed to reject the null hypothesis for our right-tailed test. The p-value of `proportions_ztest` is 0.9050 which is simmilar to our previously computed p-value, which was 0.9037.**"
      ]
    },
    {
      "cell_type": "markdown",
      "metadata": {
        "id": "JVdFk4nsU6wo"
      },
      "source": [
        "<a id='regression'></a>\n",
        "## Part III - A regression approach\n",
        "\n",
        "### ToDo 3.1 \n",
        "In this final part, you will see that the result you achieved in the A/B test in Part II above can also be achieved by performing regression.<br><br> \n",
        "\n",
        "**a.** Since each row in the `df2` data is either a conversion or no conversion, what type of regression should you be performing in this case?"
      ]
    },
    {
      "cell_type": "markdown",
      "metadata": {
        "id": "h_qgAxdnU6wo"
      },
      "source": [
        ">**Since each row in the `df2` is either a conversion or no conversion, i.e. the variable `converted` is a binary variable, we will use *logistic regression* that predicts categorical responses when there are only two possible outcomes.**"
      ]
    },
    {
      "cell_type": "markdown",
      "metadata": {
        "id": "j4mduP7-U6wo"
      },
      "source": [
        "**b.** The goal is to use **statsmodels** library to fit the regression model you specified in part **a.** above to see if there is a significant difference in conversion based on the page-type a customer receives. However, you first need to create the following two columns in the `df2` dataframe:\n",
        " 1. `intercept` - It should be `1` in the entire column. \n",
        " 2. `ab_page` - It's a dummy variable column, having a value `1` when an individual receives the **treatment**, otherwise `0`.  "
      ]
    },
    {
      "cell_type": "code",
      "metadata": {
        "id": "a_FOLoAh-S9K"
      },
      "source": [
        "# Add auxiliary and dummy variables\n",
        "df2['intercept'] = 1\n",
        "df2['ab_page'] = df2.landing_page.apply(lambda p: 1 if p == 'new_page' else 0)"
      ],
      "execution_count": 31,
      "outputs": []
    },
    {
      "cell_type": "markdown",
      "metadata": {
        "id": "LqkmQEXYU6wo"
      },
      "source": [
        "**c.** Use **statsmodels** to instantiate your regression model on the two columns you created in part (b). above, then fit the model to predict whether or not an individual converts. \n"
      ]
    },
    {
      "cell_type": "code",
      "metadata": {
        "collapsed": true,
        "id": "1UpWdH_AU6wo",
        "colab": {
          "base_uri": "https://localhost:8080/"
        },
        "outputId": "ee0ba22c-d4f9-4b15-f8f2-032d8b9580c5"
      },
      "source": [
        "# Fit the model\n",
        "lgm = sm.Logit(df2['converted'], df2[['intercept', 'ab_page']])\n",
        "res = lgm.fit()"
      ],
      "execution_count": 32,
      "outputs": [
        {
          "output_type": "stream",
          "name": "stdout",
          "text": [
            "Optimization terminated successfully.\n",
            "         Current function value: 0.366118\n",
            "         Iterations 6\n"
          ]
        }
      ]
    },
    {
      "cell_type": "markdown",
      "metadata": {
        "id": "9ntk-tR-U6wp"
      },
      "source": [
        "**d.** Provide the summary of your model below, and use it as necessary to answer the following questions."
      ]
    },
    {
      "cell_type": "code",
      "metadata": {
        "id": "pw1lJH3XKkpb"
      },
      "source": [
        "def print_coefs(res):\n",
        "  \"\"\"Prints transformed coefficients to support interpretation of the results.\"\"\"\n",
        "\n",
        "  print(f'{\"Variable\".ljust(10)} {\"Coef.\".rjust(10)} | {\"Exp(Coef)\".rjust(10)} | {\"1/Exp(Coef)\".rjust(12)}')\n",
        "  print('='*50)\n",
        "  for k,p in res.params.items():\n",
        "      print(f'{k.ljust(10)} {p:>10.4f} | {np.exp(p):>10.4f} | {1/np.exp(p):>12.4f}')\n",
        "  \n",
        "  return None"
      ],
      "execution_count": 33,
      "outputs": []
    },
    {
      "cell_type": "code",
      "metadata": {
        "collapsed": true,
        "id": "ZtZurM6XU6wp",
        "colab": {
          "base_uri": "https://localhost:8080/"
        },
        "outputId": "7a15ce77-736e-432a-be07-a199e5892e6b"
      },
      "source": [
        "# Get summary statistics\n",
        "print(res.summary2())\n",
        "print_coefs(res)"
      ],
      "execution_count": 34,
      "outputs": [
        {
          "output_type": "stream",
          "name": "stdout",
          "text": [
            "                          Results: Logit\n",
            "==================================================================\n",
            "Model:              Logit            Pseudo R-squared: 0.000      \n",
            "Dependent Variable: converted        AIC:              212780.3502\n",
            "Date:               2021-09-29 06:37 BIC:              212801.5095\n",
            "No. Observations:   290584           Log-Likelihood:   -1.0639e+05\n",
            "Df Model:           1                LL-Null:          -1.0639e+05\n",
            "Df Residuals:       290582           LLR p-value:      0.18988    \n",
            "Converged:          1.0000           Scale:            1.0000     \n",
            "No. Iterations:     6.0000                                        \n",
            "-------------------------------------------------------------------\n",
            "              Coef.   Std.Err.      z      P>|z|    [0.025   0.975]\n",
            "-------------------------------------------------------------------\n",
            "intercept    -1.9888    0.0081  -246.6690  0.0000  -2.0046  -1.9730\n",
            "ab_page      -0.0150    0.0114    -1.3109  0.1899  -0.0374   0.0074\n",
            "==================================================================\n",
            "\n",
            "Variable        Coef. |  Exp(Coef) |  1/Exp(Coef)\n",
            "==================================================\n",
            "intercept     -1.9888 |     0.1369 |       7.3066\n",
            "ab_page       -0.0150 |     0.9851 |       1.0151\n"
          ]
        }
      ]
    },
    {
      "cell_type": "markdown",
      "metadata": {
        "id": "Z9h_0nMtU6wp"
      },
      "source": [
        "**e.** What is the p-value associated with **ab_page**? Why does it differ from the value you found in **Part II**?<br><br>  \n",
        "\n",
        "**Hints**: \n",
        "- What are the null and alternative hypotheses associated with your regression model, and how do they compare to the null and alternative hypotheses in **Part II**? \n",
        "- You may comment on if these hypothesis (Part II vs. Part III) are one-sided or two-sided. \n",
        "- You may also compare the current p-value with the Type I error rate (0.05).\n"
      ]
    },
    {
      "cell_type": "markdown",
      "metadata": {
        "id": "sUl0BOJtU6wp"
      },
      "source": [
        "> **The logistic regression model results suggest that the odds of converting in the treatment group is 0.9851 more likely (or 1.0151 less likely) than in the control group. In other words, there is no significant difference between treatment and contol groups.**\n",
        ">\n",
        "> **The p-value of 0.1899 associated with ab_page is significantly lower than p-value provided by A/B test (0.9037) or two-sample z-test (0.9050). This is because the null hypothesis in regression is that slope of a regression line is equal to zero, i.e. there is no evidence of statistically significant linear relationship between explanatory and response variables, in our case between receiving the new webpage and buing some product. The p-value changed because in regression we are testing two-sided hypothesis related to coefficients of a regression line and not one-sided hypothesis related to difference between the coversion rates.**\n",
        ">\n",
        "> **Even though the p-value of 0.1899 associated with ab_page is lower then in A/B testing, it is still higher than our Type I error rate (0.05) and therefore we failed to reject the null hypothesis. Both approches give the same conclusion.**"
      ]
    },
    {
      "cell_type": "markdown",
      "metadata": {
        "id": "PvaHpux4U6wp"
      },
      "source": [
        "**f.** Now, you are considering other things that might influence whether or not an individual converts.  Discuss why it is a good idea to consider other factors to add into your regression model.  Are there any disadvantages to adding additional terms into your regression model?"
      ]
    },
    {
      "cell_type": "markdown",
      "metadata": {
        "id": "k6GYfXgTU6wp"
      },
      "source": [
        ">**Human behavior is influenced by many factors and understaning these factors can improve our data-driven decision making. By building multiple linear regression models we can get deeper insight into how different variables are related. On the other side, some problems can arise, such as non-linear relationship between variables, correlated errors, non-constant variance, outliers or multicollinerity. So we must be careful in our data analysis.**"
      ]
    },
    {
      "cell_type": "markdown",
      "metadata": {
        "id": "IIuxCS7NU6wp"
      },
      "source": [
        "**g. Adding countries**<br> \n",
        "Now along with testing if the conversion rate changes for different pages, also add an effect based on which country a user lives in. \n",
        "\n",
        "1. You will need to read in the **countries.csv** dataset and merge together your `df2` datasets on the appropriate rows. You call the resulting dataframe `df_merged`. [Here](https://pandas.pydata.org/pandas-docs/stable/reference/api/pandas.DataFrame.join.html) are the docs for joining tables. \n",
        "\n",
        "2. Does it appear that country had an impact on conversion?  To answer this question, consider the three unique values, `['UK', 'US', 'CA']`, in the `country` column. Create dummy variables for these country columns. \n",
        ">**Hint:** Use `pandas.get_dummies()` to create dummy variables. **You will utilize two columns for the three dummy variables.** \n",
        "\n",
        " Provide the statistical output as well as a written response to answer this question."
      ]
    },
    {
      "cell_type": "code",
      "metadata": {
        "collapsed": true,
        "id": "v-a5I1HcU6wp"
      },
      "source": [
        "# Read the countries.csv\n",
        "countries = pd.read_csv(path+'countries.csv')"
      ],
      "execution_count": 35,
      "outputs": []
    },
    {
      "cell_type": "code",
      "metadata": {
        "id": "zHBY5lCrU6wp"
      },
      "source": [
        "# Join with the df2 dataframe\n",
        "df_merged = df2.merge(countries, on='user_id')"
      ],
      "execution_count": 36,
      "outputs": []
    },
    {
      "cell_type": "code",
      "metadata": {
        "id": "jwFzexvUHHYO",
        "colab": {
          "base_uri": "https://localhost:8080/"
        },
        "outputId": "2482a0e5-7395-4d64-e2d8-ec9d868ea810"
      },
      "source": [
        "# Check missing values in the merged dataframe\n",
        "df_merged.isna().any().any()"
      ],
      "execution_count": 37,
      "outputs": [
        {
          "output_type": "execute_result",
          "data": {
            "text/plain": [
              "False"
            ]
          },
          "metadata": {},
          "execution_count": 37
        }
      ]
    },
    {
      "cell_type": "code",
      "metadata": {
        "id": "BI80vixsU6wq"
      },
      "source": [
        "# Create the necessary dummy variables\n",
        "df_merged = df_merged.join(pd.get_dummies(df_merged.country))"
      ],
      "execution_count": 38,
      "outputs": []
    },
    {
      "cell_type": "code",
      "metadata": {
        "id": "whaE9plaHHe2",
        "colab": {
          "base_uri": "https://localhost:8080/"
        },
        "outputId": "b54cee43-f962-437b-c2eb-5a9c087005b0"
      },
      "source": [
        "# Fit your model\n",
        "lgm = sm.Logit(df_merged['converted'], df_merged[['intercept', 'CA', 'UK']])\n",
        "res = lgm.fit()\n",
        "# Get summary statistcs\n",
        "print(res.summary2())\n",
        "print_coefs(res)"
      ],
      "execution_count": 39,
      "outputs": [
        {
          "output_type": "stream",
          "name": "stdout",
          "text": [
            "Optimization terminated successfully.\n",
            "         Current function value: 0.366116\n",
            "         Iterations 6\n",
            "                          Results: Logit\n",
            "==================================================================\n",
            "Model:              Logit            Pseudo R-squared: 0.000      \n",
            "Dependent Variable: converted        AIC:              212780.8333\n",
            "Date:               2021-09-29 06:37 BIC:              212812.5723\n",
            "No. Observations:   290584           Log-Likelihood:   -1.0639e+05\n",
            "Df Model:           2                LL-Null:          -1.0639e+05\n",
            "Df Residuals:       290581           LLR p-value:      0.19835    \n",
            "Converged:          1.0000           Scale:            1.0000     \n",
            "No. Iterations:     6.0000                                        \n",
            "-------------------------------------------------------------------\n",
            "              Coef.   Std.Err.      z      P>|z|    [0.025   0.975]\n",
            "-------------------------------------------------------------------\n",
            "intercept    -1.9967    0.0068  -292.3145  0.0000  -2.0101  -1.9833\n",
            "CA           -0.0408    0.0269    -1.5178  0.1291  -0.0935   0.0119\n",
            "UK            0.0099    0.0133     0.7458  0.4558  -0.0161   0.0360\n",
            "==================================================================\n",
            "\n",
            "Variable        Coef. |  Exp(Coef) |  1/Exp(Coef)\n",
            "==================================================\n",
            "intercept     -1.9967 |     0.1358 |       7.3649\n",
            "CA            -0.0408 |     0.9600 |       1.0416\n",
            "UK             0.0099 |     1.0100 |       0.9901\n"
          ]
        }
      ]
    },
    {
      "cell_type": "markdown",
      "metadata": {
        "id": "CPS9bmWlU6wq"
      },
      "source": [
        "**h. Fit your model and obtain the results**<br> \n",
        "Though you have now looked at the individual factors of country and page on conversion, we would now like to look at an interaction between page and country to see if are there significant effects on conversion.  **Create the necessary additional columns, and fit the new model.** \n",
        "\n",
        "\n",
        "Provide the summary results (statistical output), and your conclusions (written response) based on the results. \n",
        "\n",
        ">**Tip**: Conclusions should include both statistical reasoning, and practical reasoning for the situation. \n",
        "\n",
        ">**Hints**: \n",
        "- Look at all of p-values in the summary, and compare against the Type I error rate (0.05). \n",
        "- Can you reject/fail to reject the null hypotheses (regression model)?\n",
        "- Comment on the effect of page and country to predict the conversion.\n"
      ]
    },
    {
      "cell_type": "code",
      "metadata": {
        "id": "JDSc8Sby0UVu"
      },
      "source": [
        "# Add interaction columns\n",
        "df_merged['ab_CA'] = df_merged['ab_page'] * df_merged['CA']\n",
        "df_merged['ab_UK'] = df_merged['ab_page'] * df_merged['UK']\n",
        "df_merged['ab_US'] = df_merged['ab_page'] * df_merged['US']"
      ],
      "execution_count": 40,
      "outputs": []
    },
    {
      "cell_type": "code",
      "metadata": {
        "collapsed": true,
        "id": "EQHU9dOYU6wq",
        "colab": {
          "base_uri": "https://localhost:8080/",
          "height": 721
        },
        "outputId": "94905b8a-42c6-4b55-a20e-25b52f57e4b0"
      },
      "source": [
        "# Fit your model\n",
        "lgm = sm.Logit(df_merged['converted'], df_merged[['intercept', 'ab_page', 'CA', 'US', 'ab_CA', 'ab_US']])\n",
        "res = lgm.fit()\n",
        "# Get summary statistics\n",
        "print(res.summary2())\n",
        "df_merged[['converted', 'ab_page','CA', 'UK', 'US', 'ab_CA', 'ab_UK', 'ab_US']].describe()"
      ],
      "execution_count": 41,
      "outputs": [
        {
          "output_type": "stream",
          "name": "stdout",
          "text": [
            "Optimization terminated successfully.\n",
            "         Current function value: 0.366109\n",
            "         Iterations 6\n",
            "                          Results: Logit\n",
            "==================================================================\n",
            "Model:              Logit            Pseudo R-squared: 0.000      \n",
            "Dependent Variable: converted        AIC:              212782.6602\n",
            "Date:               2021-09-29 06:37 BIC:              212846.1381\n",
            "No. Observations:   290584           Log-Likelihood:   -1.0639e+05\n",
            "Df Model:           5                LL-Null:          -1.0639e+05\n",
            "Df Residuals:       290578           LLR p-value:      0.19199    \n",
            "Converged:          1.0000           Scale:            1.0000     \n",
            "No. Iterations:     6.0000                                        \n",
            "-------------------------------------------------------------------\n",
            "              Coef.   Std.Err.      z      P>|z|    [0.025   0.975]\n",
            "-------------------------------------------------------------------\n",
            "intercept    -1.9922    0.0161  -123.4571  0.0000  -2.0238  -1.9606\n",
            "ab_page       0.0108    0.0228     0.4749  0.6349  -0.0339   0.0555\n",
            "CA           -0.0118    0.0398    -0.2957  0.7674  -0.0899   0.0663\n",
            "US            0.0057    0.0188     0.3057  0.7598  -0.0311   0.0426\n",
            "ab_CA        -0.0783    0.0568    -1.3783  0.1681  -0.1896   0.0330\n",
            "ab_US        -0.0314    0.0266    -1.1807  0.2377  -0.0835   0.0207\n",
            "==================================================================\n",
            "\n"
          ]
        },
        {
          "output_type": "execute_result",
          "data": {
            "text/html": [
              "<div>\n",
              "<style scoped>\n",
              "    .dataframe tbody tr th:only-of-type {\n",
              "        vertical-align: middle;\n",
              "    }\n",
              "\n",
              "    .dataframe tbody tr th {\n",
              "        vertical-align: top;\n",
              "    }\n",
              "\n",
              "    .dataframe thead th {\n",
              "        text-align: right;\n",
              "    }\n",
              "</style>\n",
              "<table border=\"1\" class=\"dataframe\">\n",
              "  <thead>\n",
              "    <tr style=\"text-align: right;\">\n",
              "      <th></th>\n",
              "      <th>converted</th>\n",
              "      <th>ab_page</th>\n",
              "      <th>CA</th>\n",
              "      <th>UK</th>\n",
              "      <th>US</th>\n",
              "      <th>ab_CA</th>\n",
              "      <th>ab_UK</th>\n",
              "      <th>ab_US</th>\n",
              "    </tr>\n",
              "  </thead>\n",
              "  <tbody>\n",
              "    <tr>\n",
              "      <th>count</th>\n",
              "      <td>290584.000000</td>\n",
              "      <td>290584.000000</td>\n",
              "      <td>290584.000000</td>\n",
              "      <td>290584.000000</td>\n",
              "      <td>290584.000000</td>\n",
              "      <td>290584.000000</td>\n",
              "      <td>290584.000000</td>\n",
              "      <td>290584.000000</td>\n",
              "    </tr>\n",
              "    <tr>\n",
              "      <th>mean</th>\n",
              "      <td>0.119597</td>\n",
              "      <td>0.500062</td>\n",
              "      <td>0.049896</td>\n",
              "      <td>0.249381</td>\n",
              "      <td>0.700723</td>\n",
              "      <td>0.025125</td>\n",
              "      <td>0.124253</td>\n",
              "      <td>0.350683</td>\n",
              "    </tr>\n",
              "    <tr>\n",
              "      <th>std</th>\n",
              "      <td>0.324490</td>\n",
              "      <td>0.500001</td>\n",
              "      <td>0.217731</td>\n",
              "      <td>0.432655</td>\n",
              "      <td>0.457942</td>\n",
              "      <td>0.156506</td>\n",
              "      <td>0.329871</td>\n",
              "      <td>0.477185</td>\n",
              "    </tr>\n",
              "    <tr>\n",
              "      <th>min</th>\n",
              "      <td>0.000000</td>\n",
              "      <td>0.000000</td>\n",
              "      <td>0.000000</td>\n",
              "      <td>0.000000</td>\n",
              "      <td>0.000000</td>\n",
              "      <td>0.000000</td>\n",
              "      <td>0.000000</td>\n",
              "      <td>0.000000</td>\n",
              "    </tr>\n",
              "    <tr>\n",
              "      <th>25%</th>\n",
              "      <td>0.000000</td>\n",
              "      <td>0.000000</td>\n",
              "      <td>0.000000</td>\n",
              "      <td>0.000000</td>\n",
              "      <td>0.000000</td>\n",
              "      <td>0.000000</td>\n",
              "      <td>0.000000</td>\n",
              "      <td>0.000000</td>\n",
              "    </tr>\n",
              "    <tr>\n",
              "      <th>50%</th>\n",
              "      <td>0.000000</td>\n",
              "      <td>1.000000</td>\n",
              "      <td>0.000000</td>\n",
              "      <td>0.000000</td>\n",
              "      <td>1.000000</td>\n",
              "      <td>0.000000</td>\n",
              "      <td>0.000000</td>\n",
              "      <td>0.000000</td>\n",
              "    </tr>\n",
              "    <tr>\n",
              "      <th>75%</th>\n",
              "      <td>0.000000</td>\n",
              "      <td>1.000000</td>\n",
              "      <td>0.000000</td>\n",
              "      <td>0.000000</td>\n",
              "      <td>1.000000</td>\n",
              "      <td>0.000000</td>\n",
              "      <td>0.000000</td>\n",
              "      <td>1.000000</td>\n",
              "    </tr>\n",
              "    <tr>\n",
              "      <th>max</th>\n",
              "      <td>1.000000</td>\n",
              "      <td>1.000000</td>\n",
              "      <td>1.000000</td>\n",
              "      <td>1.000000</td>\n",
              "      <td>1.000000</td>\n",
              "      <td>1.000000</td>\n",
              "      <td>1.000000</td>\n",
              "      <td>1.000000</td>\n",
              "    </tr>\n",
              "  </tbody>\n",
              "</table>\n",
              "</div>"
            ],
            "text/plain": [
              "           converted        ab_page  ...          ab_UK          ab_US\n",
              "count  290584.000000  290584.000000  ...  290584.000000  290584.000000\n",
              "mean        0.119597       0.500062  ...       0.124253       0.350683\n",
              "std         0.324490       0.500001  ...       0.329871       0.477185\n",
              "min         0.000000       0.000000  ...       0.000000       0.000000\n",
              "25%         0.000000       0.000000  ...       0.000000       0.000000\n",
              "50%         0.000000       1.000000  ...       0.000000       0.000000\n",
              "75%         0.000000       1.000000  ...       0.000000       1.000000\n",
              "max         1.000000       1.000000  ...       1.000000       1.000000\n",
              "\n",
              "[8 rows x 8 columns]"
            ]
          },
          "metadata": {},
          "execution_count": 41
        }
      ]
    },
    {
      "cell_type": "markdown",
      "metadata": {
        "id": "hM092HaHU6wq"
      },
      "source": [
        ">**Put your conclusion answer here.**"
      ]
    },
    {
      "cell_type": "markdown",
      "metadata": {
        "id": "MxreqfZOU6wq"
      },
      "source": [
        "<a id='finalcheck'></a>\n",
        "## Final Check!\n",
        "\n",
        "The last question is: Should the company run the experiment longer to make their decision?\n",
        "\n"
      ]
    },
    {
      "cell_type": "code",
      "metadata": {
        "id": "y8OnDyZYTUNo",
        "outputId": "584af481-061e-4d9e-90cc-5e43b8836852",
        "colab": {
          "base_uri": "https://localhost:8080/"
        }
      },
      "source": [
        "# How long the experiment ran\n",
        "df.timestamp.min(), df.timestamp.max()"
      ],
      "execution_count": 43,
      "outputs": [
        {
          "output_type": "execute_result",
          "data": {
            "text/plain": [
              "(Timestamp('2017-01-02 13:42:05.378582'),\n",
              " Timestamp('2017-01-24 13:41:54.460509'))"
            ]
          },
          "metadata": {},
          "execution_count": 43
        }
      ]
    },
    {
      "cell_type": "code",
      "metadata": {
        "id": "QjhAhx9lTUeX",
        "outputId": "8c0ce24e-0257-4775-ad7f-5d818f45b07d",
        "colab": {
          "base_uri": "https://localhost:8080/",
          "height": 294
        }
      },
      "source": [
        "# Compare number of conversions within two groups across time\n",
        "day_group_s = df.groupby([df.timestamp.dt.day,'group'])['converted'].sum()\n",
        "plt.plot(day_group_s.xs(\"control\", level='group'), label='control group')\n",
        "plt.plot(day_group_s.xs(\"treatment\", level='group'), label='treatment group')\n",
        "plt.ylim(0,1000)\n",
        "plt.xticks(day_group_s.index.get_level_values(0))\n",
        "plt.title('Number of conversions over time')\n",
        "plt.xlabel('Day')\n",
        "plt.ylabel('Number of conversions')\n",
        "plt.legend()\n",
        "plt.show()"
      ],
      "execution_count": 46,
      "outputs": [
        {
          "output_type": "display_data",
          "data": {
            "image/png": "[encoded data removed]",
            "text/plain": [
              "<Figure size 432x288 with 1 Axes>"
            ]
          },
          "metadata": {
            "needs_background": "light"
          }
        }
      ]
    },
    {
      "cell_type": "markdown",
      "metadata": {
        "id": "-Jp0ceTzUo43"
      },
      "source": [
        "> **The experiment lasted for 23 days and there are no substantial differences between the number of conversions within both treatment and control groups. From practical point of view, there is no need to run the experiment longer, neither to examine influences associated with time on conversion.**"
      ]
    },
    {
      "cell_type": "markdown",
      "metadata": {
        "id": "BAzG7NRXSYvw"
      },
      "source": [
        "<a id='conclusion'></a>\n",
        "## Conclusion\n",
        "\n",
        "We examined data from the experiment from three points of view: probatility, A/B test, and regression. Results of all three approaches suggest that there is no practically neither statistically significant difference between the conversion rates of the old and the new webpage. **The company should keep the old webpage.** There is no need to run the experiment longer.\n"
      ]
    }
  ]
}