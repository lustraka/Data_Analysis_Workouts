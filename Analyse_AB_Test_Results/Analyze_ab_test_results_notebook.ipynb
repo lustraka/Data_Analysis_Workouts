{
  "nbformat": 4,
  "nbformat_minor": 0,
  "metadata": {
    "kernelspec": {
      "display_name": "Python 3",
      "language": "python",
      "name": "python3"
    },
    "language_info": {
      "codemirror_mode": {
        "name": "ipython",
        "version": 3
      },
      "file_extension": ".py",
      "mimetype": "text/x-python",
      "name": "python",
      "nbconvert_exporter": "python",
      "pygments_lexer": "ipython3",
      "version": "3.6.3"
    },
    "colab": {
      "name": "Analyze_ab_test_results_notebook.ipynb",
      "provenance": []
    }
  },
  "cells": [
    {
      "cell_type": "markdown",
      "metadata": {
        "id": "Hubw6Sf-U6wR"
      },
      "source": [
        "# Analyze A/B Test Results \n",
        "\n",
        "This project demonstrates three approaches to evaluation of data from an experiment to make data-driven decision. We have organized the step-by-step solution into the following sections: \n",
        "\n",
        "- [Introduction](#intro)\n",
        "- [Part I - Probability](#probability)\n",
        "- [Part II - A/B Test](#ab_test)\n",
        "- [Part III - Regression](#regression)\n",
        "- [Final Check](#finalcheck)\n",
        "- [Conclusion](#conclusion)\n",
        "\n",
        "\n",
        "<a id='intro'></a>\n",
        "## Introduction\n",
        "\n",
        "A/B tests are very commonly performed by data analysts and data scientists. For this project, you will be working to understand the results of an A/B test run by an e-commerce website.  Your goal is to work through this notebook to help the company understand if they should:\n",
        "- Implement the new webpage, \n",
        "- Keep the old webpage, or \n",
        "- Perhaps run the experiment longer to make their decision.\n",
        "\n",
        "\n",
        "<a id='probability'></a>\n",
        "## Part I - Probability\n",
        "\n",
        "To get started, let's import our libraries."
      ]
    },
    {
      "cell_type": "code",
      "metadata": {
        "collapsed": true,
        "id": "WUjPlbYIU6wX"
      },
      "source": [
        "# Import dependencies\n",
        "import pandas as pd\n",
        "import numpy as np\n",
        "import random\n",
        "import matplotlib.pyplot as plt\n",
        "%matplotlib inline\n",
        "\n",
        "# Set the random seed for comparison purposes\n",
        "random.seed(42)"
      ],
      "execution_count": 1,
      "outputs": []
    },
    {
      "cell_type": "markdown",
      "metadata": {
        "id": "NWU_VBibU6wZ"
      },
      "source": [
        "### Step 1.1 Load and examine the data set\n",
        "Now, read in the `ab_data.csv` data. Store it in `df`. Below is the description of the data, there are a total of 5 columns:\n",
        "\n",
        "<center>\n",
        "\n",
        "|Data columns|Purpose|Valid values|\n",
        "| ------------- |:-------------| -----:|\n",
        "|user_id|Unique ID|Int64 values|\n",
        "|timestamp|Time stamp when the user visited the webpage|-|\n",
        "|group|In the current A/B experiment, the users are categorized into two broad groups. <br>The `control` group users are expected to be served with `old_page`; and `treatment` group users are matched with the `new_page`. <br>However, **some inaccurate rows** are present in the initial data, such as a `control` group user is matched with a `new_page`. |`['control', 'treatment']`|\n",
        "|landing_page|It denotes whether the user visited the old or new webpage.|`['old_page', 'new_page']`|\n",
        "|converted|It denotes whether the user decided to pay for the company's product. Here, `1` means yes, the user bought the product.|`[0, 1]`|\n",
        "\n",
        "</center>\n",
        "\n",
        "**a.** Read in the dataset from the `ab_data.csv` file and take a look at the top few rows here:"
      ]
    },
    {
      "cell_type": "code",
      "metadata": {
        "collapsed": true,
        "colab": {
          "base_uri": "https://localhost:8080/",
          "height": 202
        },
        "id": "xaNHHc2wU6wa",
        "outputId": "bcc8b082-ee90-4a61-9d3a-8b8f7cf6a1d9"
      },
      "source": [
        "path = 'https://raw.githubusercontent.com/lustraka/Data_Analysis_Workouts/main/Analyse_AB_Test_Results/'\n",
        "df = pd.read_csv(path+'ab_data.csv', parse_dates=['timestamp'])\n",
        "df.head()"
      ],
      "execution_count": 2,
      "outputs": [
        {
          "output_type": "execute_result",
          "data": {
            "text/html": [
              "<div>\n",
              "<style scoped>\n",
              "    .dataframe tbody tr th:only-of-type {\n",
              "        vertical-align: middle;\n",
              "    }\n",
              "\n",
              "    .dataframe tbody tr th {\n",
              "        vertical-align: top;\n",
              "    }\n",
              "\n",
              "    .dataframe thead th {\n",
              "        text-align: right;\n",
              "    }\n",
              "</style>\n",
              "<table border=\"1\" class=\"dataframe\">\n",
              "  <thead>\n",
              "    <tr style=\"text-align: right;\">\n",
              "      <th></th>\n",
              "      <th>user_id</th>\n",
              "      <th>timestamp</th>\n",
              "      <th>group</th>\n",
              "      <th>landing_page</th>\n",
              "      <th>converted</th>\n",
              "    </tr>\n",
              "  </thead>\n",
              "  <tbody>\n",
              "    <tr>\n",
              "      <th>0</th>\n",
              "      <td>851104</td>\n",
              "      <td>2017-01-21 22:11:48.556739</td>\n",
              "      <td>control</td>\n",
              "      <td>old_page</td>\n",
              "      <td>0</td>\n",
              "    </tr>\n",
              "    <tr>\n",
              "      <th>1</th>\n",
              "      <td>804228</td>\n",
              "      <td>2017-01-12 08:01:45.159739</td>\n",
              "      <td>control</td>\n",
              "      <td>old_page</td>\n",
              "      <td>0</td>\n",
              "    </tr>\n",
              "    <tr>\n",
              "      <th>2</th>\n",
              "      <td>661590</td>\n",
              "      <td>2017-01-11 16:55:06.154213</td>\n",
              "      <td>treatment</td>\n",
              "      <td>new_page</td>\n",
              "      <td>0</td>\n",
              "    </tr>\n",
              "    <tr>\n",
              "      <th>3</th>\n",
              "      <td>853541</td>\n",
              "      <td>2017-01-08 18:28:03.143765</td>\n",
              "      <td>treatment</td>\n",
              "      <td>new_page</td>\n",
              "      <td>0</td>\n",
              "    </tr>\n",
              "    <tr>\n",
              "      <th>4</th>\n",
              "      <td>864975</td>\n",
              "      <td>2017-01-21 01:52:26.210827</td>\n",
              "      <td>control</td>\n",
              "      <td>old_page</td>\n",
              "      <td>1</td>\n",
              "    </tr>\n",
              "  </tbody>\n",
              "</table>\n",
              "</div>"
            ],
            "text/plain": [
              "   user_id                  timestamp      group landing_page  converted\n",
              "0   851104 2017-01-21 22:11:48.556739    control     old_page          0\n",
              "1   804228 2017-01-12 08:01:45.159739    control     old_page          0\n",
              "2   661590 2017-01-11 16:55:06.154213  treatment     new_page          0\n",
              "3   853541 2017-01-08 18:28:03.143765  treatment     new_page          0\n",
              "4   864975 2017-01-21 01:52:26.210827    control     old_page          1"
            ]
          },
          "metadata": {},
          "execution_count": 2
        }
      ]
    },
    {
      "cell_type": "markdown",
      "metadata": {
        "id": "Jd_xAX_nU6wa"
      },
      "source": [
        "**b.** Use the cell below to find the number of rows in the dataset."
      ]
    },
    {
      "cell_type": "code",
      "metadata": {
        "collapsed": true,
        "colab": {
          "base_uri": "https://localhost:8080/"
        },
        "id": "m1QEfoMoU6wb",
        "outputId": "8bc0b299-489d-4967-a8c9-b1f9d6cbce51"
      },
      "source": [
        "print(f'The dataset has {df.shape[0]:,d} observations.')"
      ],
      "execution_count": 3,
      "outputs": [
        {
          "output_type": "stream",
          "name": "stdout",
          "text": [
            "The dataset has 294,478 observations.\n"
          ]
        }
      ]
    },
    {
      "cell_type": "markdown",
      "metadata": {
        "id": "kGkkMc3qU6wb"
      },
      "source": [
        "**c.** The number of unique users in the dataset."
      ]
    },
    {
      "cell_type": "code",
      "metadata": {
        "collapsed": true,
        "colab": {
          "base_uri": "https://localhost:8080/"
        },
        "id": "4GeYp-pIU6wc",
        "outputId": "9d4c255c-8738-4cc7-d977-b9a373e1b5f5"
      },
      "source": [
        "n_users = df.user_id.nunique()\n",
        "print(f'The dataset contains observations for {n_users:,d} unique users.')"
      ],
      "execution_count": 4,
      "outputs": [
        {
          "output_type": "stream",
          "name": "stdout",
          "text": [
            "The dataset contains observations for 290,584 unique users.\n"
          ]
        }
      ]
    },
    {
      "cell_type": "markdown",
      "metadata": {
        "collapsed": true,
        "id": "eXy8bJOAU6wc"
      },
      "source": [
        "**d.** The proportion of users converted."
      ]
    },
    {
      "cell_type": "code",
      "metadata": {
        "collapsed": true,
        "colab": {
          "base_uri": "https://localhost:8080/"
        },
        "id": "Ktib73_jU6wd",
        "outputId": "1d70d689-b7ad-4f5b-f21d-5917afe86a23"
      },
      "source": [
        "converted = df.drop_duplicates('user_id').converted.sum()\n",
        "print(f'{converted:,d} unique users were converted, so the proportion is {converted/n_users:.2%}.')"
      ],
      "execution_count": 5,
      "outputs": [
        {
          "output_type": "stream",
          "name": "stdout",
          "text": [
            "34,745 unique users were converted, so the proportion is 11.96%.\n"
          ]
        }
      ]
    },
    {
      "cell_type": "markdown",
      "metadata": {
        "collapsed": true,
        "id": "JqdnxxI7U6we"
      },
      "source": [
        "**e.** The number of times when the \"group\" is `treatment` but \"landing_page\" is not a `new_page`."
      ]
    },
    {
      "cell_type": "code",
      "metadata": {
        "collapsed": true,
        "colab": {
          "base_uri": "https://localhost:8080/"
        },
        "id": "OuiICv3OU6we",
        "outputId": "27dd273f-e888-459a-e830-6a9205865344"
      },
      "source": [
        "df.query('group == \"treatment\" and landing_page != \"new_page\"').shape[0]"
      ],
      "execution_count": 6,
      "outputs": [
        {
          "output_type": "execute_result",
          "data": {
            "text/plain": [
              "1965"
            ]
          },
          "metadata": {},
          "execution_count": 6
        }
      ]
    },
    {
      "cell_type": "markdown",
      "metadata": {
        "id": "yJzNoVnZU6we"
      },
      "source": [
        "**f.** Do any of the rows have missing values?"
      ]
    },
    {
      "cell_type": "code",
      "metadata": {
        "collapsed": true,
        "colab": {
          "base_uri": "https://localhost:8080/"
        },
        "id": "gj6CYwRxU6wf",
        "outputId": "1278e8cd-9f37-4b94-d9e2-73a3e718f8a9"
      },
      "source": [
        "df.isna().any().any()"
      ],
      "execution_count": 7,
      "outputs": [
        {
          "output_type": "execute_result",
          "data": {
            "text/plain": [
              "False"
            ]
          },
          "metadata": {},
          "execution_count": 7
        }
      ]
    },
    {
      "cell_type": "markdown",
      "metadata": {
        "id": "JxkHuoYIU6wf"
      },
      "source": [
        "### Step 1.2 Clean the data\n",
        "In a particular row, the **group** and **landing_page** columns should have either of the following acceptable values:\n",
        "\n",
        "|user_id| timestamp|group|landing_page|converted|\n",
        "|---|---|---|---|---|\n",
        "|XXXX|XXXX|`control`| `old_page`|X |\n",
        "|XXXX|XXXX|`treatment`|`new_page`|X |\n",
        "\n",
        "\n",
        "It means, the `control` group users should match with `old_page`; and `treatment` group users should matched with the `new_page`. \n",
        "\n",
        "However, for the rows where `treatment` does not match with `new_page` or `control` does not match with `old_page`, we cannot be sure if such rows truly received the new or old wepage.  \n",
        "\n",
        "\n",
        "**a.** Now create a new dataset that meets the specifications.  Store your new dataframe in **df2**."
      ]
    },
    {
      "cell_type": "code",
      "metadata": {
        "collapsed": true,
        "id": "lcHczJRqU6wg"
      },
      "source": [
        "# Remove the inaccurate rows, and store the result in a new dataframe df2\n",
        "df2 = df.query('(group == \"treatment\" and landing_page == \"new_page\") or (group == \"control\" and landing_page == \"old_page\")').copy()"
      ],
      "execution_count": 8,
      "outputs": []
    },
    {
      "cell_type": "code",
      "metadata": {
        "collapsed": true,
        "colab": {
          "base_uri": "https://localhost:8080/"
        },
        "id": "eULeT3FpU6wg",
        "outputId": "e59c36c7-1102-4f53-858f-3ab02d0ed8c1"
      },
      "source": [
        "# Double Check all of the incorrect rows were removed from df2 - \n",
        "# Output of the statement below should be 0\n",
        "df2[((df2['group'] == 'treatment') == (df2['landing_page'] == 'new_page')) == False].shape[0]"
      ],
      "execution_count": 9,
      "outputs": [
        {
          "output_type": "execute_result",
          "data": {
            "text/plain": [
              "0"
            ]
          },
          "metadata": {},
          "execution_count": 9
        }
      ]
    },
    {
      "cell_type": "markdown",
      "metadata": {
        "id": "SZN2KY-CU6wg"
      },
      "source": [
        "### Step 1.3  Remove duplicates\n"
      ]
    },
    {
      "cell_type": "markdown",
      "metadata": {
        "id": "9-GP6pe7U6wh"
      },
      "source": [
        "**a.** How many unique **user_id**s are in **df2**?"
      ]
    },
    {
      "cell_type": "code",
      "metadata": {
        "collapsed": true,
        "colab": {
          "base_uri": "https://localhost:8080/"
        },
        "id": "vjpWPEwsU6wh",
        "outputId": "d03111d1-5c9d-4a6e-f4a1-647d53749d27"
      },
      "source": [
        "print(f'In df2, there are {df2.user_id.nunique():,d} unique users.')"
      ],
      "execution_count": 10,
      "outputs": [
        {
          "output_type": "stream",
          "name": "stdout",
          "text": [
            "In df2, there are 290,584 unique users.\n"
          ]
        }
      ]
    },
    {
      "cell_type": "markdown",
      "metadata": {
        "collapsed": true,
        "id": "4sczip1SU6wh"
      },
      "source": [
        "**b.** There is one **user_id** repeated in **df2**.  What is it?"
      ]
    },
    {
      "cell_type": "code",
      "metadata": {
        "collapsed": true,
        "colab": {
          "base_uri": "https://localhost:8080/",
          "height": 78
        },
        "id": "Laxju-lHU6wh",
        "outputId": "36d0e496-1964-423e-f658-e51b90248c74"
      },
      "source": [
        "df2.loc[df2.user_id.duplicated()]"
      ],
      "execution_count": 11,
      "outputs": [
        {
          "output_type": "execute_result",
          "data": {
            "text/html": [
              "<div>\n",
              "<style scoped>\n",
              "    .dataframe tbody tr th:only-of-type {\n",
              "        vertical-align: middle;\n",
              "    }\n",
              "\n",
              "    .dataframe tbody tr th {\n",
              "        vertical-align: top;\n",
              "    }\n",
              "\n",
              "    .dataframe thead th {\n",
              "        text-align: right;\n",
              "    }\n",
              "</style>\n",
              "<table border=\"1\" class=\"dataframe\">\n",
              "  <thead>\n",
              "    <tr style=\"text-align: right;\">\n",
              "      <th></th>\n",
              "      <th>user_id</th>\n",
              "      <th>timestamp</th>\n",
              "      <th>group</th>\n",
              "      <th>landing_page</th>\n",
              "      <th>converted</th>\n",
              "    </tr>\n",
              "  </thead>\n",
              "  <tbody>\n",
              "    <tr>\n",
              "      <th>2893</th>\n",
              "      <td>773192</td>\n",
              "      <td>2017-01-14 02:55:59.590927</td>\n",
              "      <td>treatment</td>\n",
              "      <td>new_page</td>\n",
              "      <td>0</td>\n",
              "    </tr>\n",
              "  </tbody>\n",
              "</table>\n",
              "</div>"
            ],
            "text/plain": [
              "      user_id                  timestamp      group landing_page  converted\n",
              "2893   773192 2017-01-14 02:55:59.590927  treatment     new_page          0"
            ]
          },
          "metadata": {},
          "execution_count": 11
        }
      ]
    },
    {
      "cell_type": "markdown",
      "metadata": {
        "id": "En1kA8dWU6wh"
      },
      "source": [
        "**c.** Display the rows for the duplicate **user_id**? "
      ]
    },
    {
      "cell_type": "code",
      "metadata": {
        "collapsed": true,
        "colab": {
          "base_uri": "https://localhost:8080/",
          "height": 110
        },
        "id": "ux-MgnaQU6wi",
        "outputId": "3dd8df47-7122-4215-a2e9-ff2d6c061150"
      },
      "source": [
        "repeat_user_id = df2.loc[df2.user_id.duplicated()]['user_id'].values[0]\n",
        "df.query('user_id == @repeat_user_id')"
      ],
      "execution_count": 12,
      "outputs": [
        {
          "output_type": "execute_result",
          "data": {
            "text/html": [
              "<div>\n",
              "<style scoped>\n",
              "    .dataframe tbody tr th:only-of-type {\n",
              "        vertical-align: middle;\n",
              "    }\n",
              "\n",
              "    .dataframe tbody tr th {\n",
              "        vertical-align: top;\n",
              "    }\n",
              "\n",
              "    .dataframe thead th {\n",
              "        text-align: right;\n",
              "    }\n",
              "</style>\n",
              "<table border=\"1\" class=\"dataframe\">\n",
              "  <thead>\n",
              "    <tr style=\"text-align: right;\">\n",
              "      <th></th>\n",
              "      <th>user_id</th>\n",
              "      <th>timestamp</th>\n",
              "      <th>group</th>\n",
              "      <th>landing_page</th>\n",
              "      <th>converted</th>\n",
              "    </tr>\n",
              "  </thead>\n",
              "  <tbody>\n",
              "    <tr>\n",
              "      <th>1899</th>\n",
              "      <td>773192</td>\n",
              "      <td>2017-01-09 05:37:58.781806</td>\n",
              "      <td>treatment</td>\n",
              "      <td>new_page</td>\n",
              "      <td>0</td>\n",
              "    </tr>\n",
              "    <tr>\n",
              "      <th>2893</th>\n",
              "      <td>773192</td>\n",
              "      <td>2017-01-14 02:55:59.590927</td>\n",
              "      <td>treatment</td>\n",
              "      <td>new_page</td>\n",
              "      <td>0</td>\n",
              "    </tr>\n",
              "  </tbody>\n",
              "</table>\n",
              "</div>"
            ],
            "text/plain": [
              "      user_id                  timestamp      group landing_page  converted\n",
              "1899   773192 2017-01-09 05:37:58.781806  treatment     new_page          0\n",
              "2893   773192 2017-01-14 02:55:59.590927  treatment     new_page          0"
            ]
          },
          "metadata": {},
          "execution_count": 12
        }
      ]
    },
    {
      "cell_type": "markdown",
      "metadata": {
        "id": "ka6J1Ne_U6wi"
      },
      "source": [
        "**d.** Remove **one** of the rows with a duplicate **user_id**, from the **df2** dataframe."
      ]
    },
    {
      "cell_type": "code",
      "metadata": {
        "collapsed": true,
        "colab": {
          "base_uri": "https://localhost:8080/"
        },
        "id": "zqx87ZkYU6wi",
        "outputId": "8f497603-d2aa-4912-a446-b61f9ab03a5c"
      },
      "source": [
        "# Remove one of the rows with a duplicate user_id.\n",
        "df2.drop_duplicates('user_id', inplace=True)\n",
        "# Check again if the row with a duplicate user_id is deleted or not\n",
        "df2.duplicated('user_id').sum()"
      ],
      "execution_count": 13,
      "outputs": [
        {
          "output_type": "execute_result",
          "data": {
            "text/plain": [
              "0"
            ]
          },
          "metadata": {},
          "execution_count": 13
        }
      ]
    },
    {
      "cell_type": "markdown",
      "metadata": {
        "id": "45KBMD6yU6wi"
      },
      "source": [
        "### Step 1.4  Calculate probatility\n",
        "\n",
        "**a.** What is the probability of an individual converting regardless of the page they receive?\n",
        "\n"
      ]
    },
    {
      "cell_type": "code",
      "metadata": {
        "collapsed": true,
        "colab": {
          "base_uri": "https://localhost:8080/"
        },
        "id": "JwJ64q6UU6wi",
        "outputId": "30ca158c-735c-49dd-8a8f-84c8433aba3b"
      },
      "source": [
        "p_population = df2.converted.sum()/df2.shape[0]\n",
        "print(f\"The probability of converting regardless of page is {p_population:.4f}.\")"
      ],
      "execution_count": 14,
      "outputs": [
        {
          "output_type": "stream",
          "name": "stdout",
          "text": [
            "The probability of converting regardless of page is 0.1196.\n"
          ]
        }
      ]
    },
    {
      "cell_type": "markdown",
      "metadata": {
        "id": "mDcd5OnkU6wi"
      },
      "source": [
        "**b.** Given that an individual was in the `control` group, what is the probability they converted?"
      ]
    },
    {
      "cell_type": "code",
      "metadata": {
        "collapsed": true,
        "colab": {
          "base_uri": "https://localhost:8080/"
        },
        "id": "CQQpvNT0U6wj",
        "outputId": "11c62aa4-cb2c-4583-d766-ec3fcf16c85a"
      },
      "source": [
        "df2_control = df2.query('group == \"control\"')\n",
        "p_control = df2_control.converted.sum()/df2_control.shape[0]\n",
        "print(f'The probability of converting in the control group is {p_control:.4f}.')"
      ],
      "execution_count": 15,
      "outputs": [
        {
          "output_type": "stream",
          "name": "stdout",
          "text": [
            "The probability of converting in the control group is 0.1204.\n"
          ]
        }
      ]
    },
    {
      "cell_type": "markdown",
      "metadata": {
        "id": "JowgeRPWU6wj"
      },
      "source": [
        "**c.** Given that an individual was in the `treatment` group, what is the probability they converted?"
      ]
    },
    {
      "cell_type": "code",
      "metadata": {
        "collapsed": true,
        "colab": {
          "base_uri": "https://localhost:8080/"
        },
        "id": "gt-zXLRgU6wj",
        "outputId": "f102e7ef-d81a-4d35-fe0f-64da56769693"
      },
      "source": [
        "df2_treatment = df2.query('group == \"treatment\"')\n",
        "p_treatment = df2_treatment.converted.sum()/df2_treatment.shape[0]\n",
        "print(f'The probability of converting in the treatment group is {p_treatment:.4f}.')"
      ],
      "execution_count": 16,
      "outputs": [
        {
          "output_type": "stream",
          "name": "stdout",
          "text": [
            "The probability of converting in the treatment group is 0.1188.\n"
          ]
        }
      ]
    },
    {
      "cell_type": "code",
      "metadata": {
        "colab": {
          "base_uri": "https://localhost:8080/"
        },
        "id": "0LRym116U6wj",
        "outputId": "14f48a75-cae8-4377-fbda-9172af52d3e1"
      },
      "source": [
        "# Calculate the actual difference (obs_diff) between the conversion rates for the two groups.\n",
        "obs_diff = p_treatment - p_control\n",
        "print(f'Difference between the conversion rates is {obs_diff:.4f}')"
      ],
      "execution_count": 17,
      "outputs": [
        {
          "output_type": "stream",
          "name": "stdout",
          "text": [
            "Difference between the conversion rates is -0.0016\n"
          ]
        }
      ]
    },
    {
      "cell_type": "markdown",
      "metadata": {
        "id": "1or0uFWVU6wj"
      },
      "source": [
        "**d.** What is the probability that an individual received the new page?"
      ]
    },
    {
      "cell_type": "code",
      "metadata": {
        "collapsed": true,
        "colab": {
          "base_uri": "https://localhost:8080/"
        },
        "id": "ancGNN3MU6wk",
        "outputId": "a03f39b7-bb4d-4942-de1b-be19f0685434"
      },
      "source": [
        "p_new_page = df2.query('landing_page == \"new_page\"').shape[0]/df2.shape[0]\n",
        "print(f\"The probability of receiving a new page is {p_new_page:.4f}\")"
      ],
      "execution_count": 18,
      "outputs": [
        {
          "output_type": "stream",
          "name": "stdout",
          "text": [
            "The probability of receiving a new page is 0.5001\n"
          ]
        }
      ]
    },
    {
      "cell_type": "markdown",
      "metadata": {
        "id": "5EJnY4jBU6wk"
      },
      "source": [
        "**e.** Consider your results from parts (a) through (d) above, and explain below whether the new `treatment` group users lead to more conversions."
      ]
    },
    {
      "cell_type": "markdown",
      "metadata": {
        "id": "KhkJfxoAU6wk"
      },
      "source": [
        ">**The probability of converting in the treatment group $p_{treatment} = 11.88\\% $ and the probability of converting in the control group $p_{control} = 12.04\\%$. As $p_{treatment} < p_{control}$, in other words as $p_{treatment} - p_{control} = -0.0016 \\leq 0$, we can conclude, that the new `treatment` group users don't lead to more coversions.**"
      ]
    },
    {
      "cell_type": "markdown",
      "metadata": {
        "id": "Ni475BLQU6wk"
      },
      "source": [
        "<a id='ab_test'></a>\n",
        "## Part II - A/B Test\n",
        "\n",
        "Since a timestamp is associated with each event, you could run a hypothesis test continuously as long as you observe the events. \n",
        "\n",
        "However, then the hard questions would be: \n",
        "- Do you stop as soon as one page is considered significantly better than another or does it need to happen consistently for a certain amount of time?  \n",
        "- How long do you run to render a decision that neither page is better than another?  \n",
        "\n",
        "These questions are the difficult parts associated with A/B tests in general.  \n",
        "\n",
        "\n",
        "### Step 2.1 Set Hypotheses\n",
        "For now, consider you need to make the decision just based on all the data provided.  \n"
      ]
    },
    {
      "cell_type": "markdown",
      "metadata": {
        "id": "fitrgQDkU6wk"
      },
      "source": [
        ">**We set the null and alternative hypothesis in the following way:**\n",
        ">\n",
        ">**Null: The difference between the conversion rate in the treatment group and the conversion rate in the control group is lower or equal to zero, i.e.**\n",
        "> $$H_0: p_{new} - p_{old} \\leq 0$$\n",
        ">\n",
        ">**and**\n",
        ">\n",
        ">**Alternative: The difference between the conversion rate in the treatment group and the conversion rate in the control group is greater than zero, i.e.**\n",
        ">$$H_1: p_{new} - p_{old} > 0$$\n",
        ">\n",
        ">**where $p_{old}$ is the conversion rate in the control group and $p_{new}$ is the conversion rate in the treatment group. Furthermore, we set our threshold for Type I errors $\\alpha = 0.05$.**"
      ]
    },
    {
      "cell_type": "markdown",
      "metadata": {
        "id": "oIzqKkFIU6wk"
      },
      "source": [
        "### Step 2.2 - Null Hypothesis $H_0$ Testing\n",
        "Under the null hypothesis $H_0$, assume that $p_{new}$ and $p_{old}$ are equal. Furthermore, assume that $p_{new}$ and $p_{old}$ both are equal to the **converted** success rate in the `df2` data regardless of the page. So, our assumption is: <br><br>\n",
        "<center>\n",
        "$p_{new}$ = $p_{old}$ = $p_{population}$\n",
        "</center>\n",
        "\n",
        "In this section, we: \n",
        "\n",
        "- Simulate (bootstrap) sample data set for both groups, and compute the  \"converted\" probability $p$ for those samples. \n",
        "\n",
        "- Use a sample size for each group equal to the ones in the `df2` data.\n",
        "\n",
        "- Compute the difference in the \"converted\" probability for the two samples above. \n",
        "\n",
        "- Perform the sampling distribution for the \"difference in the converted probability\" between the two simulated-samples over 10,000 iterations; and calculate an estimate. \n"
      ]
    },
    {
      "cell_type": "markdown",
      "metadata": {
        "id": "eW8HWTsmU6wl"
      },
      "source": [
        "**a.** What is the **conversion rate** for $p_{new}$ under the null hypothesis? "
      ]
    },
    {
      "cell_type": "code",
      "metadata": {
        "collapsed": true,
        "colab": {
          "base_uri": "https://localhost:8080/"
        },
        "id": "11KYNGE8U6wl",
        "outputId": "40b2419b-9943-4c98-9144-46ac9d5c903c"
      },
      "source": [
        "print(f'{p_population:.4f}')"
      ],
      "execution_count": 19,
      "outputs": [
        {
          "output_type": "stream",
          "name": "stdout",
          "text": [
            "0.1196\n"
          ]
        }
      ]
    },
    {
      "cell_type": "markdown",
      "metadata": {
        "id": "PfDvuWbaU6wl"
      },
      "source": [
        "**b.** What is the **conversion rate** for $p_{old}$ under the null hypothesis? "
      ]
    },
    {
      "cell_type": "code",
      "metadata": {
        "collapsed": true,
        "colab": {
          "base_uri": "https://localhost:8080/"
        },
        "id": "gM7hq3fHU6wl",
        "outputId": "d86aa69f-0f96-4a81-fad4-aeb82a07ab3a"
      },
      "source": [
        "print(f'{p_population:.4f}')"
      ],
      "execution_count": 20,
      "outputs": [
        {
          "output_type": "stream",
          "name": "stdout",
          "text": [
            "0.1196\n"
          ]
        }
      ]
    },
    {
      "cell_type": "markdown",
      "metadata": {
        "id": "5zW7DphHU6wl"
      },
      "source": [
        "**c.** What is $n_{new}$, the number of individuals in the treatment group? "
      ]
    },
    {
      "cell_type": "code",
      "metadata": {
        "collapsed": true,
        "colab": {
          "base_uri": "https://localhost:8080/"
        },
        "id": "yBM5rRfKU6wl",
        "outputId": "92609260-74e3-4131-8391-0eef72218148"
      },
      "source": [
        "n_new = df2_treatment.shape[0]\n",
        "print(f'{n_new:,d}')"
      ],
      "execution_count": 21,
      "outputs": [
        {
          "output_type": "stream",
          "name": "stdout",
          "text": [
            "145,310\n"
          ]
        }
      ]
    },
    {
      "cell_type": "markdown",
      "metadata": {
        "id": "6yPO_rtjU6wl"
      },
      "source": [
        "**d.** What is $n_{old}$, the number of individuals in the control group?"
      ]
    },
    {
      "cell_type": "code",
      "metadata": {
        "collapsed": true,
        "colab": {
          "base_uri": "https://localhost:8080/"
        },
        "id": "VhRIIR-SU6wl",
        "outputId": "1067197f-d572-4b99-ded3-9146d354e27e"
      },
      "source": [
        "n_old = df2_control.shape[0]\n",
        "print(f'{n_old:,d}')"
      ],
      "execution_count": 22,
      "outputs": [
        {
          "output_type": "stream",
          "name": "stdout",
          "text": [
            "145,274\n"
          ]
        }
      ]
    },
    {
      "cell_type": "markdown",
      "metadata": {
        "id": "6QDvLbfpU6wl"
      },
      "source": [
        "**e. Simulate Sample for the `treatment` Group**<br> \n",
        "Simulate $n_{new}$ transactions with a conversion rate of $p_{new}$ under the null hypothesis."
      ]
    },
    {
      "cell_type": "code",
      "metadata": {
        "collapsed": true,
        "colab": {
          "base_uri": "https://localhost:8080/"
        },
        "id": "7VWxr2VBU6wl",
        "outputId": "0c5540b1-426d-4b72-d5bb-364fb4e76306"
      },
      "source": [
        "new_page_converted = np.random.choice([1,0], size=n_new, replace=True, p=[p_population, 1.0-p_population])\n",
        "new_page_converted.shape"
      ],
      "execution_count": 23,
      "outputs": [
        {
          "output_type": "execute_result",
          "data": {
            "text/plain": [
              "(145310,)"
            ]
          },
          "metadata": {},
          "execution_count": 23
        }
      ]
    },
    {
      "cell_type": "markdown",
      "metadata": {
        "id": "W5YLKxfpU6wm"
      },
      "source": [
        "**f. Simulate Sample for the `control` Group** <br>\n",
        "Simulate $n_{old}$ transactions with a conversion rate of $p_{old}$ under the null hypothesis."
      ]
    },
    {
      "cell_type": "code",
      "metadata": {
        "collapsed": true,
        "colab": {
          "base_uri": "https://localhost:8080/"
        },
        "id": "CKOcJzIiU6wm",
        "outputId": "1085a00d-28ee-4084-fbae-69fb6b1d7bdd"
      },
      "source": [
        "# Simulate a Sample for the control Group\n",
        "old_page_converted = np.random.choice([1,0], size=n_old, replace=True, p=[p_population, 1.0-p_population])\n",
        "old_page_converted.shape"
      ],
      "execution_count": 24,
      "outputs": [
        {
          "output_type": "execute_result",
          "data": {
            "text/plain": [
              "(145274,)"
            ]
          },
          "metadata": {},
          "execution_count": 24
        }
      ]
    },
    {
      "cell_type": "markdown",
      "metadata": {
        "id": "cX5SHF5NU6wm"
      },
      "source": [
        "**g.** Find the difference in the \"converted\" probability $(p{'}_{new}$ - $p{'}_{old})$ for your simulated samples from the parts (e) and (f) above. "
      ]
    },
    {
      "cell_type": "code",
      "metadata": {
        "collapsed": true,
        "colab": {
          "base_uri": "https://localhost:8080/"
        },
        "id": "LcbcjT1jU6wm",
        "outputId": "8638e0ef-84d8-497c-f069-66cfcf614cbb"
      },
      "source": [
        "new_page_converted.mean() - old_page_converted.mean()"
      ],
      "execution_count": 25,
      "outputs": [
        {
          "output_type": "execute_result",
          "data": {
            "text/plain": [
              "-0.0019427530394850456"
            ]
          },
          "metadata": {},
          "execution_count": 25
        }
      ]
    },
    {
      "cell_type": "markdown",
      "metadata": {
        "id": "gQZqNnnwU6wm"
      },
      "source": [
        "\n",
        "**h. Sampling distribution** <br>\n",
        "Re-create `new_page_converted` and `old_page_converted` and find the $(p{'}_{new}$ - $p{'}_{old})$ value 10,000 times using the same simulation process you used in parts (a) through (g) above. \n",
        "\n",
        "<br>\n",
        "Store all  $(p{'}_{new}$ - $p{'}_{old})$  values in a NumPy array called `p_diffs`."
      ]
    },
    {
      "cell_type": "code",
      "metadata": {
        "collapsed": true,
        "id": "w6yyRTndU6wm"
      },
      "source": [
        "# Sampling distribution \n",
        "p_diffs = []\n",
        "for _ in range(10000):\n",
        "  new_page_converted = np.random.choice([1,0], size=n_new, replace=True, p=[p_population, 1.0-p_population])\n",
        "  old_page_converted = np.random.choice([1,0], size=n_old, replace=True, p=[p_population, 1.0-p_population])\n",
        "  p_diffs.append(new_page_converted.mean() - old_page_converted.mean())"
      ],
      "execution_count": 26,
      "outputs": []
    },
    {
      "cell_type": "markdown",
      "metadata": {
        "id": "FrqiKaXLU6wm"
      },
      "source": [
        "**i. Histogram**<br> \n",
        "Plot a histogram of the **p_diffs**.  Does this plot look like what you expected? "
      ]
    },
    {
      "cell_type": "code",
      "metadata": {
        "collapsed": true,
        "colab": {
          "base_uri": "https://localhost:8080/",
          "height": 294
        },
        "id": "OunvPCW6U6wm",
        "outputId": "a0dbc11f-5962-449b-ad78-35ec83163b3c"
      },
      "source": [
        "plt.hist(p_diffs)\n",
        "plt.title('Histogram of differences in conversion rates')\n",
        "plt.xlabel('Difference of means')\n",
        "plt.ylabel('Frequency')\n",
        "plt.axvline(x=obs_diff, c='r')\n",
        "plt.show()"
      ],
      "execution_count": 27,
      "outputs": [
        {
          "output_type": "display_data",
          "data": {
            "image/png": "[encoded data removed]",
            "text/plain": [
              "<Figure size 432x288 with 1 Axes>"
            ]
          },
          "metadata": {
            "needs_background": "light"
          }
        }
      ]
    },
    {
      "cell_type": "markdown",
      "metadata": {
        "id": "fRIZlqruU6wm"
      },
      "source": [
        "**j.** What proportion of the **p_diffs** are greater than the actual difference observed in the `df2` data?"
      ]
    },
    {
      "cell_type": "code",
      "metadata": {
        "collapsed": true,
        "colab": {
          "base_uri": "https://localhost:8080/"
        },
        "id": "xfrxtzxOU6wn",
        "outputId": "2fe715f3-7a7f-477e-d426-b6d9de3c2ac1"
      },
      "source": [
        "(p_diffs > obs_diff).mean()"
      ],
      "execution_count": 28,
      "outputs": [
        {
          "output_type": "execute_result",
          "data": {
            "text/plain": [
              "0.9036"
            ]
          },
          "metadata": {},
          "execution_count": 28
        }
      ]
    },
    {
      "cell_type": "markdown",
      "metadata": {
        "id": "ZfDZ5E0sU6wn"
      },
      "source": [
        "**k.** Please explain in words what you have just computed in part **j** above.  \n",
        " - What is this value called in scientific studies?  \n",
        " - What does this value signify in terms of whether or not there is a difference between the new and old pages? *Hint*: Compare the value above with the \"Type I error rate (0.05)\". "
      ]
    },
    {
      "cell_type": "markdown",
      "metadata": {
        "id": "9AdZwtlRU6wn"
      },
      "source": [
        ">**The p-value 0.9037 is significantly higher than our threshold for the Type I error rate ($\\alpha = 0.05$). It means that we failed to reject the null hypothesis. In other words, there is no difference between the new and the old pages.**"
      ]
    },
    {
      "cell_type": "markdown",
      "metadata": {
        "id": "XIM9zH6hU6wn"
      },
      "source": [
        "\n",
        "\n",
        "**l. Using Built-in Methods for Hypothesis Testing**<br>\n",
        "We could also use a built-in to achieve similar results.  Though using the built-in might be easier to code, the above portions are a walkthrough of the ideas that are critical to correctly thinking about statistical significance. \n"
      ]
    },
    {
      "cell_type": "code",
      "metadata": {
        "collapsed": true,
        "colab": {
          "base_uri": "https://localhost:8080/"
        },
        "id": "dxoWBIZaU6wn",
        "outputId": "47435857-968a-4317-d1aa-b68d17d25162"
      },
      "source": [
        "import statsmodels.api as sm\n",
        "\n",
        "# Calculate the number of conversions with the old_page\n",
        "convert_old = df2_control.converted.sum()\n",
        "\n",
        "# Calculate the number of conversions with the new_page\n",
        "convert_new = df2_treatment.converted.sum()\n",
        "\n",
        "# Calculate the number of individuals who were shown the old_page\n",
        "n_old = df2_control.shape[0]\n",
        "\n",
        "# Calculate the number of individuals who received new_page\n",
        "n_new = df2_treatment.shape[0]"
      ],
      "execution_count": 29,
      "outputs": [
        {
          "output_type": "stream",
          "name": "stderr",
          "text": [
            "/usr/local/lib/python3.7/dist-packages/statsmodels/tools/_testing.py:19: FutureWarning: pandas.util.testing is deprecated. Use the functions in the public API at pandas.testing instead.\n",
            "  import pandas.util.testing as tm\n"
          ]
        }
      ]
    },
    {
      "cell_type": "markdown",
      "metadata": {
        "id": "uAtV23dVU6wn"
      },
      "source": [
        "**m.** Now use `sm.stats.proportions_ztest()` to compute your test statistic and p-value.  [Here](https://www.statsmodels.org/stable/generated/statsmodels.stats.proportion.proportions_ztest.html) is a helpful link on using the built in.\n",
        "\n",
        "The syntax is: \n",
        "```bash\n",
        "proportions_ztest(count_array, nobs_array, alternative='larger')\n",
        "```\n",
        "where, \n",
        "- `count_array` = represents the number of \"converted\" for each group\n",
        "- `nobs_array` = represents the total number of observations (rows) in each group\n",
        "- `alternative` = choose one of the values from `[‘two-sided’, ‘smaller’, ‘larger’]` depending upon two-tailed, left-tailed, or right-tailed respectively. \n",
        ">**Hint**: <br>\n",
        "It's a two-tailed if you defined $H_1$ as $(p_{new} = p_{old})$. <br>\n",
        "It's a left-tailed if you defined $H_1$ as $(p_{new} < p_{old})$. <br>\n",
        "It's a right-tailed if you defined $H_1$ as $(p_{new} > p_{old})$. \n",
        "\n",
        "The built-in function above will return the z_score, p_value. \n",
        "\n",
        "---\n",
        "### About the two-sample z-test\n",
        "Recall that you have plotted a distribution `p_diffs` representing the\n",
        "difference in the \"converted\" probability  $(p{'}_{new}-p{'}_{old})$  for your two simulated samples 10,000 times. \n",
        "\n",
        "Another way for comparing the mean of two independent and normal distribution is a **two-sample z-test**. You can perform the Z-test to calculate the Z_score, as shown in the equation below:\n",
        "\n",
        "$$\n",
        "Z_{score} = \\frac{ (p{'}_{new}-p{'}_{old}) - (p_{new}  -  p_{old})}{ \\sqrt{ \\frac{\\sigma^{2}_{new} }{n_{new}} + \\frac{\\sigma^{2}_{old} }{n_{old}}  } }\n",
        "$$\n",
        "\n",
        "where,\n",
        "- $p{'}$ is the \"converted\" success rate in the sample\n",
        "- $p_{new}$ and $p_{old}$ are the \"converted\" success rate for the two groups in the population. \n",
        "- $\\sigma_{new}$ and $\\sigma_{new}$ are the standard deviation for the two groups in the population. \n",
        "- $n_{new}$ and $n_{old}$ represent the size of the two groups or samples (it's same in our case)\n",
        "\n",
        "\n",
        ">Z-test is performed when the sample size is large, and the population variance is known. The z-score represents the distance between the two \"converted\" success rates in terms of the standard error. \n",
        "\n",
        "Next step is to make a decision to reject or fail to reject the null hypothesis based on comparing these two values: \n",
        "- $Z_{score}$\n",
        "- $Z_{\\alpha}$ or $Z_{0.05}$, also known as critical value at 95% confidence interval.  $Z_{0.05}$ is 1.645 for one-tailed tests,  and 1.960 for two-tailed test. You can determine the $Z_{\\alpha}$ from the z-table manually. \n",
        "\n",
        "Decide if your hypothesis is either a two-tailed, left-tailed, or right-tailed test. Accordingly, reject OR fail to reject the  null based on the comparison between $Z_{score}$ and $Z_{\\alpha}$. \n",
        ">Hint:<br>\n",
        "For a right-tailed test, reject null if $Z_{score}$ > $Z_{\\alpha}$. <br>\n",
        "For a left-tailed test, reject null if $Z_{score}$ < $Z_{\\alpha}$. \n",
        "\n",
        "\n",
        "In other words, we determine whether or not the $Z_{score}$ lies in the \"rejection region\" in the distribution. A \"rejection region\" is an interval where the null hypothesis is rejected iff the $Z_{score}$ lies in that region.\n",
        "\n",
        "\n",
        "\n",
        "Reference: \n",
        "- Example 9.1.2 in book *Introductory Statistics (Shafer and Zhang)*, courtesy [www.stats.libretexts.org](https://stats.libretexts.org/Bookshelves/Introductory_Statistics)."
      ]
    },
    {
      "cell_type": "code",
      "metadata": {
        "collapsed": true,
        "colab": {
          "base_uri": "https://localhost:8080/"
        },
        "id": "k2JsNcMpU6wo",
        "outputId": "46490b16-03d2-488e-fcc0-1378a234a29b"
      },
      "source": [
        "import statsmodels.api as sm\n",
        "# ToDo: Complete the sm.stats.proportions_ztest() method arguments\n",
        "z_score, p_value = sm.stats.proportions_ztest([convert_new, convert_old], [n_new, n_old], alternative='larger')\n",
        "print(z_score, p_value)"
      ],
      "execution_count": 30,
      "outputs": [
        {
          "output_type": "stream",
          "name": "stdout",
          "text": [
            "-1.3109241984234394 0.9050583127590245\n"
          ]
        }
      ]
    },
    {
      "cell_type": "markdown",
      "metadata": {
        "id": "0s8_1ZRYU6wo"
      },
      "source": [
        "**n.** What do the z-score and p-value you computed in the previous question mean for the conversion rates of the old and new pages?  Do they agree with the findings in parts **j.** and **k.**?\n"
      ]
    },
    {
      "cell_type": "markdown",
      "metadata": {
        "id": "QBqI6EekU6wo"
      },
      "source": [
        "> **The $Z_{score}$ of the test for proportions based on normal (z) test is -1.31, which is lower than 1.645, which is $Z_{\\alpha}$ or $Z_{0.05}$ in our case. $Z_{score} < Z_{\\alpha}$ means that we failed to reject the null hypothesis for our right-tailed test. The p-value of `proportions_ztest` is 0.9050 and is similar to our previously computed p-value, which was 0.9037.**"
      ]
    },
    {
      "cell_type": "markdown",
      "metadata": {
        "id": "JVdFk4nsU6wo"
      },
      "source": [
        "<a id='regression'></a>\n",
        "## Part III - A regression approach\n",
        "\n",
        "### Step 3.1 \n",
        "In this final part, we will see that the result you achieved in the A/B test in Part II above can also be achieved by performing regression.\n",
        "\n",
        "**a.** Since each row in the `df2` data is either a conversion or no conversion, what type of regression should you be performing in this case?"
      ]
    },
    {
      "cell_type": "markdown",
      "metadata": {
        "id": "h_qgAxdnU6wo"
      },
      "source": [
        ">**Since each row in the `df2` is either a conversion or no conversion, i.e. the variable `converted` is a binary variable, we will use *logistic regression* that predicts categorical responses when there are only two possible outcomes.**"
      ]
    },
    {
      "cell_type": "markdown",
      "metadata": {
        "id": "j4mduP7-U6wo"
      },
      "source": [
        "**b.** The goal is to use **statsmodels** library to fit the regression model you specified in part **a.** above to see if there is a significant difference in conversion based on the page-type a customer receives. However, you first need to create the following two columns in the `df2` dataframe:\n",
        " 1. `intercept` - It should be `1` in the entire column. \n",
        " 2. `ab_page` - It's a dummy variable column, having a value `1` when an individual receives the **treatment**, otherwise `0`.  "
      ]
    },
    {
      "cell_type": "code",
      "metadata": {
        "id": "a_FOLoAh-S9K"
      },
      "source": [
        "# Add auxiliary and dummy variables\n",
        "df2['intercept'] = 1\n",
        "df2['ab_page'] = df2.landing_page.apply(lambda p: 1 if p == 'new_page' else 0)"
      ],
      "execution_count": 31,
      "outputs": []
    },
    {
      "cell_type": "markdown",
      "metadata": {
        "id": "LqkmQEXYU6wo"
      },
      "source": [
        "**c.** Use **statsmodels** to instantiate your regression model on the two columns you created in part (b). above, then fit the model to predict whether or not an individual converts. \n"
      ]
    },
    {
      "cell_type": "code",
      "metadata": {
        "collapsed": true,
        "id": "1UpWdH_AU6wo",
        "colab": {
          "base_uri": "https://localhost:8080/"
        },
        "outputId": "598ba1ee-8788-4874-ab2b-d244b368b9f1"
      },
      "source": [
        "# Fit the model\n",
        "lgm = sm.Logit(df2['converted'], df2[['intercept', 'ab_page']])\n",
        "res = lgm.fit()"
      ],
      "execution_count": 32,
      "outputs": [
        {
          "output_type": "stream",
          "name": "stdout",
          "text": [
            "Optimization terminated successfully.\n",
            "         Current function value: 0.366118\n",
            "         Iterations 6\n"
          ]
        }
      ]
    },
    {
      "cell_type": "markdown",
      "metadata": {
        "id": "9ntk-tR-U6wp"
      },
      "source": [
        "**d.** Provide the summary of your model below, and use it as necessary to answer the following questions."
      ]
    },
    {
      "cell_type": "code",
      "metadata": {
        "id": "pw1lJH3XKkpb"
      },
      "source": [
        "def print_coefs(res):\n",
        "  \"\"\"Prints transformed coefficients to support interpretation of the results.\"\"\"\n",
        "\n",
        "  print(f'{\"Variable\".ljust(10)} {\"Coef.\".rjust(10)} | {\"Exp(Coef)\".rjust(10)} | {\"1/Exp(Coef)\".rjust(12)}')\n",
        "  print('='*50)\n",
        "  for k,p in res.params.items():\n",
        "      print(f'{k.ljust(10)} {p:>10.4f} | {np.exp(p):>10.4f} | {1/np.exp(p):>12.4f}')\n",
        "  \n",
        "  return None"
      ],
      "execution_count": 33,
      "outputs": []
    },
    {
      "cell_type": "code",
      "metadata": {
        "collapsed": true,
        "id": "ZtZurM6XU6wp",
        "colab": {
          "base_uri": "https://localhost:8080/"
        },
        "outputId": "8d3eeebe-3f78-4eee-f5c2-6b323dce05b8"
      },
      "source": [
        "# Get summary statistics\n",
        "print(res.summary2())\n",
        "print_coefs(res)"
      ],
      "execution_count": 34,
      "outputs": [
        {
          "output_type": "stream",
          "name": "stdout",
          "text": [
            "                          Results: Logit\n",
            "==================================================================\n",
            "Model:              Logit            Pseudo R-squared: 0.000      \n",
            "Dependent Variable: converted        AIC:              212780.3502\n",
            "Date:               2021-09-29 09:10 BIC:              212801.5095\n",
            "No. Observations:   290584           Log-Likelihood:   -1.0639e+05\n",
            "Df Model:           1                LL-Null:          -1.0639e+05\n",
            "Df Residuals:       290582           LLR p-value:      0.18988    \n",
            "Converged:          1.0000           Scale:            1.0000     \n",
            "No. Iterations:     6.0000                                        \n",
            "-------------------------------------------------------------------\n",
            "              Coef.   Std.Err.      z      P>|z|    [0.025   0.975]\n",
            "-------------------------------------------------------------------\n",
            "intercept    -1.9888    0.0081  -246.6690  0.0000  -2.0046  -1.9730\n",
            "ab_page      -0.0150    0.0114    -1.3109  0.1899  -0.0374   0.0074\n",
            "==================================================================\n",
            "\n",
            "Variable        Coef. |  Exp(Coef) |  1/Exp(Coef)\n",
            "==================================================\n",
            "intercept     -1.9888 |     0.1369 |       7.3066\n",
            "ab_page       -0.0150 |     0.9851 |       1.0151\n"
          ]
        }
      ]
    },
    {
      "cell_type": "markdown",
      "metadata": {
        "id": "Z9h_0nMtU6wp"
      },
      "source": [
        "**e.** What is the p-value associated with **ab_page**? Why does it differ from the value you found in **Part II**?"
      ]
    },
    {
      "cell_type": "markdown",
      "metadata": {
        "id": "sUl0BOJtU6wp"
      },
      "source": [
        "> **The logistic regression model results suggest that the odds of converting in the treatment group is 0.9851 more likely (or 1.0151 less likely) than in the control group. In other words, there is no significant difference between treatment and contol groups.**\n",
        ">\n",
        "> **The p-value of 0.1899 associated with ab_page is significantly lower than p-value provided by A/B test (0.9037) or two-sample z-test (0.9050). This is because the null hypothesis in regression is that slope of a regression line is equal to zero, i.e. there is no evidence of statistically significant linear relationship between explanatory and response variables, in our case between receiving the new webpage and buing some product. The p-value changed because in regression we are testing two-sided hypothesis related to coefficients of a regression line and not one-sided hypothesis related to difference between the coversion rates.**\n",
        ">\n",
        "> **Even though the p-value of 0.1899 associated with ab_page is lower then in A/B testing, it is still higher than our Type I error rate (0.05) and therefore we failed to reject the null hypothesis. Both approches give the same conclusion.**"
      ]
    },
    {
      "cell_type": "markdown",
      "metadata": {
        "id": "PvaHpux4U6wp"
      },
      "source": [
        "**f.** Now, we are considering other things that might influence whether or not an individual converts."
      ]
    },
    {
      "cell_type": "markdown",
      "metadata": {
        "id": "k6GYfXgTU6wp"
      },
      "source": [
        ">**Human behavior is influenced by many factors and understaning these factors can improve our data-driven decision making. By building multiple linear regression models we can get deeper insight into how different variables are related. On the other side, some problems can arise, such as non-linear relationship between variables, correlated errors, non-constant variance, outliers or multicollinerity. So we must be careful in our data analysis.**"
      ]
    },
    {
      "cell_type": "markdown",
      "metadata": {
        "id": "IIuxCS7NU6wp"
      },
      "source": [
        "**g. Adding countries**<br> \n",
        "Now along with testing if the conversion rate changes for different pages, also add an effect based on which country a user lives in. \n",
        "\n",
        "1. We will read in the **countries.csv** dataset and merge together our `df2` datasets on the appropriate rows. We call the resulting dataframe `df_merged`.\n",
        "\n",
        "2. Does it appear that country had an impact on conversion?\n",
        "\n"
      ]
    },
    {
      "cell_type": "code",
      "metadata": {
        "collapsed": true,
        "id": "v-a5I1HcU6wp"
      },
      "source": [
        "# Read the countries.csv\n",
        "countries = pd.read_csv(path+'countries.csv')"
      ],
      "execution_count": 35,
      "outputs": []
    },
    {
      "cell_type": "code",
      "metadata": {
        "id": "zHBY5lCrU6wp"
      },
      "source": [
        "# Join with the df2 dataframe\n",
        "df_merged = df2.merge(countries, on='user_id')"
      ],
      "execution_count": 36,
      "outputs": []
    },
    {
      "cell_type": "code",
      "metadata": {
        "id": "jwFzexvUHHYO",
        "colab": {
          "base_uri": "https://localhost:8080/"
        },
        "outputId": "0bfc43e7-8ecc-4d21-bdd9-202e0bdab8bb"
      },
      "source": [
        "# Check missing values in the merged dataframe\n",
        "df_merged.isna().any().any()"
      ],
      "execution_count": 37,
      "outputs": [
        {
          "output_type": "execute_result",
          "data": {
            "text/plain": [
              "False"
            ]
          },
          "metadata": {},
          "execution_count": 37
        }
      ]
    },
    {
      "cell_type": "code",
      "metadata": {
        "id": "BI80vixsU6wq"
      },
      "source": [
        "# Create the necessary dummy variables\n",
        "df_merged = df_merged.join(pd.get_dummies(df_merged.country))"
      ],
      "execution_count": 38,
      "outputs": []
    },
    {
      "cell_type": "code",
      "metadata": {
        "id": "whaE9plaHHe2",
        "colab": {
          "base_uri": "https://localhost:8080/"
        },
        "outputId": "ab51e947-2f7b-4859-da4a-d68b66bf056c"
      },
      "source": [
        "# Fit your model\n",
        "lgm = sm.Logit(df_merged['converted'], df_merged[['intercept', 'CA', 'UK']])\n",
        "res = lgm.fit()\n",
        "# Get summary statistcs\n",
        "print(res.summary2())\n",
        "print_coefs(res)"
      ],
      "execution_count": 39,
      "outputs": [
        {
          "output_type": "stream",
          "name": "stdout",
          "text": [
            "Optimization terminated successfully.\n",
            "         Current function value: 0.366116\n",
            "         Iterations 6\n",
            "                          Results: Logit\n",
            "==================================================================\n",
            "Model:              Logit            Pseudo R-squared: 0.000      \n",
            "Dependent Variable: converted        AIC:              212780.8333\n",
            "Date:               2021-09-29 09:11 BIC:              212812.5723\n",
            "No. Observations:   290584           Log-Likelihood:   -1.0639e+05\n",
            "Df Model:           2                LL-Null:          -1.0639e+05\n",
            "Df Residuals:       290581           LLR p-value:      0.19835    \n",
            "Converged:          1.0000           Scale:            1.0000     \n",
            "No. Iterations:     6.0000                                        \n",
            "-------------------------------------------------------------------\n",
            "              Coef.   Std.Err.      z      P>|z|    [0.025   0.975]\n",
            "-------------------------------------------------------------------\n",
            "intercept    -1.9967    0.0068  -292.3145  0.0000  -2.0101  -1.9833\n",
            "CA           -0.0408    0.0269    -1.5178  0.1291  -0.0935   0.0119\n",
            "UK            0.0099    0.0133     0.7458  0.4558  -0.0161   0.0360\n",
            "==================================================================\n",
            "\n",
            "Variable        Coef. |  Exp(Coef) |  1/Exp(Coef)\n",
            "==================================================\n",
            "intercept     -1.9967 |     0.1358 |       7.3649\n",
            "CA            -0.0408 |     0.9600 |       1.0416\n",
            "UK             0.0099 |     1.0100 |       0.9901\n"
          ]
        }
      ]
    },
    {
      "cell_type": "markdown",
      "metadata": {
        "id": "CPS9bmWlU6wq"
      },
      "source": [
        "**h. Fit your model and obtain the results**\n",
        "\n",
        "Though we have now looked at the individual factors of country and page on conversion, we would now like to look at an interaction between page and country to see if are there significant effects on conversion.\n"
      ]
    },
    {
      "cell_type": "code",
      "metadata": {
        "id": "JDSc8Sby0UVu"
      },
      "source": [
        "# Add interaction columns\n",
        "df_merged['ab_CA'] = df_merged['ab_page'] * df_merged['CA']\n",
        "df_merged['ab_UK'] = df_merged['ab_page'] * df_merged['UK']\n",
        "df_merged['ab_US'] = df_merged['ab_page'] * df_merged['US']"
      ],
      "execution_count": 40,
      "outputs": []
    },
    {
      "cell_type": "code",
      "metadata": {
        "collapsed": true,
        "id": "EQHU9dOYU6wq",
        "colab": {
          "base_uri": "https://localhost:8080/",
          "height": 721
        },
        "outputId": "2c4d44d3-50fe-41a1-8b8f-19058c032bd4"
      },
      "source": [
        "# Fit your model\n",
        "lgm = sm.Logit(df_merged['converted'], df_merged[['intercept', 'ab_page', 'CA', 'US', 'ab_CA', 'ab_US']])\n",
        "res = lgm.fit()\n",
        "# Get summary statistics\n",
        "print(res.summary2())\n",
        "df_merged[['converted', 'ab_page','CA', 'UK', 'US', 'ab_CA', 'ab_UK', 'ab_US']].describe()"
      ],
      "execution_count": 41,
      "outputs": [
        {
          "output_type": "stream",
          "name": "stdout",
          "text": [
            "Optimization terminated successfully.\n",
            "         Current function value: 0.366109\n",
            "         Iterations 6\n",
            "                          Results: Logit\n",
            "==================================================================\n",
            "Model:              Logit            Pseudo R-squared: 0.000      \n",
            "Dependent Variable: converted        AIC:              212782.6602\n",
            "Date:               2021-09-29 09:11 BIC:              212846.1381\n",
            "No. Observations:   290584           Log-Likelihood:   -1.0639e+05\n",
            "Df Model:           5                LL-Null:          -1.0639e+05\n",
            "Df Residuals:       290578           LLR p-value:      0.19199    \n",
            "Converged:          1.0000           Scale:            1.0000     \n",
            "No. Iterations:     6.0000                                        \n",
            "-------------------------------------------------------------------\n",
            "              Coef.   Std.Err.      z      P>|z|    [0.025   0.975]\n",
            "-------------------------------------------------------------------\n",
            "intercept    -1.9922    0.0161  -123.4571  0.0000  -2.0238  -1.9606\n",
            "ab_page       0.0108    0.0228     0.4749  0.6349  -0.0339   0.0555\n",
            "CA           -0.0118    0.0398    -0.2957  0.7674  -0.0899   0.0663\n",
            "US            0.0057    0.0188     0.3057  0.7598  -0.0311   0.0426\n",
            "ab_CA        -0.0783    0.0568    -1.3783  0.1681  -0.1896   0.0330\n",
            "ab_US        -0.0314    0.0266    -1.1807  0.2377  -0.0835   0.0207\n",
            "==================================================================\n",
            "\n"
          ]
        },
        {
          "output_type": "execute_result",
          "data": {
            "text/html": [
              "<div>\n",
              "<style scoped>\n",
              "    .dataframe tbody tr th:only-of-type {\n",
              "        vertical-align: middle;\n",
              "    }\n",
              "\n",
              "    .dataframe tbody tr th {\n",
              "        vertical-align: top;\n",
              "    }\n",
              "\n",
              "    .dataframe thead th {\n",
              "        text-align: right;\n",
              "    }\n",
              "</style>\n",
              "<table border=\"1\" class=\"dataframe\">\n",
              "  <thead>\n",
              "    <tr style=\"text-align: right;\">\n",
              "      <th></th>\n",
              "      <th>converted</th>\n",
              "      <th>ab_page</th>\n",
              "      <th>CA</th>\n",
              "      <th>UK</th>\n",
              "      <th>US</th>\n",
              "      <th>ab_CA</th>\n",
              "      <th>ab_UK</th>\n",
              "      <th>ab_US</th>\n",
              "    </tr>\n",
              "  </thead>\n",
              "  <tbody>\n",
              "    <tr>\n",
              "      <th>count</th>\n",
              "      <td>290584.000000</td>\n",
              "      <td>290584.000000</td>\n",
              "      <td>290584.000000</td>\n",
              "      <td>290584.000000</td>\n",
              "      <td>290584.000000</td>\n",
              "      <td>290584.000000</td>\n",
              "      <td>290584.000000</td>\n",
              "      <td>290584.000000</td>\n",
              "    </tr>\n",
              "    <tr>\n",
              "      <th>mean</th>\n",
              "      <td>0.119597</td>\n",
              "      <td>0.500062</td>\n",
              "      <td>0.049896</td>\n",
              "      <td>0.249381</td>\n",
              "      <td>0.700723</td>\n",
              "      <td>0.025125</td>\n",
              "      <td>0.124253</td>\n",
              "      <td>0.350683</td>\n",
              "    </tr>\n",
              "    <tr>\n",
              "      <th>std</th>\n",
              "      <td>0.324490</td>\n",
              "      <td>0.500001</td>\n",
              "      <td>0.217731</td>\n",
              "      <td>0.432655</td>\n",
              "      <td>0.457942</td>\n",
              "      <td>0.156506</td>\n",
              "      <td>0.329871</td>\n",
              "      <td>0.477185</td>\n",
              "    </tr>\n",
              "    <tr>\n",
              "      <th>min</th>\n",
              "      <td>0.000000</td>\n",
              "      <td>0.000000</td>\n",
              "      <td>0.000000</td>\n",
              "      <td>0.000000</td>\n",
              "      <td>0.000000</td>\n",
              "      <td>0.000000</td>\n",
              "      <td>0.000000</td>\n",
              "      <td>0.000000</td>\n",
              "    </tr>\n",
              "    <tr>\n",
              "      <th>25%</th>\n",
              "      <td>0.000000</td>\n",
              "      <td>0.000000</td>\n",
              "      <td>0.000000</td>\n",
              "      <td>0.000000</td>\n",
              "      <td>0.000000</td>\n",
              "      <td>0.000000</td>\n",
              "      <td>0.000000</td>\n",
              "      <td>0.000000</td>\n",
              "    </tr>\n",
              "    <tr>\n",
              "      <th>50%</th>\n",
              "      <td>0.000000</td>\n",
              "      <td>1.000000</td>\n",
              "      <td>0.000000</td>\n",
              "      <td>0.000000</td>\n",
              "      <td>1.000000</td>\n",
              "      <td>0.000000</td>\n",
              "      <td>0.000000</td>\n",
              "      <td>0.000000</td>\n",
              "    </tr>\n",
              "    <tr>\n",
              "      <th>75%</th>\n",
              "      <td>0.000000</td>\n",
              "      <td>1.000000</td>\n",
              "      <td>0.000000</td>\n",
              "      <td>0.000000</td>\n",
              "      <td>1.000000</td>\n",
              "      <td>0.000000</td>\n",
              "      <td>0.000000</td>\n",
              "      <td>1.000000</td>\n",
              "    </tr>\n",
              "    <tr>\n",
              "      <th>max</th>\n",
              "      <td>1.000000</td>\n",
              "      <td>1.000000</td>\n",
              "      <td>1.000000</td>\n",
              "      <td>1.000000</td>\n",
              "      <td>1.000000</td>\n",
              "      <td>1.000000</td>\n",
              "      <td>1.000000</td>\n",
              "      <td>1.000000</td>\n",
              "    </tr>\n",
              "  </tbody>\n",
              "</table>\n",
              "</div>"
            ],
            "text/plain": [
              "           converted        ab_page  ...          ab_UK          ab_US\n",
              "count  290584.000000  290584.000000  ...  290584.000000  290584.000000\n",
              "mean        0.119597       0.500062  ...       0.124253       0.350683\n",
              "std         0.324490       0.500001  ...       0.329871       0.477185\n",
              "min         0.000000       0.000000  ...       0.000000       0.000000\n",
              "25%         0.000000       0.000000  ...       0.000000       0.000000\n",
              "50%         0.000000       1.000000  ...       0.000000       0.000000\n",
              "75%         0.000000       1.000000  ...       0.000000       1.000000\n",
              "max         1.000000       1.000000  ...       1.000000       1.000000\n",
              "\n",
              "[8 rows x 8 columns]"
            ]
          },
          "metadata": {},
          "execution_count": 41
        }
      ]
    },
    {
      "cell_type": "markdown",
      "metadata": {
        "id": "hM092HaHU6wq"
      },
      "source": [
        ">**We can see from descriptive statistics, that there are 70% of users from US, 25% of users from UK, and 5% of users from CA. Considering that chance of receiving the new webpage is 50%, the interaction between page and country gives expected results, i.e. about a half of users received the new webpage.**\n",
        ">\n",
        ">**The summary statictics confirm the guess, as p-values for all variables (except `intercept`, which is irrelevant) are greater then our Type I error rate $\\alpha = 0.05$. We can conclude there is no practically neither statistically substantial relationship of an interaction between page and country and the conversion rate.**"
      ]
    },
    {
      "cell_type": "markdown",
      "metadata": {
        "id": "MxreqfZOU6wq"
      },
      "source": [
        "<a id='finalcheck'></a>\n",
        "## Final Check!\n",
        "\n",
        "The last question is: Should the company run the experiment longer to make their decision?\n",
        "\n"
      ]
    },
    {
      "cell_type": "code",
      "metadata": {
        "colab": {
          "base_uri": "https://localhost:8080/"
        },
        "id": "y8OnDyZYTUNo",
        "outputId": "4e59ff6f-ec44-47b5-cd22-47fdbafdd04e"
      },
      "source": [
        "# How long the experiment ran\n",
        "df.timestamp.min(), df.timestamp.max()"
      ],
      "execution_count": 42,
      "outputs": [
        {
          "output_type": "execute_result",
          "data": {
            "text/plain": [
              "(Timestamp('2017-01-02 13:42:05.378582'),\n",
              " Timestamp('2017-01-24 13:41:54.460509'))"
            ]
          },
          "metadata": {},
          "execution_count": 42
        }
      ]
    },
    {
      "cell_type": "code",
      "metadata": {
        "colab": {
          "base_uri": "https://localhost:8080/",
          "height": 294
        },
        "id": "QjhAhx9lTUeX",
        "outputId": "56038e99-33c5-4ccd-c538-562a1786a48d"
      },
      "source": [
        "# Compare number of conversions within two groups across time\n",
        "day_group_s = df.groupby([df.timestamp.dt.day,'group'])['converted'].sum()\n",
        "plt.plot(day_group_s.xs(\"control\", level='group'), label='control group')\n",
        "plt.plot(day_group_s.xs(\"treatment\", level='group'), label='treatment group')\n",
        "plt.ylim(0,1000)\n",
        "plt.xticks(day_group_s.index.get_level_values(0))\n",
        "plt.title('Number of conversions over time')\n",
        "plt.xlabel('Day')\n",
        "plt.ylabel('Number of conversions')\n",
        "plt.legend()\n",
        "plt.show()"
      ],
      "execution_count": 43,
      "outputs": [
        {
          "output_type": "display_data",
          "data": {
            "image/png": "[encoded data removed]",
            "text/plain": [
              "<Figure size 432x288 with 1 Axes>"
            ]
          },
          "metadata": {
            "needs_background": "light"
          }
        }
      ]
    },
    {
      "cell_type": "markdown",
      "metadata": {
        "id": "-Jp0ceTzUo43"
      },
      "source": [
        "> **The experiment lasted for 23 days and there are no substantial differences between the number of conversions within both treatment and control groups. From practical point of view, there is no need to run the experiment longer, neither to examine influences associated with time on conversion.**"
      ]
    },
    {
      "cell_type": "markdown",
      "metadata": {
        "id": "BAzG7NRXSYvw"
      },
      "source": [
        "<a id='conclusion'></a>\n",
        "## Conclusion\n",
        "\n",
        "We examined data from the experiment from three points of view: \n",
        "- probability, \n",
        "- A/B test, \n",
        "- and regression. \n",
        "\n",
        "Results of all three approaches suggest that there is no practically neither statistically significant difference between the conversion rates of the old and the new webpage. **The company should keep the old webpage.** There is no need to run the experiment longer.\n"
      ]
    }
  ]
}