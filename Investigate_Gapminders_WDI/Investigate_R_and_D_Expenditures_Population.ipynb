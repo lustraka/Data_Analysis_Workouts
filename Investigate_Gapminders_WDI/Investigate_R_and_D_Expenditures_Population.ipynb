{
  "nbformat": 4,
  "nbformat_minor": 0,
  "metadata": {
    "colab": {
      "name": "Investigate_R_and_D_Expenditures_Population.ipynb",
      "provenance": [],
      "collapsed_sections": [],
      "authorship_tag": "ABX9TyPByoL7Hd0SFlJ0YUqnI2lb",
      "include_colab_link": true
    },
    "kernelspec": {
      "name": "python3",
      "display_name": "Python 3"
    },
    "language_info": {
      "name": "python"
    }
  },
  "cells": [
    {
      "cell_type": "markdown",
      "metadata": {
        "id": "view-in-github",
        "colab_type": "text"
      },
      "source": [
        "<a href=\"https://colab.research.google.com/github/lustraka/Data_Analysis_Workouts/blob/main/Investigate_Gapminders_WDI/Investigate_R_and_D_Expenditures_Population.ipynb\" target=\"_parent\"><img src=\"https://colab.research.google.com/assets/colab-badge.svg\" alt=\"Open In Colab\"/></a>"
      ]
    },
    {
      "cell_type": "markdown",
      "metadata": {
        "id": "F6zgZsCz5nW6"
      },
      "source": [
        "# Project: Investigate Gapminder's World Development Indicators\n",
        "\n",
        "## Table of Contents\n",
        "<ul>\n",
        "<li><a href=\"#intro\">Introduction</a></li>\n",
        "<li><a href=\"#questions\">Questions</a></li>\n",
        "<li><a href=\"#wrangling\">Data Wrangling</a></li>\n",
        "<li><a href=\"#eda\">Exploratory Data Analysis</a></li>\n",
        "<li><a href=\"#conclusions\">Conclusions</a></li>\n",
        "<li><a href=\"#limitation\">Limitation</a></li>\n",
        "</ul>"
      ]
    },
    {
      "cell_type": "markdown",
      "metadata": {
        "id": "JCZV8dtJ5mzq"
      },
      "source": [
        "# Introduction <a id='intro'></a>\n",
        "\n",
        "**[Gapminder](https://www.gapminder.org/)** has collected a lot of information about how people live their lives in different countries, tracked across the years, and on a number of different indicators. The complete datasets with hundreds of indicators are available in GitHub repositories, one of which is World Development Indicators (WDI). The data is organized in loose CSV files that can be consumed by any spreadsheet software. More efficient way of consuming data is by using [DDF data model](https://open-numbers.github.io/ddf.html).\n",
        "\n",
        "DDF is used to define datasets. A dataset is a body of coherent, related data that is composed of separate elements, but can be manipulated as one unit by a computer. Each DDF dataset must have Concepts and may have DataPoints, Entities, Metadata, or Synonyms, whereas:\n",
        "\n",
        "- **Concepts** contain information about the variables in the data set, i.e. concept properties with simple key (concept = the column-header in a tabular format).\n",
        "- **DataPoints** contain multidimensional data, i.e. indicators with composite keys (dimensions).\n",
        "- **Entities** contain single-dimensional data, i.e. entity properties with simple keys (entity).\n",
        "\n",
        "What datapoints, entities, and concepts to find in what files is defined in the schema and resources sections of a `datapackage.json` file. This is the entry point for any machine that wants to explore the data set:"
      ]
    },
    {
      "cell_type": "code",
      "metadata": {
        "id": "pWqIM-7L5Bvx"
      },
      "source": [
        "# Import dependencies\n",
        "import requests\n",
        "import json\n",
        "import pandas as pd\n",
        "import numpy as np\n",
        "import matplotlib.pyplot as plt"
      ],
      "execution_count": 1,
      "outputs": []
    },
    {
      "cell_type": "code",
      "metadata": {
        "colab": {
          "base_uri": "https://localhost:8080/"
        },
        "id": "bk_Mt-j752Vi",
        "outputId": "321e3b78-b2e2-451b-9245-7147128c2e16"
      },
      "source": [
        "# Set path to data repozitory\n",
        "path = 'https://raw.githubusercontent.com/open-numbers/ddf--open_numbers--world_development_indicators/master/'\n",
        "# Read datapackage.json with data descriptions\n",
        "datapkg = requests.get(path + 'datapackage.json').json()\n",
        "\n",
        "# Print key information about a data set\n",
        "for k,v in datapkg.items():\n",
        "  if type(v) == str or len(v) < 3:\n",
        "    print(k, ' :\\t', v)\n",
        "  else:\n",
        "    print(k, ' : section contains ', len(v), 'elements.')"
      ],
      "execution_count": 2,
      "outputs": [
        {
          "output_type": "stream",
          "name": "stdout",
          "text": [
            "name  :\t ddf--gapminder--world_development_indicators\n",
            "language  :\t {'name': 'English', 'id': 'en'}\n",
            "title  :\t Gapminder's World Development Indicators\n",
            "description  :\t Gapminder's World Development Indicators\n",
            "author  :\t Gapminder\n",
            "license  :\t MIT\n",
            "created  :\t 2021-08-22T12:15:33.269367+00:00\n",
            "translations  :\t []\n",
            "version  :\t 0.0.1\n",
            "resources  : section contains  2402 elements.\n",
            "ddfSchema  : section contains  4 elements.\n"
          ]
        }
      ]
    },
    {
      "cell_type": "markdown",
      "metadata": {
        "id": "iceQTyhu6O2A"
      },
      "source": [
        "This data analysis investigates two dependent variables (indicators) related to countries:\n",
        "- **Research and development expenditure (% of GDP)**\n",
        "- **Total population**\n",
        "\n",
        "A description of Research and development expenditure (concept `gb_xpd_rsdv_gd_zs`) and Total population (`sp_pop_totl`) variable is provided by `ddf--concepts--continuous.csv` file:"
      ]
    },
    {
      "cell_type": "code",
      "metadata": {
        "colab": {
          "base_uri": "https://localhost:8080/"
        },
        "id": "I6z_b5bf6LYq",
        "outputId": "54d7973a-921c-4673-e94f-f88810c9fe52"
      },
      "source": [
        "import textwrap # Wrapping long texts improves rendering of report\n",
        "\n",
        "def get_concept_info(repository, indicator):\n",
        "  \"\"\"Prints key information about an indicator retrieved from a repository.\n",
        "  \n",
        "  Args:\n",
        "    repository : A dataframe from  Gapminder World Development Indicator \n",
        "      repository describing concepts.\n",
        "    indicator : An ID of an indicator.\n",
        "    \n",
        "  Returns:\n",
        "    None\"\"\"\n",
        "\n",
        "  print('\\nConcept:', indicator)\n",
        "  print('==========================')\n",
        "  for v in ['name', 'long_definition', 'statistical_concept_and_methodology', 'source']:\n",
        "    text = v.replace('_', ' ').capitalize() + ' : ' + str(repository.at[indicator, v])\n",
        "    for line in textwrap.wrap(text, width=80):\n",
        "      print(line.replace('\\\\n', '\\n'))\n",
        "    print()\n",
        "  \n",
        "  return None\n",
        "\n",
        "# Load descriptions of continuous concepts\n",
        "wdic_cont = pd.read_csv(path + 'ddf--concepts--continuous.csv', index_col='concept')\n",
        "\n",
        "# Choose indicators for further analysis\n",
        "indicators = ['gb_xpd_rsdv_gd_zs', 'sp_pop_totl']\n",
        "\n",
        "# Print key information about indicators\n",
        "for i in indicators:\n",
        "  get_concept_info(wdic_cont, i)"
      ],
      "execution_count": 3,
      "outputs": [
        {
          "output_type": "stream",
          "name": "stdout",
          "text": [
            "\n",
            "Concept: gb_xpd_rsdv_gd_zs\n",
            "==========================\n",
            "Name : Research and development expenditure (% of GDP)\n",
            "\n",
            "Long definition : Gross domestic expenditures on research and development (R&D),\n",
            "expressed as a percent of GDP. They include both capital and current\n",
            "expenditures in the four main sectors: Business enterprise, Government, Higher\n",
            "education and Private non-profit. R&D covers basic research, applied research,\n",
            "and experimental development.\n",
            "\n",
            "Statistical concept and methodology : The gross domestic expenditure on R&D\n",
            "indicator consists of the total expenditure (current and capital) on R&D by all\n",
            "resident companies, research institutes, university and government laboratories,\n",
            "etc. It excludes R&D expenditures financed by domestic firms but performed\n",
            "abroad. \n",
            "\n",
            "The OECD's Frascati Manual defines research and experimental\n",
            "development as \"creative work undertaken on a systemic basis in order to\n",
            "increase the stock of knowledge, including knowledge of man, culture and\n",
            "society, and the use of this stock of knowledge to devise new applications.\" R&D\n",
            "covers basic research, applied research, and experimental development.\n",
            "\n",
            "(1)\n",
            "Basic research - Basic research is experimental or theoretical work undertaken\n",
            "primarily to acquire new knowledge of the underlying foundation of phenomena and\n",
            "observable facts, without any particular application or use in view\n",
            "\n",
            "(2)\n",
            "Applied research - Applied research is also original investigation undertaken in\n",
            "order to acquire new knowledge; it is, however, directed primarily towards a\n",
            "specific practical aim or objective.\n",
            "\n",
            "(3) Experimental development -\n",
            "Experimental development is systematic work, drawing on existing knowledge\n",
            "gained from research and/or practical experience, which is directed to producing\n",
            "new materials, products or devices, to installing new processes, systems and\n",
            "services, or to improving substantially those already produced or\n",
            "installed.\n",
            "\n",
            "The fields of science and technology used to classify R&D\n",
            "according to the Revised Fields of Science and Technology Classification\n",
            "are:\n",
            "1. Natural sciences;\n",
            "2. Engineering and technology;\n",
            "3. Medical and\n",
            "health sciences;\n",
            "4. Agricultural sciences;\n",
            "5. Social sciences;\n",
            "6. Humanities\n",
            "and the arts.\n",
            "\n",
            "The data are obtained through statistical surveys which are\n",
            "regularly conducted at national level covering R&D performing entities in the\n",
            "private and public sectors.\n",
            "\n",
            "Source : UNESCO Institute for Statistics (http://uis.unesco.org/)\n",
            "\n",
            "\n",
            "Concept: sp_pop_totl\n",
            "==========================\n",
            "Name : Population, total\n",
            "\n",
            "Long definition : Total population is based on the de facto definition of\n",
            "population, which counts all residents regardless of legal status or\n",
            "citizenship. The values shown are midyear estimates.\n",
            "\n",
            "Statistical concept and methodology : Population estimates are usually based on\n",
            "national population censuses. Estimates for the years before and after the\n",
            "census are interpolations or extrapolations based on demographic\n",
            "models.\n",
            "\n",
            "Errors and undercounting occur even in high-income countries.  In\n",
            "developing countries errors may be substantial because of limits in the\n",
            "transport, communications, and other resources required to conduct and analyze a\n",
            "full census.\n",
            "\n",
            "The quality and reliability of official demographic data are\n",
            "also affected by public trust in the government, government commitment to full\n",
            "and accurate enumeration, confidentiality and protection against misuse of\n",
            "census data, and census agencies' independence from political influence.\n",
            "Moreover, comparability of population indicators is limited by differences in\n",
            "the concepts, definitions, collection procedures, and estimation methods used by\n",
            "national statistical agencies and other organizations that collect the\n",
            "data.\n",
            "\n",
            "The currentness of a census and the availability of complementary data\n",
            "from surveys or registration systems are objective ways to judge demographic\n",
            "data quality. Some European countries' registration systems offer complete\n",
            "information on population in the absence of a census.\n",
            "\n",
            "The United Nations\n",
            "Statistics Division monitors the completeness of vital registration systems.\n",
            "Some developing countries have made progress over the last 60 years, but others\n",
            "still have deficiencies in civil registration systems.\n",
            "\n",
            "International\n",
            "migration is the only other factor besides birth and death rates that directly\n",
            "determines a country's population growth. Estimating migration is difficult. At\n",
            "any time many people are located outside their home country as tourists,\n",
            "workers, or refugees or for other reasons. Standards for the duration and\n",
            "purpose of international moves that qualify as migration vary, and estimates\n",
            "require information on flows into and out of countries that is difficult to\n",
            "collect.\n",
            "\n",
            "Population projections, starting from a base year are projected\n",
            "forward using assumptions of mortality, fertility, and migration by age and sex\n",
            "through 2050, based on the UN Population Division's World Population Prospects\n",
            "database medium variant.\n",
            "\n",
            "Source : (1) United Nations Population Division. World Population Prospects:\n",
            "2019 Revision. (2) Census reports and other statistical publications from\n",
            "national statistical offices, (3) Eurostat: Demographic Statistics, (4) United\n",
            "Nations Statistical Division. Population and Vital Statistics Reprot (various\n",
            "years), (5) U.S. Census Bureau: International Database, and (6) Secretariat of\n",
            "the Pacific Community: Statistics and Demography Programme.\n",
            "\n"
          ]
        }
      ]
    },
    {
      "cell_type": "markdown",
      "metadata": {
        "id": "-VikY5w_7V1y"
      },
      "source": [
        "# Questions <a id='questions'></a>\n",
        "According to [this data story](https://www.weforum.org/agenda/2020/11/countries-spending-research-development-gdp/), investment in research and development is the lifeblood of many private sector organizations, helping bring new products and services to market. It's also important to national economies and plays a crutial role in GDP growth. Let us focus on two key questions:\n",
        "\n",
        "1. Which countries invest most in R&D?\n",
        "2. Is there a relationship between R&D expenditures and country's population?"
      ]
    },
    {
      "cell_type": "markdown",
      "metadata": {
        "id": "3M4-PL2s7XGR"
      },
      "source": [
        "# Data Wrangling <a id='wrangling'></a>\n",
        "\n",
        "## Load Data Set\n",
        "An advantage of using a data repository organized according to DDF data model is easy loading of clean data. For example, missing data are avoided by 'inner' method of datapoints concatenation. The steps taken to load and check data for analysis are described by inline comments in the next cell. Key information about data wrangling provides a log in the next cell's output."
      ]
    },
    {
      "cell_type": "code",
      "metadata": {
        "colab": {
          "base_uri": "https://localhost:8080/",
          "height": 700
        },
        "id": "yTBNIv8f6Jy6",
        "outputId": "6dc5fdbf-65db-4fa1-b0d6-3aeeb400b085"
      },
      "source": [
        "def get_datapoint(path, indicator, dim = 'geo--time'):\n",
        "  \"\"\"Reads a datapoint for a given indicator and dimensions.\n",
        "\n",
        "  Args:\n",
        "    path : A path to Gapminder World Development Indicator repository.\n",
        "    indicator : A concept name of an indicator.\n",
        "    dim : Required dimensions separeted by '--'.\n",
        "\n",
        "  Returns:\n",
        "    A pandas.DataFrame indexed by dimensions (or prints non-existent path).\n",
        "  \"\"\"\n",
        "\n",
        "  # Compile the path to CSV file\n",
        "  path = path + 'datapoints/ddf--datapoints--' + indicator + '--by--' + dim + '.csv'\n",
        "  index_col = dim.split('--')\n",
        "  # Either a read csv file or print the incorrect path to check\n",
        "  try:\n",
        "    df = pd.read_csv(path, index_col=index_col)\n",
        "    print(f'Loading {indicator} ...')\n",
        "    print('Shape: ', df.shape)\n",
        "    print('===== Head of a DataFrame ====')\n",
        "    print(df.head(), '\\n==============================\\n')\n",
        "    return df\n",
        "  except:\n",
        "    print(f'No such file at path\\n{path}')\n",
        "    return None\n",
        "\n",
        "\n",
        "# Load research and development data\n",
        "df_rad_exp = get_datapoint(path, 'gb_xpd_rsdv_gd_zs')\n",
        "\n",
        "# Load total population data\n",
        "pop_totl = get_datapoint(path, 'sp_pop_totl')\n",
        "\n",
        "# Concatenate R&D data with GDP growth data where both values are available\n",
        "df = pd.concat([df_rad_exp, pop_totl], axis=1, join='inner').reset_index()\n",
        "\n",
        "# Shorten names of indicators\n",
        "df.rename(columns={'gb_xpd_rsdv_gd_zs': 'rad_exp', 'sp_pop_totl': 'pop_totl'}, inplace=True)\n",
        "\n",
        "# Load country data\n",
        "countries = pd.read_csv(path + 'ddf--entities--geo--country.csv', index_col='country')\n",
        "\n",
        "# Add country data into the dataframe\n",
        "for col in ['name', 'income_groups', 'world_4region']:\n",
        "  df[col] = df.geo.apply(lambda c: countries.at[c, col])\n",
        "\n",
        "# Check duplicates and missing values\n",
        "assert df.duplicated().sum() == 0\n",
        "print('No duplicated observations.')\n",
        "assert df.isna().any().any() == False\n",
        "print('No missing values.')\n",
        "print('Shape after concatenation and extension :', df.shape)\n",
        "print('Head of a resulting data set including country data:')\n",
        "df.head()"
      ],
      "execution_count": 4,
      "outputs": [
        {
          "output_type": "stream",
          "name": "stdout",
          "text": [
            "Loading gb_xpd_rsdv_gd_zs ...\n",
            "Shape:  (1527, 1)\n",
            "===== Head of a DataFrame ====\n",
            "          gb_xpd_rsdv_gd_zs\n",
            "geo time                   \n",
            "alb 2007            0.08737\n",
            "    2008            0.15412\n",
            "are 2011            0.48920\n",
            "    2014            0.70000\n",
            "arg 1996            0.41749 \n",
            "==============================\n",
            "\n",
            "Loading sp_pop_totl ...\n",
            "Shape:  (13195, 1)\n",
            "===== Head of a DataFrame ====\n",
            "          sp_pop_totl\n",
            "geo time             \n",
            "abw 1960        54208\n",
            "    1961        55434\n",
            "    1962        56234\n",
            "    1963        56699\n",
            "    1964        57029 \n",
            "==============================\n",
            "\n",
            "No duplicated observations.\n",
            "No missing values.\n",
            "Shape after concatenation and extension : (1527, 7)\n",
            "Head of a resulting data set including country data:\n"
          ]
        },
        {
          "output_type": "execute_result",
          "data": {
            "text/html": [
              "<div>\n",
              "<style scoped>\n",
              "    .dataframe tbody tr th:only-of-type {\n",
              "        vertical-align: middle;\n",
              "    }\n",
              "\n",
              "    .dataframe tbody tr th {\n",
              "        vertical-align: top;\n",
              "    }\n",
              "\n",
              "    .dataframe thead th {\n",
              "        text-align: right;\n",
              "    }\n",
              "</style>\n",
              "<table border=\"1\" class=\"dataframe\">\n",
              "  <thead>\n",
              "    <tr style=\"text-align: right;\">\n",
              "      <th></th>\n",
              "      <th>geo</th>\n",
              "      <th>time</th>\n",
              "      <th>rad_exp</th>\n",
              "      <th>pop_totl</th>\n",
              "      <th>name</th>\n",
              "      <th>income_groups</th>\n",
              "      <th>world_4region</th>\n",
              "    </tr>\n",
              "  </thead>\n",
              "  <tbody>\n",
              "    <tr>\n",
              "      <th>0</th>\n",
              "      <td>alb</td>\n",
              "      <td>2007</td>\n",
              "      <td>0.08737</td>\n",
              "      <td>2970017</td>\n",
              "      <td>Albania</td>\n",
              "      <td>upper_middle_income</td>\n",
              "      <td>europe</td>\n",
              "    </tr>\n",
              "    <tr>\n",
              "      <th>1</th>\n",
              "      <td>alb</td>\n",
              "      <td>2008</td>\n",
              "      <td>0.15412</td>\n",
              "      <td>2947314</td>\n",
              "      <td>Albania</td>\n",
              "      <td>upper_middle_income</td>\n",
              "      <td>europe</td>\n",
              "    </tr>\n",
              "    <tr>\n",
              "      <th>2</th>\n",
              "      <td>are</td>\n",
              "      <td>2011</td>\n",
              "      <td>0.48920</td>\n",
              "      <td>8946778</td>\n",
              "      <td>United Arab Emirates</td>\n",
              "      <td>high_income</td>\n",
              "      <td>asia</td>\n",
              "    </tr>\n",
              "    <tr>\n",
              "      <th>3</th>\n",
              "      <td>are</td>\n",
              "      <td>2014</td>\n",
              "      <td>0.70000</td>\n",
              "      <td>9214182</td>\n",
              "      <td>United Arab Emirates</td>\n",
              "      <td>high_income</td>\n",
              "      <td>asia</td>\n",
              "    </tr>\n",
              "    <tr>\n",
              "      <th>4</th>\n",
              "      <td>arg</td>\n",
              "      <td>1996</td>\n",
              "      <td>0.41749</td>\n",
              "      <td>35246376</td>\n",
              "      <td>Argentina</td>\n",
              "      <td>upper_middle_income</td>\n",
              "      <td>americas</td>\n",
              "    </tr>\n",
              "  </tbody>\n",
              "</table>\n",
              "</div>"
            ],
            "text/plain": [
              "   geo  time  rad_exp  ...                  name        income_groups world_4region\n",
              "0  alb  2007  0.08737  ...               Albania  upper_middle_income        europe\n",
              "1  alb  2008  0.15412  ...               Albania  upper_middle_income        europe\n",
              "2  are  2011  0.48920  ...  United Arab Emirates          high_income          asia\n",
              "3  are  2014  0.70000  ...  United Arab Emirates          high_income          asia\n",
              "4  arg  1996  0.41749  ...             Argentina  upper_middle_income      americas\n",
              "\n",
              "[5 rows x 7 columns]"
            ]
          },
          "metadata": {},
          "execution_count": 4
        }
      ]
    },
    {
      "cell_type": "markdown",
      "metadata": {
        "id": "pCN8MkLoM5x2"
      },
      "source": [
        "This analysis focuses on R&D expenditures. The Gapminder WDI data set contains 1.527 observations of this indicator. There are many more observations of total population (13.195) but 'inner' method of concatenation ensures that in the resulting dataframe there are only those observation with both values of R&D expenditure and total population.\n",
        "\n",
        "## Missing Observations\n",
        "There are no missing values in the dataframe but there are missing observations. "
      ]
    },
    {
      "cell_type": "code",
      "metadata": {
        "colab": {
          "base_uri": "https://localhost:8080/"
        },
        "id": "lfRa86sX70TX",
        "outputId": "af8719b3-4338-4ad5-b549-13e7faf0ef38"
      },
      "source": [
        "n_geo_tot = pop_totl.index.get_level_values(0).nunique()\n",
        "n_geo_rd = df.geo.nunique()\n",
        "n_time = df.time.nunique()\n",
        "df_len = df.shape[0]\n",
        "print(f\"There are {df_len} observations for {n_geo_rd} countries (out of {n_geo_tot}) and {n_time} years.\")\n",
        "print(f\"It means that there are missing {1-df_len/(n_geo_rd*n_time):.2%} out of {n_geo_rd} x {n_time} = {n_geo_rd*n_time} possible observations.\")"
      ],
      "execution_count": 5,
      "outputs": [
        {
          "output_type": "stream",
          "name": "stdout",
          "text": [
            "There are 1527 observations for 137 countries (out of 217) and 19 years.\n",
            "It means that there are missing 41.34% out of 137 x 19 = 2603 possible observations.\n"
          ]
        }
      ]
    },
    {
      "cell_type": "markdown",
      "metadata": {
        "id": "EhmApOltRc4O"
      },
      "source": [
        "The R&D expenditure data are incomplete. Some countries are missing entirely. Some of countries in a dataframe don't have observation for all years in the range. This is no problem when looking for countries spending most in R&D if we assume that these countries have well defined statistical data gathering processes.\n",
        "\n"
      ]
    },
    {
      "cell_type": "markdown",
      "metadata": {
        "id": "U70699T7qerT"
      },
      "source": [
        "# Exploratory Data Analysis <a id='eda'></a>\n",
        "\n",
        "## Which countries invest the most in R&D?\n",
        "\n",
        "The histogram of R&D expenditures is strongly skewed to the right, so that mode < median < mean. But we should bear in mind that R&D expenditures are expressed as a percentage of GDP. It is a ratio level variable rather than an interval level variable so the geometric mean would be more relevant. We stick to basic statistics for the sake of simplicity."
      ]
    },
    {
      "cell_type": "code",
      "metadata": {
        "colab": {
          "base_uri": "https://localhost:8080/",
          "height": 294
        },
        "id": "eSTyzVkoOQSf",
        "outputId": "38d0b315-bcc1-423e-f32e-51e0de137e0c"
      },
      "source": [
        "# Plot a histogram\n",
        "df.rad_exp.hist()\n",
        "plt.title('Histogram of R&D expenditure')\n",
        "plt.xlabel('R&D expenditure as a percentage of GDP')\n",
        "plt.ylabel('Frequency')\n",
        "plt.show()"
      ],
      "execution_count": 6,
      "outputs": [
        {
          "output_type": "display_data",
          "data": {
            "image/png": "[encoded data removed]",
            "text/plain": [
              "<Figure size 432x288 with 1 Axes>"
            ]
          },
          "metadata": {
            "needs_background": "light"
          }
        }
      ]
    },
    {
      "cell_type": "markdown",
      "metadata": {
        "id": "yjpdU3O3dDB2"
      },
      "source": [
        "The countries spending the most on R&D expenditures as a percentage of GDP are here determined by a mean of available observations. The next figure shows timelines of observations for top 10 countries."
      ]
    },
    {
      "cell_type": "code",
      "metadata": {
        "colab": {
          "base_uri": "https://localhost:8080/",
          "height": 355
        },
        "id": "i6ZTgHZZclnM",
        "outputId": "17dbd7bf-446e-4fdc-c88d-e3cafad6c881"
      },
      "source": [
        "# Compute average values of indicators for countries around the globe\n",
        "rank = df.groupby(['geo', 'name', 'income_groups', 'world_4region'], as_index=False)[['rad_exp', 'pop_totl']].mean().sort_values(by='rad_exp', ascending=False).reset_index()\n",
        "rank.drop(columns='index', inplace=True)\n",
        "\n",
        "# Identify top 10 countries according to rad_exp indicator\n",
        "rank_10 = rank.head(10)\n",
        "rank_10"
      ],
      "execution_count": 7,
      "outputs": [
        {
          "output_type": "execute_result",
          "data": {
            "text/html": [
              "<div>\n",
              "<style scoped>\n",
              "    .dataframe tbody tr th:only-of-type {\n",
              "        vertical-align: middle;\n",
              "    }\n",
              "\n",
              "    .dataframe tbody tr th {\n",
              "        vertical-align: top;\n",
              "    }\n",
              "\n",
              "    .dataframe thead th {\n",
              "        text-align: right;\n",
              "    }\n",
              "</style>\n",
              "<table border=\"1\" class=\"dataframe\">\n",
              "  <thead>\n",
              "    <tr style=\"text-align: right;\">\n",
              "      <th></th>\n",
              "      <th>geo</th>\n",
              "      <th>name</th>\n",
              "      <th>income_groups</th>\n",
              "      <th>world_4region</th>\n",
              "      <th>rad_exp</th>\n",
              "      <th>pop_totl</th>\n",
              "    </tr>\n",
              "  </thead>\n",
              "  <tbody>\n",
              "    <tr>\n",
              "      <th>0</th>\n",
              "      <td>isr</td>\n",
              "      <td>Israel</td>\n",
              "      <td>high_income</td>\n",
              "      <td>asia</td>\n",
              "      <td>3.840534</td>\n",
              "      <td>6.944953e+06</td>\n",
              "    </tr>\n",
              "    <tr>\n",
              "      <th>1</th>\n",
              "      <td>swe</td>\n",
              "      <td>Sweden</td>\n",
              "      <td>high_income</td>\n",
              "      <td>europe</td>\n",
              "      <td>3.397525</td>\n",
              "      <td>9.198079e+06</td>\n",
              "    </tr>\n",
              "    <tr>\n",
              "      <th>2</th>\n",
              "      <td>fin</td>\n",
              "      <td>Finland</td>\n",
              "      <td>high_income</td>\n",
              "      <td>europe</td>\n",
              "      <td>3.252687</td>\n",
              "      <td>5.268885e+06</td>\n",
              "    </tr>\n",
              "    <tr>\n",
              "      <th>3</th>\n",
              "      <td>jpn</td>\n",
              "      <td>Japan</td>\n",
              "      <td>high_income</td>\n",
              "      <td>asia</td>\n",
              "      <td>3.212692</td>\n",
              "      <td>1.273554e+08</td>\n",
              "    </tr>\n",
              "    <tr>\n",
              "      <th>4</th>\n",
              "      <td>kor</td>\n",
              "      <td>South Korea</td>\n",
              "      <td>high_income</td>\n",
              "      <td>asia</td>\n",
              "      <td>2.892914</td>\n",
              "      <td>4.825866e+07</td>\n",
              "    </tr>\n",
              "    <tr>\n",
              "      <th>5</th>\n",
              "      <td>che</td>\n",
              "      <td>Switzerland</td>\n",
              "      <td>high_income</td>\n",
              "      <td>europe</td>\n",
              "      <td>2.630206</td>\n",
              "      <td>7.458052e+06</td>\n",
              "    </tr>\n",
              "    <tr>\n",
              "      <th>6</th>\n",
              "      <td>usa</td>\n",
              "      <td>United States</td>\n",
              "      <td>high_income</td>\n",
              "      <td>americas</td>\n",
              "      <td>2.610975</td>\n",
              "      <td>2.939698e+08</td>\n",
              "    </tr>\n",
              "    <tr>\n",
              "      <th>7</th>\n",
              "      <td>dnk</td>\n",
              "      <td>Denmark</td>\n",
              "      <td>high_income</td>\n",
              "      <td>europe</td>\n",
              "      <td>2.543607</td>\n",
              "      <td>5.444833e+06</td>\n",
              "    </tr>\n",
              "    <tr>\n",
              "      <th>8</th>\n",
              "      <td>deu</td>\n",
              "      <td>Germany</td>\n",
              "      <td>high_income</td>\n",
              "      <td>europe</td>\n",
              "      <td>2.508241</td>\n",
              "      <td>8.186463e+07</td>\n",
              "    </tr>\n",
              "    <tr>\n",
              "      <th>9</th>\n",
              "      <td>isl</td>\n",
              "      <td>Iceland</td>\n",
              "      <td>high_income</td>\n",
              "      <td>europe</td>\n",
              "      <td>2.449164</td>\n",
              "      <td>2.989288e+05</td>\n",
              "    </tr>\n",
              "  </tbody>\n",
              "</table>\n",
              "</div>"
            ],
            "text/plain": [
              "   geo           name income_groups world_4region   rad_exp      pop_totl\n",
              "0  isr         Israel   high_income          asia  3.840534  6.944953e+06\n",
              "1  swe         Sweden   high_income        europe  3.397525  9.198079e+06\n",
              "2  fin        Finland   high_income        europe  3.252687  5.268885e+06\n",
              "3  jpn          Japan   high_income          asia  3.212692  1.273554e+08\n",
              "4  kor    South Korea   high_income          asia  2.892914  4.825866e+07\n",
              "5  che    Switzerland   high_income        europe  2.630206  7.458052e+06\n",
              "6  usa  United States   high_income      americas  2.610975  2.939698e+08\n",
              "7  dnk        Denmark   high_income        europe  2.543607  5.444833e+06\n",
              "8  deu        Germany   high_income        europe  2.508241  8.186463e+07\n",
              "9  isl        Iceland   high_income        europe  2.449164  2.989288e+05"
            ]
          },
          "metadata": {},
          "execution_count": 7
        }
      ]
    },
    {
      "cell_type": "code",
      "metadata": {
        "colab": {
          "base_uri": "https://localhost:8080/",
          "height": 350
        },
        "id": "dUIqf2O0dNu-",
        "outputId": "f69dc6f5-c1d6-4ad8-9cf2-43d1481d6086"
      },
      "source": [
        "fig, ax = plt.subplots(figsize=(10,5))\n",
        "for name in rank_10.name:\n",
        "  ax.plot(df.loc[df['name'] == name, ['time', 'rad_exp']].set_index('time'), label=name)\n",
        "ax.set_xticks(range(df.time.min(), df.time.max()+1))\n",
        "ax.set_xlabel('Year')\n",
        "ax.set_ylabel('R&D Expenditure (% of GDP)')\n",
        "ax.set_title('Countries spending the most on R&D')\n",
        "ax.legend()\n",
        "plt.show()"
      ],
      "execution_count": 8,
      "outputs": [
        {
          "output_type": "display_data",
          "data": {
            "image/png": "[encoded data removed]",
            "text/plain": [
              "<Figure size 720x360 with 1 Axes>"
            ]
          },
          "metadata": {
            "needs_background": "light"
          }
        }
      ]
    },
    {
      "cell_type": "markdown",
      "metadata": {
        "id": "xRVxe5O3h2jd"
      },
      "source": [
        "Comparing our results with more recent data from [this data story](https://www.weforum.org/agenda/2020/11/countries-spending-research-development-gdp/), we can see that 9 out of 10 countries are still on the top. South Korea is challenging Israel on the pinnacle of this rank. Finland stepped down and is replaced by Belgium. More data would be necessary to get insights into these changes but we can guess that small economies as Finland's is highly dependent on R&D expenditures of big companies, such was well known Nokia. Nokia used to bring new products to communication market but failed to address a smartphone challenge. Anyway, countries from the top of the rank help shine a light on how funding research can bolster economic competitiveness.\n",
        "\n",
        "There are differences in average R&D spending between regions:\n"
      ]
    },
    {
      "cell_type": "code",
      "metadata": {
        "colab": {
          "base_uri": "https://localhost:8080/",
          "height": 332
        },
        "id": "Aqk4_rbefF_z",
        "outputId": "51e87953-fcd4-4729-dd2a-e7a6209ad1b8"
      },
      "source": [
        "# Differences between regions\n",
        "df.groupby('world_4region')['rad_exp'].mean().sort_values().plot(kind='bar', title='Average R&D Expenditure by Region')\n",
        "plt.ylabel('R&D expenditure as % of GDP')\n",
        "plt.show()"
      ],
      "execution_count": 9,
      "outputs": [
        {
          "output_type": "display_data",
          "data": {
            "image/png": "[encoded data removed]",
            "text/plain": [
              "<Figure size 432x288 with 1 Axes>"
            ]
          },
          "metadata": {
            "needs_background": "light"
          }
        }
      ]
    },
    {
      "cell_type": "markdown",
      "metadata": {
        "id": "ZHCv4kWrHujf"
      },
      "source": [
        "The next table shows top 3 countries from each region. Most of the innovative countries are from Asia and Europe. They belong to high income countries. The table lists also Canada and Brazil form Americas and also three most innovative counties in Africa: South Africa, Tunisia, and Morocco. These have R&D expenditures below 1% of GDP."
      ]
    },
    {
      "cell_type": "code",
      "metadata": {
        "colab": {
          "base_uri": "https://localhost:8080/",
          "height": 416
        },
        "id": "i0hAvhZoOjdt",
        "outputId": "bb7a5870-20af-4222-95f3-bef4d910f3ca"
      },
      "source": [
        "def get_subrank(rank, entity_set, top=3):\n",
        "  \"\"\"Takes `top` records for each category in `entity_set` in the dataframe `rank`.\n",
        "  \n",
        "  Args:\n",
        "    rank : An ordered dataframe.\n",
        "    entity_set : A set of entities in the dataframe `rank`.\n",
        "    top : How many entities in each category to take.\n",
        "    \n",
        "  Returns:\n",
        "    A new dataframe with selected records.\"\"\"\n",
        "\n",
        "  out = [rank.groupby(entity_set).get_group(entity).iloc[:top] for entity in rank[entity_set].unique()]\n",
        "  return pd.concat(out)\n",
        "\n",
        "get_subrank(rank, 'world_4region')"
      ],
      "execution_count": 10,
      "outputs": [
        {
          "output_type": "execute_result",
          "data": {
            "text/html": [
              "<div>\n",
              "<style scoped>\n",
              "    .dataframe tbody tr th:only-of-type {\n",
              "        vertical-align: middle;\n",
              "    }\n",
              "\n",
              "    .dataframe tbody tr th {\n",
              "        vertical-align: top;\n",
              "    }\n",
              "\n",
              "    .dataframe thead th {\n",
              "        text-align: right;\n",
              "    }\n",
              "</style>\n",
              "<table border=\"1\" class=\"dataframe\">\n",
              "  <thead>\n",
              "    <tr style=\"text-align: right;\">\n",
              "      <th></th>\n",
              "      <th>geo</th>\n",
              "      <th>name</th>\n",
              "      <th>income_groups</th>\n",
              "      <th>world_4region</th>\n",
              "      <th>rad_exp</th>\n",
              "      <th>pop_totl</th>\n",
              "    </tr>\n",
              "  </thead>\n",
              "  <tbody>\n",
              "    <tr>\n",
              "      <th>0</th>\n",
              "      <td>isr</td>\n",
              "      <td>Israel</td>\n",
              "      <td>high_income</td>\n",
              "      <td>asia</td>\n",
              "      <td>3.840534</td>\n",
              "      <td>6.944953e+06</td>\n",
              "    </tr>\n",
              "    <tr>\n",
              "      <th>3</th>\n",
              "      <td>jpn</td>\n",
              "      <td>Japan</td>\n",
              "      <td>high_income</td>\n",
              "      <td>asia</td>\n",
              "      <td>3.212692</td>\n",
              "      <td>1.273554e+08</td>\n",
              "    </tr>\n",
              "    <tr>\n",
              "      <th>4</th>\n",
              "      <td>kor</td>\n",
              "      <td>South Korea</td>\n",
              "      <td>high_income</td>\n",
              "      <td>asia</td>\n",
              "      <td>2.892914</td>\n",
              "      <td>4.825866e+07</td>\n",
              "    </tr>\n",
              "    <tr>\n",
              "      <th>1</th>\n",
              "      <td>swe</td>\n",
              "      <td>Sweden</td>\n",
              "      <td>high_income</td>\n",
              "      <td>europe</td>\n",
              "      <td>3.397525</td>\n",
              "      <td>9.198079e+06</td>\n",
              "    </tr>\n",
              "    <tr>\n",
              "      <th>2</th>\n",
              "      <td>fin</td>\n",
              "      <td>Finland</td>\n",
              "      <td>high_income</td>\n",
              "      <td>europe</td>\n",
              "      <td>3.252687</td>\n",
              "      <td>5.268885e+06</td>\n",
              "    </tr>\n",
              "    <tr>\n",
              "      <th>5</th>\n",
              "      <td>che</td>\n",
              "      <td>Switzerland</td>\n",
              "      <td>high_income</td>\n",
              "      <td>europe</td>\n",
              "      <td>2.630206</td>\n",
              "      <td>7.458052e+06</td>\n",
              "    </tr>\n",
              "    <tr>\n",
              "      <th>6</th>\n",
              "      <td>usa</td>\n",
              "      <td>United States</td>\n",
              "      <td>high_income</td>\n",
              "      <td>americas</td>\n",
              "      <td>2.610975</td>\n",
              "      <td>2.939698e+08</td>\n",
              "    </tr>\n",
              "    <tr>\n",
              "      <th>15</th>\n",
              "      <td>can</td>\n",
              "      <td>Canada</td>\n",
              "      <td>high_income</td>\n",
              "      <td>americas</td>\n",
              "      <td>1.841723</td>\n",
              "      <td>3.236225e+07</td>\n",
              "    </tr>\n",
              "    <tr>\n",
              "      <th>29</th>\n",
              "      <td>bra</td>\n",
              "      <td>Brazil</td>\n",
              "      <td>upper_middle_income</td>\n",
              "      <td>americas</td>\n",
              "      <td>1.069763</td>\n",
              "      <td>1.886595e+08</td>\n",
              "    </tr>\n",
              "    <tr>\n",
              "      <th>35</th>\n",
              "      <td>zaf</td>\n",
              "      <td>South Africa</td>\n",
              "      <td>upper_middle_income</td>\n",
              "      <td>africa</td>\n",
              "      <td>0.787004</td>\n",
              "      <td>4.869744e+07</td>\n",
              "    </tr>\n",
              "    <tr>\n",
              "      <th>41</th>\n",
              "      <td>tun</td>\n",
              "      <td>Tunisia</td>\n",
              "      <td>lower_middle_income</td>\n",
              "      <td>africa</td>\n",
              "      <td>0.669672</td>\n",
              "      <td>1.043322e+07</td>\n",
              "    </tr>\n",
              "    <tr>\n",
              "      <th>51</th>\n",
              "      <td>mar</td>\n",
              "      <td>Morocco</td>\n",
              "      <td>lower_middle_income</td>\n",
              "      <td>africa</td>\n",
              "      <td>0.579865</td>\n",
              "      <td>2.993708e+07</td>\n",
              "    </tr>\n",
              "  </tbody>\n",
              "</table>\n",
              "</div>"
            ],
            "text/plain": [
              "    geo           name  ...   rad_exp      pop_totl\n",
              "0   isr         Israel  ...  3.840534  6.944953e+06\n",
              "3   jpn          Japan  ...  3.212692  1.273554e+08\n",
              "4   kor    South Korea  ...  2.892914  4.825866e+07\n",
              "1   swe         Sweden  ...  3.397525  9.198079e+06\n",
              "2   fin        Finland  ...  3.252687  5.268885e+06\n",
              "5   che    Switzerland  ...  2.630206  7.458052e+06\n",
              "6   usa  United States  ...  2.610975  2.939698e+08\n",
              "15  can         Canada  ...  1.841723  3.236225e+07\n",
              "29  bra         Brazil  ...  1.069763  1.886595e+08\n",
              "35  zaf   South Africa  ...  0.787004  4.869744e+07\n",
              "41  tun        Tunisia  ...  0.669672  1.043322e+07\n",
              "51  mar        Morocco  ...  0.579865  2.993708e+07\n",
              "\n",
              "[12 rows x 6 columns]"
            ]
          },
          "metadata": {},
          "execution_count": 10
        }
      ]
    },
    {
      "cell_type": "markdown",
      "metadata": {
        "id": "1KgtxZnlJIUK"
      },
      "source": [
        "Differencies in R&D expenditure between countries from different income groups are even bigger. There is a relation between country's income and R&D expenditure but additional research is needed to get deeper insight. The framework for such a research can be found in global competitiveness reports investigating which factors provide high levels of countries' prosperity, R&D being surely one of them."
      ]
    },
    {
      "cell_type": "code",
      "metadata": {
        "colab": {
          "base_uri": "https://localhost:8080/",
          "height": 395
        },
        "id": "gGsxshx9ui1t",
        "outputId": "8e958f1d-7ab0-4543-b039-f21a0b128ef7"
      },
      "source": [
        "# Differences between income groups\n",
        "df.groupby('income_groups')['rad_exp'].mean().sort_values().plot(kind='bar', title='Average R&D Expenditure by Region')\n",
        "plt.ylabel('R&D expenditure as % of GDP')\n",
        "plt.show()"
      ],
      "execution_count": 11,
      "outputs": [
        {
          "output_type": "display_data",
          "data": {
            "image/png": "[encoded data removed]",
            "text/plain": [
              "<Figure size 432x288 with 1 Axes>"
            ]
          },
          "metadata": {
            "needs_background": "light"
          }
        }
      ]
    },
    {
      "cell_type": "markdown",
      "metadata": {
        "id": "cygm7ANHJ_la"
      },
      "source": [
        "Taking into account income groups, China from Asia and Russia from Europe with R&D expenditures above 1% of GDP joins the club. In a lower middle income group and a low income group there are Ukraine from Europe, India from Asia and four countries from Africa: Tunisia, Mali, Tanzania, and Mozambique."
      ]
    },
    {
      "cell_type": "code",
      "metadata": {
        "colab": {
          "base_uri": "https://localhost:8080/",
          "height": 416
        },
        "id": "mu1lwlvAOjXt",
        "outputId": "c2c2fab7-2cf5-437c-a749-79d16581508e"
      },
      "source": [
        "get_subrank(rank, 'income_groups')"
      ],
      "execution_count": 12,
      "outputs": [
        {
          "output_type": "execute_result",
          "data": {
            "text/html": [
              "<div>\n",
              "<style scoped>\n",
              "    .dataframe tbody tr th:only-of-type {\n",
              "        vertical-align: middle;\n",
              "    }\n",
              "\n",
              "    .dataframe tbody tr th {\n",
              "        vertical-align: top;\n",
              "    }\n",
              "\n",
              "    .dataframe thead th {\n",
              "        text-align: right;\n",
              "    }\n",
              "</style>\n",
              "<table border=\"1\" class=\"dataframe\">\n",
              "  <thead>\n",
              "    <tr style=\"text-align: right;\">\n",
              "      <th></th>\n",
              "      <th>geo</th>\n",
              "      <th>name</th>\n",
              "      <th>income_groups</th>\n",
              "      <th>world_4region</th>\n",
              "      <th>rad_exp</th>\n",
              "      <th>pop_totl</th>\n",
              "    </tr>\n",
              "  </thead>\n",
              "  <tbody>\n",
              "    <tr>\n",
              "      <th>0</th>\n",
              "      <td>isr</td>\n",
              "      <td>Israel</td>\n",
              "      <td>high_income</td>\n",
              "      <td>asia</td>\n",
              "      <td>3.840534</td>\n",
              "      <td>6.944953e+06</td>\n",
              "    </tr>\n",
              "    <tr>\n",
              "      <th>1</th>\n",
              "      <td>swe</td>\n",
              "      <td>Sweden</td>\n",
              "      <td>high_income</td>\n",
              "      <td>europe</td>\n",
              "      <td>3.397525</td>\n",
              "      <td>9.198079e+06</td>\n",
              "    </tr>\n",
              "    <tr>\n",
              "      <th>2</th>\n",
              "      <td>fin</td>\n",
              "      <td>Finland</td>\n",
              "      <td>high_income</td>\n",
              "      <td>europe</td>\n",
              "      <td>3.252687</td>\n",
              "      <td>5.268885e+06</td>\n",
              "    </tr>\n",
              "    <tr>\n",
              "      <th>22</th>\n",
              "      <td>chn</td>\n",
              "      <td>China</td>\n",
              "      <td>upper_middle_income</td>\n",
              "      <td>asia</td>\n",
              "      <td>1.294454</td>\n",
              "      <td>1.299178e+09</td>\n",
              "    </tr>\n",
              "    <tr>\n",
              "      <th>27</th>\n",
              "      <td>rus</td>\n",
              "      <td>Russia</td>\n",
              "      <td>upper_middle_income</td>\n",
              "      <td>europe</td>\n",
              "      <td>1.110064</td>\n",
              "      <td>1.446735e+08</td>\n",
              "    </tr>\n",
              "    <tr>\n",
              "      <th>29</th>\n",
              "      <td>bra</td>\n",
              "      <td>Brazil</td>\n",
              "      <td>upper_middle_income</td>\n",
              "      <td>americas</td>\n",
              "      <td>1.069763</td>\n",
              "      <td>1.886595e+08</td>\n",
              "    </tr>\n",
              "    <tr>\n",
              "      <th>32</th>\n",
              "      <td>ukr</td>\n",
              "      <td>Ukraine</td>\n",
              "      <td>lower_middle_income</td>\n",
              "      <td>europe</td>\n",
              "      <td>0.934659</td>\n",
              "      <td>4.735360e+07</td>\n",
              "    </tr>\n",
              "    <tr>\n",
              "      <th>38</th>\n",
              "      <td>ind</td>\n",
              "      <td>India</td>\n",
              "      <td>lower_middle_income</td>\n",
              "      <td>asia</td>\n",
              "      <td>0.750941</td>\n",
              "      <td>1.119132e+09</td>\n",
              "    </tr>\n",
              "    <tr>\n",
              "      <th>41</th>\n",
              "      <td>tun</td>\n",
              "      <td>Tunisia</td>\n",
              "      <td>lower_middle_income</td>\n",
              "      <td>africa</td>\n",
              "      <td>0.669672</td>\n",
              "      <td>1.043322e+07</td>\n",
              "    </tr>\n",
              "    <tr>\n",
              "      <th>61</th>\n",
              "      <td>mli</td>\n",
              "      <td>Mali</td>\n",
              "      <td>low_income</td>\n",
              "      <td>africa</td>\n",
              "      <td>0.460935</td>\n",
              "      <td>1.435040e+07</td>\n",
              "    </tr>\n",
              "    <tr>\n",
              "      <th>66</th>\n",
              "      <td>tza</td>\n",
              "      <td>Tanzania</td>\n",
              "      <td>low_income</td>\n",
              "      <td>africa</td>\n",
              "      <td>0.416477</td>\n",
              "      <td>4.450369e+07</td>\n",
              "    </tr>\n",
              "    <tr>\n",
              "      <th>73</th>\n",
              "      <td>moz</td>\n",
              "      <td>Mozambique</td>\n",
              "      <td>low_income</td>\n",
              "      <td>africa</td>\n",
              "      <td>0.362873</td>\n",
              "      <td>2.141310e+07</td>\n",
              "    </tr>\n",
              "  </tbody>\n",
              "</table>\n",
              "</div>"
            ],
            "text/plain": [
              "    geo        name        income_groups world_4region   rad_exp      pop_totl\n",
              "0   isr      Israel          high_income          asia  3.840534  6.944953e+06\n",
              "1   swe      Sweden          high_income        europe  3.397525  9.198079e+06\n",
              "2   fin     Finland          high_income        europe  3.252687  5.268885e+06\n",
              "22  chn       China  upper_middle_income          asia  1.294454  1.299178e+09\n",
              "27  rus      Russia  upper_middle_income        europe  1.110064  1.446735e+08\n",
              "29  bra      Brazil  upper_middle_income      americas  1.069763  1.886595e+08\n",
              "32  ukr     Ukraine  lower_middle_income        europe  0.934659  4.735360e+07\n",
              "38  ind       India  lower_middle_income          asia  0.750941  1.119132e+09\n",
              "41  tun     Tunisia  lower_middle_income        africa  0.669672  1.043322e+07\n",
              "61  mli        Mali           low_income        africa  0.460935  1.435040e+07\n",
              "66  tza    Tanzania           low_income        africa  0.416477  4.450369e+07\n",
              "73  moz  Mozambique           low_income        africa  0.362873  2.141310e+07"
            ]
          },
          "metadata": {},
          "execution_count": 12
        }
      ]
    },
    {
      "cell_type": "markdown",
      "metadata": {
        "id": "gX5DOPsNLjk1"
      },
      "source": [
        "## R&D expenditures and country's population\n",
        "\n",
        "We will investigate the relationship between R&D expenditures (as % of GDP) and country's population using average values across years 1996 to 2014 which we have already seen in the `rank` dataframe.\n",
        "\n",
        "Population data are highly skewed to the right, see the following histogram."
      ]
    },
    {
      "cell_type": "code",
      "metadata": {
        "id": "0dHiAcz8gO7M",
        "colab": {
          "base_uri": "https://localhost:8080/",
          "height": 294
        },
        "outputId": "520412c9-50e3-49c6-debf-81230265a73d"
      },
      "source": [
        "rank.pop_totl.hist()\n",
        "plt.title('Histogram of Total Population')\n",
        "plt.xlabel('Total Population')\n",
        "plt.ylabel('Frequency')\n",
        "plt.show()"
      ],
      "execution_count": 13,
      "outputs": [
        {
          "output_type": "display_data",
          "data": {
            "image/png": "[encoded data removed]",
            "text/plain": [
              "<Figure size 432x288 with 1 Axes>"
            ]
          },
          "metadata": {
            "needs_background": "light"
          }
        }
      ]
    },
    {
      "cell_type": "markdown",
      "metadata": {
        "id": "twl3CGN6WYFm"
      },
      "source": [
        "The scatter plot of R&D expenditure versus total population shows clearly that there is no relationship between these two variables. There are few outlier on the right. As these outliers are included in the analysis, most data points are in the lower range and all are clusterd at one region of the chart."
      ]
    },
    {
      "cell_type": "code",
      "metadata": {
        "colab": {
          "base_uri": "https://localhost:8080/",
          "height": 295
        },
        "id": "P1uIFh-DNQZr",
        "outputId": "683363bd-de2b-4b34-cf95-40cc307c74fc"
      },
      "source": [
        "rank.plot(x='pop_totl', y='rad_exp', kind='scatter', title='R&D Expenditures Versus Total Population of Countries');"
      ],
      "execution_count": 14,
      "outputs": [
        {
          "output_type": "display_data",
          "data": {
            "image/png": "[encoded data removed]",
            "text/plain": [
              "<Figure size 432x288 with 1 Axes>"
            ]
          },
          "metadata": {
            "needs_background": "light"
          }
        }
      ]
    },
    {
      "cell_type": "markdown",
      "metadata": {
        "id": "leQjhUbt5vl-"
      },
      "source": [
        "If those outliers are removed, we could see the data points spread across the chart, as the following figure shows."
      ]
    },
    {
      "cell_type": "code",
      "metadata": {
        "colab": {
          "base_uri": "https://localhost:8080/",
          "height": 295
        },
        "id": "fvhJrpDK2RxI",
        "outputId": "9d160f5a-6a0d-43bd-9b21-def8cdd9273a"
      },
      "source": [
        "# Filter out countries with population greater than 0.6e9\n",
        "rank.query('pop_totl < 0.6e9').plot(x='pop_totl', y='rad_exp', kind='scatter', title='R&D Expenditures Versus Total Population of Countries');"
      ],
      "execution_count": 15,
      "outputs": [
        {
          "output_type": "display_data",
          "data": {
            "image/png": "[encoded data removed]",
            "text/plain": [
              "<Figure size 432x288 with 1 Axes>"
            ]
          },
          "metadata": {
            "needs_background": "light"
          }
        }
      ]
    },
    {
      "cell_type": "markdown",
      "metadata": {
        "id": "ArLuR3yTZTu1"
      },
      "source": [
        "Even better overview of R&D expenditure versus population relationship gives transformation of population data using a logarithmic function with base 10."
      ]
    },
    {
      "cell_type": "code",
      "metadata": {
        "colab": {
          "base_uri": "https://localhost:8080/",
          "height": 295
        },
        "id": "B4qsleS2NaKr",
        "outputId": "7ee49def-b811-4c8d-f28c-6ab703bcf616"
      },
      "source": [
        "# Transform population data with the log function\n",
        "rank['log_pop'] = rank.pop_totl.apply(np.log10)\n",
        "rank.plot(x='log_pop', y='rad_exp', kind='scatter', title='R&D Expenditures Versus Total Population of Countries (log scale)')\n",
        "plt.hlines(y=2.4, xmin=4, xmax=10, colors='gray', linestyles='dotted')\n",
        "plt.show()"
      ],
      "execution_count": 16,
      "outputs": [
        {
          "output_type": "display_data",
          "data": {
            "image/png": "[encoded data removed]",
            "text/plain": [
              "<Figure size 432x288 with 1 Axes>"
            ]
          },
          "metadata": {
            "needs_background": "light"
          }
        }
      ]
    },
    {
      "cell_type": "markdown",
      "metadata": {
        "id": "Ce4aTKgOa6Km"
      },
      "source": [
        "Top 10 counties in R&D expenditure rank are spending more than 2.4 % of GDP on R&D. Relatively small countries as Israel or Sweden are out-spending much larger economies, such as Japan or United States. We can see more details in the following table."
      ]
    },
    {
      "cell_type": "code",
      "metadata": {
        "colab": {
          "base_uri": "https://localhost:8080/",
          "height": 355
        },
        "id": "m-2xJBr9ZBf8",
        "outputId": "ec730bc7-10a3-4a22-8872-8f235e99d25e"
      },
      "source": [
        "# Top ten countries sorted by population\n",
        "rank.query('rad_exp > 2.4').sort_values(by='pop_totl')"
      ],
      "execution_count": 17,
      "outputs": [
        {
          "output_type": "execute_result",
          "data": {
            "text/html": [
              "<div>\n",
              "<style scoped>\n",
              "    .dataframe tbody tr th:only-of-type {\n",
              "        vertical-align: middle;\n",
              "    }\n",
              "\n",
              "    .dataframe tbody tr th {\n",
              "        vertical-align: top;\n",
              "    }\n",
              "\n",
              "    .dataframe thead th {\n",
              "        text-align: right;\n",
              "    }\n",
              "</style>\n",
              "<table border=\"1\" class=\"dataframe\">\n",
              "  <thead>\n",
              "    <tr style=\"text-align: right;\">\n",
              "      <th></th>\n",
              "      <th>geo</th>\n",
              "      <th>name</th>\n",
              "      <th>income_groups</th>\n",
              "      <th>world_4region</th>\n",
              "      <th>rad_exp</th>\n",
              "      <th>pop_totl</th>\n",
              "      <th>log_pop</th>\n",
              "    </tr>\n",
              "  </thead>\n",
              "  <tbody>\n",
              "    <tr>\n",
              "      <th>9</th>\n",
              "      <td>isl</td>\n",
              "      <td>Iceland</td>\n",
              "      <td>high_income</td>\n",
              "      <td>europe</td>\n",
              "      <td>2.449164</td>\n",
              "      <td>2.989288e+05</td>\n",
              "      <td>5.475568</td>\n",
              "    </tr>\n",
              "    <tr>\n",
              "      <th>2</th>\n",
              "      <td>fin</td>\n",
              "      <td>Finland</td>\n",
              "      <td>high_income</td>\n",
              "      <td>europe</td>\n",
              "      <td>3.252687</td>\n",
              "      <td>5.268885e+06</td>\n",
              "      <td>6.721719</td>\n",
              "    </tr>\n",
              "    <tr>\n",
              "      <th>7</th>\n",
              "      <td>dnk</td>\n",
              "      <td>Denmark</td>\n",
              "      <td>high_income</td>\n",
              "      <td>europe</td>\n",
              "      <td>2.543607</td>\n",
              "      <td>5.444833e+06</td>\n",
              "      <td>6.735985</td>\n",
              "    </tr>\n",
              "    <tr>\n",
              "      <th>0</th>\n",
              "      <td>isr</td>\n",
              "      <td>Israel</td>\n",
              "      <td>high_income</td>\n",
              "      <td>asia</td>\n",
              "      <td>3.840534</td>\n",
              "      <td>6.944953e+06</td>\n",
              "      <td>6.841669</td>\n",
              "    </tr>\n",
              "    <tr>\n",
              "      <th>5</th>\n",
              "      <td>che</td>\n",
              "      <td>Switzerland</td>\n",
              "      <td>high_income</td>\n",
              "      <td>europe</td>\n",
              "      <td>2.630206</td>\n",
              "      <td>7.458052e+06</td>\n",
              "      <td>6.872625</td>\n",
              "    </tr>\n",
              "    <tr>\n",
              "      <th>1</th>\n",
              "      <td>swe</td>\n",
              "      <td>Sweden</td>\n",
              "      <td>high_income</td>\n",
              "      <td>europe</td>\n",
              "      <td>3.397525</td>\n",
              "      <td>9.198079e+06</td>\n",
              "      <td>6.963697</td>\n",
              "    </tr>\n",
              "    <tr>\n",
              "      <th>4</th>\n",
              "      <td>kor</td>\n",
              "      <td>South Korea</td>\n",
              "      <td>high_income</td>\n",
              "      <td>asia</td>\n",
              "      <td>2.892914</td>\n",
              "      <td>4.825866e+07</td>\n",
              "      <td>7.683575</td>\n",
              "    </tr>\n",
              "    <tr>\n",
              "      <th>8</th>\n",
              "      <td>deu</td>\n",
              "      <td>Germany</td>\n",
              "      <td>high_income</td>\n",
              "      <td>europe</td>\n",
              "      <td>2.508241</td>\n",
              "      <td>8.186463e+07</td>\n",
              "      <td>7.913096</td>\n",
              "    </tr>\n",
              "    <tr>\n",
              "      <th>3</th>\n",
              "      <td>jpn</td>\n",
              "      <td>Japan</td>\n",
              "      <td>high_income</td>\n",
              "      <td>asia</td>\n",
              "      <td>3.212692</td>\n",
              "      <td>1.273554e+08</td>\n",
              "      <td>8.105017</td>\n",
              "    </tr>\n",
              "    <tr>\n",
              "      <th>6</th>\n",
              "      <td>usa</td>\n",
              "      <td>United States</td>\n",
              "      <td>high_income</td>\n",
              "      <td>americas</td>\n",
              "      <td>2.610975</td>\n",
              "      <td>2.939698e+08</td>\n",
              "      <td>8.468303</td>\n",
              "    </tr>\n",
              "  </tbody>\n",
              "</table>\n",
              "</div>"
            ],
            "text/plain": [
              "   geo           name income_groups  ...   rad_exp      pop_totl   log_pop\n",
              "9  isl        Iceland   high_income  ...  2.449164  2.989288e+05  5.475568\n",
              "2  fin        Finland   high_income  ...  3.252687  5.268885e+06  6.721719\n",
              "7  dnk        Denmark   high_income  ...  2.543607  5.444833e+06  6.735985\n",
              "0  isr         Israel   high_income  ...  3.840534  6.944953e+06  6.841669\n",
              "5  che    Switzerland   high_income  ...  2.630206  7.458052e+06  6.872625\n",
              "1  swe         Sweden   high_income  ...  3.397525  9.198079e+06  6.963697\n",
              "4  kor    South Korea   high_income  ...  2.892914  4.825866e+07  7.683575\n",
              "8  deu        Germany   high_income  ...  2.508241  8.186463e+07  7.913096\n",
              "3  jpn          Japan   high_income  ...  3.212692  1.273554e+08  8.105017\n",
              "6  usa  United States   high_income  ...  2.610975  2.939698e+08  8.468303\n",
              "\n",
              "[10 rows x 7 columns]"
            ]
          },
          "metadata": {},
          "execution_count": 17
        }
      ]
    },
    {
      "cell_type": "markdown",
      "metadata": {
        "id": "QNrL3BwbcmsO"
      },
      "source": [
        "# Conclusions <a id='conclusions'></a>\n",
        "\n",
        "Gapminder's World Development Indicators repository offers a lot of information about how people lives in different countries, tracked across the years. Data stored in DDF format make it easy to load and combine required datapoints (indicators with their dimensions).\n",
        "\n",
        "This analysis focuses on research and development expenditure as a percentage of GDP (Gross Domestic Product). The top 10 countries spending the most on R&D in average from 1995 to 2014 are **Israel, Sweden, Finland, Japan, South Korea, Switzerland, United States, Denmark, Germany, and Iceland**. Comparison with the same rank with 2017 and 2018 data is made. Besides the absolute ranking, we explore also top 3 countries within two subsets - according to location and according to income group. Finally, the relation of R&D expenditure versus population of a country is explored with a conclusion that there is no relationship as **some smaller countries are out-spending much larger economies**.\n",
        "\n"
      ]
    },
    {
      "cell_type": "markdown",
      "metadata": {
        "id": "62AsvKUgcneG"
      },
      "source": [
        "# Limitations <a id='limitation'></a>\n",
        "\n",
        "**Observations**. There are number of missing observations of R&D expenditures for many countries. This limits the range of questions to be asked and conclusions to be drawn. For example, it is not possible to ask the question which countries spend the least on R&D, as these countries are probably in a low income group with no established data gathering statistical process.\n",
        "\n",
        "**Time span**. Data available in WDI repository cover year 1995 to 2014. There are more recent data somewhere, as linked data story shows. This data story is used to comment on dataset findings."
      ]
    }
  ]
}