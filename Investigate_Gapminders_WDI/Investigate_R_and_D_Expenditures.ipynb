{
  "nbformat": 4,
  "nbformat_minor": 0,
  "metadata": {
    "kernelspec": {
      "display_name": "Python [default]",
      "language": "python",
      "name": "python3"
    },
    "language_info": {
      "codemirror_mode": {
        "name": "ipython",
        "version": 3
      },
      "file_extension": ".py",
      "mimetype": "text/x-python",
      "name": "python",
      "nbconvert_exporter": "python",
      "pygments_lexer": "ipython3",
      "version": "3.5.3"
    },
    "colab": {
      "name": "report_template.ipynb",
      "provenance": [],
      "include_colab_link": true
    }
  },
  "cells": [
    {
      "cell_type": "markdown",
      "metadata": {
        "id": "view-in-github",
        "colab_type": "text"
      },
      "source": [
        "<a href=\"https://colab.research.google.com/github/lustraka/Data_Analysis_Workouts/blob/main/Investigate_Gapminders_WDI/Investigate_R_and_D_Expenditures.ipynb\" target=\"_parent\"><img src=\"https://colab.research.google.com/assets/colab-badge.svg\" alt=\"Open In Colab\"/></a>"
      ]
    },
    {
      "cell_type": "markdown",
      "metadata": {
        "id": "d5h8EDDh7adS"
      },
      "source": [
        "# Project: Investigate Gapminder's World Development Indicators\n",
        "\n",
        "## Table of Contents\n",
        "<ul>\n",
        "<li><a href=\"#intro\">Introduction</a></li>\n",
        "<li><a href=\"#questions\">Questions</a></li>\n",
        "<li><a href=\"#wrangling\">Data Wrangling</a></li>\n",
        "<li><a href=\"#eda\">Exploratory Data Analysis</a></li>\n",
        "<li><a href=\"#conclusions\">Conclusions</a></li>\n",
        "<li><a href=\"#limitation\">Limitation</a></li>\n",
        "</ul>"
      ]
    },
    {
      "cell_type": "markdown",
      "metadata": {
        "id": "H41gOoA97adU"
      },
      "source": [
        "# Introduction <a id='intro'></a>\n",
        "\n",
        "> **Tip**: In this section of the report, provide a brief introduction to the dataset you've selected for analysis. At the end of this section, describe the questions that you plan on exploring over the course of the report. Try to build your report around the analysis of at least one dependent variable and three independent variables.\n",
        ">\n",
        "> If you haven't yet selected and downloaded your data, make sure you do that first before coming back here. If you're not sure what questions to ask right now, then make sure you familiarize yourself with the variables and the dataset context for ideas of what to explore.\n",
        "\n",
        "**[Gapminder](https://www.gapminder.org/)** has collected a lot of information about how people live their lives in different countries, tracked across the years, and on a number of different indicators. The complete datasets with hundreds of indicators are available in GitHub repositories, one of which is World Development Indicators (WDI). The data is organized in loose CSV files which can be consumed by any spreadsheet software. More efficient way of consuming data is by using [DDF data model](https://open-numbers.github.io/ddf.html).\n",
        "\n",
        "DDF is used to define datasets. A dataset is a body of coherent, related data that is composed of separate elements, but can be manipulated as one unit by a computer. Each DDF dataset must have Concepts and may have DataPoints, Entities, Metadata, or Synonyms, whereas:\n",
        "\n",
        "- **Concepts** contain information about the variables in the data set, i.e. concept properties with simple key (concept = the column-header in a tabular format).\n",
        "- **DataPoints** contain multidimensional data, i.e. indicators with composite keys (dimensions).\n",
        "- **Entities** contain single-dimensional data, i.e. entity properties with simple keys (entity).\n",
        "\n",
        "What datapoints, entities, and concepts to find in what files is defined in the schema and resources sections of a `datapackage.json` file. This is the entry point for any machine that wants to explore the data set:"
      ]
    },
    {
      "cell_type": "code",
      "metadata": {
        "collapsed": true,
        "id": "qr9EDAKs7adV"
      },
      "source": [
        "# Import dependencies\n",
        "import requests\n",
        "import json\n",
        "import pandas as pd\n",
        "import matplotlib.pyplot as plt"
      ],
      "execution_count": 1,
      "outputs": []
    },
    {
      "cell_type": "code",
      "metadata": {
        "id": "ZiQZvxBrBQ75",
        "colab": {
          "base_uri": "https://localhost:8080/"
        },
        "outputId": "69d4f452-a7af-4d98-9c8e-c87ac995830c"
      },
      "source": [
        "# Set path to data repozitory\n",
        "path = 'https://raw.githubusercontent.com/open-numbers/ddf--open_numbers--world_development_indicators/master/'\n",
        "# Read datapackage.json with data descriptions\n",
        "datapkg = requests.get(path + 'datapackage.json').json()\n",
        "\n",
        "# Print key information about a data set\n",
        "for k,v in datapkg.items():\n",
        "  if type(v) == str or len(v) < 3:\n",
        "    print(k, ' :\\t', v)\n",
        "  else:\n",
        "    print(k, ' : section contains ', len(v), 'elements.')"
      ],
      "execution_count": 2,
      "outputs": [
        {
          "output_type": "stream",
          "name": "stdout",
          "text": [
            "name  :\t ddf--gapminder--world_development_indicators\n",
            "language  :\t {'name': 'English', 'id': 'en'}\n",
            "title  :\t Gapminder's World Development Indicators\n",
            "description  :\t Gapminder's World Development Indicators\n",
            "author  :\t Gapminder\n",
            "license  :\t MIT\n",
            "created  :\t 2021-08-22T12:15:33.269367+00:00\n",
            "translations  :\t []\n",
            "version  :\t 0.0.1\n",
            "resources  : section contains  2402 elements.\n",
            "ddfSchema  : section contains  4 elements.\n"
          ]
        }
      ]
    },
    {
      "cell_type": "markdown",
      "metadata": {
        "id": "UvyB9Uw3By5h"
      },
      "source": [
        "This data analysis investigates two dependent variables (indicators):\n",
        "- **Research and development expenditure (% of GDP)**\n",
        "- **GDP growth (annual %)**\n",
        "\n",
        "Key description of Research and development expenditure (concept `gb_xpd_rsdv_gd_zs`) and GDP growth (`ny_gdp_mktp_kd_zg`) is provided by `ddf--concepts--continuous.csv` file:"
      ]
    },
    {
      "cell_type": "code",
      "metadata": {
        "id": "OtRIHAGKB23o",
        "colab": {
          "base_uri": "https://localhost:8080/"
        },
        "outputId": "2f0074b6-b4c8-4ce2-93e6-7e430740ca16"
      },
      "source": [
        "# Load descriptions of continuous concepts\n",
        "wdic_cont = pd.read_csv(path + 'ddf--concepts--continuous.csv', index_col='concept')\n",
        "\n",
        "# Define indicators for further analysis\n",
        "indicators = ['gb_xpd_rsdv_gd_zs', 'ny_gdp_mktp_kd_zg']\n",
        "\n",
        "# Print key information about indicators\n",
        "import textwrap # ensures more readable text rendering in ipynb, html, as well as pdf\n",
        "for i in indicators:\n",
        "  print('\\nConcept:', i)\n",
        "  print('==========================')\n",
        "  for v in ['name', 'long_definition', 'statistical_concept_and_methodology', 'source']:\n",
        "    text = v.replace('_', ' ').capitalize() + ' : ' + wdic_cont.at[i,v]\n",
        "    for line in textwrap.wrap(text, width=80):\n",
        "      print(line.replace('\\\\n', '\\n'))\n",
        "    print()\n"
      ],
      "execution_count": 3,
      "outputs": [
        {
          "output_type": "stream",
          "name": "stdout",
          "text": [
            "\n",
            "Concept: gb_xpd_rsdv_gd_zs\n",
            "==========================\n",
            "Name : Research and development expenditure (% of GDP)\n",
            "\n",
            "Long definition : Gross domestic expenditures on research and development (R&D),\n",
            "expressed as a percent of GDP. They include both capital and current\n",
            "expenditures in the four main sectors: Business enterprise, Government, Higher\n",
            "education and Private non-profit. R&D covers basic research, applied research,\n",
            "and experimental development.\n",
            "\n",
            "Statistical concept and methodology : The gross domestic expenditure on R&D\n",
            "indicator consists of the total expenditure (current and capital) on R&D by all\n",
            "resident companies, research institutes, university and government laboratories,\n",
            "etc. It excludes R&D expenditures financed by domestic firms but performed\n",
            "abroad. \n",
            "\n",
            "The OECD's Frascati Manual defines research and experimental\n",
            "development as \"creative work undertaken on a systemic basis in order to\n",
            "increase the stock of knowledge, including knowledge of man, culture and\n",
            "society, and the use of this stock of knowledge to devise new applications.\" R&D\n",
            "covers basic research, applied research, and experimental development.\n",
            "\n",
            "(1)\n",
            "Basic research - Basic research is experimental or theoretical work undertaken\n",
            "primarily to acquire new knowledge of the underlying foundation of phenomena and\n",
            "observable facts, without any particular application or use in view\n",
            "\n",
            "(2)\n",
            "Applied research - Applied research is also original investigation undertaken in\n",
            "order to acquire new knowledge; it is, however, directed primarily towards a\n",
            "specific practical aim or objective.\n",
            "\n",
            "(3) Experimental development -\n",
            "Experimental development is systematic work, drawing on existing knowledge\n",
            "gained from research and/or practical experience, which is directed to producing\n",
            "new materials, products or devices, to installing new processes, systems and\n",
            "services, or to improving substantially those already produced or\n",
            "installed.\n",
            "\n",
            "The fields of science and technology used to classify R&D\n",
            "according to the Revised Fields of Science and Technology Classification\n",
            "are:\n",
            "1. Natural sciences;\n",
            "2. Engineering and technology;\n",
            "3. Medical and\n",
            "health sciences;\n",
            "4. Agricultural sciences;\n",
            "5. Social sciences;\n",
            "6. Humanities\n",
            "and the arts.\n",
            "\n",
            "The data are obtained through statistical surveys which are\n",
            "regularly conducted at national level covering R&D performing entities in the\n",
            "private and public sectors.\n",
            "\n",
            "Source : UNESCO Institute for Statistics (http://uis.unesco.org/)\n",
            "\n",
            "\n",
            "Concept: ny_gdp_mktp_kd_zg\n",
            "==========================\n",
            "Name : GDP growth (annual %)\n",
            "\n",
            "Long definition : Annual percentage growth rate of GDP at market prices based on\n",
            "constant local currency. Aggregates are based on constant 2010 U.S. dollars. GDP\n",
            "is the sum of gross value added by all resident producers in the economy plus\n",
            "any product taxes and minus any subsidies not included in the value of the\n",
            "products. It is calculated without making deductions for depreciation of\n",
            "fabricated assets or for depletion and degradation of natural resources.\n",
            "\n",
            "Statistical concept and methodology : Gross domestic product (GDP) represents\n",
            "the sum of value added by all its producers. Value added is the value of the\n",
            "gross output of producers less the value of intermediate goods and services\n",
            "consumed in production, before accounting for consumption of fixed capital in\n",
            "production. The United Nations System of National Accounts calls for value added\n",
            "to be valued at either basic prices (excluding net taxes on products) or\n",
            "producer prices (including net taxes on products paid by producers but excluding\n",
            "sales or value added taxes). Both valuations exclude transport charges that are\n",
            "invoiced separately by producers. Total GDP is measured at purchaser prices.\n",
            "Value added by industry is normally measured at basic prices. When value added\n",
            "is measured at producer prices.\n",
            "\n",
            "Growth rates of GDP and its components are\n",
            "calculated using the least squares method and constant price data in the local\n",
            "currency. Constant price U.S. dollar series are used to calculate regional and\n",
            "income group growth rates. Local currency series are converted to constant U.S.\n",
            "dollars using an exchange rate in the common reference year.\n",
            "\n",
            "Source : World Bank national accounts data, and OECD National Accounts data\n",
            "files.\n",
            "\n"
          ]
        }
      ]
    },
    {
      "cell_type": "markdown",
      "metadata": {
        "id": "c5lOkkXc7t-O"
      },
      "source": [
        "# Questions <a id='questions'></a>\n",
        "According to [this data story](https://www.weforum.org/agenda/2020/11/countries-spending-research-development-gdp/), investment in research and development is the lifeblood of many private sector organizations, helping bring new products and services to market. It's also important to national economies and plays a crutial role in GDP growth.\n",
        "\n",
        "1. Which countries invest haviest in R&D? How stable is their R&D spending as a percentage of GDP? Are there differences between regions or income groups?\n",
        "2. Is there a correlation between R&D expenditures and GDP growth?\n"
      ]
    },
    {
      "cell_type": "markdown",
      "metadata": {
        "id": "fdkpONRq7adV"
      },
      "source": [
        "# Data Wrangling <a id='wrangling'></a>\n",
        "\n",
        "> **Tip**: In this section of the report, you will load in the data, check for cleanliness, and then trim and clean your dataset for analysis. Make sure that you document your steps carefully and justify your cleaning decisions.\n",
        "\n",
        "An advantage of using a data repozitory organized according to DDF data model is easy loading of clean data. For example, missing data are avoided by 'inner' method of datapoints concatenation. The steps taken to load and check data for analysis are decribed by inline comments in the next cell. Key information about data wrangling privides a log in the next cell's output."
      ]
    },
    {
      "cell_type": "code",
      "metadata": {
        "colab": {
          "base_uri": "https://localhost:8080/",
          "height": 700
        },
        "id": "56kbebE37adW",
        "outputId": "a6022aed-f398-44f8-d33d-4eac1ea15cff"
      },
      "source": [
        "def get_datapoint(path, indicator, dim = 'geo--time'):\n",
        "  \"\"\"Reads a datapoint for a given indicator and dimensions.\n",
        "\n",
        "  Args:\n",
        "    path : A path to Gapminder World Development Indicator repository.\n",
        "    indicator : A concept name of an indicator.\n",
        "    dim : Required dimensions separeted by '--'.\n",
        "\n",
        "  Returns:\n",
        "    A pandas.DataFrame indexed by dimensions (or prints non-existent path).\n",
        "  \"\"\"\n",
        "\n",
        "  # Compile the path to CSV file\n",
        "  path = path + 'datapoints/ddf--datapoints--' + indicator + '--by--' + dim + '.csv'\n",
        "  index_col = dim.split('--')\n",
        "  # Either a read csv file or print the incorrect path to check\n",
        "  try:\n",
        "    df = pd.read_csv(path, index_col=index_col)\n",
        "    print(f'Loading {indicator} ...')\n",
        "    print('Shape: ', df.shape)\n",
        "    print('===== Head of a DataFrame ====')\n",
        "    print(df.head(), '\\n==============================\\n')\n",
        "    return df\n",
        "  except:\n",
        "    print(f'No such file at path\\n{path}')\n",
        "    return None\n",
        "\n",
        "\n",
        "# Load research and development data\n",
        "df_rad_exp = get_datapoint(path, 'gb_xpd_rsdv_gd_zs')\n",
        "\n",
        "# Load GDP growth data\n",
        "df_gdp_gr = get_datapoint(path, 'ny_gdp_mktp_kd_zg')\n",
        "\n",
        "# Concatenate R&D data with GDP growth data where both values are available\n",
        "df = pd.concat([df_rad_exp, df_gdp_gr], axis=1, join='inner').reset_index()\n",
        "\n",
        "# Shorten names of indicators\n",
        "df.rename(columns={'ny_gdp_mktp_kd_zg': 'gdp_gr', 'gb_xpd_rsdv_gd_zs': 'rad_exp'}, inplace=True)\n",
        "\n",
        "# Load country data\n",
        "countries = pd.read_csv(path + 'ddf--entities--geo--country.csv', index_col='country')\n",
        "\n",
        "# Add country data into the dataframe\n",
        "for col in ['name', 'income_groups', 'world_4region']:\n",
        "  df[col] = df.geo.apply(lambda c: countries.at[c, col])\n",
        "\n",
        "# Check duplicates and missing values\n",
        "assert df.duplicated().sum() == 0\n",
        "print('No duplicated observations.')\n",
        "assert df.isna().any().any() == False\n",
        "print('No missing values.')\n",
        "print('Shape after concatenation and extension :', df.shape)\n",
        "print('Resulting data set including country data:')\n",
        "df.head()"
      ],
      "execution_count": 4,
      "outputs": [
        {
          "output_type": "stream",
          "name": "stdout",
          "text": [
            "Loading gb_xpd_rsdv_gd_zs ...\n",
            "Shape:  (1527, 1)\n",
            "===== Head of a DataFrame ====\n",
            "          gb_xpd_rsdv_gd_zs\n",
            "geo time                   \n",
            "alb 2007            0.08737\n",
            "    2008            0.15412\n",
            "are 2011            0.48920\n",
            "    2014            0.70000\n",
            "arg 1996            0.41749 \n",
            "==============================\n",
            "\n",
            "Loading ny_gdp_mktp_kd_zg ...\n",
            "Shape:  (9595, 1)\n",
            "===== Head of a DataFrame ====\n",
            "          ny_gdp_mktp_kd_zg\n",
            "geo time                   \n",
            "abw 1987           16.07843\n",
            "    1988           18.64865\n",
            "    1989           12.12984\n",
            "    1990            3.96140\n",
            "    1991            7.96287 \n",
            "==============================\n",
            "\n",
            "No duplicated observations.\n",
            "No missing values.\n",
            "Shape after concatenation and extension : (1524, 7)\n",
            "Resulting data set including country data:\n"
          ]
        },
        {
          "output_type": "execute_result",
          "data": {
            "text/html": [
              "<div>\n",
              "<style scoped>\n",
              "    .dataframe tbody tr th:only-of-type {\n",
              "        vertical-align: middle;\n",
              "    }\n",
              "\n",
              "    .dataframe tbody tr th {\n",
              "        vertical-align: top;\n",
              "    }\n",
              "\n",
              "    .dataframe thead th {\n",
              "        text-align: right;\n",
              "    }\n",
              "</style>\n",
              "<table border=\"1\" class=\"dataframe\">\n",
              "  <thead>\n",
              "    <tr style=\"text-align: right;\">\n",
              "      <th></th>\n",
              "      <th>geo</th>\n",
              "      <th>time</th>\n",
              "      <th>rad_exp</th>\n",
              "      <th>gdp_gr</th>\n",
              "      <th>name</th>\n",
              "      <th>income_groups</th>\n",
              "      <th>world_4region</th>\n",
              "    </tr>\n",
              "  </thead>\n",
              "  <tbody>\n",
              "    <tr>\n",
              "      <th>0</th>\n",
              "      <td>alb</td>\n",
              "      <td>2007</td>\n",
              "      <td>0.08737</td>\n",
              "      <td>5.97998</td>\n",
              "      <td>Albania</td>\n",
              "      <td>upper_middle_income</td>\n",
              "      <td>europe</td>\n",
              "    </tr>\n",
              "    <tr>\n",
              "      <th>1</th>\n",
              "      <td>alb</td>\n",
              "      <td>2008</td>\n",
              "      <td>0.15412</td>\n",
              "      <td>7.49997</td>\n",
              "      <td>Albania</td>\n",
              "      <td>upper_middle_income</td>\n",
              "      <td>europe</td>\n",
              "    </tr>\n",
              "    <tr>\n",
              "      <th>2</th>\n",
              "      <td>are</td>\n",
              "      <td>2011</td>\n",
              "      <td>0.48920</td>\n",
              "      <td>6.93027</td>\n",
              "      <td>United Arab Emirates</td>\n",
              "      <td>high_income</td>\n",
              "      <td>asia</td>\n",
              "    </tr>\n",
              "    <tr>\n",
              "      <th>3</th>\n",
              "      <td>are</td>\n",
              "      <td>2014</td>\n",
              "      <td>0.70000</td>\n",
              "      <td>4.28430</td>\n",
              "      <td>United Arab Emirates</td>\n",
              "      <td>high_income</td>\n",
              "      <td>asia</td>\n",
              "    </tr>\n",
              "    <tr>\n",
              "      <th>4</th>\n",
              "      <td>arg</td>\n",
              "      <td>1996</td>\n",
              "      <td>0.41749</td>\n",
              "      <td>5.52669</td>\n",
              "      <td>Argentina</td>\n",
              "      <td>upper_middle_income</td>\n",
              "      <td>americas</td>\n",
              "    </tr>\n",
              "  </tbody>\n",
              "</table>\n",
              "</div>"
            ],
            "text/plain": [
              "   geo  time  rad_exp  ...                  name        income_groups world_4region\n",
              "0  alb  2007  0.08737  ...               Albania  upper_middle_income        europe\n",
              "1  alb  2008  0.15412  ...               Albania  upper_middle_income        europe\n",
              "2  are  2011  0.48920  ...  United Arab Emirates          high_income          asia\n",
              "3  are  2014  0.70000  ...  United Arab Emirates          high_income          asia\n",
              "4  arg  1996  0.41749  ...             Argentina  upper_middle_income      americas\n",
              "\n",
              "[5 rows x 7 columns]"
            ]
          },
          "metadata": {},
          "execution_count": 4
        }
      ]
    },
    {
      "cell_type": "markdown",
      "metadata": {
        "id": "q_ImjQ3q7adW"
      },
      "source": [
        "> **Tip**: You should _not_ perform too many operations in each cell. Create cells freely to explore your data. One option that you can take with this project is to do a lot of explorations in an initial notebook. These don't have to be organized, but make sure you use enough comments to understand the purpose of each code cell. Then, after you're done with your analysis, create a duplicate notebook where you will trim the excess and organize your steps so that you have a flowing, cohesive report.\n",
        "\n",
        "> **Tip**: Make sure that you keep your reader informed on the steps that you are taking in your investigation. Follow every code cell, or every set of related code cells, with a markdown cell to describe to the reader what was found in the preceding cell(s). Try to make it so that the reader can then understand what they will be seeing in the following cell(s).\n",
        "\n",
        "This analysis focuses on R&D expenditures. The Gapminder WDI data set contains 1.527 observations of this indicator. There are many more observations of GDP growth (9.595) but 'inner' method of concatenation ensures that in resulting dataframe there are only those observation with both values of R&D expenditure and GDP growth. There are 1524 of such combined observation available for further exploration.\n"
      ]
    },
    {
      "cell_type": "code",
      "metadata": {
        "id": "aZaDmVjsPky1",
        "colab": {
          "base_uri": "https://localhost:8080/"
        },
        "outputId": "4b0eeb5f-3bd3-4f01-b89b-82a5f0b52c6d"
      },
      "source": [
        "def count_missing(df):\n",
        "  \"\"\"Counts number of missing observations for dimensions `geo` and `time`\n",
        "  and prints `rad_exp` statistics.\"\"\"\n",
        "\n",
        "  if {'geo', 'time', 'rad_exp'}.issubset(set(df.columns)):\n",
        "    n_geo = df.geo.nunique()\n",
        "    n_time = df.time.nunique()\n",
        "    df_len = df.shape[0]\n",
        "    print(f\"There are {df_len} observations for {n_geo} countries and {n_time} years.\")\n",
        "    print(f\"It means that there are missing {1-df_len/(n_geo*n_time):.2%} out of {n_geo*n_time} possible observations.\")\n",
        "    print('\\nCheck statistics of rad_exp:')\n",
        "    print(df.rad_exp.describe())\n",
        "    return\n",
        "  else:\n",
        "    print('Function not applicable for this dataset')\n",
        "    return\n",
        "  \n",
        "count_missing(df)"
      ],
      "execution_count": 8,
      "outputs": [
        {
          "output_type": "stream",
          "name": "stdout",
          "text": [
            "There are 1524 observations for 136 countries and 19 years.\n",
            "It means that there are missing 41.02% out of 2584 possible observations.\n",
            "count    1524.000000\n",
            "mean        0.945200\n",
            "std         0.932892\n",
            "min         0.005440\n",
            "25%         0.245505\n",
            "50%         0.596610\n",
            "75%         1.342307\n",
            "max         4.407440\n",
            "Name: rad_exp, dtype: float64\n"
          ]
        }
      ]
    },
    {
      "cell_type": "markdown",
      "metadata": {
        "id": "d9xAU1sv1Yxp"
      },
      "source": [
        "The next histogram shows the number of observations for individual countries:\n",
        "\n"
      ]
    },
    {
      "cell_type": "code",
      "metadata": {
        "id": "E3h00-gFJHui",
        "colab": {
          "base_uri": "https://localhost:8080/",
          "height": 264
        },
        "outputId": "6c603432-d372-41b9-8e39-7d5ee2618a3a"
      },
      "source": [
        "# Group countries and count number of observations\n",
        "geo_observation_counts = df.groupby('geo')['time'].count()\n",
        "geo_observation_counts.hist();"
      ],
      "execution_count": 9,
      "outputs": [
        {
          "output_type": "display_data",
          "data": {
            "image/png": "[encoded data removed]",
            "text/plain": [
              "<Figure size 432x288 with 1 Axes>"
            ]
          },
          "metadata": {
            "needs_background": "light"
          }
        }
      ]
    },
    {
      "cell_type": "markdown",
      "metadata": {
        "id": "JCIn9KpLNCZo"
      },
      "source": [
        "To ensure better comprehensiveness of results, we take only countries with at least 10 observations out of 19 for further examination:"
      ]
    },
    {
      "cell_type": "code",
      "metadata": {
        "id": "NZyZibRLKnex",
        "colab": {
          "base_uri": "https://localhost:8080/"
        },
        "outputId": "1abee4e6-94ce-4591-e35e-c66768f76455"
      },
      "source": [
        "# Take a subset of countries with more than 9 observations\n",
        "geo_subset = geo_observation_counts[geo_observation_counts > 9].index\n",
        "df = df.loc[df.geo.apply(lambda g: g in geo_subset)]\n",
        "\n",
        "count_missing(df)"
      ],
      "execution_count": 10,
      "outputs": [
        {
          "output_type": "stream",
          "name": "stdout",
          "text": [
            "There are 1276 observations for 77 countries and 19 years.\n",
            "It means that there are missing 12.78% out of 1463 possible observations.\n",
            "count    1276.000000\n",
            "mean        1.068332\n",
            "std         0.954212\n",
            "min         0.015620\n",
            "25%         0.340865\n",
            "50%         0.720835\n",
            "75%         1.643235\n",
            "max         4.407440\n",
            "Name: rad_exp, dtype: float64\n"
          ]
        }
      ]
    },
    {
      "cell_type": "markdown",
      "metadata": {
        "id": "Ztp140vhO4V7"
      },
      "source": [
        "The new dataframe contains more complete data as the percentage of missing values decreased from 41% to 13%."
      ]
    },
    {
      "cell_type": "code",
      "metadata": {
        "id": "yJoJsUIEO3iO",
        "colab": {
          "base_uri": "https://localhost:8080/"
        },
        "outputId": "3fe20970-9e6d-45c5-ef1f-1f4a3d552573"
      },
      "source": [
        "# Count unique values of discrete variables\n",
        "df.iloc[:, [0,1,5,6]].nunique()"
      ],
      "execution_count": 11,
      "outputs": [
        {
          "output_type": "execute_result",
          "data": {
            "text/plain": [
              "geo              77\n",
              "time             19\n",
              "income_groups     4\n",
              "world_4region     4\n",
              "dtype: int64"
            ]
          },
          "metadata": {},
          "execution_count": 11
        }
      ]
    },
    {
      "cell_type": "markdown",
      "metadata": {
        "id": "KyumE2UxMTR4"
      },
      "source": [
        "\n",
        "Categorizations into 4 income groups and 4 world regions are other variables related to country's economy and location for some group-wise analysis:"
      ]
    },
    {
      "cell_type": "code",
      "metadata": {
        "id": "PJczsarH1YqB",
        "colab": {
          "base_uri": "https://localhost:8080/"
        },
        "outputId": "c3ea738f-66e5-4f24-d47d-e94f683e5dac"
      },
      "source": [
        "df.income_groups.unique(), df.world_4region.unique()"
      ],
      "execution_count": 12,
      "outputs": [
        {
          "output_type": "execute_result",
          "data": {
            "text/plain": [
              "(array(['upper_middle_income', 'high_income', 'low_income',\n",
              "        'lower_middle_income'], dtype=object),\n",
              " array(['americas', 'europe', 'asia', 'africa'], dtype=object))"
            ]
          },
          "metadata": {},
          "execution_count": 12
        }
      ]
    },
    {
      "cell_type": "markdown",
      "metadata": {
        "id": "BGOoklt27adX"
      },
      "source": [
        "# Exploratory Data Analysis <a id='eda'></a>\n",
        "\n",
        "> **Tip**: Now that you've trimmed and cleaned your data, you're ready to move on to exploration. Compute statistics and create visualizations with the goal of addressing the research questions that you posed in the Introduction section. It is recommended that you be systematic with your approach. Look at one variable at a time, and then follow it up by looking at relationships between variables.\n",
        "\n",
        "## Research and Development Expenditure\n",
        "- Which countries invest most and which least in R&D?\n",
        "- How stable is their R&D spending as a percentage of GDP? \n",
        "- Are there differences between regions or income groups?"
      ]
    },
    {
      "cell_type": "code",
      "metadata": {
        "id": "jTVNnSSJ7adX"
      },
      "source": [
        "# Use this, and more code cells, to explore your data. Don't forget to add\n",
        "#   Markdown cells to document your observations and findings.\n"
      ],
      "execution_count": 13,
      "outputs": []
    },
    {
      "cell_type": "markdown",
      "metadata": {
        "id": "Lq1bLWTQ7v8Q"
      },
      "source": [
        ""
      ]
    },
    {
      "cell_type": "code",
      "metadata": {
        "id": "KO8uMC6m7CJ_",
        "colab": {
          "base_uri": "https://localhost:8080/",
          "height": 264
        },
        "outputId": "fb14e19a-9c5d-46e3-9f99-2957cd61bb43"
      },
      "source": [
        "# Plot a histogram\n",
        "df.rad_exp.hist();"
      ],
      "execution_count": 14,
      "outputs": [
        {
          "output_type": "display_data",
          "data": {
            "image/png": "[encoded data removed]",
            "text/plain": [
              "<Figure size 432x288 with 1 Axes>"
            ]
          },
          "metadata": {
            "needs_background": "light"
          }
        }
      ]
    },
    {
      "cell_type": "code",
      "metadata": {
        "id": "Rm1S_m5p7CGn",
        "colab": {
          "base_uri": "https://localhost:8080/"
        },
        "outputId": "720a85f1-1b09-4e92-f7ee-ed98f1638b86"
      },
      "source": [
        "rank = df.groupby('name')['rad_exp'].mean().sort_values(ascending=False)\n",
        "rank"
      ],
      "execution_count": 15,
      "outputs": [
        {
          "output_type": "execute_result",
          "data": {
            "text/plain": [
              "name\n",
              "Israel                    3.840534\n",
              "Sweden                    3.397525\n",
              "Finland                   3.252687\n",
              "Japan                     3.212692\n",
              "South Korea               2.892914\n",
              "                            ...   \n",
              "Kuwait                    0.146299\n",
              "Bosnia and Herzegovina    0.100748\n",
              "Tajikistan                0.089615\n",
              "Trinidad and Tobago       0.085095\n",
              "Macao, China              0.066441\n",
              "Name: rad_exp, Length: 77, dtype: float64"
            ]
          },
          "metadata": {},
          "execution_count": 15
        }
      ]
    },
    {
      "cell_type": "code",
      "metadata": {
        "id": "KHRrtDY07B9_",
        "colab": {
          "base_uri": "https://localhost:8080/",
          "height": 621
        },
        "outputId": "848ad662-58a3-4215-ea7b-0bb340254c0a"
      },
      "source": [
        "rad_country_rank = [['Countries spending most on R&D', rank.head().index], ['Countries spending least on R&D', rank.tail().index]]\n",
        "fig, ax =  plt.subplots(2, 1, sharex=False, figsize=(10, 10))\n",
        "for i in [0, 1]:\n",
        "  for name in rad_country_rank[i][1]:\n",
        "    ax[i].plot(df.loc[df['name'] == name, ['time', 'rad_exp']].set_index('time'), label=name)\n",
        "  ax[i].set_xticks(range(df.time.min(), df.time.max()+1))\n",
        "  ax[i].set_xlabel('year')\n",
        "  ax[i].set_ylabel('R&D Expenditure (% of GDP)')\n",
        "  ax[i].set_title(rad_country_rank[i][0])\n",
        "  ax[i].legend()\n",
        "plt.show()"
      ],
      "execution_count": 16,
      "outputs": [
        {
          "output_type": "display_data",
          "data": {
            "image/png": "[encoded data removed]",
            "text/plain": [
              "<Figure size 720x720 with 2 Axes>"
            ]
          },
          "metadata": {
            "needs_background": "light"
          }
        }
      ]
    },
    {
      "cell_type": "code",
      "metadata": {
        "id": "RP6VcJu9BLXD",
        "outputId": "fdbda4df-d813-4e25-d270-4fa5d96f1d1d",
        "colab": {
          "base_uri": "https://localhost:8080/",
          "height": 332
        }
      },
      "source": [
        "# Differences between regions\n",
        "df.groupby('world_4region')['rad_exp'].mean().sort_values().plot(kind='bar', title='Average R&D Expenditure by Region');"
      ],
      "execution_count": 28,
      "outputs": [
        {
          "output_type": "display_data",
          "data": {
            "image/png": "[encoded data removed]",
            "text/plain": [
              "<Figure size 432x288 with 1 Axes>"
            ]
          },
          "metadata": {
            "needs_background": "light"
          }
        }
      ]
    },
    {
      "cell_type": "code",
      "metadata": {
        "id": "DmFHc37iBLT0",
        "outputId": "568f8749-04fc-4a16-84fc-e49f447f89d6",
        "colab": {
          "base_uri": "https://localhost:8080/",
          "height": 395
        }
      },
      "source": [
        "# Diffeences between income groups\n",
        "df.groupby('income_groups')['rad_exp'].mean().sort_values().plot(kind='bar', title='Average R&D Expenditure by Income Group');"
      ],
      "execution_count": 29,
      "outputs": [
        {
          "output_type": "display_data",
          "data": {
            "image/png": "[encoded data removed]",
            "text/plain": [
              "<Figure size 432x288 with 1 Axes>"
            ]
          },
          "metadata": {
            "needs_background": "light"
          }
        }
      ]
    },
    {
      "cell_type": "code",
      "metadata": {
        "id": "fhdJ_xcVBLQ8",
        "outputId": "bfc98dca-84a6-4519-82f0-d4cc3ba77031",
        "colab": {
          "base_uri": "https://localhost:8080/"
        }
      },
      "source": [
        "df.columns"
      ],
      "execution_count": 22,
      "outputs": [
        {
          "output_type": "execute_result",
          "data": {
            "text/plain": [
              "Index(['geo', 'time', 'rad_exp', 'gdp_gr', 'name', 'income_groups',\n",
              "       'world_4region'],\n",
              "      dtype='object')"
            ]
          },
          "metadata": {},
          "execution_count": 22
        }
      ]
    },
    {
      "cell_type": "markdown",
      "metadata": {
        "id": "okmDlbnl7adY"
      },
      "source": [
        "## Role of R&D in GDP Growth\n",
        "- Is there a correlation between R&D expenditures and GDP growth?"
      ]
    },
    {
      "cell_type": "code",
      "metadata": {
        "collapsed": true,
        "id": "vAxrs3Oy7adY",
        "outputId": "96f89873-7413-4d88-bdb6-2614f3f7ede5",
        "colab": {
          "base_uri": "https://localhost:8080/",
          "height": 297
        }
      },
      "source": [
        "# Continue to explore the data to address your additional research\n",
        "#   questions. Add more headers as needed if you have more questions to\n",
        "#   investigate.\n",
        "df.plot(x='rad_exp', y='gdp_gr', kind='scatter');"
      ],
      "execution_count": 23,
      "outputs": [
        {
          "output_type": "execute_result",
          "data": {
            "text/plain": [
              "<matplotlib.axes._subplots.AxesSubplot at 0x7f98f424fbd0>"
            ]
          },
          "metadata": {},
          "execution_count": 23
        },
        {
          "output_type": "display_data",
          "data": {
            "image/png": "[encoded data removed]",
            "text/plain": [
              "<Figure size 432x288 with 1 Axes>"
            ]
          },
          "metadata": {
            "needs_background": "light"
          }
        }
      ]
    },
    {
      "cell_type": "code",
      "metadata": {
        "id": "CB5yF9v_uPdt",
        "outputId": "b7a039db-9da4-44ac-fb6d-98a798bc8cfd",
        "colab": {
          "base_uri": "https://localhost:8080/",
          "height": 294
        }
      },
      "source": [
        "df.loc[(df.rad_exp < 1) & (df.gdp_gr > 15)]"
      ],
      "execution_count": 24,
      "outputs": [
        {
          "output_type": "execute_result",
          "data": {
            "text/html": [
              "<div>\n",
              "<style scoped>\n",
              "    .dataframe tbody tr th:only-of-type {\n",
              "        vertical-align: middle;\n",
              "    }\n",
              "\n",
              "    .dataframe tbody tr th {\n",
              "        vertical-align: top;\n",
              "    }\n",
              "\n",
              "    .dataframe thead th {\n",
              "        text-align: right;\n",
              "    }\n",
              "</style>\n",
              "<table border=\"1\" class=\"dataframe\">\n",
              "  <thead>\n",
              "    <tr style=\"text-align: right;\">\n",
              "      <th></th>\n",
              "      <th>geo</th>\n",
              "      <th>time</th>\n",
              "      <th>rad_exp</th>\n",
              "      <th>gdp_gr</th>\n",
              "      <th>name</th>\n",
              "      <th>income_groups</th>\n",
              "      <th>world_4region</th>\n",
              "    </tr>\n",
              "  </thead>\n",
              "  <tbody>\n",
              "    <tr>\n",
              "      <th>79</th>\n",
              "      <td>aze</td>\n",
              "      <td>2005</td>\n",
              "      <td>0.21994</td>\n",
              "      <td>27.96154</td>\n",
              "      <td>Azerbaijan</td>\n",
              "      <td>upper_middle_income</td>\n",
              "      <td>europe</td>\n",
              "    </tr>\n",
              "    <tr>\n",
              "      <th>80</th>\n",
              "      <td>aze</td>\n",
              "      <td>2006</td>\n",
              "      <td>0.17165</td>\n",
              "      <td>34.46621</td>\n",
              "      <td>Azerbaijan</td>\n",
              "      <td>upper_middle_income</td>\n",
              "      <td>europe</td>\n",
              "    </tr>\n",
              "    <tr>\n",
              "      <th>81</th>\n",
              "      <td>aze</td>\n",
              "      <td>2007</td>\n",
              "      <td>0.17006</td>\n",
              "      <td>25.46322</td>\n",
              "      <td>Azerbaijan</td>\n",
              "      <td>upper_middle_income</td>\n",
              "      <td>europe</td>\n",
              "    </tr>\n",
              "    <tr>\n",
              "      <th>814</th>\n",
              "      <td>kwt</td>\n",
              "      <td>2003</td>\n",
              "      <td>0.14347</td>\n",
              "      <td>17.32602</td>\n",
              "      <td>Kuwait</td>\n",
              "      <td>high_income</td>\n",
              "      <td>asia</td>\n",
              "    </tr>\n",
              "    <tr>\n",
              "      <th>894</th>\n",
              "      <td>mac</td>\n",
              "      <td>2004</td>\n",
              "      <td>0.05545</td>\n",
              "      <td>26.63067</td>\n",
              "      <td>Macao, China</td>\n",
              "      <td>high_income</td>\n",
              "      <td>asia</td>\n",
              "    </tr>\n",
              "    <tr>\n",
              "      <th>900</th>\n",
              "      <td>mac</td>\n",
              "      <td>2010</td>\n",
              "      <td>0.04991</td>\n",
              "      <td>25.12292</td>\n",
              "      <td>Macao, China</td>\n",
              "      <td>high_income</td>\n",
              "      <td>asia</td>\n",
              "    </tr>\n",
              "    <tr>\n",
              "      <th>901</th>\n",
              "      <td>mac</td>\n",
              "      <td>2011</td>\n",
              "      <td>0.04453</td>\n",
              "      <td>21.61647</td>\n",
              "      <td>Macao, China</td>\n",
              "      <td>high_income</td>\n",
              "      <td>asia</td>\n",
              "    </tr>\n",
              "    <tr>\n",
              "      <th>1021</th>\n",
              "      <td>mng</td>\n",
              "      <td>2011</td>\n",
              "      <td>0.23054</td>\n",
              "      <td>17.29078</td>\n",
              "      <td>Mongolia</td>\n",
              "      <td>lower_middle_income</td>\n",
              "      <td>asia</td>\n",
              "    </tr>\n",
              "  </tbody>\n",
              "</table>\n",
              "</div>"
            ],
            "text/plain": [
              "      geo  time  rad_exp  ...          name        income_groups world_4region\n",
              "79    aze  2005  0.21994  ...    Azerbaijan  upper_middle_income        europe\n",
              "80    aze  2006  0.17165  ...    Azerbaijan  upper_middle_income        europe\n",
              "81    aze  2007  0.17006  ...    Azerbaijan  upper_middle_income        europe\n",
              "814   kwt  2003  0.14347  ...        Kuwait          high_income          asia\n",
              "894   mac  2004  0.05545  ...  Macao, China          high_income          asia\n",
              "900   mac  2010  0.04991  ...  Macao, China          high_income          asia\n",
              "901   mac  2011  0.04453  ...  Macao, China          high_income          asia\n",
              "1021  mng  2011  0.23054  ...      Mongolia  lower_middle_income          asia\n",
              "\n",
              "[8 rows x 7 columns]"
            ]
          },
          "metadata": {},
          "execution_count": 24
        }
      ]
    },
    {
      "cell_type": "code",
      "metadata": {
        "id": "5G7lR0XfuPWV",
        "outputId": "e13c9f63-2030-4c79-ae34-1830fd29b959",
        "colab": {
          "base_uri": "https://localhost:8080/",
          "height": 294
        }
      },
      "source": [
        "df.query('rad_exp < 1 and gdp_gr > 15')"
      ],
      "execution_count": 26,
      "outputs": [
        {
          "output_type": "execute_result",
          "data": {
            "text/html": [
              "<div>\n",
              "<style scoped>\n",
              "    .dataframe tbody tr th:only-of-type {\n",
              "        vertical-align: middle;\n",
              "    }\n",
              "\n",
              "    .dataframe tbody tr th {\n",
              "        vertical-align: top;\n",
              "    }\n",
              "\n",
              "    .dataframe thead th {\n",
              "        text-align: right;\n",
              "    }\n",
              "</style>\n",
              "<table border=\"1\" class=\"dataframe\">\n",
              "  <thead>\n",
              "    <tr style=\"text-align: right;\">\n",
              "      <th></th>\n",
              "      <th>geo</th>\n",
              "      <th>time</th>\n",
              "      <th>rad_exp</th>\n",
              "      <th>gdp_gr</th>\n",
              "      <th>name</th>\n",
              "      <th>income_groups</th>\n",
              "      <th>world_4region</th>\n",
              "    </tr>\n",
              "  </thead>\n",
              "  <tbody>\n",
              "    <tr>\n",
              "      <th>79</th>\n",
              "      <td>aze</td>\n",
              "      <td>2005</td>\n",
              "      <td>0.21994</td>\n",
              "      <td>27.96154</td>\n",
              "      <td>Azerbaijan</td>\n",
              "      <td>upper_middle_income</td>\n",
              "      <td>europe</td>\n",
              "    </tr>\n",
              "    <tr>\n",
              "      <th>80</th>\n",
              "      <td>aze</td>\n",
              "      <td>2006</td>\n",
              "      <td>0.17165</td>\n",
              "      <td>34.46621</td>\n",
              "      <td>Azerbaijan</td>\n",
              "      <td>upper_middle_income</td>\n",
              "      <td>europe</td>\n",
              "    </tr>\n",
              "    <tr>\n",
              "      <th>81</th>\n",
              "      <td>aze</td>\n",
              "      <td>2007</td>\n",
              "      <td>0.17006</td>\n",
              "      <td>25.46322</td>\n",
              "      <td>Azerbaijan</td>\n",
              "      <td>upper_middle_income</td>\n",
              "      <td>europe</td>\n",
              "    </tr>\n",
              "    <tr>\n",
              "      <th>814</th>\n",
              "      <td>kwt</td>\n",
              "      <td>2003</td>\n",
              "      <td>0.14347</td>\n",
              "      <td>17.32602</td>\n",
              "      <td>Kuwait</td>\n",
              "      <td>high_income</td>\n",
              "      <td>asia</td>\n",
              "    </tr>\n",
              "    <tr>\n",
              "      <th>894</th>\n",
              "      <td>mac</td>\n",
              "      <td>2004</td>\n",
              "      <td>0.05545</td>\n",
              "      <td>26.63067</td>\n",
              "      <td>Macao, China</td>\n",
              "      <td>high_income</td>\n",
              "      <td>asia</td>\n",
              "    </tr>\n",
              "    <tr>\n",
              "      <th>900</th>\n",
              "      <td>mac</td>\n",
              "      <td>2010</td>\n",
              "      <td>0.04991</td>\n",
              "      <td>25.12292</td>\n",
              "      <td>Macao, China</td>\n",
              "      <td>high_income</td>\n",
              "      <td>asia</td>\n",
              "    </tr>\n",
              "    <tr>\n",
              "      <th>901</th>\n",
              "      <td>mac</td>\n",
              "      <td>2011</td>\n",
              "      <td>0.04453</td>\n",
              "      <td>21.61647</td>\n",
              "      <td>Macao, China</td>\n",
              "      <td>high_income</td>\n",
              "      <td>asia</td>\n",
              "    </tr>\n",
              "    <tr>\n",
              "      <th>1021</th>\n",
              "      <td>mng</td>\n",
              "      <td>2011</td>\n",
              "      <td>0.23054</td>\n",
              "      <td>17.29078</td>\n",
              "      <td>Mongolia</td>\n",
              "      <td>lower_middle_income</td>\n",
              "      <td>asia</td>\n",
              "    </tr>\n",
              "  </tbody>\n",
              "</table>\n",
              "</div>"
            ],
            "text/plain": [
              "      geo  time  rad_exp  ...          name        income_groups world_4region\n",
              "79    aze  2005  0.21994  ...    Azerbaijan  upper_middle_income        europe\n",
              "80    aze  2006  0.17165  ...    Azerbaijan  upper_middle_income        europe\n",
              "81    aze  2007  0.17006  ...    Azerbaijan  upper_middle_income        europe\n",
              "814   kwt  2003  0.14347  ...        Kuwait          high_income          asia\n",
              "894   mac  2004  0.05545  ...  Macao, China          high_income          asia\n",
              "900   mac  2010  0.04991  ...  Macao, China          high_income          asia\n",
              "901   mac  2011  0.04453  ...  Macao, China          high_income          asia\n",
              "1021  mng  2011  0.23054  ...      Mongolia  lower_middle_income          asia\n",
              "\n",
              "[8 rows x 7 columns]"
            ]
          },
          "metadata": {},
          "execution_count": 26
        }
      ]
    },
    {
      "cell_type": "code",
      "metadata": {
        "id": "I1TsFWUQuPO-"
      },
      "source": [
        ""
      ],
      "execution_count": null,
      "outputs": []
    },
    {
      "cell_type": "markdown",
      "metadata": {
        "id": "LJm6mOHD7adY"
      },
      "source": [
        "# Conclusions <a id='conclusions'></a>\n",
        "\n",
        "> **Tip**: Finally, summarize your findings and the results that have been performed. Make sure that you are clear with regards to the limitations of your exploration. If you haven't done any statistical tests, do not imply any statistical conclusions. And make sure you avoid implying causation from correlation!\n",
        "\n",
        "> **Tip**: Once you are satisfied with your work, you should save a copy of the report in HTML or PDF form via the **File** > **Download as** submenu. Before exporting your report, check over it to make sure that the flow of the report is complete. You should probably remove all of the \"Tip\" quotes like this one so that the presentation is as tidy as possible. Congratulations!"
      ]
    },
    {
      "cell_type": "code",
      "metadata": {
        "collapsed": true,
        "id": "QkkoCU797adZ"
      },
      "source": [
        ""
      ],
      "execution_count": null,
      "outputs": []
    },
    {
      "cell_type": "markdown",
      "metadata": {
        "id": "2axZ92S973aW"
      },
      "source": [
        "# Limitation <a id='limitation'></a>\n"
      ]
    }
  ]
}