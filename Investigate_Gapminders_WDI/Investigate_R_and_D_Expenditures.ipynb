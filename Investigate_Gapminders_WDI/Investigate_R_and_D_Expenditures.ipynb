{
  "nbformat": 4,
  "nbformat_minor": 0,
  "metadata": {
    "kernelspec": {
      "display_name": "Python [default]",
      "language": "python",
      "name": "python3"
    },
    "language_info": {
      "codemirror_mode": {
        "name": "ipython",
        "version": 3
      },
      "file_extension": ".py",
      "mimetype": "text/x-python",
      "name": "python",
      "nbconvert_exporter": "python",
      "pygments_lexer": "ipython3",
      "version": "3.5.3"
    },
    "colab": {
      "name": "report_template.ipynb",
      "provenance": [],
      "include_colab_link": true
    }
  },
  "cells": [
    {
      "cell_type": "markdown",
      "metadata": {
        "id": "view-in-github",
        "colab_type": "text"
      },
      "source": [
        "<a href=\"https://colab.research.google.com/github/lustraka/Data_Analysis_Workouts/blob/main/Investigate_Gapminders_WDI/Investigate_R_and_D_Expenditures.ipynb\" target=\"_parent\"><img src=\"https://colab.research.google.com/assets/colab-badge.svg\" alt=\"Open In Colab\"/></a>"
      ]
    },
    {
      "cell_type": "markdown",
      "metadata": {
        "id": "d5h8EDDh7adS"
      },
      "source": [
        "# Project: Investigate Gapminder's World Development Indicators\n",
        "\n",
        "## Table of Contents\n",
        "<ul>\n",
        "<li><a href=\"#intro\">Introduction</a></li>\n",
        "<li><a href=\"#questions\">Questions</a></li>\n",
        "<li><a href=\"#wrangling\">Data Wrangling</a></li>\n",
        "<li><a href=\"#eda\">Exploratory Data Analysis</a></li>\n",
        "<li><a href=\"#conclusions\">Conclusions</a></li>\n",
        "<li><a href=\"#limitation\">Limitation</a></li>\n",
        "</ul>"
      ]
    },
    {
      "cell_type": "markdown",
      "metadata": {
        "id": "H41gOoA97adU"
      },
      "source": [
        "# Introduction <a id='intro'></a>\n",
        "\n",
        "> **Tip**: In this section of the report, provide a brief introduction to the dataset you've selected for analysis. At the end of this section, describe the questions that you plan on exploring over the course of the report. Try to build your report around the analysis of at least one dependent variable and three independent variables.\n",
        ">\n",
        "> If you haven't yet selected and downloaded your data, make sure you do that first before coming back here. If you're not sure what questions to ask right now, then make sure you familiarize yourself with the variables and the dataset context for ideas of what to explore.\n",
        "\n",
        "**[Gapminder](https://www.gapminder.org/)** has collected a lot of information about how people live their lives in different countries, tracked across the years, and on a number of different indicators. The complete datasets with hundreds of indicators are available in GitHub repositories, one of which is World Development Indicators (WDI). The data is organized in loose CSV files which can be consumed by any spreadsheet software. More efficient way of consuming data is by using [DDF data model](https://open-numbers.github.io/ddf.html).\n",
        "\n",
        "DDF is used to define datasets. A dataset is a body of coherent, related data that is composed of separate elements, but can be manipulated as one unit by a computer. Each DDF dataset must have Concepts and may have DataPoints, Entities, Metadata, or Synonyms, whereas:\n",
        "\n",
        "- **Concepts** contain information about the variables in the data set, i.e. concept properties with simple key (concept = the column-header in a tabular format).\n",
        "- **DataPoints** contain multidimensional data, i.e. indicators with composite keys (dimensions).\n",
        "- **Entities** contain single-dimensional data, i.e. entity properties with simple keys (entity).\n",
        "\n",
        "What datapoints, entities, and concepts to find in what files is defined in the schema and resources sections of a `datapackage.json` file. This is the entry point for any machine that wants to explore the data set:"
      ]
    },
    {
      "cell_type": "code",
      "metadata": {
        "collapsed": true,
        "id": "qr9EDAKs7adV"
      },
      "source": [
        "# Import dependencies\n",
        "import requests\n",
        "import json\n",
        "import pandas as pd"
      ],
      "execution_count": 1,
      "outputs": []
    },
    {
      "cell_type": "code",
      "metadata": {
        "id": "ZiQZvxBrBQ75",
        "colab": {
          "base_uri": "https://localhost:8080/"
        },
        "outputId": "d836289b-1d09-48c0-b7f0-28eb4d86d8bf"
      },
      "source": [
        "# Set path to data repozitory\n",
        "path = 'https://raw.githubusercontent.com/open-numbers/ddf--open_numbers--world_development_indicators/master/'\n",
        "# Read datapackage.json with data descriptions\n",
        "datapkg = requests.get(path + 'datapackage.json').json()\n",
        "\n",
        "# Print key information about a data set\n",
        "for k,v in datapkg.items():\n",
        "  if type(v) == str or len(v) < 3:\n",
        "    print(k, ' :\\t', v)\n",
        "  else:\n",
        "    print(k, ' : section contains ', len(v), 'elements.')"
      ],
      "execution_count": 8,
      "outputs": [
        {
          "output_type": "stream",
          "name": "stdout",
          "text": [
            "name  :\t ddf--gapminder--world_development_indicators\n",
            "language  :\t {'name': 'English', 'id': 'en'}\n",
            "title  :\t Gapminder's World Development Indicators\n",
            "description  :\t Gapminder's World Development Indicators\n",
            "author  :\t Gapminder\n",
            "license  :\t MIT\n",
            "created  :\t 2021-08-22T12:15:33.269367+00:00\n",
            "translations  :\t []\n",
            "version  :\t 0.0.1\n",
            "resources  : contain(s)  2402 elements.\n",
            "ddfSchema  : contain(s)  4 elements.\n"
          ]
        }
      ]
    },
    {
      "cell_type": "markdown",
      "metadata": {
        "id": "UvyB9Uw3By5h"
      },
      "source": [
        "This data analysis investigates two dependent variables (indicators):\n",
        "- Research and development expenditure (% of GDP)\n",
        "- GDP growth (annual %)\n",
        "\n",
        "Key description of Research and development expenditure (concept `gb_xpd_rsdv_gd_zs`) and GDP growth (`ny_gdp_mktp_kd_zg`) is provided by `ddf--concepts--continuous.csv` file:"
      ]
    },
    {
      "cell_type": "code",
      "metadata": {
        "id": "OtRIHAGKB23o",
        "colab": {
          "base_uri": "https://localhost:8080/"
        },
        "outputId": "d4d92d17-0979-4c34-a392-e0983282ec3c"
      },
      "source": [
        "# Load descriptions of continuous concepts\n",
        "wdic_cont = pd.read_csv(path + 'ddf--concepts--continuous.csv', index_col='concept')\n",
        "\n",
        "# Define indicators for further analysis\n",
        "indicators = ['gb_xpd_rsdv_gd_zs', 'ny_gdp_mktp_kd_zg']\n",
        "\n",
        "# Print key information about indicators\n",
        "import textwrap # ensures more readable text rendering in ipynb, html, as well as pdf\n",
        "for i in indicators:\n",
        "  print('\\nConcept:', i)\n",
        "  print('==========================')\n",
        "  for v in ['name', 'long_definition', 'statistical_concept_and_methodology', 'source']:\n",
        "    text = v.replace('_', ' ').capitalize() + ' : ' + wdic_cont.at[i,v]\n",
        "    for line in textwrap.wrap(text, width=80):\n",
        "      print(line.replace('\\\\n', '\\n'))\n",
        "    print()\n"
      ],
      "execution_count": 3,
      "outputs": [
        {
          "output_type": "stream",
          "name": "stdout",
          "text": [
            "\n",
            "Concept: gb_xpd_rsdv_gd_zs\n",
            "==========================\n",
            "Name : Research and development expenditure (% of GDP)\n",
            "\n",
            "Long definition : Gross domestic expenditures on research and development (R&D),\n",
            "expressed as a percent of GDP. They include both capital and current\n",
            "expenditures in the four main sectors: Business enterprise, Government, Higher\n",
            "education and Private non-profit. R&D covers basic research, applied research,\n",
            "and experimental development.\n",
            "\n",
            "Statistical concept and methodology : The gross domestic expenditure on R&D\n",
            "indicator consists of the total expenditure (current and capital) on R&D by all\n",
            "resident companies, research institutes, university and government laboratories,\n",
            "etc. It excludes R&D expenditures financed by domestic firms but performed\n",
            "abroad. \n",
            "\n",
            "The OECD's Frascati Manual defines research and experimental\n",
            "development as \"creative work undertaken on a systemic basis in order to\n",
            "increase the stock of knowledge, including knowledge of man, culture and\n",
            "society, and the use of this stock of knowledge to devise new applications.\" R&D\n",
            "covers basic research, applied research, and experimental development.\n",
            "\n",
            "(1)\n",
            "Basic research - Basic research is experimental or theoretical work undertaken\n",
            "primarily to acquire new knowledge of the underlying foundation of phenomena and\n",
            "observable facts, without any particular application or use in view\n",
            "\n",
            "(2)\n",
            "Applied research - Applied research is also original investigation undertaken in\n",
            "order to acquire new knowledge; it is, however, directed primarily towards a\n",
            "specific practical aim or objective.\n",
            "\n",
            "(3) Experimental development -\n",
            "Experimental development is systematic work, drawing on existing knowledge\n",
            "gained from research and/or practical experience, which is directed to producing\n",
            "new materials, products or devices, to installing new processes, systems and\n",
            "services, or to improving substantially those already produced or\n",
            "installed.\n",
            "\n",
            "The fields of science and technology used to classify R&D\n",
            "according to the Revised Fields of Science and Technology Classification\n",
            "are:\n",
            "1. Natural sciences;\n",
            "2. Engineering and technology;\n",
            "3. Medical and\n",
            "health sciences;\n",
            "4. Agricultural sciences;\n",
            "5. Social sciences;\n",
            "6. Humanities\n",
            "and the arts.\n",
            "\n",
            "The data are obtained through statistical surveys which are\n",
            "regularly conducted at national level covering R&D performing entities in the\n",
            "private and public sectors.\n",
            "\n",
            "Source : UNESCO Institute for Statistics (http://uis.unesco.org/)\n",
            "\n",
            "\n",
            "Concept: ny_gdp_mktp_kd_zg\n",
            "==========================\n",
            "Name : GDP growth (annual %)\n",
            "\n",
            "Long definition : Annual percentage growth rate of GDP at market prices based on\n",
            "constant local currency. Aggregates are based on constant 2010 U.S. dollars. GDP\n",
            "is the sum of gross value added by all resident producers in the economy plus\n",
            "any product taxes and minus any subsidies not included in the value of the\n",
            "products. It is calculated without making deductions for depreciation of\n",
            "fabricated assets or for depletion and degradation of natural resources.\n",
            "\n",
            "Statistical concept and methodology : Gross domestic product (GDP) represents\n",
            "the sum of value added by all its producers. Value added is the value of the\n",
            "gross output of producers less the value of intermediate goods and services\n",
            "consumed in production, before accounting for consumption of fixed capital in\n",
            "production. The United Nations System of National Accounts calls for value added\n",
            "to be valued at either basic prices (excluding net taxes on products) or\n",
            "producer prices (including net taxes on products paid by producers but excluding\n",
            "sales or value added taxes). Both valuations exclude transport charges that are\n",
            "invoiced separately by producers. Total GDP is measured at purchaser prices.\n",
            "Value added by industry is normally measured at basic prices. When value added\n",
            "is measured at producer prices.\n",
            "\n",
            "Growth rates of GDP and its components are\n",
            "calculated using the least squares method and constant price data in the local\n",
            "currency. Constant price U.S. dollar series are used to calculate regional and\n",
            "income group growth rates. Local currency series are converted to constant U.S.\n",
            "dollars using an exchange rate in the common reference year.\n",
            "\n",
            "Source : World Bank national accounts data, and OECD National Accounts data\n",
            "files.\n",
            "\n"
          ]
        }
      ]
    },
    {
      "cell_type": "markdown",
      "metadata": {
        "id": "c5lOkkXc7t-O"
      },
      "source": [
        "# Questions <a id='questions'></a>\n"
      ]
    },
    {
      "cell_type": "code",
      "metadata": {
        "id": "6eWP-k3x7udF"
      },
      "source": [
        ""
      ],
      "execution_count": null,
      "outputs": []
    },
    {
      "cell_type": "markdown",
      "metadata": {
        "id": "fdkpONRq7adV"
      },
      "source": [
        "# Data Wrangling <a id='wrangling'></a>\n",
        "\n",
        "> **Tip**: In this section of the report, you will load in the data, check for cleanliness, and then trim and clean your dataset for analysis. Make sure that you document your steps carefully and justify your cleaning decisions.\n",
        "\n",
        "## General Properties"
      ]
    },
    {
      "cell_type": "code",
      "metadata": {
        "colab": {
          "base_uri": "https://localhost:8080/",
          "height": 700
        },
        "id": "56kbebE37adW",
        "outputId": "c4b51cef-7257-4cd8-e04a-0d7b8c4f1dca"
      },
      "source": [
        "def get_datapoint(path, indicator, dim = 'geo--time'):\n",
        "  \"\"\"Reads a datapoint for a given indicator and dimensions.\n",
        "\n",
        "  Args:\n",
        "    path : A path to Gapminder World Development Indicator repository.\n",
        "    indicator : A concept name of an indicator.\n",
        "    dim : Required dimensions separeted by '--'.\n",
        "\n",
        "  Returns:\n",
        "    A pandas.DataFrame indexed by dimensions (or prints non-existent path).\n",
        "  \"\"\"\n",
        "\n",
        "  # Compile the path to CSV file\n",
        "  path = path + 'datapoints/ddf--datapoints--' + indicator + '--by--' + dim + '.csv'\n",
        "  index_col = dim.split('--')\n",
        "  # Either a read csv file or print the incorrect path to check\n",
        "  try:\n",
        "    df = pd.read_csv(path, index_col=index_col)\n",
        "    print(f'Loading {indicator} ...')\n",
        "    print('Shape: ', df.shape)\n",
        "    print('===== Head of a DataFrame ====')\n",
        "    print(df.head(), '\\n==============================\\n')\n",
        "    return df\n",
        "  except:\n",
        "    print(f'No such file at path\\n{path}')\n",
        "    return None\n",
        "\n",
        "\n",
        "# Load research and development data\n",
        "df_rad_exp = get_datapoint(path, 'gb_xpd_rsdv_gd_zs')\n",
        "\n",
        "# Load GDP growth data\n",
        "df_gdp_gr = get_datapoint(path, 'ny_gdp_mktp_kd_zg')\n",
        "\n",
        "# Concatenate R&D data with GDP growth data where both values are available\n",
        "df = pd.concat([df_gdp_gr, df_rad_exp], axis=1, join='inner').reset_index()\n",
        "\n",
        "# Shorten names of indicators\n",
        "df.rename(columns={'ny_gdp_mktp_kd_zg': 'gdp_gr', 'gb_xpd_rsdv_gd_zs': 'rad_exp'}, inplace=True)\n",
        "\n",
        "# Load country data\n",
        "countries = pd.read_csv(path + 'ddf--entities--geo--country.csv', index_col='country')\n",
        "\n",
        "# Add country data into the dataframe\n",
        "for col in ['name', 'income_groups', 'world_4region']:\n",
        "  df[col] = df.geo.apply(lambda c: countries.at[c, col])\n",
        "\n",
        "# Check duplicates and missing values\n",
        "assert df.duplicated().sum() == 0\n",
        "print('No duplicated observations.')\n",
        "assert df.isna().any().any() == False\n",
        "print('No missing values.')\n",
        "print('Shape after concatenation and extension :', df.shape)\n",
        "print('Resulting data set including country data:')\n",
        "df.head()"
      ],
      "execution_count": 7,
      "outputs": [
        {
          "output_type": "stream",
          "name": "stdout",
          "text": [
            "Loading gb_xpd_rsdv_gd_zs ...\n",
            "Shape:  (1527, 1)\n",
            "===== Head of a DataFrame ====\n",
            "          gb_xpd_rsdv_gd_zs\n",
            "geo time                   \n",
            "alb 2007            0.08737\n",
            "    2008            0.15412\n",
            "are 2011            0.48920\n",
            "    2014            0.70000\n",
            "arg 1996            0.41749 \n",
            "==============================\n",
            "\n",
            "Loading ny_gdp_mktp_kd_zg ...\n",
            "Shape:  (9595, 1)\n",
            "===== Head of a DataFrame ====\n",
            "          ny_gdp_mktp_kd_zg\n",
            "geo time                   \n",
            "abw 1987           16.07843\n",
            "    1988           18.64865\n",
            "    1989           12.12984\n",
            "    1990            3.96140\n",
            "    1991            7.96287 \n",
            "==============================\n",
            "\n",
            "No duplicated observations.\n",
            "No missing values.\n",
            "Shape after concatenation and extension : (1524, 7)\n",
            "Resulting data set including country data:\n"
          ]
        },
        {
          "output_type": "execute_result",
          "data": {
            "text/html": [
              "<div>\n",
              "<style scoped>\n",
              "    .dataframe tbody tr th:only-of-type {\n",
              "        vertical-align: middle;\n",
              "    }\n",
              "\n",
              "    .dataframe tbody tr th {\n",
              "        vertical-align: top;\n",
              "    }\n",
              "\n",
              "    .dataframe thead th {\n",
              "        text-align: right;\n",
              "    }\n",
              "</style>\n",
              "<table border=\"1\" class=\"dataframe\">\n",
              "  <thead>\n",
              "    <tr style=\"text-align: right;\">\n",
              "      <th></th>\n",
              "      <th>geo</th>\n",
              "      <th>time</th>\n",
              "      <th>gdp_gr</th>\n",
              "      <th>rad_exp</th>\n",
              "      <th>name</th>\n",
              "      <th>income_groups</th>\n",
              "      <th>world_4region</th>\n",
              "    </tr>\n",
              "  </thead>\n",
              "  <tbody>\n",
              "    <tr>\n",
              "      <th>0</th>\n",
              "      <td>alb</td>\n",
              "      <td>2007</td>\n",
              "      <td>5.97998</td>\n",
              "      <td>0.08737</td>\n",
              "      <td>Albania</td>\n",
              "      <td>upper_middle_income</td>\n",
              "      <td>europe</td>\n",
              "    </tr>\n",
              "    <tr>\n",
              "      <th>1</th>\n",
              "      <td>alb</td>\n",
              "      <td>2008</td>\n",
              "      <td>7.49997</td>\n",
              "      <td>0.15412</td>\n",
              "      <td>Albania</td>\n",
              "      <td>upper_middle_income</td>\n",
              "      <td>europe</td>\n",
              "    </tr>\n",
              "    <tr>\n",
              "      <th>2</th>\n",
              "      <td>are</td>\n",
              "      <td>2011</td>\n",
              "      <td>6.93027</td>\n",
              "      <td>0.48920</td>\n",
              "      <td>United Arab Emirates</td>\n",
              "      <td>high_income</td>\n",
              "      <td>asia</td>\n",
              "    </tr>\n",
              "    <tr>\n",
              "      <th>3</th>\n",
              "      <td>are</td>\n",
              "      <td>2014</td>\n",
              "      <td>4.28430</td>\n",
              "      <td>0.70000</td>\n",
              "      <td>United Arab Emirates</td>\n",
              "      <td>high_income</td>\n",
              "      <td>asia</td>\n",
              "    </tr>\n",
              "    <tr>\n",
              "      <th>4</th>\n",
              "      <td>arg</td>\n",
              "      <td>1996</td>\n",
              "      <td>5.52669</td>\n",
              "      <td>0.41749</td>\n",
              "      <td>Argentina</td>\n",
              "      <td>upper_middle_income</td>\n",
              "      <td>americas</td>\n",
              "    </tr>\n",
              "  </tbody>\n",
              "</table>\n",
              "</div>"
            ],
            "text/plain": [
              "   geo  time   gdp_gr  ...                  name        income_groups world_4region\n",
              "0  alb  2007  5.97998  ...               Albania  upper_middle_income        europe\n",
              "1  alb  2008  7.49997  ...               Albania  upper_middle_income        europe\n",
              "2  are  2011  6.93027  ...  United Arab Emirates          high_income          asia\n",
              "3  are  2014  4.28430  ...  United Arab Emirates          high_income          asia\n",
              "4  arg  1996  5.52669  ...             Argentina  upper_middle_income      americas\n",
              "\n",
              "[5 rows x 7 columns]"
            ]
          },
          "metadata": {},
          "execution_count": 7
        }
      ]
    },
    {
      "cell_type": "markdown",
      "metadata": {
        "id": "q_ImjQ3q7adW"
      },
      "source": [
        "> **Tip**: You should _not_ perform too many operations in each cell. Create cells freely to explore your data. One option that you can take with this project is to do a lot of explorations in an initial notebook. These don't have to be organized, but make sure you use enough comments to understand the purpose of each code cell. Then, after you're done with your analysis, create a duplicate notebook where you will trim the excess and organize your steps so that you have a flowing, cohesive report.\n",
        "\n",
        "> **Tip**: Make sure that you keep your reader informed on the steps that you are taking in your investigation. Follow every code cell, or every set of related code cells, with a markdown cell to describe to the reader what was found in the preceding cell(s). Try to make it so that the reader can then understand what they will be seeing in the following cell(s).\n",
        "\n",
        "## Data Cleaning (Replace this with more specific notes!)"
      ]
    },
    {
      "cell_type": "code",
      "metadata": {
        "collapsed": true,
        "id": "S9puU-SZ7adW"
      },
      "source": [
        "# After discussing the structure of the data and any problems that need to be\n",
        "#   cleaned, perform those cleaning steps in the second part of this section.\n"
      ],
      "execution_count": null,
      "outputs": []
    },
    {
      "cell_type": "markdown",
      "metadata": {
        "id": "BGOoklt27adX"
      },
      "source": [
        "# Exploratory Data Analysis <a id='eda'></a>\n",
        "\n",
        "> **Tip**: Now that you've trimmed and cleaned your data, you're ready to move on to exploration. Compute statistics and create visualizations with the goal of addressing the research questions that you posed in the Introduction section. It is recommended that you be systematic with your approach. Look at one variable at a time, and then follow it up by looking at relationships between variables.\n",
        "\n",
        "## Research Question 1 (Replace this header name!)"
      ]
    },
    {
      "cell_type": "code",
      "metadata": {
        "collapsed": true,
        "colab": {
          "base_uri": "https://localhost:8080/",
          "height": 294
        },
        "id": "jTVNnSSJ7adX",
        "outputId": "0cc97e16-27b8-43d7-f30d-bed7574560b7"
      },
      "source": [
        "# Use this, and more code cells, to explore your data. Don't forget to add\n",
        "#   Markdown cells to document your observations and findings.\n",
        "\n",
        "# Generate descriptive statistics\n",
        "df.describe()"
      ],
      "execution_count": null,
      "outputs": [
        {
          "output_type": "execute_result",
          "data": {
            "text/html": [
              "<div>\n",
              "<style scoped>\n",
              "    .dataframe tbody tr th:only-of-type {\n",
              "        vertical-align: middle;\n",
              "    }\n",
              "\n",
              "    .dataframe tbody tr th {\n",
              "        vertical-align: top;\n",
              "    }\n",
              "\n",
              "    .dataframe thead th {\n",
              "        text-align: right;\n",
              "    }\n",
              "</style>\n",
              "<table border=\"1\" class=\"dataframe\">\n",
              "  <thead>\n",
              "    <tr style=\"text-align: right;\">\n",
              "      <th></th>\n",
              "      <th>time</th>\n",
              "      <th>gdp_gr</th>\n",
              "      <th>rad_exp</th>\n",
              "    </tr>\n",
              "  </thead>\n",
              "  <tbody>\n",
              "    <tr>\n",
              "      <th>count</th>\n",
              "      <td>1524.000000</td>\n",
              "      <td>1524.000000</td>\n",
              "      <td>1524.000000</td>\n",
              "    </tr>\n",
              "    <tr>\n",
              "      <th>mean</th>\n",
              "      <td>2005.375328</td>\n",
              "      <td>3.858861</td>\n",
              "      <td>0.945200</td>\n",
              "    </tr>\n",
              "    <tr>\n",
              "      <th>std</th>\n",
              "      <td>5.190862</td>\n",
              "      <td>4.173827</td>\n",
              "      <td>0.932892</td>\n",
              "    </tr>\n",
              "    <tr>\n",
              "      <th>min</th>\n",
              "      <td>1996.000000</td>\n",
              "      <td>-14.838610</td>\n",
              "      <td>0.005440</td>\n",
              "    </tr>\n",
              "    <tr>\n",
              "      <th>25%</th>\n",
              "      <td>2001.000000</td>\n",
              "      <td>1.761755</td>\n",
              "      <td>0.245505</td>\n",
              "    </tr>\n",
              "    <tr>\n",
              "      <th>50%</th>\n",
              "      <td>2005.000000</td>\n",
              "      <td>3.854205</td>\n",
              "      <td>0.596610</td>\n",
              "    </tr>\n",
              "    <tr>\n",
              "      <th>75%</th>\n",
              "      <td>2010.000000</td>\n",
              "      <td>6.154418</td>\n",
              "      <td>1.342307</td>\n",
              "    </tr>\n",
              "    <tr>\n",
              "      <th>max</th>\n",
              "      <td>2014.000000</td>\n",
              "      <td>34.466210</td>\n",
              "      <td>4.407440</td>\n",
              "    </tr>\n",
              "  </tbody>\n",
              "</table>\n",
              "</div>"
            ],
            "text/plain": [
              "              time       gdp_gr      rad_exp\n",
              "count  1524.000000  1524.000000  1524.000000\n",
              "mean   2005.375328     3.858861     0.945200\n",
              "std       5.190862     4.173827     0.932892\n",
              "min    1996.000000   -14.838610     0.005440\n",
              "25%    2001.000000     1.761755     0.245505\n",
              "50%    2005.000000     3.854205     0.596610\n",
              "75%    2010.000000     6.154418     1.342307\n",
              "max    2014.000000    34.466210     4.407440"
            ]
          },
          "metadata": {},
          "execution_count": 10
        }
      ]
    },
    {
      "cell_type": "markdown",
      "metadata": {
        "id": "okmDlbnl7adY"
      },
      "source": [
        "## Research Question 2  (Replace this header name!)"
      ]
    },
    {
      "cell_type": "code",
      "metadata": {
        "collapsed": true,
        "id": "vAxrs3Oy7adY"
      },
      "source": [
        "# Continue to explore the data to address your additional research\n",
        "#   questions. Add more headers as needed if you have more questions to\n",
        "#   investigate.\n"
      ],
      "execution_count": null,
      "outputs": []
    },
    {
      "cell_type": "markdown",
      "metadata": {
        "id": "LJm6mOHD7adY"
      },
      "source": [
        "# Conclusions <a id='conclusions'></a>\n",
        "\n",
        "> **Tip**: Finally, summarize your findings and the results that have been performed. Make sure that you are clear with regards to the limitations of your exploration. If you haven't done any statistical tests, do not imply any statistical conclusions. And make sure you avoid implying causation from correlation!\n",
        "\n",
        "> **Tip**: Once you are satisfied with your work, you should save a copy of the report in HTML or PDF form via the **File** > **Download as** submenu. Before exporting your report, check over it to make sure that the flow of the report is complete. You should probably remove all of the \"Tip\" quotes like this one so that the presentation is as tidy as possible. Congratulations!"
      ]
    },
    {
      "cell_type": "code",
      "metadata": {
        "collapsed": true,
        "id": "QkkoCU797adZ"
      },
      "source": [
        ""
      ],
      "execution_count": null,
      "outputs": []
    },
    {
      "cell_type": "markdown",
      "metadata": {
        "id": "2axZ92S973aW"
      },
      "source": [
        "# Limitation <a id='limitation'></a>\n"
      ]
    }
  ]
}