{
  "nbformat": 4,
  "nbformat_minor": 0,
  "metadata": {
    "kernelspec": {
      "display_name": "Python 3",
      "language": "python",
      "name": "python3"
    },
    "language_info": {
      "codemirror_mode": {
        "name": "ipython",
        "version": 3
      },
      "file_extension": ".py",
      "mimetype": "text/x-python",
      "name": "python",
      "nbconvert_exporter": "python",
      "pygments_lexer": "ipython3",
      "version": "3.6.3"
    },
    "colab": {
      "name": "armenian-online-job-posting.ipynb",
      "provenance": []
    }
  },
  "cells": [
    {
      "cell_type": "markdown",
      "metadata": {
        "id": "eDE1T7X5bjWK"
      },
      "source": [
        "# Wrangle Armenian Online Job Posting Data\n",
        "References:\n",
        "- [Kaggle: Armenian Online Job Posting](https://www.kaggle.com/udacity/armenian-online-job-postings)\n",
        "- [ZipFile Docs](https://docs.python.org/3/library/zipfile.html)\n",
        "- [Tidy Data in Python](http://www.jeannicholashould.com/tidy-data-in-python.html) + [Non-tidy data](https://simplystatistics.org/2016/02/17/non-tidy-data/)\n",
        "- [Data Wrangling Versus ETL: What’s the Difference?](https://tdwi.org/articles/2017/02/10/data-wrangling-and-etl-differences.aspx)"
      ]
    },
    {
      "cell_type": "markdown",
      "metadata": {
        "id": "j--Iu85mbjWN"
      },
      "source": [
        "## Gather"
      ]
    },
    {
      "cell_type": "code",
      "metadata": {
        "id": "CPbQL4bsizuW"
      },
      "source": [
        "# Import dependencies\n",
        "import os\n",
        "import zipfile\n",
        "import pandas as pd"
      ],
      "execution_count": null,
      "outputs": []
    },
    {
      "cell_type": "code",
      "metadata": {
        "collapsed": true,
        "colab": {
          "base_uri": "https://localhost:8080/"
        },
        "id": "iWyn6xoObjWO",
        "outputId": "de81835c-ad9c-48da-ec5c-8b86e3a89696"
      },
      "source": [
        "# Set the enviroment variables\n",
        "os.environ['KAGGLE_USERNAME'] = \"lubomrstraka\"\n",
        "os.environ['KAGGLE_KEY'] = \"c7347462ef834e6645ce238c2f2fa561\"\n",
        "\n",
        "# Download datasets\n",
        "# os.system(\"kaggle datasets download -d udacity/armenian-online-job-postings --force\")\n",
        "! kaggle datasets download -d udacity/armenian-online-job-postings --force"
      ],
      "execution_count": 3,
      "outputs": [
        {
          "output_type": "execute_result",
          "data": {
            "text/plain": [
              "0"
            ]
          },
          "metadata": {},
          "execution_count": 3
        }
      ]
    },
    {
      "cell_type": "code",
      "metadata": {
        "id": "KBFD1F-zc14B"
      },
      "source": [
        "# Extract ZIP file\n",
        "with zipfile.ZipFile('armenian-online-job-postings.zip', 'r') as myzip:\n",
        "  myzip.extractall()"
      ],
      "execution_count": 6,
      "outputs": []
    },
    {
      "cell_type": "code",
      "metadata": {
        "colab": {
          "base_uri": "https://localhost:8080/"
        },
        "id": "g_KqYG4Yc1v5",
        "outputId": "37d80b90-d70b-49b1-b10a-33c061564de8"
      },
      "source": [
        "os.listdir()"
      ],
      "execution_count": 7,
      "outputs": [
        {
          "output_type": "execute_result",
          "data": {
            "text/plain": [
              "['.config',\n",
              " 'armenian-online-job-postings.zip',\n",
              " 'features.txt',\n",
              " 'example-job-posting.jpg',\n",
              " 'online-job-postings.csv',\n",
              " 'sample_data']"
            ]
          },
          "metadata": {},
          "execution_count": 7
        }
      ]
    },
    {
      "cell_type": "code",
      "metadata": {
        "colab": {
          "base_uri": "https://localhost:8080/",
          "height": 607
        },
        "id": "dtQswn-PhX7A",
        "outputId": "bdbf900f-a1ca-4b90-a3a8-408fe71b21b4"
      },
      "source": [
        "# Read CSV file into DataFrame\n",
        "df = pd.read_csv('online-job-postings.csv')"
      ],
      "execution_count": 8,
      "outputs": [
        {
          "output_type": "execute_result",
          "data": {
            "text/html": [
              "<div>\n",
              "<style scoped>\n",
              "    .dataframe tbody tr th:only-of-type {\n",
              "        vertical-align: middle;\n",
              "    }\n",
              "\n",
              "    .dataframe tbody tr th {\n",
              "        vertical-align: top;\n",
              "    }\n",
              "\n",
              "    .dataframe thead th {\n",
              "        text-align: right;\n",
              "    }\n",
              "</style>\n",
              "<table border=\"1\" class=\"dataframe\">\n",
              "  <thead>\n",
              "    <tr style=\"text-align: right;\">\n",
              "      <th></th>\n",
              "      <th>jobpost</th>\n",
              "      <th>date</th>\n",
              "      <th>Title</th>\n",
              "      <th>Company</th>\n",
              "      <th>AnnouncementCode</th>\n",
              "      <th>Term</th>\n",
              "      <th>Eligibility</th>\n",
              "      <th>Audience</th>\n",
              "      <th>StartDate</th>\n",
              "      <th>Duration</th>\n",
              "      <th>Location</th>\n",
              "      <th>JobDescription</th>\n",
              "      <th>JobRequirment</th>\n",
              "      <th>RequiredQual</th>\n",
              "      <th>Salary</th>\n",
              "      <th>ApplicationP</th>\n",
              "      <th>OpeningDate</th>\n",
              "      <th>Deadline</th>\n",
              "      <th>Notes</th>\n",
              "      <th>AboutC</th>\n",
              "      <th>Attach</th>\n",
              "      <th>Year</th>\n",
              "      <th>Month</th>\n",
              "      <th>IT</th>\n",
              "    </tr>\n",
              "  </thead>\n",
              "  <tbody>\n",
              "    <tr>\n",
              "      <th>0</th>\n",
              "      <td>AMERIA Investment Consulting Company\\r\\nJOB TI...</td>\n",
              "      <td>Jan 5, 2004</td>\n",
              "      <td>Chief Financial Officer</td>\n",
              "      <td>AMERIA Investment Consulting Company</td>\n",
              "      <td>NaN</td>\n",
              "      <td>NaN</td>\n",
              "      <td>NaN</td>\n",
              "      <td>NaN</td>\n",
              "      <td>NaN</td>\n",
              "      <td>NaN</td>\n",
              "      <td>Yerevan, Armenia</td>\n",
              "      <td>AMERIA Investment Consulting Company is seekin...</td>\n",
              "      <td>- Supervises financial management and administ...</td>\n",
              "      <td>To perform this job successfully, an\\r\\nindivi...</td>\n",
              "      <td>NaN</td>\n",
              "      <td>To apply for this position, please submit a\\r\\...</td>\n",
              "      <td>NaN</td>\n",
              "      <td>26 January 2004</td>\n",
              "      <td>NaN</td>\n",
              "      <td>NaN</td>\n",
              "      <td>NaN</td>\n",
              "      <td>2004</td>\n",
              "      <td>1</td>\n",
              "      <td>False</td>\n",
              "    </tr>\n",
              "    <tr>\n",
              "      <th>1</th>\n",
              "      <td>International Research &amp; Exchanges Board (IREX...</td>\n",
              "      <td>Jan 7, 2004</td>\n",
              "      <td>Full-time Community Connections Intern (paid i...</td>\n",
              "      <td>International Research &amp; Exchanges Board (IREX)</td>\n",
              "      <td>NaN</td>\n",
              "      <td>NaN</td>\n",
              "      <td>NaN</td>\n",
              "      <td>NaN</td>\n",
              "      <td>NaN</td>\n",
              "      <td>3 months</td>\n",
              "      <td>IREX Armenia Main Office; Yerevan, Armenia \\r\\...</td>\n",
              "      <td>NaN</td>\n",
              "      <td>NaN</td>\n",
              "      <td>- Bachelor's Degree; Master's is preferred;\\r\\...</td>\n",
              "      <td>NaN</td>\n",
              "      <td>Please submit a cover letter and resume to:\\r\\...</td>\n",
              "      <td>NaN</td>\n",
              "      <td>12 January 2004</td>\n",
              "      <td>NaN</td>\n",
              "      <td>The International Research &amp; Exchanges Board (...</td>\n",
              "      <td>NaN</td>\n",
              "      <td>2004</td>\n",
              "      <td>1</td>\n",
              "      <td>False</td>\n",
              "    </tr>\n",
              "    <tr>\n",
              "      <th>2</th>\n",
              "      <td>Caucasus Environmental NGO Network (CENN)\\r\\nJ...</td>\n",
              "      <td>Jan 7, 2004</td>\n",
              "      <td>Country Coordinator</td>\n",
              "      <td>Caucasus Environmental NGO Network (CENN)</td>\n",
              "      <td>NaN</td>\n",
              "      <td>NaN</td>\n",
              "      <td>NaN</td>\n",
              "      <td>NaN</td>\n",
              "      <td>NaN</td>\n",
              "      <td>Renewable annual contract\\r\\nPOSITION</td>\n",
              "      <td>Yerevan, Armenia</td>\n",
              "      <td>Public outreach and strengthening of a growing...</td>\n",
              "      <td>- Working with the Country Director to provide...</td>\n",
              "      <td>- Degree in environmentally related field, or ...</td>\n",
              "      <td>NaN</td>\n",
              "      <td>Please send resume or CV toursula.kazarian@......</td>\n",
              "      <td>NaN</td>\n",
              "      <td>20 January 2004\\r\\nSTART DATE:  February 2004</td>\n",
              "      <td>NaN</td>\n",
              "      <td>The Caucasus Environmental NGO Network is a\\r\\...</td>\n",
              "      <td>NaN</td>\n",
              "      <td>2004</td>\n",
              "      <td>1</td>\n",
              "      <td>False</td>\n",
              "    </tr>\n",
              "    <tr>\n",
              "      <th>3</th>\n",
              "      <td>Manoff Group\\r\\nJOB TITLE:  BCC Specialist\\r\\n...</td>\n",
              "      <td>Jan 7, 2004</td>\n",
              "      <td>BCC Specialist</td>\n",
              "      <td>Manoff Group</td>\n",
              "      <td>NaN</td>\n",
              "      <td>NaN</td>\n",
              "      <td>NaN</td>\n",
              "      <td>NaN</td>\n",
              "      <td>NaN</td>\n",
              "      <td>NaN</td>\n",
              "      <td>Manila, Philippines</td>\n",
              "      <td>The LEAD (Local Enhancement and Development fo...</td>\n",
              "      <td>- Identify gaps in knowledge and overseeing in...</td>\n",
              "      <td>- Advanced degree in public health, social sci...</td>\n",
              "      <td>NaN</td>\n",
              "      <td>Please send cover letter and resume to Amy\\r\\n...</td>\n",
              "      <td>NaN</td>\n",
              "      <td>23 January 2004\\r\\nSTART DATE:  Immediate</td>\n",
              "      <td>NaN</td>\n",
              "      <td>NaN</td>\n",
              "      <td>NaN</td>\n",
              "      <td>2004</td>\n",
              "      <td>1</td>\n",
              "      <td>False</td>\n",
              "    </tr>\n",
              "    <tr>\n",
              "      <th>4</th>\n",
              "      <td>Yerevan Brandy Company\\r\\nJOB TITLE:  Software...</td>\n",
              "      <td>Jan 10, 2004</td>\n",
              "      <td>Software Developer</td>\n",
              "      <td>Yerevan Brandy Company</td>\n",
              "      <td>NaN</td>\n",
              "      <td>NaN</td>\n",
              "      <td>NaN</td>\n",
              "      <td>NaN</td>\n",
              "      <td>NaN</td>\n",
              "      <td>NaN</td>\n",
              "      <td>Yerevan, Armenia</td>\n",
              "      <td>NaN</td>\n",
              "      <td>- Rendering technical assistance to Database M...</td>\n",
              "      <td>- University degree; economical background is ...</td>\n",
              "      <td>NaN</td>\n",
              "      <td>Successful candidates should submit\\r\\n- CV; \\...</td>\n",
              "      <td>NaN</td>\n",
              "      <td>20 January 2004, 18:00</td>\n",
              "      <td>NaN</td>\n",
              "      <td>NaN</td>\n",
              "      <td>NaN</td>\n",
              "      <td>2004</td>\n",
              "      <td>1</td>\n",
              "      <td>True</td>\n",
              "    </tr>\n",
              "  </tbody>\n",
              "</table>\n",
              "</div>"
            ],
            "text/plain": [
              "                                             jobpost  ...     IT\n",
              "0  AMERIA Investment Consulting Company\\r\\nJOB TI...  ...  False\n",
              "1  International Research & Exchanges Board (IREX...  ...  False\n",
              "2  Caucasus Environmental NGO Network (CENN)\\r\\nJ...  ...  False\n",
              "3  Manoff Group\\r\\nJOB TITLE:  BCC Specialist\\r\\n...  ...  False\n",
              "4  Yerevan Brandy Company\\r\\nJOB TITLE:  Software...  ...   True\n",
              "\n",
              "[5 rows x 24 columns]"
            ]
          },
          "metadata": {},
          "execution_count": 8
        }
      ]
    },
    {
      "cell_type": "markdown",
      "metadata": {
        "id": "rLufUjKIbjWP"
      },
      "source": [
        "## Assess\n",
        "### Data Quality\n",
        "*Low quality data* is commonly referred to as **dirty data**. Dirty data has issues with its *content*.\n",
        "- Missing data\n",
        "- Invalid data\n",
        "- Inaccurate data\n",
        "- Inconsistent data\n",
        "- Multiple terms that mean the same thing\n",
        "\n",
        "### Tidiness\n",
        "*Untidy* data is commonly referred to as **\"messy\" data**. Messy data has issues with its *structure*. In tidy data:\n",
        "- Each variable forms a column.\n",
        "- Each observation forms a row.\n",
        "- Each type of observational unit forms a table.\n"
      ]
    },
    {
      "cell_type": "code",
      "metadata": {
        "colab": {
          "base_uri": "https://localhost:8080/",
          "height": 1000
        },
        "id": "lJ5Ok4evhX93",
        "outputId": "6bc9c64a-f461-428e-9d0f-0923bae5ed26"
      },
      "source": [
        "df"
      ],
      "execution_count": 9,
      "outputs": [
        {
          "output_type": "execute_result",
          "data": {
            "text/html": [
              "<div>\n",
              "<style scoped>\n",
              "    .dataframe tbody tr th:only-of-type {\n",
              "        vertical-align: middle;\n",
              "    }\n",
              "\n",
              "    .dataframe tbody tr th {\n",
              "        vertical-align: top;\n",
              "    }\n",
              "\n",
              "    .dataframe thead th {\n",
              "        text-align: right;\n",
              "    }\n",
              "</style>\n",
              "<table border=\"1\" class=\"dataframe\">\n",
              "  <thead>\n",
              "    <tr style=\"text-align: right;\">\n",
              "      <th></th>\n",
              "      <th>jobpost</th>\n",
              "      <th>date</th>\n",
              "      <th>Title</th>\n",
              "      <th>Company</th>\n",
              "      <th>AnnouncementCode</th>\n",
              "      <th>Term</th>\n",
              "      <th>Eligibility</th>\n",
              "      <th>Audience</th>\n",
              "      <th>StartDate</th>\n",
              "      <th>Duration</th>\n",
              "      <th>Location</th>\n",
              "      <th>JobDescription</th>\n",
              "      <th>JobRequirment</th>\n",
              "      <th>RequiredQual</th>\n",
              "      <th>Salary</th>\n",
              "      <th>ApplicationP</th>\n",
              "      <th>OpeningDate</th>\n",
              "      <th>Deadline</th>\n",
              "      <th>Notes</th>\n",
              "      <th>AboutC</th>\n",
              "      <th>Attach</th>\n",
              "      <th>Year</th>\n",
              "      <th>Month</th>\n",
              "      <th>IT</th>\n",
              "    </tr>\n",
              "  </thead>\n",
              "  <tbody>\n",
              "    <tr>\n",
              "      <th>0</th>\n",
              "      <td>AMERIA Investment Consulting Company\\r\\nJOB TI...</td>\n",
              "      <td>Jan 5, 2004</td>\n",
              "      <td>Chief Financial Officer</td>\n",
              "      <td>AMERIA Investment Consulting Company</td>\n",
              "      <td>NaN</td>\n",
              "      <td>NaN</td>\n",
              "      <td>NaN</td>\n",
              "      <td>NaN</td>\n",
              "      <td>NaN</td>\n",
              "      <td>NaN</td>\n",
              "      <td>Yerevan, Armenia</td>\n",
              "      <td>AMERIA Investment Consulting Company is seekin...</td>\n",
              "      <td>- Supervises financial management and administ...</td>\n",
              "      <td>To perform this job successfully, an\\r\\nindivi...</td>\n",
              "      <td>NaN</td>\n",
              "      <td>To apply for this position, please submit a\\r\\...</td>\n",
              "      <td>NaN</td>\n",
              "      <td>26 January 2004</td>\n",
              "      <td>NaN</td>\n",
              "      <td>NaN</td>\n",
              "      <td>NaN</td>\n",
              "      <td>2004</td>\n",
              "      <td>1</td>\n",
              "      <td>False</td>\n",
              "    </tr>\n",
              "    <tr>\n",
              "      <th>1</th>\n",
              "      <td>International Research &amp; Exchanges Board (IREX...</td>\n",
              "      <td>Jan 7, 2004</td>\n",
              "      <td>Full-time Community Connections Intern (paid i...</td>\n",
              "      <td>International Research &amp; Exchanges Board (IREX)</td>\n",
              "      <td>NaN</td>\n",
              "      <td>NaN</td>\n",
              "      <td>NaN</td>\n",
              "      <td>NaN</td>\n",
              "      <td>NaN</td>\n",
              "      <td>3 months</td>\n",
              "      <td>IREX Armenia Main Office; Yerevan, Armenia \\r\\...</td>\n",
              "      <td>NaN</td>\n",
              "      <td>NaN</td>\n",
              "      <td>- Bachelor's Degree; Master's is preferred;\\r\\...</td>\n",
              "      <td>NaN</td>\n",
              "      <td>Please submit a cover letter and resume to:\\r\\...</td>\n",
              "      <td>NaN</td>\n",
              "      <td>12 January 2004</td>\n",
              "      <td>NaN</td>\n",
              "      <td>The International Research &amp; Exchanges Board (...</td>\n",
              "      <td>NaN</td>\n",
              "      <td>2004</td>\n",
              "      <td>1</td>\n",
              "      <td>False</td>\n",
              "    </tr>\n",
              "    <tr>\n",
              "      <th>2</th>\n",
              "      <td>Caucasus Environmental NGO Network (CENN)\\r\\nJ...</td>\n",
              "      <td>Jan 7, 2004</td>\n",
              "      <td>Country Coordinator</td>\n",
              "      <td>Caucasus Environmental NGO Network (CENN)</td>\n",
              "      <td>NaN</td>\n",
              "      <td>NaN</td>\n",
              "      <td>NaN</td>\n",
              "      <td>NaN</td>\n",
              "      <td>NaN</td>\n",
              "      <td>Renewable annual contract\\r\\nPOSITION</td>\n",
              "      <td>Yerevan, Armenia</td>\n",
              "      <td>Public outreach and strengthening of a growing...</td>\n",
              "      <td>- Working with the Country Director to provide...</td>\n",
              "      <td>- Degree in environmentally related field, or ...</td>\n",
              "      <td>NaN</td>\n",
              "      <td>Please send resume or CV toursula.kazarian@......</td>\n",
              "      <td>NaN</td>\n",
              "      <td>20 January 2004\\r\\nSTART DATE:  February 2004</td>\n",
              "      <td>NaN</td>\n",
              "      <td>The Caucasus Environmental NGO Network is a\\r\\...</td>\n",
              "      <td>NaN</td>\n",
              "      <td>2004</td>\n",
              "      <td>1</td>\n",
              "      <td>False</td>\n",
              "    </tr>\n",
              "    <tr>\n",
              "      <th>3</th>\n",
              "      <td>Manoff Group\\r\\nJOB TITLE:  BCC Specialist\\r\\n...</td>\n",
              "      <td>Jan 7, 2004</td>\n",
              "      <td>BCC Specialist</td>\n",
              "      <td>Manoff Group</td>\n",
              "      <td>NaN</td>\n",
              "      <td>NaN</td>\n",
              "      <td>NaN</td>\n",
              "      <td>NaN</td>\n",
              "      <td>NaN</td>\n",
              "      <td>NaN</td>\n",
              "      <td>Manila, Philippines</td>\n",
              "      <td>The LEAD (Local Enhancement and Development fo...</td>\n",
              "      <td>- Identify gaps in knowledge and overseeing in...</td>\n",
              "      <td>- Advanced degree in public health, social sci...</td>\n",
              "      <td>NaN</td>\n",
              "      <td>Please send cover letter and resume to Amy\\r\\n...</td>\n",
              "      <td>NaN</td>\n",
              "      <td>23 January 2004\\r\\nSTART DATE:  Immediate</td>\n",
              "      <td>NaN</td>\n",
              "      <td>NaN</td>\n",
              "      <td>NaN</td>\n",
              "      <td>2004</td>\n",
              "      <td>1</td>\n",
              "      <td>False</td>\n",
              "    </tr>\n",
              "    <tr>\n",
              "      <th>4</th>\n",
              "      <td>Yerevan Brandy Company\\r\\nJOB TITLE:  Software...</td>\n",
              "      <td>Jan 10, 2004</td>\n",
              "      <td>Software Developer</td>\n",
              "      <td>Yerevan Brandy Company</td>\n",
              "      <td>NaN</td>\n",
              "      <td>NaN</td>\n",
              "      <td>NaN</td>\n",
              "      <td>NaN</td>\n",
              "      <td>NaN</td>\n",
              "      <td>NaN</td>\n",
              "      <td>Yerevan, Armenia</td>\n",
              "      <td>NaN</td>\n",
              "      <td>- Rendering technical assistance to Database M...</td>\n",
              "      <td>- University degree; economical background is ...</td>\n",
              "      <td>NaN</td>\n",
              "      <td>Successful candidates should submit\\r\\n- CV; \\...</td>\n",
              "      <td>NaN</td>\n",
              "      <td>20 January 2004, 18:00</td>\n",
              "      <td>NaN</td>\n",
              "      <td>NaN</td>\n",
              "      <td>NaN</td>\n",
              "      <td>2004</td>\n",
              "      <td>1</td>\n",
              "      <td>True</td>\n",
              "    </tr>\n",
              "    <tr>\n",
              "      <th>...</th>\n",
              "      <td>...</td>\n",
              "      <td>...</td>\n",
              "      <td>...</td>\n",
              "      <td>...</td>\n",
              "      <td>...</td>\n",
              "      <td>...</td>\n",
              "      <td>...</td>\n",
              "      <td>...</td>\n",
              "      <td>...</td>\n",
              "      <td>...</td>\n",
              "      <td>...</td>\n",
              "      <td>...</td>\n",
              "      <td>...</td>\n",
              "      <td>...</td>\n",
              "      <td>...</td>\n",
              "      <td>...</td>\n",
              "      <td>...</td>\n",
              "      <td>...</td>\n",
              "      <td>...</td>\n",
              "      <td>...</td>\n",
              "      <td>...</td>\n",
              "      <td>...</td>\n",
              "      <td>...</td>\n",
              "      <td>...</td>\n",
              "    </tr>\n",
              "    <tr>\n",
              "      <th>18996</th>\n",
              "      <td>Technolinguistics NGO\\r\\n\\r\\n\\r\\nTITLE:  Senio...</td>\n",
              "      <td>Dec 28, 2015</td>\n",
              "      <td>Senior Creative UX/ UI Designer</td>\n",
              "      <td>Technolinguistics NGO</td>\n",
              "      <td>NaN</td>\n",
              "      <td>Full-time</td>\n",
              "      <td>NaN</td>\n",
              "      <td>NaN</td>\n",
              "      <td>NaN</td>\n",
              "      <td>Long-term</td>\n",
              "      <td>Yerevan, Armenia</td>\n",
              "      <td>A tech startup of Technolinguistics based in N...</td>\n",
              "      <td>- Work closely with product and business teams...</td>\n",
              "      <td>- At least 5 years of experience in Interface/...</td>\n",
              "      <td>Competitive</td>\n",
              "      <td>To apply for this position, please send your\\r...</td>\n",
              "      <td>29 December 2015</td>\n",
              "      <td>28 January 2016</td>\n",
              "      <td>NaN</td>\n",
              "      <td>As a company Technolinguistics has a mandate t...</td>\n",
              "      <td>NaN</td>\n",
              "      <td>2015</td>\n",
              "      <td>12</td>\n",
              "      <td>False</td>\n",
              "    </tr>\n",
              "    <tr>\n",
              "      <th>18997</th>\n",
              "      <td>\"Coca-Cola Hellenic Bottling Company Armenia\" ...</td>\n",
              "      <td>Dec 30, 2015</td>\n",
              "      <td>Category Development Manager</td>\n",
              "      <td>\"Coca-Cola Hellenic Bottling Company Armenia\" ...</td>\n",
              "      <td>NaN</td>\n",
              "      <td>Full-time</td>\n",
              "      <td>All interested professionals.</td>\n",
              "      <td>NaN</td>\n",
              "      <td>ASAP</td>\n",
              "      <td>Long-term with a probation period of 3 months.</td>\n",
              "      <td>Yerevan, Armenia</td>\n",
              "      <td>NaN</td>\n",
              "      <td>- Establish and manage Category Management dev...</td>\n",
              "      <td>- University degree, ideally business related;...</td>\n",
              "      <td>NaN</td>\n",
              "      <td>All interested candidates are kindly requested...</td>\n",
              "      <td>30 December 2015</td>\n",
              "      <td>20 January 2016</td>\n",
              "      <td>NaN</td>\n",
              "      <td>NaN</td>\n",
              "      <td>NaN</td>\n",
              "      <td>2015</td>\n",
              "      <td>12</td>\n",
              "      <td>False</td>\n",
              "    </tr>\n",
              "    <tr>\n",
              "      <th>18998</th>\n",
              "      <td>\"Coca-Cola Hellenic Bottling Company Armenia\" ...</td>\n",
              "      <td>Dec 30, 2015</td>\n",
              "      <td>Operational Marketing Manager</td>\n",
              "      <td>\"Coca-Cola Hellenic Bottling Company Armenia\" ...</td>\n",
              "      <td>NaN</td>\n",
              "      <td>Full-time</td>\n",
              "      <td>All interested professionals.</td>\n",
              "      <td>NaN</td>\n",
              "      <td>ASAP</td>\n",
              "      <td>Long-term with a probation period of 3 months.</td>\n",
              "      <td>Yerevan, Armenia</td>\n",
              "      <td>NaN</td>\n",
              "      <td>- Develop, establish and maintain marketing st...</td>\n",
              "      <td>- Degree in Business, Marketing or a related f...</td>\n",
              "      <td>NaN</td>\n",
              "      <td>All interested candidates are kindly requested...</td>\n",
              "      <td>30 December 2015</td>\n",
              "      <td>20 January 2016</td>\n",
              "      <td>NaN</td>\n",
              "      <td>NaN</td>\n",
              "      <td>NaN</td>\n",
              "      <td>2015</td>\n",
              "      <td>12</td>\n",
              "      <td>False</td>\n",
              "    </tr>\n",
              "    <tr>\n",
              "      <th>18999</th>\n",
              "      <td>San Lazzaro   LLC\\r\\n\\r\\n\\r\\nTITLE:  Head of O...</td>\n",
              "      <td>Dec 30, 2015</td>\n",
              "      <td>Head of Online Sales Department</td>\n",
              "      <td>San Lazzaro   LLC</td>\n",
              "      <td>NaN</td>\n",
              "      <td>NaN</td>\n",
              "      <td>NaN</td>\n",
              "      <td>NaN</td>\n",
              "      <td>NaN</td>\n",
              "      <td>Long-term</td>\n",
              "      <td>Yerevan, Armenia</td>\n",
              "      <td>San Lazzaro LLC is looking for a well-experien...</td>\n",
              "      <td>- Handle the project activites of the online s...</td>\n",
              "      <td>- At least 1 year of experience in online sale...</td>\n",
              "      <td>Highly competitive</td>\n",
              "      <td>Interested candidates can send their CVs to:\\r...</td>\n",
              "      <td>30 December 2015</td>\n",
              "      <td>29 January 2016</td>\n",
              "      <td>NaN</td>\n",
              "      <td>San Lazzaro LLC works with several internation...</td>\n",
              "      <td>NaN</td>\n",
              "      <td>2015</td>\n",
              "      <td>12</td>\n",
              "      <td>False</td>\n",
              "    </tr>\n",
              "    <tr>\n",
              "      <th>19000</th>\n",
              "      <td>\"Kamurj\" UCO CJSC\\r\\n\\r\\n\\r\\nTITLE:  Lawyer in...</td>\n",
              "      <td>Dec 30, 2015</td>\n",
              "      <td>Lawyer in Legal Department</td>\n",
              "      <td>\"Kamurj\" UCO CJSC</td>\n",
              "      <td>NaN</td>\n",
              "      <td>Full-time</td>\n",
              "      <td>NaN</td>\n",
              "      <td>NaN</td>\n",
              "      <td>NaN</td>\n",
              "      <td>Indefinite</td>\n",
              "      <td>Yerevan, Armenia</td>\n",
              "      <td>\"Kamurj\" UCO CJSC is looking for a Lawyer in L...</td>\n",
              "      <td>- Properly provide internal legal services of ...</td>\n",
              "      <td>- Higher legal education; Master's degree is a...</td>\n",
              "      <td>NaN</td>\n",
              "      <td>All qualified applicants are encouraged to\\r\\n...</td>\n",
              "      <td>30 December 2015</td>\n",
              "      <td>20 January 2016</td>\n",
              "      <td>NaN</td>\n",
              "      <td>\"Kamurj\" UCO CJSC is providing micro and small...</td>\n",
              "      <td>NaN</td>\n",
              "      <td>2015</td>\n",
              "      <td>12</td>\n",
              "      <td>False</td>\n",
              "    </tr>\n",
              "  </tbody>\n",
              "</table>\n",
              "<p>19001 rows × 24 columns</p>\n",
              "</div>"
            ],
            "text/plain": [
              "                                                 jobpost  ...     IT\n",
              "0      AMERIA Investment Consulting Company\\r\\nJOB TI...  ...  False\n",
              "1      International Research & Exchanges Board (IREX...  ...  False\n",
              "2      Caucasus Environmental NGO Network (CENN)\\r\\nJ...  ...  False\n",
              "3      Manoff Group\\r\\nJOB TITLE:  BCC Specialist\\r\\n...  ...  False\n",
              "4      Yerevan Brandy Company\\r\\nJOB TITLE:  Software...  ...   True\n",
              "...                                                  ...  ...    ...\n",
              "18996  Technolinguistics NGO\\r\\n\\r\\n\\r\\nTITLE:  Senio...  ...  False\n",
              "18997  \"Coca-Cola Hellenic Bottling Company Armenia\" ...  ...  False\n",
              "18998  \"Coca-Cola Hellenic Bottling Company Armenia\" ...  ...  False\n",
              "18999  San Lazzaro   LLC\\r\\n\\r\\n\\r\\nTITLE:  Head of O...  ...  False\n",
              "19000  \"Kamurj\" UCO CJSC\\r\\n\\r\\n\\r\\nTITLE:  Lawyer in...  ...  False\n",
              "\n",
              "[19001 rows x 24 columns]"
            ]
          },
          "metadata": {},
          "execution_count": 9
        }
      ]
    },
    {
      "cell_type": "code",
      "metadata": {
        "id": "n_hCNsz5xXUQ",
        "outputId": "1b5cd16e-9335-4305-98b7-fe46854cf891",
        "colab": {
          "base_uri": "https://localhost:8080/"
        }
      },
      "source": [
        "df.info()"
      ],
      "execution_count": 13,
      "outputs": [
        {
          "output_type": "stream",
          "name": "stdout",
          "text": [
            "<class 'pandas.core.frame.DataFrame'>\n",
            "RangeIndex: 19001 entries, 0 to 19000\n",
            "Data columns (total 24 columns):\n",
            " #   Column            Non-Null Count  Dtype \n",
            "---  ------            --------------  ----- \n",
            " 0   jobpost           19001 non-null  object\n",
            " 1   date              19001 non-null  object\n",
            " 2   Title             18973 non-null  object\n",
            " 3   Company           18994 non-null  object\n",
            " 4   AnnouncementCode  1208 non-null   object\n",
            " 5   Term              7676 non-null   object\n",
            " 6   Eligibility       4930 non-null   object\n",
            " 7   Audience          640 non-null    object\n",
            " 8   StartDate         9675 non-null   object\n",
            " 9   Duration          10798 non-null  object\n",
            " 10  Location          18969 non-null  object\n",
            " 11  JobDescription    15109 non-null  object\n",
            " 12  JobRequirment     16479 non-null  object\n",
            " 13  RequiredQual      18517 non-null  object\n",
            " 14  Salary            9622 non-null   object\n",
            " 15  ApplicationP      18941 non-null  object\n",
            " 16  OpeningDate       18295 non-null  object\n",
            " 17  Deadline          18936 non-null  object\n",
            " 18  Notes             2211 non-null   object\n",
            " 19  AboutC            12470 non-null  object\n",
            " 20  Attach            1559 non-null   object\n",
            " 21  Year              19001 non-null  int64 \n",
            " 22  Month             19001 non-null  int64 \n",
            " 23  IT                19001 non-null  bool  \n",
            "dtypes: bool(1), int64(2), object(21)\n",
            "memory usage: 3.4+ MB\n"
          ]
        }
      ]
    },
    {
      "cell_type": "code",
      "metadata": {
        "id": "EpP_8ltRy99Y",
        "outputId": "ed9c1a20-4289-4031-cbc5-1a24cdc54b3e",
        "colab": {
          "base_uri": "https://localhost:8080/"
        }
      },
      "source": [
        "df.Year.value_counts()"
      ],
      "execution_count": 16,
      "outputs": [
        {
          "output_type": "execute_result",
          "data": {
            "text/plain": [
              "2012    2149\n",
              "2015    2009\n",
              "2013    2009\n",
              "2014    1983\n",
              "2008    1785\n",
              "2011    1697\n",
              "2007    1538\n",
              "2010    1511\n",
              "2009    1191\n",
              "2005    1138\n",
              "2006    1116\n",
              "2004     875\n",
              "Name: Year, dtype: int64"
            ]
          },
          "metadata": {},
          "execution_count": 16
        }
      ]
    },
    {
      "cell_type": "markdown",
      "metadata": {
        "id": "GU_VIiJAvnp5"
      },
      "source": [
        "Quality Issues\n",
        "- Missing values (NaN)\n",
        "- StartDate inconsistencies (ASAP, Immediate(ly), 'as soon as possible')\n",
        "- Nondescriptive columns headers (ApplicationP, AboutC, RequiredQual ... and also JobRequirment)\n",
        "\n",
        "Tidiness Issues\n",
        "- Duplicate reprezentation of year and month data.\n",
        "- Two types of observational units in this dataset (normalization issue) - jobposting data and company data (`AboutC`, i.e. `About Company`) are both related to `Company`.\n"
      ]
    },
    {
      "cell_type": "markdown",
      "metadata": {
        "id": "KPyYFQ4gbjWP"
      },
      "source": [
        "## Clean"
      ]
    },
    {
      "cell_type": "code",
      "metadata": {
        "id": "jzbwAWA9BEfo"
      },
      "source": [
        "df_clean = df.copy()"
      ],
      "execution_count": 17,
      "outputs": []
    },
    {
      "cell_type": "markdown",
      "metadata": {
        "id": "DVPaFsvUbjWQ"
      },
      "source": [
        "### Missing values\n",
        "We can't really do anything with the NaNs, because the job posting didn't have this stuff. Just make a mental note and be aware of these missing values when  coding because they can cause unintuitive results.\n",
        "\n",
        "### `StartDate` Inconsistencies\n",
        "#### Define\n",
        "Select all records in the `StartDate` column that have \"as soon as possible\", \"immidiately\", etc. and replace the text in those cells with \"ASAP\".\n",
        "\n",
        "#### Code"
      ]
    },
    {
      "cell_type": "code",
      "metadata": {
        "id": "fKNNmNyWhYGA"
      },
      "source": [
        "asap_list = ['Immediately', 'As soon as possible', 'Upon hiring',\n",
        "             'Immediate', 'Immediate employment', 'As soon as possible.', 'Immediate job opportunity',\n",
        "             '\"Immediate employment, after passing the interview.\"',\n",
        "             'ASAP preferred', 'Employment contract signature date',\n",
        "             'Immediate employment opportunity', 'Immidiately', 'ASA',\n",
        "             'Asap', '\"The position is open immediately but has a flexible start date depending on the candidates earliest availability.\"',\n",
        "             'Immediately upon agreement', '20 November 2014 or ASAP',\n",
        "             'immediately', 'Immediatelly',\n",
        "             '\"Immediately upon selection or no later than November 15, 2009.\"',\n",
        "             'Immediate job opening', 'Immediate hiring', 'Upon selection',\n",
        "             'As soon as practical', 'Immadiate', 'As soon as posible',\n",
        "             'Immediately with 2 months probation period',\n",
        "             '12 November 2012 or ASAP', 'Immediate employment after passing the interview',\n",
        "             'Immediately/ upon agreement', '01 September 2014 or ASAP',\n",
        "             'Immediately or as per agreement', 'as soon as possible',\n",
        "             'As soon as Possible', 'in the nearest future', 'immediate',\n",
        "             '01 April 2014 or ASAP', 'Immidiatly', 'Urgent',\n",
        "             'Immediate or earliest possible', 'Immediate hire',\n",
        "             'Earliest  possible', 'ASAP with 3 months probation period.',\n",
        "             'Immediate employment opportunity.', 'Immediate employment.',\n",
        "             'Immidietly', 'Imminent', 'September 2014 or ASAP', 'Imediately']"
      ],
      "execution_count": 22,
      "outputs": []
    },
    {
      "cell_type": "code",
      "metadata": {
        "collapsed": true,
        "id": "TR4fBf6TbjWR"
      },
      "source": [
        "for phrase in asap_list:\n",
        "  df_clean.replace(to_replace=phrase, value='ASAP', inplace=True)"
      ],
      "execution_count": 23,
      "outputs": []
    },
    {
      "cell_type": "markdown",
      "metadata": {
        "id": "_TAgHjTWbjWR"
      },
      "source": [
        "#### Test"
      ]
    },
    {
      "cell_type": "code",
      "metadata": {
        "collapsed": true,
        "colab": {
          "base_uri": "https://localhost:8080/"
        },
        "id": "wp8EwGA4bjWP",
        "outputId": "71e6b825-afd8-4a20-8e87-110f2877755a"
      },
      "source": [
        "df_clean.StartDate.value_counts()"
      ],
      "execution_count": 24,
      "outputs": [
        {
          "output_type": "execute_result",
          "data": {
            "text/plain": [
              "ASAP                   6856\n",
              "01 September 2012        31\n",
              "March 2006               27\n",
              "November 2006            22\n",
              "January 2010             19\n",
              "                       ... \n",
              "08 May 2006, 09:15.       1\n",
              "February                  1\n",
              "08 September 2011         1\n",
              "12 December 2004          1\n",
              "September 6               1\n",
              "Name: StartDate, Length: 1140, dtype: int64"
            ]
          },
          "metadata": {},
          "execution_count": 24
        }
      ]
    },
    {
      "cell_type": "code",
      "metadata": {
        "id": "mgVTsOLWGNb3"
      },
      "source": [
        "for phrase in asap_list:\n",
        "  assert phrase not in df_clean.StartDate.values"
      ],
      "execution_count": 25,
      "outputs": []
    },
    {
      "cell_type": "markdown",
      "metadata": {
        "id": "nYY_TsgO_kiJ"
      },
      "source": [
        "### Non-descriptive Column Headers\n",
        "#### Define\n",
        "Select all nondescriptive and misspeled column headers (ApplicationP, AboutC, RequiredQual, JobRequirment) and replace them with full words (ApplicationProcedure, AboutCompany, RequiredQualifications, JobRequirement).\n",
        "\n",
        "#### Code"
      ]
    },
    {
      "cell_type": "code",
      "metadata": {
        "id": "yhufoC0b_5iY"
      },
      "source": [
        "df_clean.rename(columns={'ApplicationP': 'ApplicationProcedure', \n",
        "                         'AboutC': 'AboutCompany', \n",
        "                         'RequiredQual': 'RequiredQualifications', \n",
        "                         'JobRequirment': 'JobRequirements'}, inplace=True)"
      ],
      "execution_count": 20,
      "outputs": []
    },
    {
      "cell_type": "markdown",
      "metadata": {
        "id": "TNLkrvEl_534"
      },
      "source": [
        "#### Test"
      ]
    },
    {
      "cell_type": "code",
      "metadata": {
        "id": "dCpd5oW0_7sI",
        "outputId": "a8156c3f-2cfe-4cf6-c033-521fc5e401ce",
        "colab": {
          "base_uri": "https://localhost:8080/"
        }
      },
      "source": [
        "df_clean.columns"
      ],
      "execution_count": 21,
      "outputs": [
        {
          "output_type": "execute_result",
          "data": {
            "text/plain": [
              "Index(['jobpost', 'date', 'Title', 'Company', 'AnnouncementCode', 'Term',\n",
              "       'Eligibility', 'Audience', 'StartDate', 'Duration', 'Location',\n",
              "       'JobDescription', 'JobRequirement', 'RequiredQualifications', 'Salary',\n",
              "       'ApplicationProcedure', 'OpeningDate', 'Deadline', 'Notes',\n",
              "       'AboutCompany', 'Attach', 'Year', 'Month', 'IT'],\n",
              "      dtype='object')"
            ]
          },
          "metadata": {},
          "execution_count": 21
        }
      ]
    },
    {
      "cell_type": "markdown",
      "metadata": {
        "id": "kKbk5fekJHpt"
      },
      "source": [
        "## Analysis & Visualization"
      ]
    },
    {
      "cell_type": "code",
      "metadata": {
        "id": "DwDaDhtbCS9o",
        "outputId": "f4da7f2f-748b-43b7-96dd-f8a3adc8151e",
        "colab": {
          "base_uri": "https://localhost:8080/"
        }
      },
      "source": [
        "# Number of 'ASAP' start dates (numerator)\n",
        "asap_counts = df_clean.StartDate.value_counts()['ASAP']\n",
        "asap_counts"
      ],
      "execution_count": 26,
      "outputs": [
        {
          "output_type": "execute_result",
          "data": {
            "text/plain": [
              "6856"
            ]
          },
          "metadata": {},
          "execution_count": 26
        }
      ]
    },
    {
      "cell_type": "code",
      "metadata": {
        "id": "K8LSMitNJu2V",
        "outputId": "a4e4f1d1-bdce-4942-d9d6-f36b822f1ff1",
        "colab": {
          "base_uri": "https://localhost:8080/"
        }
      },
      "source": [
        "# Number of non-empty start dates (denominator)\n",
        "non_empty_counts = df_clean.StartDate.count()\n",
        "non_empty_counts"
      ],
      "execution_count": 27,
      "outputs": [
        {
          "output_type": "execute_result",
          "data": {
            "text/plain": [
              "9675"
            ]
          },
          "metadata": {},
          "execution_count": 27
        }
      ]
    },
    {
      "cell_type": "code",
      "metadata": {
        "id": "ZAg8wE7EKGV9",
        "outputId": "e8f736ac-6839-4151-ad55-8912e4da7729",
        "colab": {
          "base_uri": "https://localhost:8080/"
        }
      },
      "source": [
        "# Percentage of positions with an urgent start date i.e. 'ASAP'\n",
        "asap_counts / non_empty_counts"
      ],
      "execution_count": 28,
      "outputs": [
        {
          "output_type": "execute_result",
          "data": {
            "text/plain": [
              "0.7086304909560723"
            ]
          },
          "metadata": {},
          "execution_count": 28
        }
      ]
    },
    {
      "cell_type": "code",
      "metadata": {
        "id": "5Nu1nq9CKJJM",
        "outputId": "af773030-e956-472d-a3a9-2518c1b2457c",
        "colab": {
          "base_uri": "https://localhost:8080/",
          "height": 247
        }
      },
      "source": [
        "%matplotlib inline\n",
        "import numpy as np\n",
        "labels = np.full(len(df_clean.StartDate.value_counts()), \"\", dtype=object)\n",
        "labels[0] = 'ASAP'\n",
        "df_clean.StartDate.value_counts().plot(kind=\"pie\", labels=labels);"
      ],
      "execution_count": 31,
      "outputs": [
        {
          "output_type": "display_data",
          "data": {
            "image/png": "[encoded data removed]",
            "text/plain": [
              "<Figure size 432x288 with 1 Axes>"
            ]
          },
          "metadata": {}
        }
      ]
    },
    {
      "cell_type": "code",
      "metadata": {
        "id": "2LmRQN6uLTf0",
        "outputId": "4a94071c-df74-4ad2-fd01-16e11527102c",
        "colab": {
          "base_uri": "https://localhost:8080/"
        }
      },
      "source": [
        "# Number of 'ASAP' start dates in original dataset (numerator)\n",
        "asap_counts = df.StartDate.value_counts()['ASAP']\n",
        "# Percentage of positions with an urgent start date i.e. 'ASAP' in original dataset\n",
        "asap_counts / non_empty_counts"
      ],
      "execution_count": 32,
      "outputs": [
        {
          "output_type": "execute_result",
          "data": {
            "text/plain": [
              "0.4913695090439276"
            ]
          },
          "metadata": {},
          "execution_count": 32
        }
      ]
    },
    {
      "cell_type": "code",
      "metadata": {
        "id": "FwxoFWUSKqOb",
        "outputId": "306935df-1863-48d3-ccab-ca511f9d9b3b",
        "colab": {
          "base_uri": "https://localhost:8080/",
          "height": 247
        }
      },
      "source": [
        "%matplotlib inline\n",
        "import numpy as np\n",
        "labels = np.full(len(df.StartDate.value_counts()), \"\", dtype=object)\n",
        "labels[0] = 'ASAP'\n",
        "df.StartDate.value_counts().plot(kind=\"pie\", labels=labels);"
      ],
      "execution_count": 30,
      "outputs": [
        {
          "output_type": "display_data",
          "data": {
            "image/png": "[encoded data removed]",
            "text/plain": [
              "<Figure size 432x288 with 1 Axes>"
            ]
          },
          "metadata": {}
        }
      ]
    },
    {
      "cell_type": "code",
      "metadata": {
        "id": "6uPuOYRPKy6V"
      },
      "source": [
        ""
      ],
      "execution_count": null,
      "outputs": []
    }
  ]
}