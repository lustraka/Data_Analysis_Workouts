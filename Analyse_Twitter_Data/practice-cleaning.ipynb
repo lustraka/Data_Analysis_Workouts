{
  "nbformat": 4,
  "nbformat_minor": 0,
  "metadata": {
    "kernelspec": {
      "display_name": "Python 3",
      "language": "python",
      "name": "python3"
    },
    "language_info": {
      "codemirror_mode": {
        "name": "ipython",
        "version": 3
      },
      "file_extension": ".py",
      "mimetype": "text/x-python",
      "name": "python",
      "nbconvert_exporter": "python",
      "pygments_lexer": "ipython3",
      "version": "3.6.3"
    },
    "colab": {
      "name": "practice-cleaning.ipynb",
      "provenance": [],
      "include_colab_link": true
    }
  },
  "cells": [
    {
      "cell_type": "markdown",
      "metadata": {
        "id": "view-in-github",
        "colab_type": "text"
      },
      "source": [
        "<a href=\"https://colab.research.google.com/github/lustraka/Data_Analysis_Workouts/blob/main/Analyse_Twitter_Data/practice-cleaning.ipynb\" target=\"_parent\"><img src=\"https://colab.research.google.com/assets/colab-badge.svg\" alt=\"Open In Colab\"/></a>"
      ]
    },
    {
      "cell_type": "markdown",
      "metadata": {
        "id": "-U5r75L12qEo"
      },
      "source": [
        "# Oral Insulin Phase II Clinical Trial Data\n",
        "\n",
        "This project looks at the phase two clinical data of 350 patients for a new innovative oral insulin called Auralin - a proprietary capsule that can solve the stomach lining problem.\n",
        "\n",
        "Phase two trials are intended to:\n",
        "- Test the efficacy and the dose response of a drug\n",
        "- Idenitify adverse reactions\n",
        "\n",
        "In this trial, half of the patients are being treated with Auralin, and the other 175 being treated with a popular injectable insulin called Novodra. By comparing key metrics between these two drugs, we can determine if Auralin is effective.\n",
        "\n",
        "*DISCLAIMER: This data isn't real. It was fabricated for the sake of this project.*"
      ]
    },
    {
      "cell_type": "markdown",
      "metadata": {
        "id": "-F9OnwID2qEr"
      },
      "source": [
        "## Gather\n",
        "This Auralin Phase II clinical trial dataset comes in three tables: `patients`, `treatments`, and `adverse_reactions`."
      ]
    },
    {
      "cell_type": "code",
      "metadata": {
        "collapsed": true,
        "id": "wvbT_ywF2qEr"
      },
      "source": [
        "import pandas as pd\n",
        "import numpy as np\n",
        "path = 'https://raw.githubusercontent.com/lustraka/Data_Analysis_Workouts/main/Analyse_Twitter_Data/data/'"
      ],
      "execution_count": null,
      "outputs": []
    },
    {
      "cell_type": "code",
      "metadata": {
        "id": "yZcxjqFi24vd"
      },
      "source": [
        "patients = pd.read_csv(path + 'patients.csv')\n",
        "treatments = pd.read_csv(path + 'treatments.csv')\n",
        "adverse_reactions = pd.read_csv(path + 'adverse_reactions.csv')"
      ],
      "execution_count": null,
      "outputs": []
    },
    {
      "cell_type": "markdown",
      "metadata": {
        "id": "UK-D-yUq2qEs"
      },
      "source": [
        "## Assess\n",
        "(For details see [practice-assessing.ipynb](https://github.com/lustraka/Data_Analysis_Workouts/blob/main/Analyse_Twitter_Data/practice-assessing.ipynb).)\n",
        "### Quality Issues\n",
        "#### `patients`\n",
        "- ZIP code is float not a string\n",
        "- ZIP code has four digits sometimes\n",
        "- Tim Neudorf height is 27 in instead of 72 in\n",
        "- Full state names sometimes, abbreviations other times\n",
        "- The *given_name* for the patient with the *patient_id* 9 is Dsvid instead of David\n",
        "- Missing demographic information (address - contact columns)\n",
        "- Erroneous datatypes (assigned_sex, state, zip_code, and birthdate columns)\n",
        "- Multiple phone number formats\n",
        "- Default John Doe data\n",
        "- Multiple records for Jakobsen, Gersten, Taylor\n",
        "- 48.8 kgs instead of lbs for Zaitseva weight\n",
        "\n",
        "#### `treatments`\n",
        "- Missing HbA1c changes\n",
        "- The letter 'u' next to the start dose and end dose in the *auralin* and *novodra* columns\n",
        "- Lowercase given names and surnames\n",
        "- Missing records (280 instead of 350)\n",
        "- Erroneous datatypes (auralin and novodra columns)\n",
        "- Inaccurate HbA1c changes (4s mistaken as 9s)\n",
        "- Nulls represented as dashes in auralin and novodra columns\n",
        "\n",
        "#### `adverse_reactions`\n",
        "- Lowercase given names and surnames\n",
        "\n",
        "### Tidiness Issues\n",
        "#### `patients`\n",
        "- The contact column should be split into phone number and e-mail.\n",
        "\n",
        "#### `treatments`\n",
        "- Three variables in two columns (treatment, start dose, and end dose)\n",
        "\n",
        "#### `adverse_reactions`\n",
        "- The `adverse_reactions` table should be part of `treatments` table."
      ]
    },
    {
      "cell_type": "markdown",
      "metadata": {
        "id": "MMJcesAn2qEs"
      },
      "source": [
        "## Clean"
      ]
    },
    {
      "cell_type": "markdown",
      "metadata": {
        "id": "mlmh5j-H2qEs"
      },
      "source": [
        "#### Define"
      ]
    },
    {
      "cell_type": "markdown",
      "metadata": {
        "id": "v7JKXojD2qEt"
      },
      "source": [
        "#### Code"
      ]
    },
    {
      "cell_type": "code",
      "metadata": {
        "collapsed": true,
        "id": "EqGlPZQn2qEt"
      },
      "source": [
        ""
      ],
      "execution_count": null,
      "outputs": []
    },
    {
      "cell_type": "code",
      "metadata": {
        "collapsed": true,
        "id": "-XPUS7kl2qEs"
      },
      "source": [
        ""
      ],
      "execution_count": null,
      "outputs": []
    },
    {
      "cell_type": "markdown",
      "metadata": {
        "id": "fdCF73vu2qEu"
      },
      "source": [
        "#### Test"
      ]
    },
    {
      "cell_type": "code",
      "metadata": {
        "collapsed": true,
        "id": "lzdPCneM2qEu"
      },
      "source": [
        ""
      ],
      "execution_count": null,
      "outputs": []
    }
  ]
}