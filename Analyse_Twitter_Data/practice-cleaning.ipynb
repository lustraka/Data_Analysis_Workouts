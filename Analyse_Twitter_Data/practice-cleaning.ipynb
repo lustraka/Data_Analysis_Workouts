{
  "nbformat": 4,
  "nbformat_minor": 0,
  "metadata": {
    "kernelspec": {
      "display_name": "Python 3",
      "language": "python",
      "name": "python3"
    },
    "language_info": {
      "codemirror_mode": {
        "name": "ipython",
        "version": 3
      },
      "file_extension": ".py",
      "mimetype": "text/x-python",
      "name": "python",
      "nbconvert_exporter": "python",
      "pygments_lexer": "ipython3",
      "version": "3.6.3"
    },
    "colab": {
      "name": "practice-cleaning.ipynb",
      "provenance": [],
      "include_colab_link": true
    }
  },
  "cells": [
    {
      "cell_type": "markdown",
      "metadata": {
        "id": "view-in-github",
        "colab_type": "text"
      },
      "source": [
        "<a href=\"https://colab.research.google.com/github/lustraka/Data_Analysis_Workouts/blob/main/Analyse_Twitter_Data/practice-cleaning.ipynb\" target=\"_parent\"><img src=\"https://colab.research.google.com/assets/colab-badge.svg\" alt=\"Open In Colab\"/></a>"
      ]
    },
    {
      "cell_type": "markdown",
      "metadata": {
        "id": "-U5r75L12qEo"
      },
      "source": [
        "# Oral Insulin Phase II Clinical Trial Data\n",
        "\n",
        "This project looks at the phase two clinical data of 350 patients for a new innovative oral insulin called Auralin - a proprietary capsule that can solve the stomach lining problem.\n",
        "\n",
        "Phase two trials are intended to:\n",
        "- Test the efficacy and the dose response of a drug\n",
        "- Idenitify adverse reactions\n",
        "\n",
        "In this trial, half of the patients are being treated with Auralin, and the other 175 being treated with a popular injectable insulin called Novodra. By comparing key metrics between these two drugs, we can determine if Auralin is effective.\n",
        "\n",
        "*DISCLAIMER: This data isn't real. It was fabricated for the sake of this project.*"
      ]
    },
    {
      "cell_type": "markdown",
      "metadata": {
        "id": "-F9OnwID2qEr"
      },
      "source": [
        "## Gather\n",
        "This Auralin Phase II clinical trial dataset comes in three tables: `patients`, `treatments`, and `adverse_reactions`."
      ]
    },
    {
      "cell_type": "code",
      "metadata": {
        "collapsed": true,
        "id": "wvbT_ywF2qEr"
      },
      "source": [
        "import pandas as pd\n",
        "import numpy as np\n",
        "path = 'https://raw.githubusercontent.com/lustraka/Data_Analysis_Workouts/main/Analyse_Twitter_Data/data/'"
      ],
      "execution_count": 1,
      "outputs": []
    },
    {
      "cell_type": "code",
      "metadata": {
        "id": "yZcxjqFi24vd"
      },
      "source": [
        "patients = pd.read_csv(path + 'patients.csv')\n",
        "treatments = pd.read_csv(path + 'treatments.csv')\n",
        "adverse_reactions = pd.read_csv(path + 'adverse_reactions.csv')"
      ],
      "execution_count": 2,
      "outputs": []
    },
    {
      "cell_type": "markdown",
      "metadata": {
        "id": "UK-D-yUq2qEs"
      },
      "source": [
        "## Assess\n",
        "(For details see [practice-assessing.ipynb](https://github.com/lustraka/Data_Analysis_Workouts/blob/main/Analyse_Twitter_Data/practice-assessing.ipynb).)\n",
        "### Quality Issues\n",
        "#### `patients`\n",
        "- ZIP code is float not a string\n",
        "- ZIP code has four digits sometimes\n",
        "- Tim Neudorf height is 27 in instead of 72 in\n",
        "- Full state names sometimes, abbreviations other times\n",
        "- The *given_name* for the patient with the *patient_id* 9 is Dsvid instead of David\n",
        "- Missing demographic information (address - contact columns)\n",
        "- Erroneous datatypes (assigned_sex, state, zip_code, and birthdate columns)\n",
        "- Multiple phone number formats\n",
        "- Default John Doe data\n",
        "- Multiple records for Jakobsen, Gersten, Taylor\n",
        "- 48.8 kgs instead of lbs for Zaitseva weight\n",
        "\n",
        "#### `treatments`\n",
        "- Missing HbA1c changes\n",
        "- The letter 'u' next to the start dose and end dose in the *auralin* and *novodra* columns\n",
        "- Lowercase given names and surnames\n",
        "- Missing records (280 instead of 350)\n",
        "- Erroneous datatypes (auralin and novodra columns)\n",
        "- Inaccurate HbA1c changes (4s mistaken as 9s)\n",
        "- Nulls represented as dashes in auralin and novodra columns\n",
        "\n",
        "#### `adverse_reactions`\n",
        "- Lowercase given names and surnames\n",
        "\n",
        "### Tidiness Issues\n",
        "- The contact column in `patients` table should be split into phone number and e-mail.\n",
        "- Three variables in two columns in `treatments` table (treatment, start dose, and end dose)\n",
        "- The `adverse_reactions` table should be part of `treatments` table.\n",
        "- Given name and surname columns in `patients` table duplicated in `treatments` and `adverse_reactions` tables\n"
      ]
    },
    {
      "cell_type": "markdown",
      "metadata": {
        "id": "MMJcesAn2qEs"
      },
      "source": [
        "## Clean"
      ]
    },
    {
      "cell_type": "code",
      "metadata": {
        "id": "uhkz69nziysr"
      },
      "source": [
        "patients_clean = patients.copy()\n",
        "treatments_clean = treatments.copy()\n",
        "adverse_reactions_clean = adverse_reactions.copy()"
      ],
      "execution_count": 3,
      "outputs": []
    },
    {
      "cell_type": "markdown",
      "metadata": {
        "id": "mlmh5j-H2qEs"
      },
      "source": [
        "### Missing data\n",
        "#### `treatments` Missing records (280 instead of 350)\n",
        "##### Define\n",
        "Concatenate missing `treatments` records that are stored in a file named `treatments_cut.csv`.\n",
        "\n",
        "Reference: \n",
        "- [pd.concat](https://pandas.pydata.org/pandas-docs/stable/generated/pandas.concat.html) for the function used in the solution.\n",
        "\n",
        "##### Code"
      ]
    },
    {
      "cell_type": "code",
      "metadata": {
        "collapsed": true,
        "id": "EqGlPZQn2qEt"
      },
      "source": [
        "# Read  missing records\n",
        "treatments_missing = pd.read_csv(path + 'treatments_cut.csv')\n",
        "# Concatenate dataframes\n",
        "treatments_clean = pd.concat([treatments_clean, treatments_missing], ignore_index=True)"
      ],
      "execution_count": 4,
      "outputs": []
    },
    {
      "cell_type": "markdown",
      "metadata": {
        "id": "fdCF73vu2qEu"
      },
      "source": [
        "#### Test"
      ]
    },
    {
      "cell_type": "code",
      "metadata": {
        "collapsed": true,
        "id": "lzdPCneM2qEu",
        "outputId": "5b5e85d7-ec89-4324-924a-4f87c46a92f3",
        "colab": {
          "base_uri": "https://localhost:8080/"
        }
      },
      "source": [
        "# Check shape\n",
        "treatments_clean.shape"
      ],
      "execution_count": 5,
      "outputs": [
        {
          "output_type": "execute_result",
          "data": {
            "text/plain": [
              "(350, 7)"
            ]
          },
          "metadata": {},
          "execution_count": 5
        }
      ]
    },
    {
      "cell_type": "markdown",
      "metadata": {
        "id": "lt2ciDjzjn6a"
      },
      "source": [
        "#### `treatments`: Missing HbA1c changes and Inaccurate HbA1c changes (leading 4s mistaken as 9s)\n",
        "\n",
        "##### Define\n",
        "Recompute hba1c_change = hba1c_end - hba1c_start\n",
        "\n",
        "##### Code"
      ]
    },
    {
      "cell_type": "code",
      "metadata": {
        "collapsed": true,
        "id": "-XPUS7kl2qEs"
      },
      "source": [
        "# Recompute change = start - end\n",
        "treatments_clean.hba1c_change = treatments_clean.hba1c_start - treatments_clean.hba1c_end"
      ],
      "execution_count": 6,
      "outputs": []
    },
    {
      "cell_type": "markdown",
      "metadata": {
        "id": "7ZdZasJdkrcO"
      },
      "source": [
        "##### Test"
      ]
    },
    {
      "cell_type": "code",
      "metadata": {
        "id": "JOZYasEKkzp0"
      },
      "source": [
        "assert treatments_clean.loc[treatments_clean.hba1c_change == treatments_clean.hba1c_end - treatments_clean.hba1c_start].all().all()"
      ],
      "execution_count": 7,
      "outputs": []
    },
    {
      "cell_type": "markdown",
      "metadata": {
        "id": "J85UhrJ8kFeX"
      },
      "source": [
        "### Tideness\n",
        "#### Contact column in `patients` table contains two variables: phone number and e-mail\n",
        "##### Define\n",
        "\n",
        "References:\n",
        "- Use regular expressions with pandas' [`str.extract` method](https://pandas.pydata.org/pandas-docs/stable/generated/pandas.Series.str.extract.html)\n",
        "- Here is an amazing [regex tutorial](https://regexone.com/)\n",
        "- [Various phone number regex patterns](https://stackoverflow.com/questions/16699007/regular-expression-to-match-standard-10-digit-phone-number)\n",
        "- [E-mail address regex pattern](http://emailregex.com/), which you might need to modify to distinguish the email from the phone number.\n",
        "\n",
        "##### Code\n"
      ]
    },
    {
      "cell_type": "code",
      "metadata": {
        "id": "By8p8igRkNHf"
      },
      "source": [
        "# Extract phone numbers\n",
        "patients_clean['phone_number'] = patients_clean.contact.str.extract('((?:\\+\\d{1,2}\\s)?\\(?\\d{3}\\)?[\\s.-]?\\d{3}[\\s.-]?\\d{4})')\n",
        "\n",
        "# [a-zA-Z] to signify emails in this dataset all start and end with letters\n",
        "patients_clean['email'] = patients_clean.contact.str.extract('([a-zA-Z][a-zA-Z0-9_.+-]+@[a-zA-Z0-9-]+\\.[a-zA-Z0-9-.]+[a-zA-Z])', expand=True)\n",
        "\n",
        "# Drop the original contact column\n",
        "patients_clean = patients_clean.drop('contact', axis=1)"
      ],
      "execution_count": 8,
      "outputs": []
    },
    {
      "cell_type": "markdown",
      "metadata": {
        "id": "2wpIdFekkNX_"
      },
      "source": [
        "##### Test"
      ]
    },
    {
      "cell_type": "code",
      "metadata": {
        "id": "xQGPvvo8qxqw",
        "outputId": "29b58167-571c-4102-ce19-c34c40c9f049",
        "colab": {
          "base_uri": "https://localhost:8080/"
        }
      },
      "source": [
        "patients_clean.info()"
      ],
      "execution_count": 9,
      "outputs": [
        {
          "output_type": "stream",
          "name": "stdout",
          "text": [
            "<class 'pandas.core.frame.DataFrame'>\n",
            "RangeIndex: 503 entries, 0 to 502\n",
            "Data columns (total 15 columns):\n",
            " #   Column        Non-Null Count  Dtype  \n",
            "---  ------        --------------  -----  \n",
            " 0   patient_id    503 non-null    int64  \n",
            " 1   assigned_sex  503 non-null    object \n",
            " 2   given_name    503 non-null    object \n",
            " 3   surname       503 non-null    object \n",
            " 4   address       491 non-null    object \n",
            " 5   city          491 non-null    object \n",
            " 6   state         491 non-null    object \n",
            " 7   zip_code      491 non-null    float64\n",
            " 8   country       491 non-null    object \n",
            " 9   birthdate     503 non-null    object \n",
            " 10  weight        503 non-null    float64\n",
            " 11  height        503 non-null    int64  \n",
            " 12  bmi           503 non-null    float64\n",
            " 13  phone_number  491 non-null    object \n",
            " 14  email         491 non-null    object \n",
            "dtypes: float64(3), int64(2), object(10)\n",
            "memory usage: 59.1+ KB\n"
          ]
        }
      ]
    },
    {
      "cell_type": "code",
      "metadata": {
        "id": "V4LH-t5i1eu4",
        "outputId": "05c592fe-3f20-4426-fef3-6aa2645f2e4e",
        "colab": {
          "base_uri": "https://localhost:8080/"
        }
      },
      "source": [
        "patients_clean.phone_number.sample(25)"
      ],
      "execution_count": 10,
      "outputs": [
        {
          "output_type": "execute_result",
          "data": {
            "text/plain": [
              "471         503-417-1995\n",
              "202         503-820-7877\n",
              "248         308-496-7837\n",
              "41          320-826-3340\n",
              "332         615 755 8235\n",
              "101         417-738-5084\n",
              "220    +1 (707) 896-9250\n",
              "120         415-676-8818\n",
              "371    +1 (908) 287-7099\n",
              "15          276-225-1955\n",
              "282         304-438-2648\n",
              "141         903-644-2098\n",
              "188         212 201 3108\n",
              "27          985-814-7603\n",
              "212         704-805-5094\n",
              "493    +1 (208) 388-1065\n",
              "18          406-775-2696\n",
              "372         618-346-3914\n",
              "136         714-507-4204\n",
              "207         989-936-4563\n",
              "324         202-238-2247\n",
              "162         916-555-7247\n",
              "322         254-546-2728\n",
              "500         816-223-6007\n",
              "491         210-222-8684\n",
              "Name: phone_number, dtype: object"
            ]
          },
          "metadata": {},
          "execution_count": 10
        }
      ]
    },
    {
      "cell_type": "code",
      "metadata": {
        "id": "pue-OUFh1hXH",
        "outputId": "de9ac74f-59f0-454d-9210-fb4617c0368a",
        "colab": {
          "base_uri": "https://localhost:8080/"
        }
      },
      "source": [
        "# Confirm that no emails start with an integer (regex didn't match for this)\n",
        "patients_clean.email.sort_values().head()"
      ],
      "execution_count": 11,
      "outputs": [
        {
          "output_type": "execute_result",
          "data": {
            "text/plain": [
              "404               AaliyahRice@dayrep.com\n",
              "11          Abdul-NurMummarIsa@rhyta.com\n",
              "332                AbelEfrem@fleckens.hu\n",
              "258              AbelYonatan@teleworm.us\n",
              "305    AddolorataLombardi@jourrapide.com\n",
              "Name: email, dtype: object"
            ]
          },
          "metadata": {},
          "execution_count": 11
        }
      ]
    },
    {
      "cell_type": "markdown",
      "metadata": {
        "id": "Ro2mNiH-kmbd"
      },
      "source": [
        "#### Three variables in two columns in `treatments` table (treatment, start dose and end dose)\n",
        "##### Define\n",
        "\n",
        "To reshape columns (auralin, novodra) $\\to$ (treatment, start_dose, end_dose) \n",
        "- Melt the auralin and novodra columns to a treatment and a dose column (dose will still contain both start and end dose at this point). \n",
        "- Then split the dose column on ' - ' to obtain start_dose and end_dose columns. \n",
        "- Drop the intermediate dose column.\n",
        "\n",
        "References:\n",
        "- Use pandas' [melt function](https://pandas.pydata.org/pandas-docs/stable/generated/pandas.melt.html) and [`str.split()` method](https://pandas.pydata.org/pandas-docs/stable/generated/pandas.Series.str.split.html). \n",
        "- Here is an excellent [`melt` tutorial](https://deparkes.co.uk/2016/10/28/reshape-pandas-data-with-melt/).\n",
        "\n",
        "##### Code\n"
      ]
    },
    {
      "cell_type": "code",
      "metadata": {
        "id": "ScGcXretkmbe",
        "outputId": "07fdb84c-bba8-4f01-ffb0-759b88bd42c1",
        "colab": {
          "base_uri": "https://localhost:8080/"
        }
      },
      "source": [
        "treatments_clean = treatments_clean.melt(id_vars=['given_name', 'surname', 'hba1c_start', 'hba1c_end', 'hba1c_change'], var_name='treatment', value_name='dose').query('dose != \"-\"')\n",
        "treatments_clean['dose_start'], treatments_clean['dose_end'] = treatments_clean.dose.str.split(' - ', 1).str\n",
        "treatments_clean = treatments_clean.drop('dose', axis=1) # OR treats_new.drop(columns='dose')"
      ],
      "execution_count": 12,
      "outputs": [
        {
          "output_type": "stream",
          "name": "stderr",
          "text": [
            "/usr/local/lib/python3.7/dist-packages/ipykernel_launcher.py:2: FutureWarning: Columnar iteration over characters will be deprecated in future releases.\n",
            "  \n"
          ]
        }
      ]
    },
    {
      "cell_type": "markdown",
      "metadata": {
        "id": "izLE4ndNkmbe"
      },
      "source": [
        "##### Test"
      ]
    },
    {
      "cell_type": "code",
      "metadata": {
        "id": "G3Ld5TMRyc4h",
        "outputId": "7990a398-1a8c-42fd-d80a-c11f33c32495",
        "colab": {
          "base_uri": "https://localhost:8080/",
          "height": 202
        }
      },
      "source": [
        "treatments_clean.head()"
      ],
      "execution_count": 13,
      "outputs": [
        {
          "output_type": "execute_result",
          "data": {
            "text/html": [
              "<div>\n",
              "<style scoped>\n",
              "    .dataframe tbody tr th:only-of-type {\n",
              "        vertical-align: middle;\n",
              "    }\n",
              "\n",
              "    .dataframe tbody tr th {\n",
              "        vertical-align: top;\n",
              "    }\n",
              "\n",
              "    .dataframe thead th {\n",
              "        text-align: right;\n",
              "    }\n",
              "</style>\n",
              "<table border=\"1\" class=\"dataframe\">\n",
              "  <thead>\n",
              "    <tr style=\"text-align: right;\">\n",
              "      <th></th>\n",
              "      <th>given_name</th>\n",
              "      <th>surname</th>\n",
              "      <th>hba1c_start</th>\n",
              "      <th>hba1c_end</th>\n",
              "      <th>hba1c_change</th>\n",
              "      <th>treatment</th>\n",
              "      <th>dose_start</th>\n",
              "      <th>dose_end</th>\n",
              "    </tr>\n",
              "  </thead>\n",
              "  <tbody>\n",
              "    <tr>\n",
              "      <th>0</th>\n",
              "      <td>veronika</td>\n",
              "      <td>jindrová</td>\n",
              "      <td>7.63</td>\n",
              "      <td>7.20</td>\n",
              "      <td>0.43</td>\n",
              "      <td>auralin</td>\n",
              "      <td>41u</td>\n",
              "      <td>48u</td>\n",
              "    </tr>\n",
              "    <tr>\n",
              "      <th>3</th>\n",
              "      <td>skye</td>\n",
              "      <td>gormanston</td>\n",
              "      <td>7.97</td>\n",
              "      <td>7.62</td>\n",
              "      <td>0.35</td>\n",
              "      <td>auralin</td>\n",
              "      <td>33u</td>\n",
              "      <td>36u</td>\n",
              "    </tr>\n",
              "    <tr>\n",
              "      <th>6</th>\n",
              "      <td>sophia</td>\n",
              "      <td>haugen</td>\n",
              "      <td>7.65</td>\n",
              "      <td>7.27</td>\n",
              "      <td>0.38</td>\n",
              "      <td>auralin</td>\n",
              "      <td>37u</td>\n",
              "      <td>42u</td>\n",
              "    </tr>\n",
              "    <tr>\n",
              "      <th>7</th>\n",
              "      <td>eddie</td>\n",
              "      <td>archer</td>\n",
              "      <td>7.89</td>\n",
              "      <td>7.55</td>\n",
              "      <td>0.34</td>\n",
              "      <td>auralin</td>\n",
              "      <td>31u</td>\n",
              "      <td>38u</td>\n",
              "    </tr>\n",
              "    <tr>\n",
              "      <th>9</th>\n",
              "      <td>asia</td>\n",
              "      <td>woźniak</td>\n",
              "      <td>7.76</td>\n",
              "      <td>7.37</td>\n",
              "      <td>0.39</td>\n",
              "      <td>auralin</td>\n",
              "      <td>30u</td>\n",
              "      <td>36u</td>\n",
              "    </tr>\n",
              "  </tbody>\n",
              "</table>\n",
              "</div>"
            ],
            "text/plain": [
              "  given_name     surname  hba1c_start  ...  treatment  dose_start dose_end\n",
              "0   veronika    jindrová         7.63  ...    auralin         41u      48u\n",
              "3       skye  gormanston         7.97  ...    auralin         33u      36u\n",
              "6     sophia      haugen         7.65  ...    auralin         37u      42u\n",
              "7      eddie      archer         7.89  ...    auralin         31u      38u\n",
              "9       asia     woźniak         7.76  ...    auralin         30u      36u\n",
              "\n",
              "[5 rows x 8 columns]"
            ]
          },
          "metadata": {},
          "execution_count": 13
        }
      ]
    },
    {
      "cell_type": "markdown",
      "metadata": {
        "id": "EtLCkLqxknBF"
      },
      "source": [
        "####  Adverse reaction should be part of the `treatments` table\n",
        "##### Define\n",
        "\n",
        "##### Code\n",
        "Merge the *adverse_reaction* column to the `treatments` table, joining on *given name* and *surname*."
      ]
    },
    {
      "cell_type": "code",
      "metadata": {
        "id": "xZDYhZbNknBF"
      },
      "source": [
        "treatments_clean = pd.merge(treatments_clean, adverse_reactions_clean, on=['given_name', 'surname'], how='left')"
      ],
      "execution_count": 14,
      "outputs": []
    },
    {
      "cell_type": "markdown",
      "metadata": {
        "id": "q9PYmCB4knBG"
      },
      "source": [
        "##### Test"
      ]
    },
    {
      "cell_type": "code",
      "metadata": {
        "id": "cRLb46Wj4WCT",
        "outputId": "3d87f55a-b718-4371-d04f-e7bdf8678f3e",
        "colab": {
          "base_uri": "https://localhost:8080/",
          "height": 414
        }
      },
      "source": [
        "treatments_clean"
      ],
      "execution_count": 15,
      "outputs": [
        {
          "output_type": "execute_result",
          "data": {
            "text/html": [
              "<div>\n",
              "<style scoped>\n",
              "    .dataframe tbody tr th:only-of-type {\n",
              "        vertical-align: middle;\n",
              "    }\n",
              "\n",
              "    .dataframe tbody tr th {\n",
              "        vertical-align: top;\n",
              "    }\n",
              "\n",
              "    .dataframe thead th {\n",
              "        text-align: right;\n",
              "    }\n",
              "</style>\n",
              "<table border=\"1\" class=\"dataframe\">\n",
              "  <thead>\n",
              "    <tr style=\"text-align: right;\">\n",
              "      <th></th>\n",
              "      <th>given_name</th>\n",
              "      <th>surname</th>\n",
              "      <th>hba1c_start</th>\n",
              "      <th>hba1c_end</th>\n",
              "      <th>hba1c_change</th>\n",
              "      <th>treatment</th>\n",
              "      <th>dose_start</th>\n",
              "      <th>dose_end</th>\n",
              "      <th>adverse_reaction</th>\n",
              "    </tr>\n",
              "  </thead>\n",
              "  <tbody>\n",
              "    <tr>\n",
              "      <th>0</th>\n",
              "      <td>veronika</td>\n",
              "      <td>jindrová</td>\n",
              "      <td>7.63</td>\n",
              "      <td>7.20</td>\n",
              "      <td>0.43</td>\n",
              "      <td>auralin</td>\n",
              "      <td>41u</td>\n",
              "      <td>48u</td>\n",
              "      <td>NaN</td>\n",
              "    </tr>\n",
              "    <tr>\n",
              "      <th>1</th>\n",
              "      <td>skye</td>\n",
              "      <td>gormanston</td>\n",
              "      <td>7.97</td>\n",
              "      <td>7.62</td>\n",
              "      <td>0.35</td>\n",
              "      <td>auralin</td>\n",
              "      <td>33u</td>\n",
              "      <td>36u</td>\n",
              "      <td>NaN</td>\n",
              "    </tr>\n",
              "    <tr>\n",
              "      <th>2</th>\n",
              "      <td>sophia</td>\n",
              "      <td>haugen</td>\n",
              "      <td>7.65</td>\n",
              "      <td>7.27</td>\n",
              "      <td>0.38</td>\n",
              "      <td>auralin</td>\n",
              "      <td>37u</td>\n",
              "      <td>42u</td>\n",
              "      <td>NaN</td>\n",
              "    </tr>\n",
              "    <tr>\n",
              "      <th>3</th>\n",
              "      <td>eddie</td>\n",
              "      <td>archer</td>\n",
              "      <td>7.89</td>\n",
              "      <td>7.55</td>\n",
              "      <td>0.34</td>\n",
              "      <td>auralin</td>\n",
              "      <td>31u</td>\n",
              "      <td>38u</td>\n",
              "      <td>NaN</td>\n",
              "    </tr>\n",
              "    <tr>\n",
              "      <th>4</th>\n",
              "      <td>asia</td>\n",
              "      <td>woźniak</td>\n",
              "      <td>7.76</td>\n",
              "      <td>7.37</td>\n",
              "      <td>0.39</td>\n",
              "      <td>auralin</td>\n",
              "      <td>30u</td>\n",
              "      <td>36u</td>\n",
              "      <td>NaN</td>\n",
              "    </tr>\n",
              "    <tr>\n",
              "      <th>...</th>\n",
              "      <td>...</td>\n",
              "      <td>...</td>\n",
              "      <td>...</td>\n",
              "      <td>...</td>\n",
              "      <td>...</td>\n",
              "      <td>...</td>\n",
              "      <td>...</td>\n",
              "      <td>...</td>\n",
              "      <td>...</td>\n",
              "    </tr>\n",
              "    <tr>\n",
              "      <th>345</th>\n",
              "      <td>christopher</td>\n",
              "      <td>woodward</td>\n",
              "      <td>7.51</td>\n",
              "      <td>7.06</td>\n",
              "      <td>0.45</td>\n",
              "      <td>novodra</td>\n",
              "      <td>55u</td>\n",
              "      <td>51u</td>\n",
              "      <td>nausea</td>\n",
              "    </tr>\n",
              "    <tr>\n",
              "      <th>346</th>\n",
              "      <td>maret</td>\n",
              "      <td>sultygov</td>\n",
              "      <td>7.67</td>\n",
              "      <td>7.30</td>\n",
              "      <td>0.37</td>\n",
              "      <td>novodra</td>\n",
              "      <td>26u</td>\n",
              "      <td>23u</td>\n",
              "      <td>NaN</td>\n",
              "    </tr>\n",
              "    <tr>\n",
              "      <th>347</th>\n",
              "      <td>lixue</td>\n",
              "      <td>hsueh</td>\n",
              "      <td>9.21</td>\n",
              "      <td>8.80</td>\n",
              "      <td>0.41</td>\n",
              "      <td>novodra</td>\n",
              "      <td>22u</td>\n",
              "      <td>23u</td>\n",
              "      <td>injection site discomfort</td>\n",
              "    </tr>\n",
              "    <tr>\n",
              "      <th>348</th>\n",
              "      <td>jakob</td>\n",
              "      <td>jakobsen</td>\n",
              "      <td>7.96</td>\n",
              "      <td>7.51</td>\n",
              "      <td>0.45</td>\n",
              "      <td>novodra</td>\n",
              "      <td>28u</td>\n",
              "      <td>26u</td>\n",
              "      <td>hypoglycemia</td>\n",
              "    </tr>\n",
              "    <tr>\n",
              "      <th>349</th>\n",
              "      <td>berta</td>\n",
              "      <td>napolitani</td>\n",
              "      <td>7.68</td>\n",
              "      <td>7.21</td>\n",
              "      <td>0.47</td>\n",
              "      <td>novodra</td>\n",
              "      <td>42u</td>\n",
              "      <td>44u</td>\n",
              "      <td>injection site discomfort</td>\n",
              "    </tr>\n",
              "  </tbody>\n",
              "</table>\n",
              "<p>350 rows × 9 columns</p>\n",
              "</div>"
            ],
            "text/plain": [
              "      given_name     surname  ...  dose_end           adverse_reaction\n",
              "0       veronika    jindrová  ...       48u                        NaN\n",
              "1           skye  gormanston  ...       36u                        NaN\n",
              "2         sophia      haugen  ...       42u                        NaN\n",
              "3          eddie      archer  ...       38u                        NaN\n",
              "4           asia     woźniak  ...       36u                        NaN\n",
              "..           ...         ...  ...       ...                        ...\n",
              "345  christopher    woodward  ...       51u                     nausea\n",
              "346        maret    sultygov  ...       23u                        NaN\n",
              "347        lixue       hsueh  ...       23u  injection site discomfort\n",
              "348        jakob    jakobsen  ...       26u               hypoglycemia\n",
              "349        berta  napolitani  ...       44u  injection site discomfort\n",
              "\n",
              "[350 rows x 9 columns]"
            ]
          },
          "metadata": {},
          "execution_count": 15
        }
      ]
    },
    {
      "cell_type": "markdown",
      "metadata": {
        "id": "AhLBwko6knUt"
      },
      "source": [
        "#### Given name and surname columns in `patients` table duplicated in `treatments` and `adverse_reactions` tables  and Lowercase given names and surnames\n",
        "\n",
        "##### Define\n",
        "- Adverse reactions table is no longer needed so ignore that part. \n",
        "- Isolate the patient ID and names in the `patients` table.\n",
        "- Then convert these names to lower case to join with `treatments`. \n",
        "- Then drop the given name and surname columns in the `treatments` table (so these being lowercase isn't an issue anymore).\n",
        "\n",
        "##### Code\n"
      ]
    },
    {
      "cell_type": "code",
      "metadata": {
        "colab": {
          "base_uri": "https://localhost:8080/"
        },
        "id": "7i8HQvMpknUt",
        "outputId": "7d96fb4d-9a8e-4b6b-ae9e-df4d2d53f63e"
      },
      "source": [
        "id_names = patients_clean[['patient_id', 'given_name', 'surname']]\n",
        "id_names.given_name = id_names.given_name.str.lower()\n",
        "id_names.surname = id_names.surname.str.lower()\n",
        "treatments_clean = pd.merge(treatments_clean, id_names, on=['given_name', 'surname'])\n",
        "treatments_clean = treatments_clean.drop(['given_name', 'surname'], axis=1)"
      ],
      "execution_count": 16,
      "outputs": [
        {
          "output_type": "stream",
          "name": "stderr",
          "text": [
            "/usr/local/lib/python3.7/dist-packages/pandas/core/generic.py:5170: SettingWithCopyWarning: \n",
            "A value is trying to be set on a copy of a slice from a DataFrame.\n",
            "Try using .loc[row_indexer,col_indexer] = value instead\n",
            "\n",
            "See the caveats in the documentation: https://pandas.pydata.org/pandas-docs/stable/user_guide/indexing.html#returning-a-view-versus-a-copy\n",
            "  self[name] = value\n"
          ]
        }
      ]
    },
    {
      "cell_type": "markdown",
      "metadata": {
        "id": "Js5N9fguknUt"
      },
      "source": [
        "##### Test"
      ]
    },
    {
      "cell_type": "code",
      "metadata": {
        "colab": {
          "base_uri": "https://localhost:8080/",
          "height": 414
        },
        "id": "B7pbUOy14a07",
        "outputId": "7394ef63-218f-4d3f-c4ee-df0202f967e6"
      },
      "source": [
        "# Confirm the merge was executed correctly\n",
        "treatments_clean"
      ],
      "execution_count": 17,
      "outputs": [
        {
          "output_type": "execute_result",
          "data": {
            "text/html": [
              "<div>\n",
              "<style scoped>\n",
              "    .dataframe tbody tr th:only-of-type {\n",
              "        vertical-align: middle;\n",
              "    }\n",
              "\n",
              "    .dataframe tbody tr th {\n",
              "        vertical-align: top;\n",
              "    }\n",
              "\n",
              "    .dataframe thead th {\n",
              "        text-align: right;\n",
              "    }\n",
              "</style>\n",
              "<table border=\"1\" class=\"dataframe\">\n",
              "  <thead>\n",
              "    <tr style=\"text-align: right;\">\n",
              "      <th></th>\n",
              "      <th>hba1c_start</th>\n",
              "      <th>hba1c_end</th>\n",
              "      <th>hba1c_change</th>\n",
              "      <th>treatment</th>\n",
              "      <th>dose_start</th>\n",
              "      <th>dose_end</th>\n",
              "      <th>adverse_reaction</th>\n",
              "      <th>patient_id</th>\n",
              "    </tr>\n",
              "  </thead>\n",
              "  <tbody>\n",
              "    <tr>\n",
              "      <th>0</th>\n",
              "      <td>7.63</td>\n",
              "      <td>7.20</td>\n",
              "      <td>0.43</td>\n",
              "      <td>auralin</td>\n",
              "      <td>41u</td>\n",
              "      <td>48u</td>\n",
              "      <td>NaN</td>\n",
              "      <td>225</td>\n",
              "    </tr>\n",
              "    <tr>\n",
              "      <th>1</th>\n",
              "      <td>7.97</td>\n",
              "      <td>7.62</td>\n",
              "      <td>0.35</td>\n",
              "      <td>auralin</td>\n",
              "      <td>33u</td>\n",
              "      <td>36u</td>\n",
              "      <td>NaN</td>\n",
              "      <td>242</td>\n",
              "    </tr>\n",
              "    <tr>\n",
              "      <th>2</th>\n",
              "      <td>7.65</td>\n",
              "      <td>7.27</td>\n",
              "      <td>0.38</td>\n",
              "      <td>auralin</td>\n",
              "      <td>37u</td>\n",
              "      <td>42u</td>\n",
              "      <td>NaN</td>\n",
              "      <td>345</td>\n",
              "    </tr>\n",
              "    <tr>\n",
              "      <th>3</th>\n",
              "      <td>7.89</td>\n",
              "      <td>7.55</td>\n",
              "      <td>0.34</td>\n",
              "      <td>auralin</td>\n",
              "      <td>31u</td>\n",
              "      <td>38u</td>\n",
              "      <td>NaN</td>\n",
              "      <td>276</td>\n",
              "    </tr>\n",
              "    <tr>\n",
              "      <th>4</th>\n",
              "      <td>7.76</td>\n",
              "      <td>7.37</td>\n",
              "      <td>0.39</td>\n",
              "      <td>auralin</td>\n",
              "      <td>30u</td>\n",
              "      <td>36u</td>\n",
              "      <td>NaN</td>\n",
              "      <td>15</td>\n",
              "    </tr>\n",
              "    <tr>\n",
              "      <th>...</th>\n",
              "      <td>...</td>\n",
              "      <td>...</td>\n",
              "      <td>...</td>\n",
              "      <td>...</td>\n",
              "      <td>...</td>\n",
              "      <td>...</td>\n",
              "      <td>...</td>\n",
              "      <td>...</td>\n",
              "    </tr>\n",
              "    <tr>\n",
              "      <th>344</th>\n",
              "      <td>7.51</td>\n",
              "      <td>7.06</td>\n",
              "      <td>0.45</td>\n",
              "      <td>novodra</td>\n",
              "      <td>55u</td>\n",
              "      <td>51u</td>\n",
              "      <td>nausea</td>\n",
              "      <td>153</td>\n",
              "    </tr>\n",
              "    <tr>\n",
              "      <th>345</th>\n",
              "      <td>7.67</td>\n",
              "      <td>7.30</td>\n",
              "      <td>0.37</td>\n",
              "      <td>novodra</td>\n",
              "      <td>26u</td>\n",
              "      <td>23u</td>\n",
              "      <td>NaN</td>\n",
              "      <td>420</td>\n",
              "    </tr>\n",
              "    <tr>\n",
              "      <th>346</th>\n",
              "      <td>9.21</td>\n",
              "      <td>8.80</td>\n",
              "      <td>0.41</td>\n",
              "      <td>novodra</td>\n",
              "      <td>22u</td>\n",
              "      <td>23u</td>\n",
              "      <td>injection site discomfort</td>\n",
              "      <td>336</td>\n",
              "    </tr>\n",
              "    <tr>\n",
              "      <th>347</th>\n",
              "      <td>7.96</td>\n",
              "      <td>7.51</td>\n",
              "      <td>0.45</td>\n",
              "      <td>novodra</td>\n",
              "      <td>28u</td>\n",
              "      <td>26u</td>\n",
              "      <td>hypoglycemia</td>\n",
              "      <td>25</td>\n",
              "    </tr>\n",
              "    <tr>\n",
              "      <th>348</th>\n",
              "      <td>7.68</td>\n",
              "      <td>7.21</td>\n",
              "      <td>0.47</td>\n",
              "      <td>novodra</td>\n",
              "      <td>42u</td>\n",
              "      <td>44u</td>\n",
              "      <td>injection site discomfort</td>\n",
              "      <td>477</td>\n",
              "    </tr>\n",
              "  </tbody>\n",
              "</table>\n",
              "<p>349 rows × 8 columns</p>\n",
              "</div>"
            ],
            "text/plain": [
              "     hba1c_start  hba1c_end  ...           adverse_reaction patient_id\n",
              "0           7.63       7.20  ...                        NaN        225\n",
              "1           7.97       7.62  ...                        NaN        242\n",
              "2           7.65       7.27  ...                        NaN        345\n",
              "3           7.89       7.55  ...                        NaN        276\n",
              "4           7.76       7.37  ...                        NaN         15\n",
              "..           ...        ...  ...                        ...        ...\n",
              "344         7.51       7.06  ...                     nausea        153\n",
              "345         7.67       7.30  ...                        NaN        420\n",
              "346         9.21       8.80  ...  injection site discomfort        336\n",
              "347         7.96       7.51  ...               hypoglycemia         25\n",
              "348         7.68       7.21  ...  injection site discomfort        477\n",
              "\n",
              "[349 rows x 8 columns]"
            ]
          },
          "metadata": {},
          "execution_count": 17
        }
      ]
    },
    {
      "cell_type": "code",
      "metadata": {
        "id": "TsoO3u6e5-1V",
        "outputId": "eda29c33-d350-4c6f-e9fc-3ec7449fc11c",
        "colab": {
          "base_uri": "https://localhost:8080/"
        }
      },
      "source": [
        "# Patient ID should be the only duplicate column\n",
        "all_columns = pd.Series(list(patients_clean) + list(treatments_clean))\n",
        "all_columns[all_columns.duplicated()]"
      ],
      "execution_count": 18,
      "outputs": [
        {
          "output_type": "execute_result",
          "data": {
            "text/plain": [
              "22    patient_id\n",
              "dtype: object"
            ]
          },
          "metadata": {},
          "execution_count": 18
        }
      ]
    },
    {
      "cell_type": "markdown",
      "metadata": {
        "id": "rY88NJz24eBr"
      },
      "source": [
        "### Quality\n",
        "#### Zip code is a float not a string and Zip code has four digits sometimes\n",
        "##### Define\n",
        "- Convert the zip code column's data type from a float to a string using astype, \n",
        "- remove the '.0' using string slicing, and \n",
        "- pad four digit zip codes with a leading 0.\n",
        "\n",
        "##### Code\n"
      ]
    },
    {
      "cell_type": "code",
      "metadata": {
        "id": "_7DdTZK94eBr"
      },
      "source": [
        "patients_clean.zip_code = patients_clean.zip_code.astype(str).str[:-2].str.pad(5, fillchar='0')\n",
        "# Reconvert NaNs entries that were converted to '0000n' by code above\n",
        "patients_clean.zip_code = patients_clean.zip_code.replace('0000n', np.nan)"
      ],
      "execution_count": 19,
      "outputs": []
    },
    {
      "cell_type": "markdown",
      "metadata": {
        "id": "aV-OK0ox4eBr"
      },
      "source": [
        "##### Test"
      ]
    },
    {
      "cell_type": "code",
      "metadata": {
        "id": "1Okbziy74eBr",
        "outputId": "c30c4d97-59cc-44dd-9b12-cea000fd996c",
        "colab": {
          "base_uri": "https://localhost:8080/"
        }
      },
      "source": [
        "patients_clean.zip_code.head()"
      ],
      "execution_count": 20,
      "outputs": [
        {
          "output_type": "execute_result",
          "data": {
            "text/plain": [
              "0    92390\n",
              "1    61812\n",
              "2    68467\n",
              "3    07095\n",
              "4    36303\n",
              "Name: zip_code, dtype: object"
            ]
          },
          "metadata": {},
          "execution_count": 20
        }
      ]
    },
    {
      "cell_type": "markdown",
      "metadata": {
        "id": "PDEvWwBD4e1_"
      },
      "source": [
        "#### Tim Neudorf height is 27 in instead of 72 in\n",
        "##### Define\n",
        "Replace height for rows in the `patients` table that have a height of 27 in (there is only one) with 72 in.\n",
        "##### Code\n"
      ]
    },
    {
      "cell_type": "code",
      "metadata": {
        "id": "sHaPqgix4e2A"
      },
      "source": [
        "patients_clean.height = patients_clean.height.replace(27, 72)"
      ],
      "execution_count": 21,
      "outputs": []
    },
    {
      "cell_type": "markdown",
      "metadata": {
        "id": "Hdsv4-tP4e2A"
      },
      "source": [
        "##### Test"
      ]
    },
    {
      "cell_type": "code",
      "metadata": {
        "id": "uEj6Ol7I4e2B",
        "outputId": "ffe50aa3-c994-498f-b481-c6a94c5f0f1f",
        "colab": {
          "base_uri": "https://localhost:8080/",
          "height": 48
        }
      },
      "source": [
        "# Should be empty\n",
        "patients_clean[patients_clean.height == 27]"
      ],
      "execution_count": 22,
      "outputs": [
        {
          "output_type": "execute_result",
          "data": {
            "text/html": [
              "<div>\n",
              "<style scoped>\n",
              "    .dataframe tbody tr th:only-of-type {\n",
              "        vertical-align: middle;\n",
              "    }\n",
              "\n",
              "    .dataframe tbody tr th {\n",
              "        vertical-align: top;\n",
              "    }\n",
              "\n",
              "    .dataframe thead th {\n",
              "        text-align: right;\n",
              "    }\n",
              "</style>\n",
              "<table border=\"1\" class=\"dataframe\">\n",
              "  <thead>\n",
              "    <tr style=\"text-align: right;\">\n",
              "      <th></th>\n",
              "      <th>patient_id</th>\n",
              "      <th>assigned_sex</th>\n",
              "      <th>given_name</th>\n",
              "      <th>surname</th>\n",
              "      <th>address</th>\n",
              "      <th>city</th>\n",
              "      <th>state</th>\n",
              "      <th>zip_code</th>\n",
              "      <th>country</th>\n",
              "      <th>birthdate</th>\n",
              "      <th>weight</th>\n",
              "      <th>height</th>\n",
              "      <th>bmi</th>\n",
              "      <th>phone_number</th>\n",
              "      <th>email</th>\n",
              "    </tr>\n",
              "  </thead>\n",
              "  <tbody>\n",
              "  </tbody>\n",
              "</table>\n",
              "</div>"
            ],
            "text/plain": [
              "Empty DataFrame\n",
              "Columns: [patient_id, assigned_sex, given_name, surname, address, city, state, zip_code, country, birthdate, weight, height, bmi, phone_number, email]\n",
              "Index: []"
            ]
          },
          "metadata": {},
          "execution_count": 22
        }
      ]
    },
    {
      "cell_type": "code",
      "metadata": {
        "id": "i_lEPd66_QaZ",
        "outputId": "1adb113c-55f9-476b-b118-af6cbbda1855",
        "colab": {
          "base_uri": "https://localhost:8080/",
          "height": 95
        }
      },
      "source": [
        "# Confirm the replacement worked\n",
        "patients_clean[patients_clean.surname == 'Neudorf']"
      ],
      "execution_count": 23,
      "outputs": [
        {
          "output_type": "execute_result",
          "data": {
            "text/html": [
              "<div>\n",
              "<style scoped>\n",
              "    .dataframe tbody tr th:only-of-type {\n",
              "        vertical-align: middle;\n",
              "    }\n",
              "\n",
              "    .dataframe tbody tr th {\n",
              "        vertical-align: top;\n",
              "    }\n",
              "\n",
              "    .dataframe thead th {\n",
              "        text-align: right;\n",
              "    }\n",
              "</style>\n",
              "<table border=\"1\" class=\"dataframe\">\n",
              "  <thead>\n",
              "    <tr style=\"text-align: right;\">\n",
              "      <th></th>\n",
              "      <th>patient_id</th>\n",
              "      <th>assigned_sex</th>\n",
              "      <th>given_name</th>\n",
              "      <th>surname</th>\n",
              "      <th>address</th>\n",
              "      <th>city</th>\n",
              "      <th>state</th>\n",
              "      <th>zip_code</th>\n",
              "      <th>country</th>\n",
              "      <th>birthdate</th>\n",
              "      <th>weight</th>\n",
              "      <th>height</th>\n",
              "      <th>bmi</th>\n",
              "      <th>phone_number</th>\n",
              "      <th>email</th>\n",
              "    </tr>\n",
              "  </thead>\n",
              "  <tbody>\n",
              "    <tr>\n",
              "      <th>4</th>\n",
              "      <td>5</td>\n",
              "      <td>male</td>\n",
              "      <td>Tim</td>\n",
              "      <td>Neudorf</td>\n",
              "      <td>1428 Turkey Pen Lane</td>\n",
              "      <td>Dothan</td>\n",
              "      <td>AL</td>\n",
              "      <td>36303</td>\n",
              "      <td>United States</td>\n",
              "      <td>2/18/1928</td>\n",
              "      <td>192.3</td>\n",
              "      <td>72</td>\n",
              "      <td>26.1</td>\n",
              "      <td>334-515-7487</td>\n",
              "      <td>TimNeudorf@cuvox.de</td>\n",
              "    </tr>\n",
              "  </tbody>\n",
              "</table>\n",
              "</div>"
            ],
            "text/plain": [
              "   patient_id assigned_sex given_name  ...   bmi  phone_number                email\n",
              "4           5         male        Tim  ...  26.1  334-515-7487  TimNeudorf@cuvox.de\n",
              "\n",
              "[1 rows x 15 columns]"
            ]
          },
          "metadata": {},
          "execution_count": 23
        }
      ]
    },
    {
      "cell_type": "markdown",
      "metadata": {
        "id": "LtwSmCH04fGH"
      },
      "source": [
        "#### Full state names sometimes, abbreviations other times\n",
        "##### Define\n",
        "Apply a function that converts full state name to state abbreviation for California, New York, Illinois, Florida, and Nebraska.\n",
        "\n",
        "Reference:\n",
        "-  [Tutorial](https://chrisalbon.com/python/pandas_apply_operations_to_dataframes.html) for method used in solution.\n",
        "\n",
        "##### Code\n"
      ]
    },
    {
      "cell_type": "code",
      "metadata": {
        "id": "OA74kspN_qcB",
        "outputId": "79838b3c-6800-4220-eb8c-a1e212c35037",
        "colab": {
          "base_uri": "https://localhost:8080/"
        }
      },
      "source": [
        "patients_clean.state.unique()"
      ],
      "execution_count": 24,
      "outputs": [
        {
          "output_type": "execute_result",
          "data": {
            "text/plain": [
              "array(['California', 'Illinois', 'Nebraska', 'NJ', 'AL', 'Florida', 'NV',\n",
              "       'CA', 'MO', 'New York', 'MI', 'TN', 'VA', 'OK', 'GA', 'MT', 'MA',\n",
              "       'NY', 'NM', 'IL', 'LA', 'PA', 'CO', 'ME', 'WI', 'SD', 'MN', 'FL',\n",
              "       'WY', 'OH', 'IA', 'NC', 'IN', 'CT', 'KY', 'DE', 'MD', 'AZ', 'TX',\n",
              "       'NE', 'AK', 'ND', 'KS', 'MS', 'WA', 'SC', 'WV', 'RI', 'NH', 'OR',\n",
              "       nan, 'VT', 'ID', 'DC', 'AR'], dtype=object)"
            ]
          },
          "metadata": {},
          "execution_count": 24
        }
      ]
    },
    {
      "cell_type": "code",
      "metadata": {
        "id": "kwp5Zav94fGI"
      },
      "source": [
        "# Mapping from full state name to abbreviation\n",
        "state_abbrev = {'California': 'CA',\n",
        "                'New York': 'NY',\n",
        "                'Illinois': 'IL',\n",
        "                'Florida': 'FL',\n",
        "                'Nebraska': 'NE'}\n",
        "\n",
        "# Function to apply\n",
        "def abbreviate_state(patient):\n",
        "    if patient['state'] in state_abbrev.keys():\n",
        "        abbrev = state_abbrev[patient['state']]\n",
        "        return abbrev\n",
        "    else:\n",
        "        return patient['state']\n",
        "    \n",
        "patients_clean['state'] = patients_clean.apply(abbreviate_state, axis=1)"
      ],
      "execution_count": 25,
      "outputs": []
    },
    {
      "cell_type": "markdown",
      "metadata": {
        "id": "taoQE-JU4fGI"
      },
      "source": [
        "##### Test"
      ]
    },
    {
      "cell_type": "code",
      "metadata": {
        "id": "TBjgpDaf4fGJ",
        "outputId": "b8b026ff-2eb6-4f55-9541-4be3d7867ed5",
        "colab": {
          "base_uri": "https://localhost:8080/"
        }
      },
      "source": [
        "patients_clean.state.value_counts()"
      ],
      "execution_count": 26,
      "outputs": [
        {
          "output_type": "execute_result",
          "data": {
            "text/plain": [
              "CA    60\n",
              "NY    47\n",
              "TX    32\n",
              "IL    24\n",
              "MA    22\n",
              "FL    22\n",
              "PA    18\n",
              "GA    15\n",
              "OH    14\n",
              "MI    13\n",
              "LA    13\n",
              "OK    13\n",
              "NJ    12\n",
              "VA    11\n",
              "MS    10\n",
              "WI    10\n",
              "AL     9\n",
              "IN     9\n",
              "TN     9\n",
              "MN     9\n",
              "NC     8\n",
              "WA     8\n",
              "KY     8\n",
              "MO     7\n",
              "KS     6\n",
              "ID     6\n",
              "NV     6\n",
              "NE     6\n",
              "IA     5\n",
              "SC     5\n",
              "CT     5\n",
              "AZ     4\n",
              "RI     4\n",
              "ME     4\n",
              "ND     4\n",
              "CO     4\n",
              "AR     4\n",
              "OR     3\n",
              "MD     3\n",
              "DE     3\n",
              "SD     3\n",
              "WV     3\n",
              "MT     2\n",
              "VT     2\n",
              "DC     2\n",
              "WY     1\n",
              "NM     1\n",
              "NH     1\n",
              "AK     1\n",
              "Name: state, dtype: int64"
            ]
          },
          "metadata": {},
          "execution_count": 26
        }
      ]
    },
    {
      "cell_type": "markdown",
      "metadata": {
        "id": "tdRmP4zE4faB"
      },
      "source": [
        "#### Dsvid Gustafsson\n",
        "##### Define\n",
        "Replace given name for rows in the `patients` table that have a given name of 'Dsvid' with 'David'.\n",
        "##### Code\n"
      ]
    },
    {
      "cell_type": "code",
      "metadata": {
        "id": "1gOpzAK74faB"
      },
      "source": [
        "patients_clean.given_name = patients_clean.given_name.replace('Dsvid', 'David')"
      ],
      "execution_count": 27,
      "outputs": []
    },
    {
      "cell_type": "markdown",
      "metadata": {
        "id": "avr1j3c-4faC"
      },
      "source": [
        "##### Test"
      ]
    },
    {
      "cell_type": "code",
      "metadata": {
        "colab": {
          "base_uri": "https://localhost:8080/",
          "height": 112
        },
        "id": "rybdLZtX4faC",
        "outputId": "eea3c353-f9aa-48b1-fe7f-735af0df7acf"
      },
      "source": [
        "patients_clean[patients_clean.surname == 'Gustafsson']"
      ],
      "execution_count": 28,
      "outputs": [
        {
          "output_type": "execute_result",
          "data": {
            "text/html": [
              "<div>\n",
              "<style scoped>\n",
              "    .dataframe tbody tr th:only-of-type {\n",
              "        vertical-align: middle;\n",
              "    }\n",
              "\n",
              "    .dataframe tbody tr th {\n",
              "        vertical-align: top;\n",
              "    }\n",
              "\n",
              "    .dataframe thead th {\n",
              "        text-align: right;\n",
              "    }\n",
              "</style>\n",
              "<table border=\"1\" class=\"dataframe\">\n",
              "  <thead>\n",
              "    <tr style=\"text-align: right;\">\n",
              "      <th></th>\n",
              "      <th>patient_id</th>\n",
              "      <th>assigned_sex</th>\n",
              "      <th>given_name</th>\n",
              "      <th>surname</th>\n",
              "      <th>address</th>\n",
              "      <th>city</th>\n",
              "      <th>state</th>\n",
              "      <th>zip_code</th>\n",
              "      <th>country</th>\n",
              "      <th>birthdate</th>\n",
              "      <th>weight</th>\n",
              "      <th>height</th>\n",
              "      <th>bmi</th>\n",
              "      <th>phone_number</th>\n",
              "      <th>email</th>\n",
              "    </tr>\n",
              "  </thead>\n",
              "  <tbody>\n",
              "    <tr>\n",
              "      <th>8</th>\n",
              "      <td>9</td>\n",
              "      <td>male</td>\n",
              "      <td>David</td>\n",
              "      <td>Gustafsson</td>\n",
              "      <td>1790 Nutter Street</td>\n",
              "      <td>Kansas City</td>\n",
              "      <td>MO</td>\n",
              "      <td>64105</td>\n",
              "      <td>United States</td>\n",
              "      <td>3/6/1937</td>\n",
              "      <td>163.9</td>\n",
              "      <td>66</td>\n",
              "      <td>26.5</td>\n",
              "      <td>816-265-9578</td>\n",
              "      <td>DavidGustafsson@armyspy.com</td>\n",
              "    </tr>\n",
              "  </tbody>\n",
              "</table>\n",
              "</div>"
            ],
            "text/plain": [
              "   patient_id assigned_sex  ...  phone_number                        email\n",
              "8           9         male  ...  816-265-9578  DavidGustafsson@armyspy.com\n",
              "\n",
              "[1 rows x 15 columns]"
            ]
          },
          "metadata": {},
          "execution_count": 28
        }
      ]
    },
    {
      "cell_type": "markdown",
      "metadata": {
        "id": "vDkXL4ZW84Ue"
      },
      "source": [
        "#### Erroneous datatypes (assigned sex, state, zip_code, and birthdate columns) and Erroneous datatypes (auralin and novodra columns) and The letter 'u' in starting and ending doses for Auralin and Novodra\n",
        "##### Define\n",
        "- Convert assigned sex and state to categorical data types. \n",
        "- Zip code data type was already addressed above. \n",
        "- Convert birthdate to datetime data type. \n",
        "- Strip the letter 'u' in start dose and end dose and convert those columns to data type integer.\n",
        "\n",
        "References:\n",
        "- [pandas.Series.astype](https://pandas.pydata.org/pandas-docs/stable/generated/pandas.Series.astype.html) \n",
        "- [pandas.to_datetime](http://pandas.pydata.org/pandas-docs/version/0.20/generated/pandas.to_datetime.html)\n",
        "- [pandas.Series.str.strip](https://pandas.pydata.org/pandas-docs/stable/generated/pandas.Series.str.strip.html)\n",
        "\n",
        "##### Code\n"
      ]
    },
    {
      "cell_type": "code",
      "metadata": {
        "id": "ZEDvcIUO84Uj"
      },
      "source": [
        "# To category\n",
        "patients_clean.assigned_sex = patients_clean.assigned_sex.astype('category')\n",
        "patients_clean.state = patients_clean.state.astype('category')\n",
        "\n",
        "# To datetime\n",
        "patients_clean.birthdate = pd.to_datetime(patients_clean.birthdate)\n",
        "\n",
        "# Strip u and to integer\n",
        "treatments_clean.dose_start = treatments_clean.dose_start.str.strip('u').astype(int)\n",
        "treatments_clean.dose_end = treatments_clean.dose_end.str.strip('u').astype(int)"
      ],
      "execution_count": 29,
      "outputs": []
    },
    {
      "cell_type": "markdown",
      "metadata": {
        "id": "rdWmKmlM84Uk"
      },
      "source": [
        "##### Test"
      ]
    },
    {
      "cell_type": "code",
      "metadata": {
        "id": "ViGkLMel84Uk",
        "outputId": "b0c7d42c-55f3-4024-d65b-ce67f8f8ab64",
        "colab": {
          "base_uri": "https://localhost:8080/"
        }
      },
      "source": [
        "patients_clean.info()"
      ],
      "execution_count": 30,
      "outputs": [
        {
          "output_type": "stream",
          "name": "stdout",
          "text": [
            "<class 'pandas.core.frame.DataFrame'>\n",
            "RangeIndex: 503 entries, 0 to 502\n",
            "Data columns (total 15 columns):\n",
            " #   Column        Non-Null Count  Dtype         \n",
            "---  ------        --------------  -----         \n",
            " 0   patient_id    503 non-null    int64         \n",
            " 1   assigned_sex  503 non-null    category      \n",
            " 2   given_name    503 non-null    object        \n",
            " 3   surname       503 non-null    object        \n",
            " 4   address       491 non-null    object        \n",
            " 5   city          491 non-null    object        \n",
            " 6   state         491 non-null    category      \n",
            " 7   zip_code      491 non-null    object        \n",
            " 8   country       491 non-null    object        \n",
            " 9   birthdate     503 non-null    datetime64[ns]\n",
            " 10  weight        503 non-null    float64       \n",
            " 11  height        503 non-null    int64         \n",
            " 12  bmi           503 non-null    float64       \n",
            " 13  phone_number  491 non-null    object        \n",
            " 14  email         491 non-null    object        \n",
            "dtypes: category(2), datetime64[ns](1), float64(2), int64(2), object(8)\n",
            "memory usage: 53.9+ KB\n"
          ]
        }
      ]
    },
    {
      "cell_type": "code",
      "metadata": {
        "id": "Hq8-lLHBA8i_",
        "outputId": "d68c0be1-dadc-4692-81cf-6fef84d750c8",
        "colab": {
          "base_uri": "https://localhost:8080/"
        }
      },
      "source": [
        "treatments_clean.info()"
      ],
      "execution_count": 31,
      "outputs": [
        {
          "output_type": "stream",
          "name": "stdout",
          "text": [
            "<class 'pandas.core.frame.DataFrame'>\n",
            "Int64Index: 349 entries, 0 to 348\n",
            "Data columns (total 8 columns):\n",
            " #   Column            Non-Null Count  Dtype  \n",
            "---  ------            --------------  -----  \n",
            " 0   hba1c_start       349 non-null    float64\n",
            " 1   hba1c_end         349 non-null    float64\n",
            " 2   hba1c_change      349 non-null    float64\n",
            " 3   treatment         349 non-null    object \n",
            " 4   dose_start        349 non-null    int64  \n",
            " 5   dose_end          349 non-null    int64  \n",
            " 6   adverse_reaction  35 non-null     object \n",
            " 7   patient_id        349 non-null    int64  \n",
            "dtypes: float64(3), int64(3), object(2)\n",
            "memory usage: 24.5+ KB\n"
          ]
        }
      ]
    },
    {
      "cell_type": "markdown",
      "metadata": {
        "id": "FJKfKJqR84ui"
      },
      "source": [
        "#### Multiple phone number formats\n",
        "##### Define\n",
        "Strip all \" \", \"-\", \"(\", \")\", and \"+\" and store each number without any formatting. Pad the phone number with a 1 if the length of the number is 10 digits (we want country code).\n",
        "\n",
        "Reference:\n",
        "- Helpful [Stack Overflow answer](https://stackoverflow.com/a/123681)\n",
        "##### Code\n"
      ]
    },
    {
      "cell_type": "code",
      "metadata": {
        "id": "KnSjbIwtA--W",
        "outputId": "ef294675-d7c7-4fa6-e88b-cdb9ff80cdfe",
        "colab": {
          "base_uri": "https://localhost:8080/"
        }
      },
      "source": [
        "patients_clean.phone_number.head()"
      ],
      "execution_count": 32,
      "outputs": [
        {
          "output_type": "execute_result",
          "data": {
            "text/plain": [
              "0         951-719-9170\n",
              "1    +1 (217) 569-3204\n",
              "2         402-363-6804\n",
              "3    +1 (732) 636-8246\n",
              "4         334-515-7487\n",
              "Name: phone_number, dtype: object"
            ]
          },
          "metadata": {},
          "execution_count": 32
        }
      ]
    },
    {
      "cell_type": "code",
      "metadata": {
        "id": "twngx4Ws84uj"
      },
      "source": [
        "patients_clean.phone_number = patients_clean.phone_number.str.replace(r'\\D+', '').str.pad(11, fillchar='1')"
      ],
      "execution_count": 33,
      "outputs": []
    },
    {
      "cell_type": "markdown",
      "metadata": {
        "id": "hnn-N-tK84uj"
      },
      "source": [
        "##### Test"
      ]
    },
    {
      "cell_type": "code",
      "metadata": {
        "id": "OTW4mmp184uj",
        "outputId": "a0d3af50-2547-4821-e71d-9f406f061a03",
        "colab": {
          "base_uri": "https://localhost:8080/"
        }
      },
      "source": [
        "patients_clean.phone_number.head()"
      ],
      "execution_count": 34,
      "outputs": [
        {
          "output_type": "execute_result",
          "data": {
            "text/plain": [
              "0    19517199170\n",
              "1    12175693204\n",
              "2    14023636804\n",
              "3    17326368246\n",
              "4    13345157487\n",
              "Name: phone_number, dtype: object"
            ]
          },
          "metadata": {},
          "execution_count": 34
        }
      ]
    },
    {
      "cell_type": "markdown",
      "metadata": {
        "id": "cyROoaHF847k"
      },
      "source": [
        "####  Default John Doe data\n",
        "##### Define\n",
        "Remove the non-recoverable John Doe records from the `patients` table.\n",
        "\n",
        "(Recall that it is assumed that the data that this John Doe data displaced is not recoverable.)\n",
        "##### Code\n"
      ]
    },
    {
      "cell_type": "code",
      "metadata": {
        "id": "Jj6V9Hq2847l"
      },
      "source": [
        "patients_clean = patients_clean[patients_clean.surname != 'Doe']"
      ],
      "execution_count": 35,
      "outputs": []
    },
    {
      "cell_type": "markdown",
      "metadata": {
        "id": "e_QazIUq847m"
      },
      "source": [
        "##### Test"
      ]
    },
    {
      "cell_type": "code",
      "metadata": {
        "id": "ZTsJBNrb847m",
        "outputId": "e74037ca-a41a-4609-a7bc-542d4b6621f6",
        "colab": {
          "base_uri": "https://localhost:8080/"
        }
      },
      "source": [
        "# Should be no Doe records\n",
        "patients_clean.surname.value_counts()"
      ],
      "execution_count": 36,
      "outputs": [
        {
          "output_type": "execute_result",
          "data": {
            "text/plain": [
              "Jakobsen       3\n",
              "Taylor         3\n",
              "Aranda         2\n",
              "Cabrera        2\n",
              "Dratchev       2\n",
              "              ..\n",
              "Russo          1\n",
              "Onyekaozulu    1\n",
              "Murakami       1\n",
              "Morita         1\n",
              "Martinsen      1\n",
              "Name: surname, Length: 465, dtype: int64"
            ]
          },
          "metadata": {},
          "execution_count": 36
        }
      ]
    },
    {
      "cell_type": "code",
      "metadata": {
        "id": "5qXAfMszCK9J",
        "outputId": "290708cb-56f9-423b-80ee-0366a9fba128",
        "colab": {
          "base_uri": "https://localhost:8080/"
        }
      },
      "source": [
        "# Should be no 123 Main Street records\n",
        "patients_clean.address.value_counts()"
      ],
      "execution_count": 37,
      "outputs": [
        {
          "output_type": "execute_result",
          "data": {
            "text/plain": [
              "648 Old Dear Lane        2\n",
              "2476 Fulton Street       2\n",
              "2778 North Avenue        2\n",
              "2335 Webster Street      1\n",
              "3072 Braxton Street      1\n",
              "                        ..\n",
              "4839 North Avenue        1\n",
              "945 Maple Avenue         1\n",
              "2566 Ingram Street       1\n",
              "1368 Yorkshire Circle    1\n",
              "4236 Beech Street        1\n",
              "Name: address, Length: 482, dtype: int64"
            ]
          },
          "metadata": {},
          "execution_count": 37
        }
      ]
    },
    {
      "cell_type": "markdown",
      "metadata": {
        "id": "XKPe3-6R85HN"
      },
      "source": [
        "#### Multiple records for Jakobsen, Gersten, Taylor\n",
        "##### Define\n",
        "Remove the Jake Jakobsen, Pat Gersten, and Sandy Taylor rows from the patients table. These are the nicknames, which happen to also not be in the treatments table (removing the wrong name would create a consistency issue between the patients and treatments table). These are all the second occurrence of the duplicate. These are also the only occurences of non-null duplicate addresses.\n",
        "##### Code\n"
      ]
    },
    {
      "cell_type": "code",
      "metadata": {
        "id": "DstOKPPW85HN"
      },
      "source": [
        "# tilde means not: http://pandas.pydata.org/pandas-docs/stable/indexing.html#boolean-indexing\n",
        "patients_clean = patients_clean[~((patients_clean.address.duplicated()) & patients_clean.address.notnull())]"
      ],
      "execution_count": 38,
      "outputs": []
    },
    {
      "cell_type": "markdown",
      "metadata": {
        "id": "G4uT7RLE85HN"
      },
      "source": [
        "##### Test"
      ]
    },
    {
      "cell_type": "code",
      "metadata": {
        "id": "HofWS59w85HN",
        "outputId": "f5f64cbe-6742-4924-f4b1-75d28485f251",
        "colab": {
          "base_uri": "https://localhost:8080/",
          "height": 196
        }
      },
      "source": [
        "patients_clean[patients_clean.surname == 'Jakobsen']"
      ],
      "execution_count": 39,
      "outputs": [
        {
          "output_type": "execute_result",
          "data": {
            "text/html": [
              "<div>\n",
              "<style scoped>\n",
              "    .dataframe tbody tr th:only-of-type {\n",
              "        vertical-align: middle;\n",
              "    }\n",
              "\n",
              "    .dataframe tbody tr th {\n",
              "        vertical-align: top;\n",
              "    }\n",
              "\n",
              "    .dataframe thead th {\n",
              "        text-align: right;\n",
              "    }\n",
              "</style>\n",
              "<table border=\"1\" class=\"dataframe\">\n",
              "  <thead>\n",
              "    <tr style=\"text-align: right;\">\n",
              "      <th></th>\n",
              "      <th>patient_id</th>\n",
              "      <th>assigned_sex</th>\n",
              "      <th>given_name</th>\n",
              "      <th>surname</th>\n",
              "      <th>address</th>\n",
              "      <th>city</th>\n",
              "      <th>state</th>\n",
              "      <th>zip_code</th>\n",
              "      <th>country</th>\n",
              "      <th>birthdate</th>\n",
              "      <th>weight</th>\n",
              "      <th>height</th>\n",
              "      <th>bmi</th>\n",
              "      <th>phone_number</th>\n",
              "      <th>email</th>\n",
              "    </tr>\n",
              "  </thead>\n",
              "  <tbody>\n",
              "    <tr>\n",
              "      <th>24</th>\n",
              "      <td>25</td>\n",
              "      <td>male</td>\n",
              "      <td>Jakob</td>\n",
              "      <td>Jakobsen</td>\n",
              "      <td>648 Old Dear Lane</td>\n",
              "      <td>Port Jervis</td>\n",
              "      <td>NY</td>\n",
              "      <td>12771</td>\n",
              "      <td>United States</td>\n",
              "      <td>1985-08-01</td>\n",
              "      <td>155.8</td>\n",
              "      <td>67</td>\n",
              "      <td>24.4</td>\n",
              "      <td>18458587707</td>\n",
              "      <td>JakobCJakobsen@einrot.com</td>\n",
              "    </tr>\n",
              "    <tr>\n",
              "      <th>432</th>\n",
              "      <td>433</td>\n",
              "      <td>female</td>\n",
              "      <td>Karen</td>\n",
              "      <td>Jakobsen</td>\n",
              "      <td>1690 Fannie Street</td>\n",
              "      <td>Houston</td>\n",
              "      <td>TX</td>\n",
              "      <td>77020</td>\n",
              "      <td>United States</td>\n",
              "      <td>1962-11-25</td>\n",
              "      <td>185.2</td>\n",
              "      <td>67</td>\n",
              "      <td>29.0</td>\n",
              "      <td>19792030438</td>\n",
              "      <td>KarenJakobsen@jourrapide.com</td>\n",
              "    </tr>\n",
              "  </tbody>\n",
              "</table>\n",
              "</div>"
            ],
            "text/plain": [
              "     patient_id assigned_sex  ... phone_number                         email\n",
              "24           25         male  ...  18458587707     JakobCJakobsen@einrot.com\n",
              "432         433       female  ...  19792030438  KarenJakobsen@jourrapide.com\n",
              "\n",
              "[2 rows x 15 columns]"
            ]
          },
          "metadata": {},
          "execution_count": 39
        }
      ]
    },
    {
      "cell_type": "code",
      "metadata": {
        "id": "5w-YwnKOCkKu",
        "outputId": "002188d3-6d04-4b2e-ef8b-f73bf72e94de",
        "colab": {
          "base_uri": "https://localhost:8080/",
          "height": 95
        }
      },
      "source": [
        "patients_clean[patients_clean.surname == 'Gersten']"
      ],
      "execution_count": 40,
      "outputs": [
        {
          "output_type": "execute_result",
          "data": {
            "text/html": [
              "<div>\n",
              "<style scoped>\n",
              "    .dataframe tbody tr th:only-of-type {\n",
              "        vertical-align: middle;\n",
              "    }\n",
              "\n",
              "    .dataframe tbody tr th {\n",
              "        vertical-align: top;\n",
              "    }\n",
              "\n",
              "    .dataframe thead th {\n",
              "        text-align: right;\n",
              "    }\n",
              "</style>\n",
              "<table border=\"1\" class=\"dataframe\">\n",
              "  <thead>\n",
              "    <tr style=\"text-align: right;\">\n",
              "      <th></th>\n",
              "      <th>patient_id</th>\n",
              "      <th>assigned_sex</th>\n",
              "      <th>given_name</th>\n",
              "      <th>surname</th>\n",
              "      <th>address</th>\n",
              "      <th>city</th>\n",
              "      <th>state</th>\n",
              "      <th>zip_code</th>\n",
              "      <th>country</th>\n",
              "      <th>birthdate</th>\n",
              "      <th>weight</th>\n",
              "      <th>height</th>\n",
              "      <th>bmi</th>\n",
              "      <th>phone_number</th>\n",
              "      <th>email</th>\n",
              "    </tr>\n",
              "  </thead>\n",
              "  <tbody>\n",
              "    <tr>\n",
              "      <th>97</th>\n",
              "      <td>98</td>\n",
              "      <td>male</td>\n",
              "      <td>Patrick</td>\n",
              "      <td>Gersten</td>\n",
              "      <td>2778 North Avenue</td>\n",
              "      <td>Burr</td>\n",
              "      <td>NE</td>\n",
              "      <td>68324</td>\n",
              "      <td>United States</td>\n",
              "      <td>1954-05-03</td>\n",
              "      <td>138.2</td>\n",
              "      <td>71</td>\n",
              "      <td>19.3</td>\n",
              "      <td>14028484923</td>\n",
              "      <td>PatrickGersten@rhyta.com</td>\n",
              "    </tr>\n",
              "  </tbody>\n",
              "</table>\n",
              "</div>"
            ],
            "text/plain": [
              "    patient_id assigned_sex  ... phone_number                     email\n",
              "97          98         male  ...  14028484923  PatrickGersten@rhyta.com\n",
              "\n",
              "[1 rows x 15 columns]"
            ]
          },
          "metadata": {},
          "execution_count": 40
        }
      ]
    },
    {
      "cell_type": "code",
      "metadata": {
        "id": "z4cP0ibrCkDH",
        "outputId": "2e8a8e32-52ce-49c2-8ac3-aa0aee7c43b9",
        "colab": {
          "base_uri": "https://localhost:8080/",
          "height": 176
        }
      },
      "source": [
        "patients_clean[patients_clean.surname == 'Taylor']"
      ],
      "execution_count": 41,
      "outputs": [
        {
          "output_type": "execute_result",
          "data": {
            "text/html": [
              "<div>\n",
              "<style scoped>\n",
              "    .dataframe tbody tr th:only-of-type {\n",
              "        vertical-align: middle;\n",
              "    }\n",
              "\n",
              "    .dataframe tbody tr th {\n",
              "        vertical-align: top;\n",
              "    }\n",
              "\n",
              "    .dataframe thead th {\n",
              "        text-align: right;\n",
              "    }\n",
              "</style>\n",
              "<table border=\"1\" class=\"dataframe\">\n",
              "  <thead>\n",
              "    <tr style=\"text-align: right;\">\n",
              "      <th></th>\n",
              "      <th>patient_id</th>\n",
              "      <th>assigned_sex</th>\n",
              "      <th>given_name</th>\n",
              "      <th>surname</th>\n",
              "      <th>address</th>\n",
              "      <th>city</th>\n",
              "      <th>state</th>\n",
              "      <th>zip_code</th>\n",
              "      <th>country</th>\n",
              "      <th>birthdate</th>\n",
              "      <th>weight</th>\n",
              "      <th>height</th>\n",
              "      <th>bmi</th>\n",
              "      <th>phone_number</th>\n",
              "      <th>email</th>\n",
              "    </tr>\n",
              "  </thead>\n",
              "  <tbody>\n",
              "    <tr>\n",
              "      <th>131</th>\n",
              "      <td>132</td>\n",
              "      <td>female</td>\n",
              "      <td>Sandra</td>\n",
              "      <td>Taylor</td>\n",
              "      <td>2476 Fulton Street</td>\n",
              "      <td>Rainelle</td>\n",
              "      <td>WV</td>\n",
              "      <td>25962</td>\n",
              "      <td>United States</td>\n",
              "      <td>1960-10-23</td>\n",
              "      <td>206.1</td>\n",
              "      <td>64</td>\n",
              "      <td>35.4</td>\n",
              "      <td>13044382648</td>\n",
              "      <td>SandraCTaylor@dayrep.com</td>\n",
              "    </tr>\n",
              "    <tr>\n",
              "      <th>426</th>\n",
              "      <td>427</td>\n",
              "      <td>male</td>\n",
              "      <td>Rogelio</td>\n",
              "      <td>Taylor</td>\n",
              "      <td>4064 Marigold Lane</td>\n",
              "      <td>Miami</td>\n",
              "      <td>FL</td>\n",
              "      <td>33179</td>\n",
              "      <td>United States</td>\n",
              "      <td>1992-09-02</td>\n",
              "      <td>186.6</td>\n",
              "      <td>69</td>\n",
              "      <td>27.6</td>\n",
              "      <td>13054346299</td>\n",
              "      <td>RogelioJTaylor@teleworm.us</td>\n",
              "    </tr>\n",
              "  </tbody>\n",
              "</table>\n",
              "</div>"
            ],
            "text/plain": [
              "     patient_id assigned_sex  ... phone_number                       email\n",
              "131         132       female  ...  13044382648    SandraCTaylor@dayrep.com\n",
              "426         427         male  ...  13054346299  RogelioJTaylor@teleworm.us\n",
              "\n",
              "[2 rows x 15 columns]"
            ]
          },
          "metadata": {},
          "execution_count": 41
        }
      ]
    },
    {
      "cell_type": "markdown",
      "metadata": {
        "id": "k4ueH30C85Qn"
      },
      "source": [
        "#### kgs instead of lbs for Zaitseva weight\n",
        "##### Define\n",
        "Use [advanced indexing](https://stackoverflow.com/a/44913631) to isolate the row where the surname is Zaitseva and convert the entry in its weight field from kg to lbs.\n",
        "##### Code\n",
        "```python\n",
        "weight_kg = patients_clean.weight.min()\n",
        "mask = patients_clean.surname == 'Zaitseva'\n",
        "column_name = 'weight'\n",
        "patients_clean.loc[mask, column_name] = weight_kg * 2.20462\n",
        "```\n"
      ]
    },
    {
      "cell_type": "code",
      "metadata": {
        "id": "aaWq10gh85Qo"
      },
      "source": [
        "weight_kg = patients_clean.weight.min()\n",
        "weight_kg_idx = patients_clean.weight.idxmin()\n",
        "patients_clean.at[weight_kg_idx, 'weight'] = weight_kg * 2.20462"
      ],
      "execution_count": 42,
      "outputs": []
    },
    {
      "cell_type": "markdown",
      "metadata": {
        "id": "zUovGvLv85Qo"
      },
      "source": [
        "##### Test"
      ]
    },
    {
      "cell_type": "code",
      "metadata": {
        "id": "buDw-soS85Qo",
        "outputId": "44ce7617-fdd0-4f65-e410-f4aaddaca585",
        "colab": {
          "base_uri": "https://localhost:8080/"
        }
      },
      "source": [
        "patients_clean.at[weight_kg_idx, 'weight']"
      ],
      "execution_count": 43,
      "outputs": [
        {
          "output_type": "execute_result",
          "data": {
            "text/plain": [
              "107.58545599999998"
            ]
          },
          "metadata": {},
          "execution_count": 43
        }
      ]
    },
    {
      "cell_type": "markdown",
      "metadata": {
        "id": "cSDcLii3Jb4v"
      },
      "source": [
        "## Analysis & Visualization"
      ]
    },
    {
      "cell_type": "code",
      "metadata": {
        "id": "DT_B37i6Jai_",
        "outputId": "715fd55c-e726-41a6-a349-b9814b291f16",
        "colab": {
          "base_uri": "https://localhost:8080/",
          "height": 202
        }
      },
      "source": [
        "treatments_clean.head()"
      ],
      "execution_count": 44,
      "outputs": [
        {
          "output_type": "execute_result",
          "data": {
            "text/html": [
              "<div>\n",
              "<style scoped>\n",
              "    .dataframe tbody tr th:only-of-type {\n",
              "        vertical-align: middle;\n",
              "    }\n",
              "\n",
              "    .dataframe tbody tr th {\n",
              "        vertical-align: top;\n",
              "    }\n",
              "\n",
              "    .dataframe thead th {\n",
              "        text-align: right;\n",
              "    }\n",
              "</style>\n",
              "<table border=\"1\" class=\"dataframe\">\n",
              "  <thead>\n",
              "    <tr style=\"text-align: right;\">\n",
              "      <th></th>\n",
              "      <th>hba1c_start</th>\n",
              "      <th>hba1c_end</th>\n",
              "      <th>hba1c_change</th>\n",
              "      <th>treatment</th>\n",
              "      <th>dose_start</th>\n",
              "      <th>dose_end</th>\n",
              "      <th>adverse_reaction</th>\n",
              "      <th>patient_id</th>\n",
              "    </tr>\n",
              "  </thead>\n",
              "  <tbody>\n",
              "    <tr>\n",
              "      <th>0</th>\n",
              "      <td>7.63</td>\n",
              "      <td>7.20</td>\n",
              "      <td>0.43</td>\n",
              "      <td>auralin</td>\n",
              "      <td>41</td>\n",
              "      <td>48</td>\n",
              "      <td>NaN</td>\n",
              "      <td>225</td>\n",
              "    </tr>\n",
              "    <tr>\n",
              "      <th>1</th>\n",
              "      <td>7.97</td>\n",
              "      <td>7.62</td>\n",
              "      <td>0.35</td>\n",
              "      <td>auralin</td>\n",
              "      <td>33</td>\n",
              "      <td>36</td>\n",
              "      <td>NaN</td>\n",
              "      <td>242</td>\n",
              "    </tr>\n",
              "    <tr>\n",
              "      <th>2</th>\n",
              "      <td>7.65</td>\n",
              "      <td>7.27</td>\n",
              "      <td>0.38</td>\n",
              "      <td>auralin</td>\n",
              "      <td>37</td>\n",
              "      <td>42</td>\n",
              "      <td>NaN</td>\n",
              "      <td>345</td>\n",
              "    </tr>\n",
              "    <tr>\n",
              "      <th>3</th>\n",
              "      <td>7.89</td>\n",
              "      <td>7.55</td>\n",
              "      <td>0.34</td>\n",
              "      <td>auralin</td>\n",
              "      <td>31</td>\n",
              "      <td>38</td>\n",
              "      <td>NaN</td>\n",
              "      <td>276</td>\n",
              "    </tr>\n",
              "    <tr>\n",
              "      <th>4</th>\n",
              "      <td>7.76</td>\n",
              "      <td>7.37</td>\n",
              "      <td>0.39</td>\n",
              "      <td>auralin</td>\n",
              "      <td>30</td>\n",
              "      <td>36</td>\n",
              "      <td>NaN</td>\n",
              "      <td>15</td>\n",
              "    </tr>\n",
              "  </tbody>\n",
              "</table>\n",
              "</div>"
            ],
            "text/plain": [
              "   hba1c_start  hba1c_end  hba1c_change  ... dose_end  adverse_reaction  patient_id\n",
              "0         7.63       7.20          0.43  ...       48               NaN         225\n",
              "1         7.97       7.62          0.35  ...       36               NaN         242\n",
              "2         7.65       7.27          0.38  ...       42               NaN         345\n",
              "3         7.89       7.55          0.34  ...       38               NaN         276\n",
              "4         7.76       7.37          0.39  ...       36               NaN          15\n",
              "\n",
              "[5 rows x 8 columns]"
            ]
          },
          "metadata": {},
          "execution_count": 44
        }
      ]
    },
    {
      "cell_type": "code",
      "metadata": {
        "id": "-hgQyseDIegh",
        "outputId": "2e83865f-678e-49d6-fd63-634a31548ce9",
        "colab": {
          "base_uri": "https://localhost:8080/"
        }
      },
      "source": [
        "# Compare adverse reactions\n",
        "treatments_clean.groupby(by=['treatment','adverse_reaction'])['adverse_reaction'].count()"
      ],
      "execution_count": 45,
      "outputs": [
        {
          "output_type": "execute_result",
          "data": {
            "text/plain": [
              "treatment  adverse_reaction         \n",
              "auralin    cough                         1\n",
              "           headache                      1\n",
              "           hypoglycemia                 10\n",
              "           nausea                        1\n",
              "           throat irritation             2\n",
              "novodra    cough                         1\n",
              "           headache                      2\n",
              "           hypoglycemia                 10\n",
              "           injection site discomfort     6\n",
              "           nausea                        1\n",
              "Name: adverse_reaction, dtype: int64"
            ]
          },
          "metadata": {},
          "execution_count": 45
        }
      ]
    },
    {
      "cell_type": "code",
      "metadata": {
        "id": "WowMzOGmNjKx",
        "outputId": "38e504a3-2e4b-4f26-87ed-d321d7656773",
        "colab": {
          "base_uri": "https://localhost:8080/",
          "height": 281
        }
      },
      "source": [
        "treatments_clean.query('treatment == \"auralin\"')['adverse_reaction'].value_counts().plot(kind='barh', \n",
        "                        title='Adverse Reaction Counts for Auralin', xlabel='Adverse Reaction');"
      ],
      "execution_count": 46,
      "outputs": [
        {
          "output_type": "display_data",
          "data": {
            "image/png": "[encoded data removed]",
            "text/plain": [
              "<Figure size 432x288 with 1 Axes>"
            ]
          },
          "metadata": {
            "needs_background": "light"
          }
        }
      ]
    },
    {
      "cell_type": "code",
      "metadata": {
        "id": "_MLo8SusPByU",
        "outputId": "64859e6f-36d8-4bdc-b269-6857311583a8",
        "colab": {
          "base_uri": "https://localhost:8080/",
          "height": 281
        }
      },
      "source": [
        "treatments_clean.query('treatment == \"novodra\"')['adverse_reaction'].value_counts().plot(kind='barh', \n",
        "                        title='Adverse Reaction Counts for novodra', xlabel='Adverse Reaction', colormap='Set1');"
      ],
      "execution_count": 47,
      "outputs": [
        {
          "output_type": "display_data",
          "data": {
            "image/png": "[encoded data removed]",
            "text/plain": [
              "<Figure size 432x288 with 1 Axes>"
            ]
          },
          "metadata": {
            "needs_background": "light"
          }
        }
      ]
    },
    {
      "cell_type": "code",
      "metadata": {
        "id": "CCURbqQCPvAc"
      },
      "source": [
        "# Pre-trial Post-trial Mean Insulin Dose Change\n",
        "treatments_clean['dose_change'] = treatments_clean.dose_start - treatments_clean.dose_end"
      ],
      "execution_count": 48,
      "outputs": []
    },
    {
      "cell_type": "code",
      "metadata": {
        "id": "zDE2xQU6RpwM",
        "outputId": "93843204-6563-44df-9a55-658ea245ce63",
        "colab": {
          "base_uri": "https://localhost:8080/"
        }
      },
      "source": [
        "treatments_clean.groupby(by='treatment')['dose_change'].mean()"
      ],
      "execution_count": 49,
      "outputs": [
        {
          "output_type": "execute_result",
          "data": {
            "text/plain": [
              "treatment\n",
              "auralin   -8.325714\n",
              "novodra    0.385057\n",
              "Name: dose_change, dtype: float64"
            ]
          },
          "metadata": {},
          "execution_count": 49
        }
      ]
    },
    {
      "cell_type": "code",
      "metadata": {
        "id": "C_BV3jJ3Rzwk",
        "outputId": "d309a55b-ef81-4b6a-930d-7efc1c8f2db2",
        "colab": {
          "base_uri": "https://localhost:8080/"
        }
      },
      "source": [
        "# HbA1c Change\n",
        "treatments_clean.groupby(by='treatment')['hba1c_change'].mean()"
      ],
      "execution_count": 50,
      "outputs": [
        {
          "output_type": "execute_result",
          "data": {
            "text/plain": [
              "treatment\n",
              "auralin    0.387657\n",
              "novodra    0.404713\n",
              "Name: hba1c_change, dtype: float64"
            ]
          },
          "metadata": {},
          "execution_count": 50
        }
      ]
    },
    {
      "cell_type": "code",
      "metadata": {
        "id": "jCxiaKmUR9Fb"
      },
      "source": [
        ""
      ],
      "execution_count": 50,
      "outputs": []
    }
  ]
}