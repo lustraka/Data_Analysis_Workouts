{
  "nbformat": 4,
  "nbformat_minor": 0,
  "metadata": {
    "extensions": {
      "jupyter_dashboards": {
        "activeView": "report_default",
        "version": 1,
        "views": {
          "grid_default": {
            "cellMargin": 10,
            "defaultCellHeight": 20,
            "maxColumns": 12,
            "name": "grid",
            "type": "grid"
          },
          "report_default": {
            "name": "report",
            "type": "report"
          }
        }
      }
    },
    "kernelspec": {
      "display_name": "Python 3",
      "language": "python",
      "name": "python3"
    },
    "language_info": {
      "codemirror_mode": {
        "name": "ipython",
        "version": 3
      },
      "file_extension": ".py",
      "mimetype": "text/x-python",
      "name": "python",
      "nbconvert_exporter": "python",
      "pygments_lexer": "ipython3",
      "version": "3.6.3"
    },
    "colab": {
      "name": "wrangle_act.ipynb",
      "provenance": [],
      "include_colab_link": true
    }
  },
  "cells": [
    {
      "cell_type": "markdown",
      "metadata": {
        "id": "view-in-github",
        "colab_type": "text"
      },
      "source": [
        "<a href=\"https://colab.research.google.com/github/lustraka/Data_Analysis_Workouts/blob/main/Analyse_Twitter_Data/wrangle_act.ipynb\" target=\"_parent\"><img src=\"https://colab.research.google.com/assets/colab-badge.svg\" alt=\"Open In Colab\"/></a>"
      ]
    },
    {
      "cell_type": "markdown",
      "metadata": {
        "extensions": {
          "jupyter_dashboards": {
            "version": 1,
            "views": {
              "grid_default": {
                "col": 0,
                "height": 4,
                "hidden": false,
                "row": 0,
                "width": 4
              },
              "report_default": {
                "hidden": false
              }
            }
          }
        },
        "id": "QoAIyvmdhIJX"
      },
      "source": [
        "# Project: Wrangling and Analyze Data\n",
        "\n",
        "This Jupyter notebook contains the complete code and basic documentation of the \"Wrangle and Analyse Data\" project that is part of Udacity's Data Analyst Nanodegreee Program. There are two other deliverables of the project:\n",
        "- **WeRateDogs Data Wrangle Report** briefly describes our wrangling efforts.\n",
        "- **Dog Breeds Popularity** (aka Act Report) communicates the insights and displays the visualization(s) produced from our wrangled data."
      ]
    },
    {
      "cell_type": "code",
      "metadata": {
        "id": "vRNqPo2ghJOt"
      },
      "source": [
        "# Import dependencies\n",
        "import requests\n",
        "import os\n",
        "import json\n",
        "import tweepy\n",
        "import pandas as pd\n",
        "import numpy as np\n",
        "import matplotlib.pyplot as plt"
      ],
      "execution_count": 1,
      "outputs": []
    },
    {
      "cell_type": "markdown",
      "metadata": {
        "id": "P0OJjIrehIJZ"
      },
      "source": [
        "## Data Gathering\n",
        "(1) The WeRateDogs Twitter archive data (twitter_archive_enhanced.csv) is downloaded directly from a GitHub repository using `pd.read_csv`."
      ]
    },
    {
      "cell_type": "code",
      "metadata": {
        "extensions": {
          "jupyter_dashboards": {
            "version": 1,
            "views": {
              "grid_default": {
                "hidden": true
              },
              "report_default": {
                "hidden": true
              }
            }
          }
        },
        "colab": {
          "base_uri": "https://localhost:8080/",
          "height": 581
        },
        "id": "8tOSUEWshIJa",
        "outputId": "1884be0a-5eaf-4f87-b790-aeda39446ad7"
      },
      "source": [
        "path_csv = 'https://raw.githubusercontent.com/lustraka/Data_Analysis_Workouts/main/Analyse_Twitter_Data/'\n",
        "dfa = pd.read_csv(path_csv+'twitter-archive-enhanced.csv')\n",
        "dfa.head()"
      ],
      "execution_count": null,
      "outputs": [
        {
          "output_type": "execute_result",
          "data": {
            "text/html": [
              "<div>\n",
              "<style scoped>\n",
              "    .dataframe tbody tr th:only-of-type {\n",
              "        vertical-align: middle;\n",
              "    }\n",
              "\n",
              "    .dataframe tbody tr th {\n",
              "        vertical-align: top;\n",
              "    }\n",
              "\n",
              "    .dataframe thead th {\n",
              "        text-align: right;\n",
              "    }\n",
              "</style>\n",
              "<table border=\"1\" class=\"dataframe\">\n",
              "  <thead>\n",
              "    <tr style=\"text-align: right;\">\n",
              "      <th></th>\n",
              "      <th>tweet_id</th>\n",
              "      <th>in_reply_to_status_id</th>\n",
              "      <th>in_reply_to_user_id</th>\n",
              "      <th>timestamp</th>\n",
              "      <th>source</th>\n",
              "      <th>text</th>\n",
              "      <th>retweeted_status_id</th>\n",
              "      <th>retweeted_status_user_id</th>\n",
              "      <th>retweeted_status_timestamp</th>\n",
              "      <th>expanded_urls</th>\n",
              "      <th>rating_numerator</th>\n",
              "      <th>rating_denominator</th>\n",
              "      <th>name</th>\n",
              "      <th>doggo</th>\n",
              "      <th>floofer</th>\n",
              "      <th>pupper</th>\n",
              "      <th>puppo</th>\n",
              "    </tr>\n",
              "  </thead>\n",
              "  <tbody>\n",
              "    <tr>\n",
              "      <th>0</th>\n",
              "      <td>892420643555336193</td>\n",
              "      <td>NaN</td>\n",
              "      <td>NaN</td>\n",
              "      <td>2017-08-01 16:23:56 +0000</td>\n",
              "      <td>&lt;a href=\"http://twitter.com/download/iphone\" r...</td>\n",
              "      <td>This is Phineas. He's a mystical boy. Only eve...</td>\n",
              "      <td>NaN</td>\n",
              "      <td>NaN</td>\n",
              "      <td>NaN</td>\n",
              "      <td>https://twitter.com/dog_rates/status/892420643...</td>\n",
              "      <td>13</td>\n",
              "      <td>10</td>\n",
              "      <td>Phineas</td>\n",
              "      <td>None</td>\n",
              "      <td>None</td>\n",
              "      <td>None</td>\n",
              "      <td>None</td>\n",
              "    </tr>\n",
              "    <tr>\n",
              "      <th>1</th>\n",
              "      <td>892177421306343426</td>\n",
              "      <td>NaN</td>\n",
              "      <td>NaN</td>\n",
              "      <td>2017-08-01 00:17:27 +0000</td>\n",
              "      <td>&lt;a href=\"http://twitter.com/download/iphone\" r...</td>\n",
              "      <td>This is Tilly. She's just checking pup on you....</td>\n",
              "      <td>NaN</td>\n",
              "      <td>NaN</td>\n",
              "      <td>NaN</td>\n",
              "      <td>https://twitter.com/dog_rates/status/892177421...</td>\n",
              "      <td>13</td>\n",
              "      <td>10</td>\n",
              "      <td>Tilly</td>\n",
              "      <td>None</td>\n",
              "      <td>None</td>\n",
              "      <td>None</td>\n",
              "      <td>None</td>\n",
              "    </tr>\n",
              "    <tr>\n",
              "      <th>2</th>\n",
              "      <td>891815181378084864</td>\n",
              "      <td>NaN</td>\n",
              "      <td>NaN</td>\n",
              "      <td>2017-07-31 00:18:03 +0000</td>\n",
              "      <td>&lt;a href=\"http://twitter.com/download/iphone\" r...</td>\n",
              "      <td>This is Archie. He is a rare Norwegian Pouncin...</td>\n",
              "      <td>NaN</td>\n",
              "      <td>NaN</td>\n",
              "      <td>NaN</td>\n",
              "      <td>https://twitter.com/dog_rates/status/891815181...</td>\n",
              "      <td>12</td>\n",
              "      <td>10</td>\n",
              "      <td>Archie</td>\n",
              "      <td>None</td>\n",
              "      <td>None</td>\n",
              "      <td>None</td>\n",
              "      <td>None</td>\n",
              "    </tr>\n",
              "    <tr>\n",
              "      <th>3</th>\n",
              "      <td>891689557279858688</td>\n",
              "      <td>NaN</td>\n",
              "      <td>NaN</td>\n",
              "      <td>2017-07-30 15:58:51 +0000</td>\n",
              "      <td>&lt;a href=\"http://twitter.com/download/iphone\" r...</td>\n",
              "      <td>This is Darla. She commenced a snooze mid meal...</td>\n",
              "      <td>NaN</td>\n",
              "      <td>NaN</td>\n",
              "      <td>NaN</td>\n",
              "      <td>https://twitter.com/dog_rates/status/891689557...</td>\n",
              "      <td>13</td>\n",
              "      <td>10</td>\n",
              "      <td>Darla</td>\n",
              "      <td>None</td>\n",
              "      <td>None</td>\n",
              "      <td>None</td>\n",
              "      <td>None</td>\n",
              "    </tr>\n",
              "    <tr>\n",
              "      <th>4</th>\n",
              "      <td>891327558926688256</td>\n",
              "      <td>NaN</td>\n",
              "      <td>NaN</td>\n",
              "      <td>2017-07-29 16:00:24 +0000</td>\n",
              "      <td>&lt;a href=\"http://twitter.com/download/iphone\" r...</td>\n",
              "      <td>This is Franklin. He would like you to stop ca...</td>\n",
              "      <td>NaN</td>\n",
              "      <td>NaN</td>\n",
              "      <td>NaN</td>\n",
              "      <td>https://twitter.com/dog_rates/status/891327558...</td>\n",
              "      <td>12</td>\n",
              "      <td>10</td>\n",
              "      <td>Franklin</td>\n",
              "      <td>None</td>\n",
              "      <td>None</td>\n",
              "      <td>None</td>\n",
              "      <td>None</td>\n",
              "    </tr>\n",
              "  </tbody>\n",
              "</table>\n",
              "</div>"
            ],
            "text/plain": [
              "             tweet_id  in_reply_to_status_id  ...  pupper puppo\n",
              "0  892420643555336193                    NaN  ...    None  None\n",
              "1  892177421306343426                    NaN  ...    None  None\n",
              "2  891815181378084864                    NaN  ...    None  None\n",
              "3  891689557279858688                    NaN  ...    None  None\n",
              "4  891327558926688256                    NaN  ...    None  None\n",
              "\n",
              "[5 rows x 17 columns]"
            ]
          },
          "metadata": {},
          "execution_count": 2
        }
      ]
    },
    {
      "cell_type": "markdown",
      "metadata": {
        "id": "YxWNngRlhIJa"
      },
      "source": [
        "(2) The tweet image predictions (image_predictions.tsv) are downloaded from given URL using the `requests` library."
      ]
    },
    {
      "cell_type": "code",
      "metadata": {
        "colab": {
          "base_uri": "https://localhost:8080/",
          "height": 224
        },
        "id": "a-ff0r44hIJb",
        "outputId": "ef317fe5-fbd2-4bc3-81c0-018cc54b14a1"
      },
      "source": [
        "url_tsv = 'https://d17h27t6h515a5.cloudfront.net/topher/2017/August/599fd2ad_image-predictions/image-predictions.tsv'\n",
        "r = requests.get(url_tsv)\n",
        "with open('image-predictions.tsv', 'wb') as file:\n",
        "  file.write(r.content)\n",
        "dfi = pd.read_csv('image-predictions.tsv', sep='\\t')\n",
        "dfi.head()"
      ],
      "execution_count": null,
      "outputs": [
        {
          "output_type": "execute_result",
          "data": {
            "text/html": [
              "<div>\n",
              "<style scoped>\n",
              "    .dataframe tbody tr th:only-of-type {\n",
              "        vertical-align: middle;\n",
              "    }\n",
              "\n",
              "    .dataframe tbody tr th {\n",
              "        vertical-align: top;\n",
              "    }\n",
              "\n",
              "    .dataframe thead th {\n",
              "        text-align: right;\n",
              "    }\n",
              "</style>\n",
              "<table border=\"1\" class=\"dataframe\">\n",
              "  <thead>\n",
              "    <tr style=\"text-align: right;\">\n",
              "      <th></th>\n",
              "      <th>tweet_id</th>\n",
              "      <th>jpg_url</th>\n",
              "      <th>img_num</th>\n",
              "      <th>p1</th>\n",
              "      <th>p1_conf</th>\n",
              "      <th>p1_dog</th>\n",
              "      <th>p2</th>\n",
              "      <th>p2_conf</th>\n",
              "      <th>p2_dog</th>\n",
              "      <th>p3</th>\n",
              "      <th>p3_conf</th>\n",
              "      <th>p3_dog</th>\n",
              "    </tr>\n",
              "  </thead>\n",
              "  <tbody>\n",
              "    <tr>\n",
              "      <th>0</th>\n",
              "      <td>666020888022790149</td>\n",
              "      <td>https://pbs.twimg.com/media/CT4udn0WwAA0aMy.jpg</td>\n",
              "      <td>1</td>\n",
              "      <td>Welsh_springer_spaniel</td>\n",
              "      <td>0.465074</td>\n",
              "      <td>True</td>\n",
              "      <td>collie</td>\n",
              "      <td>0.156665</td>\n",
              "      <td>True</td>\n",
              "      <td>Shetland_sheepdog</td>\n",
              "      <td>0.061428</td>\n",
              "      <td>True</td>\n",
              "    </tr>\n",
              "    <tr>\n",
              "      <th>1</th>\n",
              "      <td>666029285002620928</td>\n",
              "      <td>https://pbs.twimg.com/media/CT42GRgUYAA5iDo.jpg</td>\n",
              "      <td>1</td>\n",
              "      <td>redbone</td>\n",
              "      <td>0.506826</td>\n",
              "      <td>True</td>\n",
              "      <td>miniature_pinscher</td>\n",
              "      <td>0.074192</td>\n",
              "      <td>True</td>\n",
              "      <td>Rhodesian_ridgeback</td>\n",
              "      <td>0.072010</td>\n",
              "      <td>True</td>\n",
              "    </tr>\n",
              "    <tr>\n",
              "      <th>2</th>\n",
              "      <td>666033412701032449</td>\n",
              "      <td>https://pbs.twimg.com/media/CT4521TWwAEvMyu.jpg</td>\n",
              "      <td>1</td>\n",
              "      <td>German_shepherd</td>\n",
              "      <td>0.596461</td>\n",
              "      <td>True</td>\n",
              "      <td>malinois</td>\n",
              "      <td>0.138584</td>\n",
              "      <td>True</td>\n",
              "      <td>bloodhound</td>\n",
              "      <td>0.116197</td>\n",
              "      <td>True</td>\n",
              "    </tr>\n",
              "    <tr>\n",
              "      <th>3</th>\n",
              "      <td>666044226329800704</td>\n",
              "      <td>https://pbs.twimg.com/media/CT5Dr8HUEAA-lEu.jpg</td>\n",
              "      <td>1</td>\n",
              "      <td>Rhodesian_ridgeback</td>\n",
              "      <td>0.408143</td>\n",
              "      <td>True</td>\n",
              "      <td>redbone</td>\n",
              "      <td>0.360687</td>\n",
              "      <td>True</td>\n",
              "      <td>miniature_pinscher</td>\n",
              "      <td>0.222752</td>\n",
              "      <td>True</td>\n",
              "    </tr>\n",
              "    <tr>\n",
              "      <th>4</th>\n",
              "      <td>666049248165822465</td>\n",
              "      <td>https://pbs.twimg.com/media/CT5IQmsXIAAKY4A.jpg</td>\n",
              "      <td>1</td>\n",
              "      <td>miniature_pinscher</td>\n",
              "      <td>0.560311</td>\n",
              "      <td>True</td>\n",
              "      <td>Rottweiler</td>\n",
              "      <td>0.243682</td>\n",
              "      <td>True</td>\n",
              "      <td>Doberman</td>\n",
              "      <td>0.154629</td>\n",
              "      <td>True</td>\n",
              "    </tr>\n",
              "  </tbody>\n",
              "</table>\n",
              "</div>"
            ],
            "text/plain": [
              "             tweet_id  ... p3_dog\n",
              "0  666020888022790149  ...   True\n",
              "1  666029285002620928  ...   True\n",
              "2  666033412701032449  ...   True\n",
              "3  666044226329800704  ...   True\n",
              "4  666049248165822465  ...   True\n",
              "\n",
              "[5 rows x 12 columns]"
            ]
          },
          "metadata": {},
          "execution_count": 3
        }
      ]
    },
    {
      "cell_type": "markdown",
      "metadata": {
        "id": "1M6G_1achIJb"
      },
      "source": [
        "(3) Additional data (tweet_json.txt) are gathered via the Twitter API using the `tweepy` library."
      ]
    },
    {
      "cell_type": "code",
      "metadata": {
        "id": "tV2zJ0JyhIJb"
      },
      "source": [
        "consumer_key = 'hidden'\n",
        "consumer_secret = 'hidden'\n",
        "access_token = 'hidden'\n",
        "access_secret = 'hidden'\n",
        "\n",
        "auth = tweepy.OAuthHandler(consumer_key, consumer_secret)\n",
        "auth.set_access_token(access_token, access_secret)\n",
        "\n",
        "api = tweepy.API(auth, wait_on_rate_limit=True, wait_on_rate_limit_notify=True)"
      ],
      "execution_count": null,
      "outputs": []
    },
    {
      "cell_type": "code",
      "metadata": {
        "id": "g06OjM_HrDp5",
        "colab": {
          "base_uri": "https://localhost:8080/"
        },
        "outputId": "26f7157d-886e-4699-8bbd-0bca3a6fdd1e"
      },
      "source": [
        "from timeit import default_timer as timer\n",
        "\n",
        "count = 0\n",
        "fails_dict =  {}\n",
        "start = timer()\n",
        "\n",
        "if 'tweet_json.txt' in os.listdir():\n",
        "  os.remove('tweet_json.txt')\n",
        "\n",
        "with open('tweet_json.txt', 'a') as file:\n",
        "  for tweet_id in dfa.tweet_id.values:\n",
        "    count += 1\n",
        "    if count % 42 == 0:\n",
        "      print(str(count) + ' (' + str(tweet_id), end='): ')\n",
        "    try:\n",
        "      status = api.get_status(tweet_id, tweet_mode='extended')._json\n",
        "      if count % 42 == 0:\n",
        "        print(\"Success\")\n",
        "      file.write(json.dumps(status, ensure_ascii=False)+'\\n')\n",
        "    except tweepy.TweepError as e:\n",
        "      if count % 42 == 0:\n",
        "        print('Fail')\n",
        "      fails_dict[tweet_id] = e\n",
        "      pass\n",
        "    except e:\n",
        "      print('Fail', e)\n",
        "end = timer()\n",
        "print(f'Elapsed time: {end - start}')\n",
        "print(fails_dict)"
      ],
      "execution_count": null,
      "outputs": [
        {
          "output_type": "stream",
          "name": "stdout",
          "text": [
            "42 (884441805382717440) :Success\n",
            "84 (876537666061221889) :Success\n",
            "126 (868622495443632128) :Success\n",
            "168 (859851578198683649) :Success\n",
            "210 (852226086759018497) :Success\n",
            "252 (844979544864018432) :Success\n",
            "294 (837820167694528512) :Success\n",
            "336 (832645525019123713) :Success\n",
            "378 (828011680017821696) :Success\n",
            "420 (822244816520155136) :Success\n",
            "462 (817536400337801217) :Success\n",
            "504 (813066809284972545) :Success\n",
            "546 (805826884734976000) :Success\n",
            "588 (799757965289017345) :Success\n",
            "630 (794355576146903043) :Success\n",
            "672 (789960241177853952) :Success\n",
            "714 (784183165795655680) :Success\n",
            "756 (778748913645780993) :Success\n",
            "798 (773191612633579521) :Success\n",
            "840 (767191397493538821) :Success\n",
            "882 (760521673607086080) :Success\n"
          ]
        },
        {
          "output_type": "stream",
          "name": "stderr",
          "text": [
            "Rate limit reached. Sleeping for: 803\n"
          ]
        },
        {
          "output_type": "stream",
          "name": "stdout",
          "text": [
            "924 (755955933503782912) :Success\n",
            "966 (750429297815552001) :Success\n",
            "1008 (747600769478692864) :Success\n",
            "1050 (743222593470234624) :Success\n",
            "1092 (737445876994609152) :Success\n",
            "1134 (728751179681943552) :Success\n",
            "1176 (720043174954147842) :Success\n",
            "1218 (714962719905021952) :Success\n",
            "1260 (710272297844797440) :Success\n",
            "1302 (707629649552134146) :Success\n",
            "1344 (704761120771465216) :Success\n",
            "1386 (700747788515020802) :Success\n",
            "1428 (697630435728322560) :Success\n",
            "1470 (694183373896572928) :Success\n",
            "1512 (691416866452082688) :Success\n",
            "1554 (688908934925697024) :Success\n",
            "1596 (686358356425093120) :Success\n",
            "1638 (684195085588783105) :Success\n",
            "1680 (682032003584274432) :Success\n",
            "1722 (680130881361686529) :Success\n",
            "1764 (678446151570427904) :Success\n"
          ]
        },
        {
          "output_type": "stream",
          "name": "stderr",
          "text": [
            "Rate limit reached. Sleeping for: 804\n"
          ]
        },
        {
          "output_type": "stream",
          "name": "stdout",
          "text": [
            "1806 (676942428000112642) :Success\n",
            "1848 (675820929667219457) :Success\n",
            "1890 (674774481756377088) :Success\n",
            "1932 (674036086168010753) :Success\n",
            "1974 (673213039743795200) :Success\n",
            "2016 (672205392827572224) :Success\n",
            "2058 (671355857343524864) :Success\n",
            "2100 (670717338665226240) :Success\n",
            "2142 (669993076832759809) :Success\n",
            "2184 (668989615043424256) :Success\n",
            "2226 (668286279830867968) :Success\n",
            "2268 (667524857454854144) :Success\n",
            "2310 (666804364988780544) :Success\n",
            "2352 (666049248165822465) :Success\n",
            "Elapsed time: 1870.482612943\n",
            "{888202515573088257: TweepError([{'code': 144, 'message': 'No status found with that ID.'}]), 873697596434513921: TweepError([{'code': 144, 'message': 'No status found with that ID.'}]), 872668790621863937: TweepError([{'code': 144, 'message': 'No status found with that ID.'}]), 872261713294495745: TweepError([{'code': 144, 'message': 'No status found with that ID.'}]), 869988702071779329: TweepError([{'code': 144, 'message': 'No status found with that ID.'}]), 866816280283807744: TweepError([{'code': 144, 'message': 'No status found with that ID.'}]), 861769973181624320: TweepError([{'code': 144, 'message': 'No status found with that ID.'}]), 856602993587888130: TweepError([{'code': 144, 'message': 'No status found with that ID.'}]), 856330835276025856: TweepError([{'code': 34, 'message': 'Sorry, that page does not exist.'}]), 851953902622658560: TweepError([{'code': 144, 'message': 'No status found with that ID.'}]), 845459076796616705: TweepError([{'code': 144, 'message': 'No status found with that ID.'}]), 844704788403113984: TweepError([{'code': 144, 'message': 'No status found with that ID.'}]), 842892208864923648: TweepError([{'code': 144, 'message': 'No status found with that ID.'}]), 837366284874571778: TweepError([{'code': 144, 'message': 'No status found with that ID.'}]), 837012587749474308: TweepError([{'code': 144, 'message': 'No status found with that ID.'}]), 829374341691346946: TweepError([{'code': 144, 'message': 'No status found with that ID.'}]), 827228250799742977: TweepError([{'code': 144, 'message': 'No status found with that ID.'}]), 812747805718642688: TweepError([{'code': 144, 'message': 'No status found with that ID.'}]), 802247111496568832: TweepError([{'code': 144, 'message': 'No status found with that ID.'}]), 779123168116150273: TweepError([{'code': 144, 'message': 'No status found with that ID.'}]), 775096608509886464: TweepError([{'code': 144, 'message': 'No status found with that ID.'}]), 771004394259247104: TweepError([{'code': 179, 'message': 'Sorry, you are not authorized to see this status.'}]), 770743923962707968: TweepError([{'code': 144, 'message': 'No status found with that ID.'}]), 766864461642756096: TweepError([{'code': 144, 'message': 'No status found with that ID.'}]), 759923798737051648: TweepError([{'code': 144, 'message': 'No status found with that ID.'}]), 759566828574212096: TweepError([{'code': 144, 'message': 'No status found with that ID.'}]), 757597904299253760: TweepError([{'code': 179, 'message': 'Sorry, you are not authorized to see this status.'}]), 754011816964026368: TweepError([{'code': 144, 'message': 'No status found with that ID.'}]), 680055455951884288: TweepError([{'code': 144, 'message': 'No status found with that ID.'}])}\n"
          ]
        }
      ]
    },
    {
      "cell_type": "markdown",
      "metadata": {
        "id": "z9J2fUn7uTSB"
      },
      "source": [
        "Data gathered form Twitter API:\n",
        "\n",
        "| Attribute | Type | Description |\n",
        "| --- | :-: | --- |\n",
        "| id | int | The integer representation of unique identifier for this Tweet |\n",
        "| retweet_count | int | Number of times this Tweet has been retweeted. |\n",
        "| favorite_count | int | *Nullable*. Indicates approximately how many times this tweet has been liked by Twitter users. |\n",
        "\n",
        "Reference: [Tweepy docs: Tweet Object](https://developer.twitter.com/en/docs/twitter-api/v1/data-dictionary/object-model/tweet)\n",
        "\n"
      ]
    },
    {
      "cell_type": "code",
      "metadata": {
        "colab": {
          "base_uri": "https://localhost:8080/",
          "height": 204
        },
        "id": "wxpraUv41oLs",
        "outputId": "4132b813-69a7-49b1-e1e9-72c72ebbf65e"
      },
      "source": [
        "df_tweets = []\n",
        "with open('tweet_json.txt', 'r') as file:\n",
        "  line = file.readline()\n",
        "  while line:\n",
        "    status = json.loads(line)\n",
        "    df_tweets.append({'tweet_id': status['id'], 'retweet_count': status['retweet_count'], 'favorite_count': status['favorite_count']})\n",
        "    line = file.readline()\n",
        "dft = pd.DataFrame(df_tweets)\n",
        "dft.head()"
      ],
      "execution_count": null,
      "outputs": [
        {
          "output_type": "execute_result",
          "data": {
            "text/html": [
              "<div>\n",
              "<style scoped>\n",
              "    .dataframe tbody tr th:only-of-type {\n",
              "        vertical-align: middle;\n",
              "    }\n",
              "\n",
              "    .dataframe tbody tr th {\n",
              "        vertical-align: top;\n",
              "    }\n",
              "\n",
              "    .dataframe thead th {\n",
              "        text-align: right;\n",
              "    }\n",
              "</style>\n",
              "<table border=\"1\" class=\"dataframe\">\n",
              "  <thead>\n",
              "    <tr style=\"text-align: right;\">\n",
              "      <th></th>\n",
              "      <th>tweet_id</th>\n",
              "      <th>retweet_count</th>\n",
              "      <th>favorite_count</th>\n",
              "    </tr>\n",
              "  </thead>\n",
              "  <tbody>\n",
              "    <tr>\n",
              "      <th>0</th>\n",
              "      <td>892420643555336193</td>\n",
              "      <td>7160</td>\n",
              "      <td>34447</td>\n",
              "    </tr>\n",
              "    <tr>\n",
              "      <th>1</th>\n",
              "      <td>892177421306343426</td>\n",
              "      <td>5385</td>\n",
              "      <td>29872</td>\n",
              "    </tr>\n",
              "    <tr>\n",
              "      <th>2</th>\n",
              "      <td>891815181378084864</td>\n",
              "      <td>3550</td>\n",
              "      <td>22486</td>\n",
              "    </tr>\n",
              "    <tr>\n",
              "      <th>3</th>\n",
              "      <td>891689557279858688</td>\n",
              "      <td>7375</td>\n",
              "      <td>37659</td>\n",
              "    </tr>\n",
              "    <tr>\n",
              "      <th>4</th>\n",
              "      <td>891327558926688256</td>\n",
              "      <td>7918</td>\n",
              "      <td>35974</td>\n",
              "    </tr>\n",
              "  </tbody>\n",
              "</table>\n",
              "</div>"
            ],
            "text/plain": [
              "             tweet_id  retweet_count  favorite_count\n",
              "0  892420643555336193           7160           34447\n",
              "1  892177421306343426           5385           29872\n",
              "2  891815181378084864           3550           22486\n",
              "3  891689557279858688           7375           37659\n",
              "4  891327558926688256           7918           35974"
            ]
          },
          "metadata": {},
          "execution_count": 6
        }
      ]
    },
    {
      "cell_type": "markdown",
      "metadata": {
        "extensions": {
          "jupyter_dashboards": {
            "version": 1,
            "views": {
              "grid_default": {
                "col": 4,
                "height": 4,
                "hidden": false,
                "row": 28,
                "width": 4
              },
              "report_default": {
                "hidden": false
              }
            }
          }
        },
        "id": "mRgVkK8NhIJc"
      },
      "source": [
        "## Assessing Data\n",
        "Key assumptions:\n",
        "* We only want original ratings (no retweets or replies) that have images. Though there are 5000+ tweets in the dataset, not all are dog ratings and some are retweets.\n",
        "* Assessing and cleaning the entire dataset completely would require a lot of time. Therefore, we will assess and clean 8 quality issues and 3 tidiness issues in this dataset.\n",
        "* The fact that the rating numerators are greater than the denominators does not need to be cleaned. This [unique rating system](http://knowyourmeme.com/memes/theyre-good-dogs-brent) is a big part of the popularity of WeRateDogs.\n",
        "* We will gather the additional tweet data only for tweets in the *twitter_archive_enhanced.csv* dataset.\n",
        "\n"
      ]
    },
    {
      "cell_type": "markdown",
      "metadata": {
        "id": "uaIJrGPrW9sE"
      },
      "source": [
        "### The archive `twitter_archive_enhanced.csv` (alias `dba`)\n",
        "> \"I extracted this data programmatically, but I didn't do a very good job. The ratings probably aren't all correct. Same goes for the dog names and probably dog stages (see below for more information on these) too. You'll need to assess and clean these columns if you want to use them for analysis and visualization.\""
      ]
    },
    {
      "cell_type": "code",
      "metadata": {
        "id": "SIU3vuiii6-b",
        "colab": {
          "base_uri": "https://localhost:8080/",
          "height": 1000
        },
        "outputId": "377fbd4e-e413-4ae8-87e2-60275b963890"
      },
      "source": [
        "dfa.sample(15)"
      ],
      "execution_count": null,
      "outputs": [
        {
          "output_type": "execute_result",
          "data": {
            "text/html": [
              "<div>\n",
              "<style scoped>\n",
              "    .dataframe tbody tr th:only-of-type {\n",
              "        vertical-align: middle;\n",
              "    }\n",
              "\n",
              "    .dataframe tbody tr th {\n",
              "        vertical-align: top;\n",
              "    }\n",
              "\n",
              "    .dataframe thead th {\n",
              "        text-align: right;\n",
              "    }\n",
              "</style>\n",
              "<table border=\"1\" class=\"dataframe\">\n",
              "  <thead>\n",
              "    <tr style=\"text-align: right;\">\n",
              "      <th></th>\n",
              "      <th>tweet_id</th>\n",
              "      <th>in_reply_to_status_id</th>\n",
              "      <th>in_reply_to_user_id</th>\n",
              "      <th>timestamp</th>\n",
              "      <th>source</th>\n",
              "      <th>text</th>\n",
              "      <th>retweeted_status_id</th>\n",
              "      <th>retweeted_status_user_id</th>\n",
              "      <th>retweeted_status_timestamp</th>\n",
              "      <th>expanded_urls</th>\n",
              "      <th>rating_numerator</th>\n",
              "      <th>rating_denominator</th>\n",
              "      <th>name</th>\n",
              "      <th>doggo</th>\n",
              "      <th>floofer</th>\n",
              "      <th>pupper</th>\n",
              "      <th>puppo</th>\n",
              "    </tr>\n",
              "  </thead>\n",
              "  <tbody>\n",
              "    <tr>\n",
              "      <th>208</th>\n",
              "      <td>852311364735569921</td>\n",
              "      <td>NaN</td>\n",
              "      <td>NaN</td>\n",
              "      <td>2017-04-13 00:03:59 +0000</td>\n",
              "      <td>&lt;a href=\"http://twitter.com/download/iphone\" r...</td>\n",
              "      <td>This is Wiggles. She would like you to spot he...</td>\n",
              "      <td>NaN</td>\n",
              "      <td>NaN</td>\n",
              "      <td>NaN</td>\n",
              "      <td>https://twitter.com/dog_rates/status/852311364...</td>\n",
              "      <td>13</td>\n",
              "      <td>10</td>\n",
              "      <td>Wiggles</td>\n",
              "      <td>None</td>\n",
              "      <td>None</td>\n",
              "      <td>None</td>\n",
              "      <td>None</td>\n",
              "    </tr>\n",
              "    <tr>\n",
              "      <th>1980</th>\n",
              "      <td>672975131468300288</td>\n",
              "      <td>NaN</td>\n",
              "      <td>NaN</td>\n",
              "      <td>2015-12-05 03:05:49 +0000</td>\n",
              "      <td>&lt;a href=\"http://twitter.com/download/iphone\" r...</td>\n",
              "      <td>This is Chuckles. He is one skeptical pupper. ...</td>\n",
              "      <td>NaN</td>\n",
              "      <td>NaN</td>\n",
              "      <td>NaN</td>\n",
              "      <td>https://twitter.com/dog_rates/status/672975131...</td>\n",
              "      <td>10</td>\n",
              "      <td>10</td>\n",
              "      <td>Chuckles</td>\n",
              "      <td>None</td>\n",
              "      <td>None</td>\n",
              "      <td>pupper</td>\n",
              "      <td>None</td>\n",
              "    </tr>\n",
              "    <tr>\n",
              "      <th>1085</th>\n",
              "      <td>738184450748633089</td>\n",
              "      <td>NaN</td>\n",
              "      <td>NaN</td>\n",
              "      <td>2016-06-02 01:44:22 +0000</td>\n",
              "      <td>&lt;a href=\"http://twitter.com/download/iphone\" r...</td>\n",
              "      <td>For the last time, we only rate dogs. Pls stop...</td>\n",
              "      <td>NaN</td>\n",
              "      <td>NaN</td>\n",
              "      <td>NaN</td>\n",
              "      <td>https://twitter.com/dog_rates/status/738184450...</td>\n",
              "      <td>9</td>\n",
              "      <td>10</td>\n",
              "      <td>None</td>\n",
              "      <td>None</td>\n",
              "      <td>None</td>\n",
              "      <td>None</td>\n",
              "      <td>None</td>\n",
              "    </tr>\n",
              "    <tr>\n",
              "      <th>2353</th>\n",
              "      <td>666033412701032449</td>\n",
              "      <td>NaN</td>\n",
              "      <td>NaN</td>\n",
              "      <td>2015-11-15 23:21:54 +0000</td>\n",
              "      <td>&lt;a href=\"http://twitter.com/download/iphone\" r...</td>\n",
              "      <td>Here is a very happy pup. Big fan of well-main...</td>\n",
              "      <td>NaN</td>\n",
              "      <td>NaN</td>\n",
              "      <td>NaN</td>\n",
              "      <td>https://twitter.com/dog_rates/status/666033412...</td>\n",
              "      <td>9</td>\n",
              "      <td>10</td>\n",
              "      <td>a</td>\n",
              "      <td>None</td>\n",
              "      <td>None</td>\n",
              "      <td>None</td>\n",
              "      <td>None</td>\n",
              "    </tr>\n",
              "    <tr>\n",
              "      <th>702</th>\n",
              "      <td>786036967502913536</td>\n",
              "      <td>NaN</td>\n",
              "      <td>NaN</td>\n",
              "      <td>2016-10-12 02:53:11 +0000</td>\n",
              "      <td>&lt;a href=\"http://twitter.com/download/iphone\" r...</td>\n",
              "      <td>RT @dog_rates: This is Scout. He really wants ...</td>\n",
              "      <td>7.798343e+17</td>\n",
              "      <td>4.196984e+09</td>\n",
              "      <td>2016-09-25 00:06:08 +0000</td>\n",
              "      <td>https://twitter.com/dog_rates/status/779834332...</td>\n",
              "      <td>11</td>\n",
              "      <td>10</td>\n",
              "      <td>Scout</td>\n",
              "      <td>None</td>\n",
              "      <td>None</td>\n",
              "      <td>None</td>\n",
              "      <td>None</td>\n",
              "    </tr>\n",
              "    <tr>\n",
              "      <th>596</th>\n",
              "      <td>798697898615730177</td>\n",
              "      <td>NaN</td>\n",
              "      <td>NaN</td>\n",
              "      <td>2016-11-16 01:23:12 +0000</td>\n",
              "      <td>&lt;a href=\"http://twitter.com/download/iphone\" r...</td>\n",
              "      <td>RT @dog_rates: This is Stubert. He just arrive...</td>\n",
              "      <td>7.128090e+17</td>\n",
              "      <td>4.196984e+09</td>\n",
              "      <td>2016-03-24 01:11:29 +0000</td>\n",
              "      <td>https://twitter.com/dog_rates/status/712809025...</td>\n",
              "      <td>10</td>\n",
              "      <td>10</td>\n",
              "      <td>Stubert</td>\n",
              "      <td>None</td>\n",
              "      <td>None</td>\n",
              "      <td>None</td>\n",
              "      <td>None</td>\n",
              "    </tr>\n",
              "    <tr>\n",
              "      <th>2063</th>\n",
              "      <td>671159727754231808</td>\n",
              "      <td>NaN</td>\n",
              "      <td>NaN</td>\n",
              "      <td>2015-11-30 02:52:03 +0000</td>\n",
              "      <td>&lt;a href=\"http://twitter.com/download/iphone\" r...</td>\n",
              "      <td>This is Anthony. He just finished up his maste...</td>\n",
              "      <td>NaN</td>\n",
              "      <td>NaN</td>\n",
              "      <td>NaN</td>\n",
              "      <td>https://twitter.com/dog_rates/status/671159727...</td>\n",
              "      <td>5</td>\n",
              "      <td>10</td>\n",
              "      <td>Anthony</td>\n",
              "      <td>None</td>\n",
              "      <td>None</td>\n",
              "      <td>None</td>\n",
              "      <td>None</td>\n",
              "    </tr>\n",
              "    <tr>\n",
              "      <th>585</th>\n",
              "      <td>800018252395122689</td>\n",
              "      <td>NaN</td>\n",
              "      <td>NaN</td>\n",
              "      <td>2016-11-19 16:49:49 +0000</td>\n",
              "      <td>&lt;a href=\"http://twitter.com/download/iphone\" r...</td>\n",
              "      <td>Here's a doggo doin a struggle. 11/10 much det...</td>\n",
              "      <td>NaN</td>\n",
              "      <td>NaN</td>\n",
              "      <td>NaN</td>\n",
              "      <td>https://twitter.com/dog_rates/status/800018252...</td>\n",
              "      <td>11</td>\n",
              "      <td>10</td>\n",
              "      <td>None</td>\n",
              "      <td>doggo</td>\n",
              "      <td>None</td>\n",
              "      <td>None</td>\n",
              "      <td>None</td>\n",
              "    </tr>\n",
              "    <tr>\n",
              "      <th>928</th>\n",
              "      <td>754747087846248448</td>\n",
              "      <td>NaN</td>\n",
              "      <td>NaN</td>\n",
              "      <td>2016-07-17 18:38:22 +0000</td>\n",
              "      <td>&lt;a href=\"http://twitter.com/download/iphone\" r...</td>\n",
              "      <td>This is Keith. He's pursuing a more 2D lifesty...</td>\n",
              "      <td>NaN</td>\n",
              "      <td>NaN</td>\n",
              "      <td>NaN</td>\n",
              "      <td>https://twitter.com/dog_rates/status/754747087...</td>\n",
              "      <td>12</td>\n",
              "      <td>10</td>\n",
              "      <td>Keith</td>\n",
              "      <td>None</td>\n",
              "      <td>None</td>\n",
              "      <td>None</td>\n",
              "      <td>None</td>\n",
              "    </tr>\n",
              "    <tr>\n",
              "      <th>1214</th>\n",
              "      <td>715200624753819648</td>\n",
              "      <td>NaN</td>\n",
              "      <td>NaN</td>\n",
              "      <td>2016-03-30 15:34:51 +0000</td>\n",
              "      <td>&lt;a href=\"http://twitter.com/download/iphone\" r...</td>\n",
              "      <td>This is Michelangelope. He's half coffee cup. ...</td>\n",
              "      <td>NaN</td>\n",
              "      <td>NaN</td>\n",
              "      <td>NaN</td>\n",
              "      <td>https://twitter.com/dog_rates/status/715200624...</td>\n",
              "      <td>12</td>\n",
              "      <td>10</td>\n",
              "      <td>Michelangelope</td>\n",
              "      <td>None</td>\n",
              "      <td>None</td>\n",
              "      <td>None</td>\n",
              "      <td>None</td>\n",
              "    </tr>\n",
              "    <tr>\n",
              "      <th>528</th>\n",
              "      <td>808501579447930884</td>\n",
              "      <td>NaN</td>\n",
              "      <td>NaN</td>\n",
              "      <td>2016-12-13 02:39:32 +0000</td>\n",
              "      <td>&lt;a href=\"http://twitter.com/download/iphone\" r...</td>\n",
              "      <td>This is Koda. He dug a hole and then sat in it...</td>\n",
              "      <td>NaN</td>\n",
              "      <td>NaN</td>\n",
              "      <td>NaN</td>\n",
              "      <td>https://twitter.com/dog_rates/status/808501579...</td>\n",
              "      <td>12</td>\n",
              "      <td>10</td>\n",
              "      <td>Koda</td>\n",
              "      <td>None</td>\n",
              "      <td>None</td>\n",
              "      <td>None</td>\n",
              "      <td>None</td>\n",
              "    </tr>\n",
              "    <tr>\n",
              "      <th>448</th>\n",
              "      <td>819006400881917954</td>\n",
              "      <td>NaN</td>\n",
              "      <td>NaN</td>\n",
              "      <td>2017-01-11 02:21:57 +0000</td>\n",
              "      <td>&lt;a href=\"http://twitter.com/download/iphone\" r...</td>\n",
              "      <td>This is Sunny. She was also a very good First ...</td>\n",
              "      <td>NaN</td>\n",
              "      <td>NaN</td>\n",
              "      <td>NaN</td>\n",
              "      <td>https://twitter.com/dog_rates/status/819006400...</td>\n",
              "      <td>14</td>\n",
              "      <td>10</td>\n",
              "      <td>Sunny</td>\n",
              "      <td>doggo</td>\n",
              "      <td>None</td>\n",
              "      <td>None</td>\n",
              "      <td>None</td>\n",
              "    </tr>\n",
              "    <tr>\n",
              "      <th>242</th>\n",
              "      <td>846153765933735936</td>\n",
              "      <td>NaN</td>\n",
              "      <td>NaN</td>\n",
              "      <td>2017-03-27 00:15:53 +0000</td>\n",
              "      <td>&lt;a href=\"http://twitter.com/download/iphone\" r...</td>\n",
              "      <td>This is Vixen. He really likes bananas. Steals...</td>\n",
              "      <td>NaN</td>\n",
              "      <td>NaN</td>\n",
              "      <td>NaN</td>\n",
              "      <td>https://twitter.com/dog_rates/status/846153765...</td>\n",
              "      <td>13</td>\n",
              "      <td>10</td>\n",
              "      <td>Vixen</td>\n",
              "      <td>None</td>\n",
              "      <td>None</td>\n",
              "      <td>None</td>\n",
              "      <td>None</td>\n",
              "    </tr>\n",
              "    <tr>\n",
              "      <th>2247</th>\n",
              "      <td>667873844930215936</td>\n",
              "      <td>NaN</td>\n",
              "      <td>NaN</td>\n",
              "      <td>2015-11-21 01:15:07 +0000</td>\n",
              "      <td>&lt;a href=\"http://twitter.com/download/iphone\" r...</td>\n",
              "      <td>Neat dog. Lots of spikes. Always in push-up po...</td>\n",
              "      <td>NaN</td>\n",
              "      <td>NaN</td>\n",
              "      <td>NaN</td>\n",
              "      <td>https://twitter.com/dog_rates/status/667873844...</td>\n",
              "      <td>10</td>\n",
              "      <td>10</td>\n",
              "      <td>None</td>\n",
              "      <td>None</td>\n",
              "      <td>None</td>\n",
              "      <td>None</td>\n",
              "      <td>None</td>\n",
              "    </tr>\n",
              "    <tr>\n",
              "      <th>866</th>\n",
              "      <td>762035686371364864</td>\n",
              "      <td>NaN</td>\n",
              "      <td>NaN</td>\n",
              "      <td>2016-08-06 21:20:40 +0000</td>\n",
              "      <td>&lt;a href=\"http://twitter.com/download/iphone\" r...</td>\n",
              "      <td>This left me speechless. 14/10 heckin heroic a...</td>\n",
              "      <td>NaN</td>\n",
              "      <td>NaN</td>\n",
              "      <td>NaN</td>\n",
              "      <td>https://twitter.com/dog_rates/status/762035686...</td>\n",
              "      <td>14</td>\n",
              "      <td>10</td>\n",
              "      <td>None</td>\n",
              "      <td>None</td>\n",
              "      <td>None</td>\n",
              "      <td>None</td>\n",
              "      <td>None</td>\n",
              "    </tr>\n",
              "  </tbody>\n",
              "</table>\n",
              "</div>"
            ],
            "text/plain": [
              "                tweet_id  in_reply_to_status_id  ...  pupper puppo\n",
              "208   852311364735569921                    NaN  ...    None  None\n",
              "1980  672975131468300288                    NaN  ...  pupper  None\n",
              "1085  738184450748633089                    NaN  ...    None  None\n",
              "2353  666033412701032449                    NaN  ...    None  None\n",
              "702   786036967502913536                    NaN  ...    None  None\n",
              "596   798697898615730177                    NaN  ...    None  None\n",
              "2063  671159727754231808                    NaN  ...    None  None\n",
              "585   800018252395122689                    NaN  ...    None  None\n",
              "928   754747087846248448                    NaN  ...    None  None\n",
              "1214  715200624753819648                    NaN  ...    None  None\n",
              "528   808501579447930884                    NaN  ...    None  None\n",
              "448   819006400881917954                    NaN  ...    None  None\n",
              "242   846153765933735936                    NaN  ...    None  None\n",
              "2247  667873844930215936                    NaN  ...    None  None\n",
              "866   762035686371364864                    NaN  ...    None  None\n",
              "\n",
              "[15 rows x 17 columns]"
            ]
          },
          "metadata": {},
          "execution_count": 7
        }
      ]
    },
    {
      "cell_type": "code",
      "metadata": {
        "id": "H2reMLBAhIJc",
        "colab": {
          "base_uri": "https://localhost:8080/"
        },
        "outputId": "16f246f8-9a0a-4262-d8d9-38bef7a8abde"
      },
      "source": [
        "dfa.info()"
      ],
      "execution_count": null,
      "outputs": [
        {
          "output_type": "stream",
          "name": "stdout",
          "text": [
            "<class 'pandas.core.frame.DataFrame'>\n",
            "RangeIndex: 2356 entries, 0 to 2355\n",
            "Data columns (total 17 columns):\n",
            " #   Column                      Non-Null Count  Dtype  \n",
            "---  ------                      --------------  -----  \n",
            " 0   tweet_id                    2356 non-null   int64  \n",
            " 1   in_reply_to_status_id       78 non-null     float64\n",
            " 2   in_reply_to_user_id         78 non-null     float64\n",
            " 3   timestamp                   2356 non-null   object \n",
            " 4   source                      2356 non-null   object \n",
            " 5   text                        2356 non-null   object \n",
            " 6   retweeted_status_id         181 non-null    float64\n",
            " 7   retweeted_status_user_id    181 non-null    float64\n",
            " 8   retweeted_status_timestamp  181 non-null    object \n",
            " 9   expanded_urls               2297 non-null   object \n",
            " 10  rating_numerator            2356 non-null   int64  \n",
            " 11  rating_denominator          2356 non-null   int64  \n",
            " 12  name                        2356 non-null   object \n",
            " 13  doggo                       2356 non-null   object \n",
            " 14  floofer                     2356 non-null   object \n",
            " 15  pupper                      2356 non-null   object \n",
            " 16  puppo                       2356 non-null   object \n",
            "dtypes: float64(4), int64(3), object(10)\n",
            "memory usage: 313.0+ KB\n"
          ]
        }
      ]
    },
    {
      "cell_type": "code",
      "metadata": {
        "id": "9rcbJxa5gDtX",
        "colab": {
          "base_uri": "https://localhost:8080/"
        },
        "outputId": "2fd25de1-6352-494a-f59d-365256dbad0f"
      },
      "source": [
        "for col in dfa.columns[[10,11,13,14,15,16]]:\n",
        "  print(dfa[col].unique())"
      ],
      "execution_count": null,
      "outputs": [
        {
          "output_type": "stream",
          "name": "stdout",
          "text": [
            "[  13   12   14    5   17   11   10  420  666    6   15  182  960    0\n",
            "   75    7   84    9   24    8    1   27    3    4  165 1776  204   50\n",
            "   99   80   45   60   44  143  121   20   26    2  144   88]\n",
            "[ 10   0  15  70   7  11 150 170  20  50  90  80  40 130 110  16 120   2]\n",
            "['None' 'doggo']\n",
            "['None' 'floofer']\n",
            "['None' 'pupper']\n",
            "['None' 'puppo']\n"
          ]
        }
      ]
    },
    {
      "cell_type": "markdown",
      "metadata": {
        "id": "CC0SgfZXXrO9"
      },
      "source": [
        "#### Curated `twitter_archive_enhanced.csv` Info\n",
        "\n",
        "| # | Variable | Non-Null | Nunique | Dtype | Notes |\n",
        "|---|----------|----------|---------|-------|-------|\n",
        "| 0 | tweet_id | 2356 | 2356 | int64  | |\n",
        "| 1 | in_reply_to_status_id | 78 | 77 | float64 | these tweets are replies |\n",
        "| 2 | in_reply_to_user_id | 78 | 31 | float64 | see $\\uparrow$ |\n",
        "| 3 | timestamp | 2356 | 2356 | object | object $\\to$ datetime | \n",
        "| 4 | source | 2356 | 4 | object | |\n",
        "| 5 | text | 2356 | 2356 | object | some tweets don't have an image (1) |\n",
        "| 6 | retweeted_status_id | 181 | 181 | float64 | these are retweets |\n",
        "| 7 | retweeted_status_user_id | 181 | 25 | float64 | see $\\uparrow$ |\n",
        "| 8 | retweeted_status_timestamp | 181 | 181 | object | see $\\uparrow$ |\n",
        "| 9 | expanded_urls | 2297 | 2218 | object | missing values |\n",
        "| 10 | rating_numerator | 2356 | 40 | int64  | entries with numerator $> 20$ may be incorrect (4a) |\n",
        "| 11 | rating_denominator | 2356 | 18 | int64  | entries with denominator $\\neq 10$ may be incorrect (4b) |\n",
        "| 12 | name | 2356 | 957 | object | incorrect names or missing values (2) |\n",
        "| 13 | doggo | 2356 | 2 | object | a value as a column + (3) some misclassified stages|\n",
        "| 14 | floofer | 2356 | 2 | object | see $\\uparrow$ |\n",
        "| 15 | pupper | 2356 | 2 | object | see $\\uparrow$ |\n",
        "| 16 | puppo | 2356 | 2 | object | see $\\uparrow$ |\n",
        "\n",
        "Source: visual and programmatic assessment\n",
        "\n",
        "```python\n",
        "# #, Variable, Non-Null (Count), Dtype:\n",
        "dfa.info()\n",
        "# Nunique:\n",
        "dfa.nunique()\n",
        "# Check unique values\n",
        "for col in dfa.columns[[10,11,13,14,15,16]]:\n",
        "  print(dfa[col].unique())\n",
        "# Notes\n",
        "# (1) Some tweets don't have an image\n",
        "dfa.loc[dfa.text.apply(lambda s: 'https://t.co' not in s)].shape[0]\n",
        "# [Out] 124\n",
        "```"
      ]
    },
    {
      "cell_type": "code",
      "metadata": {
        "id": "8USi1UywgrR9",
        "colab": {
          "base_uri": "https://localhost:8080/"
        },
        "outputId": "222e72d1-1b5c-4f12-a738-2f6eafe9c51d"
      },
      "source": [
        "# (2a) Incorrect names - begin with a lowercase\n",
        "import re\n",
        "print(re.findall(r';([a-z].*?);', ';'.join(dfa.name.unique())))"
      ],
      "execution_count": null,
      "outputs": [
        {
          "output_type": "stream",
          "name": "stdout",
          "text": [
            "['such', 'a', 'quite', 'not', 'one', 'incredibly', 'mad', 'an', 'very', 'just', 'my', 'his', 'actually', 'getting', 'this', 'all', 'old', 'infuriating', 'the', 'by', 'officially', 'life', 'light', 'space']\n"
          ]
        }
      ]
    },
    {
      "cell_type": "code",
      "metadata": {
        "id": "hJ1WcJqT3695",
        "colab": {
          "base_uri": "https://localhost:8080/"
        },
        "outputId": "e52cc6fe-441c-47bc-c9a5-3f365826860c"
      },
      "source": [
        "# (2b) Incorrect names - None\n",
        "dfa.loc[dfa.name == 'None'].shape[0]"
      ],
      "execution_count": null,
      "outputs": [
        {
          "output_type": "execute_result",
          "data": {
            "text/plain": [
              "745"
            ]
          },
          "metadata": {},
          "execution_count": 11
        }
      ]
    },
    {
      "cell_type": "code",
      "metadata": {
        "id": "pcXy7qHHgrVc",
        "colab": {
          "base_uri": "https://localhost:8080/"
        },
        "outputId": "d6e2f250-6c97-4744-e978-b569c20793fb"
      },
      "source": [
        "# (3a) Misclassified stages - indicated in the stage but not present in the text\n",
        "stages = ['doggo', 'pupper', 'puppo', 'floofer']\n",
        "print('Stage     | Total | Misclassified |')\n",
        "print('-'*35)\n",
        "for stage in stages:\n",
        "  total = dfa.loc[dfa[stage] == stage].shape[0]\n",
        "  missed = dfa.loc[(dfa[stage] == stage) & (dfa.text.apply(lambda s: stage not in s.lower()))].shape[0]\n",
        "  print(f\"{stage.ljust(9)} | {total:5d} | {missed:13d} |\")"
      ],
      "execution_count": null,
      "outputs": [
        {
          "output_type": "stream",
          "name": "stdout",
          "text": [
            "Stage     | Total | Misclassified |\n",
            "-----------------------------------\n",
            "doggo     |    97 |             0 |\n",
            "pupper    |   257 |             0 |\n",
            "puppo     |    30 |             0 |\n",
            "floofer   |    10 |             0 |\n"
          ]
        }
      ]
    },
    {
      "cell_type": "code",
      "metadata": {
        "id": "aj_uXxTxuvHy",
        "colab": {
          "base_uri": "https://localhost:8080/"
        },
        "outputId": "4c9797a0-f8d2-44f8-90ef-dd0476e00293"
      },
      "source": [
        "# (3b) Misclassified stages - not indicated in the stage but is present in the text\n",
        "stages = ['doggo', 'pupper', 'puppo', 'floofer']\n",
        "print('Stage     | Total | Misclassified |')\n",
        "print('-'*35)\n",
        "for stage in stages:\n",
        "  total = dfa.loc[dfa[stage] == stage].shape[0]\n",
        "  missed = dfa.loc[(dfa[stage] != stage) & (dfa.text.apply(lambda s: stage in s.lower()))].shape[0]\n",
        "  print(f\"{stage.ljust(9)} | {total:5d} | {missed:13d} |\")"
      ],
      "execution_count": null,
      "outputs": [
        {
          "output_type": "stream",
          "name": "stdout",
          "text": [
            "Stage     | Total | Misclassified |\n",
            "-----------------------------------\n",
            "doggo     |    97 |            10 |\n",
            "pupper    |   257 |            26 |\n",
            "puppo     |    30 |             8 |\n",
            "floofer   |    10 |             0 |\n"
          ]
        }
      ]
    },
    {
      "cell_type": "markdown",
      "metadata": {
        "id": "11_4lsAVvv6T"
      },
      "source": [
        "##### Note (4) Ratings where `rating_numerator` $ > 20$ or  `rating_denomiator` $\\neq 10$\n",
        "Code used:\n",
        "```python\n",
        "# Show the whole text\n",
        "pd.options.display.max_colwidth = None\n",
        "\n",
        "# (4a) Show tweets with possibly incorrect rating : rating_numerator > 20\n",
        "dfa.loc[dfa.rating_numerator > 20, ['text', 'rating_numerator', 'rating_denominator']]\n",
        "\n",
        "# (4b) Show tweets with possibly incorrect rating : rating_denominator != 10\n",
        "dfa.loc[dfa.rating_denominator != 10, ['text', 'rating_numerator', 'rating_denominator']]\n",
        "\n",
        "```\n",
        "In cases where users used float numbers, such as 9.75/10 or 11.27/10, we will use the floor rounding, i.e. 9/10 or 11/10 respectively. We will correct only those rating which were incorrectly identified in the text. Ratings with weird values used in the text are left unchanged cos they're good dogs Brent.\n",
        "\n",
        "Results:"
      ]
    },
    {
      "cell_type": "code",
      "metadata": {
        "id": "AuEnHgCVrrwc",
        "colab": {
          "base_uri": "https://localhost:8080/",
          "height": 382
        },
        "outputId": "b5d43f94-3370-4466-b9fe-9a535efcd6f0"
      },
      "source": [
        "# Show the whole text\n",
        "pd.options.display.max_colwidth = None\n",
        "\n",
        "# Fill dict with key = index and value = correct rating\n",
        "incorrect_rating = {313 : '13/10', 340 : '9/10', 763: '11/10', 313 : '13/10', 784 : '14/10', 1165 : '13/10', 1202 : '11/10', 1662 : '10/10', 2335 : '9/10'}\n",
        "\n",
        "# Indicate tweets with missing rating\n",
        "missing_rating = [342, 516]\n",
        "\n",
        "# Show tweet with incorrectly identified rating\n",
        "dfa.loc[list(incorrect_rating.keys()), ['text', 'rating_numerator', 'rating_denominator']]"
      ],
      "execution_count": null,
      "outputs": [
        {
          "output_type": "execute_result",
          "data": {
            "text/html": [
              "<div>\n",
              "<style scoped>\n",
              "    .dataframe tbody tr th:only-of-type {\n",
              "        vertical-align: middle;\n",
              "    }\n",
              "\n",
              "    .dataframe tbody tr th {\n",
              "        vertical-align: top;\n",
              "    }\n",
              "\n",
              "    .dataframe thead th {\n",
              "        text-align: right;\n",
              "    }\n",
              "</style>\n",
              "<table border=\"1\" class=\"dataframe\">\n",
              "  <thead>\n",
              "    <tr style=\"text-align: right;\">\n",
              "      <th></th>\n",
              "      <th>text</th>\n",
              "      <th>rating_numerator</th>\n",
              "      <th>rating_denominator</th>\n",
              "    </tr>\n",
              "  </thead>\n",
              "  <tbody>\n",
              "    <tr>\n",
              "      <th>313</th>\n",
              "      <td>@jonnysun @Lin_Manuel ok jomny I know you're excited but 960/00 isn't a valid rating, 13/10 is tho</td>\n",
              "      <td>960</td>\n",
              "      <td>0</td>\n",
              "    </tr>\n",
              "    <tr>\n",
              "      <th>340</th>\n",
              "      <td>RT @dog_rates: This is Logan, the Chow who lived. He solemnly swears he's up to lots of good. H*ckin magical af 9.75/10 https://t.co/yBO5wu…</td>\n",
              "      <td>75</td>\n",
              "      <td>10</td>\n",
              "    </tr>\n",
              "    <tr>\n",
              "      <th>763</th>\n",
              "      <td>This is Sophie. She's a Jubilant Bush Pupper. Super h*ckin rare. Appears at random just to smile at the locals. 11.27/10 would smile back https://t.co/QFaUiIHxHq</td>\n",
              "      <td>27</td>\n",
              "      <td>10</td>\n",
              "    </tr>\n",
              "    <tr>\n",
              "      <th>784</th>\n",
              "      <td>RT @dog_rates: After so many requests, this is Bretagne. She was the last surviving 9/11 search dog, and our second ever 14/10. RIP https:/…</td>\n",
              "      <td>9</td>\n",
              "      <td>11</td>\n",
              "    </tr>\n",
              "    <tr>\n",
              "      <th>1165</th>\n",
              "      <td>Happy 4/20 from the squad! 13/10 for all https://t.co/eV1diwds8a</td>\n",
              "      <td>4</td>\n",
              "      <td>20</td>\n",
              "    </tr>\n",
              "    <tr>\n",
              "      <th>1202</th>\n",
              "      <td>This is Bluebert. He just saw that both #FinalFur match ups are split 50/50. Amazed af. 11/10 https://t.co/Kky1DPG4iq</td>\n",
              "      <td>50</td>\n",
              "      <td>50</td>\n",
              "    </tr>\n",
              "    <tr>\n",
              "      <th>1662</th>\n",
              "      <td>This is Darrel. He just robbed a 7/11 and is in a high speed police chase. Was just spotted by the helicopter 10/10 https://t.co/7EsP8LmSp5</td>\n",
              "      <td>7</td>\n",
              "      <td>11</td>\n",
              "    </tr>\n",
              "    <tr>\n",
              "      <th>2335</th>\n",
              "      <td>This is an Albanian 3 1/2 legged  Episcopalian. Loves well-polished hardwood flooring. Penis on the collar. 9/10 https://t.co/d9NcXFKwLv</td>\n",
              "      <td>1</td>\n",
              "      <td>2</td>\n",
              "    </tr>\n",
              "  </tbody>\n",
              "</table>\n",
              "</div>"
            ],
            "text/plain": [
              "                                                                                                                                                                   text  ...  rating_denominator\n",
              "313                                                                  @jonnysun @Lin_Manuel ok jomny I know you're excited but 960/00 isn't a valid rating, 13/10 is tho  ...                   0\n",
              "340                        RT @dog_rates: This is Logan, the Chow who lived. He solemnly swears he's up to lots of good. H*ckin magical af 9.75/10 https://t.co/yBO5wu…  ...                  10\n",
              "763   This is Sophie. She's a Jubilant Bush Pupper. Super h*ckin rare. Appears at random just to smile at the locals. 11.27/10 would smile back https://t.co/QFaUiIHxHq  ...                  10\n",
              "784                        RT @dog_rates: After so many requests, this is Bretagne. She was the last surviving 9/11 search dog, and our second ever 14/10. RIP https:/…  ...                  11\n",
              "1165                                                                                                   Happy 4/20 from the squad! 13/10 for all https://t.co/eV1diwds8a  ...                  20\n",
              "1202                                              This is Bluebert. He just saw that both #FinalFur match ups are split 50/50. Amazed af. 11/10 https://t.co/Kky1DPG4iq  ...                  50\n",
              "1662                        This is Darrel. He just robbed a 7/11 and is in a high speed police chase. Was just spotted by the helicopter 10/10 https://t.co/7EsP8LmSp5  ...                  11\n",
              "2335                           This is an Albanian 3 1/2 legged  Episcopalian. Loves well-polished hardwood flooring. Penis on the collar. 9/10 https://t.co/d9NcXFKwLv  ...                   2\n",
              "\n",
              "[8 rows x 3 columns]"
            ]
          },
          "metadata": {},
          "execution_count": 14
        }
      ]
    },
    {
      "cell_type": "markdown",
      "metadata": {
        "id": "wvRiQDX_9lH-"
      },
      "source": [
        "### The Tweet Image Predictions `image_predictions.tsv`\n",
        "> \"A table full of image predictions (the top three only) alongside each tweet ID, image URL, and the image number that corresponded to the most confident prediction (numbered 1 to 4 since tweets can have up to four images).\""
      ]
    },
    {
      "cell_type": "code",
      "metadata": {
        "id": "YamrjE8W9ka3",
        "colab": {
          "base_uri": "https://localhost:8080/",
          "height": 379
        },
        "outputId": "4dc24e84-5187-4e9c-dece-8349884d482f"
      },
      "source": [
        "dfi.sample(10)"
      ],
      "execution_count": null,
      "outputs": [
        {
          "output_type": "execute_result",
          "data": {
            "text/html": [
              "<div>\n",
              "<style scoped>\n",
              "    .dataframe tbody tr th:only-of-type {\n",
              "        vertical-align: middle;\n",
              "    }\n",
              "\n",
              "    .dataframe tbody tr th {\n",
              "        vertical-align: top;\n",
              "    }\n",
              "\n",
              "    .dataframe thead th {\n",
              "        text-align: right;\n",
              "    }\n",
              "</style>\n",
              "<table border=\"1\" class=\"dataframe\">\n",
              "  <thead>\n",
              "    <tr style=\"text-align: right;\">\n",
              "      <th></th>\n",
              "      <th>tweet_id</th>\n",
              "      <th>jpg_url</th>\n",
              "      <th>img_num</th>\n",
              "      <th>p1</th>\n",
              "      <th>p1_conf</th>\n",
              "      <th>p1_dog</th>\n",
              "      <th>p2</th>\n",
              "      <th>p2_conf</th>\n",
              "      <th>p2_dog</th>\n",
              "      <th>p3</th>\n",
              "      <th>p3_conf</th>\n",
              "      <th>p3_dog</th>\n",
              "    </tr>\n",
              "  </thead>\n",
              "  <tbody>\n",
              "    <tr>\n",
              "      <th>868</th>\n",
              "      <td>697596423848730625</td>\n",
              "      <td>https://pbs.twimg.com/media/Ca5cPrJXIAImHtD.jpg</td>\n",
              "      <td>1</td>\n",
              "      <td>Shetland_sheepdog</td>\n",
              "      <td>0.621668</td>\n",
              "      <td>True</td>\n",
              "      <td>collie</td>\n",
              "      <td>0.366578</td>\n",
              "      <td>True</td>\n",
              "      <td>Pembroke</td>\n",
              "      <td>0.007698</td>\n",
              "      <td>True</td>\n",
              "    </tr>\n",
              "    <tr>\n",
              "      <th>1432</th>\n",
              "      <td>773308824254029826</td>\n",
              "      <td>https://pbs.twimg.com/media/CrtYRMEWIAAUkCl.jpg</td>\n",
              "      <td>1</td>\n",
              "      <td>shopping_cart</td>\n",
              "      <td>0.572349</td>\n",
              "      <td>False</td>\n",
              "      <td>Labrador_retriever</td>\n",
              "      <td>0.151406</td>\n",
              "      <td>True</td>\n",
              "      <td>shopping_basket</td>\n",
              "      <td>0.107102</td>\n",
              "      <td>False</td>\n",
              "    </tr>\n",
              "    <tr>\n",
              "      <th>41</th>\n",
              "      <td>666701168228331520</td>\n",
              "      <td>https://pbs.twimg.com/media/CUCZLHlUAAAeAig.jpg</td>\n",
              "      <td>1</td>\n",
              "      <td>Labrador_retriever</td>\n",
              "      <td>0.887707</td>\n",
              "      <td>True</td>\n",
              "      <td>Chihuahua</td>\n",
              "      <td>0.029307</td>\n",
              "      <td>True</td>\n",
              "      <td>French_bulldog</td>\n",
              "      <td>0.020756</td>\n",
              "      <td>True</td>\n",
              "    </tr>\n",
              "    <tr>\n",
              "      <th>1883</th>\n",
              "      <td>847251039262605312</td>\n",
              "      <td>https://pbs.twimg.com/media/C8IKUjAUwAEP-En.jpg</td>\n",
              "      <td>1</td>\n",
              "      <td>Airedale</td>\n",
              "      <td>0.495380</td>\n",
              "      <td>True</td>\n",
              "      <td>Irish_terrier</td>\n",
              "      <td>0.316456</td>\n",
              "      <td>True</td>\n",
              "      <td>Lakeland_terrier</td>\n",
              "      <td>0.158533</td>\n",
              "      <td>True</td>\n",
              "    </tr>\n",
              "    <tr>\n",
              "      <th>1043</th>\n",
              "      <td>712668654853337088</td>\n",
              "      <td>https://pbs.twimg.com/media/CePoVTyWsAQEz1g.jpg</td>\n",
              "      <td>1</td>\n",
              "      <td>Labrador_retriever</td>\n",
              "      <td>0.829058</td>\n",
              "      <td>True</td>\n",
              "      <td>golden_retriever</td>\n",
              "      <td>0.038664</td>\n",
              "      <td>True</td>\n",
              "      <td>Chihuahua</td>\n",
              "      <td>0.026221</td>\n",
              "      <td>True</td>\n",
              "    </tr>\n",
              "    <tr>\n",
              "      <th>1453</th>\n",
              "      <td>776819012571455488</td>\n",
              "      <td>https://pbs.twimg.com/media/CW88XN4WsAAlo8r.jpg</td>\n",
              "      <td>3</td>\n",
              "      <td>Chihuahua</td>\n",
              "      <td>0.346545</td>\n",
              "      <td>True</td>\n",
              "      <td>dalmatian</td>\n",
              "      <td>0.166246</td>\n",
              "      <td>True</td>\n",
              "      <td>toy_terrier</td>\n",
              "      <td>0.117502</td>\n",
              "      <td>True</td>\n",
              "    </tr>\n",
              "    <tr>\n",
              "      <th>886</th>\n",
              "      <td>699036661657767936</td>\n",
              "      <td>https://pbs.twimg.com/media/CbN6IW4UYAAyVDA.jpg</td>\n",
              "      <td>1</td>\n",
              "      <td>Chihuahua</td>\n",
              "      <td>0.222943</td>\n",
              "      <td>True</td>\n",
              "      <td>toyshop</td>\n",
              "      <td>0.179938</td>\n",
              "      <td>False</td>\n",
              "      <td>Weimaraner</td>\n",
              "      <td>0.163033</td>\n",
              "      <td>True</td>\n",
              "    </tr>\n",
              "    <tr>\n",
              "      <th>957</th>\n",
              "      <td>705442520700944385</td>\n",
              "      <td>https://pbs.twimg.com/media/Cco8OmOXIAE0aCu.jpg</td>\n",
              "      <td>1</td>\n",
              "      <td>Great_Pyrenees</td>\n",
              "      <td>0.309106</td>\n",
              "      <td>True</td>\n",
              "      <td>kuvasz</td>\n",
              "      <td>0.224556</td>\n",
              "      <td>True</td>\n",
              "      <td>seat_belt</td>\n",
              "      <td>0.202100</td>\n",
              "      <td>False</td>\n",
              "    </tr>\n",
              "    <tr>\n",
              "      <th>659</th>\n",
              "      <td>682393905736888321</td>\n",
              "      <td>https://pbs.twimg.com/media/CXhZom1UwAA4Zz6.jpg</td>\n",
              "      <td>1</td>\n",
              "      <td>vizsla</td>\n",
              "      <td>0.657275</td>\n",
              "      <td>True</td>\n",
              "      <td>paddle</td>\n",
              "      <td>0.090286</td>\n",
              "      <td>False</td>\n",
              "      <td>Rhodesian_ridgeback</td>\n",
              "      <td>0.048228</td>\n",
              "      <td>True</td>\n",
              "    </tr>\n",
              "    <tr>\n",
              "      <th>1971</th>\n",
              "      <td>869227993411051520</td>\n",
              "      <td>https://pbs.twimg.com/media/DBAePiVXcAAqHSR.jpg</td>\n",
              "      <td>1</td>\n",
              "      <td>Pembroke</td>\n",
              "      <td>0.664181</td>\n",
              "      <td>True</td>\n",
              "      <td>Chihuahua</td>\n",
              "      <td>0.169234</td>\n",
              "      <td>True</td>\n",
              "      <td>Cardigan</td>\n",
              "      <td>0.132700</td>\n",
              "      <td>True</td>\n",
              "    </tr>\n",
              "  </tbody>\n",
              "</table>\n",
              "</div>"
            ],
            "text/plain": [
              "                tweet_id  ... p3_dog\n",
              "868   697596423848730625  ...   True\n",
              "1432  773308824254029826  ...  False\n",
              "41    666701168228331520  ...   True\n",
              "1883  847251039262605312  ...   True\n",
              "1043  712668654853337088  ...   True\n",
              "1453  776819012571455488  ...   True\n",
              "886   699036661657767936  ...   True\n",
              "957   705442520700944385  ...  False\n",
              "659   682393905736888321  ...   True\n",
              "1971  869227993411051520  ...   True\n",
              "\n",
              "[10 rows x 12 columns]"
            ]
          },
          "metadata": {},
          "execution_count": 15
        }
      ]
    },
    {
      "cell_type": "code",
      "metadata": {
        "id": "jaDmngJv2gif",
        "colab": {
          "base_uri": "https://localhost:8080/"
        },
        "outputId": "b174d0f7-943a-47bd-867f-6ba03e6f09da"
      },
      "source": [
        "dfi.info()"
      ],
      "execution_count": null,
      "outputs": [
        {
          "output_type": "stream",
          "name": "stdout",
          "text": [
            "<class 'pandas.core.frame.DataFrame'>\n",
            "RangeIndex: 2075 entries, 0 to 2074\n",
            "Data columns (total 12 columns):\n",
            " #   Column    Non-Null Count  Dtype  \n",
            "---  ------    --------------  -----  \n",
            " 0   tweet_id  2075 non-null   int64  \n",
            " 1   jpg_url   2075 non-null   object \n",
            " 2   img_num   2075 non-null   int64  \n",
            " 3   p1        2075 non-null   object \n",
            " 4   p1_conf   2075 non-null   float64\n",
            " 5   p1_dog    2075 non-null   bool   \n",
            " 6   p2        2075 non-null   object \n",
            " 7   p2_conf   2075 non-null   float64\n",
            " 8   p2_dog    2075 non-null   bool   \n",
            " 9   p3        2075 non-null   object \n",
            " 10  p3_conf   2075 non-null   float64\n",
            " 11  p3_dog    2075 non-null   bool   \n",
            "dtypes: bool(3), float64(3), int64(2), object(4)\n",
            "memory usage: 152.1+ KB\n"
          ]
        }
      ]
    },
    {
      "cell_type": "markdown",
      "metadata": {
        "id": "es430-Tl_MV3"
      },
      "source": [
        "#### Curated Info\n",
        "\n",
        "| # | Variable | Non-Null | Nunique | Dtype | Notes |\n",
        "|---|----------|----------|---------|-------|-------|\n",
        "| 0 | tweet_id | 2075 | 2078 | int64 | |\n",
        "| 1 | jpg_url | 2075 | 2009 | object | |\n",
        "| 2 | img_num | 2075 | 4 | int64 | the image number that corresponded to the most confident prediction|\n",
        "| 3 | p1 | 2075 | 378 | object | prediction |\n",
        "| 4 | p1_conf | 2075 | 2006 | float64 | confidence of prediction |\n",
        "| 5 | p1_dog | 2075 | 2 | int64 | Is the prediction a breed of dog? : int $\\to$ bool |\n",
        "| 6 | p2 | 2075 | 405 | object | dtto |\n",
        "| 7 | p2_conf | 2075 | 2004 | float64 | dtto |\n",
        "| 8 | p2_dog | 2075 | 2 | int64 | dtto |\n",
        "| 9 | p3 | 2075 | 408 | object | dtto |\n",
        "| 10 | p3_conf | 2075 | 2006 | float64 | dtto |\n",
        "| 11 | p3_dog | 2075 | 2 | int64 | dtto |\n",
        "\n",
        "Source: visual and programmatic assessment\n",
        "\n",
        "```python\n",
        "# #, Variable, Non-Null (Count), Dtype:\n",
        "dfa.info()\n",
        "# Nunique:\n",
        "dfa.nunique()\n",
        "```\n"
      ]
    },
    {
      "cell_type": "markdown",
      "metadata": {
        "id": "fv82iwVV9vZu"
      },
      "source": [
        "### Additional Data From Twitter API"
      ]
    },
    {
      "cell_type": "code",
      "metadata": {
        "id": "-gkXe5mZwMpn",
        "colab": {
          "base_uri": "https://localhost:8080/",
          "height": 359
        },
        "outputId": "d9b3a14d-c20f-4d15-b577-3efbf2b83804"
      },
      "source": [
        "dft.sample(10)"
      ],
      "execution_count": null,
      "outputs": [
        {
          "output_type": "execute_result",
          "data": {
            "text/html": [
              "<div>\n",
              "<style scoped>\n",
              "    .dataframe tbody tr th:only-of-type {\n",
              "        vertical-align: middle;\n",
              "    }\n",
              "\n",
              "    .dataframe tbody tr th {\n",
              "        vertical-align: top;\n",
              "    }\n",
              "\n",
              "    .dataframe thead th {\n",
              "        text-align: right;\n",
              "    }\n",
              "</style>\n",
              "<table border=\"1\" class=\"dataframe\">\n",
              "  <thead>\n",
              "    <tr style=\"text-align: right;\">\n",
              "      <th></th>\n",
              "      <th>tweet_id</th>\n",
              "      <th>retweet_count</th>\n",
              "      <th>favorite_count</th>\n",
              "    </tr>\n",
              "  </thead>\n",
              "  <tbody>\n",
              "    <tr>\n",
              "      <th>1558</th>\n",
              "      <td>686760001961103360</td>\n",
              "      <td>1295</td>\n",
              "      <td>3312</td>\n",
              "    </tr>\n",
              "    <tr>\n",
              "      <th>1049</th>\n",
              "      <td>739544079319588864</td>\n",
              "      <td>19723</td>\n",
              "      <td>37207</td>\n",
              "    </tr>\n",
              "    <tr>\n",
              "      <th>556</th>\n",
              "      <td>801115127852503040</td>\n",
              "      <td>2014</td>\n",
              "      <td>7828</td>\n",
              "    </tr>\n",
              "    <tr>\n",
              "      <th>476</th>\n",
              "      <td>813202720496779264</td>\n",
              "      <td>1741</td>\n",
              "      <td>8944</td>\n",
              "    </tr>\n",
              "    <tr>\n",
              "      <th>158</th>\n",
              "      <td>860177593139703809</td>\n",
              "      <td>27403</td>\n",
              "      <td>0</td>\n",
              "    </tr>\n",
              "    <tr>\n",
              "      <th>883</th>\n",
              "      <td>757725642876129280</td>\n",
              "      <td>1130</td>\n",
              "      <td>4330</td>\n",
              "    </tr>\n",
              "    <tr>\n",
              "      <th>1968</th>\n",
              "      <td>672591271085670400</td>\n",
              "      <td>169</td>\n",
              "      <td>656</td>\n",
              "    </tr>\n",
              "    <tr>\n",
              "      <th>1174</th>\n",
              "      <td>716439118184652801</td>\n",
              "      <td>197</td>\n",
              "      <td>2251</td>\n",
              "    </tr>\n",
              "    <tr>\n",
              "      <th>1215</th>\n",
              "      <td>711968124745228288</td>\n",
              "      <td>2143</td>\n",
              "      <td>7592</td>\n",
              "    </tr>\n",
              "    <tr>\n",
              "      <th>621</th>\n",
              "      <td>793241302385262592</td>\n",
              "      <td>3159</td>\n",
              "      <td>10189</td>\n",
              "    </tr>\n",
              "  </tbody>\n",
              "</table>\n",
              "</div>"
            ],
            "text/plain": [
              "                tweet_id  retweet_count  favorite_count\n",
              "1558  686760001961103360           1295            3312\n",
              "1049  739544079319588864          19723           37207\n",
              "556   801115127852503040           2014            7828\n",
              "476   813202720496779264           1741            8944\n",
              "158   860177593139703809          27403               0\n",
              "883   757725642876129280           1130            4330\n",
              "1968  672591271085670400            169             656\n",
              "1174  716439118184652801            197            2251\n",
              "1215  711968124745228288           2143            7592\n",
              "621   793241302385262592           3159           10189"
            ]
          },
          "metadata": {},
          "execution_count": 17
        }
      ]
    },
    {
      "cell_type": "code",
      "metadata": {
        "id": "RbIYQNUlIRpQ",
        "colab": {
          "base_uri": "https://localhost:8080/"
        },
        "outputId": "df324bbb-51b5-472d-c354-cb506005cba8"
      },
      "source": [
        "dft.info()"
      ],
      "execution_count": null,
      "outputs": [
        {
          "output_type": "stream",
          "name": "stdout",
          "text": [
            "<class 'pandas.core.frame.DataFrame'>\n",
            "RangeIndex: 2327 entries, 0 to 2326\n",
            "Data columns (total 3 columns):\n",
            " #   Column          Non-Null Count  Dtype\n",
            "---  ------          --------------  -----\n",
            " 0   tweet_id        2327 non-null   int64\n",
            " 1   retweet_count   2327 non-null   int64\n",
            " 2   favorite_count  2327 non-null   int64\n",
            "dtypes: int64(3)\n",
            "memory usage: 54.7 KB\n"
          ]
        }
      ]
    },
    {
      "cell_type": "markdown",
      "metadata": {
        "id": "IuV8-AFUIQNP"
      },
      "source": [
        "#### Curated Info\n",
        "\n",
        "| # | Variable | Non-Null | Nunique | Dtype | Notes |\n",
        "|---|----------|----------|---------|-------|-------|\n",
        "| 0 | tweet_id | 2327 | 2327 | int64 | |\n",
        "| 1 | retweet_count | 2327 | 1671 | int64 | |\n",
        "| 2 | favorite_count | 2327 | 2006 | int64 | |\n",
        "\n",
        "Source: visual and programmatic assessment\n",
        "\n",
        "```python\n",
        "# #, Variable, Non-Null (Count), Dtype:\n",
        "dfa.info()\n",
        "# Nunique:\n",
        "dfa.nunique()\n",
        "```"
      ]
    },
    {
      "cell_type": "markdown",
      "metadata": {
        "id": "owwFlRAjhIJd"
      },
      "source": [
        "### Quality issues\n",
        "1. Replies are not original tweets.\n",
        "2. Retweets are not original tweets.\n",
        "3. Some tweets don't have any image\n",
        "4. Some ratings are incorrectly identified\n",
        "5. Some ratings are missing\n",
        "6. Names starting with lowercase are incorrect\n",
        "7. Names with value None are incorrect\n",
        "8. Column timestamp has the dtype object (string)\n"
      ]
    },
    {
      "cell_type": "markdown",
      "metadata": {
        "extensions": {
          "jupyter_dashboards": {
            "version": 1,
            "views": {
              "grid_default": {
                "col": 0,
                "height": 7,
                "hidden": false,
                "row": 40,
                "width": 12
              },
              "report_default": {
                "hidden": false
              }
            }
          }
        },
        "id": "STsht4nbhIJd"
      },
      "source": [
        "### Tidiness issues\n",
        "1. Dogs' stages (doggo, pupper, puppo, floofer) as columns\n",
        "2. Multiple image predictions in one row\n",
        "3. Data in multiple datasets"
      ]
    },
    {
      "cell_type": "markdown",
      "metadata": {
        "extensions": {
          "jupyter_dashboards": {
            "version": 1,
            "views": {
              "grid_default": {
                "col": 4,
                "height": 4,
                "hidden": false,
                "row": 32,
                "width": 4
              },
              "report_default": {
                "hidden": false
              }
            }
          }
        },
        "id": "RX-JRaHyhIJe"
      },
      "source": [
        "## Cleaning Data\n",
        "In this section, we will clean all of the issues documented above. "
      ]
    },
    {
      "cell_type": "code",
      "metadata": {
        "id": "wLKnW2eXhIJe"
      },
      "source": [
        "# Make copies of original pieces of data\n",
        "dfa_clean = dfa.copy() # archive\n",
        "dfi_clean = dfi.copy() # image predictions\n",
        "dft_clean = dft.copy() # data from Twitter API"
      ],
      "execution_count": null,
      "outputs": []
    },
    {
      "cell_type": "markdown",
      "metadata": {
        "id": "SU9IOqq_hIJf"
      },
      "source": [
        "### Q1: Replies are not original tweets."
      ]
    },
    {
      "cell_type": "markdown",
      "metadata": {
        "id": "RHzmZ_C0hIJf"
      },
      "source": [
        "#### Define:\n",
        "- Remove replies from `dfa_clean` dataframe by preserving only observations where `dfa_clean.in_reply_to_status_id.isna()` \n",
        "- Then drop variables *in_reply_to_status_id* and *in_reply_to_user_id*. We don't need them any more."
      ]
    },
    {
      "cell_type": "markdown",
      "metadata": {
        "id": "gB6aGYGshIJf"
      },
      "source": [
        "#### Code"
      ]
    },
    {
      "cell_type": "code",
      "metadata": {
        "id": "vc_ymludhIJf",
        "colab": {
          "base_uri": "https://localhost:8080/"
        },
        "outputId": "a443271d-8676-4f84-8e5f-4c62f7092577"
      },
      "source": [
        "dfa_clean = dfa_clean.loc[dfa_clean.in_reply_to_status_id.isna()]\n",
        "print('Check the emptiness of the in_reply_to_status_id (sum should be 0): ', dfa_clean.in_reply_to_status_id.notna().sum())\n",
        "dfa_clean.drop(columns=['in_reply_to_status_id', 'in_reply_to_user_id'], inplace=True)"
      ],
      "execution_count": null,
      "outputs": [
        {
          "output_type": "stream",
          "name": "stdout",
          "text": [
            "0\n"
          ]
        }
      ]
    },
    {
      "cell_type": "markdown",
      "metadata": {
        "id": "XZXljbYKhIJf"
      },
      "source": [
        "#### Test"
      ]
    },
    {
      "cell_type": "code",
      "metadata": {
        "id": "2jlAN0NrhIJg",
        "colab": {
          "base_uri": "https://localhost:8080/"
        },
        "outputId": "77ff9962-55f8-4fbd-96d7-441297187a42"
      },
      "source": [
        "dfa_clean.info()"
      ],
      "execution_count": null,
      "outputs": [
        {
          "output_type": "stream",
          "name": "stdout",
          "text": [
            "<class 'pandas.core.frame.DataFrame'>\n",
            "Int64Index: 2278 entries, 0 to 2355\n",
            "Data columns (total 15 columns):\n",
            " #   Column                      Non-Null Count  Dtype  \n",
            "---  ------                      --------------  -----  \n",
            " 0   tweet_id                    2278 non-null   int64  \n",
            " 1   timestamp                   2278 non-null   object \n",
            " 2   source                      2278 non-null   object \n",
            " 3   text                        2278 non-null   object \n",
            " 4   retweeted_status_id         181 non-null    float64\n",
            " 5   retweeted_status_user_id    181 non-null    float64\n",
            " 6   retweeted_status_timestamp  181 non-null    object \n",
            " 7   expanded_urls               2274 non-null   object \n",
            " 8   rating_numerator            2278 non-null   int64  \n",
            " 9   rating_denominator          2278 non-null   int64  \n",
            " 10  name                        2278 non-null   object \n",
            " 11  doggo                       2278 non-null   object \n",
            " 12  floofer                     2278 non-null   object \n",
            " 13  pupper                      2278 non-null   object \n",
            " 14  puppo                       2278 non-null   object \n",
            "dtypes: float64(2), int64(3), object(10)\n",
            "memory usage: 284.8+ KB\n"
          ]
        }
      ]
    },
    {
      "cell_type": "markdown",
      "metadata": {
        "id": "PJgHSlSGhIJg"
      },
      "source": [
        "### Q2: Retweets are not original tweets."
      ]
    },
    {
      "cell_type": "markdown",
      "metadata": {
        "collapsed": true,
        "extensions": {
          "jupyter_dashboards": {
            "version": 1,
            "views": {
              "grid_default": {
                "hidden": true
              },
              "report_default": {
                "hidden": true
              }
            }
          }
        },
        "id": "Au4bZnpShIJg"
      },
      "source": [
        "#### Define\n",
        "- Remove retweets from `dfa_clean` by preserving only observation where `dfa_clean.retweeted_status_id.isna()`, i.e. empty.\n",
        "- Then drop variables *retweeted_status_id*, *retweeted_status_user_id*, and *retweeted_status_timestamp*. We don't need them any more"
      ]
    },
    {
      "cell_type": "markdown",
      "metadata": {
        "id": "4Ldn-uWPhIJg"
      },
      "source": [
        "#### Code"
      ]
    },
    {
      "cell_type": "code",
      "metadata": {
        "id": "oX3P_wKDhIJg",
        "colab": {
          "base_uri": "https://localhost:8080/"
        },
        "outputId": "5432b801-f625-4f93-d5f6-9b52892e1b1c"
      },
      "source": [
        "dfa_clean = dfa_clean.loc[dfa_clean.retweeted_status_id.isna()]\n",
        "print('Check the emptiness of the retweeted_status_id (sum should be 0): ', dfa_clean.retweeted_status_id.notna().sum())\n",
        "dfa_clean.drop(columns=['retweeted_status_id', 'retweeted_status_user_id', 'retweeted_status_timestamp'], inplace=True)"
      ],
      "execution_count": null,
      "outputs": [
        {
          "output_type": "stream",
          "name": "stdout",
          "text": [
            "0\n"
          ]
        }
      ]
    },
    {
      "cell_type": "markdown",
      "metadata": {
        "id": "gOf3a9kvhIJg"
      },
      "source": [
        "#### Test"
      ]
    },
    {
      "cell_type": "code",
      "metadata": {
        "id": "zcTioht6hIJg",
        "colab": {
          "base_uri": "https://localhost:8080/"
        },
        "outputId": "be5d0d21-e19c-4053-f4c1-028a72039def"
      },
      "source": [
        "dfa_clean.info()"
      ],
      "execution_count": null,
      "outputs": [
        {
          "output_type": "stream",
          "name": "stdout",
          "text": [
            "<class 'pandas.core.frame.DataFrame'>\n",
            "Int64Index: 2097 entries, 0 to 2355\n",
            "Data columns (total 12 columns):\n",
            " #   Column              Non-Null Count  Dtype \n",
            "---  ------              --------------  ----- \n",
            " 0   tweet_id            2097 non-null   int64 \n",
            " 1   timestamp           2097 non-null   object\n",
            " 2   source              2097 non-null   object\n",
            " 3   text                2097 non-null   object\n",
            " 4   expanded_urls       2094 non-null   object\n",
            " 5   rating_numerator    2097 non-null   int64 \n",
            " 6   rating_denominator  2097 non-null   int64 \n",
            " 7   name                2097 non-null   object\n",
            " 8   doggo               2097 non-null   object\n",
            " 9   floofer             2097 non-null   object\n",
            " 10  pupper              2097 non-null   object\n",
            " 11  puppo               2097 non-null   object\n",
            "dtypes: int64(3), object(9)\n",
            "memory usage: 213.0+ KB\n"
          ]
        }
      ]
    },
    {
      "cell_type": "markdown",
      "metadata": {
        "id": "XgirUMXc77fh"
      },
      "source": [
        "### Q3: Some tweets don't have any image"
      ]
    },
    {
      "cell_type": "markdown",
      "metadata": {
        "collapsed": true,
        "extensions": {
          "jupyter_dashboards": {
            "version": 1,
            "views": {
              "grid_default": {
                "hidden": true
              },
              "report_default": {
                "hidden": true
              }
            }
          }
        },
        "id": "1sKFP0Ly77fi"
      },
      "source": [
        "#### Define\n",
        "Remove tweets that don't have image from `dfa_clean`. We detect an image by an occurence of the string 'https://t.co' in the *text* variable."
      ]
    },
    {
      "cell_type": "markdown",
      "metadata": {
        "id": "Rm4nrZxF77fi"
      },
      "source": [
        "#### Code"
      ]
    },
    {
      "cell_type": "code",
      "metadata": {
        "id": "jByke7Za77fi"
      },
      "source": [
        "dfa_clean = dfa_clean.loc[dfa_clean.text.apply(lambda s: 'https://t.co' in s)]"
      ],
      "execution_count": null,
      "outputs": []
    },
    {
      "cell_type": "markdown",
      "metadata": {
        "id": "LZwol1wa77fi"
      },
      "source": [
        "#### Test"
      ]
    },
    {
      "cell_type": "code",
      "metadata": {
        "colab": {
          "base_uri": "https://localhost:8080/"
        },
        "id": "0RRffhFc77fi",
        "outputId": "73ad092a-0f85-4051-ee78-2ea5528e938b"
      },
      "source": [
        "dfa_clean.loc[dfa_clean.text.apply(lambda s: 'https://t.co' not in s)].shape[0]"
      ],
      "execution_count": null,
      "outputs": [
        {
          "output_type": "execute_result",
          "data": {
            "text/plain": [
              "0"
            ]
          },
          "metadata": {},
          "execution_count": 25
        }
      ]
    },
    {
      "cell_type": "markdown",
      "metadata": {
        "id": "bxBxxcrU7-Tq"
      },
      "source": [
        "### Q4: Some ratings are incorrectly identified"
      ]
    },
    {
      "cell_type": "markdown",
      "metadata": {
        "collapsed": true,
        "extensions": {
          "jupyter_dashboards": {
            "version": 1,
            "views": {
              "grid_default": {
                "hidden": true
              },
              "report_default": {
                "hidden": true
              }
            }
          }
        },
        "id": "ufqOk6jd7-Tq"
      },
      "source": [
        "#### Define\n",
        "Updat the incorrect ratings with the correct ones (both numerator and denominator being stored in a dictionary *incorrect_rating* during assessment)."
      ]
    },
    {
      "cell_type": "markdown",
      "metadata": {
        "id": "Voyk19Uc7-Tq"
      },
      "source": [
        "#### Code"
      ]
    },
    {
      "cell_type": "code",
      "metadata": {
        "id": "BFfRzAorGyIZ"
      },
      "source": [
        "# Some observations could have been removed in previous steps\n",
        "ratings_to_update = dfa_clean.index.intersection(list(incorrect_rating.keys()))"
      ],
      "execution_count": null,
      "outputs": []
    },
    {
      "cell_type": "code",
      "metadata": {
        "id": "x5o_0hly7-Tq"
      },
      "source": [
        "for rating in ratings_to_update:\n",
        "  dfa_clean.at[rating,'rating_numerator'] = incorrect_rating[rating].split('/')[0]\n",
        "  dfa_clean.at[rating, 'rating_denominator'] = incorrect_rating[rating].split('/')[1]"
      ],
      "execution_count": null,
      "outputs": []
    },
    {
      "cell_type": "markdown",
      "metadata": {
        "id": "tA-WoWYk7-Tq"
      },
      "source": [
        "#### Test"
      ]
    },
    {
      "cell_type": "code",
      "metadata": {
        "colab": {
          "base_uri": "https://localhost:8080/",
          "height": 255
        },
        "id": "nyDcuybk7-Tq",
        "outputId": "648d002e-3207-4019-e784-624c3711b0b4"
      },
      "source": [
        "# Show the whole text\n",
        "pd.options.display.max_colwidth = None\n",
        "# Show tweets\n",
        "dfa_clean.loc[ratings_to_update, ['text', 'rating_numerator', 'rating_denominator']]"
      ],
      "execution_count": null,
      "outputs": [
        {
          "output_type": "execute_result",
          "data": {
            "text/html": [
              "<div>\n",
              "<style scoped>\n",
              "    .dataframe tbody tr th:only-of-type {\n",
              "        vertical-align: middle;\n",
              "    }\n",
              "\n",
              "    .dataframe tbody tr th {\n",
              "        vertical-align: top;\n",
              "    }\n",
              "\n",
              "    .dataframe thead th {\n",
              "        text-align: right;\n",
              "    }\n",
              "</style>\n",
              "<table border=\"1\" class=\"dataframe\">\n",
              "  <thead>\n",
              "    <tr style=\"text-align: right;\">\n",
              "      <th></th>\n",
              "      <th>text</th>\n",
              "      <th>rating_numerator</th>\n",
              "      <th>rating_denominator</th>\n",
              "    </tr>\n",
              "  </thead>\n",
              "  <tbody>\n",
              "    <tr>\n",
              "      <th>763</th>\n",
              "      <td>This is Sophie. She's a Jubilant Bush Pupper. Super h*ckin rare. Appears at random just to smile at the locals. 11.27/10 would smile back https://t.co/QFaUiIHxHq</td>\n",
              "      <td>11</td>\n",
              "      <td>10</td>\n",
              "    </tr>\n",
              "    <tr>\n",
              "      <th>1165</th>\n",
              "      <td>Happy 4/20 from the squad! 13/10 for all https://t.co/eV1diwds8a</td>\n",
              "      <td>13</td>\n",
              "      <td>10</td>\n",
              "    </tr>\n",
              "    <tr>\n",
              "      <th>1202</th>\n",
              "      <td>This is Bluebert. He just saw that both #FinalFur match ups are split 50/50. Amazed af. 11/10 https://t.co/Kky1DPG4iq</td>\n",
              "      <td>11</td>\n",
              "      <td>10</td>\n",
              "    </tr>\n",
              "    <tr>\n",
              "      <th>1662</th>\n",
              "      <td>This is Darrel. He just robbed a 7/11 and is in a high speed police chase. Was just spotted by the helicopter 10/10 https://t.co/7EsP8LmSp5</td>\n",
              "      <td>10</td>\n",
              "      <td>10</td>\n",
              "    </tr>\n",
              "    <tr>\n",
              "      <th>2335</th>\n",
              "      <td>This is an Albanian 3 1/2 legged  Episcopalian. Loves well-polished hardwood flooring. Penis on the collar. 9/10 https://t.co/d9NcXFKwLv</td>\n",
              "      <td>9</td>\n",
              "      <td>10</td>\n",
              "    </tr>\n",
              "  </tbody>\n",
              "</table>\n",
              "</div>"
            ],
            "text/plain": [
              "                                                                                                                                                                   text  ...  rating_denominator\n",
              "763   This is Sophie. She's a Jubilant Bush Pupper. Super h*ckin rare. Appears at random just to smile at the locals. 11.27/10 would smile back https://t.co/QFaUiIHxHq  ...                  10\n",
              "1165                                                                                                   Happy 4/20 from the squad! 13/10 for all https://t.co/eV1diwds8a  ...                  10\n",
              "1202                                              This is Bluebert. He just saw that both #FinalFur match ups are split 50/50. Amazed af. 11/10 https://t.co/Kky1DPG4iq  ...                  10\n",
              "1662                        This is Darrel. He just robbed a 7/11 and is in a high speed police chase. Was just spotted by the helicopter 10/10 https://t.co/7EsP8LmSp5  ...                  10\n",
              "2335                           This is an Albanian 3 1/2 legged  Episcopalian. Loves well-polished hardwood flooring. Penis on the collar. 9/10 https://t.co/d9NcXFKwLv  ...                  10\n",
              "\n",
              "[5 rows x 3 columns]"
            ]
          },
          "metadata": {},
          "execution_count": 28
        }
      ]
    },
    {
      "cell_type": "code",
      "metadata": {
        "colab": {
          "base_uri": "https://localhost:8080/"
        },
        "id": "l2YuCIlRJjzy",
        "outputId": "94247b8e-a143-4533-c4a3-52ce233211ca"
      },
      "source": [
        "dfa_clean.info()"
      ],
      "execution_count": null,
      "outputs": [
        {
          "output_type": "stream",
          "name": "stdout",
          "text": [
            "<class 'pandas.core.frame.DataFrame'>\n",
            "Int64Index: 2094 entries, 0 to 2355\n",
            "Data columns (total 12 columns):\n",
            " #   Column              Non-Null Count  Dtype \n",
            "---  ------              --------------  ----- \n",
            " 0   tweet_id            2094 non-null   int64 \n",
            " 1   timestamp           2094 non-null   object\n",
            " 2   source              2094 non-null   object\n",
            " 3   text                2094 non-null   object\n",
            " 4   expanded_urls       2094 non-null   object\n",
            " 5   rating_numerator    2094 non-null   int64 \n",
            " 6   rating_denominator  2094 non-null   int64 \n",
            " 7   name                2094 non-null   object\n",
            " 8   doggo               2094 non-null   object\n",
            " 9   floofer             2094 non-null   object\n",
            " 10  pupper              2094 non-null   object\n",
            " 11  puppo               2094 non-null   object\n",
            "dtypes: int64(3), object(9)\n",
            "memory usage: 292.7+ KB\n"
          ]
        }
      ]
    },
    {
      "cell_type": "markdown",
      "metadata": {
        "id": "TQ5azzBB7-rS"
      },
      "source": [
        "### Q5: Some ratings are missing"
      ]
    },
    {
      "cell_type": "markdown",
      "metadata": {
        "collapsed": true,
        "extensions": {
          "jupyter_dashboards": {
            "version": 1,
            "views": {
              "grid_default": {
                "hidden": true
              },
              "report_default": {
                "hidden": true
              }
            }
          }
        },
        "id": "usrrKnjP7-rS"
      },
      "source": [
        "#### Define\n",
        "Delete observations with missing rating in `dfa_clean` identified in the variable *missing_rating* during assessment."
      ]
    },
    {
      "cell_type": "markdown",
      "metadata": {
        "id": "PBEChAAG7-rS"
      },
      "source": [
        "#### Code"
      ]
    },
    {
      "cell_type": "code",
      "metadata": {
        "id": "SCmnwWwX7-rS"
      },
      "source": [
        "# Some observations could have been removed\n",
        "tweets_to_delete = dfa_clean.index.intersection(missing_rating)\n",
        "# Delete tweets without rating\n",
        "dfa_clean.drop(index=tweets_to_delete, inplace=True)"
      ],
      "execution_count": null,
      "outputs": []
    },
    {
      "cell_type": "markdown",
      "metadata": {
        "id": "xTS3_dQh7-rS"
      },
      "source": [
        "#### Test"
      ]
    },
    {
      "cell_type": "code",
      "metadata": {
        "colab": {
          "base_uri": "https://localhost:8080/"
        },
        "id": "Sm0uo8Zc7-rT",
        "outputId": "8fb93158-d989-4277-89aa-444e9b297030"
      },
      "source": [
        "# Should be empty\n",
        "dfa_clean.index.intersection(missing_rating)"
      ],
      "execution_count": null,
      "outputs": [
        {
          "output_type": "execute_result",
          "data": {
            "text/plain": [
              "Int64Index([], dtype='int64')"
            ]
          },
          "metadata": {},
          "execution_count": 31
        }
      ]
    },
    {
      "cell_type": "markdown",
      "metadata": {
        "id": "LbLObs4l7-8B"
      },
      "source": [
        "### Q6: Names starting with lowercase are incorrect"
      ]
    },
    {
      "cell_type": "markdown",
      "metadata": {
        "collapsed": true,
        "extensions": {
          "jupyter_dashboards": {
            "version": 1,
            "views": {
              "grid_default": {
                "hidden": true
              },
              "report_default": {
                "hidden": true
              }
            }
          }
        },
        "id": "ZA274THb7-8C"
      },
      "source": [
        "#### Define\n",
        "- Identify incorrect names in `dfa_clean` using a regular expression and store them in a list `incorrect_names`. Incorrect names start with a lowercase letter.\n",
        "- Replace incorrect names in `dfa_clean` with an empty string using a user defined function `clean_names(name)`."
      ]
    },
    {
      "cell_type": "markdown",
      "metadata": {
        "id": "om3DrfOn7-8C"
      },
      "source": [
        "#### Code"
      ]
    },
    {
      "cell_type": "code",
      "metadata": {
        "id": "-eOjNJeK7-8C"
      },
      "source": [
        "# Join all names to one string separated by ';;'\n",
        "# Find all incorrect names using a regular expresion\n",
        "incorrect_names = re.findall(r';([a-z].*?);', ';;'.join(dfa_clean.name.unique()))\n",
        "\n",
        "def clean_names(name):\n",
        "  \"\"\"If a name is in a global variable `incorrect_names`, \n",
        "      replace it by empty string,\n",
        "      otherwise return the original name.\"\"\"\n",
        "\n",
        "  if name in incorrect_names:\n",
        "    return ''\n",
        "  else:\n",
        "    return name\n",
        "\n",
        "# Apply the clean_names func on the variable 'name'\n",
        "dfa_clean['name'] = dfa_clean.name.apply(clean_names)"
      ],
      "execution_count": null,
      "outputs": []
    },
    {
      "cell_type": "markdown",
      "metadata": {
        "id": "RPNiYlhl7-8C"
      },
      "source": [
        "#### Test"
      ]
    },
    {
      "cell_type": "code",
      "metadata": {
        "colab": {
          "base_uri": "https://localhost:8080/"
        },
        "id": "P0MT_B0N7-8C",
        "outputId": "9a513fa6-40da-4e56-f537-af4e1b3105bd"
      },
      "source": [
        "# Should be empty\n",
        "print(re.findall(r';([a-z].*?);', ';;'.join(dfa_clean.name.unique())))"
      ],
      "execution_count": null,
      "outputs": [
        {
          "output_type": "stream",
          "name": "stdout",
          "text": [
            "[]\n"
          ]
        }
      ]
    },
    {
      "cell_type": "markdown",
      "metadata": {
        "id": "HIU36e4z7_KB"
      },
      "source": [
        "### Q7: Names with value None are incorrect"
      ]
    },
    {
      "cell_type": "markdown",
      "metadata": {
        "collapsed": true,
        "extensions": {
          "jupyter_dashboards": {
            "version": 1,
            "views": {
              "grid_default": {
                "hidden": true
              },
              "report_default": {
                "hidden": true
              }
            }
          }
        },
        "id": "4G2RXgH07_KC"
      },
      "source": [
        "#### Define\n",
        "Replace names 'None' in `dfa_clean` with an empty string."
      ]
    },
    {
      "cell_type": "markdown",
      "metadata": {
        "id": "zIhsp7cY7_KC"
      },
      "source": [
        "#### Code"
      ]
    },
    {
      "cell_type": "code",
      "metadata": {
        "id": "8_B_3cIZ7_KC"
      },
      "source": [
        "dfa_clean['name'] = dfa_clean.name.apply(lambda name: '' if name == 'None' else name)"
      ],
      "execution_count": null,
      "outputs": []
    },
    {
      "cell_type": "markdown",
      "metadata": {
        "id": "t-ZQ83DJ7_KC"
      },
      "source": [
        "#### Test"
      ]
    },
    {
      "cell_type": "code",
      "metadata": {
        "colab": {
          "base_uri": "https://localhost:8080/"
        },
        "id": "vVC73xu57_KC",
        "outputId": "9bf464b9-8079-4541-8e59-cb1a22d37a6e"
      },
      "source": [
        "# Should be zero\n",
        "dfa_clean.query('name == \"None\"').shape[0]"
      ],
      "execution_count": null,
      "outputs": [
        {
          "output_type": "execute_result",
          "data": {
            "text/plain": [
              "0"
            ]
          },
          "metadata": {},
          "execution_count": 35
        }
      ]
    },
    {
      "cell_type": "code",
      "metadata": {
        "colab": {
          "base_uri": "https://localhost:8080/"
        },
        "id": "OLfQbDohX9Wm",
        "outputId": "73b626ea-b606-4d60-81ed-6703dcd1e801"
      },
      "source": [
        "dfa_clean.name.value_counts()[:10]"
      ],
      "execution_count": null,
      "outputs": [
        {
          "output_type": "execute_result",
          "data": {
            "text/plain": [
              "           704\n",
              "Lucy        11\n",
              "Charlie     11\n",
              "Cooper      10\n",
              "Oliver      10\n",
              "Tucker       9\n",
              "Penny        9\n",
              "Lola         8\n",
              "Sadie        8\n",
              "Winston      8\n",
              "Name: name, dtype: int64"
            ]
          },
          "metadata": {},
          "execution_count": 36
        }
      ]
    },
    {
      "cell_type": "markdown",
      "metadata": {
        "id": "8Hl-8slI7_Xx"
      },
      "source": [
        "### Q8: Column timestamp has the dtype object (string)"
      ]
    },
    {
      "cell_type": "markdown",
      "metadata": {
        "collapsed": true,
        "extensions": {
          "jupyter_dashboards": {
            "version": 1,
            "views": {
              "grid_default": {
                "hidden": true
              },
              "report_default": {
                "hidden": true
              }
            }
          }
        },
        "id": "KSGSvztR7_Xy"
      },
      "source": [
        "#### Define\n",
        "Convert variable *timestamp* in `dfa_clean` to datetime."
      ]
    },
    {
      "cell_type": "markdown",
      "metadata": {
        "id": "DhP92QGW7_Xy"
      },
      "source": [
        "#### Code"
      ]
    },
    {
      "cell_type": "code",
      "metadata": {
        "id": "tSngvrRH7_Xy"
      },
      "source": [
        "dfa_clean['timestamp'] = pd.to_datetime(dfa_clean.timestamp)"
      ],
      "execution_count": null,
      "outputs": []
    },
    {
      "cell_type": "markdown",
      "metadata": {
        "id": "p4uKTg2R7_Xy"
      },
      "source": [
        "#### Test"
      ]
    },
    {
      "cell_type": "code",
      "metadata": {
        "colab": {
          "base_uri": "https://localhost:8080/"
        },
        "id": "DHM0Rij07_Xy",
        "outputId": "28505c33-9ff9-4f30-e65c-ae499d9fadee"
      },
      "source": [
        "dfa_clean.timestamp.dtype"
      ],
      "execution_count": null,
      "outputs": [
        {
          "output_type": "execute_result",
          "data": {
            "text/plain": [
              "datetime64[ns, UTC]"
            ]
          },
          "metadata": {},
          "execution_count": 38
        }
      ]
    },
    {
      "cell_type": "markdown",
      "metadata": {
        "id": "lJ8yfCPW7_kC"
      },
      "source": [
        "### T1: Dogs' stages (doggo, pupper, puppo, floofer) as columns"
      ]
    },
    {
      "cell_type": "markdown",
      "metadata": {
        "collapsed": true,
        "extensions": {
          "jupyter_dashboards": {
            "version": 1,
            "views": {
              "grid_default": {
                "hidden": true
              },
              "report_default": {
                "hidden": true
              }
            }
          }
        },
        "id": "rla8j8kp7_kC"
      },
      "source": [
        "#### Define\n",
        "Derive a new variable *stage* from variables *doggo, pupper, puppo, floofer*. Fill an empty string if no stage indicated. Then drop exploited variables."
      ]
    },
    {
      "cell_type": "markdown",
      "metadata": {
        "id": "p6Z55T4k7_kD"
      },
      "source": [
        "#### Code"
      ]
    },
    {
      "cell_type": "code",
      "metadata": {
        "id": "6GHLSp2y7_kD"
      },
      "source": [
        "def get_stage(row):\n",
        "  \"\"\"Fill the stage or an empty string (if the stage is not identified).\"\"\"\n",
        "\n",
        "  stage = set([row['doggo'], row['pupper'], row['puppo'], row['floofer']])\n",
        "  if len(stage) > 1:\n",
        "    return list(stage.difference({'None'}))[0]\n",
        "  else:\n",
        "    return ''\n",
        "\n",
        "dfa_clean['stage'] = dfa_clean.apply(get_stage, axis=1)\n",
        "dfa_clean.drop(columns=['doggo', 'pupper', 'puppo', 'floofer'], inplace=True)"
      ],
      "execution_count": null,
      "outputs": []
    },
    {
      "cell_type": "markdown",
      "metadata": {
        "id": "KEvXp0GC7_kD"
      },
      "source": [
        "#### Test"
      ]
    },
    {
      "cell_type": "code",
      "metadata": {
        "colab": {
          "base_uri": "https://localhost:8080/"
        },
        "id": "cWtO6vhRcL1x",
        "outputId": "fa9b3f40-c17d-4b7e-a270-d91595e42034"
      },
      "source": [
        "dfa_clean.stage.value_counts()"
      ],
      "execution_count": null,
      "outputs": [
        {
          "output_type": "execute_result",
          "data": {
            "text/plain": [
              "           1758\n",
              "pupper      229\n",
              "doggo        74\n",
              "puppo        23\n",
              "floofer       9\n",
              "Name: stage, dtype: int64"
            ]
          },
          "metadata": {},
          "execution_count": 40
        }
      ]
    },
    {
      "cell_type": "code",
      "metadata": {
        "colab": {
          "base_uri": "https://localhost:8080/"
        },
        "id": "7jN-AZ187_kD",
        "outputId": "8758b42a-c197-4ee2-dcd3-0e68f037cfbc"
      },
      "source": [
        "dfa_clean.info()"
      ],
      "execution_count": null,
      "outputs": [
        {
          "output_type": "stream",
          "name": "stdout",
          "text": [
            "<class 'pandas.core.frame.DataFrame'>\n",
            "Int64Index: 2093 entries, 0 to 2355\n",
            "Data columns (total 9 columns):\n",
            " #   Column              Non-Null Count  Dtype              \n",
            "---  ------              --------------  -----              \n",
            " 0   tweet_id            2093 non-null   int64              \n",
            " 1   timestamp           2093 non-null   datetime64[ns, UTC]\n",
            " 2   source              2093 non-null   object             \n",
            " 3   text                2093 non-null   object             \n",
            " 4   expanded_urls       2093 non-null   object             \n",
            " 5   rating_numerator    2093 non-null   int64              \n",
            " 6   rating_denominator  2093 non-null   int64              \n",
            " 7   name                2093 non-null   object             \n",
            " 8   stage               2093 non-null   object             \n",
            "dtypes: datetime64[ns, UTC](1), int64(3), object(5)\n",
            "memory usage: 163.5+ KB\n"
          ]
        }
      ]
    },
    {
      "cell_type": "markdown",
      "metadata": {
        "id": "xVowynR97_v6"
      },
      "source": [
        "### T2: Multiple image predictions in one row"
      ]
    },
    {
      "cell_type": "markdown",
      "metadata": {
        "collapsed": true,
        "extensions": {
          "jupyter_dashboards": {
            "version": 1,
            "views": {
              "grid_default": {
                "hidden": true
              },
              "report_default": {
                "hidden": true
              }
            }
          }
        },
        "id": "DWuP0MfT7_v6"
      },
      "source": [
        "#### Define\n",
        "Extract the most confident prediction of a breed of dog. Drop exploited columns and remove observations without a prediction."
      ]
    },
    {
      "cell_type": "markdown",
      "metadata": {
        "id": "Z9ELyWz67_v6"
      },
      "source": [
        "#### Code"
      ]
    },
    {
      "cell_type": "code",
      "metadata": {
        "id": "gu9hDWFN7_v6"
      },
      "source": [
        "def get_breed(row):\n",
        "  \"\"\"Extract the most confident prediction of a breed of dog.\"\"\"\n",
        "\n",
        "  predictions = [[row['p1'], row['p1_conf'], row['p1_dog']],\n",
        "                 [row['p2'], row['p2_conf'], row['p2_dog']],\n",
        "                 [row['p3'], row['p3_conf'], row['p3_dog']]]\n",
        "  \n",
        "  # Filter predictions of a bread of dog\n",
        "  dogs = list(filter(lambda x: x[2], predictions))\n",
        "  # Sort predictions accoring to confidence\n",
        "  best = sorted(dogs, key=lambda x: x[1], reverse=True)\n",
        "\n",
        "  # Return the best prediction\n",
        "  if len(best) == 0:\n",
        "    return ''\n",
        "  else:\n",
        "    return str(best[0][0]).replace('_', ' ').title()\n",
        "\n",
        "dfi_clean['breed'] = dfi_clean.apply(get_breed, axis=1)\n",
        "dfi_clean.drop(columns=['p1', 'p1_conf', 'p1_dog', 'p2', 'p2_conf', 'p2_dog', 'p3', 'p3_conf', 'p3_dog'], inplace=True)"
      ],
      "execution_count": null,
      "outputs": []
    },
    {
      "cell_type": "code",
      "metadata": {
        "id": "veln-NpcxDL6"
      },
      "source": [
        "# Remove tweets without a prediction\n",
        "dfi_clean = dfi_clean.query('breed != \"\"')"
      ],
      "execution_count": null,
      "outputs": []
    },
    {
      "cell_type": "markdown",
      "metadata": {
        "id": "Wb3FKHSN7_v6"
      },
      "source": [
        "#### Test"
      ]
    },
    {
      "cell_type": "code",
      "metadata": {
        "colab": {
          "base_uri": "https://localhost:8080/"
        },
        "id": "5ZFXl6NpjQj4",
        "outputId": "219a423f-2db3-42a7-bb94-b45531103085"
      },
      "source": [
        "dfi_clean.info()"
      ],
      "execution_count": null,
      "outputs": [
        {
          "output_type": "stream",
          "name": "stdout",
          "text": [
            "<class 'pandas.core.frame.DataFrame'>\n",
            "Int64Index: 1751 entries, 0 to 2073\n",
            "Data columns (total 4 columns):\n",
            " #   Column    Non-Null Count  Dtype \n",
            "---  ------    --------------  ----- \n",
            " 0   tweet_id  1751 non-null   int64 \n",
            " 1   jpg_url   1751 non-null   object\n",
            " 2   img_num   1751 non-null   int64 \n",
            " 3   breed     1751 non-null   object\n",
            "dtypes: int64(2), object(2)\n",
            "memory usage: 68.4+ KB\n"
          ]
        }
      ]
    },
    {
      "cell_type": "code",
      "metadata": {
        "colab": {
          "base_uri": "https://localhost:8080/"
        },
        "id": "_DNltGh3uk0x",
        "outputId": "e1888675-c0a4-4bf1-b63f-2440e378493e"
      },
      "source": [
        "print(sorted(dfi_clean.breed.unique()))"
      ],
      "execution_count": null,
      "outputs": [
        {
          "output_type": "stream",
          "name": "stdout",
          "text": [
            "['Afghan Hound', 'Airedale', 'American Staffordshire Terrier', 'Appenzeller', 'Australian Terrier', 'Basenji', 'Basset', 'Beagle', 'Bedlington Terrier', 'Bernese Mountain Dog', 'Black-And-Tan Coonhound', 'Blenheim Spaniel', 'Bloodhound', 'Bluetick', 'Border Collie', 'Border Terrier', 'Borzoi', 'Boston Bull', 'Bouvier Des Flandres', 'Boxer', 'Brabancon Griffon', 'Briard', 'Brittany Spaniel', 'Bull Mastiff', 'Cairn', 'Cardigan', 'Chesapeake Bay Retriever', 'Chihuahua', 'Chow', 'Clumber', 'Cocker Spaniel', 'Collie', 'Curly-Coated Retriever', 'Dalmatian', 'Dandie Dinmont', 'Doberman', 'English Setter', 'English Springer', 'Entlebucher', 'Eskimo Dog', 'Flat-Coated Retriever', 'French Bulldog', 'German Shepherd', 'German Short-Haired Pointer', 'Giant Schnauzer', 'Golden Retriever', 'Gordon Setter', 'Great Dane', 'Great Pyrenees', 'Greater Swiss Mountain Dog', 'Groenendael', 'Ibizan Hound', 'Irish Setter', 'Irish Terrier', 'Irish Water Spaniel', 'Irish Wolfhound', 'Italian Greyhound', 'Japanese Spaniel', 'Keeshond', 'Kelpie', 'Komondor', 'Kuvasz', 'Labrador Retriever', 'Lakeland Terrier', 'Leonberg', 'Lhasa', 'Malamute', 'Malinois', 'Maltese Dog', 'Mexican Hairless', 'Miniature Pinscher', 'Miniature Poodle', 'Miniature Schnauzer', 'Newfoundland', 'Norfolk Terrier', 'Norwegian Elkhound', 'Norwich Terrier', 'Old English Sheepdog', 'Papillon', 'Pekinese', 'Pembroke', 'Pomeranian', 'Pug', 'Redbone', 'Rhodesian Ridgeback', 'Rottweiler', 'Saint Bernard', 'Saluki', 'Samoyed', 'Schipperke', 'Scotch Terrier', 'Scottish Deerhound', 'Shetland Sheepdog', 'Shih-Tzu', 'Siberian Husky', 'Silky Terrier', 'Soft-Coated Wheaten Terrier', 'Staffordshire Bullterrier', 'Standard Poodle', 'Standard Schnauzer', 'Sussex Spaniel', 'Tibetan Mastiff', 'Tibetan Terrier', 'Toy Poodle', 'Toy Terrier', 'Vizsla', 'Walker Hound', 'Weimaraner', 'Welsh Springer Spaniel', 'West Highland White Terrier', 'Whippet', 'Wire-Haired Fox Terrier', 'Yorkshire Terrier']\n"
          ]
        }
      ]
    },
    {
      "cell_type": "markdown",
      "metadata": {
        "id": "1qHYoT947_6y"
      },
      "source": [
        "### T3: Data in multiple datasets"
      ]
    },
    {
      "cell_type": "markdown",
      "metadata": {
        "collapsed": true,
        "extensions": {
          "jupyter_dashboards": {
            "version": 1,
            "views": {
              "grid_default": {
                "hidden": true
              },
              "report_default": {
                "hidden": true
              }
            }
          }
        },
        "id": "mhW0ENYy7_6y"
      },
      "source": [
        "#### Define\n",
        "Merge archive `dfa_clean`, breed predictions `dfi_clean`, and metrics `dft_clean` into `df_clean` for further analysis and visualization."
      ]
    },
    {
      "cell_type": "markdown",
      "metadata": {
        "id": "lkgthZXr7_6y"
      },
      "source": [
        "#### Code"
      ]
    },
    {
      "cell_type": "code",
      "metadata": {
        "id": "tzwQw8b57_v6"
      },
      "source": [
        "df_clean = dfa_clean.merge(dfi_clean, how='inner', on='tweet_id')\n",
        "df_clean = df_clean.merge(dft_clean, how='inner', on='tweet_id')"
      ],
      "execution_count": null,
      "outputs": []
    },
    {
      "cell_type": "markdown",
      "metadata": {
        "id": "u-7gjryR7_6y"
      },
      "source": [
        "#### Test"
      ]
    },
    {
      "cell_type": "code",
      "metadata": {
        "colab": {
          "base_uri": "https://localhost:8080/"
        },
        "id": "0yGOYXjn7_6y",
        "outputId": "5fba6923-8f47-4291-c1b0-8ede26c0187e"
      },
      "source": [
        "df_clean.info()"
      ],
      "execution_count": null,
      "outputs": [
        {
          "output_type": "stream",
          "name": "stdout",
          "text": [
            "<class 'pandas.core.frame.DataFrame'>\n",
            "Int64Index: 1657 entries, 0 to 1656\n",
            "Data columns (total 14 columns):\n",
            " #   Column              Non-Null Count  Dtype              \n",
            "---  ------              --------------  -----              \n",
            " 0   tweet_id            1657 non-null   int64              \n",
            " 1   timestamp           1657 non-null   datetime64[ns, UTC]\n",
            " 2   source              1657 non-null   object             \n",
            " 3   text                1657 non-null   object             \n",
            " 4   expanded_urls       1657 non-null   object             \n",
            " 5   rating_numerator    1657 non-null   int64              \n",
            " 6   rating_denominator  1657 non-null   int64              \n",
            " 7   name                1657 non-null   object             \n",
            " 8   stage               1657 non-null   object             \n",
            " 9   jpg_url             1657 non-null   object             \n",
            " 10  img_num             1657 non-null   int64              \n",
            " 11  breed               1657 non-null   object             \n",
            " 12  retweet_count       1657 non-null   int64              \n",
            " 13  favorite_count      1657 non-null   int64              \n",
            "dtypes: datetime64[ns, UTC](1), int64(6), object(7)\n",
            "memory usage: 194.2+ KB\n"
          ]
        }
      ]
    },
    {
      "cell_type": "code",
      "metadata": {
        "colab": {
          "base_uri": "https://localhost:8080/",
          "height": 734
        },
        "id": "gjuf1fGGx6AX",
        "outputId": "61cda94b-eeb1-4379-e0cf-91a26c599549"
      },
      "source": [
        "# Set the default value for max_colwidth\n",
        "pd.options.display.max_colwidth = 50\n",
        "\n",
        "df_clean.head()"
      ],
      "execution_count": null,
      "outputs": [
        {
          "output_type": "execute_result",
          "data": {
            "text/html": [
              "<div>\n",
              "<style scoped>\n",
              "    .dataframe tbody tr th:only-of-type {\n",
              "        vertical-align: middle;\n",
              "    }\n",
              "\n",
              "    .dataframe tbody tr th {\n",
              "        vertical-align: top;\n",
              "    }\n",
              "\n",
              "    .dataframe thead th {\n",
              "        text-align: right;\n",
              "    }\n",
              "</style>\n",
              "<table border=\"1\" class=\"dataframe\">\n",
              "  <thead>\n",
              "    <tr style=\"text-align: right;\">\n",
              "      <th></th>\n",
              "      <th>tweet_id</th>\n",
              "      <th>timestamp</th>\n",
              "      <th>source</th>\n",
              "      <th>text</th>\n",
              "      <th>expanded_urls</th>\n",
              "      <th>rating_numerator</th>\n",
              "      <th>rating_denominator</th>\n",
              "      <th>name</th>\n",
              "      <th>stage</th>\n",
              "      <th>jpg_url</th>\n",
              "      <th>img_num</th>\n",
              "      <th>breed</th>\n",
              "      <th>retweet_count</th>\n",
              "      <th>favorite_count</th>\n",
              "    </tr>\n",
              "  </thead>\n",
              "  <tbody>\n",
              "    <tr>\n",
              "      <th>0</th>\n",
              "      <td>892177421306343426</td>\n",
              "      <td>2017-08-01 00:17:27+00:00</td>\n",
              "      <td>&lt;a href=\"http://twitter.com/download/iphone\" rel=\"nofollow\"&gt;Twitter for iPhone&lt;/a&gt;</td>\n",
              "      <td>This is Tilly. She's just checking pup on you. Hopes you're doing ok. If not, she's available for pats, snugs, boops, the whole bit. 13/10 https://t.co/0Xxu71qeIV</td>\n",
              "      <td>https://twitter.com/dog_rates/status/892177421306343426/photo/1</td>\n",
              "      <td>13</td>\n",
              "      <td>10</td>\n",
              "      <td>Tilly</td>\n",
              "      <td></td>\n",
              "      <td>https://pbs.twimg.com/media/DGGmoV4XsAAUL6n.jpg</td>\n",
              "      <td>1</td>\n",
              "      <td>Chihuahua</td>\n",
              "      <td>5385</td>\n",
              "      <td>29872</td>\n",
              "    </tr>\n",
              "    <tr>\n",
              "      <th>1</th>\n",
              "      <td>891815181378084864</td>\n",
              "      <td>2017-07-31 00:18:03+00:00</td>\n",
              "      <td>&lt;a href=\"http://twitter.com/download/iphone\" rel=\"nofollow\"&gt;Twitter for iPhone&lt;/a&gt;</td>\n",
              "      <td>This is Archie. He is a rare Norwegian Pouncing Corgo. Lives in the tall grass. You never know when one may strike. 12/10 https://t.co/wUnZnhtVJB</td>\n",
              "      <td>https://twitter.com/dog_rates/status/891815181378084864/photo/1</td>\n",
              "      <td>12</td>\n",
              "      <td>10</td>\n",
              "      <td>Archie</td>\n",
              "      <td></td>\n",
              "      <td>https://pbs.twimg.com/media/DGBdLU1WsAANxJ9.jpg</td>\n",
              "      <td>1</td>\n",
              "      <td>Chihuahua</td>\n",
              "      <td>3550</td>\n",
              "      <td>22486</td>\n",
              "    </tr>\n",
              "    <tr>\n",
              "      <th>2</th>\n",
              "      <td>891689557279858688</td>\n",
              "      <td>2017-07-30 15:58:51+00:00</td>\n",
              "      <td>&lt;a href=\"http://twitter.com/download/iphone\" rel=\"nofollow\"&gt;Twitter for iPhone&lt;/a&gt;</td>\n",
              "      <td>This is Darla. She commenced a snooze mid meal. 13/10 happens to the best of us https://t.co/tD36da7qLQ</td>\n",
              "      <td>https://twitter.com/dog_rates/status/891689557279858688/photo/1</td>\n",
              "      <td>13</td>\n",
              "      <td>10</td>\n",
              "      <td>Darla</td>\n",
              "      <td></td>\n",
              "      <td>https://pbs.twimg.com/media/DF_q7IAWsAEuuN8.jpg</td>\n",
              "      <td>1</td>\n",
              "      <td>Labrador Retriever</td>\n",
              "      <td>7375</td>\n",
              "      <td>37659</td>\n",
              "    </tr>\n",
              "    <tr>\n",
              "      <th>3</th>\n",
              "      <td>891327558926688256</td>\n",
              "      <td>2017-07-29 16:00:24+00:00</td>\n",
              "      <td>&lt;a href=\"http://twitter.com/download/iphone\" rel=\"nofollow\"&gt;Twitter for iPhone&lt;/a&gt;</td>\n",
              "      <td>This is Franklin. He would like you to stop calling him \"cute.\" He is a very fierce shark and should be respected as such. 12/10 #BarkWeek https://t.co/AtUZn91f7f</td>\n",
              "      <td>https://twitter.com/dog_rates/status/891327558926688256/photo/1,https://twitter.com/dog_rates/status/891327558926688256/photo/1</td>\n",
              "      <td>12</td>\n",
              "      <td>10</td>\n",
              "      <td>Franklin</td>\n",
              "      <td></td>\n",
              "      <td>https://pbs.twimg.com/media/DF6hr6BUMAAzZgT.jpg</td>\n",
              "      <td>2</td>\n",
              "      <td>Basset</td>\n",
              "      <td>7918</td>\n",
              "      <td>35974</td>\n",
              "    </tr>\n",
              "    <tr>\n",
              "      <th>4</th>\n",
              "      <td>891087950875897856</td>\n",
              "      <td>2017-07-29 00:08:17+00:00</td>\n",
              "      <td>&lt;a href=\"http://twitter.com/download/iphone\" rel=\"nofollow\"&gt;Twitter for iPhone&lt;/a&gt;</td>\n",
              "      <td>Here we have a majestic great white breaching off South Africa's coast. Absolutely h*ckin breathtaking. 13/10 (IG: tucker_marlo) #BarkWeek https://t.co/kQ04fDDRmh</td>\n",
              "      <td>https://twitter.com/dog_rates/status/891087950875897856/photo/1</td>\n",
              "      <td>13</td>\n",
              "      <td>10</td>\n",
              "      <td></td>\n",
              "      <td></td>\n",
              "      <td>https://pbs.twimg.com/media/DF3HwyEWsAABqE6.jpg</td>\n",
              "      <td>1</td>\n",
              "      <td>Chesapeake Bay Retriever</td>\n",
              "      <td>2664</td>\n",
              "      <td>18146</td>\n",
              "    </tr>\n",
              "  </tbody>\n",
              "</table>\n",
              "</div>"
            ],
            "text/plain": [
              "             tweet_id                 timestamp  ... retweet_count favorite_count\n",
              "0  892177421306343426 2017-08-01 00:17:27+00:00  ...          5385          29872\n",
              "1  891815181378084864 2017-07-31 00:18:03+00:00  ...          3550          22486\n",
              "2  891689557279858688 2017-07-30 15:58:51+00:00  ...          7375          37659\n",
              "3  891327558926688256 2017-07-29 16:00:24+00:00  ...          7918          35974\n",
              "4  891087950875897856 2017-07-29 00:08:17+00:00  ...          2664          18146\n",
              "\n",
              "[5 rows x 14 columns]"
            ]
          },
          "metadata": {},
          "execution_count": 48
        }
      ]
    },
    {
      "cell_type": "markdown",
      "metadata": {
        "id": "sYjBaX8ahIJh"
      },
      "source": [
        "## Storing Data\n",
        "Save gathered, assessed, and cleaned master dataset to a CSV file named \"twitter_archive_master.csv\" and to an SQlite database for further exploration."
      ]
    },
    {
      "cell_type": "code",
      "metadata": {
        "id": "ZIMAc36shIJh"
      },
      "source": [
        "with open('twitter_archive_master.csv', 'w') as file:\n",
        "  df_clean.to_csv(file)"
      ],
      "execution_count": null,
      "outputs": []
    },
    {
      "cell_type": "code",
      "metadata": {
        "id": "UQRtdgvZBGF5"
      },
      "source": [
        "# Store the dataframe for further processing\n",
        "from sqlalchemy import create_engine\n",
        "\n",
        "# Create SQLAlchemy engine and empty database\n",
        "engine = create_engine('sqlite:///weratedogsdata_clean.db')\n",
        "\n",
        "# Store dataframes in database\n",
        "df_clean.to_sql('df_clean', engine, index=False)"
      ],
      "execution_count": null,
      "outputs": []
    },
    {
      "cell_type": "markdown",
      "metadata": {
        "id": "qV6aIJVDhIJh"
      },
      "source": [
        "## Analyzing and Visualizing Data\n",
        "### Extended Info for the Cleaned Dataset\n",
        "\n",
        "| # | Variable | Non-Null | Nunique | Dtype | Notes |\n",
        "|---|----------|----------|---------|-------|-------|\n",
        "| 0 | tweet_id | 1657 | 1657 | int64 | The Tweet's unique identifier .|\n",
        "| 1 | timestamp | 1657 | 1657 | datetime64[ns, UTC] | Time when this Tweet was created. |\n",
        "| 2 | source | 1657 | 3 | object | Utility used to post the Tweet. |\n",
        "| 3 | text | 1657 | 1657 | object | The actual text of the status update. |\n",
        "| 4 | expanded_urls | 1657 | 1657 | object | The URLs of the Tweet's photos. |\n",
        "| 5 | rating_numerator | 1657 | 26 | int64 | The rating numerator extracted from the text. |\n",
        "| 6 | rating_denominator | 1657 | 10 | int64 | The rating denominator extracted from the text. |\n",
        "| 7 | name | 1657 | 831 | object | The dog's name extracted from the text. |\n",
        "| 8 | stage | 1657 | 5 | object | The dog's stage extracted from the text.|\n",
        "| 9 | jpg_url | 1657 | 1657 | object | The URL of the image used to classify the breed of dog. |\n",
        "| 10 | img_num | 1657 | 4 | int64 | The image number that corresponded to the most confident prediction.  |\n",
        "| 11 | breed | 1657 | 113 | object | The most confident classification of the breed of dog predicted from the image. |\n",
        "| 12 | retweet_count | 1657 | 1352 | int64 | Number of times this Tweet has been retweeted. |\n",
        "| 13 | favorite_count | 1657 | 1561 | int64 | Indicates approximately how many times this Tweet has been liked by Twitter users. |"
      ]
    },
    {
      "cell_type": "code",
      "metadata": {
        "id": "qLp_cfGWFFO0",
        "outputId": "bdc02d8b-e4d2-4b68-8c84-0fe342b1ef5b",
        "colab": {
          "base_uri": "https://localhost:8080/"
        }
      },
      "source": [
        "df_clean.timestamp.min(), df_clean.timestamp.max()"
      ],
      "execution_count": 32,
      "outputs": [
        {
          "output_type": "execute_result",
          "data": {
            "text/plain": [
              "('2015-11-15 22:32:08.000000', '2017-08-01 00:17:27.000000')"
            ]
          },
          "metadata": {},
          "execution_count": 32
        }
      ]
    },
    {
      "cell_type": "markdown",
      "metadata": {
        "id": "c2WzYVrXFNrD"
      },
      "source": [
        "The cleaned dataset has 1657 observations starting at the November 15th, 2015 when the WeRateDogs Twitter account was launched and ending at the August 17th, 2017 when the archive was exported.\n",
        "\n",
        "**Assumptions**:\n",
        "- Variables *rating_numerator, rating_denominator, name,* and *stage* was extracted from the tweet's text. The rating is a part of a humorous aspect of the content. There is hardly any value in analysing these variables.\n",
        "- The variable *breed* is inferred from the image using machine learning algorithm. We can use this variable keeping on mind that there can be some inaccuracies.\n",
        "- The variables *favorite_count*, and *retweet_count* reflects the preferences of Twitter users. We can use these variables keeping in mind they come from a non-random sample of human population."
      ]
    },
    {
      "cell_type": "markdown",
      "metadata": {
        "id": "ST41dIoGhIJh"
      },
      "source": [
        "### Insight 1: Most Popular Dog Names\n",
        "The top 10 most popular dog names in our dataset are: "
      ]
    },
    {
      "cell_type": "code",
      "metadata": {
        "id": "-okPfDNO1w6N",
        "outputId": "4adc0e21-8815-4cea-8a4e-5885ccad4ad7",
        "colab": {
          "base_uri": "https://localhost:8080/"
        }
      },
      "source": [
        "print(list(df_clean.name.value_counts(ascending=True)[-11:-1].index)[::-1])"
      ],
      "execution_count": 7,
      "outputs": [
        {
          "output_type": "stream",
          "name": "stdout",
          "text": [
            "['Cooper', 'Charlie', 'Lucy', 'Tucker', 'Oliver', 'Penny', 'Daisy', 'Winston', 'Sadie', 'Jax']\n"
          ]
        }
      ]
    },
    {
      "cell_type": "code",
      "metadata": {
        "id": "p_HOS44QSAq4",
        "colab": {
          "base_uri": "https://localhost:8080/",
          "height": 295
        },
        "outputId": "9b3b6688-73aa-4bf9-9583-a4f9ad84c8ba"
      },
      "source": [
        "df_clean.name.value_counts(ascending=True)[-11:-1].plot(kind='barh', title='The Top 10 Most Popular Dog Names')\n",
        "plt.xlabel('Frequency');"
      ],
      "execution_count": 8,
      "outputs": [
        {
          "output_type": "display_data",
          "data": {
            "image/png": "[encoded data removed]",
            "text/plain": [
              "<Figure size 432x288 with 1 Axes>"
            ]
          },
          "metadata": {
            "needs_background": "light"
          }
        }
      ]
    },
    {
      "cell_type": "markdown",
      "metadata": {
        "id": "XH0TloGI2eYu"
      },
      "source": [
        "### Insight 2: Most Popular Dog Breeds\n",
        "The top 10 most popular dog breeds according to number of tweets."
      ]
    },
    {
      "cell_type": "code",
      "metadata": {
        "id": "N1VJr5WQSAju",
        "colab": {
          "base_uri": "https://localhost:8080/",
          "height": 310
        },
        "outputId": "394a5177-16af-45b4-e050-e9029ff79304"
      },
      "source": [
        "df_clean.breed.value_counts(ascending=True)[-10:].plot(kind='barh', title='The Top 10 Most Popular Dog Breeds\\naccording to number of tweets')\n",
        "plt.ylabel('Dog Name')\n",
        "plt.xlabel('Number of Tweets');"
      ],
      "execution_count": 14,
      "outputs": [
        {
          "output_type": "display_data",
          "data": {
            "image/png": "[encoded data removed]",
            "text/plain": [
              "<Figure size 432x288 with 1 Axes>"
            ]
          },
          "metadata": {
            "needs_background": "light"
          }
        }
      ]
    },
    {
      "cell_type": "markdown",
      "metadata": {
        "id": "wgAh8J-a5uul"
      },
      "source": [
        "The top 10 most popular dog breeds according to number of likes:"
      ]
    },
    {
      "cell_type": "code",
      "metadata": {
        "id": "W4fDMGD2b8nC",
        "colab": {
          "base_uri": "https://localhost:8080/",
          "height": 310
        },
        "outputId": "3fb13d9f-57f1-45ef-c0ad-505a1f90806c"
      },
      "source": [
        "df_clean.groupby('breed')['favorite_count'].sum().sort_values().tail(10).plot(kind='barh', title='The Top 10 Most Popular Dog Breeds\\naccording to number of likes')\n",
        "plt.ylabel('Dog Breed')\n",
        "plt.xlabel('Number of likes (in million)');"
      ],
      "execution_count": 15,
      "outputs": [
        {
          "output_type": "display_data",
          "data": {
            "image/png": "[encoded data removed]",
            "text/plain": [
              "<Figure size 432x288 with 1 Axes>"
            ]
          },
          "metadata": {
            "needs_background": "light"
          }
        }
      ]
    },
    {
      "cell_type": "markdown",
      "metadata": {
        "id": "JBQrbNUC5yRd"
      },
      "source": [
        "The top 10 most popular dog breeds according to number of retweets:"
      ]
    },
    {
      "cell_type": "code",
      "metadata": {
        "id": "puzPnmRlV2yW",
        "colab": {
          "base_uri": "https://localhost:8080/",
          "height": 310
        },
        "outputId": "15f59be2-a5e6-4da6-fefb-2f43124600c8"
      },
      "source": [
        "df_clean.groupby('breed')['favorite_count'].mean().sort_values().tail(10).plot(kind='barh', title='The Top 10 Most Popular Dog Breeds\\naccording to number of retweets')\n",
        "plt.ylabel('Dog Breed')\n",
        "plt.xlabel('Number of Retweets');"
      ],
      "execution_count": 16,
      "outputs": [
        {
          "output_type": "display_data",
          "data": {
            "image/png": "[encoded data removed]",
            "text/plain": [
              "<Figure size 432x288 with 1 Axes>"
            ]
          },
          "metadata": {
            "needs_background": "light"
          }
        }
      ]
    },
    {
      "cell_type": "markdown",
      "metadata": {
        "id": "XgDtNAirDfr9"
      },
      "source": [
        "**Insight 2 Conclusions**\n",
        "- The popularity rank of a dog breed depends on a metric used. Comparision of number of tweets and number of likes is quite similar.\n",
        "- In the comparison of absolute number of likes (sum) and average number of likes (mean), the rank of dog breeds differs due to frequency of tweets."
      ]
    },
    {
      "cell_type": "markdown",
      "metadata": {
        "id": "lzvQxZDp2yBW"
      },
      "source": [
        "### Insight 3: Relation Between Favourite Count and Retweet Count"
      ]
    },
    {
      "cell_type": "code",
      "metadata": {
        "id": "fl36bLgqSAau",
        "colab": {
          "base_uri": "https://localhost:8080/",
          "height": 296
        },
        "outputId": "b40eec7b-4cf6-4c1f-f99c-d5b8ebc71bad"
      },
      "source": [
        "df_clean.plot(kind='scatter', x='favorite_count', y='retweet_count', title='The Scatter Plot of Favourite Count vs Retweet Count');"
      ],
      "execution_count": 9,
      "outputs": [
        {
          "output_type": "display_data",
          "data": {
            "image/png": "[encoded data removed]",
            "text/plain": [
              "<Figure size 432x288 with 1 Axes>"
            ]
          },
          "metadata": {
            "needs_background": "light"
          }
        }
      ]
    },
    {
      "cell_type": "code",
      "metadata": {
        "id": "ba1gN-ptVaeu",
        "colab": {
          "base_uri": "https://localhost:8080/",
          "height": 315
        },
        "outputId": "4028fa3f-521a-49b1-ae4f-cc40c148e121"
      },
      "source": [
        "df_clean.plot(kind='scatter', x='favorite_count', y='retweet_count', logx=True, logy=True, title='The Scatter Plot of Favourite Count vs Retweet Count\\n(with logarithmic scales)');"
      ],
      "execution_count": 10,
      "outputs": [
        {
          "output_type": "display_data",
          "data": {
            "image/png": "[encoded data removed]",
            "text/plain": [
              "<Figure size 432x288 with 1 Axes>"
            ]
          },
          "metadata": {
            "needs_background": "light"
          }
        }
      ]
    },
    {
      "cell_type": "code",
      "metadata": {
        "id": "gVmpzU07o2Vb",
        "outputId": "4480597d-ce44-4705-bcbc-622dd544b7aa",
        "colab": {
          "base_uri": "https://localhost:8080/",
          "height": 532
        }
      },
      "source": [
        "import statsmodels.api as sm\n",
        "df_clean['intercept'] = 1\n",
        "lm = sm.OLS(df_clean['retweet_count'], df_clean[['intercept', 'favorite_count']])\n",
        "res = lm.fit()\n",
        "res.summary()"
      ],
      "execution_count": 17,
      "outputs": [
        {
          "output_type": "stream",
          "name": "stderr",
          "text": [
            "/usr/local/lib/python3.7/dist-packages/statsmodels/tools/_testing.py:19: FutureWarning: pandas.util.testing is deprecated. Use the functions in the public API at pandas.testing instead.\n",
            "  import pandas.util.testing as tm\n"
          ]
        },
        {
          "output_type": "execute_result",
          "data": {
            "text/html": [
              "<table class=\"simpletable\">\n",
              "<caption>OLS Regression Results</caption>\n",
              "<tr>\n",
              "  <th>Dep. Variable:</th>      <td>retweet_count</td>  <th>  R-squared:         </th> <td>   0.865</td> \n",
              "</tr>\n",
              "<tr>\n",
              "  <th>Model:</th>                   <td>OLS</td>       <th>  Adj. R-squared:    </th> <td>   0.865</td> \n",
              "</tr>\n",
              "<tr>\n",
              "  <th>Method:</th>             <td>Least Squares</td>  <th>  F-statistic:       </th> <td>1.063e+04</td>\n",
              "</tr>\n",
              "<tr>\n",
              "  <th>Date:</th>             <td>Wed, 13 Oct 2021</td> <th>  Prob (F-statistic):</th>  <td>  0.00</td>  \n",
              "</tr>\n",
              "<tr>\n",
              "  <th>Time:</th>                 <td>09:19:48</td>     <th>  Log-Likelihood:    </th> <td> -14542.</td> \n",
              "</tr>\n",
              "<tr>\n",
              "  <th>No. Observations:</th>      <td>  1657</td>      <th>  AIC:               </th> <td>2.909e+04</td>\n",
              "</tr>\n",
              "<tr>\n",
              "  <th>Df Residuals:</th>          <td>  1655</td>      <th>  BIC:               </th> <td>2.910e+04</td>\n",
              "</tr>\n",
              "<tr>\n",
              "  <th>Df Model:</th>              <td>     1</td>      <th>                     </th>     <td> </td>    \n",
              "</tr>\n",
              "<tr>\n",
              "  <th>Covariance Type:</th>      <td>nonrobust</td>    <th>                     </th>     <td> </td>    \n",
              "</tr>\n",
              "</table>\n",
              "<table class=\"simpletable\">\n",
              "<tr>\n",
              "         <td></td>           <th>coef</th>     <th>std err</th>      <th>t</th>      <th>P>|t|</th>  <th>[0.025</th>    <th>0.975]</th>  \n",
              "</tr>\n",
              "<tr>\n",
              "  <th>intercept</th>      <td> -351.3676</td> <td>   46.595</td> <td>   -7.541</td> <td> 0.000</td> <td> -442.760</td> <td> -259.975</td>\n",
              "</tr>\n",
              "<tr>\n",
              "  <th>favorite_count</th> <td>    0.3291</td> <td>    0.003</td> <td>  103.114</td> <td> 0.000</td> <td>    0.323</td> <td>    0.335</td>\n",
              "</tr>\n",
              "</table>\n",
              "<table class=\"simpletable\">\n",
              "<tr>\n",
              "  <th>Omnibus:</th>       <td>1543.136</td> <th>  Durbin-Watson:     </th>  <td>   1.256</td> \n",
              "</tr>\n",
              "<tr>\n",
              "  <th>Prob(Omnibus):</th>  <td> 0.000</td>  <th>  Jarque-Bera (JB):  </th> <td>218919.886</td>\n",
              "</tr>\n",
              "<tr>\n",
              "  <th>Skew:</th>           <td> 3.857</td>  <th>  Prob(JB):          </th>  <td>    0.00</td> \n",
              "</tr>\n",
              "<tr>\n",
              "  <th>Kurtosis:</th>       <td>58.779</td>  <th>  Cond. No.          </th>  <td>1.77e+04</td> \n",
              "</tr>\n",
              "</table><br/><br/>Warnings:<br/>[1] Standard Errors assume that the covariance matrix of the errors is correctly specified.<br/>[2] The condition number is large, 1.77e+04. This might indicate that there are<br/>strong multicollinearity or other numerical problems."
            ],
            "text/plain": [
              "<class 'statsmodels.iolib.summary.Summary'>\n",
              "\"\"\"\n",
              "                            OLS Regression Results                            \n",
              "==============================================================================\n",
              "Dep. Variable:          retweet_count   R-squared:                       0.865\n",
              "Model:                            OLS   Adj. R-squared:                  0.865\n",
              "Method:                 Least Squares   F-statistic:                 1.063e+04\n",
              "Date:                Wed, 13 Oct 2021   Prob (F-statistic):               0.00\n",
              "Time:                        09:19:48   Log-Likelihood:                -14542.\n",
              "No. Observations:                1657   AIC:                         2.909e+04\n",
              "Df Residuals:                    1655   BIC:                         2.910e+04\n",
              "Df Model:                           1                                         \n",
              "Covariance Type:            nonrobust                                         \n",
              "==================================================================================\n",
              "                     coef    std err          t      P>|t|      [0.025      0.975]\n",
              "----------------------------------------------------------------------------------\n",
              "intercept       -351.3676     46.595     -7.541      0.000    -442.760    -259.975\n",
              "favorite_count     0.3291      0.003    103.114      0.000       0.323       0.335\n",
              "==============================================================================\n",
              "Omnibus:                     1543.136   Durbin-Watson:                   1.256\n",
              "Prob(Omnibus):                  0.000   Jarque-Bera (JB):           218919.886\n",
              "Skew:                           3.857   Prob(JB):                         0.00\n",
              "Kurtosis:                      58.779   Cond. No.                     1.77e+04\n",
              "==============================================================================\n",
              "\n",
              "Warnings:\n",
              "[1] Standard Errors assume that the covariance matrix of the errors is correctly specified.\n",
              "[2] The condition number is large, 1.77e+04. This might indicate that there are\n",
              "strong multicollinearity or other numerical problems.\n",
              "\"\"\""
            ]
          },
          "metadata": {},
          "execution_count": 17
        }
      ]
    },
    {
      "cell_type": "code",
      "metadata": {
        "id": "IVdU_pbo-Jpt",
        "outputId": "2be3decf-d8af-45c3-b6c5-a57bfb1d0dc0",
        "colab": {
          "base_uri": "https://localhost:8080/"
        }
      },
      "source": [
        "# Compute the correlation coefficient\n",
        "np.sqrt(res.rsquared)"
      ],
      "execution_count": 19,
      "outputs": [
        {
          "output_type": "execute_result",
          "data": {
            "text/plain": [
              "0.9302203619888015"
            ]
          },
          "metadata": {},
          "execution_count": 19
        }
      ]
    },
    {
      "cell_type": "code",
      "metadata": {
        "id": "veNN06Dy81nt",
        "outputId": "bc5c5179-9de6-46d4-edb1-c9a8248f3132",
        "colab": {
          "base_uri": "https://localhost:8080/",
          "height": 310
        }
      },
      "source": [
        "df_clean.plot(kind='scatter', x='favorite_count', y='retweet_count', title='The Scatter Plot of Favourite Count vs Retweet Count\\nwith the regression line')\n",
        "fav_min_max = [df_clean.favorite_count.min(), df_clean.favorite_count.max()]\n",
        "# Draw a regression line using 'res.params'\n",
        "plt.plot(fav_min_max, [res.params.intercept + res.params.favorite_count*x for x in fav_min_max], color='tab:orange')\n",
        "plt.xlabel('Number of Likes')\n",
        "plt.ylabel('Number of Retweets')\n",
        "plt.show()"
      ],
      "execution_count": 31,
      "outputs": [
        {
          "output_type": "display_data",
          "data": {
            "image/png": "[encoded data removed]",
            "text/plain": [
              "<Figure size 432x288 with 1 Axes>"
            ]
          },
          "metadata": {
            "needs_background": "light"
          }
        }
      ]
    },
    {
      "cell_type": "markdown",
      "metadata": {
        "id": "PCjaEU4WAYB1"
      },
      "source": [
        "**Insight 3 Conclusions**:\n",
        "- Variables *favourite_count* and *retweet_count* are highly correlated (with the regression coefficient of 0.93).\n",
        "- For ever 1000 increase in number of likes we can predict 329 more retweets.\n",
        "- The linear relationship is observable in scatter plots with both normal and logarithmic scales. The last scatter plot shows *favorite_count* versus *retweet_count* with the linear regression line.\n",
        "- As both variables are highly correlated we can use either of them for further investigation."
      ]
    }
  ]
}