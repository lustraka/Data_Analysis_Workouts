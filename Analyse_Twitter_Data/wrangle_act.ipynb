{
  "nbformat": 4,
  "nbformat_minor": 0,
  "metadata": {
    "extensions": {
      "jupyter_dashboards": {
        "activeView": "report_default",
        "version": 1,
        "views": {
          "grid_default": {
            "cellMargin": 10,
            "defaultCellHeight": 20,
            "maxColumns": 12,
            "name": "grid",
            "type": "grid"
          },
          "report_default": {
            "name": "report",
            "type": "report"
          }
        }
      }
    },
    "kernelspec": {
      "display_name": "Python 3",
      "language": "python",
      "name": "python3"
    },
    "language_info": {
      "codemirror_mode": {
        "name": "ipython",
        "version": 3
      },
      "file_extension": ".py",
      "mimetype": "text/x-python",
      "name": "python",
      "nbconvert_exporter": "python",
      "pygments_lexer": "ipython3",
      "version": "3.6.3"
    },
    "colab": {
      "name": "wrangle_act.ipynb",
      "provenance": [],
      "include_colab_link": true
    }
  },
  "cells": [
    {
      "cell_type": "markdown",
      "metadata": {
        "id": "view-in-github",
        "colab_type": "text"
      },
      "source": [
        "<a href=\"https://colab.research.google.com/github/lustraka/Data_Analysis_Workouts/blob/main/Analyse_Twitter_Data/wrangle_act.ipynb\" target=\"_parent\"><img src=\"https://colab.research.google.com/assets/colab-badge.svg\" alt=\"Open In Colab\"/></a>"
      ]
    },
    {
      "cell_type": "markdown",
      "metadata": {
        "extensions": {
          "jupyter_dashboards": {
            "version": 1,
            "views": {
              "grid_default": {
                "col": 0,
                "height": 4,
                "hidden": false,
                "row": 0,
                "width": 4
              },
              "report_default": {
                "hidden": false
              }
            }
          }
        },
        "id": "QoAIyvmdhIJX"
      },
      "source": [
        "# Project: Wrangling and Analyze Data"
      ]
    },
    {
      "cell_type": "code",
      "metadata": {
        "id": "vRNqPo2ghJOt"
      },
      "source": [
        "# Import dependencies\n",
        "import requests\n",
        "import os\n",
        "import json\n",
        "import tweepy\n",
        "import pandas as pd\n",
        "import numpy as np\n",
        "import matplotlib.pyplot as plt"
      ],
      "execution_count": 1,
      "outputs": []
    },
    {
      "cell_type": "markdown",
      "metadata": {
        "id": "P0OJjIrehIJZ"
      },
      "source": [
        "## Data Gathering\n",
        "In the cell below, gather **all** three pieces of data for this project and load them in the notebook. **Note:** the methods required to gather each data are different.\n",
        "1. Directly download the WeRateDogs Twitter archive data (twitter_archive_enhanced.csv)"
      ]
    },
    {
      "cell_type": "code",
      "metadata": {
        "extensions": {
          "jupyter_dashboards": {
            "version": 1,
            "views": {
              "grid_default": {
                "hidden": true
              },
              "report_default": {
                "hidden": true
              }
            }
          }
        },
        "colab": {
          "base_uri": "https://localhost:8080/",
          "height": 590
        },
        "id": "8tOSUEWshIJa",
        "outputId": "2eddfc90-aca5-43c1-a82e-53f734e9f042"
      },
      "source": [
        "path_csv = 'https://raw.githubusercontent.com/lustraka/Data_Analysis_Workouts/main/Analyse_Twitter_Data/'\n",
        "dfa = pd.read_csv(path_csv+'twitter-archive-enhanced.csv')\n",
        "dfa.head()"
      ],
      "execution_count": null,
      "outputs": [
        {
          "output_type": "execute_result",
          "data": {
            "text/html": [
              "<div>\n",
              "<style scoped>\n",
              "    .dataframe tbody tr th:only-of-type {\n",
              "        vertical-align: middle;\n",
              "    }\n",
              "\n",
              "    .dataframe tbody tr th {\n",
              "        vertical-align: top;\n",
              "    }\n",
              "\n",
              "    .dataframe thead th {\n",
              "        text-align: right;\n",
              "    }\n",
              "</style>\n",
              "<table border=\"1\" class=\"dataframe\">\n",
              "  <thead>\n",
              "    <tr style=\"text-align: right;\">\n",
              "      <th></th>\n",
              "      <th>tweet_id</th>\n",
              "      <th>in_reply_to_status_id</th>\n",
              "      <th>in_reply_to_user_id</th>\n",
              "      <th>timestamp</th>\n",
              "      <th>source</th>\n",
              "      <th>text</th>\n",
              "      <th>retweeted_status_id</th>\n",
              "      <th>retweeted_status_user_id</th>\n",
              "      <th>retweeted_status_timestamp</th>\n",
              "      <th>expanded_urls</th>\n",
              "      <th>rating_numerator</th>\n",
              "      <th>rating_denominator</th>\n",
              "      <th>name</th>\n",
              "      <th>doggo</th>\n",
              "      <th>floofer</th>\n",
              "      <th>pupper</th>\n",
              "      <th>puppo</th>\n",
              "    </tr>\n",
              "  </thead>\n",
              "  <tbody>\n",
              "    <tr>\n",
              "      <th>0</th>\n",
              "      <td>892420643555336193</td>\n",
              "      <td>NaN</td>\n",
              "      <td>NaN</td>\n",
              "      <td>2017-08-01 16:23:56 +0000</td>\n",
              "      <td>&lt;a href=\"http://twitter.com/download/iphone\" r...</td>\n",
              "      <td>This is Phineas. He's a mystical boy. Only eve...</td>\n",
              "      <td>NaN</td>\n",
              "      <td>NaN</td>\n",
              "      <td>NaN</td>\n",
              "      <td>https://twitter.com/dog_rates/status/892420643...</td>\n",
              "      <td>13</td>\n",
              "      <td>10</td>\n",
              "      <td>Phineas</td>\n",
              "      <td>None</td>\n",
              "      <td>None</td>\n",
              "      <td>None</td>\n",
              "      <td>None</td>\n",
              "    </tr>\n",
              "    <tr>\n",
              "      <th>1</th>\n",
              "      <td>892177421306343426</td>\n",
              "      <td>NaN</td>\n",
              "      <td>NaN</td>\n",
              "      <td>2017-08-01 00:17:27 +0000</td>\n",
              "      <td>&lt;a href=\"http://twitter.com/download/iphone\" r...</td>\n",
              "      <td>This is Tilly. She's just checking pup on you....</td>\n",
              "      <td>NaN</td>\n",
              "      <td>NaN</td>\n",
              "      <td>NaN</td>\n",
              "      <td>https://twitter.com/dog_rates/status/892177421...</td>\n",
              "      <td>13</td>\n",
              "      <td>10</td>\n",
              "      <td>Tilly</td>\n",
              "      <td>None</td>\n",
              "      <td>None</td>\n",
              "      <td>None</td>\n",
              "      <td>None</td>\n",
              "    </tr>\n",
              "    <tr>\n",
              "      <th>2</th>\n",
              "      <td>891815181378084864</td>\n",
              "      <td>NaN</td>\n",
              "      <td>NaN</td>\n",
              "      <td>2017-07-31 00:18:03 +0000</td>\n",
              "      <td>&lt;a href=\"http://twitter.com/download/iphone\" r...</td>\n",
              "      <td>This is Archie. He is a rare Norwegian Pouncin...</td>\n",
              "      <td>NaN</td>\n",
              "      <td>NaN</td>\n",
              "      <td>NaN</td>\n",
              "      <td>https://twitter.com/dog_rates/status/891815181...</td>\n",
              "      <td>12</td>\n",
              "      <td>10</td>\n",
              "      <td>Archie</td>\n",
              "      <td>None</td>\n",
              "      <td>None</td>\n",
              "      <td>None</td>\n",
              "      <td>None</td>\n",
              "    </tr>\n",
              "    <tr>\n",
              "      <th>3</th>\n",
              "      <td>891689557279858688</td>\n",
              "      <td>NaN</td>\n",
              "      <td>NaN</td>\n",
              "      <td>2017-07-30 15:58:51 +0000</td>\n",
              "      <td>&lt;a href=\"http://twitter.com/download/iphone\" r...</td>\n",
              "      <td>This is Darla. She commenced a snooze mid meal...</td>\n",
              "      <td>NaN</td>\n",
              "      <td>NaN</td>\n",
              "      <td>NaN</td>\n",
              "      <td>https://twitter.com/dog_rates/status/891689557...</td>\n",
              "      <td>13</td>\n",
              "      <td>10</td>\n",
              "      <td>Darla</td>\n",
              "      <td>None</td>\n",
              "      <td>None</td>\n",
              "      <td>None</td>\n",
              "      <td>None</td>\n",
              "    </tr>\n",
              "    <tr>\n",
              "      <th>4</th>\n",
              "      <td>891327558926688256</td>\n",
              "      <td>NaN</td>\n",
              "      <td>NaN</td>\n",
              "      <td>2017-07-29 16:00:24 +0000</td>\n",
              "      <td>&lt;a href=\"http://twitter.com/download/iphone\" r...</td>\n",
              "      <td>This is Franklin. He would like you to stop ca...</td>\n",
              "      <td>NaN</td>\n",
              "      <td>NaN</td>\n",
              "      <td>NaN</td>\n",
              "      <td>https://twitter.com/dog_rates/status/891327558...</td>\n",
              "      <td>12</td>\n",
              "      <td>10</td>\n",
              "      <td>Franklin</td>\n",
              "      <td>None</td>\n",
              "      <td>None</td>\n",
              "      <td>None</td>\n",
              "      <td>None</td>\n",
              "    </tr>\n",
              "  </tbody>\n",
              "</table>\n",
              "</div>"
            ],
            "text/plain": [
              "             tweet_id  in_reply_to_status_id  ...  pupper puppo\n",
              "0  892420643555336193                    NaN  ...    None  None\n",
              "1  892177421306343426                    NaN  ...    None  None\n",
              "2  891815181378084864                    NaN  ...    None  None\n",
              "3  891689557279858688                    NaN  ...    None  None\n",
              "4  891327558926688256                    NaN  ...    None  None\n",
              "\n",
              "[5 rows x 17 columns]"
            ]
          },
          "metadata": {},
          "execution_count": 2
        }
      ]
    },
    {
      "cell_type": "markdown",
      "metadata": {
        "id": "YxWNngRlhIJa"
      },
      "source": [
        "2. Use the Requests library to download the tweet image prediction (image_predictions.tsv)"
      ]
    },
    {
      "cell_type": "code",
      "metadata": {
        "colab": {
          "base_uri": "https://localhost:8080/",
          "height": 226
        },
        "id": "a-ff0r44hIJb",
        "outputId": "3b202e5c-a362-4a24-e1dc-f7ca387968ea"
      },
      "source": [
        "url_tsv = 'https://d17h27t6h515a5.cloudfront.net/topher/2017/August/599fd2ad_image-predictions/image-predictions.tsv'\n",
        "r = requests.get(url_tsv)\n",
        "with open('image-predictions.tsv', 'wb') as file:\n",
        "  file.write(r.content)\n",
        "dfi = pd.read_csv('image-predictions.tsv', sep='\\t')\n",
        "dfi.head()"
      ],
      "execution_count": null,
      "outputs": [
        {
          "output_type": "execute_result",
          "data": {
            "text/html": [
              "<div>\n",
              "<style scoped>\n",
              "    .dataframe tbody tr th:only-of-type {\n",
              "        vertical-align: middle;\n",
              "    }\n",
              "\n",
              "    .dataframe tbody tr th {\n",
              "        vertical-align: top;\n",
              "    }\n",
              "\n",
              "    .dataframe thead th {\n",
              "        text-align: right;\n",
              "    }\n",
              "</style>\n",
              "<table border=\"1\" class=\"dataframe\">\n",
              "  <thead>\n",
              "    <tr style=\"text-align: right;\">\n",
              "      <th></th>\n",
              "      <th>tweet_id</th>\n",
              "      <th>jpg_url</th>\n",
              "      <th>img_num</th>\n",
              "      <th>p1</th>\n",
              "      <th>p1_conf</th>\n",
              "      <th>p1_dog</th>\n",
              "      <th>p2</th>\n",
              "      <th>p2_conf</th>\n",
              "      <th>p2_dog</th>\n",
              "      <th>p3</th>\n",
              "      <th>p3_conf</th>\n",
              "      <th>p3_dog</th>\n",
              "    </tr>\n",
              "  </thead>\n",
              "  <tbody>\n",
              "    <tr>\n",
              "      <th>0</th>\n",
              "      <td>666020888022790149</td>\n",
              "      <td>https://pbs.twimg.com/media/CT4udn0WwAA0aMy.jpg</td>\n",
              "      <td>1</td>\n",
              "      <td>Welsh_springer_spaniel</td>\n",
              "      <td>0.465074</td>\n",
              "      <td>True</td>\n",
              "      <td>collie</td>\n",
              "      <td>0.156665</td>\n",
              "      <td>True</td>\n",
              "      <td>Shetland_sheepdog</td>\n",
              "      <td>0.061428</td>\n",
              "      <td>True</td>\n",
              "    </tr>\n",
              "    <tr>\n",
              "      <th>1</th>\n",
              "      <td>666029285002620928</td>\n",
              "      <td>https://pbs.twimg.com/media/CT42GRgUYAA5iDo.jpg</td>\n",
              "      <td>1</td>\n",
              "      <td>redbone</td>\n",
              "      <td>0.506826</td>\n",
              "      <td>True</td>\n",
              "      <td>miniature_pinscher</td>\n",
              "      <td>0.074192</td>\n",
              "      <td>True</td>\n",
              "      <td>Rhodesian_ridgeback</td>\n",
              "      <td>0.072010</td>\n",
              "      <td>True</td>\n",
              "    </tr>\n",
              "    <tr>\n",
              "      <th>2</th>\n",
              "      <td>666033412701032449</td>\n",
              "      <td>https://pbs.twimg.com/media/CT4521TWwAEvMyu.jpg</td>\n",
              "      <td>1</td>\n",
              "      <td>German_shepherd</td>\n",
              "      <td>0.596461</td>\n",
              "      <td>True</td>\n",
              "      <td>malinois</td>\n",
              "      <td>0.138584</td>\n",
              "      <td>True</td>\n",
              "      <td>bloodhound</td>\n",
              "      <td>0.116197</td>\n",
              "      <td>True</td>\n",
              "    </tr>\n",
              "    <tr>\n",
              "      <th>3</th>\n",
              "      <td>666044226329800704</td>\n",
              "      <td>https://pbs.twimg.com/media/CT5Dr8HUEAA-lEu.jpg</td>\n",
              "      <td>1</td>\n",
              "      <td>Rhodesian_ridgeback</td>\n",
              "      <td>0.408143</td>\n",
              "      <td>True</td>\n",
              "      <td>redbone</td>\n",
              "      <td>0.360687</td>\n",
              "      <td>True</td>\n",
              "      <td>miniature_pinscher</td>\n",
              "      <td>0.222752</td>\n",
              "      <td>True</td>\n",
              "    </tr>\n",
              "    <tr>\n",
              "      <th>4</th>\n",
              "      <td>666049248165822465</td>\n",
              "      <td>https://pbs.twimg.com/media/CT5IQmsXIAAKY4A.jpg</td>\n",
              "      <td>1</td>\n",
              "      <td>miniature_pinscher</td>\n",
              "      <td>0.560311</td>\n",
              "      <td>True</td>\n",
              "      <td>Rottweiler</td>\n",
              "      <td>0.243682</td>\n",
              "      <td>True</td>\n",
              "      <td>Doberman</td>\n",
              "      <td>0.154629</td>\n",
              "      <td>True</td>\n",
              "    </tr>\n",
              "  </tbody>\n",
              "</table>\n",
              "</div>"
            ],
            "text/plain": [
              "             tweet_id  ... p3_dog\n",
              "0  666020888022790149  ...   True\n",
              "1  666029285002620928  ...   True\n",
              "2  666033412701032449  ...   True\n",
              "3  666044226329800704  ...   True\n",
              "4  666049248165822465  ...   True\n",
              "\n",
              "[5 rows x 12 columns]"
            ]
          },
          "metadata": {},
          "execution_count": 3
        }
      ]
    },
    {
      "cell_type": "markdown",
      "metadata": {
        "id": "1M6G_1achIJb"
      },
      "source": [
        "3. Use the Tweepy library to query additional data via the Twitter API (tweet_json.txt)"
      ]
    },
    {
      "cell_type": "code",
      "metadata": {
        "id": "tV2zJ0JyhIJb"
      },
      "source": [
        "consumer_key = ''\n",
        "consumer_secret = ''\n",
        "access_token = ''\n",
        "access_secret = ''\n",
        "\n",
        "auth = tweepy.OAuthHandler(consumer_key, consumer_secret)\n",
        "auth.set_access_token(access_token, access_secret)\n",
        "\n",
        "api = tweepy.API(auth, wait_on_rate_limit=True, wait_on_rate_limit_notify=True)"
      ],
      "execution_count": null,
      "outputs": []
    },
    {
      "cell_type": "code",
      "metadata": {
        "id": "g06OjM_HrDp5"
      },
      "source": [
        "from timeit import default_timer as timer\n",
        "\n",
        "count = 0\n",
        "fails_dict =  {}\n",
        "start = timer()\n",
        "\n",
        "if 'tweet_json.txt' in os.listdir():\n",
        "  os.remove('tweet_json.txt')\n",
        "\n",
        "with open('tweet_json.txt', 'a') as file:\n",
        "  for tweet_id in dfa.tweet_id.values:\n",
        "    count += 1\n",
        "    print(str(count) + ': ' + str(tweet_id))\n",
        "    try:\n",
        "      status = api.get_status(tweet_id, tweet_mode='extended')._json\n",
        "      print(\"Success\")\n",
        "      file.write(json.dumps(status, ensure_ascii=False)+'\\n')\n",
        "    except tweepy.TweepError as e:\n",
        "      print('Fail')\n",
        "      fails_dict[tweet_id] = e\n",
        "      pass\n",
        "    except e:\n",
        "      print('Fail', e)\n",
        "end = timer()\n",
        "print(f'Elapsed time: {end - start}')\n",
        "print(fails_dict)"
      ],
      "execution_count": null,
      "outputs": []
    },
    {
      "cell_type": "markdown",
      "metadata": {
        "id": "z9J2fUn7uTSB"
      },
      "source": [
        "Data gathered form Twitter API:\n",
        "\n",
        "| Attribute | Type | Description |\n",
        "| --- | :-: | --- |\n",
        "| id | int | The integer representation of unique identifier for this Tweet |\n",
        "| retweet_count | int | Number of times this Tweet has been retweeted. |\n",
        "| favorite_count | int | *Nullable*. Indicates approximately how many times this tweet has been liked by Twitter users. |\n",
        "\n",
        "Reference: [Tweepy docs: Tweet Object](https://developer.twitter.com/en/docs/twitter-api/v1/data-dictionary/object-model/tweet)\n",
        "\n"
      ]
    },
    {
      "cell_type": "code",
      "metadata": {
        "colab": {
          "base_uri": "https://localhost:8080/",
          "height": 206
        },
        "id": "wxpraUv41oLs",
        "outputId": "532743eb-b11b-4d61-e435-0d335b7e7967"
      },
      "source": [
        "df_tweets = []\n",
        "with open('tweet_json.txt', 'r') as file:\n",
        "  line = file.readline()\n",
        "  while line:\n",
        "    status = json.loads(line)\n",
        "    df_tweets.append({'tweet_id': status['id'], 'retweet_count': status['retweet_count'], 'favorite_count': status['favorite_count']})\n",
        "    line = file.readline()\n",
        "dft = pd.DataFrame(df_tweets)\n",
        "dft.head()"
      ],
      "execution_count": null,
      "outputs": [
        {
          "output_type": "execute_result",
          "data": {
            "text/html": [
              "<div>\n",
              "<style scoped>\n",
              "    .dataframe tbody tr th:only-of-type {\n",
              "        vertical-align: middle;\n",
              "    }\n",
              "\n",
              "    .dataframe tbody tr th {\n",
              "        vertical-align: top;\n",
              "    }\n",
              "\n",
              "    .dataframe thead th {\n",
              "        text-align: right;\n",
              "    }\n",
              "</style>\n",
              "<table border=\"1\" class=\"dataframe\">\n",
              "  <thead>\n",
              "    <tr style=\"text-align: right;\">\n",
              "      <th></th>\n",
              "      <th>tweet_id</th>\n",
              "      <th>retweet_count</th>\n",
              "      <th>favorite_count</th>\n",
              "    </tr>\n",
              "  </thead>\n",
              "  <tbody>\n",
              "    <tr>\n",
              "      <th>0</th>\n",
              "      <td>892420643555336193</td>\n",
              "      <td>7164</td>\n",
              "      <td>34458</td>\n",
              "    </tr>\n",
              "    <tr>\n",
              "      <th>1</th>\n",
              "      <td>892177421306343426</td>\n",
              "      <td>5385</td>\n",
              "      <td>29870</td>\n",
              "    </tr>\n",
              "    <tr>\n",
              "      <th>2</th>\n",
              "      <td>891815181378084864</td>\n",
              "      <td>3551</td>\n",
              "      <td>22490</td>\n",
              "    </tr>\n",
              "    <tr>\n",
              "      <th>3</th>\n",
              "      <td>891689557279858688</td>\n",
              "      <td>7383</td>\n",
              "      <td>37671</td>\n",
              "    </tr>\n",
              "    <tr>\n",
              "      <th>4</th>\n",
              "      <td>891327558926688256</td>\n",
              "      <td>7922</td>\n",
              "      <td>35988</td>\n",
              "    </tr>\n",
              "  </tbody>\n",
              "</table>\n",
              "</div>"
            ],
            "text/plain": [
              "             tweet_id  retweet_count  favorite_count\n",
              "0  892420643555336193           7164           34458\n",
              "1  892177421306343426           5385           29870\n",
              "2  891815181378084864           3551           22490\n",
              "3  891689557279858688           7383           37671\n",
              "4  891327558926688256           7922           35988"
            ]
          },
          "metadata": {},
          "execution_count": 11
        }
      ]
    },
    {
      "cell_type": "code",
      "metadata": {
        "id": "rr-c4YOyi7Bi"
      },
      "source": [
        "# Upload the database\n",
        "url_db = 'https://github.com/lustraka/Data_Analysis_Workouts/blob/main/Analyse_Twitter_Data/weratedogsdata.db?raw=true'\n",
        "r = requests.get(url_db)\n",
        "with open('weratedogsdata.db', 'wb') as file:\n",
        "  file.write(r.content)\n",
        "\n",
        "from sqlalchemy import create_engine\n",
        "# Create SQLAlchemy engine and connect to the database\n",
        "engine = create_engine('sqlite:///weratedogsdata.db')\n",
        "\n",
        "# Read dataframes from SQlite database\n",
        "dfa = pd.read_sql('SELECT * FROM dba', engine)\n",
        "dfi = pd.read_sql('SELECT * FROM dbi', engine)\n",
        "dft = pd.read_sql('SELECT * FROM dbt', engine)"
      ],
      "execution_count": 2,
      "outputs": []
    },
    {
      "cell_type": "markdown",
      "metadata": {
        "extensions": {
          "jupyter_dashboards": {
            "version": 1,
            "views": {
              "grid_default": {
                "col": 4,
                "height": 4,
                "hidden": false,
                "row": 28,
                "width": 4
              },
              "report_default": {
                "hidden": false
              }
            }
          }
        },
        "id": "mRgVkK8NhIJc"
      },
      "source": [
        "## Assessing Data\n",
        "In this section, detect and document at least **eight (8) quality issues and two (2) tidiness issue**. You must use **both** visual assessment\n",
        "programmatic assessement to assess the data.\n",
        "\n",
        "**Note:** pay attention to the following key points when you access the data.\n",
        "\n",
        "* You only want original ratings (no retweets) that have images. Though there are 5000+ tweets in the dataset, not all are dog ratings and some are retweets.\n",
        "* Assessing and cleaning the entire dataset completely would require a lot of time, and is not necessary to practice and demonstrate your skills in data wrangling. Therefore, the requirements of this project are only to assess and clean at least 8 quality issues and at least 2 tidiness issues in this dataset.\n",
        "* The fact that the rating numerators are greater than the denominators does not need to be cleaned. This [unique rating system](http://knowyourmeme.com/memes/theyre-good-dogs-brent) is a big part of the popularity of WeRateDogs.\n",
        "* You do not need to gather the tweets beyond August 1st, 2017. You can, but note that you won't be able to gather the image predictions for these tweets since you don't have access to the algorithm used.\n",
        "\n"
      ]
    },
    {
      "cell_type": "markdown",
      "metadata": {
        "id": "uaIJrGPrW9sE"
      },
      "source": [
        "### The archive `twitter_archive_enhanced.csv` (alias `dba`)\n",
        "> \"I extracted this data programmatically, but I didn't do a very good job. The ratings probably aren't all correct. Same goes for the dog names and probably dog stages (see below for more information on these) too. You'll need to assess and clean these columns if you want to use them for analysis and visualization.\""
      ]
    },
    {
      "cell_type": "code",
      "metadata": {
        "id": "SIU3vuiii6-b",
        "colab": {
          "base_uri": "https://localhost:8080/",
          "height": 1000
        },
        "outputId": "44d5975d-205a-4058-d18b-bcd39626fdcb"
      },
      "source": [
        "dfa.sample(15)"
      ],
      "execution_count": 3,
      "outputs": [
        {
          "output_type": "execute_result",
          "data": {
            "text/html": [
              "<div>\n",
              "<style scoped>\n",
              "    .dataframe tbody tr th:only-of-type {\n",
              "        vertical-align: middle;\n",
              "    }\n",
              "\n",
              "    .dataframe tbody tr th {\n",
              "        vertical-align: top;\n",
              "    }\n",
              "\n",
              "    .dataframe thead th {\n",
              "        text-align: right;\n",
              "    }\n",
              "</style>\n",
              "<table border=\"1\" class=\"dataframe\">\n",
              "  <thead>\n",
              "    <tr style=\"text-align: right;\">\n",
              "      <th></th>\n",
              "      <th>tweet_id</th>\n",
              "      <th>in_reply_to_status_id</th>\n",
              "      <th>in_reply_to_user_id</th>\n",
              "      <th>timestamp</th>\n",
              "      <th>source</th>\n",
              "      <th>text</th>\n",
              "      <th>retweeted_status_id</th>\n",
              "      <th>retweeted_status_user_id</th>\n",
              "      <th>retweeted_status_timestamp</th>\n",
              "      <th>expanded_urls</th>\n",
              "      <th>rating_numerator</th>\n",
              "      <th>rating_denominator</th>\n",
              "      <th>name</th>\n",
              "      <th>doggo</th>\n",
              "      <th>floofer</th>\n",
              "      <th>pupper</th>\n",
              "      <th>puppo</th>\n",
              "    </tr>\n",
              "  </thead>\n",
              "  <tbody>\n",
              "    <tr>\n",
              "      <th>254</th>\n",
              "      <td>844580511645339650</td>\n",
              "      <td>NaN</td>\n",
              "      <td>NaN</td>\n",
              "      <td>2017-03-22 16:04:20 +0000</td>\n",
              "      <td>&lt;a href=\"http://twitter.com/download/iphone\" r...</td>\n",
              "      <td>This is Charlie. He wants to know if you have ...</td>\n",
              "      <td>NaN</td>\n",
              "      <td>NaN</td>\n",
              "      <td>None</td>\n",
              "      <td>https://twitter.com/dog_rates/status/844580511...</td>\n",
              "      <td>11</td>\n",
              "      <td>10</td>\n",
              "      <td>Charlie</td>\n",
              "      <td>None</td>\n",
              "      <td>None</td>\n",
              "      <td>None</td>\n",
              "      <td>None</td>\n",
              "    </tr>\n",
              "    <tr>\n",
              "      <th>1806</th>\n",
              "      <td>676936541936185344</td>\n",
              "      <td>NaN</td>\n",
              "      <td>NaN</td>\n",
              "      <td>2015-12-16 01:27:03 +0000</td>\n",
              "      <td>&lt;a href=\"http://twitter.com/download/iphone\" r...</td>\n",
              "      <td>Here we see a rare pouched pupper. Ample stora...</td>\n",
              "      <td>NaN</td>\n",
              "      <td>NaN</td>\n",
              "      <td>None</td>\n",
              "      <td>https://twitter.com/dog_rates/status/676936541...</td>\n",
              "      <td>8</td>\n",
              "      <td>10</td>\n",
              "      <td>None</td>\n",
              "      <td>None</td>\n",
              "      <td>None</td>\n",
              "      <td>pupper</td>\n",
              "      <td>None</td>\n",
              "    </tr>\n",
              "    <tr>\n",
              "      <th>1570</th>\n",
              "      <td>687732144991551489</td>\n",
              "      <td>NaN</td>\n",
              "      <td>NaN</td>\n",
              "      <td>2016-01-14 20:24:55 +0000</td>\n",
              "      <td>&lt;a href=\"http://vine.co\" rel=\"nofollow\"&gt;Vine -...</td>\n",
              "      <td>This is Ember. That's the q-tip she owes money...</td>\n",
              "      <td>NaN</td>\n",
              "      <td>NaN</td>\n",
              "      <td>None</td>\n",
              "      <td>https://vine.co/v/iOuMphL5DBY</td>\n",
              "      <td>11</td>\n",
              "      <td>10</td>\n",
              "      <td>Ember</td>\n",
              "      <td>None</td>\n",
              "      <td>None</td>\n",
              "      <td>None</td>\n",
              "      <td>None</td>\n",
              "    </tr>\n",
              "    <tr>\n",
              "      <th>1190</th>\n",
              "      <td>718234618122661888</td>\n",
              "      <td>NaN</td>\n",
              "      <td>NaN</td>\n",
              "      <td>2016-04-08 00:30:51 +0000</td>\n",
              "      <td>&lt;a href=\"http://twitter.com/download/iphone\" r...</td>\n",
              "      <td>This is Suki. She was born with a blurry tail ...</td>\n",
              "      <td>NaN</td>\n",
              "      <td>NaN</td>\n",
              "      <td>None</td>\n",
              "      <td>https://twitter.com/dog_rates/status/718234618...</td>\n",
              "      <td>11</td>\n",
              "      <td>10</td>\n",
              "      <td>Suki</td>\n",
              "      <td>None</td>\n",
              "      <td>None</td>\n",
              "      <td>None</td>\n",
              "      <td>None</td>\n",
              "    </tr>\n",
              "    <tr>\n",
              "      <th>1328</th>\n",
              "      <td>705970349788291072</td>\n",
              "      <td>NaN</td>\n",
              "      <td>NaN</td>\n",
              "      <td>2016-03-05 04:17:02 +0000</td>\n",
              "      <td>&lt;a href=\"http://twitter.com/download/iphone\" r...</td>\n",
              "      <td>This is Lucy. She's a Venetian Kerploof. Suppo...</td>\n",
              "      <td>NaN</td>\n",
              "      <td>NaN</td>\n",
              "      <td>None</td>\n",
              "      <td>https://twitter.com/dog_rates/status/705970349...</td>\n",
              "      <td>12</td>\n",
              "      <td>10</td>\n",
              "      <td>Lucy</td>\n",
              "      <td>None</td>\n",
              "      <td>None</td>\n",
              "      <td>None</td>\n",
              "      <td>None</td>\n",
              "    </tr>\n",
              "    <tr>\n",
              "      <th>330</th>\n",
              "      <td>833124694597443584</td>\n",
              "      <td>NaN</td>\n",
              "      <td>NaN</td>\n",
              "      <td>2017-02-19 01:23:00 +0000</td>\n",
              "      <td>&lt;a href=\"http://twitter.com/download/iphone\" r...</td>\n",
              "      <td>This is Gidget. She's a spy pupper. Stealthy a...</td>\n",
              "      <td>NaN</td>\n",
              "      <td>NaN</td>\n",
              "      <td>None</td>\n",
              "      <td>https://twitter.com/dog_rates/status/833124694...</td>\n",
              "      <td>12</td>\n",
              "      <td>10</td>\n",
              "      <td>Gidget</td>\n",
              "      <td>None</td>\n",
              "      <td>None</td>\n",
              "      <td>pupper</td>\n",
              "      <td>None</td>\n",
              "    </tr>\n",
              "    <tr>\n",
              "      <th>1077</th>\n",
              "      <td>739544079319588864</td>\n",
              "      <td>NaN</td>\n",
              "      <td>NaN</td>\n",
              "      <td>2016-06-05 19:47:03 +0000</td>\n",
              "      <td>&lt;a href=\"http://twitter.com/download/iphone\" r...</td>\n",
              "      <td>This... is a Tyrannosaurus rex. We only rate d...</td>\n",
              "      <td>NaN</td>\n",
              "      <td>NaN</td>\n",
              "      <td>None</td>\n",
              "      <td>https://twitter.com/dog_rates/status/739544079...</td>\n",
              "      <td>10</td>\n",
              "      <td>10</td>\n",
              "      <td>None</td>\n",
              "      <td>None</td>\n",
              "      <td>None</td>\n",
              "      <td>None</td>\n",
              "      <td>None</td>\n",
              "    </tr>\n",
              "    <tr>\n",
              "      <th>1830</th>\n",
              "      <td>676219687039057920</td>\n",
              "      <td>NaN</td>\n",
              "      <td>NaN</td>\n",
              "      <td>2015-12-14 01:58:31 +0000</td>\n",
              "      <td>&lt;a href=\"http://twitter.com/download/iphone\" r...</td>\n",
              "      <td>This is Kenneth. He's stuck in a bubble. 10/10...</td>\n",
              "      <td>NaN</td>\n",
              "      <td>NaN</td>\n",
              "      <td>None</td>\n",
              "      <td>https://twitter.com/dog_rates/status/676219687...</td>\n",
              "      <td>10</td>\n",
              "      <td>10</td>\n",
              "      <td>Kenneth</td>\n",
              "      <td>None</td>\n",
              "      <td>None</td>\n",
              "      <td>None</td>\n",
              "      <td>None</td>\n",
              "    </tr>\n",
              "    <tr>\n",
              "      <th>203</th>\n",
              "      <td>853299958564483072</td>\n",
              "      <td>NaN</td>\n",
              "      <td>NaN</td>\n",
              "      <td>2017-04-15 17:32:18 +0000</td>\n",
              "      <td>&lt;a href=\"http://twitter.com/download/iphone\" r...</td>\n",
              "      <td>This is Rumpole. He'll be your Uber driver thi...</td>\n",
              "      <td>NaN</td>\n",
              "      <td>NaN</td>\n",
              "      <td>None</td>\n",
              "      <td>https://twitter.com/dog_rates/status/853299958...</td>\n",
              "      <td>13</td>\n",
              "      <td>10</td>\n",
              "      <td>Rumpole</td>\n",
              "      <td>None</td>\n",
              "      <td>None</td>\n",
              "      <td>None</td>\n",
              "      <td>None</td>\n",
              "    </tr>\n",
              "    <tr>\n",
              "      <th>353</th>\n",
              "      <td>831309418084069378</td>\n",
              "      <td>NaN</td>\n",
              "      <td>NaN</td>\n",
              "      <td>2017-02-14 01:09:44 +0000</td>\n",
              "      <td>&lt;a href=\"http://twitter.com/download/iphone\" r...</td>\n",
              "      <td>This is Scooter and his son Montoya.  Scooter ...</td>\n",
              "      <td>NaN</td>\n",
              "      <td>NaN</td>\n",
              "      <td>None</td>\n",
              "      <td>https://twitter.com/dog_rates/status/831309418...</td>\n",
              "      <td>12</td>\n",
              "      <td>10</td>\n",
              "      <td>Scooter</td>\n",
              "      <td>None</td>\n",
              "      <td>None</td>\n",
              "      <td>None</td>\n",
              "      <td>None</td>\n",
              "    </tr>\n",
              "    <tr>\n",
              "      <th>907</th>\n",
              "      <td>757741869644341248</td>\n",
              "      <td>NaN</td>\n",
              "      <td>NaN</td>\n",
              "      <td>2016-07-26 00:58:34 +0000</td>\n",
              "      <td>&lt;a href=\"http://twitter.com/download/iphone\" r...</td>\n",
              "      <td>This is Leonard. He hides in bushes to escape ...</td>\n",
              "      <td>NaN</td>\n",
              "      <td>NaN</td>\n",
              "      <td>None</td>\n",
              "      <td>https://twitter.com/dog_rates/status/757741869...</td>\n",
              "      <td>10</td>\n",
              "      <td>10</td>\n",
              "      <td>Leonard</td>\n",
              "      <td>None</td>\n",
              "      <td>None</td>\n",
              "      <td>None</td>\n",
              "      <td>None</td>\n",
              "    </tr>\n",
              "    <tr>\n",
              "      <th>1952</th>\n",
              "      <td>673680198160809984</td>\n",
              "      <td>NaN</td>\n",
              "      <td>NaN</td>\n",
              "      <td>2015-12-07 01:47:30 +0000</td>\n",
              "      <td>&lt;a href=\"http://twitter.com/download/iphone\" r...</td>\n",
              "      <td>This is Shnuggles. I would kill for Shnuggles....</td>\n",
              "      <td>NaN</td>\n",
              "      <td>NaN</td>\n",
              "      <td>None</td>\n",
              "      <td>https://twitter.com/dog_rates/status/673680198...</td>\n",
              "      <td>13</td>\n",
              "      <td>10</td>\n",
              "      <td>Shnuggles</td>\n",
              "      <td>None</td>\n",
              "      <td>None</td>\n",
              "      <td>None</td>\n",
              "      <td>None</td>\n",
              "    </tr>\n",
              "    <tr>\n",
              "      <th>2047</th>\n",
              "      <td>671518598289059840</td>\n",
              "      <td>NaN</td>\n",
              "      <td>NaN</td>\n",
              "      <td>2015-12-01 02:38:04 +0000</td>\n",
              "      <td>&lt;a href=\"http://twitter.com/download/iphone\" r...</td>\n",
              "      <td>This is Scruffers. He's being violated on mult...</td>\n",
              "      <td>NaN</td>\n",
              "      <td>NaN</td>\n",
              "      <td>None</td>\n",
              "      <td>https://twitter.com/dog_rates/status/671518598...</td>\n",
              "      <td>9</td>\n",
              "      <td>10</td>\n",
              "      <td>Scruffers</td>\n",
              "      <td>None</td>\n",
              "      <td>None</td>\n",
              "      <td>None</td>\n",
              "      <td>None</td>\n",
              "    </tr>\n",
              "    <tr>\n",
              "      <th>1559</th>\n",
              "      <td>688547210804498433</td>\n",
              "      <td>NaN</td>\n",
              "      <td>NaN</td>\n",
              "      <td>2016-01-17 02:23:42 +0000</td>\n",
              "      <td>&lt;a href=\"http://twitter.com/download/iphone\" r...</td>\n",
              "      <td>This is Frönq. He got caught stealing a waffle...</td>\n",
              "      <td>NaN</td>\n",
              "      <td>NaN</td>\n",
              "      <td>None</td>\n",
              "      <td>https://twitter.com/dog_rates/status/688547210...</td>\n",
              "      <td>9</td>\n",
              "      <td>10</td>\n",
              "      <td>Frönq</td>\n",
              "      <td>None</td>\n",
              "      <td>None</td>\n",
              "      <td>None</td>\n",
              "      <td>None</td>\n",
              "    </tr>\n",
              "    <tr>\n",
              "      <th>826</th>\n",
              "      <td>769335591808995329</td>\n",
              "      <td>NaN</td>\n",
              "      <td>NaN</td>\n",
              "      <td>2016-08-27 00:47:53 +0000</td>\n",
              "      <td>&lt;a href=\"http://twitter.com/download/iphone\" r...</td>\n",
              "      <td>RT @dog_rates: Ever seen a dog pet another dog...</td>\n",
              "      <td>7.069045e+17</td>\n",
              "      <td>4.196984e+09</td>\n",
              "      <td>2016-03-07 18:09:06 +0000</td>\n",
              "      <td>https://vine.co/v/iXQAm5Lrgrh,https://vine.co/...</td>\n",
              "      <td>13</td>\n",
              "      <td>10</td>\n",
              "      <td>None</td>\n",
              "      <td>None</td>\n",
              "      <td>None</td>\n",
              "      <td>None</td>\n",
              "      <td>None</td>\n",
              "    </tr>\n",
              "  </tbody>\n",
              "</table>\n",
              "</div>"
            ],
            "text/plain": [
              "                tweet_id  in_reply_to_status_id  ...  pupper puppo\n",
              "254   844580511645339650                    NaN  ...    None  None\n",
              "1806  676936541936185344                    NaN  ...  pupper  None\n",
              "1570  687732144991551489                    NaN  ...    None  None\n",
              "1190  718234618122661888                    NaN  ...    None  None\n",
              "1328  705970349788291072                    NaN  ...    None  None\n",
              "330   833124694597443584                    NaN  ...  pupper  None\n",
              "1077  739544079319588864                    NaN  ...    None  None\n",
              "1830  676219687039057920                    NaN  ...    None  None\n",
              "203   853299958564483072                    NaN  ...    None  None\n",
              "353   831309418084069378                    NaN  ...    None  None\n",
              "907   757741869644341248                    NaN  ...    None  None\n",
              "1952  673680198160809984                    NaN  ...    None  None\n",
              "2047  671518598289059840                    NaN  ...    None  None\n",
              "1559  688547210804498433                    NaN  ...    None  None\n",
              "826   769335591808995329                    NaN  ...    None  None\n",
              "\n",
              "[15 rows x 17 columns]"
            ]
          },
          "metadata": {},
          "execution_count": 3
        }
      ]
    },
    {
      "cell_type": "code",
      "metadata": {
        "id": "H2reMLBAhIJc",
        "colab": {
          "base_uri": "https://localhost:8080/"
        },
        "outputId": "553af748-6823-4445-89fe-f46068a0be78"
      },
      "source": [
        "dfa.info()"
      ],
      "execution_count": 4,
      "outputs": [
        {
          "output_type": "stream",
          "name": "stdout",
          "text": [
            "<class 'pandas.core.frame.DataFrame'>\n",
            "RangeIndex: 2356 entries, 0 to 2355\n",
            "Data columns (total 17 columns):\n",
            " #   Column                      Non-Null Count  Dtype  \n",
            "---  ------                      --------------  -----  \n",
            " 0   tweet_id                    2356 non-null   int64  \n",
            " 1   in_reply_to_status_id       78 non-null     float64\n",
            " 2   in_reply_to_user_id         78 non-null     float64\n",
            " 3   timestamp                   2356 non-null   object \n",
            " 4   source                      2356 non-null   object \n",
            " 5   text                        2356 non-null   object \n",
            " 6   retweeted_status_id         181 non-null    float64\n",
            " 7   retweeted_status_user_id    181 non-null    float64\n",
            " 8   retweeted_status_timestamp  181 non-null    object \n",
            " 9   expanded_urls               2297 non-null   object \n",
            " 10  rating_numerator            2356 non-null   int64  \n",
            " 11  rating_denominator          2356 non-null   int64  \n",
            " 12  name                        2356 non-null   object \n",
            " 13  doggo                       2356 non-null   object \n",
            " 14  floofer                     2356 non-null   object \n",
            " 15  pupper                      2356 non-null   object \n",
            " 16  puppo                       2356 non-null   object \n",
            "dtypes: float64(4), int64(3), object(10)\n",
            "memory usage: 313.0+ KB\n"
          ]
        }
      ]
    },
    {
      "cell_type": "code",
      "metadata": {
        "id": "9rcbJxa5gDtX",
        "colab": {
          "base_uri": "https://localhost:8080/"
        },
        "outputId": "bf8bab6d-a8a0-412a-b5c7-443eb64fcb16"
      },
      "source": [
        "for col in dfa.columns[[10,11,13,14,15,16]]:\n",
        "  print(dfa[col].unique())"
      ],
      "execution_count": 5,
      "outputs": [
        {
          "output_type": "stream",
          "name": "stdout",
          "text": [
            "[  13   12   14    5   17   11   10  420  666    6   15  182  960    0\n",
            "   75    7   84    9   24    8    1   27    3    4  165 1776  204   50\n",
            "   99   80   45   60   44  143  121   20   26    2  144   88]\n",
            "[ 10   0  15  70   7  11 150 170  20  50  90  80  40 130 110  16 120   2]\n",
            "['None' 'doggo']\n",
            "['None' 'floofer']\n",
            "['None' 'pupper']\n",
            "['None' 'puppo']\n"
          ]
        }
      ]
    },
    {
      "cell_type": "markdown",
      "metadata": {
        "id": "CC0SgfZXXrO9"
      },
      "source": [
        "#### Curated `twitter_archive_enhanced.csv` info\n",
        "\n",
        "| # | Variable | Non-Null | Nunique | Dtype | Notes |\n",
        "|---|----------|----------|---------|-------|-------|\n",
        "| 0 | tweet_id | 2356 | 2356 | int64  | |\n",
        "| 1 | in_reply_to_status_id | 78 | 77 | float64 | these tweets are replies |\n",
        "| 2 | in_reply_to_user_id | 78 | 31 | float64 | see $\\uparrow$ |\n",
        "| 3 | timestamp | 2356 | 2356 | object | object $\\to$ datetime | \n",
        "| 4 | source | 2356 | 4 | object | |\n",
        "| 5 | text | 2356 | 2356 | object | some tweets don't have an image (1) |\n",
        "| 6 | retweeted_status_id | 181 | 181 | float64 | these are retweets |\n",
        "| 7 | retweeted_status_user_id | 181 | 25 | float64 | see $\\uparrow$ |\n",
        "| 8 | retweeted_status_timestamp | 181 | 181 | object | see $\\uparrow$ |\n",
        "| 9 | expanded_urls | 2297 | 2218 | object | missing values |\n",
        "| 10 | rating_numerator | 2356 | 40 | int64  | entries with numerator $> 20$ may be incorrect (4a) |\n",
        "| 11 | rating_denominator | 2356 | 18 | int64  | entries with denominator $\\neq 10$ may be incorrect (4b) |\n",
        "| 12 | name | 2356 | 957 | object | incorrect names or missing values (2) |\n",
        "| 13 | doggo | 2356 | 2 | object | a value as a column + (3) some misclassified stages|\n",
        "| 14 | floofer | 2356 | 2 | object | see $\\uparrow$ |\n",
        "| 15 | pupper | 2356 | 2 | object | see $\\uparrow$ |\n",
        "| 16 | puppo | 2356 | 2 | object | see $\\uparrow$ |\n",
        "\n",
        "Source: visual and programmatic assessment\n",
        "\n",
        "```python\n",
        "# #, Variable, Non-Null (Count), Dtype:\n",
        "dfa.info()\n",
        "# Nunique:\n",
        "dfa.nunique()\n",
        "# Check unique values\n",
        "for col in dfa.columns[[10,11,13,14,15,16]]:\n",
        "  print(dfa[col].unique())\n",
        "# Notes\n",
        "# (1) Some tweets don't have an image\n",
        "dfa.loc[dfa.text.apply(lambda s: 'https://t.co' not in s)].shape[0]\n",
        "# [Out] 124\n",
        "```"
      ]
    },
    {
      "cell_type": "code",
      "metadata": {
        "id": "8USi1UywgrR9",
        "colab": {
          "base_uri": "https://localhost:8080/"
        },
        "outputId": "905e6abf-4ec0-4456-8fa2-6f7f1518dced"
      },
      "source": [
        "# (2a) Incorrect names - begin with a lowercase\n",
        "import re\n",
        "print(re.findall(r';([a-z].*?);', ';'.join(dfa.name.unique())))"
      ],
      "execution_count": 6,
      "outputs": [
        {
          "output_type": "stream",
          "name": "stdout",
          "text": [
            "['such', 'a', 'quite', 'not', 'one', 'incredibly', 'mad', 'an', 'very', 'just', 'my', 'his', 'actually', 'getting', 'this', 'all', 'old', 'infuriating', 'the', 'by', 'officially', 'life', 'light', 'space']\n"
          ]
        }
      ]
    },
    {
      "cell_type": "code",
      "metadata": {
        "id": "hJ1WcJqT3695",
        "colab": {
          "base_uri": "https://localhost:8080/"
        },
        "outputId": "5a68e02f-9157-46e1-fabd-cf2d90fccacf"
      },
      "source": [
        "# (2b) Incorrect names - None\n",
        "dfa.loc[dfa.name == 'None'].shape[0]"
      ],
      "execution_count": 7,
      "outputs": [
        {
          "output_type": "execute_result",
          "data": {
            "text/plain": [
              "745"
            ]
          },
          "metadata": {},
          "execution_count": 7
        }
      ]
    },
    {
      "cell_type": "code",
      "metadata": {
        "id": "pcXy7qHHgrVc",
        "colab": {
          "base_uri": "https://localhost:8080/"
        },
        "outputId": "4fb1ee22-69f0-4f71-a1c2-55146d096db7"
      },
      "source": [
        "# (3a) Misclassified stages - indicated in the stage but not present in the text\n",
        "stages = ['doggo', 'pupper', 'puppo', 'floofer']\n",
        "print('Stage     | Total | Misclassified |')\n",
        "print('-'*35)\n",
        "for stage in stages:\n",
        "  total = dfa.loc[dfa[stage] == stage].shape[0]\n",
        "  missed = dfa.loc[(dfa[stage] == stage) & (dfa.text.apply(lambda s: stage not in s.lower()))].shape[0]\n",
        "  print(f\"{stage.ljust(9)} | {total:5d} | {missed:13d} |\")"
      ],
      "execution_count": 8,
      "outputs": [
        {
          "output_type": "stream",
          "name": "stdout",
          "text": [
            "Stage     | Total | Misclassified |\n",
            "-----------------------------------\n",
            "doggo     |    97 |             0 |\n",
            "pupper    |   257 |             0 |\n",
            "puppo     |    30 |             0 |\n",
            "floofer   |    10 |             0 |\n"
          ]
        }
      ]
    },
    {
      "cell_type": "code",
      "metadata": {
        "id": "aj_uXxTxuvHy",
        "colab": {
          "base_uri": "https://localhost:8080/"
        },
        "outputId": "febe7a59-2162-49e4-b690-0af25b2e5d1a"
      },
      "source": [
        "# (3b) Misclassified stages - not indicated in the stage but is present in the text\n",
        "stages = ['doggo', 'pupper', 'puppo', 'floofer']\n",
        "print('Stage     | Total | Misclassified |')\n",
        "print('-'*35)\n",
        "for stage in stages:\n",
        "  total = dfa.loc[dfa[stage] == stage].shape[0]\n",
        "  missed = dfa.loc[(dfa[stage] != stage) & (dfa.text.apply(lambda s: stage in s.lower()))].shape[0]\n",
        "  print(f\"{stage.ljust(9)} | {total:5d} | {missed:13d} |\")"
      ],
      "execution_count": 9,
      "outputs": [
        {
          "output_type": "stream",
          "name": "stdout",
          "text": [
            "Stage     | Total | Misclassified |\n",
            "-----------------------------------\n",
            "doggo     |    97 |            10 |\n",
            "pupper    |   257 |            26 |\n",
            "puppo     |    30 |             8 |\n",
            "floofer   |    10 |             0 |\n"
          ]
        }
      ]
    },
    {
      "cell_type": "markdown",
      "metadata": {
        "id": "11_4lsAVvv6T"
      },
      "source": [
        "##### Note (4) Ratings where `rating_numerator` $ > 20$ or  `rating_denomiator` $\\neq 10$\n",
        "Code used:\n",
        "```python\n",
        "# Show the whole text\n",
        "pd.options.display.max_colwidth = None\n",
        "\n",
        "# (4a) Show tweets with possibly incorrect rating : rating_numerator > 20\n",
        "dfa.loc[dfa.rating_numerator > 20, ['text', 'rating_numerator', 'rating_denominator']]\n",
        "\n",
        "# (4b) Show tweets with possibly incorrect rating : rating_denominator != 10\n",
        "dfa.loc[dfa.rating_denominator != 10, ['text', 'rating_numerator', 'rating_denominator']]\n",
        "\n",
        "```\n",
        "In cases where users used float numbers, such as 9.75/10 or 11.27/10, we will use the floor rounding, i.e. 9/10 or 11/10 respectively. We will correct only those rating which were incorrectly identified in the text. Ratings with weird values used in the text are left unchanged cos they're good dogs Brent.\n",
        "\n",
        "Results:"
      ]
    },
    {
      "cell_type": "code",
      "metadata": {
        "id": "AuEnHgCVrrwc",
        "colab": {
          "base_uri": "https://localhost:8080/",
          "height": 311
        },
        "outputId": "a06ac13f-2b7e-4e0e-ac32-c8b297ff6f43"
      },
      "source": [
        "# Show the whole text\n",
        "pd.options.display.max_colwidth = None\n",
        "\n",
        "# Fill dict with key = index and value = correct rating\n",
        "incorrect_rating = {313 : '13/10', 340 : '9/10', 763: '11/10', 313 : '13/10', 784 : '14/10', 1165 : '13/10', 1202 : '11/10', 1662 : '10/10', 2335 : '9/10'}\n",
        "\n",
        "# Indicate tweets with missing rating\n",
        "missing_rating = [342, 516]\n",
        "\n",
        "# Show tweet with incorrectly identified rating\n",
        "dfa.loc[list(incorrect_rating.keys()), ['text', 'rating_numerator', 'rating_denominator']]"
      ],
      "execution_count": 11,
      "outputs": [
        {
          "output_type": "execute_result",
          "data": {
            "text/html": [
              "<div>\n",
              "<style scoped>\n",
              "    .dataframe tbody tr th:only-of-type {\n",
              "        vertical-align: middle;\n",
              "    }\n",
              "\n",
              "    .dataframe tbody tr th {\n",
              "        vertical-align: top;\n",
              "    }\n",
              "\n",
              "    .dataframe thead th {\n",
              "        text-align: right;\n",
              "    }\n",
              "</style>\n",
              "<table border=\"1\" class=\"dataframe\">\n",
              "  <thead>\n",
              "    <tr style=\"text-align: right;\">\n",
              "      <th></th>\n",
              "      <th>text</th>\n",
              "      <th>rating_numerator</th>\n",
              "      <th>rating_denominator</th>\n",
              "    </tr>\n",
              "  </thead>\n",
              "  <tbody>\n",
              "    <tr>\n",
              "      <th>313</th>\n",
              "      <td>@jonnysun @Lin_Manuel ok jomny I know you're excited but 960/00 isn't a valid rating, 13/10 is tho</td>\n",
              "      <td>960</td>\n",
              "      <td>0</td>\n",
              "    </tr>\n",
              "    <tr>\n",
              "      <th>340</th>\n",
              "      <td>RT @dog_rates: This is Logan, the Chow who lived. He solemnly swears he's up to lots of good. H*ckin magical af 9.75/10 https://t.co/yBO5wu…</td>\n",
              "      <td>75</td>\n",
              "      <td>10</td>\n",
              "    </tr>\n",
              "    <tr>\n",
              "      <th>763</th>\n",
              "      <td>This is Sophie. She's a Jubilant Bush Pupper. Super h*ckin rare. Appears at random just to smile at the locals. 11.27/10 would smile back https://t.co/QFaUiIHxHq</td>\n",
              "      <td>27</td>\n",
              "      <td>10</td>\n",
              "    </tr>\n",
              "    <tr>\n",
              "      <th>784</th>\n",
              "      <td>RT @dog_rates: After so many requests, this is Bretagne. She was the last surviving 9/11 search dog, and our second ever 14/10. RIP https:/…</td>\n",
              "      <td>9</td>\n",
              "      <td>11</td>\n",
              "    </tr>\n",
              "    <tr>\n",
              "      <th>1165</th>\n",
              "      <td>Happy 4/20 from the squad! 13/10 for all https://t.co/eV1diwds8a</td>\n",
              "      <td>4</td>\n",
              "      <td>20</td>\n",
              "    </tr>\n",
              "    <tr>\n",
              "      <th>1202</th>\n",
              "      <td>This is Bluebert. He just saw that both #FinalFur match ups are split 50/50. Amazed af. 11/10 https://t.co/Kky1DPG4iq</td>\n",
              "      <td>50</td>\n",
              "      <td>50</td>\n",
              "    </tr>\n",
              "    <tr>\n",
              "      <th>1662</th>\n",
              "      <td>This is Darrel. He just robbed a 7/11 and is in a high speed police chase. Was just spotted by the helicopter 10/10 https://t.co/7EsP8LmSp5</td>\n",
              "      <td>7</td>\n",
              "      <td>11</td>\n",
              "    </tr>\n",
              "    <tr>\n",
              "      <th>2335</th>\n",
              "      <td>This is an Albanian 3 1/2 legged  Episcopalian. Loves well-polished hardwood flooring. Penis on the collar. 9/10 https://t.co/d9NcXFKwLv</td>\n",
              "      <td>1</td>\n",
              "      <td>2</td>\n",
              "    </tr>\n",
              "  </tbody>\n",
              "</table>\n",
              "</div>"
            ],
            "text/plain": [
              "                                                                                                                                                                   text  ...  rating_denominator\n",
              "313                                                                  @jonnysun @Lin_Manuel ok jomny I know you're excited but 960/00 isn't a valid rating, 13/10 is tho  ...                   0\n",
              "340                        RT @dog_rates: This is Logan, the Chow who lived. He solemnly swears he's up to lots of good. H*ckin magical af 9.75/10 https://t.co/yBO5wu…  ...                  10\n",
              "763   This is Sophie. She's a Jubilant Bush Pupper. Super h*ckin rare. Appears at random just to smile at the locals. 11.27/10 would smile back https://t.co/QFaUiIHxHq  ...                  10\n",
              "784                        RT @dog_rates: After so many requests, this is Bretagne. She was the last surviving 9/11 search dog, and our second ever 14/10. RIP https:/…  ...                  11\n",
              "1165                                                                                                   Happy 4/20 from the squad! 13/10 for all https://t.co/eV1diwds8a  ...                  20\n",
              "1202                                              This is Bluebert. He just saw that both #FinalFur match ups are split 50/50. Amazed af. 11/10 https://t.co/Kky1DPG4iq  ...                  50\n",
              "1662                        This is Darrel. He just robbed a 7/11 and is in a high speed police chase. Was just spotted by the helicopter 10/10 https://t.co/7EsP8LmSp5  ...                  11\n",
              "2335                           This is an Albanian 3 1/2 legged  Episcopalian. Loves well-polished hardwood flooring. Penis on the collar. 9/10 https://t.co/d9NcXFKwLv  ...                   2\n",
              "\n",
              "[8 rows x 3 columns]"
            ]
          },
          "metadata": {},
          "execution_count": 11
        }
      ]
    },
    {
      "cell_type": "markdown",
      "metadata": {
        "id": "wvRiQDX_9lH-"
      },
      "source": [
        "### The Tweet Image Predictions `image_predictions.tsv`\n",
        ">A table full of image predictions (the top three only) alongside each tweet ID, image URL, and the image number that corresponded to the most confident prediction (numbered 1 to 4 since tweets can have up to four images)"
      ]
    },
    {
      "cell_type": "code",
      "metadata": {
        "id": "YamrjE8W9ka3",
        "colab": {
          "base_uri": "https://localhost:8080/",
          "height": 408
        },
        "outputId": "2023ca9a-f958-4023-d73a-8e462f12ebab"
      },
      "source": [
        "dfi.sample(10)"
      ],
      "execution_count": 12,
      "outputs": [
        {
          "output_type": "execute_result",
          "data": {
            "text/html": [
              "<div>\n",
              "<style scoped>\n",
              "    .dataframe tbody tr th:only-of-type {\n",
              "        vertical-align: middle;\n",
              "    }\n",
              "\n",
              "    .dataframe tbody tr th {\n",
              "        vertical-align: top;\n",
              "    }\n",
              "\n",
              "    .dataframe thead th {\n",
              "        text-align: right;\n",
              "    }\n",
              "</style>\n",
              "<table border=\"1\" class=\"dataframe\">\n",
              "  <thead>\n",
              "    <tr style=\"text-align: right;\">\n",
              "      <th></th>\n",
              "      <th>tweet_id</th>\n",
              "      <th>jpg_url</th>\n",
              "      <th>img_num</th>\n",
              "      <th>p1</th>\n",
              "      <th>p1_conf</th>\n",
              "      <th>p1_dog</th>\n",
              "      <th>p2</th>\n",
              "      <th>p2_conf</th>\n",
              "      <th>p2_dog</th>\n",
              "      <th>p3</th>\n",
              "      <th>p3_conf</th>\n",
              "      <th>p3_dog</th>\n",
              "    </tr>\n",
              "  </thead>\n",
              "  <tbody>\n",
              "    <tr>\n",
              "      <th>1238</th>\n",
              "      <td>746818907684614144</td>\n",
              "      <td>https://pbs.twimg.com/media/Cl071YVWEAAlF7N.jpg</td>\n",
              "      <td>1</td>\n",
              "      <td>dingo</td>\n",
              "      <td>0.175518</td>\n",
              "      <td>0</td>\n",
              "      <td>timber_wolf</td>\n",
              "      <td>0.133647</td>\n",
              "      <td>0</td>\n",
              "      <td>Ibizan_hound</td>\n",
              "      <td>0.101537</td>\n",
              "      <td>1</td>\n",
              "    </tr>\n",
              "    <tr>\n",
              "      <th>774</th>\n",
              "      <td>689623661272240129</td>\n",
              "      <td>https://pbs.twimg.com/media/CZIJD2SWIAMJgNI.jpg</td>\n",
              "      <td>1</td>\n",
              "      <td>toy_poodle</td>\n",
              "      <td>0.279604</td>\n",
              "      <td>1</td>\n",
              "      <td>mashed_potato</td>\n",
              "      <td>0.208564</td>\n",
              "      <td>0</td>\n",
              "      <td>Labrador_retriever</td>\n",
              "      <td>0.077481</td>\n",
              "      <td>1</td>\n",
              "    </tr>\n",
              "    <tr>\n",
              "      <th>1679</th>\n",
              "      <td>813217897535406080</td>\n",
              "      <td>https://pbs.twimg.com/media/C0khWkVXEAI389B.jpg</td>\n",
              "      <td>1</td>\n",
              "      <td>Samoyed</td>\n",
              "      <td>0.905972</td>\n",
              "      <td>1</td>\n",
              "      <td>Pomeranian</td>\n",
              "      <td>0.048038</td>\n",
              "      <td>1</td>\n",
              "      <td>West_Highland_white_terrier</td>\n",
              "      <td>0.035667</td>\n",
              "      <td>1</td>\n",
              "    </tr>\n",
              "    <tr>\n",
              "      <th>1977</th>\n",
              "      <td>870374049280663552</td>\n",
              "      <td>https://pbs.twimg.com/media/DBQwlFCXkAACSkI.jpg</td>\n",
              "      <td>1</td>\n",
              "      <td>golden_retriever</td>\n",
              "      <td>0.841001</td>\n",
              "      <td>1</td>\n",
              "      <td>Great_Pyrenees</td>\n",
              "      <td>0.099278</td>\n",
              "      <td>1</td>\n",
              "      <td>Labrador_retriever</td>\n",
              "      <td>0.032621</td>\n",
              "      <td>1</td>\n",
              "    </tr>\n",
              "    <tr>\n",
              "      <th>871</th>\n",
              "      <td>697943111201378304</td>\n",
              "      <td>https://pbs.twimg.com/media/Ca-XjfiUsAAUa8f.jpg</td>\n",
              "      <td>1</td>\n",
              "      <td>Great_Dane</td>\n",
              "      <td>0.126924</td>\n",
              "      <td>1</td>\n",
              "      <td>Greater_Swiss_Mountain_dog</td>\n",
              "      <td>0.110037</td>\n",
              "      <td>1</td>\n",
              "      <td>German_short-haired_pointer</td>\n",
              "      <td>0.090816</td>\n",
              "      <td>1</td>\n",
              "    </tr>\n",
              "    <tr>\n",
              "      <th>656</th>\n",
              "      <td>682259524040966145</td>\n",
              "      <td>https://pbs.twimg.com/media/CXffar9WYAArfpw.jpg</td>\n",
              "      <td>1</td>\n",
              "      <td>Siberian_husky</td>\n",
              "      <td>0.439670</td>\n",
              "      <td>1</td>\n",
              "      <td>Eskimo_dog</td>\n",
              "      <td>0.340474</td>\n",
              "      <td>1</td>\n",
              "      <td>malamute</td>\n",
              "      <td>0.101253</td>\n",
              "      <td>1</td>\n",
              "    </tr>\n",
              "    <tr>\n",
              "      <th>997</th>\n",
              "      <td>708356463048204288</td>\n",
              "      <td>https://pbs.twimg.com/media/CdSWcc1XIAAXc6H.jpg</td>\n",
              "      <td>2</td>\n",
              "      <td>pug</td>\n",
              "      <td>0.871283</td>\n",
              "      <td>1</td>\n",
              "      <td>French_bulldog</td>\n",
              "      <td>0.041820</td>\n",
              "      <td>1</td>\n",
              "      <td>bath_towel</td>\n",
              "      <td>0.015228</td>\n",
              "      <td>0</td>\n",
              "    </tr>\n",
              "    <tr>\n",
              "      <th>629</th>\n",
              "      <td>680913438424612864</td>\n",
              "      <td>https://pbs.twimg.com/media/CXMXKKHUMAA1QN3.jpg</td>\n",
              "      <td>1</td>\n",
              "      <td>Pomeranian</td>\n",
              "      <td>0.615678</td>\n",
              "      <td>1</td>\n",
              "      <td>golden_retriever</td>\n",
              "      <td>0.126455</td>\n",
              "      <td>1</td>\n",
              "      <td>Chihuahua</td>\n",
              "      <td>0.087184</td>\n",
              "      <td>1</td>\n",
              "    </tr>\n",
              "    <tr>\n",
              "      <th>1919</th>\n",
              "      <td>855851453814013952</td>\n",
              "      <td>https://pbs.twimg.com/media/C-CYWrvWAAU8AXH.jpg</td>\n",
              "      <td>1</td>\n",
              "      <td>flat-coated_retriever</td>\n",
              "      <td>0.321676</td>\n",
              "      <td>1</td>\n",
              "      <td>Labrador_retriever</td>\n",
              "      <td>0.115138</td>\n",
              "      <td>1</td>\n",
              "      <td>groenendael</td>\n",
              "      <td>0.096100</td>\n",
              "      <td>1</td>\n",
              "    </tr>\n",
              "    <tr>\n",
              "      <th>209</th>\n",
              "      <td>669972011175813120</td>\n",
              "      <td>https://pbs.twimg.com/media/CUw3_QiUEAA8cT9.jpg</td>\n",
              "      <td>1</td>\n",
              "      <td>teddy</td>\n",
              "      <td>0.953071</td>\n",
              "      <td>0</td>\n",
              "      <td>koala</td>\n",
              "      <td>0.007027</td>\n",
              "      <td>0</td>\n",
              "      <td>fur_coat</td>\n",
              "      <td>0.005368</td>\n",
              "      <td>0</td>\n",
              "    </tr>\n",
              "  </tbody>\n",
              "</table>\n",
              "</div>"
            ],
            "text/plain": [
              "                tweet_id  ... p3_dog\n",
              "1238  746818907684614144  ...      1\n",
              "774   689623661272240129  ...      1\n",
              "1679  813217897535406080  ...      1\n",
              "1977  870374049280663552  ...      1\n",
              "871   697943111201378304  ...      1\n",
              "656   682259524040966145  ...      1\n",
              "997   708356463048204288  ...      0\n",
              "629   680913438424612864  ...      1\n",
              "1919  855851453814013952  ...      1\n",
              "209   669972011175813120  ...      0\n",
              "\n",
              "[10 rows x 12 columns]"
            ]
          },
          "metadata": {},
          "execution_count": 12
        }
      ]
    },
    {
      "cell_type": "code",
      "metadata": {
        "id": "jaDmngJv2gif",
        "colab": {
          "base_uri": "https://localhost:8080/"
        },
        "outputId": "27d35247-df17-4ff4-d22f-8160f5cb2a8e"
      },
      "source": [
        "dfi.info()"
      ],
      "execution_count": 13,
      "outputs": [
        {
          "output_type": "stream",
          "name": "stdout",
          "text": [
            "<class 'pandas.core.frame.DataFrame'>\n",
            "RangeIndex: 2075 entries, 0 to 2074\n",
            "Data columns (total 12 columns):\n",
            " #   Column    Non-Null Count  Dtype  \n",
            "---  ------    --------------  -----  \n",
            " 0   tweet_id  2075 non-null   int64  \n",
            " 1   jpg_url   2075 non-null   object \n",
            " 2   img_num   2075 non-null   int64  \n",
            " 3   p1        2075 non-null   object \n",
            " 4   p1_conf   2075 non-null   float64\n",
            " 5   p1_dog    2075 non-null   int64  \n",
            " 6   p2        2075 non-null   object \n",
            " 7   p2_conf   2075 non-null   float64\n",
            " 8   p2_dog    2075 non-null   int64  \n",
            " 9   p3        2075 non-null   object \n",
            " 10  p3_conf   2075 non-null   float64\n",
            " 11  p3_dog    2075 non-null   int64  \n",
            "dtypes: float64(3), int64(5), object(4)\n",
            "memory usage: 194.7+ KB\n"
          ]
        }
      ]
    },
    {
      "cell_type": "markdown",
      "metadata": {
        "id": "es430-Tl_MV3"
      },
      "source": [
        "#### Curated Info\n",
        "\n",
        "| # | Variable | Non-Null | Nunique | Dtype | Notes |\n",
        "|---|----------|----------|---------|-------|-------|\n",
        "| 0 | tweet_id | 2075 | 2078 | int64 | |\n",
        "| 1 | jpg_url | 2075 | 2009 | object | |\n",
        "| 2 | img_num | 2075 | 4 | int64 | the image number that corresponded to the most confident prediction|\n",
        "| 3 | p1 | 2075 | 378 | object | prediction |\n",
        "| 4 | p1_conf | 2075 | 2006 | float64 | confidence of prediction |\n",
        "| 5 | p1_dog | 2075 | 2 | int64 | Is the prediction a breed of dog? : int $\\to$ bool |\n",
        "| 6 | p2 | 2075 | 405 | object | dtto |\n",
        "| 7 | p2_conf | 2075 | 2004 | float64 | dtto |\n",
        "| 8 | p2_dog | 2075 | 2 | int64 | dtto |\n",
        "| 9 | p3 | 2075 | 408 | object | dtto |\n",
        "| 10 | p3_conf | 2075 | 2006 | float64 | dtto |\n",
        "| 11 | p3_dog | 2075 | 2 | int64 | dtto |\n",
        "\n",
        "Source: visual and programmatic assessment\n",
        "\n",
        "```python\n",
        "# #, Variable, Non-Null (Count), Dtype:\n",
        "dfa.info()\n",
        "# Nunique:\n",
        "dfa.nunique()\n",
        "```\n"
      ]
    },
    {
      "cell_type": "markdown",
      "metadata": {
        "id": "fv82iwVV9vZu"
      },
      "source": [
        "### Additional Data From Twitter API"
      ]
    },
    {
      "cell_type": "code",
      "metadata": {
        "id": "-gkXe5mZwMpn",
        "colab": {
          "base_uri": "https://localhost:8080/",
          "height": 355
        },
        "outputId": "68f60b5c-bba4-4da1-f330-f0479239e108"
      },
      "source": [
        "dft.sample(10)"
      ],
      "execution_count": 15,
      "outputs": [
        {
          "output_type": "execute_result",
          "data": {
            "text/html": [
              "<div>\n",
              "<style scoped>\n",
              "    .dataframe tbody tr th:only-of-type {\n",
              "        vertical-align: middle;\n",
              "    }\n",
              "\n",
              "    .dataframe tbody tr th {\n",
              "        vertical-align: top;\n",
              "    }\n",
              "\n",
              "    .dataframe thead th {\n",
              "        text-align: right;\n",
              "    }\n",
              "</style>\n",
              "<table border=\"1\" class=\"dataframe\">\n",
              "  <thead>\n",
              "    <tr style=\"text-align: right;\">\n",
              "      <th></th>\n",
              "      <th>tweet_id</th>\n",
              "      <th>retweet_count</th>\n",
              "      <th>favorite_count</th>\n",
              "    </tr>\n",
              "  </thead>\n",
              "  <tbody>\n",
              "    <tr>\n",
              "      <th>136</th>\n",
              "      <td>864279568663928832</td>\n",
              "      <td>2633</td>\n",
              "      <td>13309</td>\n",
              "    </tr>\n",
              "    <tr>\n",
              "      <th>808</th>\n",
              "      <td>768609597686943744</td>\n",
              "      <td>1129</td>\n",
              "      <td>3932</td>\n",
              "    </tr>\n",
              "    <tr>\n",
              "      <th>1490</th>\n",
              "      <td>690932576555528194</td>\n",
              "      <td>940</td>\n",
              "      <td>3101</td>\n",
              "    </tr>\n",
              "    <tr>\n",
              "      <th>1818</th>\n",
              "      <td>675820929667219457</td>\n",
              "      <td>219</td>\n",
              "      <td>972</td>\n",
              "    </tr>\n",
              "    <tr>\n",
              "      <th>149</th>\n",
              "      <td>861383897657036800</td>\n",
              "      <td>9480</td>\n",
              "      <td>32940</td>\n",
              "    </tr>\n",
              "    <tr>\n",
              "      <th>1434</th>\n",
              "      <td>694905863685980160</td>\n",
              "      <td>869</td>\n",
              "      <td>2595</td>\n",
              "    </tr>\n",
              "    <tr>\n",
              "      <th>1458</th>\n",
              "      <td>693109034023534592</td>\n",
              "      <td>566</td>\n",
              "      <td>1604</td>\n",
              "    </tr>\n",
              "    <tr>\n",
              "      <th>597</th>\n",
              "      <td>796484825502875648</td>\n",
              "      <td>1682</td>\n",
              "      <td>7338</td>\n",
              "    </tr>\n",
              "    <tr>\n",
              "      <th>1145</th>\n",
              "      <td>720340705894408192</td>\n",
              "      <td>909</td>\n",
              "      <td>2691</td>\n",
              "    </tr>\n",
              "    <tr>\n",
              "      <th>620</th>\n",
              "      <td>793256262322548741</td>\n",
              "      <td>7999</td>\n",
              "      <td>19337</td>\n",
              "    </tr>\n",
              "  </tbody>\n",
              "</table>\n",
              "</div>"
            ],
            "text/plain": [
              "                tweet_id  retweet_count  favorite_count\n",
              "136   864279568663928832           2633           13309\n",
              "808   768609597686943744           1129            3932\n",
              "1490  690932576555528194            940            3101\n",
              "1818  675820929667219457            219             972\n",
              "149   861383897657036800           9480           32940\n",
              "1434  694905863685980160            869            2595\n",
              "1458  693109034023534592            566            1604\n",
              "597   796484825502875648           1682            7338\n",
              "1145  720340705894408192            909            2691\n",
              "620   793256262322548741           7999           19337"
            ]
          },
          "metadata": {},
          "execution_count": 15
        }
      ]
    },
    {
      "cell_type": "code",
      "metadata": {
        "id": "RbIYQNUlIRpQ",
        "colab": {
          "base_uri": "https://localhost:8080/"
        },
        "outputId": "ae374303-b118-4a3a-f38d-afc0f4509fe0"
      },
      "source": [
        "dft.info()"
      ],
      "execution_count": 16,
      "outputs": [
        {
          "output_type": "stream",
          "name": "stdout",
          "text": [
            "<class 'pandas.core.frame.DataFrame'>\n",
            "RangeIndex: 2327 entries, 0 to 2326\n",
            "Data columns (total 3 columns):\n",
            " #   Column          Non-Null Count  Dtype\n",
            "---  ------          --------------  -----\n",
            " 0   tweet_id        2327 non-null   int64\n",
            " 1   retweet_count   2327 non-null   int64\n",
            " 2   favorite_count  2327 non-null   int64\n",
            "dtypes: int64(3)\n",
            "memory usage: 54.7 KB\n"
          ]
        }
      ]
    },
    {
      "cell_type": "markdown",
      "metadata": {
        "id": "IuV8-AFUIQNP"
      },
      "source": [
        "#### Curated Info\n",
        "\n",
        "| # | Variable | Non-Null | Nunique | Dtype | Notes |\n",
        "|---|----------|----------|---------|-------|-------|\n",
        "| 0 | tweet_id | 2327 | 2327 | int64 | |\n",
        "| 1 | retweet_count | 2327 | 1671 | int64 | |\n",
        "| 2 | favorite_count | 2327 | 2006 | int64 | |\n",
        "\n",
        "Source: visual and programmatic assessment\n",
        "\n",
        "```python\n",
        "# #, Variable, Non-Null (Count), Dtype:\n",
        "dfa.info()\n",
        "# Nunique:\n",
        "dfa.nunique()\n",
        "```"
      ]
    },
    {
      "cell_type": "markdown",
      "metadata": {
        "id": "owwFlRAjhIJd"
      },
      "source": [
        "### Quality issues\n",
        "1. Replies are not original tweets.\n",
        "2. Retweets are not original tweets.\n",
        "3. Some tweets don't have any image\n",
        "4. Some ratings are incorrectly identified\n",
        "5. Some ratings are missing\n",
        "6. Names starting with lowercase are incorrect\n",
        "7. Names with value None are incorrect\n",
        "8. Column timestamp has the dtype object (string)\n"
      ]
    },
    {
      "cell_type": "markdown",
      "metadata": {
        "extensions": {
          "jupyter_dashboards": {
            "version": 1,
            "views": {
              "grid_default": {
                "col": 0,
                "height": 7,
                "hidden": false,
                "row": 40,
                "width": 12
              },
              "report_default": {
                "hidden": false
              }
            }
          }
        },
        "id": "STsht4nbhIJd"
      },
      "source": [
        "### Tidiness issues\n",
        "1. Dogs' stages (doggo, pupper, puppo, floofer) as columns\n",
        "2. Multiple image predictions in one row\n",
        "3. Data in multiple datasets"
      ]
    },
    {
      "cell_type": "markdown",
      "metadata": {
        "extensions": {
          "jupyter_dashboards": {
            "version": 1,
            "views": {
              "grid_default": {
                "col": 4,
                "height": 4,
                "hidden": false,
                "row": 32,
                "width": 4
              },
              "report_default": {
                "hidden": false
              }
            }
          }
        },
        "id": "RX-JRaHyhIJe"
      },
      "source": [
        "## Cleaning Data\n",
        "In this section, clean **all** of the issues you documented while assessing. \n",
        "\n",
        "**Note:** Make a copy of the original data before cleaning. Cleaning includes merging individual pieces of data according to the rules of [tidy data](https://cran.r-project.org/web/packages/tidyr/vignettes/tidy-data.html). The result should be a high-quality and tidy master pandas DataFrame (or DataFrames, if appropriate)."
      ]
    },
    {
      "cell_type": "code",
      "metadata": {
        "id": "wLKnW2eXhIJe"
      },
      "source": [
        "# Make copies of original pieces of data\n",
        "dfa_clean = dfa.copy() # archive\n",
        "dfi_clean = dfi.copy() # image predictions\n",
        "dft_clean = dft.copy() # data from Twitter API"
      ],
      "execution_count": 22,
      "outputs": []
    },
    {
      "cell_type": "markdown",
      "metadata": {
        "id": "SU9IOqq_hIJf"
      },
      "source": [
        "### Q1: Replies are not original tweets."
      ]
    },
    {
      "cell_type": "markdown",
      "metadata": {
        "id": "RHzmZ_C0hIJf"
      },
      "source": [
        "#### Define:\n",
        "Remove replies from `dfa_clean` dataframe and drop variables *in_reply_to_status_id* and *in_reply_to_user_id*."
      ]
    },
    {
      "cell_type": "markdown",
      "metadata": {
        "id": "gB6aGYGshIJf"
      },
      "source": [
        "#### Code"
      ]
    },
    {
      "cell_type": "code",
      "metadata": {
        "id": "vc_ymludhIJf",
        "outputId": "c9c0c796-2ed9-4d1d-a5ac-5d56ae6ce627",
        "colab": {
          "base_uri": "https://localhost:8080/"
        }
      },
      "source": [
        "dfa_clean = dfa_clean.loc[dfa_clean.in_reply_to_status_id.isna()]\n",
        "print(dfa_clean.in_reply_to_status_id.notna().sum())\n",
        "dfa_clean.drop(columns=['in_reply_to_status_id', 'in_reply_to_user_id'], inplace=True)"
      ],
      "execution_count": 23,
      "outputs": [
        {
          "output_type": "stream",
          "name": "stdout",
          "text": [
            "0\n"
          ]
        }
      ]
    },
    {
      "cell_type": "markdown",
      "metadata": {
        "id": "XZXljbYKhIJf"
      },
      "source": [
        "#### Test"
      ]
    },
    {
      "cell_type": "code",
      "metadata": {
        "id": "2jlAN0NrhIJg",
        "outputId": "91150f1f-dea8-47e6-8224-6a12938cb8b1",
        "colab": {
          "base_uri": "https://localhost:8080/"
        }
      },
      "source": [
        "dfa_clean.info()"
      ],
      "execution_count": 24,
      "outputs": [
        {
          "output_type": "stream",
          "name": "stdout",
          "text": [
            "<class 'pandas.core.frame.DataFrame'>\n",
            "Int64Index: 2278 entries, 0 to 2355\n",
            "Data columns (total 15 columns):\n",
            " #   Column                      Non-Null Count  Dtype  \n",
            "---  ------                      --------------  -----  \n",
            " 0   tweet_id                    2278 non-null   int64  \n",
            " 1   timestamp                   2278 non-null   object \n",
            " 2   source                      2278 non-null   object \n",
            " 3   text                        2278 non-null   object \n",
            " 4   retweeted_status_id         181 non-null    float64\n",
            " 5   retweeted_status_user_id    181 non-null    float64\n",
            " 6   retweeted_status_timestamp  181 non-null    object \n",
            " 7   expanded_urls               2274 non-null   object \n",
            " 8   rating_numerator            2278 non-null   int64  \n",
            " 9   rating_denominator          2278 non-null   int64  \n",
            " 10  name                        2278 non-null   object \n",
            " 11  doggo                       2278 non-null   object \n",
            " 12  floofer                     2278 non-null   object \n",
            " 13  pupper                      2278 non-null   object \n",
            " 14  puppo                       2278 non-null   object \n",
            "dtypes: float64(2), int64(3), object(10)\n",
            "memory usage: 284.8+ KB\n"
          ]
        }
      ]
    },
    {
      "cell_type": "markdown",
      "metadata": {
        "id": "PJgHSlSGhIJg"
      },
      "source": [
        "### Q2: Retweets are not original tweets."
      ]
    },
    {
      "cell_type": "markdown",
      "metadata": {
        "collapsed": true,
        "extensions": {
          "jupyter_dashboards": {
            "version": 1,
            "views": {
              "grid_default": {
                "hidden": true
              },
              "report_default": {
                "hidden": true
              }
            }
          }
        },
        "id": "Au4bZnpShIJg"
      },
      "source": [
        "#### Define\n",
        "Remove retweets from `dfa_clean` and drop variables *retweeted_status_id*, *retweeted_status_user_id*, and *retweeted_status_timestamp*."
      ]
    },
    {
      "cell_type": "markdown",
      "metadata": {
        "id": "4Ldn-uWPhIJg"
      },
      "source": [
        "#### Code"
      ]
    },
    {
      "cell_type": "code",
      "metadata": {
        "id": "oX3P_wKDhIJg",
        "colab": {
          "base_uri": "https://localhost:8080/"
        },
        "outputId": "525d4f6f-d6d0-46c6-87aa-f12ca9eed01b"
      },
      "source": [
        "dfa_clean = dfa_clean.loc[dfa_clean.retweeted_status_id.isna()]\n",
        "print(dfa_clean.retweeted_status_id.notna().sum())\n",
        "dfa_clean.drop(columns=['retweeted_status_id', 'retweeted_status_user_id', 'retweeted_status_timestamp'], inplace=True)"
      ],
      "execution_count": 25,
      "outputs": [
        {
          "output_type": "stream",
          "name": "stdout",
          "text": [
            "0\n"
          ]
        }
      ]
    },
    {
      "cell_type": "markdown",
      "metadata": {
        "id": "gOf3a9kvhIJg"
      },
      "source": [
        "#### Test"
      ]
    },
    {
      "cell_type": "code",
      "metadata": {
        "id": "zcTioht6hIJg",
        "colab": {
          "base_uri": "https://localhost:8080/"
        },
        "outputId": "236f0b91-ca51-46b3-885a-155dced8be77"
      },
      "source": [
        "dfa_clean.info()"
      ],
      "execution_count": 26,
      "outputs": [
        {
          "output_type": "stream",
          "name": "stdout",
          "text": [
            "<class 'pandas.core.frame.DataFrame'>\n",
            "Int64Index: 2097 entries, 0 to 2355\n",
            "Data columns (total 12 columns):\n",
            " #   Column              Non-Null Count  Dtype \n",
            "---  ------              --------------  ----- \n",
            " 0   tweet_id            2097 non-null   int64 \n",
            " 1   timestamp           2097 non-null   object\n",
            " 2   source              2097 non-null   object\n",
            " 3   text                2097 non-null   object\n",
            " 4   expanded_urls       2094 non-null   object\n",
            " 5   rating_numerator    2097 non-null   int64 \n",
            " 6   rating_denominator  2097 non-null   int64 \n",
            " 7   name                2097 non-null   object\n",
            " 8   doggo               2097 non-null   object\n",
            " 9   floofer             2097 non-null   object\n",
            " 10  pupper              2097 non-null   object\n",
            " 11  puppo               2097 non-null   object\n",
            "dtypes: int64(3), object(9)\n",
            "memory usage: 213.0+ KB\n"
          ]
        }
      ]
    },
    {
      "cell_type": "markdown",
      "metadata": {
        "id": "XgirUMXc77fh"
      },
      "source": [
        "### Q3: Some tweets don't have any image"
      ]
    },
    {
      "cell_type": "markdown",
      "metadata": {
        "collapsed": true,
        "extensions": {
          "jupyter_dashboards": {
            "version": 1,
            "views": {
              "grid_default": {
                "hidden": true
              },
              "report_default": {
                "hidden": true
              }
            }
          }
        },
        "id": "1sKFP0Ly77fi"
      },
      "source": [
        "#### Define\n",
        "Remove tweets that don't have image from `dfa_clean`."
      ]
    },
    {
      "cell_type": "markdown",
      "metadata": {
        "id": "Rm4nrZxF77fi"
      },
      "source": [
        "#### Code"
      ]
    },
    {
      "cell_type": "code",
      "metadata": {
        "id": "jByke7Za77fi"
      },
      "source": [
        "dfa_clean = dfa_clean.loc[dfa_clean.text.apply(lambda s: 'https://t.co' in s)]"
      ],
      "execution_count": 28,
      "outputs": []
    },
    {
      "cell_type": "markdown",
      "metadata": {
        "id": "LZwol1wa77fi"
      },
      "source": [
        "#### Test"
      ]
    },
    {
      "cell_type": "code",
      "metadata": {
        "id": "0RRffhFc77fi",
        "outputId": "9989a744-f99c-48e1-dcf6-d51e1c9bf13a",
        "colab": {
          "base_uri": "https://localhost:8080/"
        }
      },
      "source": [
        "dfa_clean.loc[dfa_clean.text.apply(lambda s: 'https://t.co' not in s)].shape[0]"
      ],
      "execution_count": 29,
      "outputs": [
        {
          "output_type": "execute_result",
          "data": {
            "text/plain": [
              "0"
            ]
          },
          "metadata": {},
          "execution_count": 29
        }
      ]
    },
    {
      "cell_type": "markdown",
      "metadata": {
        "id": "bxBxxcrU7-Tq"
      },
      "source": [
        "### Q4: Some ratings are incorrectly identified"
      ]
    },
    {
      "cell_type": "markdown",
      "metadata": {
        "collapsed": true,
        "extensions": {
          "jupyter_dashboards": {
            "version": 1,
            "views": {
              "grid_default": {
                "hidden": true
              },
              "report_default": {
                "hidden": true
              }
            }
          }
        },
        "id": "ufqOk6jd7-Tq"
      },
      "source": [
        "#### Define"
      ]
    },
    {
      "cell_type": "markdown",
      "metadata": {
        "id": "Voyk19Uc7-Tq"
      },
      "source": [
        "#### Code"
      ]
    },
    {
      "cell_type": "code",
      "metadata": {
        "id": "x5o_0hly7-Tq"
      },
      "source": [
        ""
      ],
      "execution_count": null,
      "outputs": []
    },
    {
      "cell_type": "markdown",
      "metadata": {
        "id": "tA-WoWYk7-Tq"
      },
      "source": [
        "#### Test"
      ]
    },
    {
      "cell_type": "code",
      "metadata": {
        "id": "nyDcuybk7-Tq"
      },
      "source": [
        ""
      ],
      "execution_count": null,
      "outputs": []
    },
    {
      "cell_type": "markdown",
      "metadata": {
        "id": "TQ5azzBB7-rS"
      },
      "source": [
        "### Q5: Some ratings are missing"
      ]
    },
    {
      "cell_type": "markdown",
      "metadata": {
        "collapsed": true,
        "extensions": {
          "jupyter_dashboards": {
            "version": 1,
            "views": {
              "grid_default": {
                "hidden": true
              },
              "report_default": {
                "hidden": true
              }
            }
          }
        },
        "id": "usrrKnjP7-rS"
      },
      "source": [
        "#### Define"
      ]
    },
    {
      "cell_type": "markdown",
      "metadata": {
        "id": "PBEChAAG7-rS"
      },
      "source": [
        "#### Code"
      ]
    },
    {
      "cell_type": "code",
      "metadata": {
        "id": "SCmnwWwX7-rS"
      },
      "source": [
        ""
      ],
      "execution_count": null,
      "outputs": []
    },
    {
      "cell_type": "markdown",
      "metadata": {
        "id": "xTS3_dQh7-rS"
      },
      "source": [
        "#### Test"
      ]
    },
    {
      "cell_type": "code",
      "metadata": {
        "id": "Sm0uo8Zc7-rT"
      },
      "source": [
        ""
      ],
      "execution_count": null,
      "outputs": []
    },
    {
      "cell_type": "markdown",
      "metadata": {
        "id": "LbLObs4l7-8B"
      },
      "source": [
        "### Q6: Names starting with lowercase are incorrect"
      ]
    },
    {
      "cell_type": "markdown",
      "metadata": {
        "collapsed": true,
        "extensions": {
          "jupyter_dashboards": {
            "version": 1,
            "views": {
              "grid_default": {
                "hidden": true
              },
              "report_default": {
                "hidden": true
              }
            }
          }
        },
        "id": "ZA274THb7-8C"
      },
      "source": [
        "#### Define"
      ]
    },
    {
      "cell_type": "markdown",
      "metadata": {
        "id": "om3DrfOn7-8C"
      },
      "source": [
        "#### Code"
      ]
    },
    {
      "cell_type": "code",
      "metadata": {
        "id": "-eOjNJeK7-8C"
      },
      "source": [
        ""
      ],
      "execution_count": null,
      "outputs": []
    },
    {
      "cell_type": "markdown",
      "metadata": {
        "id": "RPNiYlhl7-8C"
      },
      "source": [
        "#### Test"
      ]
    },
    {
      "cell_type": "code",
      "metadata": {
        "id": "P0MT_B0N7-8C"
      },
      "source": [
        ""
      ],
      "execution_count": null,
      "outputs": []
    },
    {
      "cell_type": "markdown",
      "metadata": {
        "id": "HIU36e4z7_KB"
      },
      "source": [
        "### Q7: Names with value None are incorrect"
      ]
    },
    {
      "cell_type": "markdown",
      "metadata": {
        "collapsed": true,
        "extensions": {
          "jupyter_dashboards": {
            "version": 1,
            "views": {
              "grid_default": {
                "hidden": true
              },
              "report_default": {
                "hidden": true
              }
            }
          }
        },
        "id": "4G2RXgH07_KC"
      },
      "source": [
        "#### Define"
      ]
    },
    {
      "cell_type": "markdown",
      "metadata": {
        "id": "zIhsp7cY7_KC"
      },
      "source": [
        "#### Code"
      ]
    },
    {
      "cell_type": "code",
      "metadata": {
        "id": "8_B_3cIZ7_KC"
      },
      "source": [
        ""
      ],
      "execution_count": null,
      "outputs": []
    },
    {
      "cell_type": "markdown",
      "metadata": {
        "id": "t-ZQ83DJ7_KC"
      },
      "source": [
        "#### Test"
      ]
    },
    {
      "cell_type": "code",
      "metadata": {
        "id": "vVC73xu57_KC"
      },
      "source": [
        ""
      ],
      "execution_count": null,
      "outputs": []
    },
    {
      "cell_type": "markdown",
      "metadata": {
        "id": "8Hl-8slI7_Xx"
      },
      "source": [
        "### Q8: Column timestamp has the dtype object (string)"
      ]
    },
    {
      "cell_type": "markdown",
      "metadata": {
        "collapsed": true,
        "extensions": {
          "jupyter_dashboards": {
            "version": 1,
            "views": {
              "grid_default": {
                "hidden": true
              },
              "report_default": {
                "hidden": true
              }
            }
          }
        },
        "id": "KSGSvztR7_Xy"
      },
      "source": [
        "#### Define"
      ]
    },
    {
      "cell_type": "markdown",
      "metadata": {
        "id": "DhP92QGW7_Xy"
      },
      "source": [
        "#### Code"
      ]
    },
    {
      "cell_type": "code",
      "metadata": {
        "id": "tSngvrRH7_Xy"
      },
      "source": [
        ""
      ],
      "execution_count": null,
      "outputs": []
    },
    {
      "cell_type": "markdown",
      "metadata": {
        "id": "p4uKTg2R7_Xy"
      },
      "source": [
        "#### Test"
      ]
    },
    {
      "cell_type": "code",
      "metadata": {
        "id": "DHM0Rij07_Xy"
      },
      "source": [
        ""
      ],
      "execution_count": null,
      "outputs": []
    },
    {
      "cell_type": "markdown",
      "metadata": {
        "id": "lJ8yfCPW7_kC"
      },
      "source": [
        "### T1: Dogs' stages (doggo, pupper, puppo, floofer) as columns"
      ]
    },
    {
      "cell_type": "markdown",
      "metadata": {
        "collapsed": true,
        "extensions": {
          "jupyter_dashboards": {
            "version": 1,
            "views": {
              "grid_default": {
                "hidden": true
              },
              "report_default": {
                "hidden": true
              }
            }
          }
        },
        "id": "rla8j8kp7_kC"
      },
      "source": [
        "#### Define"
      ]
    },
    {
      "cell_type": "markdown",
      "metadata": {
        "id": "p6Z55T4k7_kD"
      },
      "source": [
        "#### Code"
      ]
    },
    {
      "cell_type": "code",
      "metadata": {
        "id": "6GHLSp2y7_kD"
      },
      "source": [
        ""
      ],
      "execution_count": null,
      "outputs": []
    },
    {
      "cell_type": "markdown",
      "metadata": {
        "id": "KEvXp0GC7_kD"
      },
      "source": [
        "#### Test"
      ]
    },
    {
      "cell_type": "code",
      "metadata": {
        "id": "7jN-AZ187_kD"
      },
      "source": [
        ""
      ],
      "execution_count": null,
      "outputs": []
    },
    {
      "cell_type": "markdown",
      "metadata": {
        "id": "xVowynR97_v6"
      },
      "source": [
        "### T2: Multiple image predictions in one row"
      ]
    },
    {
      "cell_type": "markdown",
      "metadata": {
        "collapsed": true,
        "extensions": {
          "jupyter_dashboards": {
            "version": 1,
            "views": {
              "grid_default": {
                "hidden": true
              },
              "report_default": {
                "hidden": true
              }
            }
          }
        },
        "id": "DWuP0MfT7_v6"
      },
      "source": [
        "#### Define"
      ]
    },
    {
      "cell_type": "markdown",
      "metadata": {
        "id": "Z9ELyWz67_v6"
      },
      "source": [
        "#### Code"
      ]
    },
    {
      "cell_type": "code",
      "metadata": {
        "id": "gu9hDWFN7_v6"
      },
      "source": [
        ""
      ],
      "execution_count": null,
      "outputs": []
    },
    {
      "cell_type": "markdown",
      "metadata": {
        "id": "Wb3FKHSN7_v6"
      },
      "source": [
        "#### Test"
      ]
    },
    {
      "cell_type": "code",
      "metadata": {
        "id": "tzwQw8b57_v6"
      },
      "source": [
        ""
      ],
      "execution_count": null,
      "outputs": []
    },
    {
      "cell_type": "markdown",
      "metadata": {
        "id": "1qHYoT947_6y"
      },
      "source": [
        "### T3: Data in multiple datasets"
      ]
    },
    {
      "cell_type": "markdown",
      "metadata": {
        "collapsed": true,
        "extensions": {
          "jupyter_dashboards": {
            "version": 1,
            "views": {
              "grid_default": {
                "hidden": true
              },
              "report_default": {
                "hidden": true
              }
            }
          }
        },
        "id": "mhW0ENYy7_6y"
      },
      "source": [
        "#### Define"
      ]
    },
    {
      "cell_type": "markdown",
      "metadata": {
        "id": "lkgthZXr7_6y"
      },
      "source": [
        "#### Code"
      ]
    },
    {
      "cell_type": "code",
      "metadata": {
        "id": "0yGOYXjn7_6y"
      },
      "source": [
        ""
      ],
      "execution_count": null,
      "outputs": []
    },
    {
      "cell_type": "markdown",
      "metadata": {
        "id": "u-7gjryR7_6y"
      },
      "source": [
        "#### Test"
      ]
    },
    {
      "cell_type": "code",
      "metadata": {
        "id": "RGIC6IVy7_6y"
      },
      "source": [
        ""
      ],
      "execution_count": null,
      "outputs": []
    },
    {
      "cell_type": "markdown",
      "metadata": {
        "id": "sYjBaX8ahIJh"
      },
      "source": [
        "## Storing Data\n",
        "Save gathered, assessed, and cleaned master dataset to a CSV file named \"twitter_archive_master.csv\"."
      ]
    },
    {
      "cell_type": "code",
      "metadata": {
        "id": "ZIMAc36shIJh"
      },
      "source": [
        ""
      ],
      "execution_count": null,
      "outputs": []
    },
    {
      "cell_type": "markdown",
      "metadata": {
        "id": "qV6aIJVDhIJh"
      },
      "source": [
        "## Analyzing and Visualizing Data\n",
        "In this section, analyze and visualize your wrangled data. You must produce at least **three (3) insights and one (1) visualization.**"
      ]
    },
    {
      "cell_type": "code",
      "metadata": {
        "id": "ro4Au-qEhIJh"
      },
      "source": [
        ""
      ],
      "execution_count": null,
      "outputs": []
    },
    {
      "cell_type": "markdown",
      "metadata": {
        "id": "ST41dIoGhIJh"
      },
      "source": [
        "### Insights:\n",
        "1.\n",
        "\n",
        "2.\n",
        "\n",
        "3."
      ]
    },
    {
      "cell_type": "markdown",
      "metadata": {
        "collapsed": true,
        "id": "8_KVI89WhIJh"
      },
      "source": [
        "### Visualization"
      ]
    },
    {
      "cell_type": "code",
      "metadata": {
        "id": "3OpgqSTfhIJh"
      },
      "source": [
        ""
      ],
      "execution_count": null,
      "outputs": []
    }
  ]
}