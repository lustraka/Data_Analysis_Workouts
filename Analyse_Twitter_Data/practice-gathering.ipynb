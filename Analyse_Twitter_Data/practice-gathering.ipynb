{
  "nbformat": 4,
  "nbformat_minor": 0,
  "metadata": {
    "kernelspec": {
      "display_name": "Python 3",
      "language": "python",
      "name": "python3"
    },
    "language_info": {
      "codemirror_mode": {
        "name": "ipython",
        "version": 3
      },
      "file_extension": ".py",
      "mimetype": "text/x-python",
      "name": "python",
      "nbconvert_exporter": "python",
      "pygments_lexer": "ipython3",
      "version": "3.6.3"
    },
    "colab": {
      "name": "practice-gathering.ipynb",
      "provenance": [],
      "include_colab_link": true
    }
  },
  "cells": [
    {
      "cell_type": "markdown",
      "metadata": {
        "id": "view-in-github",
        "colab_type": "text"
      },
      "source": [
        "<a href=\"https://colab.research.google.com/github/lustraka/Data_Analysis_Workouts/blob/main/Analyse_Twitter_Data/practice-gathering.ipynb\" target=\"_parent\"><img src=\"https://colab.research.google.com/assets/colab-badge.svg\" alt=\"Open In Colab\"/></a>"
      ]
    },
    {
      "cell_type": "markdown",
      "metadata": {
        "id": "I8Sjp_l-odwr"
      },
      "source": [
        "# Rotten Tomatoes: Top 100 Movies of All Time\n",
        "References:\n",
        "- [Rotten Tomatoes: Top 100](https://www.rottentomatoes.com/top/bestofrt/)\n",
        "- [Joel Spolsky: The Absolute Minimum Every Software Developer Absolutely, Positively Must Know About Unicode and Character Sets (No Excuses!)](https://www.joelonsoftware.com/2003/10/08/the-absolute-minimum-every-software-developer-absolutely-positively-must-know-about-unicode-and-character-sets-no-excuses/)\n",
        "- [David C. Zentgraf: What Every Programmer Absolutely, Positively Needs To Know About Encodings And Character Sets To Work With Text](https://kunststube.net/encoding/)\n",
        "- [StackOverflow: What is the difference between a string and a byte string?](https://stackoverflow.com/questions/6224052/what-is-the-difference-between-a-string-and-a-byte-string)\n",
        "- [StackOverflow: Is file object in python an iterable?](https://stackoverflow.com/questions/16994552/is-file-object-in-python-an-iterable/16994568#16994568)\n",
        "- [MediaWiki Action API Tutorial](https://www.mediawiki.org/wiki/API:Tutorial)\n",
        "- [SQLAlchemy](https://www.sqlalchemy.org/)\n"
      ]
    },
    {
      "cell_type": "code",
      "metadata": {
        "id": "tvgSjntmpII5"
      },
      "source": [
        "# Import dependencies\n",
        "import requests\n",
        "import zipfile\n",
        "from bs4 import BeautifulSoup\n",
        "import os\n",
        "import glob\n",
        "import pandas as pd\n",
        "import matplotlib.pyplot as plt"
      ],
      "execution_count": 2,
      "outputs": []
    },
    {
      "cell_type": "markdown",
      "metadata": {
        "id": "LijaSFrmodwt"
      },
      "source": [
        "## Flat Files"
      ]
    },
    {
      "cell_type": "code",
      "metadata": {
        "id": "gk92t5I1odwu",
        "colab": {
          "base_uri": "https://localhost:8080/",
          "height": 206
        },
        "outputId": "1b3dbd79-53bc-4428-a5ac-6b3c7a9f0663"
      },
      "source": [
        "path = 'https://d17h27t6h515a5.cloudfront.net/topher/2017/September/59ca594d_bestofrt/'\n",
        "df1 = pd.read_csv(path+'bestofrt.tsv', sep='\\t')\n",
        "df1.head()"
      ],
      "execution_count": null,
      "outputs": [
        {
          "output_type": "execute_result",
          "data": {
            "text/html": [
              "<div>\n",
              "<style scoped>\n",
              "    .dataframe tbody tr th:only-of-type {\n",
              "        vertical-align: middle;\n",
              "    }\n",
              "\n",
              "    .dataframe tbody tr th {\n",
              "        vertical-align: top;\n",
              "    }\n",
              "\n",
              "    .dataframe thead th {\n",
              "        text-align: right;\n",
              "    }\n",
              "</style>\n",
              "<table border=\"1\" class=\"dataframe\">\n",
              "  <thead>\n",
              "    <tr style=\"text-align: right;\">\n",
              "      <th></th>\n",
              "      <th>ranking</th>\n",
              "      <th>critic_score</th>\n",
              "      <th>title</th>\n",
              "      <th>number_of_critic_ratings</th>\n",
              "    </tr>\n",
              "  </thead>\n",
              "  <tbody>\n",
              "    <tr>\n",
              "      <th>0</th>\n",
              "      <td>1</td>\n",
              "      <td>99</td>\n",
              "      <td>The Wizard of Oz (1939)</td>\n",
              "      <td>110</td>\n",
              "    </tr>\n",
              "    <tr>\n",
              "      <th>1</th>\n",
              "      <td>2</td>\n",
              "      <td>100</td>\n",
              "      <td>Citizen Kane (1941)</td>\n",
              "      <td>75</td>\n",
              "    </tr>\n",
              "    <tr>\n",
              "      <th>2</th>\n",
              "      <td>3</td>\n",
              "      <td>100</td>\n",
              "      <td>The Third Man (1949)</td>\n",
              "      <td>77</td>\n",
              "    </tr>\n",
              "    <tr>\n",
              "      <th>3</th>\n",
              "      <td>4</td>\n",
              "      <td>99</td>\n",
              "      <td>Get Out (2017)</td>\n",
              "      <td>282</td>\n",
              "    </tr>\n",
              "    <tr>\n",
              "      <th>4</th>\n",
              "      <td>5</td>\n",
              "      <td>97</td>\n",
              "      <td>Mad Max: Fury Road (2015)</td>\n",
              "      <td>370</td>\n",
              "    </tr>\n",
              "  </tbody>\n",
              "</table>\n",
              "</div>"
            ],
            "text/plain": [
              "   ranking  critic_score                      title  number_of_critic_ratings\n",
              "0        1            99    The Wizard of Oz (1939)                       110\n",
              "1        2           100        Citizen Kane (1941)                        75\n",
              "2        3           100       The Third Man (1949)                        77\n",
              "3        4            99             Get Out (2017)                       282\n",
              "4        5            97  Mad Max: Fury Road (2015)                       370"
            ]
          },
          "metadata": {},
          "execution_count": 2
        }
      ]
    },
    {
      "cell_type": "markdown",
      "metadata": {
        "id": "w0vz7PgVodwu"
      },
      "source": [
        "## HTML Files"
      ]
    },
    {
      "cell_type": "code",
      "metadata": {
        "id": "sLtQKE9s2hEL"
      },
      "source": [
        "# Download the ZIP archive\n",
        "zip_path = 'https://github.com/lustraka/Data_Analysis_Workouts/blob/main/Analyse_Twitter_Data/data/rt_html.zip?raw=true'\n",
        "response = requests.get(zip_path)\n",
        "with open('rt-html.zip', 'wb') as zip:\n",
        "  zip.write(response.content)\n",
        "\n",
        "# Make directory for files\n",
        "folder = 'rt_html'\n",
        "os.makedirs(folder, exist_ok=True)\n",
        "\n",
        "# Extract ZIP file\n",
        "with zipfile.ZipFile('rt-html.zip', 'r') as myzip:\n",
        "  myzip.extractall()"
      ],
      "execution_count": null,
      "outputs": []
    },
    {
      "cell_type": "code",
      "metadata": {
        "collapsed": true,
        "id": "Lv0BNXFFodwv"
      },
      "source": [
        "# List of dictionaries to build file by file and later convert to a DataFrame\n",
        "df_list = []\n",
        "\n",
        "for movie_html in os.listdir(folder):\n",
        "    with open(os.path.join(folder, movie_html)) as file:\n",
        "        soup = BeautifulSoup(file, 'lxml')\n",
        "    title = soup.find('title').text[:-len(' - Rotten Tomatoes')].replace(u'\\xa0', u' ')\n",
        "    audience_score = soup.find('div', class_='audience-score meter').find('span').text[:-1]\n",
        "    soup.find('div', class_='audience-score meter').next_sibling()[2].span.extract()\n",
        "    num_audience_ratings = soup.find('div', class_='audience-score meter').next_sibling()[2].text\n",
        "    num_audience_ratings = num_audience_ratings.lstrip().replace(',','')\n",
        "\n",
        "    # Append to list of dictionaries\n",
        "    df_list.append({'title': title,\n",
        "                        'audience_score': int(audience_score),\n",
        "                        'number_of_audience_ratings': int(num_audience_ratings)})\n",
        "df2 = pd.DataFrame(df_list, columns = ['title', 'audience_score', 'number_of_audience_ratings'])"
      ],
      "execution_count": null,
      "outputs": []
    },
    {
      "cell_type": "code",
      "metadata": {
        "colab": {
          "base_uri": "https://localhost:8080/",
          "height": 206
        },
        "id": "BDVJ06BlHwP7",
        "outputId": "69af21b4-e2ab-47e2-c269-b393e0e3cf9b"
      },
      "source": [
        "df2.head()"
      ],
      "execution_count": null,
      "outputs": [
        {
          "output_type": "execute_result",
          "data": {
            "text/html": [
              "<div>\n",
              "<style scoped>\n",
              "    .dataframe tbody tr th:only-of-type {\n",
              "        vertical-align: middle;\n",
              "    }\n",
              "\n",
              "    .dataframe tbody tr th {\n",
              "        vertical-align: top;\n",
              "    }\n",
              "\n",
              "    .dataframe thead th {\n",
              "        text-align: right;\n",
              "    }\n",
              "</style>\n",
              "<table border=\"1\" class=\"dataframe\">\n",
              "  <thead>\n",
              "    <tr style=\"text-align: right;\">\n",
              "      <th></th>\n",
              "      <th>title</th>\n",
              "      <th>audience_score</th>\n",
              "      <th>number_of_audience_ratings</th>\n",
              "    </tr>\n",
              "  </thead>\n",
              "  <tbody>\n",
              "    <tr>\n",
              "      <th>0</th>\n",
              "      <td>Selma (2015)</td>\n",
              "      <td>86</td>\n",
              "      <td>60533</td>\n",
              "    </tr>\n",
              "    <tr>\n",
              "      <th>1</th>\n",
              "      <td>Metropolis (1927)</td>\n",
              "      <td>92</td>\n",
              "      <td>62018</td>\n",
              "    </tr>\n",
              "    <tr>\n",
              "      <th>2</th>\n",
              "      <td>Baby Driver (2017)</td>\n",
              "      <td>89</td>\n",
              "      <td>48114</td>\n",
              "    </tr>\n",
              "    <tr>\n",
              "      <th>3</th>\n",
              "      <td>M (1931)</td>\n",
              "      <td>95</td>\n",
              "      <td>35778</td>\n",
              "    </tr>\n",
              "    <tr>\n",
              "      <th>4</th>\n",
              "      <td>Apocalypse Now (1979)</td>\n",
              "      <td>94</td>\n",
              "      <td>284606</td>\n",
              "    </tr>\n",
              "  </tbody>\n",
              "</table>\n",
              "</div>"
            ],
            "text/plain": [
              "                   title  audience_score  number_of_audience_ratings\n",
              "0           Selma (2015)              86                       60533\n",
              "1      Metropolis (1927)              92                       62018\n",
              "2     Baby Driver (2017)              89                       48114\n",
              "3               M (1931)              95                       35778\n",
              "4  Apocalypse Now (1979)              94                      284606"
            ]
          },
          "metadata": {},
          "execution_count": 5
        }
      ]
    },
    {
      "cell_type": "code",
      "metadata": {
        "colab": {
          "base_uri": "https://localhost:8080/",
          "height": 206
        },
        "id": "LqDKAW-oQWdQ",
        "outputId": "5986fd85-3ac6-4605-e14e-5b79df9b6a0f"
      },
      "source": [
        "df = df1.merge(df2, on='title')\n",
        "df.head()"
      ],
      "execution_count": null,
      "outputs": [
        {
          "output_type": "execute_result",
          "data": {
            "text/html": [
              "<div>\n",
              "<style scoped>\n",
              "    .dataframe tbody tr th:only-of-type {\n",
              "        vertical-align: middle;\n",
              "    }\n",
              "\n",
              "    .dataframe tbody tr th {\n",
              "        vertical-align: top;\n",
              "    }\n",
              "\n",
              "    .dataframe thead th {\n",
              "        text-align: right;\n",
              "    }\n",
              "</style>\n",
              "<table border=\"1\" class=\"dataframe\">\n",
              "  <thead>\n",
              "    <tr style=\"text-align: right;\">\n",
              "      <th></th>\n",
              "      <th>ranking</th>\n",
              "      <th>critic_score</th>\n",
              "      <th>title</th>\n",
              "      <th>number_of_critic_ratings</th>\n",
              "      <th>audience_score</th>\n",
              "      <th>number_of_audience_ratings</th>\n",
              "    </tr>\n",
              "  </thead>\n",
              "  <tbody>\n",
              "    <tr>\n",
              "      <th>0</th>\n",
              "      <td>1</td>\n",
              "      <td>99</td>\n",
              "      <td>The Wizard of Oz (1939)</td>\n",
              "      <td>110</td>\n",
              "      <td>89</td>\n",
              "      <td>874425</td>\n",
              "    </tr>\n",
              "    <tr>\n",
              "      <th>1</th>\n",
              "      <td>2</td>\n",
              "      <td>100</td>\n",
              "      <td>Citizen Kane (1941)</td>\n",
              "      <td>75</td>\n",
              "      <td>90</td>\n",
              "      <td>157274</td>\n",
              "    </tr>\n",
              "    <tr>\n",
              "      <th>2</th>\n",
              "      <td>3</td>\n",
              "      <td>100</td>\n",
              "      <td>The Third Man (1949)</td>\n",
              "      <td>77</td>\n",
              "      <td>93</td>\n",
              "      <td>53081</td>\n",
              "    </tr>\n",
              "    <tr>\n",
              "      <th>3</th>\n",
              "      <td>4</td>\n",
              "      <td>99</td>\n",
              "      <td>Get Out (2017)</td>\n",
              "      <td>282</td>\n",
              "      <td>87</td>\n",
              "      <td>63837</td>\n",
              "    </tr>\n",
              "    <tr>\n",
              "      <th>4</th>\n",
              "      <td>5</td>\n",
              "      <td>97</td>\n",
              "      <td>Mad Max: Fury Road (2015)</td>\n",
              "      <td>370</td>\n",
              "      <td>86</td>\n",
              "      <td>123937</td>\n",
              "    </tr>\n",
              "  </tbody>\n",
              "</table>\n",
              "</div>"
            ],
            "text/plain": [
              "   ranking  critic_score  ... audience_score  number_of_audience_ratings\n",
              "0        1            99  ...             89                      874425\n",
              "1        2           100  ...             90                      157274\n",
              "2        3           100  ...             93                       53081\n",
              "3        4            99  ...             87                       63837\n",
              "4        5            97  ...             86                      123937\n",
              "\n",
              "[5 rows x 6 columns]"
            ]
          },
          "metadata": {},
          "execution_count": 6
        }
      ]
    },
    {
      "cell_type": "code",
      "metadata": {
        "colab": {
          "base_uri": "https://localhost:8080/",
          "height": 294
        },
        "id": "-Edp6Nt8Pl7o",
        "outputId": "b509e5b4-456d-4170-921a-8168f7809ce9"
      },
      "source": [
        "plt.scatter(df.audience_score, df.critic_score)\n",
        "plt.title('Scatter Plot of Audience Score vs Critics Score')\n",
        "plt.xlabel('Audience Score')\n",
        "plt.ylabel('Critics Score')\n",
        "plt.axvline(df.audience_score.median(), c='m')\n",
        "plt.axhline(df.critic_score.median(), c='m')\n",
        "plt.show()"
      ],
      "execution_count": null,
      "outputs": [
        {
          "output_type": "display_data",
          "data": {
            "image/png": "[encoded data removed]",
            "text/plain": [
              "<Figure size 432x288 with 1 Axes>"
            ]
          },
          "metadata": {
            "needs_background": "light"
          }
        }
      ]
    },
    {
      "cell_type": "markdown",
      "metadata": {
        "id": "W2HfyZRqodwv"
      },
      "source": [
        "## Text Files"
      ]
    },
    {
      "cell_type": "code",
      "metadata": {
        "id": "EvkAmfwPpu8l"
      },
      "source": [
        "# Make directory for files\n",
        "folder_txt = 'ebert_reviews'\n",
        "os.makedirs(folder_txt, exist_ok=True)"
      ],
      "execution_count": null,
      "outputs": []
    },
    {
      "cell_type": "code",
      "metadata": {
        "id": "sUqGPsEjsXQM"
      },
      "source": [
        "ebert_review_urls = ['https://d17h27t6h515a5.cloudfront.net/topher/2017/September/59ad9900_1-the-wizard-of-oz-1939-film/1-the-wizard-of-oz-1939-film.txt',\n",
        "                     'https://d17h27t6h515a5.cloudfront.net/topher/2017/September/59ad9901_2-citizen-kane/2-citizen-kane.txt',\n",
        "                     'https://d17h27t6h515a5.cloudfront.net/topher/2017/September/59ad9901_3-the-third-man/3-the-third-man.txt',\n",
        "                     'https://d17h27t6h515a5.cloudfront.net/topher/2017/September/59ad9902_4-get-out-film/4-get-out-film.txt',\n",
        "                     'https://d17h27t6h515a5.cloudfront.net/topher/2017/September/59ad9902_5-mad-max-fury-road/5-mad-max-fury-road.txt',\n",
        "                     'https://d17h27t6h515a5.cloudfront.net/topher/2017/September/59ad9902_6-the-cabinet-of-dr.-caligari/6-the-cabinet-of-dr.-caligari.txt',\n",
        "                     'https://d17h27t6h515a5.cloudfront.net/topher/2017/September/59ad9903_7-all-about-eve/7-all-about-eve.txt',\n",
        "                     'https://d17h27t6h515a5.cloudfront.net/topher/2017/September/59ad9903_8-inside-out-2015-film/8-inside-out-2015-film.txt',\n",
        "                     'https://d17h27t6h515a5.cloudfront.net/topher/2017/September/59ad9903_9-the-godfather/9-the-godfather.txt',\n",
        "                     'https://d17h27t6h515a5.cloudfront.net/topher/2017/September/59ad9904_10-metropolis-1927-film/10-metropolis-1927-film.txt',\n",
        "                     'https://d17h27t6h515a5.cloudfront.net/topher/2017/September/59ad9904_11-e.t.-the-extra-terrestrial/11-e.t.-the-extra-terrestrial.txt',\n",
        "                     'https://d17h27t6h515a5.cloudfront.net/topher/2017/September/59ad9904_12-modern-times-film/12-modern-times-film.txt',\n",
        "                     'https://d17h27t6h515a5.cloudfront.net/topher/2017/September/59ad9904_14-singin-in-the-rain/14-singin-in-the-rain.txt',\n",
        "                     'https://d17h27t6h515a5.cloudfront.net/topher/2017/September/59ad9905_15-boyhood-film/15-boyhood-film.txt',\n",
        "                     'https://d17h27t6h515a5.cloudfront.net/topher/2017/September/59ad9905_16-casablanca-film/16-casablanca-film.txt',\n",
        "                     'https://d17h27t6h515a5.cloudfront.net/topher/2017/September/59ad9905_17-moonlight-2016-film/17-moonlight-2016-film.txt',\n",
        "                     'https://d17h27t6h515a5.cloudfront.net/topher/2017/September/59ad9906_18-psycho-1960-film/18-psycho-1960-film.txt',\n",
        "                     'https://d17h27t6h515a5.cloudfront.net/topher/2017/September/59ad9906_19-laura-1944-film/19-laura-1944-film.txt',\n",
        "                     'https://d17h27t6h515a5.cloudfront.net/topher/2017/September/59ad9906_20-nosferatu/20-nosferatu.txt',\n",
        "                     'https://d17h27t6h515a5.cloudfront.net/topher/2017/September/59ad9907_21-snow-white-and-the-seven-dwarfs-1937-film/21-snow-white-and-the-seven-dwarfs-1937-film.txt',\n",
        "                     'https://d17h27t6h515a5.cloudfront.net/topher/2017/September/59ad9907_22-a-hard-day27s-night-film/22-a-hard-day27s-night-film.txt',\n",
        "                     'https://d17h27t6h515a5.cloudfront.net/topher/2017/September/59ad9907_23-la-grande-illusion/23-la-grande-illusion.txt',\n",
        "                     'https://d17h27t6h515a5.cloudfront.net/topher/2017/September/59ad9908_25-the-battle-of-algiers/25-the-battle-of-algiers.txt',\n",
        "                     'https://d17h27t6h515a5.cloudfront.net/topher/2017/September/59ad9908_26-dunkirk-2017-film/26-dunkirk-2017-film.txt',\n",
        "                     'https://d17h27t6h515a5.cloudfront.net/topher/2017/September/59ad9908_27-the-maltese-falcon-1941-film/27-the-maltese-falcon-1941-film.txt',\n",
        "                     'https://d17h27t6h515a5.cloudfront.net/topher/2017/September/59ad9909_29-12-years-a-slave-film/29-12-years-a-slave-film.txt',\n",
        "                     'https://d17h27t6h515a5.cloudfront.net/topher/2017/September/59ad9909_30-gravity-2013-film/30-gravity-2013-film.txt',\n",
        "                     'https://d17h27t6h515a5.cloudfront.net/topher/2017/September/59ad9909_31-sunset-boulevard-film/31-sunset-boulevard-film.txt',\n",
        "                     'https://d17h27t6h515a5.cloudfront.net/topher/2017/September/59ad990a_32-king-kong-1933-film/32-king-kong-1933-film.txt',\n",
        "                     'https://d17h27t6h515a5.cloudfront.net/topher/2017/September/59ad990a_33-spotlight-film/33-spotlight-film.txt',\n",
        "                     'https://d17h27t6h515a5.cloudfront.net/topher/2017/September/59ad990a_34-the-adventures-of-robin-hood/34-the-adventures-of-robin-hood.txt',\n",
        "                     'https://d17h27t6h515a5.cloudfront.net/topher/2017/September/59ad990b_35-rashomon/35-rashomon.txt',\n",
        "                     'https://d17h27t6h515a5.cloudfront.net/topher/2017/September/59ad990b_36-rear-window/36-rear-window.txt',\n",
        "                     'https://d17h27t6h515a5.cloudfront.net/topher/2017/September/59ad990b_37-selma-film/37-selma-film.txt',\n",
        "                     'https://d17h27t6h515a5.cloudfront.net/topher/2017/September/59ad990c_38-taxi-driver/38-taxi-driver.txt',\n",
        "                     'https://d17h27t6h515a5.cloudfront.net/topher/2017/September/59ad990c_39-toy-story-3/39-toy-story-3.txt',\n",
        "                     'https://d17h27t6h515a5.cloudfront.net/topher/2017/September/59ad990c_40-argo-2012-film/40-argo-2012-film.txt',\n",
        "                     'https://d17h27t6h515a5.cloudfront.net/topher/2017/September/59ad990d_41-toy-story-2/41-toy-story-2.txt',\n",
        "                     'https://d17h27t6h515a5.cloudfront.net/topher/2017/September/59ad990d_42-the-big-sick/42-the-big-sick.txt',\n",
        "                     'https://d17h27t6h515a5.cloudfront.net/topher/2017/September/59ad990d_43-bride-of-frankenstein/43-bride-of-frankenstein.txt',\n",
        "                     'https://d17h27t6h515a5.cloudfront.net/topher/2017/September/59ad990d_44-zootopia/44-zootopia.txt',\n",
        "                     'https://d17h27t6h515a5.cloudfront.net/topher/2017/September/59ad990e_45-m-1931-film/45-m-1931-film.txt',\n",
        "                     'https://d17h27t6h515a5.cloudfront.net/topher/2017/September/59ad990e_46-wonder-woman-2017-film/46-wonder-woman-2017-film.txt',\n",
        "                     'https://d17h27t6h515a5.cloudfront.net/topher/2017/September/59ad990e_48-alien-film/48-alien-film.txt',\n",
        "                     'https://d17h27t6h515a5.cloudfront.net/topher/2017/September/59ad990f_49-bicycle-thieves/49-bicycle-thieves.txt',\n",
        "                     'https://d17h27t6h515a5.cloudfront.net/topher/2017/September/59ad990f_50-seven-samurai/50-seven-samurai.txt',\n",
        "                     'https://d17h27t6h515a5.cloudfront.net/topher/2017/September/59ad990f_51-the-treasure-of-the-sierra-madre-film/51-the-treasure-of-the-sierra-madre-film.txt',\n",
        "                     'https://d17h27t6h515a5.cloudfront.net/topher/2017/September/59ad9910_52-up-2009-film/52-up-2009-film.txt',\n",
        "                     'https://d17h27t6h515a5.cloudfront.net/topher/2017/September/59ad9910_53-12-angry-men-1957-film/53-12-angry-men-1957-film.txt',\n",
        "                     'https://d17h27t6h515a5.cloudfront.net/topher/2017/September/59ad9910_54-the-400-blows/54-the-400-blows.txt',\n",
        "                     'https://d17h27t6h515a5.cloudfront.net/topher/2017/September/59ad9911_55-logan-film/55-logan-film.txt',\n",
        "                     'https://d17h27t6h515a5.cloudfront.net/topher/2017/September/59ad9911_57-army-of-shadows/57-army-of-shadows.txt',\n",
        "                     'https://d17h27t6h515a5.cloudfront.net/topher/2017/September/59ad9912_58-arrival-film/58-arrival-film.txt',\n",
        "                     'https://d17h27t6h515a5.cloudfront.net/topher/2017/September/59ad9912_59-baby-driver/59-baby-driver.txt',\n",
        "                     'https://d17h27t6h515a5.cloudfront.net/topher/2017/September/59ad9913_60-a-streetcar-named-desire-1951-film/60-a-streetcar-named-desire-1951-film.txt',\n",
        "                     'https://d17h27t6h515a5.cloudfront.net/topher/2017/September/59ad9913_61-the-night-of-the-hunter-film/61-the-night-of-the-hunter-film.txt',\n",
        "                     'https://d17h27t6h515a5.cloudfront.net/topher/2017/September/59ad9913_62-star-wars-the-force-awakens/62-star-wars-the-force-awakens.txt',\n",
        "                     'https://d17h27t6h515a5.cloudfront.net/topher/2017/September/59ad9913_63-manchester-by-the-sea-film/63-manchester-by-the-sea-film.txt',\n",
        "                     'https://d17h27t6h515a5.cloudfront.net/topher/2017/September/59ad9914_64-dr.-strangelove/64-dr.-strangelove.txt',\n",
        "                     'https://d17h27t6h515a5.cloudfront.net/topher/2017/September/59ad9914_66-vertigo-film/66-vertigo-film.txt',\n",
        "                     'https://d17h27t6h515a5.cloudfront.net/topher/2017/September/59ad9914_67-the-dark-knight-film/67-the-dark-knight-film.txt',\n",
        "                     'https://d17h27t6h515a5.cloudfront.net/topher/2017/September/59ad9915_68-touch-of-evil/68-touch-of-evil.txt',\n",
        "                     'https://d17h27t6h515a5.cloudfront.net/topher/2017/September/59ad9915_69-the-babadook/69-the-babadook.txt',\n",
        "                     'https://d17h27t6h515a5.cloudfront.net/topher/2017/September/59ad9915_72-rosemary27s-baby-film/72-rosemary27s-baby-film.txt',\n",
        "                     'https://d17h27t6h515a5.cloudfront.net/topher/2017/September/59ad9916_73-finding-nemo/73-finding-nemo.txt',\n",
        "                     'https://d17h27t6h515a5.cloudfront.net/topher/2017/September/59ad9916_74-brooklyn-film/74-brooklyn-film.txt',\n",
        "                     'https://d17h27t6h515a5.cloudfront.net/topher/2017/September/59ad9917_75-the-wrestler-2008-film/75-the-wrestler-2008-film.txt',\n",
        "                     'https://d17h27t6h515a5.cloudfront.net/topher/2017/September/59ad9917_77-l.a.-confidential-film/77-l.a.-confidential-film.txt',\n",
        "                     'https://d17h27t6h515a5.cloudfront.net/topher/2017/September/59ad9918_78-gone-with-the-wind-film/78-gone-with-the-wind-film.txt',\n",
        "                     'https://d17h27t6h515a5.cloudfront.net/topher/2017/September/59ad9918_79-the-good-the-bad-and-the-ugly/79-the-good-the-bad-and-the-ugly.txt',\n",
        "                     'https://d17h27t6h515a5.cloudfront.net/topher/2017/September/59ad9918_80-skyfall/80-skyfall.txt',\n",
        "                     'https://d17h27t6h515a5.cloudfront.net/topher/2017/September/59ad9919_82-tokyo-story/82-tokyo-story.txt',\n",
        "                     'https://d17h27t6h515a5.cloudfront.net/topher/2017/September/59ad9919_83-hell-or-high-water-film/83-hell-or-high-water-film.txt',\n",
        "                     'https://d17h27t6h515a5.cloudfront.net/topher/2017/September/59ad9919_84-pinocchio-1940-film/84-pinocchio-1940-film.txt',\n",
        "                     'https://d17h27t6h515a5.cloudfront.net/topher/2017/September/59ad9919_85-the-jungle-book-2016-film/85-the-jungle-book-2016-film.txt',\n",
        "                     'https://d17h27t6h515a5.cloudfront.net/topher/2017/September/59ad991a_86-la-la-land-film/86-la-la-land-film.txt',\n",
        "                     'https://d17h27t6h515a5.cloudfront.net/topher/2017/September/59ad991b_87-star-trek-film/87-star-trek-film.txt',\n",
        "                     'https://d17h27t6h515a5.cloudfront.net/topher/2017/September/59ad991b_89-apocalypse-now/89-apocalypse-now.txt',\n",
        "                     'https://d17h27t6h515a5.cloudfront.net/topher/2017/September/59ad991c_90-on-the-waterfront/90-on-the-waterfront.txt',\n",
        "                     'https://d17h27t6h515a5.cloudfront.net/topher/2017/September/59ad991c_91-the-wages-of-fear/91-the-wages-of-fear.txt',\n",
        "                     'https://d17h27t6h515a5.cloudfront.net/topher/2017/September/59ad991c_92-the-last-picture-show/92-the-last-picture-show.txt',\n",
        "                     'https://d17h27t6h515a5.cloudfront.net/topher/2017/September/59ad991d_93-harry-potter-and-the-deathly-hallows-part-2/93-harry-potter-and-the-deathly-hallows-part-2.txt',\n",
        "                     'https://d17h27t6h515a5.cloudfront.net/topher/2017/September/59ad991d_94-the-grapes-of-wrath-film/94-the-grapes-of-wrath-film.txt',\n",
        "                     'https://d17h27t6h515a5.cloudfront.net/topher/2017/September/59ad991d_96-man-on-wire/96-man-on-wire.txt',\n",
        "                     'https://d17h27t6h515a5.cloudfront.net/topher/2017/September/59ad991e_97-jaws-film/97-jaws-film.txt',\n",
        "                     'https://d17h27t6h515a5.cloudfront.net/topher/2017/September/59ad991e_98-toy-story/98-toy-story.txt',\n",
        "                     'https://d17h27t6h515a5.cloudfront.net/topher/2017/September/59ad991e_99-the-godfather-part-ii/99-the-godfather-part-ii.txt',\n",
        "                     'https://d17h27t6h515a5.cloudfront.net/topher/2017/September/59ad991e_100-battleship-potemkin/100-battleship-potemkin.txt']"
      ],
      "execution_count": null,
      "outputs": []
    },
    {
      "cell_type": "code",
      "metadata": {
        "id": "7WJfcTuKsXNN"
      },
      "source": [
        "# Access the content and write to a file\n",
        "for url in ebert_review_urls:\n",
        "  response = requests.get(url)\n",
        "  with open(os.path.join(folder_txt, url.split('/')[-1]), 'wb') as file:\n",
        "    file.write(response.content)"
      ],
      "execution_count": null,
      "outputs": []
    },
    {
      "cell_type": "code",
      "metadata": {
        "id": "JJ1vmILdx0Bh"
      },
      "source": [
        "# List of dictionaries to build file by file and later convert to a DataFrame\n",
        "df_list = []\n",
        "for ebert_review in glob.glob('ebert_reviews/*.txt'):\n",
        "    with open(ebert_review, encoding='utf-8') as file:\n",
        "        title = file.readline()[:-1]\n",
        "        review_url = file.readline()[:-1]\n",
        "        review_text = file.read()\n",
        "        \n",
        "    # Append to list of dictionaries\n",
        "    df_list.append({'title': title,\n",
        "                    'review_url': review_url,\n",
        "                    'review_text': review_text})\n",
        "df = pd.DataFrame(df_list, columns = ['title', 'review_url', 'review_text'])"
      ],
      "execution_count": null,
      "outputs": []
    },
    {
      "cell_type": "code",
      "metadata": {
        "id": "y2npcXB9xz-S",
        "colab": {
          "base_uri": "https://localhost:8080/",
          "height": 206
        },
        "outputId": "cc68a32c-aba4-485a-c9e0-d2fa872af9d4"
      },
      "source": [
        "df.head()"
      ],
      "execution_count": null,
      "outputs": [
        {
          "output_type": "execute_result",
          "data": {
            "text/html": [
              "<div>\n",
              "<style scoped>\n",
              "    .dataframe tbody tr th:only-of-type {\n",
              "        vertical-align: middle;\n",
              "    }\n",
              "\n",
              "    .dataframe tbody tr th {\n",
              "        vertical-align: top;\n",
              "    }\n",
              "\n",
              "    .dataframe thead th {\n",
              "        text-align: right;\n",
              "    }\n",
              "</style>\n",
              "<table border=\"1\" class=\"dataframe\">\n",
              "  <thead>\n",
              "    <tr style=\"text-align: right;\">\n",
              "      <th></th>\n",
              "      <th>title</th>\n",
              "      <th>review_url</th>\n",
              "      <th>review_text</th>\n",
              "    </tr>\n",
              "  </thead>\n",
              "  <tbody>\n",
              "    <tr>\n",
              "      <th>0</th>\n",
              "      <td>Citizen Kane (1941)</td>\n",
              "      <td>http://www.rogerebert.com/reviews/great-movie-...</td>\n",
              "      <td>“I don't think any word can explain a man's li...</td>\n",
              "    </tr>\n",
              "    <tr>\n",
              "      <th>1</th>\n",
              "      <td>On the Waterfront (1954)</td>\n",
              "      <td>http://www.rogerebert.com/reviews/great-movie-...</td>\n",
              "      <td>Conscience. That stuff can drive you nuts.\\n\\n...</td>\n",
              "    </tr>\n",
              "    <tr>\n",
              "      <th>2</th>\n",
              "      <td>Apocalypse Now (1979)</td>\n",
              "      <td>http://www.rogerebert.com/reviews/great-movie-...</td>\n",
              "      <td>Francis Ford Coppola's film \"Apocalypse Now\" w...</td>\n",
              "    </tr>\n",
              "    <tr>\n",
              "      <th>3</th>\n",
              "      <td>Taxi Driver (1976)</td>\n",
              "      <td>http://www.rogerebert.com/reviews/great-movie-...</td>\n",
              "      <td>Are you talkin' to me? Well, I'm the only one ...</td>\n",
              "    </tr>\n",
              "    <tr>\n",
              "      <th>4</th>\n",
              "      <td>Army of Shadows (L'Armée des ombres) (1969)</td>\n",
              "      <td>http://www.rogerebert.com/reviews/great-movie-...</td>\n",
              "      <td>Jean-Pierre Melville's \"Army of Shadows\" is ab...</td>\n",
              "    </tr>\n",
              "  </tbody>\n",
              "</table>\n",
              "</div>"
            ],
            "text/plain": [
              "                                         title  ...                                        review_text\n",
              "0                          Citizen Kane (1941)  ...  “I don't think any word can explain a man's li...\n",
              "1                     On the Waterfront (1954)  ...  Conscience. That stuff can drive you nuts.\\n\\n...\n",
              "2                        Apocalypse Now (1979)  ...  Francis Ford Coppola's film \"Apocalypse Now\" w...\n",
              "3                           Taxi Driver (1976)  ...  Are you talkin' to me? Well, I'm the only one ...\n",
              "4  Army of Shadows (L'Armée des ombres) (1969)  ...  Jean-Pierre Melville's \"Army of Shadows\" is ab...\n",
              "\n",
              "[5 rows x 3 columns]"
            ]
          },
          "metadata": {},
          "execution_count": 16
        }
      ]
    },
    {
      "cell_type": "markdown",
      "metadata": {
        "id": "0WCy_vEFodwv"
      },
      "source": [
        "## JSON Files"
      ]
    },
    {
      "cell_type": "code",
      "metadata": {
        "id": "5wvp9YXQxz7B",
        "outputId": "31091ab6-e35f-4789-b008-2366ec2b6c16",
        "colab": {
          "base_uri": "https://localhost:8080/"
        }
      },
      "source": [
        "! pip install wptools\n",
        "import wptools # MediaWiki API library"
      ],
      "execution_count": 3,
      "outputs": [
        {
          "output_type": "stream",
          "name": "stdout",
          "text": [
            "Collecting wptools\n",
            "  Downloading wptools-0.4.17-py2.py3-none-any.whl (38 kB)\n",
            "Collecting html2text\n",
            "  Downloading html2text-2020.1.16-py3-none-any.whl (32 kB)\n",
            "Requirement already satisfied: lxml in /usr/local/lib/python3.7/dist-packages (from wptools) (4.2.6)\n",
            "Collecting pycurl\n",
            "  Downloading pycurl-7.44.1.tar.gz (227 kB)\n",
            "\u001b[K     |████████████████████████████████| 227 kB 40.0 MB/s \n",
            "\u001b[?25hRequirement already satisfied: certifi in /usr/local/lib/python3.7/dist-packages (from wptools) (2021.5.30)\n",
            "Building wheels for collected packages: pycurl\n",
            "  Building wheel for pycurl (setup.py) ... \u001b[?25l\u001b[?25hdone\n",
            "  Created wheel for pycurl: filename=pycurl-7.44.1-cp37-cp37m-linux_x86_64.whl size=293011 sha256=868f624d779b552216b6330d8f6774218e08e54448b016173b6a7abadddf9113\n",
            "  Stored in directory: /root/.cache/pip/wheels/c5/46/b4/4dc60b406282c22dd4f1ca7da5c949e88aeadb78283123f94d\n",
            "Successfully built pycurl\n",
            "Installing collected packages: pycurl, html2text, wptools\n",
            "Successfully installed html2text-2020.1.16 pycurl-7.44.1 wptools-0.4.17\n"
          ]
        }
      ]
    },
    {
      "cell_type": "code",
      "metadata": {
        "collapsed": true,
        "id": "L76M67CHodww",
        "outputId": "fb25b6a9-f656-4e85-8daa-51a648d29b94",
        "colab": {
          "base_uri": "https://localhost:8080/"
        }
      },
      "source": [
        "# Set up the name of the page\n",
        "page = wptools.page('E.T._the_Extra-Terrestrial').get()\n",
        "# Print the length of the image attribute\n",
        "print('Number of images on the page', len(page.data['image']))"
      ],
      "execution_count": 9,
      "outputs": [
        {
          "output_type": "stream",
          "name": "stderr",
          "text": [
            "en.wikipedia.org (query) E.T._the_Extra-Terrestrial\n",
            "en.wikipedia.org (query) E.T. the Extra-Terrestrial (&plcontinue=...\n",
            "en.wikipedia.org (parse) 73441\n",
            "www.wikidata.org (wikidata) Q11621\n",
            "www.wikidata.org (labels) P3808|P3129|P1562|P2758|Q229009|Q341421...\n",
            "www.wikidata.org (labels) P480|P725|P3145|P214|Q101584521|Q105701...\n",
            "www.wikidata.org (labels) Q93605402|Q505449|Q787131|P2704|P950|Q9...\n",
            "www.wikidata.org (labels) P3203|P3212|P1712|P58|Q105641628|Q78712...\n",
            "www.wikidata.org (labels) Q377616|Q230390|Q20644795|P1804|P1981|P...\n"
          ]
        },
        {
          "output_type": "stream",
          "name": "stdout",
          "text": [
            "Number of images on the page 4\n"
          ]
        },
        {
          "output_type": "stream",
          "name": "stderr",
          "text": [
            "en.wikipedia.org (restbase) /page/summary/E.T._the_Extra-Terrestrial\n",
            "en.wikipedia.org (imageinfo) File:ET logo 3.svg|File:E t the extr...\n",
            "E.T. the Extra-Terrestrial (en) data\n",
            "{\n",
            "  WARNINGS: <dict(1)> extracts\n",
            "  aliases: <list(2)> E.T., ET\n",
            "  assessments: <dict(4)> United States, Film, Science Fiction, Lib...\n",
            "  claims: <dict(123)> P1562, P57, P272, P345, P31, P161, P373, P48...\n",
            "  description: 1982 film by Steven Spielberg\n",
            "  exhtml: <str(485)> <p><i><b>E.T. the Extra-Terrestrial</b></i> i...\n",
            "  exrest: <str(464)> E.T. the Extra-Terrestrial is a 1982 American...\n",
            "  extext: <str(2188)> _**E.T. the Extra-Terrestrial**_ (also known...\n",
            "  extract: <str(3387)> <p class=\"mw-empty-elt\"></p><p><i><b>E.T. t...\n",
            "  image: <list(4)> {'kind': 'parse-image', 'file': 'File:E t the e...\n",
            "  infobox: <dict(18)> name, image, caption, director, producers, w...\n",
            "  iwlinks: <list(7)> https://commons.wikimedia.org/wiki/Category:E...\n",
            "  label: E.T. the Extra-Terrestrial\n",
            "  labels: <dict(242)> P3808, P3129, P1562, P2758, Q229009, Q341421...\n",
            "  length: 97,255\n",
            "  links: <list(572)> 12 Angry Men (1957 film), 12 Monkeys, 12 Year...\n",
            "  modified: <dict(2)> page, wikidata\n",
            "  pageid: 73441\n",
            "  parsetree: <str(119472)> <root><template><title>short descriptio...\n",
            "  random: François Chaumette\n",
            "  redirects: <list(37)> {'pageid': 177061, 'ns': 0, 'title': 'E.T....\n",
            "  requests: <list(11)> query, query, parse, wikidata, labels, labe...\n",
            "  title: E.T._the_Extra-Terrestrial\n",
            "  url: https://en.wikipedia.org/wiki/E.T._the_Extra-Terrestrial\n",
            "  url_raw: <str(67)> https://en.wikipedia.org/wiki/E.T._the_Extra-...\n",
            "  watchers: 344\n",
            "  what: film\n",
            "  wikibase: Q11621\n",
            "  wikidata: <dict(123)> AllMovie title ID (P1562), director (P57),...\n",
            "  wikidata_pageid: 13150\n",
            "  wikidata_url: https://www.wikidata.org/wiki/Q11621\n",
            "  wikitext: <str(96916)> {{short description|1982 film by Steven S...\n",
            "}\n"
          ]
        }
      ]
    },
    {
      "cell_type": "code",
      "metadata": {
        "id": "kRiSt49h6bMS",
        "outputId": "aa5fe507-d68c-4f9b-89e0-c47cff081757",
        "colab": {
          "base_uri": "https://localhost:8080/"
        }
      },
      "source": [
        "# Access the first image in the image attribute of page's data\n",
        "page.data['image'][0]"
      ],
      "execution_count": 22,
      "outputs": [
        {
          "output_type": "execute_result",
          "data": {
            "text/plain": [
              "{'descriptionshorturl': 'https://en.wikipedia.org/w/index.php?curid=7419503',\n",
              " 'descriptionurl': 'https://en.wikipedia.org/wiki/File:E_t_the_extra_terrestrial_ver3.jpg',\n",
              " 'file': 'File:E t the extra terrestrial ver3.jpg',\n",
              " 'height': 394,\n",
              " 'kind': 'parse-image',\n",
              " 'metadata': {'Assessments': {'hidden': '',\n",
              "   'source': 'commons-categories',\n",
              "   'value': ''},\n",
              "  'Attribution': {'hidden': '',\n",
              "   'source': 'commons-desc-page',\n",
              "   'value': '<p>The poster art can or could be obtained from <a href=\"//en.wikipedia.org/wiki/John_Alvin\" title=\"John Alvin\">John Alvin</a>.\\n</p>'},\n",
              "  'Categories': {'hidden': '',\n",
              "   'source': 'commons-categories',\n",
              "   'value': 'All non-free media|E.T. the Extra-Terrestrial|Fair use images of film posters|Files with no machine-readable author|Noindexed pages|Wikipedia non-free files for NFUR review|Wikipedia non-free files with valid backlink'},\n",
              "  'CommonsMetadataExtension': {'hidden': '',\n",
              "   'source': 'extension',\n",
              "   'value': 1.2},\n",
              "  'Copyrighted': {'hidden': '',\n",
              "   'source': 'commons-desc-page',\n",
              "   'value': 'True'},\n",
              "  'Credit': {'hidden': '',\n",
              "   'source': 'commons-desc-page',\n",
              "   'value': '<p>The poster art can or could be obtained from <a href=\"//en.wikipedia.org/wiki/John_Alvin\" title=\"John Alvin\">John Alvin</a>.\\n</p>'},\n",
              "  'DateTime': {'hidden': '',\n",
              "   'source': 'mediawiki-metadata',\n",
              "   'value': '2016-06-04 10:30:46'},\n",
              "  'ImageDescription': {'source': 'commons-desc-page',\n",
              "   'value': '<p>This is a poster for  <i>E.T. the Extra-Terrestrial</i>. <br>The poster art copyright is believed to belong to <a href=\"//en.wikipedia.org/wiki/John_Alvin\" title=\"John Alvin\">John Alvin</a>.\\n</p>'},\n",
              "  'LicenseShortName': {'hidden': '',\n",
              "   'source': 'commons-desc-page',\n",
              "   'value': 'Fair use'},\n",
              "  'LicenseUrl': {'hidden': '',\n",
              "   'source': 'commons-desc-page',\n",
              "   'value': '//en.wikipedia.org/wiki/File:E_t_the_extra_terrestrial_ver3.jpg'},\n",
              "  'NonFree': {'hidden': '', 'source': 'commons-desc-page', 'value': 'true'},\n",
              "  'ObjectName': {'hidden': '',\n",
              "   'source': 'mediawiki-metadata',\n",
              "   'value': 'E t the extra terrestrial ver3'},\n",
              "  'Restrictions': {'hidden': '', 'source': 'commons-desc-page', 'value': ''},\n",
              "  'UsageTerms': {'hidden': '',\n",
              "   'source': 'commons-desc-page',\n",
              "   'value': '<a href=\"//en.wikipedia.org/wiki/Wikipedia:Non-free_use_rationale_guideline\" title=\"Wikipedia:Non-free use rationale guideline\">Fair use</a> of copyrighted material in the context of <a href=\"//en.wikipedia.org/wiki/E.T._the_Extra-Terrestrial\" title=\"E.T. the Extra-Terrestrial\">E.T. the Extra-Terrestrial</a>'}},\n",
              " 'orig': 'E t the extra terrestrial ver3.jpg',\n",
              " 'size': 83073,\n",
              " 'timestamp': '2016-06-04T10:30:46Z',\n",
              " 'title': 'File:E t the extra terrestrial ver3.jpg',\n",
              " 'url': 'https://upload.wikimedia.org/wikipedia/en/6/66/E_t_the_extra_terrestrial_ver3.jpg',\n",
              " 'width': 253}"
            ]
          },
          "metadata": {},
          "execution_count": 22
        }
      ]
    },
    {
      "cell_type": "code",
      "metadata": {
        "id": "eTHkg8HU6n3a",
        "outputId": "3e6bcd8e-7847-4cc0-d4d2-51264a4f4d78",
        "colab": {
          "base_uri": "https://localhost:8080/",
          "height": 36
        }
      },
      "source": [
        "# Access the director key of the inbox attribute\n",
        "page.data['infobox']['director']"
      ],
      "execution_count": 26,
      "outputs": [
        {
          "output_type": "execute_result",
          "data": {
            "application/vnd.google.colaboratory.intrinsic+json": {
              "type": "string"
            },
            "text/plain": [
              "'[[Steven Spielberg]]'"
            ]
          },
          "metadata": {},
          "execution_count": 26
        }
      ]
    },
    {
      "cell_type": "code",
      "metadata": {
        "id": "gJtPnA5j7yAp"
      },
      "source": [
        "from PIL import Image\n",
        "from io import BytesIO"
      ],
      "execution_count": 27,
      "outputs": []
    },
    {
      "cell_type": "code",
      "metadata": {
        "id": "Hl335JwP_S5-"
      },
      "source": [
        "title_list = [\n",
        " 'The_Wizard_of_Oz_(1939_film)',\n",
        " 'Citizen_Kane',\n",
        " 'The_Third_Man',\n",
        " 'Get_Out_(film)',\n",
        " 'Mad_Max:_Fury_Road',\n",
        " 'The_Cabinet_of_Dr._Caligari',\n",
        " 'All_About_Eve',\n",
        " 'Inside_Out_(2015_film)',\n",
        " 'The_Godfather',\n",
        " 'Metropolis_(1927_film)',\n",
        " 'E.T._the_Extra-Terrestrial',\n",
        " 'Modern_Times_(film)',\n",
        " 'It_Happened_One_Night',\n",
        " \"Singin'_in_the_Rain\",\n",
        " 'Boyhood_(film)',\n",
        " 'Casablanca_(film)',\n",
        " 'Moonlight_(2016_film)',\n",
        " 'Psycho_(1960_film)',\n",
        " 'Laura_(1944_film)',\n",
        " 'Nosferatu',\n",
        " 'Snow_White_and_the_Seven_Dwarfs_(1937_film)',\n",
        " \"A_Hard_Day%27s_Night_(film)\",\n",
        " 'La_Grande_Illusion',\n",
        " 'North_by_Northwest',\n",
        " 'The_Battle_of_Algiers',\n",
        " 'Dunkirk_(2017_film)',\n",
        " 'The_Maltese_Falcon_(1941_film)',\n",
        " 'Repulsion_(film)',\n",
        " '12_Years_a_Slave_(film)',\n",
        " 'Gravity_(2013_film)',\n",
        " 'Sunset_Boulevard_(film)',\n",
        " 'King_Kong_(1933_film)',\n",
        " 'Spotlight_(film)',\n",
        " 'The_Adventures_of_Robin_Hood',\n",
        " 'Rashomon',\n",
        " 'Rear_Window',\n",
        " 'Selma_(film)',\n",
        " 'Taxi_Driver',\n",
        " 'Toy_Story_3',\n",
        " 'Argo_(2012_film)',\n",
        " 'Toy_Story_2',\n",
        " 'The_Big_Sick',\n",
        " 'Bride_of_Frankenstein',\n",
        " 'Zootopia',\n",
        " 'M_(1931_film)',\n",
        " 'Wonder_Woman_(2017_film)',\n",
        " 'The_Philadelphia_Story_(film)',\n",
        " 'Alien_(film)',\n",
        " 'Bicycle_Thieves',\n",
        " 'Seven_Samurai',\n",
        " 'The_Treasure_of_the_Sierra_Madre_(film)',\n",
        " 'Up_(2009_film)',\n",
        " '12_Angry_Men_(1957_film)',\n",
        " 'The_400_Blows',\n",
        " 'Logan_(film)',\n",
        " 'All_Quiet_on_the_Western_Front_(1930_film)',\n",
        " 'Army_of_Shadows',\n",
        " 'Arrival_(film)',\n",
        " 'Baby_Driver',\n",
        " 'A_Streetcar_Named_Desire_(1951_film)',\n",
        " 'The_Night_of_the_Hunter_(film)',\n",
        " 'Star_Wars:_The_Force_Awakens',\n",
        " 'Manchester_by_the_Sea_(film)',\n",
        " 'Dr._Strangelove',\n",
        " 'Frankenstein_(1931_film)',\n",
        " 'Vertigo_(film)',\n",
        " 'The_Dark_Knight_(film)',\n",
        " 'Touch_of_Evil',\n",
        " 'The_Babadook',\n",
        " 'The_Conformist_(film)',\n",
        " 'Rebecca_(1940_film)',\n",
        " \"Rosemary%27s_Baby_(film)\",\n",
        " 'Finding_Nemo',\n",
        " 'Brooklyn_(film)',\n",
        " 'The_Wrestler_(2008_film)',\n",
        " 'The_39_Steps_(1935_film)',\n",
        " 'L.A._Confidential_(film)',\n",
        " 'Gone_with_the_Wind_(film)',\n",
        " 'The_Good,_the_Bad_and_the_Ugly',\n",
        " 'Skyfall',\n",
        " 'Rome,_Open_City',\n",
        " 'Tokyo_Story',\n",
        " 'Hell_or_High_Water_(film)',\n",
        " 'Pinocchio_(1940_film)',\n",
        " 'The_Jungle_Book_(2016_film)',\n",
        " 'La_La_Land_(film)',\n",
        " 'Star_Trek_(film)',\n",
        " 'High_Noon',\n",
        " 'Apocalypse_Now',\n",
        " 'On_the_Waterfront',\n",
        " 'The_Wages_of_Fear',\n",
        " 'The_Last_Picture_Show',\n",
        " 'Harry_Potter_and_the_Deathly_Hallows_–_Part_2',\n",
        " 'The_Grapes_of_Wrath_(film)',\n",
        " 'Roman_Holiday',\n",
        " 'Man_on_Wire',\n",
        " 'Jaws_(film)',\n",
        " 'Toy_Story',\n",
        " 'The_Godfather_Part_II',\n",
        " 'Battleship_Potemkin'\n",
        "]"
      ],
      "execution_count": 28,
      "outputs": []
    },
    {
      "cell_type": "code",
      "metadata": {
        "id": "z7l7j9Va_Vno"
      },
      "source": [
        "folder_name = 'bestofrt_posters'\n",
        "# Make directory for images\n",
        "os.makedirs(folder_name, exist_ok=True)"
      ],
      "execution_count": 29,
      "outputs": []
    },
    {
      "cell_type": "code",
      "metadata": {
        "id": "m3_X1jRB_lTQ",
        "outputId": "0b93ead8-1e8f-43b4-9328-eaee7b1335a0",
        "colab": {
          "base_uri": "https://localhost:8080/"
        }
      },
      "source": [
        "# List of dictionaries to build and convert to a DataFrame later\n",
        "df_list = []\n",
        "image_errors = {}\n",
        "for title in title_list:\n",
        "    try:\n",
        "        # This cell is slow so print ranking to gauge time remaining\n",
        "        ranking = title_list.index(title) + 1\n",
        "        print(ranking)\n",
        "        page = wptools.page(title, silent=True).get()\n",
        "        # Access images\n",
        "        images = page.data['image']\n",
        "        # First image is usually the poster\n",
        "        first_image_url = images[0]['url']\n",
        "        r = requests.get(first_image_url)\n",
        "        # Download movie poster image\n",
        "        i = Image.open(BytesIO(r.content))\n",
        "        image_file_format = first_image_url.split('.')[-1]\n",
        "        i.save(folder_name + \"/\" + str(ranking) + \"_\" + title + '.' + image_file_format)\n",
        "        # Append to list of dictionaries\n",
        "        df_list.append({'ranking': int(ranking),\n",
        "                        'title': title,\n",
        "                        'poster_url': first_image_url})\n",
        "    \n",
        "    # Not best practice to catch all exceptions but fine for this short script\n",
        "    except Exception as e:\n",
        "        print(str(ranking) + \"_\" + title + \": \" + str(e))\n",
        "        image_errors[str(ranking) + \"_\" + title] = images"
      ],
      "execution_count": 30,
      "outputs": [
        {
          "output_type": "stream",
          "name": "stdout",
          "text": [
            "1\n",
            "2\n",
            "3\n",
            "3_The_Third_Man: cannot identify image file <_io.BytesIO object at 0x7ffa031c2fb0>\n",
            "4\n",
            "5\n",
            "6\n",
            "7\n",
            "7_All_About_Eve: cannot identify image file <_io.BytesIO object at 0x7ffa03196b90>\n",
            "8\n",
            "9\n",
            "10\n",
            "11\n",
            "12\n",
            "13\n",
            "13_It_Happened_One_Night: cannot identify image file <_io.BytesIO object at 0x7ffa03196dd0>\n",
            "14\n",
            "14_Singin'_in_the_Rain: cannot identify image file <_io.BytesIO object at 0x7ffa044484d0>\n",
            "15\n",
            "15_Boyhood_(film): 'image'\n",
            "16\n",
            "17\n",
            "18\n",
            "18_Psycho_(1960_film): cannot identify image file <_io.BytesIO object at 0x7ffa0314d2f0>\n",
            "19\n",
            "19_Laura_(1944_film): cannot identify image file <_io.BytesIO object at 0x7ffa02826bf0>\n",
            "20\n",
            "21\n",
            "22\n",
            "22_A_Hard_Day%27s_Night_(film): https://en.wikipedia.org/w/api.php?action=parse&formatversion=2&contentmodel=text&disableeditsection=&disablelimitreport=&disabletoc=&prop=text|iwlinks|parsetree|wikitext|displaytitle|properties&redirects&page=A_Hard_Day%2527s_Night_%28film%29\n",
            "23\n"
          ]
        },
        {
          "output_type": "stream",
          "name": "stderr",
          "text": [
            "API error: {'code': 'invalidtitle', 'info': 'Bad title \"A_Hard_Day%27s_Night_(film)\".', 'docref': 'See https://en.wikipedia.org/w/api.php for API usage. Subscribe to the mediawiki-api-announce mailing list at &lt;https://lists.wikimedia.org/postorius/lists/mediawiki-api-announce.lists.wikimedia.org/&gt; for notice of API deprecations and breaking changes.'}\n"
          ]
        },
        {
          "output_type": "stream",
          "name": "stdout",
          "text": [
            "24\n",
            "24_North_by_Northwest: cannot identify image file <_io.BytesIO object at 0x7ffa03133b30>\n",
            "25\n",
            "26\n",
            "27\n",
            "27_The_Maltese_Falcon_(1941_film): cannot identify image file <_io.BytesIO object at 0x7ffa028242f0>\n",
            "28\n",
            "29\n",
            "30\n",
            "31\n",
            "32\n",
            "33\n",
            "34\n",
            "34_The_Adventures_of_Robin_Hood: cannot identify image file <_io.BytesIO object at 0x7ffa027ebcb0>\n",
            "35\n",
            "35_Rashomon: cannot identify image file <_io.BytesIO object at 0x7ffa02860bf0>\n",
            "36\n",
            "37\n",
            "38\n",
            "39\n",
            "40\n",
            "41\n",
            "42\n",
            "43\n",
            "43_Bride_of_Frankenstein: cannot identify image file <_io.BytesIO object at 0x7ffa0317ee30>\n",
            "44\n",
            "45\n",
            "46\n",
            "47\n",
            "48\n",
            "49\n",
            "50\n",
            "51\n",
            "51_The_Treasure_of_the_Sierra_Madre_(film): cannot identify image file <_io.BytesIO object at 0x7ffa03ab5c50>\n",
            "52\n",
            "53\n",
            "53_12_Angry_Men_(1957_film): cannot identify image file <_io.BytesIO object at 0x7ffa0314c290>\n",
            "54\n",
            "55\n",
            "56\n",
            "56_All_Quiet_on_the_Western_Front_(1930_film): cannot identify image file <_io.BytesIO object at 0x7ffa0317ed10>\n",
            "57\n",
            "57_Army_of_Shadows: cannot identify image file <_io.BytesIO object at 0x7ffa028126b0>\n",
            "58\n",
            "59\n",
            "60\n",
            "60_A_Streetcar_Named_Desire_(1951_film): cannot identify image file <_io.BytesIO object at 0x7ffa0279eb30>\n",
            "61\n",
            "61_The_Night_of_the_Hunter_(film): cannot identify image file <_io.BytesIO object at 0x7ffa0317ed10>\n",
            "62\n",
            "63\n",
            "64\n",
            "65\n",
            "66\n",
            "67\n",
            "68\n",
            "68_Touch_of_Evil: cannot identify image file <_io.BytesIO object at 0x7ffa02863dd0>\n",
            "69\n",
            "70\n",
            "71\n",
            "71_Rebecca_(1940_film): cannot identify image file <_io.BytesIO object at 0x7ffa043e22f0>\n",
            "72\n",
            "72_Rosemary%27s_Baby_(film): https://en.wikipedia.org/w/api.php?action=parse&formatversion=2&contentmodel=text&disableeditsection=&disablelimitreport=&disabletoc=&prop=text|iwlinks|parsetree|wikitext|displaytitle|properties&redirects&page=Rosemary%2527s_Baby_%28film%29\n",
            "73\n"
          ]
        },
        {
          "output_type": "stream",
          "name": "stderr",
          "text": [
            "API error: {'code': 'invalidtitle', 'info': 'Bad title \"Rosemary%27s_Baby_(film)\".', 'docref': 'See https://en.wikipedia.org/w/api.php for API usage. Subscribe to the mediawiki-api-announce mailing list at &lt;https://lists.wikimedia.org/postorius/lists/mediawiki-api-announce.lists.wikimedia.org/&gt; for notice of API deprecations and breaking changes.'}\n"
          ]
        },
        {
          "output_type": "stream",
          "name": "stdout",
          "text": [
            "74\n",
            "75\n",
            "76\n",
            "77\n",
            "78\n",
            "79\n",
            "80\n",
            "81\n",
            "82\n",
            "82_Tokyo_Story: cannot identify image file <_io.BytesIO object at 0x7ffa043e2230>\n",
            "83\n",
            "84\n",
            "85\n",
            "86\n",
            "87\n",
            "88\n",
            "88_High_Noon: cannot identify image file <_io.BytesIO object at 0x7ffa043e22f0>\n",
            "89\n",
            "90\n",
            "90_On_the_Waterfront: cannot identify image file <_io.BytesIO object at 0x7ffa026e3530>\n",
            "91\n",
            "92\n",
            "93\n",
            "94\n",
            "94_The_Grapes_of_Wrath_(film): cannot identify image file <_io.BytesIO object at 0x7ffa031f8d70>\n",
            "95\n",
            "96\n",
            "96_Man_on_Wire: cannot identify image file <_io.BytesIO object at 0x7ffa0317e110>\n",
            "97\n",
            "98\n",
            "99\n",
            "100\n",
            "100_Battleship_Potemkin: cannot identify image file <_io.BytesIO object at 0x7ffa031d1830>\n"
          ]
        }
      ]
    },
    {
      "cell_type": "code",
      "metadata": {
        "id": "FZ1QJIVxEtG3",
        "outputId": "6b9c1f8d-4da6-4b51-840d-fa3233fbbc84",
        "colab": {
          "base_uri": "https://localhost:8080/"
        }
      },
      "source": [
        "for key in image_errors.keys():\n",
        "    print(key)"
      ],
      "execution_count": 32,
      "outputs": [
        {
          "output_type": "stream",
          "name": "stdout",
          "text": [
            "3_The_Third_Man\n",
            "7_All_About_Eve\n",
            "13_It_Happened_One_Night\n",
            "14_Singin'_in_the_Rain\n",
            "15_Boyhood_(film)\n",
            "18_Psycho_(1960_film)\n",
            "19_Laura_(1944_film)\n",
            "22_A_Hard_Day%27s_Night_(film)\n",
            "24_North_by_Northwest\n",
            "27_The_Maltese_Falcon_(1941_film)\n",
            "34_The_Adventures_of_Robin_Hood\n",
            "35_Rashomon\n",
            "43_Bride_of_Frankenstein\n",
            "51_The_Treasure_of_the_Sierra_Madre_(film)\n",
            "53_12_Angry_Men_(1957_film)\n",
            "56_All_Quiet_on_the_Western_Front_(1930_film)\n",
            "57_Army_of_Shadows\n",
            "60_A_Streetcar_Named_Desire_(1951_film)\n",
            "61_The_Night_of_the_Hunter_(film)\n",
            "68_Touch_of_Evil\n",
            "71_Rebecca_(1940_film)\n",
            "72_Rosemary%27s_Baby_(film)\n",
            "82_Tokyo_Story\n",
            "88_High_Noon\n",
            "90_On_the_Waterfront\n",
            "94_The_Grapes_of_Wrath_(film)\n",
            "96_Man_on_Wire\n",
            "100_Battleship_Potemkin\n"
          ]
        }
      ]
    },
    {
      "cell_type": "code",
      "metadata": {
        "id": "O0kiISe-Fodm",
        "outputId": "805b97e9-b613-405f-c22d-34503e168279",
        "colab": {
          "base_uri": "https://localhost:8080/"
        }
      },
      "source": [
        "len(image_errors)"
      ],
      "execution_count": 33,
      "outputs": [
        {
          "output_type": "execute_result",
          "data": {
            "text/plain": [
              "28"
            ]
          },
          "metadata": {},
          "execution_count": 33
        }
      ]
    },
    {
      "cell_type": "code",
      "metadata": {
        "id": "SB6CUv5aBkmX",
        "outputId": "3f0d5642-5c9d-4907-e72c-f794bc63da0e",
        "colab": {
          "base_uri": "https://localhost:8080/",
          "height": 423
        }
      },
      "source": [
        "# Create DataFrame from list of dictionaries\n",
        "df = pd.DataFrame(df_list, columns = ['ranking', 'title', 'poster_url'])\n",
        "df = df.sort_values('ranking').reset_index(drop=True)\n",
        "df"
      ],
      "execution_count": 31,
      "outputs": [
        {
          "output_type": "execute_result",
          "data": {
            "text/html": [
              "<div>\n",
              "<style scoped>\n",
              "    .dataframe tbody tr th:only-of-type {\n",
              "        vertical-align: middle;\n",
              "    }\n",
              "\n",
              "    .dataframe tbody tr th {\n",
              "        vertical-align: top;\n",
              "    }\n",
              "\n",
              "    .dataframe thead th {\n",
              "        text-align: right;\n",
              "    }\n",
              "</style>\n",
              "<table border=\"1\" class=\"dataframe\">\n",
              "  <thead>\n",
              "    <tr style=\"text-align: right;\">\n",
              "      <th></th>\n",
              "      <th>ranking</th>\n",
              "      <th>title</th>\n",
              "      <th>poster_url</th>\n",
              "    </tr>\n",
              "  </thead>\n",
              "  <tbody>\n",
              "    <tr>\n",
              "      <th>0</th>\n",
              "      <td>1</td>\n",
              "      <td>The_Wizard_of_Oz_(1939_film)</td>\n",
              "      <td>https://upload.wikimedia.org/wikipedia/commons...</td>\n",
              "    </tr>\n",
              "    <tr>\n",
              "      <th>1</th>\n",
              "      <td>2</td>\n",
              "      <td>Citizen_Kane</td>\n",
              "      <td>https://upload.wikimedia.org/wikipedia/commons...</td>\n",
              "    </tr>\n",
              "    <tr>\n",
              "      <th>2</th>\n",
              "      <td>4</td>\n",
              "      <td>Get_Out_(film)</td>\n",
              "      <td>https://upload.wikimedia.org/wikipedia/en/a/a3...</td>\n",
              "    </tr>\n",
              "    <tr>\n",
              "      <th>3</th>\n",
              "      <td>5</td>\n",
              "      <td>Mad_Max:_Fury_Road</td>\n",
              "      <td>https://upload.wikimedia.org/wikipedia/en/6/6e...</td>\n",
              "    </tr>\n",
              "    <tr>\n",
              "      <th>4</th>\n",
              "      <td>6</td>\n",
              "      <td>The_Cabinet_of_Dr._Caligari</td>\n",
              "      <td>https://upload.wikimedia.org/wikipedia/en/2/2f...</td>\n",
              "    </tr>\n",
              "    <tr>\n",
              "      <th>...</th>\n",
              "      <td>...</td>\n",
              "      <td>...</td>\n",
              "      <td>...</td>\n",
              "    </tr>\n",
              "    <tr>\n",
              "      <th>67</th>\n",
              "      <td>93</td>\n",
              "      <td>Harry_Potter_and_the_Deathly_Hallows_–_Part_2</td>\n",
              "      <td>https://upload.wikimedia.org/wikipedia/en/d/df...</td>\n",
              "    </tr>\n",
              "    <tr>\n",
              "      <th>68</th>\n",
              "      <td>95</td>\n",
              "      <td>Roman_Holiday</td>\n",
              "      <td>https://upload.wikimedia.org/wikipedia/commons...</td>\n",
              "    </tr>\n",
              "    <tr>\n",
              "      <th>69</th>\n",
              "      <td>97</td>\n",
              "      <td>Jaws_(film)</td>\n",
              "      <td>https://upload.wikimedia.org/wikipedia/en/e/eb...</td>\n",
              "    </tr>\n",
              "    <tr>\n",
              "      <th>70</th>\n",
              "      <td>98</td>\n",
              "      <td>Toy_Story</td>\n",
              "      <td>https://upload.wikimedia.org/wikipedia/en/1/13...</td>\n",
              "    </tr>\n",
              "    <tr>\n",
              "      <th>71</th>\n",
              "      <td>99</td>\n",
              "      <td>The_Godfather_Part_II</td>\n",
              "      <td>https://upload.wikimedia.org/wikipedia/en/0/03...</td>\n",
              "    </tr>\n",
              "  </tbody>\n",
              "</table>\n",
              "<p>72 rows × 3 columns</p>\n",
              "</div>"
            ],
            "text/plain": [
              "    ranking  ...                                         poster_url\n",
              "0         1  ...  https://upload.wikimedia.org/wikipedia/commons...\n",
              "1         2  ...  https://upload.wikimedia.org/wikipedia/commons...\n",
              "2         4  ...  https://upload.wikimedia.org/wikipedia/en/a/a3...\n",
              "3         5  ...  https://upload.wikimedia.org/wikipedia/en/6/6e...\n",
              "4         6  ...  https://upload.wikimedia.org/wikipedia/en/2/2f...\n",
              "..      ...  ...                                                ...\n",
              "67       93  ...  https://upload.wikimedia.org/wikipedia/en/d/df...\n",
              "68       95  ...  https://upload.wikimedia.org/wikipedia/commons...\n",
              "69       97  ...  https://upload.wikimedia.org/wikipedia/en/e/eb...\n",
              "70       98  ...  https://upload.wikimedia.org/wikipedia/en/1/13...\n",
              "71       99  ...  https://upload.wikimedia.org/wikipedia/en/0/03...\n",
              "\n",
              "[72 rows x 3 columns]"
            ]
          },
          "metadata": {},
          "execution_count": 31
        }
      ]
    },
    {
      "cell_type": "markdown",
      "metadata": {
        "id": "wwEwa8vwOJFT"
      },
      "source": [
        "### Relational Databases in Python"
      ]
    },
    {
      "cell_type": "code",
      "metadata": {
        "id": "B0MZ8ay6EJsu"
      },
      "source": [
        "# Import dependencies\n",
        "from sqlalchemy import create_engine"
      ],
      "execution_count": 34,
      "outputs": []
    },
    {
      "cell_type": "code",
      "metadata": {
        "id": "99AxKq-UN07z"
      },
      "source": [
        "# Create SQLAlchemy Engine and empty bestofrt database\n",
        "# bestofrt.db will not show up in the Jupyter Notebook dashboard yet\n",
        "engine = create_engine('sqlite:///bestofrt.db')"
      ],
      "execution_count": 35,
      "outputs": []
    },
    {
      "cell_type": "code",
      "metadata": {
        "id": "oeZx49xxN-Tz"
      },
      "source": [
        "# Store cleaned master DataFrame ('df') in a table called master in bestofrt.db\n",
        "# bestofrt.db will be visible now in the Jupyter Notebook dashboard\n",
        "df.to_sql('master', engine, index=False)"
      ],
      "execution_count": 36,
      "outputs": []
    },
    {
      "cell_type": "code",
      "metadata": {
        "id": "vzUXm-24OHES",
        "outputId": "75658c35-2ecc-4ee7-c9c5-c443a6d65af9",
        "colab": {
          "base_uri": "https://localhost:8080/",
          "height": 206
        }
      },
      "source": [
        "# Read database data into a pandas DataFrame\n",
        "df_gather = pd.read_sql('SELECT * FROM master', engine)\n",
        "df_gather.head()"
      ],
      "execution_count": 37,
      "outputs": [
        {
          "output_type": "execute_result",
          "data": {
            "text/html": [
              "<div>\n",
              "<style scoped>\n",
              "    .dataframe tbody tr th:only-of-type {\n",
              "        vertical-align: middle;\n",
              "    }\n",
              "\n",
              "    .dataframe tbody tr th {\n",
              "        vertical-align: top;\n",
              "    }\n",
              "\n",
              "    .dataframe thead th {\n",
              "        text-align: right;\n",
              "    }\n",
              "</style>\n",
              "<table border=\"1\" class=\"dataframe\">\n",
              "  <thead>\n",
              "    <tr style=\"text-align: right;\">\n",
              "      <th></th>\n",
              "      <th>ranking</th>\n",
              "      <th>title</th>\n",
              "      <th>poster_url</th>\n",
              "    </tr>\n",
              "  </thead>\n",
              "  <tbody>\n",
              "    <tr>\n",
              "      <th>0</th>\n",
              "      <td>1</td>\n",
              "      <td>The_Wizard_of_Oz_(1939_film)</td>\n",
              "      <td>https://upload.wikimedia.org/wikipedia/commons...</td>\n",
              "    </tr>\n",
              "    <tr>\n",
              "      <th>1</th>\n",
              "      <td>2</td>\n",
              "      <td>Citizen_Kane</td>\n",
              "      <td>https://upload.wikimedia.org/wikipedia/commons...</td>\n",
              "    </tr>\n",
              "    <tr>\n",
              "      <th>2</th>\n",
              "      <td>4</td>\n",
              "      <td>Get_Out_(film)</td>\n",
              "      <td>https://upload.wikimedia.org/wikipedia/en/a/a3...</td>\n",
              "    </tr>\n",
              "    <tr>\n",
              "      <th>3</th>\n",
              "      <td>5</td>\n",
              "      <td>Mad_Max:_Fury_Road</td>\n",
              "      <td>https://upload.wikimedia.org/wikipedia/en/6/6e...</td>\n",
              "    </tr>\n",
              "    <tr>\n",
              "      <th>4</th>\n",
              "      <td>6</td>\n",
              "      <td>The_Cabinet_of_Dr._Caligari</td>\n",
              "      <td>https://upload.wikimedia.org/wikipedia/en/2/2f...</td>\n",
              "    </tr>\n",
              "  </tbody>\n",
              "</table>\n",
              "</div>"
            ],
            "text/plain": [
              "   ranking  ...                                         poster_url\n",
              "0        1  ...  https://upload.wikimedia.org/wikipedia/commons...\n",
              "1        2  ...  https://upload.wikimedia.org/wikipedia/commons...\n",
              "2        4  ...  https://upload.wikimedia.org/wikipedia/en/a/a3...\n",
              "3        5  ...  https://upload.wikimedia.org/wikipedia/en/6/6e...\n",
              "4        6  ...  https://upload.wikimedia.org/wikipedia/en/2/2f...\n",
              "\n",
              "[5 rows x 3 columns]"
            ]
          },
          "metadata": {},
          "execution_count": 37
        }
      ]
    },
    {
      "cell_type": "code",
      "metadata": {
        "id": "6_6IWAikOW6L"
      },
      "source": [
        ""
      ],
      "execution_count": null,
      "outputs": []
    }
  ]
}