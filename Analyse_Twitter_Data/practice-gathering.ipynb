{
  "nbformat": 4,
  "nbformat_minor": 0,
  "metadata": {
    "kernelspec": {
      "display_name": "Python 3",
      "language": "python",
      "name": "python3"
    },
    "language_info": {
      "codemirror_mode": {
        "name": "ipython",
        "version": 3
      },
      "file_extension": ".py",
      "mimetype": "text/x-python",
      "name": "python",
      "nbconvert_exporter": "python",
      "pygments_lexer": "ipython3",
      "version": "3.6.3"
    },
    "colab": {
      "name": "practice-gathering.ipynb",
      "provenance": [],
      "include_colab_link": true
    }
  },
  "cells": [
    {
      "cell_type": "markdown",
      "metadata": {
        "id": "view-in-github",
        "colab_type": "text"
      },
      "source": [
        "<a href=\"https://colab.research.google.com/github/lustraka/Data_Analysis_Workouts/blob/main/Analyse_Twitter_Data/practice-gathering.ipynb\" target=\"_parent\"><img src=\"https://colab.research.google.com/assets/colab-badge.svg\" alt=\"Open In Colab\"/></a>"
      ]
    },
    {
      "cell_type": "markdown",
      "metadata": {
        "id": "I8Sjp_l-odwr"
      },
      "source": [
        "# Rotten Tomatoes: Top 100 Movies of All Time\n",
        "References:\n",
        "- [Rotten Tomatoes: Top 100](https://www.rottentomatoes.com/top/bestofrt/)"
      ]
    },
    {
      "cell_type": "code",
      "metadata": {
        "id": "tvgSjntmpII5"
      },
      "source": [
        "# Import dependencies\n",
        "import requests\n",
        "import zipfile\n",
        "from bs4 import BeautifulSoup\n",
        "import os\n",
        "import pandas as pd\n",
        "import matplotlib.pyplot as plt"
      ],
      "execution_count": 1,
      "outputs": []
    },
    {
      "cell_type": "markdown",
      "metadata": {
        "id": "LijaSFrmodwt"
      },
      "source": [
        "## Flat Files"
      ]
    },
    {
      "cell_type": "code",
      "metadata": {
        "id": "gk92t5I1odwu",
        "colab": {
          "base_uri": "https://localhost:8080/",
          "height": 206
        },
        "outputId": "b314c7a4-88d3-4acc-fc1e-616b29766b08"
      },
      "source": [
        "path = 'https://d17h27t6h515a5.cloudfront.net/topher/2017/September/59ca594d_bestofrt/'\n",
        "df1 = pd.read_csv(path+'bestofrt.tsv', sep='\\t')\n",
        "df1.head()"
      ],
      "execution_count": 2,
      "outputs": [
        {
          "output_type": "execute_result",
          "data": {
            "text/html": [
              "<div>\n",
              "<style scoped>\n",
              "    .dataframe tbody tr th:only-of-type {\n",
              "        vertical-align: middle;\n",
              "    }\n",
              "\n",
              "    .dataframe tbody tr th {\n",
              "        vertical-align: top;\n",
              "    }\n",
              "\n",
              "    .dataframe thead th {\n",
              "        text-align: right;\n",
              "    }\n",
              "</style>\n",
              "<table border=\"1\" class=\"dataframe\">\n",
              "  <thead>\n",
              "    <tr style=\"text-align: right;\">\n",
              "      <th></th>\n",
              "      <th>ranking</th>\n",
              "      <th>critic_score</th>\n",
              "      <th>title</th>\n",
              "      <th>number_of_critic_ratings</th>\n",
              "    </tr>\n",
              "  </thead>\n",
              "  <tbody>\n",
              "    <tr>\n",
              "      <th>0</th>\n",
              "      <td>1</td>\n",
              "      <td>99</td>\n",
              "      <td>The Wizard of Oz (1939)</td>\n",
              "      <td>110</td>\n",
              "    </tr>\n",
              "    <tr>\n",
              "      <th>1</th>\n",
              "      <td>2</td>\n",
              "      <td>100</td>\n",
              "      <td>Citizen Kane (1941)</td>\n",
              "      <td>75</td>\n",
              "    </tr>\n",
              "    <tr>\n",
              "      <th>2</th>\n",
              "      <td>3</td>\n",
              "      <td>100</td>\n",
              "      <td>The Third Man (1949)</td>\n",
              "      <td>77</td>\n",
              "    </tr>\n",
              "    <tr>\n",
              "      <th>3</th>\n",
              "      <td>4</td>\n",
              "      <td>99</td>\n",
              "      <td>Get Out (2017)</td>\n",
              "      <td>282</td>\n",
              "    </tr>\n",
              "    <tr>\n",
              "      <th>4</th>\n",
              "      <td>5</td>\n",
              "      <td>97</td>\n",
              "      <td>Mad Max: Fury Road (2015)</td>\n",
              "      <td>370</td>\n",
              "    </tr>\n",
              "  </tbody>\n",
              "</table>\n",
              "</div>"
            ],
            "text/plain": [
              "   ranking  critic_score                      title  number_of_critic_ratings\n",
              "0        1            99    The Wizard of Oz (1939)                       110\n",
              "1        2           100        Citizen Kane (1941)                        75\n",
              "2        3           100       The Third Man (1949)                        77\n",
              "3        4            99             Get Out (2017)                       282\n",
              "4        5            97  Mad Max: Fury Road (2015)                       370"
            ]
          },
          "metadata": {},
          "execution_count": 2
        }
      ]
    },
    {
      "cell_type": "markdown",
      "metadata": {
        "id": "w0vz7PgVodwu"
      },
      "source": [
        "## HTML Files"
      ]
    },
    {
      "cell_type": "code",
      "metadata": {
        "id": "sLtQKE9s2hEL"
      },
      "source": [
        "# First: Upload rt-html.zip to the workspace\n",
        "# (copying .zip file using curl didn't work)\n",
        "os.makedirs('rt_html', exist_ok=True)\n",
        "# Extract ZIP file\n",
        "with zipfile.ZipFile('rt-html.zip', 'r') as myzip:\n",
        "  myzip.extractall()"
      ],
      "execution_count": 3,
      "outputs": []
    },
    {
      "cell_type": "code",
      "metadata": {
        "collapsed": true,
        "id": "Lv0BNXFFodwv"
      },
      "source": [
        "# List of dictionaries to build file by file and later convert to a DataFrame\n",
        "df_list = []\n",
        "folder = 'rt_html'\n",
        "for movie_html in os.listdir(folder):\n",
        "    with open(os.path.join(folder, movie_html)) as file:\n",
        "        soup = BeautifulSoup(file, 'lxml')\n",
        "    title = soup.find('title').text[:-len(' - Rotten Tomatoes')].replace(u'\\xa0', u' ')\n",
        "    audience_score = soup.find('div', class_='audience-score meter').find('span').text[:-1]\n",
        "    soup.find('div', class_='audience-score meter').next_sibling()[2].span.extract()\n",
        "    num_audience_ratings = soup.find('div', class_='audience-score meter').next_sibling()[2].text\n",
        "    num_audience_ratings = num_audience_ratings.lstrip().replace(',','')\n",
        "\n",
        "    # Append to list of dictionaries\n",
        "    df_list.append({'title': title,\n",
        "                        'audience_score': int(audience_score),\n",
        "                        'number_of_audience_ratings': int(num_audience_ratings)})\n",
        "df2 = pd.DataFrame(df_list, columns = ['title', 'audience_score', 'number_of_audience_ratings'])"
      ],
      "execution_count": 13,
      "outputs": []
    },
    {
      "cell_type": "code",
      "metadata": {
        "id": "BDVJ06BlHwP7",
        "outputId": "96f4a100-1ff1-4d30-bdc2-dacd7bafde89",
        "colab": {
          "base_uri": "https://localhost:8080/",
          "height": 206
        }
      },
      "source": [
        "df2.head()"
      ],
      "execution_count": 14,
      "outputs": [
        {
          "output_type": "execute_result",
          "data": {
            "text/html": [
              "<div>\n",
              "<style scoped>\n",
              "    .dataframe tbody tr th:only-of-type {\n",
              "        vertical-align: middle;\n",
              "    }\n",
              "\n",
              "    .dataframe tbody tr th {\n",
              "        vertical-align: top;\n",
              "    }\n",
              "\n",
              "    .dataframe thead th {\n",
              "        text-align: right;\n",
              "    }\n",
              "</style>\n",
              "<table border=\"1\" class=\"dataframe\">\n",
              "  <thead>\n",
              "    <tr style=\"text-align: right;\">\n",
              "      <th></th>\n",
              "      <th>title</th>\n",
              "      <th>audience_score</th>\n",
              "      <th>number_of_audience_ratings</th>\n",
              "    </tr>\n",
              "  </thead>\n",
              "  <tbody>\n",
              "    <tr>\n",
              "      <th>0</th>\n",
              "      <td>Selma (2015)</td>\n",
              "      <td>86</td>\n",
              "      <td>60533</td>\n",
              "    </tr>\n",
              "    <tr>\n",
              "      <th>1</th>\n",
              "      <td>Metropolis (1927)</td>\n",
              "      <td>92</td>\n",
              "      <td>62018</td>\n",
              "    </tr>\n",
              "    <tr>\n",
              "      <th>2</th>\n",
              "      <td>Baby Driver (2017)</td>\n",
              "      <td>89</td>\n",
              "      <td>48114</td>\n",
              "    </tr>\n",
              "    <tr>\n",
              "      <th>3</th>\n",
              "      <td>M (1931)</td>\n",
              "      <td>95</td>\n",
              "      <td>35778</td>\n",
              "    </tr>\n",
              "    <tr>\n",
              "      <th>4</th>\n",
              "      <td>Apocalypse Now (1979)</td>\n",
              "      <td>94</td>\n",
              "      <td>284606</td>\n",
              "    </tr>\n",
              "  </tbody>\n",
              "</table>\n",
              "</div>"
            ],
            "text/plain": [
              "                   title  audience_score  number_of_audience_ratings\n",
              "0           Selma (2015)              86                       60533\n",
              "1      Metropolis (1927)              92                       62018\n",
              "2     Baby Driver (2017)              89                       48114\n",
              "3               M (1931)              95                       35778\n",
              "4  Apocalypse Now (1979)              94                      284606"
            ]
          },
          "metadata": {},
          "execution_count": 14
        }
      ]
    },
    {
      "cell_type": "code",
      "metadata": {
        "id": "LqDKAW-oQWdQ",
        "outputId": "f98de0d5-a2a2-4979-817b-1bc335101e5e",
        "colab": {
          "base_uri": "https://localhost:8080/",
          "height": 206
        }
      },
      "source": [
        "df = df1.merge(df2, on='title')\n",
        "df.head()"
      ],
      "execution_count": 17,
      "outputs": [
        {
          "output_type": "execute_result",
          "data": {
            "text/html": [
              "<div>\n",
              "<style scoped>\n",
              "    .dataframe tbody tr th:only-of-type {\n",
              "        vertical-align: middle;\n",
              "    }\n",
              "\n",
              "    .dataframe tbody tr th {\n",
              "        vertical-align: top;\n",
              "    }\n",
              "\n",
              "    .dataframe thead th {\n",
              "        text-align: right;\n",
              "    }\n",
              "</style>\n",
              "<table border=\"1\" class=\"dataframe\">\n",
              "  <thead>\n",
              "    <tr style=\"text-align: right;\">\n",
              "      <th></th>\n",
              "      <th>ranking</th>\n",
              "      <th>critic_score</th>\n",
              "      <th>title</th>\n",
              "      <th>number_of_critic_ratings</th>\n",
              "      <th>audience_score</th>\n",
              "      <th>number_of_audience_ratings</th>\n",
              "    </tr>\n",
              "  </thead>\n",
              "  <tbody>\n",
              "    <tr>\n",
              "      <th>0</th>\n",
              "      <td>1</td>\n",
              "      <td>99</td>\n",
              "      <td>The Wizard of Oz (1939)</td>\n",
              "      <td>110</td>\n",
              "      <td>89</td>\n",
              "      <td>874425</td>\n",
              "    </tr>\n",
              "    <tr>\n",
              "      <th>1</th>\n",
              "      <td>2</td>\n",
              "      <td>100</td>\n",
              "      <td>Citizen Kane (1941)</td>\n",
              "      <td>75</td>\n",
              "      <td>90</td>\n",
              "      <td>157274</td>\n",
              "    </tr>\n",
              "    <tr>\n",
              "      <th>2</th>\n",
              "      <td>3</td>\n",
              "      <td>100</td>\n",
              "      <td>The Third Man (1949)</td>\n",
              "      <td>77</td>\n",
              "      <td>93</td>\n",
              "      <td>53081</td>\n",
              "    </tr>\n",
              "    <tr>\n",
              "      <th>3</th>\n",
              "      <td>4</td>\n",
              "      <td>99</td>\n",
              "      <td>Get Out (2017)</td>\n",
              "      <td>282</td>\n",
              "      <td>87</td>\n",
              "      <td>63837</td>\n",
              "    </tr>\n",
              "    <tr>\n",
              "      <th>4</th>\n",
              "      <td>5</td>\n",
              "      <td>97</td>\n",
              "      <td>Mad Max: Fury Road (2015)</td>\n",
              "      <td>370</td>\n",
              "      <td>86</td>\n",
              "      <td>123937</td>\n",
              "    </tr>\n",
              "  </tbody>\n",
              "</table>\n",
              "</div>"
            ],
            "text/plain": [
              "   ranking  critic_score  ... audience_score  number_of_audience_ratings\n",
              "0        1            99  ...             89                      874425\n",
              "1        2           100  ...             90                      157274\n",
              "2        3           100  ...             93                       53081\n",
              "3        4            99  ...             87                       63837\n",
              "4        5            97  ...             86                      123937\n",
              "\n",
              "[5 rows x 6 columns]"
            ]
          },
          "metadata": {},
          "execution_count": 17
        }
      ]
    },
    {
      "cell_type": "code",
      "metadata": {
        "id": "-Edp6Nt8Pl7o",
        "outputId": "572fcc15-202f-492d-83c8-4bd1116865a0",
        "colab": {
          "base_uri": "https://localhost:8080/",
          "height": 294
        }
      },
      "source": [
        "plt.scatter(df.audience_score, df.critic_score)\n",
        "plt.title('Scatter Plot of Audience Score vs Critics Score')\n",
        "plt.xlabel('Audience Score')\n",
        "plt.ylabel('Critics Score')\n",
        "plt.axvline(df.audience_score.median(), c='m')\n",
        "plt.axhline(df.critic_score.median(), c='m')\n",
        "plt.show()"
      ],
      "execution_count": 24,
      "outputs": [
        {
          "output_type": "display_data",
          "data": {
            "image/png": "[encoded data removed]",
            "text/plain": [
              "<Figure size 432x288 with 1 Axes>"
            ]
          },
          "metadata": {
            "needs_background": "light"
          }
        }
      ]
    },
    {
      "cell_type": "markdown",
      "metadata": {
        "id": "W2HfyZRqodwv"
      },
      "source": [
        "## Text Files"
      ]
    },
    {
      "cell_type": "markdown",
      "metadata": {
        "id": "0WCy_vEFodwv"
      },
      "source": [
        "## JSON Files"
      ]
    },
    {
      "cell_type": "code",
      "metadata": {
        "collapsed": true,
        "id": "L76M67CHodww"
      },
      "source": [
        ""
      ],
      "execution_count": null,
      "outputs": []
    },
    {
      "cell_type": "code",
      "metadata": {
        "collapsed": true,
        "id": "TcYJ_UxXodwx"
      },
      "source": [
        ""
      ],
      "execution_count": null,
      "outputs": []
    }
  ]
}